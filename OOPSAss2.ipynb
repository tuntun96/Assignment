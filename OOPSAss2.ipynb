{
 "cells": [
  {
   "cell_type": "code",
   "execution_count": null,
   "id": "cee20418-fb28-42d7-b2ca-a668b604c858",
   "metadata": {},
   "outputs": [],
   "source": [
    "# Constructor"
   ]
  },
  {
   "cell_type": "code",
   "execution_count": null,
   "id": "c97f4465-1986-4b15-9691-be020d59b4d4",
   "metadata": {},
   "outputs": [],
   "source": [
    "#1. What is a constructor in Python? Explain its purpose and usage."
   ]
  },
  {
   "cell_type": "code",
   "execution_count": null,
   "id": "cea0ec70-52b1-46d9-96ab-f7e9119c7d0d",
   "metadata": {},
   "outputs": [],
   "source": [
    "''' a constructor in Python is a special method used to initialize objects when they are created. It sets up the initial state of the object and \n",
    "ensures that each object starts with the appropriate values. It is defined using __init__ and is an essential part of object-oriented programming\n",
    "in Python.\n",
    "\n",
    "Purpose of a Constructor:\n",
    "Object Initialization: The primary purpose of a constructor is to initialize the object's attributes (i.e., variables) when an instance of the class \n",
    "is created. This ensures that the object starts with valid and meaningful data.\n",
    "\n",
    "Encapsulation: Constructors help encapsulate the initialization logic, ensuring that all objects of a class are created in a consistent state\n",
    "\n",
    "Custom Setup: Besides initializing attributes, constructors can also perform any other setup operations required when an object is created, like\n",
    "opening files, setting up connections, or performing calculations.\n",
    "'''"
   ]
  },
  {
   "cell_type": "code",
   "execution_count": null,
   "id": "dd6938ee-c12c-49c5-a51e-23f1c2eb6671",
   "metadata": {},
   "outputs": [],
   "source": [
    "#2. Differentiate between a parameterless constructor and a parameterized constructor in Python."
   ]
  },
  {
   "cell_type": "code",
   "execution_count": null,
   "id": "4aef9e2e-a2fc-420c-a9a4-5f5b9b23b45c",
   "metadata": {},
   "outputs": [],
   "source": [
    "'''Parameterized Constructor: A parameterized constructor is a constructor that takes one or more arguments. It is used to create an object\n",
    "with custom values for its attributes. Non-Parameterized Constructor: A non-parameterized constructor is a constructor that does not take any\n",
    "arguments.'''"
   ]
  },
  {
   "cell_type": "code",
   "execution_count": null,
   "id": "77ac72cb-235f-4cb1-8fcb-c6842c633a9b",
   "metadata": {},
   "outputs": [],
   "source": [
    "#3. How do you define a constructor in a Python class? Provide an example."
   ]
  },
  {
   "cell_type": "code",
   "execution_count": null,
   "id": "f1ac0939-a6b5-4b73-9c4d-bda2ffbcbf1f",
   "metadata": {},
   "outputs": [],
   "source": [
    "'''\n",
    "In Python, a constructor is defined using the special method __init__. This method is automatically called when an object is created from a class. \n",
    "The purpose of the constructor is to initialize the attributes (instance variables) of the newly created object.\n",
    "\n",
    "The constructor always takes at least one argument, self, which refers to the instance of the class. Additional parameters can be included to \n",
    "initialize the object with specific values at the time of creation.\n",
    "'''\n",
    "class ClassName:\n",
    "    def __init__(self, parameter1, parameter2):\n",
    "        # Initialization of attributes\n",
    "        self.attribute1 = parameter1\n",
    "        self.attribute2 = parameter2\n"
   ]
  },
  {
   "cell_type": "code",
   "execution_count": null,
   "id": "6c37a9a9-3ac5-4e35-ace4-c0887b370eab",
   "metadata": {},
   "outputs": [],
   "source": [
    " #4. Explain the `__init__` method in Python and its role in constructors."
   ]
  },
  {
   "cell_type": "code",
   "execution_count": null,
   "id": "29c0f03e-0b8f-4894-95f2-685f78ebeb98",
   "metadata": {},
   "outputs": [],
   "source": [
    "'''The __init__ method in Python is a special method that serves as the constructor for a class. It is automatically called when a new object (instance)\n",
    "of the class is created. Its primary role is to initialize the object's attributes (instance variables) and set the initial state of the object.\n",
    "\n",
    "Key Points about the __init__ Method:\n",
    "Initialization of Object Attributes: The __init__ method is used to assign values to the instance attributes of the object when it is created.\n",
    "\n",
    "Automatic Invocation: When you create an instance of a class, Python automatically calls the __init__ method. You don’t need to explicitly call it.\n",
    "The self Parameter: The first parameter of __init__ is always self, which refers to the instance being created. This allows the method to modify the \n",
    "attributes of the object.\n",
    "\n",
    "Additional Parameters: Besides self, you can define other parameters in __init__ to accept values that will be used for initializing the object’s \n",
    "attributes.\n",
    "'''"
   ]
  },
  {
   "cell_type": "code",
   "execution_count": null,
   "id": "3aace4b1-c1fd-4b82-95f7-7fac7112732b",
   "metadata": {},
   "outputs": [],
   "source": [
    "'''5. In a class named `Person`, create a constructor that initializes the `name` and `age` attributes. Provide an example of creating an\n",
    "object of this class.'''"
   ]
  },
  {
   "cell_type": "code",
   "execution_count": 10,
   "id": "ed0e67c6-a9ef-4b8d-9580-b7e747f76a90",
   "metadata": {},
   "outputs": [
    {
     "data": {
      "text/plain": [
       "'Person Name : Tuntun and Person Age : 26'"
      ]
     },
     "execution_count": 10,
     "metadata": {},
     "output_type": "execute_result"
    }
   ],
   "source": [
    "class Person:\n",
    "\n",
    "    def __init__(self, name, age):\n",
    "        self.name = name\n",
    "        self.age = age\n",
    "        \n",
    "    def show_details(self):\n",
    "        return f\"Person Name : {self.name} and Person Age : {self.age}\"\n",
    "    \n",
    "tun = Person(\"Tuntun\", 26)\n",
    "tun.show_details()"
   ]
  },
  {
   "cell_type": "code",
   "execution_count": null,
   "id": "734a02ae-076f-4dfb-84bc-d0f96530d8f0",
   "metadata": {},
   "outputs": [],
   "source": [
    " # 6. How can you call a constructor explicitly in Python? Give an example."
   ]
  },
  {
   "cell_type": "code",
   "execution_count": 11,
   "id": "6e4d33b0-3485-41d4-accc-724aad87d49e",
   "metadata": {},
   "outputs": [
    {
     "name": "stdout",
     "output_type": "stream",
     "text": [
      "Car created: 2022 Honda Civic\n",
      "Car created: 2023 Toyota Corolla\n",
      "Updated car: 2023 Toyota Corolla\n"
     ]
    }
   ],
   "source": [
    "class Car:\n",
    "    def __init__(self, brand, model, year):\n",
    "        self.brand = brand\n",
    "        self.model = model\n",
    "        self.year = year\n",
    "        print(f\"Car created: {self.year} {self.brand} {self.model}\")\n",
    "\n",
    "\n",
    "my_car = Car(\"Honda\", \"Civic\", 2022)\n",
    "my_car.__init__(\"Toyota\", \"Corolla\", 2023)\n",
    "\n",
    "print(f\"Updated car: {my_car.year} {my_car.brand} {my_car.model}\")\n"
   ]
  },
  {
   "cell_type": "code",
   "execution_count": null,
   "id": "3e3a3cb9-bd74-4e60-bc0c-cd16d00a230c",
   "metadata": {},
   "outputs": [],
   "source": [
    "#7. What is the significance of the `self` parameter in Python constructors? Explain with an example."
   ]
  },
  {
   "cell_type": "code",
   "execution_count": null,
   "id": "2e077ad9-2572-4f3c-a225-c2ae9cd0ffd5",
   "metadata": {},
   "outputs": [],
   "source": [
    "'''\n",
    "The self parameter in Python constructors (and in all instance methods) is a reference to the current instance of the class. It is used to access and \n",
    "manipulate the attributes and methods of the object being created. The self parameter is crucial for distinguishing between instance-specific data and \n",
    "class-level data.\n",
    "\n",
    "Significance of the self Parameter in Python Constructors:\n",
    "Refers to the Object Itself:The self parameter is a way for the instance to refer to itself within the class. It allows the methods to access and\n",
    "modify the object's attributes(variables).\n",
    "\n",
    "Access to Instance Attributes:self allows you to assign values to the instance's attributes. These attributes are specific to the object, not shared \n",
    "across instances of the class.'''"
   ]
  },
  {
   "cell_type": "code",
   "execution_count": null,
   "id": "b36f7df1-fa3a-43db-9392-346b5425639d",
   "metadata": {},
   "outputs": [],
   "source": [
    "#8. Discuss the concept of default constructors in Python. When are they used?"
   ]
  },
  {
   "cell_type": "code",
   "execution_count": null,
   "id": "bf2639d4-358c-4f91-bb20-5b10b9e695d2",
   "metadata": {},
   "outputs": [],
   "source": [
    "'''\n",
    "In Python, a default constructor is a constructor that does not require any arguments other than self when creating an object. If a class does \n",
    "not define an __init__ method, Python provides an implicit default constructor that simply initializes an empty object.\n",
    "\n",
    "A default constructor is useful when you don't need any specific arguments to initialize an object, and you can assign default values to the instance \n",
    "attributes.\n",
    "'''"
   ]
  },
  {
   "cell_type": "code",
   "execution_count": null,
   "id": "cf0fbad1-f017-437e-a121-8cc497305ec8",
   "metadata": {},
   "outputs": [],
   "source": [
    " ''' 9. Create a Python class called `Rectangle` with a constructor that initializes the `width` and `height` attributes. Provide a method to calculate\n",
    "the area of the rectangle.'''"
   ]
  },
  {
   "cell_type": "code",
   "execution_count": 16,
   "id": "6239f2e1-c399-46e5-9d3d-83d73d0a4512",
   "metadata": {},
   "outputs": [
    {
     "data": {
      "text/plain": [
       "'Area of Rectangle : 150'"
      ]
     },
     "execution_count": 16,
     "metadata": {},
     "output_type": "execute_result"
    }
   ],
   "source": [
    "class Rectangle:\n",
    "\n",
    "    def __init__(self,width, height):\n",
    "        ''' Take Input for rectangle'''\n",
    "        \n",
    "        self.width = width\n",
    "        self.height = height\n",
    "        \n",
    "    def cal_area(self):\n",
    "        ''' It's calculate the area of the rectangle'''\n",
    "        return f\"Area of Rectangle : {self.width*self.height}\"\n",
    "\n",
    "a1 = Rectangle(10, 15)\n",
    "a1.cal_area()"
   ]
  },
  {
   "cell_type": "code",
   "execution_count": null,
   "id": "4801532d-eb1f-44ba-b52e-3960f4aeda16",
   "metadata": {},
   "outputs": [],
   "source": [
    "#10. How can you have multiple constructors in a Python class? Explain with an example."
   ]
  },
  {
   "cell_type": "code",
   "execution_count": 1,
   "id": "8ca16984-7493-4d72-8cf1-d7955238f305",
   "metadata": {},
   "outputs": [
    {
     "name": "stdout",
     "output_type": "stream",
     "text": [
      "x: 1, y: 2\n",
      "x: 3, y: 0\n",
      "x: 0, y: 0\n"
     ]
    }
   ],
   "source": [
    "class MyClass:\n",
    "    def __init__(self, a=None, b=None):\n",
    "        if a is not None and b is not None:\n",
    "            self.x = a\n",
    "            self.y = b\n",
    "        elif a is not None:\n",
    "            self.x = a\n",
    "            self.y = 0 \n",
    "        else:\n",
    "            self.x = 0 \n",
    "            self.y = 0\n",
    "\n",
    "    def display(self):\n",
    "        print(f\"x: {self.x}, y: {self.y}\")\n",
    "\n",
    "\n",
    "obj1 = MyClass(1, 2)  \n",
    "obj2 = MyClass(3)  \n",
    "obj3 = MyClass()      \n",
    "\n",
    "obj1.display()  \n",
    "obj2.display()  \n",
    "obj3.display() \n"
   ]
  },
  {
   "cell_type": "code",
   "execution_count": null,
   "id": "5c592c74-8a26-48b7-822c-eefbf67c24e8",
   "metadata": {},
   "outputs": [],
   "source": [
    "# 11. What is method overloading, and how is it related to constructors in Python?"
   ]
  },
  {
   "cell_type": "code",
   "execution_count": null,
   "id": "203e93d8-e03b-468c-ba9c-307a8b543cae",
   "metadata": {},
   "outputs": [],
   "source": [
    "'''Method overloading refers to the ability of a class to define multiple methods with the same name but different arguments (number or type).'''\n",
    "'''In Python, constructors are implemented using the __init__ method. Python doesn’t support constructor overloading in the same way that languages \n",
    "like Java do. However, we can simulate multiple constructor behaviors in a\n",
    "few ways, similar to method overloading : Using Default Argument, Using Class Methods as Alternative Constructors: "
   ]
  },
  {
   "cell_type": "code",
   "execution_count": null,
   "id": "a597e95c-a098-4db3-85ae-88f6fb1a7bb4",
   "metadata": {},
   "outputs": [],
   "source": [
    "#12. Explain the use of the `super()` function in Python constructors. Provide an example."
   ]
  },
  {
   "cell_type": "code",
   "execution_count": 2,
   "id": "c3693a73-e33f-4051-8e26-335f041e0c0c",
   "metadata": {},
   "outputs": [
    {
     "name": "stdout",
     "output_type": "stream",
     "text": [
      "Person initialized\n",
      "Student initialized\n",
      "Name: Alice, Age: 20\n",
      "Student ID: S12345\n"
     ]
    }
   ],
   "source": [
    "'''The super() function in Python is used to call methods from a parent class (superclass). It is commonly used in inheritance to invoke methods from \n",
    "the superclass, especially in constructors (__init__ methods) when a class is subclassed '''\n",
    "\n",
    "class Person:\n",
    "    def __init__(self, name, age):\n",
    "        self.name = name\n",
    "        self.age = age\n",
    "        print(\"Person initialized\")\n",
    "\n",
    "    def display(self):\n",
    "        print(f\"Name: {self.name}, Age: {self.age}\")\n",
    "\n",
    "class Student(Person):\n",
    "    def __init__(self, name, age, student_id):\n",
    "        \n",
    "        super().__init__(name, age)\n",
    "        self.student_id = student_id\n",
    "        print(\"Student initialized\")\n",
    "\n",
    "    def display(self):\n",
    "        super().display()  \n",
    "        print(f\"Student ID: {self.student_id}\")\n",
    "\n",
    "\n",
    "student = Student(\"Alice\", 20, \"S12345\")\n",
    "student.display()\n"
   ]
  },
  {
   "cell_type": "code",
   "execution_count": null,
   "id": "cf85d71d-c86f-458c-b107-d4775f5b6ceb",
   "metadata": {},
   "outputs": [],
   "source": [
    "'''13. Create a class called `Book` with a constructor that initializes the `title`, `author`, and `published_year` \n",
    "attributes. Provide a method to display book details.'''"
   ]
  },
  {
   "cell_type": "code",
   "execution_count": 10,
   "id": "e4711003-38da-4f1c-9c27-49b9e1100b91",
   "metadata": {},
   "outputs": [
    {
     "data": {
      "text/plain": [
       "' Title : The Love, Auther : Tuntun, Published Year : 2021'"
      ]
     },
     "execution_count": 10,
     "metadata": {},
     "output_type": "execute_result"
    }
   ],
   "source": [
    "class book :\n",
    "\n",
    "    def __init__(self, title, auther, published_year):\n",
    "        self.title = title\n",
    "        self.auther = auther\n",
    "        self.published_year = published_year\n",
    "        \n",
    "    def display_info(self):\n",
    "\n",
    "        return f' Title : {self.title}, Auther : {self.auther}, Published Year : {self.published_year}' \n",
    "\n",
    "# initilize the class\n",
    "\n",
    "book1 = book('The Love', 'Tuntun', 2021)\n",
    "\n",
    "book1.display_info()"
   ]
  },
  {
   "cell_type": "code",
   "execution_count": null,
   "id": "93da1022-1334-45e1-8165-7503975e47bc",
   "metadata": {},
   "outputs": [],
   "source": [
    " #14. Discuss the differences between constructors and regular methods in Python classes."
   ]
  },
  {
   "cell_type": "code",
   "execution_count": null,
   "id": "35c8a12e-7957-462d-8e36-246549acea7f",
   "metadata": {},
   "outputs": [],
   "source": [
    "'''\n",
    "Constructor (__init__):\n",
    "The constructor method is used to initialize the state of an object when it is created.\n",
    "It's automatically called when a new instance of a class is created using the class name.\n",
    "Its primary role is to set up the initial values for the instance's attributes (variables).\n",
    "Regular Methods:\n",
    "Regular methods are functions defined within the class to perform operations or actions related to the class or its instances.\n",
    "They can perform any functionality based on the class's attributes and can be called explicitly by the user.\n",
    "The constructor is defined with the special method name __init__.\n",
    "It is the first method to be called when an instance is created.\n",
    "A constructor does not return anything. Its purpose is just to initialize the object, and it implicitly returns None.\n",
    "\n",
    "Regular Methods:\n",
    "Regular methods are functions defined within the class to perform operations or actions related to the class or its instances.\n",
    "They can perform any functionality based on the class's attributes and can be called explicitly by the user.\n",
    "Regular methods are defined with any valid name (e.g., method_name) and usually include the self parameter as the first argument, \n",
    "allowing access to instance attributes.\n",
    "Regular methods are called explicitly using the dot notation after the object is created.\n",
    "Regular methods can return any value, including None, or perform actions (e.g., printing to the console).\n",
    "'''"
   ]
  },
  {
   "cell_type": "code",
   "execution_count": null,
   "id": "609178f1-90cd-4055-ba16-5fafbeb45dc2",
   "metadata": {},
   "outputs": [],
   "source": [
    "# 15. Explain the role of the `self` parameter in instance variable initialization within a constructor."
   ]
  },
  {
   "cell_type": "code",
   "execution_count": null,
   "id": "2bc979cb-bd33-460c-b692-5a9e7cd68604",
   "metadata": {},
   "outputs": [],
   "source": [
    "'''In Python, the self parameter plays a crucial role in instance variable initialization within a constructor, as it refers to the current instance \n",
    "of the class\n",
    "Referring to the Current Object:\n",
    "The self parameter allows the constructor or any other to reference the instance of the class that is being operated on.\n",
    "When we define an instance variable inside the constructor, you use self to ensure that the variable is associated with the current object, \n",
    "not the class itself.\n",
    "Without self, we would not be able to distinguish between instance-level data (specific to an object) and class-level data (shared across all instances \n",
    "of the class).\n",
    "\n",
    "2. Instance Variable Initialization:\n",
    "In the constructor (__init__), you often initialize instance variables, which are specific to each object created from the class.\n",
    "By using self, each object gets its own copy of the instance variables, meaning changes to one object's instance variables do not affect other objects.\n",
    "These variables are created by assigning values to self.<variable_name>, which ensures they are bound to the specific instance of the class.\n",
    "'''"
   ]
  },
  {
   "cell_type": "code",
   "execution_count": null,
   "id": "e386bbf1-9a39-48c2-8b81-07035cb4479e",
   "metadata": {},
   "outputs": [],
   "source": [
    "#16. How do you prevent a class from having multiple instances by using constructors in Python? Provide an example."
   ]
  },
  {
   "cell_type": "code",
   "execution_count": 1,
   "id": "4412f74c-6369-40e6-8a46-adf1d0f8cd26",
   "metadata": {},
   "outputs": [],
   "source": [
    "'''To prevent a class from having multiple instances in Python, we can implement a singleton pattern. The singleton pattern ensures that only one \n",
    "instance of a class is created, and any subsequent attempts to create an instance return the same existing instance.\n",
    "\n",
    "we can achieve this by controlling the creation of instances in the constructor (__init__) using a class variable to store the instance, and checking \n",
    "whether the instance already exists before creating a new one\n",
    "'''\n",
    "#Singleton Pattern Example:\n",
    "class Singleton:\n",
    "    _instance = None  # Class-level variable to hold the single instance\n",
    "\n",
    "    def __new__(cls, *args, **kwargs):\n",
    "        # Check if an instance already exists\n",
    "        if cls._instance is None:\n",
    "            cls._instance = super().__new__(cls, *args, **kwargs)\n",
    "        return cls._instance\n",
    "\n",
    "    def __init__(self, value):\n",
    "        # Initialize the instance (this is called only once)\n",
    "        if not hasattr(self, 'initialized'):  # Prevent reinitialization\n",
    "            self.value = value\n",
    "            self.initialized = True  # Mark as initialized\n",
    "\n",
    "    def get_value(self):\n",
    "        return self.value"
   ]
  },
  {
   "cell_type": "code",
   "execution_count": null,
   "id": "f0bf6e0c-6cda-4ac4-b74f-ba8227e33bd3",
   "metadata": {},
   "outputs": [],
   "source": [
    "'''17. Create a Python class called `Student` with a constructor that takes a list of subjects as a parameter and \n",
    "initializes the `subjects` attribute. '''"
   ]
  },
  {
   "cell_type": "code",
   "execution_count": 2,
   "id": "88bc4ceb-0129-49e8-ba39-9546c386a08e",
   "metadata": {},
   "outputs": [
    {
     "name": "stdout",
     "output_type": "stream",
     "text": [
      "Subjects: Math, Science, History\n"
     ]
    }
   ],
   "source": [
    "class Student:\n",
    "    def __init__(self, subjects):\n",
    "        # Initialize the 'subjects' attribute with the list passed as an argument\n",
    "        self.subjects = subjects\n",
    "\n",
    "    def display_subjects(self):\n",
    "        # Method to display the subjects\n",
    "        print(\"Subjects:\", \", \".join(self.subjects))\n",
    "\n",
    "\n",
    "# Example usage:\n",
    "# Creating an instance of the Student class with a list of subjects\n",
    "student1 = Student([\"Math\", \"Science\", \"History\"])\n",
    "\n",
    "# Accessing and displaying the subjects\n",
    "student1.display_subjects()  # Output: Subjects: Math, Science, History\n"
   ]
  },
  {
   "cell_type": "code",
   "execution_count": null,
   "id": "f7a2583c-943a-4768-9b6a-7888cc460808",
   "metadata": {},
   "outputs": [],
   "source": [
    "#18. What is the purpose of the `__del__` method in Python classes, and how does it relate to constructors?"
   ]
  },
  {
   "cell_type": "code",
   "execution_count": null,
   "id": "4b8e7e99-bd5e-42c2-a3c3-9b4891b6a14d",
   "metadata": {},
   "outputs": [],
   "source": [
    "'''The __del__ method in Python is a special method, known as a destructor, that is called when an object is about to be destroyed. Its main purpose is\n",
    "to allow for any cleanup or resource deallocation (like closing files or network connections) before the object is removed from memory.\n",
    "                                                                                                                          \n",
    "Purpose of the __del__ Method:\n",
    "Cleanup: The primary purpose of the __del__ method is to define any actions that should be performed just before an object is destroyed. This is \n",
    "typically used for cleanup tasks such as:\n",
    "Closing files or database connections.\n",
    "Releasing any resources that were acquired during the lifetime of the object.\n",
    "Performing other custom cleanup procedures when an object is no longer needed.\n",
    "Automatic Execution: The __del__ method is automatically called when the object’s reference count reaches zero (i.e., when there are no more references\n",
    "to the object). However, the timing of when the __del__ method is invoked is managed by Python’s garbage collection system, and it may not happen \n",
    "immediately after the object goes out of scope.    \n",
    "\n",
    "\"\"\""
   ]
  },
  {
   "cell_type": "code",
   "execution_count": null,
   "id": "dac3789e-f198-4fe9-95f2-6f93e6df24ff",
   "metadata": {},
   "outputs": [],
   "source": [
    "#19. Explain the use of constructor chaining in Python. Provide a practical example."
   ]
  },
  {
   "cell_type": "code",
   "execution_count": 5,
   "id": "121c5ad8-61b0-4405-a6b1-84c37bf18188",
   "metadata": {},
   "outputs": [
    {
     "name": "stdout",
     "output_type": "stream",
     "text": [
      "Animal's name is Buddy\n",
      "Dog's breed is Golden Retriever\n"
     ]
    }
   ],
   "source": [
    "'''Constructor chaining is the concept of calling one constructor from another constructor in a class hierarchy or within the same class. In Python, \n",
    "this can be done by calling another constructor using super() or by explicitly invoking another constructor within the same class or parent class.\n",
    "\n",
    "Use of Constructor Chaining:\n",
    "In Inheritance: When working with class inheritance, a derived class constructor can call the constructor of its base class to initialize the parent \n",
    "class attributes.\n",
    "In Same Class: A class constructor can call another constructor within the same class to avoid code duplication and centralize initialization logic.\n",
    "Constructor Chaining with Inheritance:\n",
    "In object-oriented programming, when a class inherits from another class, the derived class constructor can call the base class constructor to ensure\n",
    "proper initialization of the parent class part of the object. This can be done using super().\n",
    "'''\n",
    "class Animal:\n",
    "    def __init__(self, name):\n",
    "        self.name = name\n",
    "        print(f\"Animal's name is {self.name}\")\n",
    "\n",
    "class Dog(Animal):\n",
    "    def __init__(self, name, breed):\n",
    "        # Calling the constructor of the parent class (Animal)\n",
    "        super().__init__(name)\n",
    "        self.breed = breed\n",
    "        print(f\"Dog's breed is {self.breed}\")\n",
    "\n",
    "# Creating an instance of Dog class\n",
    "dog = Dog(\"Buddy\", \"Golden Retriever\")\n"
   ]
  },
  {
   "cell_type": "code",
   "execution_count": null,
   "id": "198b651e-2965-469b-a4ad-2c7f29099ea5",
   "metadata": {},
   "outputs": [],
   "source": [
    "''' 20. Create a Python class called `Car` with a default constructor that initializes the `make` and `model` \n",
    "attributes. Provide a method to display car information. '''"
   ]
  },
  {
   "cell_type": "code",
   "execution_count": 6,
   "id": "195d7051-15b1-42a2-b2c0-16b3ea127e77",
   "metadata": {},
   "outputs": [
    {
     "name": "stdout",
     "output_type": "stream",
     "text": [
      "Car Make: Toyota\n",
      "Car Model: Corolla\n",
      "Car Make: Unknown\n",
      "Car Model: Unknown\n"
     ]
    }
   ],
   "source": [
    "class Car:\n",
    "    def __init__(self, make=\"Unknown\", model=\"Unknown\"):\n",
    "        # Default constructor initializing make and model attributes\n",
    "        self.make = make\n",
    "        self.model = model\n",
    "\n",
    "    def display_info(self):\n",
    "        # Method to display car information\n",
    "        print(f\"Car Make: {self.make}\")\n",
    "        print(f\"Car Model: {self.model}\")\n",
    "\n",
    "# Example usage:\n",
    "# Creating an instance of the Car class\n",
    "car1 = Car(\"Toyota\", \"Corolla\")\n",
    "\n",
    "# Displaying car information\n",
    "car1.display_info()  # Output: Car Make: Toyota, Car Model: Corolla\n",
    "\n",
    "# Creating another instance with default values\n",
    "car2 = Car()\n",
    "\n",
    "# Displaying car information with default values\n",
    "car2.display_info()  # Output: Car Make: Unknown, Car Model: Unknown\n"
   ]
  },
  {
   "cell_type": "code",
   "execution_count": null,
   "id": "a6aa8458-ba38-4e11-943e-dcd084dde2f8",
   "metadata": {},
   "outputs": [],
   "source": [
    "'''Inheritance:\n",
    " 1. What is inheritance in Python? Explain its significance in object-oriented programming.'''"
   ]
  },
  {
   "cell_type": "code",
   "execution_count": null,
   "id": "e0555aa5-cd2e-4d0b-92a4-65409331a666",
   "metadata": {},
   "outputs": [],
   "source": [
    "'''Inheritance is one of the fundamental concepts of object-oriented programming (OOP). It allows a new class (called the derived class or child class)\n",
    "to inherit attributes and methods from an existing class (called the base class or parent class). This means that the child class can reuse, modify, or \n",
    "extend the functionality of the parent class, promoting code reuse and modularity.\n",
    "\n",
    "Key Features of Inheritance:\n",
    "Reuse of Code: Inheritance allows the child class to inherit methods and properties from the parent class, which avoids redundant code and encourages\n",
    "reusability.\n",
    "Extensibility: You can extend the functionality of the parent class in the child class without modifying the parent class itself. This supports the \n",
    "open/closed principle, one of the SOLID principles in OOP.\n",
    "Method Overriding: The child class can override or modify the behavior of a method that it inherits from the parent class. This is known as method \n",
    "overriding.\n",
    "Access to Parent Class Attributes and Methods: The child class can access parent class attributes and methods using super() or directly via inheritance."
   ]
  },
  {
   "cell_type": "code",
   "execution_count": null,
   "id": "44e7049b-ace2-4e1c-b638-fdc5dd997bec",
   "metadata": {},
   "outputs": [],
   "source": [
    "# 2. Differentiate between single inheritance and multiple inheritance in Python. Provide examples for each."
   ]
  },
  {
   "cell_type": "code",
   "execution_count": null,
   "id": "e3c3645d-577e-475b-87a9-9de0b348d33a",
   "metadata": {},
   "outputs": [],
   "source": [
    "'''\n",
    "Single Inheritance\n",
    "a. Only one parent class\n",
    "b. Simple and straightforward hierarchy\n",
    "c. Reuses code from a single class\n",
    "d. No issues with method resolution\n",
    "e. Best when the child class is a specialized version of one parent class\n",
    "\n",
    "Multiple Inheritance\n",
    "a. More than one parent class\n",
    "b. More complex hierarchy, with potential for ambiguity\n",
    "c. Reuses code from multiple classes\n",
    "d. Potential issues with Method Resolution Order (MRO) and ambiguity\n",
    "e. Best when the child class needs features from multiple classes\n",
    "'''\n",
    "class Animal:\n",
    "    def sound(self):\n",
    "        print(\"Animal makes a sound\")\n",
    "\n",
    "class Dog(Animal):  # Dog inherits from Animal\n",
    "    def bark(self):\n",
    "        print(\"Dog barks\")\n",
    "\n",
    "# Creating an instance of Dog\n",
    "dog = Dog()\n",
    "dog.sound()  # Inherited from Animal class\n",
    "dog.bark()   # Defined in Dog class\n"
   ]
  },
  {
   "cell_type": "code",
   "execution_count": null,
   "id": "f9a61462-e33b-4230-96cc-e6eb9360e747",
   "metadata": {},
   "outputs": [],
   "source": [
    "'''3. Create a Python class called `Vehicle` with attributes `color` and `speed`. Then, create a child class called `Car` that inherits from `Vehicle`\n",
    "and adds a `brand` attribute. Provide an example of creating a `Car` object. '''"
   ]
  },
  {
   "cell_type": "code",
   "execution_count": 26,
   "id": "685048fa-ef83-4504-bc80-f4a27da9df11",
   "metadata": {},
   "outputs": [
    {
     "name": "stdout",
     "output_type": "stream",
     "text": [
      "Vehicle Color: Black\n",
      "Vehicle Speed : 180 km/h.\n",
      "Car Brand Toyta\n"
     ]
    }
   ],
   "source": [
    "class vehicle:\n",
    "    def __init__(self, color, speed):\n",
    "        self.color = color\n",
    "        self.speed = speed\n",
    "\n",
    "    \n",
    "    #Method to display the basic information about the vehicle.\n",
    "    def display_info(self):\n",
    "        print(f\"Vehicle Color: {self.color}\")\n",
    "        print(f\"Vehicle Speed : {self.speed} km/h.\")\n",
    "\n",
    "\n",
    "# child class car that inherits from vehciles.\n",
    "\n",
    "class car(vehicle):\n",
    "    def __init__(self, color, speed, brand):\n",
    "        super().__init__(color, speed)\n",
    "        self.brand = brand\n",
    "\n",
    "    def display_info(self):\n",
    "        #call the parent class dispaly_info menthod to display info\n",
    "        super().display_info()\n",
    "        print( f'Car Brand {self.brand}')\n",
    "\n",
    "\n",
    "#Example \n",
    "\n",
    "my_cars = car(\"Black\", 180, \"Toyta\",)\n",
    "\n",
    "my_cars.display_info()"
   ]
  },
  {
   "cell_type": "code",
   "execution_count": null,
   "id": "5704683f-599f-43a7-ae8d-e6e59814b447",
   "metadata": {},
   "outputs": [],
   "source": [
    "#4. Explain the concept of method overriding in inheritance. Provide a practical example."
   ]
  },
  {
   "cell_type": "code",
   "execution_count": 27,
   "id": "e850430c-9f7b-45ae-a7d3-5a2612fe4d72",
   "metadata": {},
   "outputs": [
    {
     "name": "stdout",
     "output_type": "stream",
     "text": [
      "Car engine started with a roar!\n",
      "Bike engine started with a quiet hum.\n"
     ]
    }
   ],
   "source": [
    "'''\n",
    "Method overriding is a concept in object-oriented programming (OOP) where a subclass provides its own implementation of a method that is already defined\n",
    "in its superclass. When a method in the parent class is redefined in the child class, the child class method \"overrides\" the parent class method.\n",
    "\n",
    "Overriding allows the child class to modify or completely replace the behavior of the parent class's method. This is useful when the subclass needs to\n",
    "change the default behavior of an inherited method or provide specialized functionality.\n",
    "'''\n",
    "\n",
    "# Parent class Vehicle\n",
    "class Vehicle:\n",
    "    def start_engine(self):\n",
    "        print(\"Vehicle engine started\")\n",
    "\n",
    "# Child class Car that overrides the start_engine method\n",
    "class Car(Vehicle):\n",
    "    def start_engine(self):\n",
    "        print(\"Car engine started with a roar!\")\n",
    "\n",
    "# Child class Bike that overrides the start_engine method\n",
    "class Bike(Vehicle):\n",
    "    def start_engine(self):\n",
    "        print(\"Bike engine started with a quiet hum.\")\n",
    "\n",
    "# Example of method overriding:\n",
    "# Creating instances of Car and Bike\n",
    "car = Car()\n",
    "bike = Bike()\n",
    "\n",
    "# Calling the overridden methods\n",
    "car.start_engine()  # Calls Car's overridden method\n",
    "bike.start_engine() # Calls Bike's overridden method\n"
   ]
  },
  {
   "cell_type": "code",
   "execution_count": null,
   "id": "71eee312-936b-4e91-9335-aa6a84be2ab0",
   "metadata": {},
   "outputs": [],
   "source": [
    "#5. How can you access the methods and attributes of a parent class from a child class in Python? Give an example."
   ]
  },
  {
   "cell_type": "code",
   "execution_count": 28,
   "id": "50429c8e-5cea-463a-9203-4e72a7528dba",
   "metadata": {},
   "outputs": [
    {
     "name": "stdout",
     "output_type": "stream",
     "text": [
      "Dog's Name: Buddy\n",
      "Dog's Species: Canine\n",
      "Dog's Breed: Golden Retriever\n",
      "Buddy makes a sound\n",
      "Buddy barks\n"
     ]
    }
   ],
   "source": [
    "# Parent class\n",
    "class Animal:\n",
    "    def __init__(self, name):\n",
    "        self.name = name  # Attribute\n",
    "        self.species = \"Unknown\"  # Another attribute\n",
    "\n",
    "    def speak(self):\n",
    "        print(f\"{self.name} makes a sound\")\n",
    "\n",
    "# Child class\n",
    "class Dog(Animal):\n",
    "    def __init__(self, name, breed):\n",
    "        # Accessing the parent class's constructor using super()\n",
    "        super().__init__(name)\n",
    "        self.breed = breed  # Attribute specific to Dog\n",
    "        self.species = \"Canine\"  # Overriding the species attribute\n",
    "\n",
    "    def speak(self):\n",
    "        # Calling the parent class's speak method\n",
    "        super().speak()  # Calling the speak method of Animal\n",
    "        print(f\"{self.name} barks\")  # Dog-specific behavior\n",
    "\n",
    "# Create an object of Dog class\n",
    "my_dog = Dog(\"Buddy\", \"Golden Retriever\")\n",
    "\n",
    "# Access attributes from the parent class (via the child class instance)\n",
    "print(f\"Dog's Name: {my_dog.name}\")\n",
    "print(f\"Dog's Species: {my_dog.species}\")\n",
    "print(f\"Dog's Breed: {my_dog.breed}\")\n",
    "\n",
    "# Calling the overridden method in the child class\n",
    "my_dog.speak()\n"
   ]
  },
  {
   "cell_type": "code",
   "execution_count": null,
   "id": "468dfc17-8cfb-4cce-8370-a57c62aea8da",
   "metadata": {},
   "outputs": [],
   "source": [
    "# 6. Discuss the use of the `super()` function in Python inheritance. When and why is it used? Provide an example."
   ]
  },
  {
   "cell_type": "code",
   "execution_count": 29,
   "id": "d9d91159-7bfc-4661-8baa-a3331e4eb3ef",
   "metadata": {},
   "outputs": [
    {
     "name": "stdout",
     "output_type": "stream",
     "text": [
      "Name: Alice, Age: 20\n",
      "Grade: A\n",
      "Speaking from class D\n",
      "Speaking from class B\n",
      "Speaking from class C\n",
      "Speaking from class A\n"
     ]
    }
   ],
   "source": [
    "'''The super() function in Python is used to call a method from a parent class within a method in a child class. \n",
    "It provides a way to access and invoke methods and attributes of the parent class without directly referencing the parent class by name.\n",
    "'''\n",
    "'''\n",
    "When and Why to Use super():\n",
    "Calling Parent Class Methods:\n",
    "super() is commonly used to call methods from a parent class, especially when you override a method in the child class. It allows you to extend or \n",
    "modify the behavior of the parent class method, while still keeping the original functionality.\n",
    "\n",
    "Avoiding Direct Parent Class References:\n",
    "In cases where a class might be subclassed multiple times, using super() avoids hard-coding the name of the parent class, making your code more flexible\n",
    "and maintainable.\n",
    "\n",
    "In Multiple Inheritance:\n",
    "In multiple inheritance scenarios, super() follows the Method Resolution Order (MRO), ensuring that the method from the appropriate parent class is \n",
    "called, and resolving potential conflicts in method names when more than one parent class has a method with the same name.\n",
    "\n",
    "Calling Parent Class Constructor:\n",
    "super() is often used to call the constructor (__init__) of the parent class to initialize inherited attributes or perform initialization logic without\n",
    "re-writing the constructor in the child class.\n",
    "'''\n",
    "# Parent class\n",
    "class Person:\n",
    "    def __init__(self, name, age):\n",
    "        self.name = name\n",
    "        self.age = age\n",
    "\n",
    "    def display(self):\n",
    "        print(f\"Name: {self.name}, Age: {self.age}\")\n",
    "\n",
    "# Child class\n",
    "class Student(Person):\n",
    "    def __init__(self, name, age, grade):\n",
    "        # Using super() to call the parent class's constructor\n",
    "        super().__init__(name, age)  \n",
    "        self.grade = grade  # Initializes grade attribute for Student\n",
    "\n",
    "    def display(self):\n",
    "        # Calling the parent class's display method\n",
    "        super().display()  # Display name and age\n",
    "        print(f\"Grade: {self.grade}\")  # Display grade specific to Student\n",
    "\n",
    "\n",
    "# Example usage\n",
    "student = Student(\"Alice\", 20, \"A\")\n",
    "student.display()\n",
    "\n",
    "\n",
    "\n",
    "# Use of super to invoke the method of parent class\n",
    "class A:\n",
    "    def speak(self):\n",
    "        print(\"Speaking from class A\")\n",
    "\n",
    "class B(A):\n",
    "    def speak(self):\n",
    "        print(\"Speaking from class B\")\n",
    "        super().speak()  # Calls the speak method from class A\n",
    "\n",
    "class C(A):\n",
    "    def speak(self):\n",
    "        print(\"Speaking from class C\")\n",
    "        super().speak()  # Calls the speak method from class A\n",
    "\n",
    "class D(B, C):\n",
    "    def speak(self):\n",
    "        print(\"Speaking from class D\")\n",
    "        super().speak()  # Calls the speak method from class B, according to MRO\n",
    "\n",
    "# Example usage\n",
    "d = D()\n",
    "d.speak()\n"
   ]
  },
  {
   "cell_type": "code",
   "execution_count": null,
   "id": "4e272c17-8ad6-401f-8873-b410864e6eaf",
   "metadata": {},
   "outputs": [],
   "source": [
    "''' 7. Create a Python class called `Animal` with a method `speak()`. Then, create child classes `Dog` and `Cat` that inherit from `Animal` and override\n",
    "the `speak()` method. Provide an example of using these classes.'''"
   ]
  },
  {
   "cell_type": "code",
   "execution_count": 39,
   "id": "5198b31e-a69b-4db0-a9f1-c6f67e46c04d",
   "metadata": {},
   "outputs": [
    {
     "name": "stdout",
     "output_type": "stream",
     "text": [
      "Dogs barks\n",
      "Cats Meows\n"
     ]
    }
   ],
   "source": [
    "#parent Class\n",
    "class Animal():\n",
    "    def speak(self):\n",
    "        print(\" Animal can speank\")\n",
    "\n",
    "# child class that invoke the pareant classs method\n",
    "class Dog(Animal):\n",
    "    def speak(self):\n",
    "        print(\"Dogs barks\")\n",
    "\n",
    "#another child class that will inherits the animal class method\n",
    "class cat(Animal):\n",
    "    def speak(self):\n",
    "        print(\"Cats Meows\")\n",
    "\n",
    "#example\n",
    "my_Dog = Dog()\n",
    "my_cat = cat()\n",
    "\n",
    "my_Dog.speak()\n",
    "my_cat.speak()\n",
    "    "
   ]
  },
  {
   "cell_type": "code",
   "execution_count": null,
   "id": "dfc3af56-9e9c-4ffa-aef6-43b91b373aff",
   "metadata": {},
   "outputs": [],
   "source": [
    "# 8. Explain the role of the `isinstance()` function in Python and how it relates to inheritance."
   ]
  },
  {
   "cell_type": "code",
   "execution_count": 40,
   "id": "e7f59bc4-ca5c-4d76-b896-4e61c44176e9",
   "metadata": {},
   "outputs": [
    {
     "name": "stdout",
     "output_type": "stream",
     "text": [
      "True\n",
      "True\n",
      "True\n",
      "False\n",
      "True\n"
     ]
    }
   ],
   "source": [
    "'''\n",
    "The isinstance() function in Python is used to check if an object is an instance of a specific class or a subclass of that class. It is a built-in \n",
    "function that plays an important role in type checking, especially in the context of inheritance and polymorphism in object-oriented programming (OOP).\n",
    "\n",
    "How isinstance() Relates to Inheritance:\n",
    "In inheritance, a subclass is considered an instance of both itself and its parent class (i.e., subclass is a type of the parent class).\n",
    "The isinstance() function allows you to check if an object is an instance of a class, or if it is an instance of a subclass of that class. This is\n",
    "particularly useful when dealing with polymorphism or when you want to check an object's type in an inheritance hierarchy.\n",
    "'''\n",
    "# Parent class Animal\n",
    "class Animal:\n",
    "    def speak(self):\n",
    "        print(\"Animal makes a sound\")\n",
    "\n",
    "# Child class Dog that inherits from Animal\n",
    "class Dog(Animal):\n",
    "    def speak(self):\n",
    "        print(\"Dog barks\")\n",
    "\n",
    "# Child class Cat that inherits from Animal\n",
    "class Cat(Animal):\n",
    "    def speak(self):\n",
    "        print(\"Cat meows\")\n",
    "\n",
    "# Example usage\n",
    "dog = Dog()\n",
    "cat = Cat()\n",
    "animal = Animal()\n",
    "\n",
    "# Using isinstance() to check the type of the objects\n",
    "print(isinstance(dog, Dog))    # True: dog is an instance of Dog\n",
    "print(isinstance(dog, Animal)) # True: dog is an instance of Animal (due to inheritance)\n",
    "print(isinstance(cat, Cat))    # True: cat is an instance of Cat\n",
    "print(isinstance(cat, Dog))    # False: cat is not an instance of Dog\n",
    "print(isinstance(animal, Animal)) # True: animal is an instance of Animal\n"
   ]
  },
  {
   "cell_type": "code",
   "execution_count": null,
   "id": "73090187-da20-4860-9834-a9051dfce7f2",
   "metadata": {},
   "outputs": [],
   "source": [
    "#9. What is the purpose of the `issubclass()` function in Python? Provide an example."
   ]
  },
  {
   "cell_type": "code",
   "execution_count": 41,
   "id": "25224d90-5b55-48ef-9b4a-560ef2af3fc6",
   "metadata": {},
   "outputs": [
    {
     "name": "stdout",
     "output_type": "stream",
     "text": [
      "True\n",
      "True\n",
      "False\n",
      "True\n"
     ]
    }
   ],
   "source": [
    "'''The issubclass() function in Python is used to check if a class is a subclass of another class. This function helps determine whether a class is derived\n",
    "from another class (directly or indirectly). It returns True if the first class is a subclass of the second class, and False otherwise. '''\n",
    "\n",
    "# Parent class Animal\n",
    "class Animal:\n",
    "    def speak(self):\n",
    "        print(\"Animal makes a sound\")\n",
    "\n",
    "# Child class Dog that inherits from Animal\n",
    "class Dog(Animal):\n",
    "    def speak(self):\n",
    "        print(\"Dog barks\")\n",
    "\n",
    "# Child class Cat that inherits from Animal\n",
    "class Cat(Animal):\n",
    "    def speak(self):\n",
    "        print(\"Cat meows\")\n",
    "\n",
    "# Example usage of issubclass()\n",
    "print(issubclass(Dog, Animal))  # True: Dog is a subclass of Animal\n",
    "print(issubclass(Cat, Animal))  # True: Cat is a subclass of Animal\n",
    "print(issubclass(Dog, Cat))     # False: Dog is not a subclass of Cat\n",
    "print(issubclass(Cat, object))  # True: All classes in Python inherit from object\n"
   ]
  },
  {
   "cell_type": "code",
   "execution_count": null,
   "id": "4bdaccd1-64b1-4ed0-823d-cc0a58d4234a",
   "metadata": {},
   "outputs": [],
   "source": [
    "#10. Discuss the concept of constructor inheritance in Python. How are constructors inherited in child classes?"
   ]
  },
  {
   "cell_type": "code",
   "execution_count": null,
   "id": "637c188a-6a21-4dc2-ac5e-73738cbcfec0",
   "metadata": {},
   "outputs": [],
   "source": [
    "'''\n",
    "In Python, constructors are special methods that are called when an object is instantiated from a class. The constructor in Python is defined using \n",
    "the __init__() method.\n",
    "When a child class inherits from a parent class, the constructor of the parent class is not automatically inherited by the child class. However, the \n",
    "child class can call the parent's constructor explicitly or define its own constructor to initialize its own attributes.\n",
    "\n",
    "Key Points about Constructor Inheritance:\n",
    "Parent Class Constructor:\n",
    "The parent class has its own __init__() method, which is responsible for initializing the attributes of the parent class.\n",
    "Child Class Constructor:\n",
    "\n",
    "The child class can either:\n",
    "Define its own __init__() method to initialize its own attributes and optionally call the parent class constructor to initialize inherited attributes.\n",
    "Inherit the parent class constructor if no constructor is defined in the child class. This happens automatically, so the parent’s __init__() method is\n",
    "called when an object of the child class is created.\n",
    "                                                                                                                \n",
    "Calling Parent Constructor in Child Class:\n",
    "If the child class defines its own constructor, it may still want to call the parent’s constructor to initialize inherited attributes. This can be done\n",
    "using super().__init__() or directly using the parent class name.\n",
    "'''"
   ]
  },
  {
   "cell_type": "code",
   "execution_count": null,
   "id": "df3b1007-5b25-453d-a23c-4f05b03eb413",
   "metadata": {},
   "outputs": [],
   "source": [
    " ''' 11. Create a Python class called `Shape` with a method `area()` that calculates the area of a shape. Then, \n",
    "create child classes `Circle` and `Rectangle` that inherit from `Shape` and implement the `area()` method \n",
    "accordingly. Provide an example. '''"
   ]
  },
  {
   "cell_type": "code",
   "execution_count": 1,
   "id": "3756dcaa-2a14-4c64-bf65-d925c32e57f2",
   "metadata": {},
   "outputs": [
    {
     "name": "stdout",
     "output_type": "stream",
     "text": [
      "Area of the circle: 78.53981633974483\n",
      "Area of the rectangle: 24\n"
     ]
    }
   ],
   "source": [
    "import math\n",
    "\n",
    "# Parent class\n",
    "class Shape:\n",
    "    def area(self):\n",
    "        raise NotImplementedError(\"Subclasses should implement this method\")\n",
    "\n",
    "# Child class for Circle\n",
    "class Circle(Shape):\n",
    "    def __init__(self, radius):\n",
    "        self.radius = radius\n",
    "        \n",
    "    def area(self):\n",
    "        return math.pi * self.radius ** 2\n",
    "\n",
    "# Child class for Rectangle\n",
    "class Rectangle(Shape):\n",
    "    def __init__(self, width, height):\n",
    "        self.width = width\n",
    "        self.height = height\n",
    "        \n",
    "    def area(self):\n",
    "        return self.width * self.height\n",
    "\n",
    "# Example \n",
    "circle = Circle(5)\n",
    "rectangle = Rectangle(4, 6)\n",
    "\n",
    "print(f\"Area of the circle: {circle.area()}\")  # Output: Area of the circle: 78.53981633974483\n",
    "print(f\"Area of the rectangle: {rectangle.area()}\")  # Output: Area of the rectangle: 24\n"
   ]
  },
  {
   "cell_type": "code",
   "execution_count": null,
   "id": "05023bee-e3ba-4b46-942b-591d46b3ce8f",
   "metadata": {},
   "outputs": [],
   "source": [
    "#12. Explain the use of abstract base classes (ABCs) in Python and how they relate to inheritance. Provide an example using the `abc` module."
   ]
  },
  {
   "cell_type": "code",
   "execution_count": 2,
   "id": "fce30e9b-9695-41d1-bddf-54156bfd63a9",
   "metadata": {},
   "outputs": [
    {
     "name": "stdout",
     "output_type": "stream",
     "text": [
      "Circle Area: 78.53975, Perimeter: 31.4159\n",
      "Rectangle Area: 24, Perimeter: 20\n"
     ]
    }
   ],
   "source": [
    "'''\n",
    "An Abstract Base Class (ABC) is a class that cannot be instantiated on its own and is meant to be subclassed by other classes. ABCs allow you to define \n",
    "a common interface or blueprint for a set of related classes, ensuring that these classes implement specific methods or properties. The main goal of \n",
    "ABCs is to enforce that subclasses implement certain methods, which is especially useful when working with complex class hierarchies.\n",
    "\n",
    "The abc module\n",
    "Python provides the abc module to work with abstract base classes. The key components of this module include:\n",
    "ABC: A base class from which all abstract base classes should inherit.\n",
    "abstractmethod: A decorator used to mark methods as abstract. Any subclass of an ABC that doesn't implement these methods will raise an error.\n",
    "'''\n",
    "from abc import ABC, abstractmethod\n",
    "\n",
    "# Abstract Base Class\n",
    "class Shape(ABC):\n",
    "    \n",
    "    @abstractmethod\n",
    "    def area(self):\n",
    "        pass\n",
    "    \n",
    "    @abstractmethod\n",
    "    def perimeter(self):\n",
    "        pass\n",
    "\n",
    "# Subclass for Circle\n",
    "class Circle(Shape):\n",
    "    def __init__(self, radius):\n",
    "        self.radius = radius\n",
    "    \n",
    "    def area(self):\n",
    "        return 3.14159 * (self.radius ** 2)\n",
    "    \n",
    "    def perimeter(self):\n",
    "        return 2 * 3.14159 * self.radius\n",
    "\n",
    "# Subclass for Rectangle\n",
    "class Rectangle(Shape):\n",
    "    def __init__(self, width, height):\n",
    "        self.width = width\n",
    "        self.height = height\n",
    "    \n",
    "    def area(self):\n",
    "        return self.width * self.height\n",
    "    \n",
    "    def perimeter(self):\n",
    "        return 2 * (self.width + self.height)\n",
    "\n",
    "# Example \n",
    "circle = Circle(5)\n",
    "rectangle = Rectangle(4, 6)\n",
    "\n",
    "print(f\"Circle Area: {circle.area()}, Perimeter: {circle.perimeter()}\")\n",
    "print(f\"Rectangle Area: {rectangle.area()}, Perimeter: {rectangle.perimeter()}\")\n"
   ]
  },
  {
   "cell_type": "code",
   "execution_count": null,
   "id": "fbff1633-7b2e-45f9-a7d6-5004716649f5",
   "metadata": {},
   "outputs": [],
   "source": [
    "#13. How can you prevent a child class from modifying certain attributes or methods inherited from a parent class in Python?"
   ]
  },
  {
   "cell_type": "code",
   "execution_count": null,
   "id": "7f49d750-bedd-423e-86b2-3692f18da943",
   "metadata": {},
   "outputs": [],
   "source": []
  },
  {
   "cell_type": "code",
   "execution_count": null,
   "id": "da7fef23-ef09-4727-9569-7fb7ca14f545",
   "metadata": {},
   "outputs": [],
   "source": [
    "''' 14. Create a Python class called `Employee` with attributes `name` and `salary`. Then, create a child class `Manager` that inherits from\n",
    "`Employee` and adds an attribute `department`. Provide an example. '''"
   ]
  },
  {
   "cell_type": "code",
   "execution_count": 25,
   "id": "5fc65a0f-359e-4dcc-a5a4-a6a3ffe3aa14",
   "metadata": {},
   "outputs": [
    {
     "name": "stdout",
     "output_type": "stream",
     "text": [
      "Employee name :Tuntun and salary :2000\n",
      "Employee name :Deepak and salary :10000\n",
      "department: software\n"
     ]
    }
   ],
   "source": [
    "class employee:\n",
    "    def __init__(self, name, salary):\n",
    "        self.name = name\n",
    "        self.salary = salary\n",
    "    def info(self):\n",
    "        print(f'Employee name :{self.name} and salary :{self.salary}')\n",
    "\n",
    "class manager(employee):\n",
    "    def __init__(self,name,salary,department):\n",
    "        self.department = department\n",
    "        super().__init__(name,salary)\n",
    "    def show_info(self):\n",
    "        super().info()\n",
    "        print(\"department:\", self.department)\n",
    "\n",
    "\n",
    "employee = employee('Tuntun', 2000)\n",
    "employee.info()\n",
    "\n",
    "\n",
    "Manager = manager('Deepak', 10000, 'software')\n",
    "Manager.show_info()"
   ]
  },
  {
   "cell_type": "code",
   "execution_count": null,
   "id": "74f1b2e7-f751-49d6-9f5e-6cfc14a3f9c0",
   "metadata": {},
   "outputs": [],
   "source": [
    "# 15. Discuss the concept of method overloading in Python inheritance. How does it differ from method overriding?"
   ]
  },
  {
   "cell_type": "code",
   "execution_count": null,
   "id": "1b0ba455-23a5-4429-ad6a-b2056f998bf5",
   "metadata": {},
   "outputs": [],
   "source": [
    "'''\n",
    "Method Overloading\t\n",
    "1. Creating multiple methods with the same name but different parameters.\n",
    "2. Not directly supported, but can be simulated using default parameters or variable-length arguments.\n",
    "3. To perform similar operations with different arguments.\n",
    "4. Different signatures (number or type of arguments).\n",
    "5. Aims to handle different types of input or argument combinations.\n",
    "\n",
    "Method Overriding\n",
    "1. Redefining a method in the subclass with the same name and parameters as in the superclass.\n",
    "2.Fully supported.\n",
    "3.To change or extend the behavior of a method inherited from a parent class.\n",
    "4.Same signature (same method name and parameters).\n",
    "5.Aims to provide a new or modified implementation of an inherited method."
   ]
  },
  {
   "cell_type": "code",
   "execution_count": null,
   "id": "550d2538-270f-423b-8246-1eb32714a33a",
   "metadata": {},
   "outputs": [],
   "source": [
    "#16. Explain the purpose of the `__init__()` method in Python inheritance and how it is utilized in child classes."
   ]
  },
  {
   "cell_type": "code",
   "execution_count": null,
   "id": "5fbc15c5-70d2-401a-bb96-b22de663e848",
   "metadata": {},
   "outputs": [],
   "source": [
    "'''\n",
    "In Python, the __init__() method is a special method (often called a constructor) that is automatically called when a new object of a class is created.\n",
    "The purpose of the __init__() method is to initialize the object's attributes and set up the initial state of the object.\n",
    "\n",
    "When it comes to inheritance, the __init__() method plays a crucial role in ensuring that both the parent class and the child class are properly \n",
    "initialized when an object is created.\n",
    "'''\n",
    "'''\n",
    "In inheritance, when a child class inherits from a parent class, the child class can call the __init__() method of the parent class to ensure that the\n",
    "parent class's attributes are initialized correctly. The child class may also have its own __init__() method to initialize additional attributes\n",
    "specific to the child class."
   ]
  },
  {
   "cell_type": "code",
   "execution_count": null,
   "id": "83ab270d-c5ce-4bff-9d64-ebf0e135400d",
   "metadata": {},
   "outputs": [],
   "source": [
    "'''17. Create a Python class called `Bird` with a method `fly()`. Then, create child classes `Eagle` and `Sparrow` \n",
    "that inherit from `Bird` and implement the `fly()` method differently. Provide an example of using these \n",
    "classes. '''"
   ]
  },
  {
   "cell_type": "code",
   "execution_count": 28,
   "id": "c602e742-3fad-4310-9ee8-98c4814b96e2",
   "metadata": {},
   "outputs": [
    {
     "name": "stdout",
     "output_type": "stream",
     "text": [
      "Eagle soars high in the sky, flying gracefully.\n",
      "Sparrow flutters and hops while flying at low altitudes.\n"
     ]
    }
   ],
   "source": [
    "# Parent class Bird\n",
    "class Bird:\n",
    "    def fly(self):\n",
    "        raise NotImplementedError(\"Subclass must implement this method\")\n",
    "\n",
    "# Child class Eagle\n",
    "class Eagle(Bird):\n",
    "    def fly(self):\n",
    "        return \"Eagle soars high in the sky, flying gracefully.\"\n",
    "\n",
    "# Child class Sparrow\n",
    "class Sparrow(Bird):\n",
    "    def fly(self):\n",
    "        return \"Sparrow flutters and hops while flying at low altitudes.\"\n",
    "\n",
    "# Example usage\n",
    "eagle = Eagle()\n",
    "sparrow = Sparrow()\n",
    "\n",
    "print(eagle.fly())  # Output: Eagle soars high in the sky, flying gracefully.\n",
    "print(sparrow.fly())  # Output: Sparrow flutters and hops while flying at low altitudes.\n"
   ]
  },
  {
   "cell_type": "code",
   "execution_count": null,
   "id": "e64f2ed0-eeb7-4bb5-bbd6-f8f5fad49587",
   "metadata": {},
   "outputs": [],
   "source": [
    "# 18. What is the \"diamond problem\" in multiple inheritance, and how does Python address it?"
   ]
  },
  {
   "cell_type": "code",
   "execution_count": null,
   "id": "eee7a014-adb2-4928-87e2-0f225a56ef24",
   "metadata": {},
   "outputs": [],
   "source": [
    "'''\n",
    "The diamond problem is a common issue that arises in object-oriented programming languages that support multiple inheritance, where a class can inherit \n",
    "from more than one class. The diamond problem occurs when a class inherits from two classes that both have a common base class. The issue arises when \n",
    "the derived class needs to call a method or access an attribute from the common base class, and it's unclear which path to take (which base class's\n",
    "method or attribute to use)\n",
    "\n",
    "Method Resolution Order (MRO):\n",
    "Python uses an algorithm called the C3 Linearization (also known as C3 superclass linearization) to determine the order in which classes are searched for\n",
    "methods and attributes.\n",
    "The MRO defines the order in which the base classes are looked up when trying to access a method or an attribute. This order ensures that every class in\n",
    "the inheritance hierarchy is considered once and only once.\n",
    "\n",
    "super() Function:\n",
    "Python uses the super() function to refer to the next class in the MRO. It ensures that the right method is called without directly referencing the \n",
    "parent class, helping to avoid ambiguity.\n",
    "\n",
    "'''\n",
    "# Base class A\n",
    "class A:\n",
    "    def speak(self):\n",
    "        print(\"Speaking from A\")\n",
    "\n",
    "# Class B inherits from A\n",
    "class B(A):\n",
    "    def speak(self):\n",
    "        print(\"Speaking from B\")\n",
    "        super().speak()  # Calls the next class in the MRO\n",
    "\n",
    "# Class C inherits from A\n",
    "class C(A):\n",
    "    def speak(self):\n",
    "        print(\"Speaking from C\")\n",
    "        super().speak()  # Calls the next class in the MRO\n",
    "\n",
    "# Class D inherits from both B and C\n",
    "class D(B, C):\n",
    "    def speak(self):\n",
    "        print(\"Speaking from D\")\n",
    "        super().speak()  # Calls the next class in the MRO\n",
    "\n",
    "# Creating an instance of D\n",
    "d = D()\n",
    "d.speak()\n"
   ]
  },
  {
   "cell_type": "code",
   "execution_count": null,
   "id": "7be68c83-e753-42b4-a1a7-b8238a14b223",
   "metadata": {},
   "outputs": [],
   "source": [
    "# 19. Discuss the concept of \"is-a\" and \"has-a\" relationships in inheritance, and provide examples of each."
   ]
  },
  {
   "cell_type": "code",
   "execution_count": null,
   "id": "2149f20d-e92b-4a7f-925f-3a212c0ce4cc",
   "metadata": {},
   "outputs": [],
   "source": [
    "'''\n",
    "1. \"Is-a\" Relationship (Inheritance)\n",
    "The \"is-a\" relationship refers to a situation where a subclass is a specialized type of a parent class. In other words, the subclass is a more specific \n",
    "version of the superclass. This is typically represented using inheritance, where a child class inherits from a parent class, gaining all its attributes\n",
    "and behaviors (methods).\n",
    "\n",
    "In this case:\n",
    "The child class is a type of the parent class.\n",
    "The subclass can be used wherever the parent class is used, making it a subtype of the parent class.\n",
    "'''\n",
    "# Parent class Animal\n",
    "class Animal:\n",
    "    def speak(self):\n",
    "        return \"Animal makes a sound\"\n",
    "\n",
    "# Child class Dog\n",
    "class Dog(Animal):\n",
    "    def speak(self):\n",
    "        return \"Dog barks\"\n",
    "\n",
    "# Child class Cat\n",
    "class Cat(Animal):\n",
    "    def speak(self):\n",
    "        return \"Cat meows\"\n",
    "\n",
    "# Example usage\n",
    "animal = Animal()\n",
    "dog = Dog()\n",
    "cat = Cat()\n",
    "\n",
    "print(isinstance(dog, Animal))  # Output: True (Dog is an Animal)\n",
    "print(isinstance(cat, Animal))  # Output: True (Cat is an Animal)\n",
    "\n",
    "'''\n",
    "2. \"Has-a\" Relationship (Composition)\n",
    "The \"has-a\" relationship refers to a situation where one class contains an instance of another class as an attribute. This indicates that the first class has a relationship with the second class, typically represented using composition.\n",
    "\n",
    "In this case:\n",
    "The class has an instance of another class as part of its state or behavior.\n",
    "The contained class is not a type of the containing class but rather a component or part of it.\n",
    "'''\n",
    "# Class Engine\n",
    "class Engine:\n",
    "    def start(self):\n",
    "        return \"Engine starts\"\n",
    "\n",
    "# Class Car\n",
    "class Car:\n",
    "    def __init__(self, engine: Engine):\n",
    "        self.engine = engine  # Car has an Engine\n",
    "\n",
    "    def drive(self):\n",
    "        return f\"Car is driving with {self.engine.start()}\"\n",
    "\n",
    "# Example usage\n",
    "engine = Engine()\n",
    "car = Car(engine)\n",
    "\n",
    "print(car.drive())  # Output: Car is driving with Engine starts\n"
   ]
  },
  {
   "cell_type": "code",
   "execution_count": null,
   "id": "08fc152a-52ff-467c-bb67-fedbba5451fd",
   "metadata": {},
   "outputs": [],
   "source": [
    "'''20. Create a Python class hierarchy for a university system. Start with a base class `Person` and create child classes `Student` and `Professor`,\n",
    "each with their own attributes and methods. Provide an example of using these classes in a university context. '''"
   ]
  },
  {
   "cell_type": "code",
   "execution_count": 29,
   "id": "e2c8d8fc-65ef-4186-9d46-15e69629de20",
   "metadata": {},
   "outputs": [
    {
     "name": "stdout",
     "output_type": "stream",
     "text": [
      "Student Info - Name: Alice, Age: 20, ID: S12345, Major: Computer Science\n",
      "Alice is studying Computer Science.\n",
      "Professor Info - Name: Dr. John, Age: 45, ID: P98765, Department: Mathematics\n",
      "Dr. John is teaching in the Mathematics department.\n"
     ]
    }
   ],
   "source": [
    "# Base class Person\n",
    "class Person:\n",
    "    def __init__(self, name, age):\n",
    "        self.name = name\n",
    "        self.age = age\n",
    "    \n",
    "    def get_info(self):\n",
    "        return f\"Name: {self.name}, Age: {self.age}\"\n",
    "\n",
    "# Child class Student inheriting from Person\n",
    "class Student(Person):\n",
    "    def __init__(self, name, age, student_id, major):\n",
    "        super().__init__(name, age)\n",
    "        self.student_id = student_id\n",
    "        self.major = major\n",
    "    \n",
    "    def study(self):\n",
    "        return f\"{self.name} is studying {self.major}.\"\n",
    "\n",
    "    def get_info(self):\n",
    "        return f\"Student Info - Name: {self.name}, Age: {self.age}, ID: {self.student_id}, Major: {self.major}\"\n",
    "\n",
    "# Child class Professor inheriting from Person\n",
    "class Professor(Person):\n",
    "    def __init__(self, name, age, employee_id, department):\n",
    "        super().__init__(name, age)\n",
    "        self.employee_id = employee_id\n",
    "        self.department = department\n",
    "    \n",
    "    def teach(self):\n",
    "        return f\"{self.name} is teaching in the {self.department} department.\"\n",
    "\n",
    "    def get_info(self):\n",
    "        return f\"Professor Info - Name: {self.name}, Age: {self.age}, ID: {self.employee_id}, Department: {self.department}\"\n",
    "\n",
    "# Example usage\n",
    "# Creating instances of Student and Professor\n",
    "student = Student(\"Alice\", 20, \"S12345\", \"Computer Science\")\n",
    "professor = Professor(\"Dr. John\", 45, \"P98765\", \"Mathematics\")\n",
    "\n",
    "# Using methods\n",
    "print(student.get_info())  # Get student information\n",
    "print(student.study())     # Student study method\n",
    "\n",
    "print(professor.get_info())  # Get professor information\n",
    "print(professor.teach())     # Professor teach method\n"
   ]
  },
  {
   "cell_type": "code",
   "execution_count": null,
   "id": "cbee44c6-8c67-49e2-a1c7-b07130d980b6",
   "metadata": {},
   "outputs": [],
   "source": [
    "#Encapsulation:\n",
    "# 1. Explain the concept of encapsulation in Python. What is its role in object-oriented programming?"
   ]
  },
  {
   "cell_type": "code",
   "execution_count": null,
   "id": "110c63b1-59d6-4091-b0d2-ac542da46cd2",
   "metadata": {},
   "outputs": [],
   "source": [
    "'''\n",
    "Encapsulation is one of the fundamental principles of Object-Oriented Programming (OOP). It refers to the concept of bundling the data (attributes) and \n",
    "methods (functions) that operate on the data into a single unit known as a class. Additionally, encapsulation involves controlling access to the internal\n",
    "data by restricting direct access and providing controlled access through getter and setter methods.\n",
    "\n",
    "Encapsulation helps to achieve the following key goals in object-oriented design:\n",
    "Data Hiding: It prevents direct access to the internal state of an object and only exposes necessary parts of the object's functionality.\n",
    "Improved Security: By restricting direct access to the internal attributes, it helps ensure that an object's data cannot be modified in an unintended way, thus improving the integrity of the data.\n",
    "Code Maintainability: Encapsulation allows for changes to the internal workings of a class without affecting how the class is used by other parts of the program. This makes it easier to maintain and update the code.\n",
    "Role of Encapsulation in Object-Oriented Programming\n",
    "In OOP, encapsulation serves several purposes:\n",
    "Data Protection: By keeping the internal data of an object private and only allowing access through specific methods, encapsulation ensures that the object’s state is protected from unintended modifications.\n",
    "Simplified Interface: It provides a clear and controlled interface for interacting with the object, making it easier to use and understand.\n",
    "Modular Code: Encapsulation helps in designing modular code. Each class can hide its internal implementation and provide a clean interface to interact with other parts of the program.\n",
    "Abstraction: It supports abstraction by hiding the complex internal details of the object and only exposing the essential functionalities.\n",
    "Maintainability: Changes to the internal implementation of a class can be made without affecting the code that uses the class, as long as the interface remains the same.\n"
   ]
  },
  {
   "cell_type": "code",
   "execution_count": null,
   "id": "85747abc-84be-43c9-b23d-155fc16a00be",
   "metadata": {},
   "outputs": [],
   "source": [
    "# 2. Describe the key principles of encapsulation, including access control and data hiding."
   ]
  },
  {
   "cell_type": "code",
   "execution_count": null,
   "id": "81099882-14c6-46f8-97db-08b69b78022d",
   "metadata": {},
   "outputs": [],
   "source": [
    "'''\n",
    "Encapsulation is one of the core concepts of Object-Oriented Programming (OOP), focusing on bundling data and methods that operate on that data within\n",
    "a single unit, typically a class. Encapsulation helps in managing complexity by restricting access to an object's internal state and providing a\n",
    "controlled interface for interacting with it. It also plays a crucial role in enforcing data privacy and security.\n",
    "'''\n",
    "'''\n",
    "1. Access Control\n",
    "Access control in encapsulation refers to the regulation of who can access and modify the internal attributes (data) of a class. In Python, access \n",
    "control is enforced primarily through naming conventions, though the language does not enforce strict access rules like other languages (e.g., C++ or \n",
    "Java).\n",
    "\n",
    "Public Access: Attributes and methods are fully accessible to any part of the program. There are no restrictions on access.\n",
    "\n",
    "Example: self.attribute = value\n",
    "Public attributes and methods are directly accessible.\n",
    "Protected Access: Attributes and methods marked with a single underscore _ are considered protected. This is a convention in Python, signaling to\n",
    "developers that these members are for internal use or for use by subclasses.\n",
    "\n",
    "Example: self._protected_attribute = value\n",
    "They are accessible from outside, but it is discouraged for external use.\n",
    "Private Access: Attributes and methods marked with a double underscore __ are private to the class. This triggers name mangling in Python, making it harder to access them from outside the class.\n",
    "\n",
    "Example: self.__private_attribute = value\n",
    "The actual name of the attribute changes internally (e.g., _ClassName__private_attribute), making direct access difficult, though still technically possible.\n",
    "The purpose of private members is to protect the internal state of the object from unintended access and modification.\n",
    "'''\n",
    "'''\n",
    "2. Data Hiding\n",
    "Data hiding is the practice of restricting access to an object's internal state. By hiding the internal data and only exposing necessary methods (via a controlled interface), the class ensures that its internal representation can be modified without affecting the outside world.\n",
    "\n",
    "Prevents Direct Access: By hiding the internal attributes and requiring that data manipulation happens through specific methods (such as getters and setters), you can control how data is accessed or modified.\n",
    "\n",
    "Example: Instead of directly setting an attribute like person.age = -5, you would use a method like person.set_age(25) to ensure the data is valid.\n",
    "Maintains Integrity: Data hiding ensures that no external code can corrupt the object's internal state by directly manipulating it. This ensures that objects maintain a valid state, as any modification must go through an explicit, controlled method.\n",
    "\n",
    "Improves Security: By hiding the internal details and providing controlled access, the object’s state remains secure from malicious or unintentional changes. This is particularly important in large and complex systems.\n",
    "\n",
    "'''\n"
   ]
  },
  {
   "cell_type": "code",
   "execution_count": null,
   "id": "29d3e69b-deab-46b4-8a74-b755b2360967",
   "metadata": {},
   "outputs": [],
   "source": [
    "#3. How can you achieve encapsulation in Python classes? Provide an example."
   ]
  },
  {
   "cell_type": "code",
   "execution_count": 30,
   "id": "7fbd9247-3c24-4c68-be38-0f9451de4655",
   "metadata": {},
   "outputs": [
    {
     "name": "stdout",
     "output_type": "stream",
     "text": [
      "John Doe\n",
      "1000\n",
      "1500\n",
      "Invalid balance amount. Balance cannot be negative.\n",
      "1700\n",
      "1200\n",
      "Insufficient funds or invalid withdrawal amount.\n"
     ]
    }
   ],
   "source": [
    "class BankAccount:\n",
    "    def __init__(self, owner, balance=0):\n",
    "        self.owner = owner  # Public attribute\n",
    "        self.__balance = balance  # Private attribute (encapsulated)\n",
    "\n",
    "    # Getter method for balance (accessor method)\n",
    "    def get_balance(self):\n",
    "        return self.__balance\n",
    "\n",
    "    # Setter method for balance (mutator method)\n",
    "    def set_balance(self, amount):\n",
    "        if amount >= 0:\n",
    "            self.__balance = amount\n",
    "        else:\n",
    "            print(\"Invalid balance amount. Balance cannot be negative.\")\n",
    "\n",
    "    # Method to deposit money into the account\n",
    "    def deposit(self, amount):\n",
    "        if amount > 0:\n",
    "            self.__balance += amount\n",
    "        else:\n",
    "            print(\"Deposit amount must be positive.\")\n",
    "\n",
    "    # Method to withdraw money from the account\n",
    "    def withdraw(self, amount):\n",
    "        if 0 < amount <= self.__balance:\n",
    "            self.__balance -= amount\n",
    "        else:\n",
    "            print(\"Insufficient funds or invalid withdrawal amount.\")\n",
    "\n",
    "# Create an instance of BankAccount\n",
    "account = BankAccount(\"John Doe\", 1000)\n",
    "\n",
    "# Accessing the public attribute\n",
    "print(account.owner)  # Output: John Doe\n",
    "\n",
    "# Accessing the private attribute directly (will raise an error)\n",
    "# print(account.__balance)  # This will raise an AttributeError\n",
    "\n",
    "# Accessing the private attribute using the getter method\n",
    "print(account.get_balance())  # Output: 1000\n",
    "\n",
    "# Modifying the balance using the setter method\n",
    "account.set_balance(1500)\n",
    "print(account.get_balance())  # Output: 1500\n",
    "\n",
    "# Trying to set a negative balance\n",
    "account.set_balance(-500)  # Output: Invalid balance amount. Balance cannot be negative.\n",
    "\n",
    "# Depositing money\n",
    "account.deposit(200)\n",
    "print(account.get_balance())  # Output: 1700\n",
    "\n",
    "# Withdrawing money\n",
    "account.withdraw(500)\n",
    "print(account.get_balance())  # Output: 1200\n",
    "\n",
    "# Trying to withdraw an invalid amount\n",
    "account.withdraw(2000)  # Output: Insufficient funds or invalid withdrawal amount.\n"
   ]
  },
  {
   "cell_type": "code",
   "execution_count": null,
   "id": "753d5424-8503-41e5-947c-0a638bd98b5e",
   "metadata": {},
   "outputs": [],
   "source": [
    "#4. Discuss the difference between public, private, and protected access modifiers in Python."
   ]
  },
  {
   "cell_type": "code",
   "execution_count": null,
   "id": "7b146f23-34cc-4bb0-bd4c-f5b7e97d4ce7",
   "metadata": {},
   "outputs": [],
   "source": [
    "'''\n",
    "Public :\n",
    "1. No underscore (attribute)\n",
    "2. Accessible everywhere\t\n",
    "3. No restrictions, intended for public usage\n",
    "Protected:\n",
    "1. Single underscore (_attribute)\t\n",
    "2. Accessible within the class and subclasses\n",
    "3. Meant for internal use, but can still be accessed externally\n",
    "Private:\n",
    "1. Double underscore (__attribute)\t\n",
    "2. Name-mangled, not easily accessible from outside \n",
    "3. Intended for internal use only; harder to access externally\n",
    "'''"
   ]
  },
  {
   "cell_type": "code",
   "execution_count": null,
   "id": "83d8e0c7-d3bf-4253-9aa8-11953e12631c",
   "metadata": {},
   "outputs": [],
   "source": [
    "#5. Create a Python class called `Person` with a private attribute `__name`. Provide methods to get and set the name attribute."
   ]
  },
  {
   "cell_type": "code",
   "execution_count": 31,
   "id": "72556250-1b1c-45c7-b9b0-259dc5e581ff",
   "metadata": {},
   "outputs": [
    {
     "name": "stdout",
     "output_type": "stream",
     "text": [
      "John Doe\n",
      "Alice Smith\n",
      "Invalid name. Name must be a non-empty string.\n"
     ]
    }
   ],
   "source": [
    "class Person:\n",
    "    def __init__(self, name):\n",
    "        self.__name = name  # Private attribute\n",
    "\n",
    "    # Getter method to retrieve the name\n",
    "    def get_name(self):\n",
    "        return self.__name\n",
    "\n",
    "    # Setter method to set the name\n",
    "    def set_name(self, name):\n",
    "        if isinstance(name, str) and len(name) > 0:\n",
    "            self.__name = name\n",
    "        else:\n",
    "            print(\"Invalid name. Name must be a non-empty string.\")\n",
    "\n",
    "# Example usage:\n",
    "person = Person(\"John Doe\")\n",
    "\n",
    "# Accessing the name using the getter method\n",
    "print(person.get_name())  # Output: John Doe\n",
    "\n",
    "# Modifying the name using the setter method\n",
    "person.set_name(\"Alice Smith\")\n",
    "print(person.get_name())  # Output: Alice Smith\n",
    "\n",
    "# Trying to set an invalid name\n",
    "person.set_name(\"\")  # Output: Invalid name. Name must be a non-empty string.\n"
   ]
  },
  {
   "cell_type": "code",
   "execution_count": null,
   "id": "a8862d4b-3fc0-4749-a29a-7e12885e21f1",
   "metadata": {},
   "outputs": [],
   "source": [
    "# 6. Explain the purpose of getter and setter methods in encapsulation. Provide examples."
   ]
  },
  {
   "cell_type": "code",
   "execution_count": 32,
   "id": "6a2402fa-1e08-41d5-ad1c-8163b7f17632",
   "metadata": {},
   "outputs": [
    {
     "name": "stdout",
     "output_type": "stream",
     "text": [
      "Alice\n",
      "30\n",
      "Bob\n",
      "35\n",
      "Invalid name. Name must be a non-empty string.\n",
      "Invalid age. Age must be a positive integer.\n"
     ]
    }
   ],
   "source": [
    "'''\n",
    "Purpose of Getter and Setter Methods in Encapsulation:\n",
    "Control Over Attribute Access:\n",
    "Getter methods allow controlled access to private or protected attributes. This means you can read the value of an attribute without allowing direct access from outside the class.\n",
    "Setter methods allow controlled modification of private or protected attributes. This ensures that changes to an attribute are made in a controlled way, with validation if necessary.\n",
    "Data Integrity:\n",
    "By using getters and setters, you can implement checks and validation when getting or setting the value of an attribute. This ensures that data within the object remains valid and consistent.\n",
    "Flexibility in Changing Internal Implementation:\n",
    "Getters and setters provide a way to maintain the interface for interacting with an object while allowing changes in the internal representation of the data. If you need to change the way an attribute is stored or calculated, you can modify the getter or setter without affecting the rest of the code.\n",
    "Encapsulation of Logic:\n",
    "In addition to just retrieving or updating an attribute, setters and getters can also contain business logic, transformations, or side effects when accessing or changing data.\n",
    "'''\n",
    "\n",
    "class Person:\n",
    "    def __init__(self, name, age):\n",
    "        # Private attributes\n",
    "        self.__name = name\n",
    "        self.__age = age\n",
    "\n",
    "    # Getter method for 'name'\n",
    "    def get_name(self):\n",
    "        return self.__name\n",
    "\n",
    "    # Setter method for 'name'\n",
    "    def set_name(self, name):\n",
    "        if isinstance(name, str) and len(name) > 0:\n",
    "            self.__name = name\n",
    "        else:\n",
    "            print(\"Invalid name. Name must be a non-empty string.\")\n",
    "\n",
    "    # Getter method for 'age'\n",
    "    def get_age(self):\n",
    "        return self.__age\n",
    "\n",
    "    # Setter method for 'age'\n",
    "    def set_age(self, age):\n",
    "        if isinstance(age, int) and age > 0:\n",
    "            self.__age = age\n",
    "        else:\n",
    "            print(\"Invalid age. Age must be a positive integer.\")\n",
    "\n",
    "# Create a Person object\n",
    "person = Person(\"Alice\", 30)\n",
    "\n",
    "# Using the getter methods to access private attributes\n",
    "print(person.get_name())  # Output: Alice\n",
    "print(person.get_age())   # Output: 30\n",
    "\n",
    "# Using setter methods to modify private attributes\n",
    "person.set_name(\"Bob\")\n",
    "person.set_age(35)\n",
    "\n",
    "# After modification\n",
    "print(person.get_name())  # Output: Bob\n",
    "print(person.get_age())   # Output: 35\n",
    "\n",
    "# Trying to set invalid values\n",
    "person.set_name(\"\")      # Output: Invalid name. Name must be a non-empty string.\n",
    "person.set_age(-5)       # Output: Invalid age. Age must be a positive integer.\n"
   ]
  },
  {
   "cell_type": "code",
   "execution_count": null,
   "id": "8219ae28-916e-4a50-998b-eefc9f3e3f3c",
   "metadata": {},
   "outputs": [],
   "source": [
    "#7. What is name mangling in Python, and how does it affect encapsulation?"
   ]
  },
  {
   "cell_type": "code",
   "execution_count": null,
   "id": "c699cc61-5bdc-43dc-a8ba-53fe0dd17193",
   "metadata": {},
   "outputs": [],
   "source": [
    "''''Name mangling is a technique used by Python to make an attribute or method more \"private\" by altering its name in a way that prevents accidental \n",
    "access or modification from outside the class. This is primarily used for private variables and methods in order to avoid name conflicts in subclasses.\n",
    "\n",
    "In Python, name mangling is triggered when you define a variable with two leading underscores (__) and no trailing underscores. Python changes the name \n",
    "of the variable or method in a way that makes it harder (but not impossible) to access from outside the class. The primary goal of name mangling is to \n",
    "avoid accidental name clashes in subclasses, rather than to provide strong encapsulation like in some other languages.\n",
    "\n",
    "How Name Mangling Works:\n",
    "When an attribute or method name starts with two underscores (__) but does not end with two underscores (like __name), Python mangles the name by \n",
    "prefixing the class name. This process makes it more difficult (but not impossible) to access or override that attribute or method outside the class.\n",
    "\n",
    "For example, if a class has an attribute __name, Python will internally rename it to _ClassName__name where ClassName is the name of the class.\n",
    "\n",
    "How Name Mangling Affects Encapsulation:\n",
    "Encapsulation is about restricting access to the internal state of an object and only allowing it to be modified through controlled access methods\n",
    "(getters and setters). Name mangling helps with this by making private attributes or methods more difficult to access directly from outside the class.\n",
    "\n",
    "However, name mangling does not make the attribute truly private. It merely makes it less likely to be accessed or overridden by accident, and it \n",
    "provides a mechanism to avoid name clashes in subclasses.\n",
    "\n",
    "It is still possible to access name-mangled variables, though doing so is discouraged. Name mangling is mainly for preventing accidental access and \n",
    "modifying internal details of a class, not for providing strict security.\n",
    "'''"
   ]
  },
  {
   "cell_type": "code",
   "execution_count": null,
   "id": "ed9d6401-ee85-4b49-99f1-674e1183f5ea",
   "metadata": {},
   "outputs": [],
   "source": [
    "'''8. Create a Python class called `BankAccount` with private attributes for the account balance (`__balance`) and account number (`__account_number`). \n",
    "Provide methods for depositing and withdrawing money.'''"
   ]
  },
  {
   "cell_type": "code",
   "execution_count": 44,
   "id": "855c4d75-bd1b-4a82-82f4-396a6e16f3f8",
   "metadata": {},
   "outputs": [
    {
     "name": "stdout",
     "output_type": "stream",
     "text": [
      "You have succesfully Withdwan Rs 500, available balance is 500\n",
      "Your balance has been deposited\n"
     ]
    }
   ],
   "source": [
    "class bankaccount:\n",
    "    def __init__(self, balance, account_number):\n",
    "        self.__balance = balance\n",
    "        self.__account_number = account_number\n",
    "        \n",
    "    def deposit_balance(self, dept_balance):\n",
    "        if isinstance(dept_balance, int) and dept_balance > 0:\n",
    "            self.__balance = dept_balance\n",
    "            print('Your balance has been deposited')\n",
    "        else:\n",
    "            print(\"Invalid Entry. Balance must be a non-empty integer.\")\n",
    "\n",
    "    def withdraw_balance(self, with_balance):\n",
    "        \n",
    "        if isinstance(with_balance, int) and with_balance > 0:\n",
    "            self.__balance = self.__balance - with_balance\n",
    "            print(f\"You have succesfully Withdwan Rs {with_balance}, available balance is {self.__balance}\" )\n",
    "        else:\n",
    "            print(\"Invalid Entry. Balance must be a non-empty integer.\")\n",
    "\n",
    "#Example :\n",
    "ravi = bankaccount(1000, 1111232323500)\n",
    "ravi.withdraw_balance(500)\n",
    "ravi.deposit_balance(2000)\n"
   ]
  },
  {
   "cell_type": "code",
   "execution_count": null,
   "id": "9b301a84-ba64-475c-a780-80247ef3b8e3",
   "metadata": {},
   "outputs": [],
   "source": [
    "#9. Discuss the advantages of encapsulation in terms of code maintainability and security."
   ]
  },
  {
   "cell_type": "code",
   "execution_count": null,
   "id": "a90f586a-9193-4439-9522-381a11820a39",
   "metadata": {},
   "outputs": [],
   "source": [
    "'''\n",
    "Encapsulation in object-oriented programming (OOP) offers key advantages in maintainability and security:\n",
    "\n",
    "Code Maintainability:\n",
    "Modularity: Encapsulation organizes code into manageable units (objects), making it easier to develop, test, and maintain.\n",
    "Ease of Modification: Internal implementation can be changed without affecting other parts of the code, as long as the interface remains unchanged.\n",
    "Reusability: Objects can be reused across different projects without reworking their internal code.\n",
    "Simplified Debugging: With isolated objects, debugging becomes easier by focusing on smaller, independent sections of the code.\n",
    "\n",
    "Security:\n",
    "Data Hiding: Encapsulation hides internal data, preventing unauthorized access and ensuring data integrity.\n",
    "Controlled Access: Public methods (getters/setters) control how data is accessed and modified, enforcing rules to prevent invalid changes.\n",
    "Preventing Inconsistent States: By restricting external modification, encapsulation ensures objects remain in a valid, consistent state.\n",
    "Enhanced Security: Sensitive data can be protected from direct access, reducing security risks like data leaks or tampering.\n",
    "'''"
   ]
  },
  {
   "cell_type": "code",
   "execution_count": null,
   "id": "da82b885-0f5a-4545-bb13-5c79c963943c",
   "metadata": {},
   "outputs": [],
   "source": [
    "#10. How can you access private attributes in Python? Provide an example demonstrating the use of name mangling."
   ]
  },
  {
   "cell_type": "code",
   "execution_count": 1,
   "id": "06507b95-6eae-4534-bb43-d2a49e490c24",
   "metadata": {},
   "outputs": [
    {
     "name": "stdout",
     "output_type": "stream",
     "text": [
      "42\n"
     ]
    }
   ],
   "source": [
    "'''\n",
    "In Python, private attributes are usually indicated by a single or double underscore prefix (e.g., _attribute or __attribute). To access these private\n",
    "attributes, Python uses name mangling, which alters the name of the attribute to include the class name.\n",
    "'''\n",
    "class MyClass:\n",
    "    def __init__(self):\n",
    "        self.__private = 42  # Private attribute\n",
    "\n",
    "    def get_private(self):\n",
    "        return self.__private\n",
    "\n",
    "# Creating an object of MyClass\n",
    "obj = MyClass()\n",
    "\n",
    "# Accessing private attribute using name mangling\n",
    "print(obj._MyClass__private)  # Output: 42\n"
   ]
  },
  {
   "cell_type": "code",
   "execution_count": null,
   "id": "40bca062-e9aa-4a8d-9730-3785da01374b",
   "metadata": {},
   "outputs": [],
   "source": [
    "#12. Explain the concept of property decorators in Python and how they relate to encapsulation."
   ]
  },
  {
   "cell_type": "code",
   "execution_count": 2,
   "id": "6c32a645-19c0-461b-8a9f-88d946a09a47",
   "metadata": {},
   "outputs": [
    {
     "name": "stdout",
     "output_type": "stream",
     "text": [
      "10\n"
     ]
    }
   ],
   "source": [
    "'''\n",
    "\n",
    "In Python, the property decorator allows you to define methods that can be accessed like attributes, providing a way to control the access to private \n",
    "data while maintaining encapsulation.\n",
    "\n",
    "Concept:\n",
    "The @property decorator makes a method behave like an attribute.\n",
    "You can define getter, setter, and deleter methods to manage access to a private attribute, offering more control over how data is retrieved or modified.\n",
    "'''\n",
    "class MyClass:\n",
    "    def __init__(self, value):\n",
    "        self._value = value  # Private attribute\n",
    "\n",
    "    @property\n",
    "    def value(self):\n",
    "        return self._value  # Getter method\n",
    "\n",
    "    @value.setter\n",
    "    def value(self, new_value):\n",
    "        if new_value >= 0:\n",
    "            self._value = new_value  # Setter method with validation\n",
    "        else:\n",
    "            raise ValueError(\"Value must be non-negative\")\n",
    "\n",
    "# Usage\n",
    "obj = MyClass(10)\n",
    "print(obj.value)  # Access via getter\n",
    "obj.value = 20  # Modify via setter\n",
    "# obj.value = -5  # This would raise an error\n"
   ]
  },
  {
   "cell_type": "code",
   "execution_count": null,
   "id": "f2f053b4-8e43-4d6a-95b3-4a72e24593f4",
   "metadata": {},
   "outputs": [],
   "source": [
    "# 13. What is data hiding, and why is it important in encapsulation? Provide examples."
   ]
  },
  {
   "cell_type": "code",
   "execution_count": 3,
   "id": "023873d6-71ea-4e21-9e6b-b75708a3c0be",
   "metadata": {},
   "outputs": [
    {
     "name": "stdout",
     "output_type": "stream",
     "text": [
      "100\n"
     ]
    }
   ],
   "source": [
    "'''\n",
    "Data hiding refers to the practice of restricting access to an object's internal state (attributes) to prevent direct modification from outside the \n",
    "class. It is a key feature of encapsulation and ensures that the internal data is accessed or modified only through well-defined methods (getters and \n",
    "setters).\n",
    "\n",
    "Importance in Encapsulation:\n",
    "Protects Data Integrity: Prevents invalid or inconsistent changes to the internal state.\n",
    "Improves Security: Sensitive data can be hidden and only accessible through controlled methods, reducing the risk of unauthorized access.\n",
    "Reduces Complexity: External users interact with objects via simple interfaces rather than needing to know the internal details.\n",
    "'''\n",
    "class BankAccount:\n",
    "    def __init__(self, balance):\n",
    "        self.__balance = balance  # Private attribute\n",
    "\n",
    "    @property\n",
    "    def balance(self):\n",
    "        return self.__balance  # Getter method\n",
    "\n",
    "    @balance.setter\n",
    "    def balance(self, amount):\n",
    "        if amount >= 0:\n",
    "            self.__balance = amount  # Setter method with validation\n",
    "        else:\n",
    "            raise ValueError(\"Balance cannot be negative\")\n",
    "\n",
    "# Usage\n",
    "account = BankAccount(100)\n",
    "print(account.balance)  # Access via getter\n",
    "account.balance = 150   # Modify via setter\n",
    "# account.balance = -50  # This would raise an error\n"
   ]
  },
  {
   "cell_type": "code",
   "execution_count": null,
   "id": "6cc94450-147e-4f13-8c5a-ccbc00145e78",
   "metadata": {},
   "outputs": [],
   "source": [
    "'''11. Create a Python class hierarchy for a school system, including classes for students, teachers, and courses, and implement encapsulation principles \n",
    "to protect sensitive information.'''"
   ]
  },
  {
   "cell_type": "code",
   "execution_count": 4,
   "id": "1f5cee89-3b10-4d43-a8ff-24fcdc995bf1",
   "metadata": {},
   "outputs": [
    {
     "name": "stdout",
     "output_type": "stream",
     "text": [
      "Alice's grades: {'Math 101': 95}\n",
      "Students in Math 101: ['Alice', 'Bob']\n"
     ]
    }
   ],
   "source": [
    "class Person:\n",
    "    def __init__(self, name, age):\n",
    "        self.name = name\n",
    "        self.age = age\n",
    "\n",
    "class Student(Person):\n",
    "    def __init__(self, name, age, student_id):\n",
    "        super().__init__(name, age)\n",
    "        self.__student_id = student_id  # Private attribute\n",
    "        self.__grades = {}  # Private dictionary to store grades\n",
    "\n",
    "    @property\n",
    "    def student_id(self):\n",
    "        return self.__student_id\n",
    "\n",
    "    def add_grade(self, course, grade):\n",
    "        if course not in self.__grades:\n",
    "            self.__grades[course] = grade\n",
    "        else:\n",
    "            raise ValueError(f\"Grade for {course} already exists.\")\n",
    "\n",
    "    @property\n",
    "    def grades(self):\n",
    "        return self.__grades  # Provide access to grades in a controlled way\n",
    "\n",
    "class Teacher(Person):\n",
    "    def __init__(self, name, age, teacher_id, salary):\n",
    "        super().__init__(name, age)\n",
    "        self.__teacher_id = teacher_id  # Private attribute\n",
    "        self.__salary = salary  # Private attribute\n",
    "\n",
    "    @property\n",
    "    def teacher_id(self):\n",
    "        return self.__teacher_id\n",
    "\n",
    "    @property\n",
    "    def salary(self):\n",
    "        return self.__salary  # Read-only access to salary\n",
    "\n",
    "    @salary.setter\n",
    "    def salary(self, amount):\n",
    "        if amount > 0:\n",
    "            self.__salary = amount  # Modify salary with validation\n",
    "        else:\n",
    "            raise ValueError(\"Salary must be positive.\")\n",
    "\n",
    "class Course:\n",
    "    def __init__(self, course_name, teacher):\n",
    "        self.course_name = course_name\n",
    "        self.__teacher = teacher  # Private attribute to store teacher information\n",
    "        self.__students = []  # Private list to store enrolled students\n",
    "\n",
    "    @property\n",
    "    def teacher(self):\n",
    "        return self.__teacher\n",
    "\n",
    "    def add_student(self, student):\n",
    "        if student not in self.__students:\n",
    "            self.__students.append(student)\n",
    "        else:\n",
    "            raise ValueError(f\"{student.name} is already enrolled in this course.\")\n",
    "\n",
    "    @property\n",
    "    def students(self):\n",
    "        return [student.name for student in self.__students]  # Return student names\n",
    "\n",
    "# Example usage:\n",
    "\n",
    "# Create teacher and courses\n",
    "teacher1 = Teacher(\"Mr. Smith\", 45, \"T001\", 50000)\n",
    "course1 = Course(\"Math 101\", teacher1)\n",
    "\n",
    "# Create students and enroll in courses\n",
    "student1 = Student(\"Alice\", 20, \"S001\")\n",
    "student2 = Student(\"Bob\", 22, \"S002\")\n",
    "\n",
    "course1.add_student(student1)\n",
    "course1.add_student(student2)\n",
    "\n",
    "# Add grades for students\n",
    "student1.add_grade(\"Math 101\", 95)\n",
    "student2.add_grade(\"Math 101\", 88)\n",
    "\n",
    "# Display student grades and course enrollment\n",
    "print(f\"{student1.name}'s grades: {student1.grades}\")\n",
    "print(f\"Students in {course1.course_name}: {course1.students}\")\n"
   ]
  },
  {
   "cell_type": "code",
   "execution_count": null,
   "id": "8e254ef0-a3e4-4016-8b7c-957141e0831e",
   "metadata": {},
   "outputs": [],
   "source": [
    "'''14. Create a Python class called `Employee` with private attributes for salary (`__salary`) and employee ID (`__employee_id`). Provide a method to\n",
    "calculate yearly bonuses.'''"
   ]
  },
  {
   "cell_type": "code",
   "execution_count": 5,
   "id": "1d62a4de-1dfb-46d0-b101-84c4a61c1e0d",
   "metadata": {},
   "outputs": [
    {
     "name": "stdout",
     "output_type": "stream",
     "text": [
      "John Doe will receive a bonus of: $5000.0\n",
      "John Doe will now receive a bonus of: $5500.0\n"
     ]
    }
   ],
   "source": [
    "class Employee:\n",
    "    def __init__(self, name, employee_id, salary):\n",
    "        self.name = name\n",
    "        self.__employee_id = employee_id  # Private attribute\n",
    "        self.__salary = salary  # Private attribute\n",
    "\n",
    "    @property\n",
    "    def employee_id(self):\n",
    "        return self.__employee_id\n",
    "\n",
    "    @property\n",
    "    def salary(self):\n",
    "        return self.__salary\n",
    "\n",
    "    @salary.setter\n",
    "    def salary(self, new_salary):\n",
    "        if new_salary > 0:\n",
    "            self.__salary = new_salary\n",
    "        else:\n",
    "            raise ValueError(\"Salary must be positive.\")\n",
    "\n",
    "    def calculate_bonus(self, percentage):\n",
    "        \"\"\"Calculate the yearly bonus based on the salary and a given percentage.\"\"\"\n",
    "        bonus = (self.__salary * percentage) / 100\n",
    "        return bonus\n",
    "\n",
    "# Example usage:\n",
    "employee = Employee(\"John Doe\", \"E123\", 50000)\n",
    "\n",
    "# Calculate bonus with a 10% bonus percentage\n",
    "bonus = employee.calculate_bonus(10)\n",
    "print(f\"{employee.name} will receive a bonus of: ${bonus}\")\n",
    "\n",
    "# Modify the salary with setter\n",
    "employee.salary = 55000\n",
    "\n",
    "# Calculate bonus with a new salary\n",
    "bonus = employee.calculate_bonus(10)\n",
    "print(f\"{employee.name} will now receive a bonus of: ${bonus}\")\n"
   ]
  },
  {
   "cell_type": "code",
   "execution_count": null,
   "id": "92de40fe-42e3-415b-a44d-92a7b2837cf0",
   "metadata": {},
   "outputs": [],
   "source": [
    "#15. Discuss the use of accessors and mutators in encapsulation. How do they help maintain control over attribute access?"
   ]
  },
  {
   "cell_type": "code",
   "execution_count": 1,
   "id": "bc051764-26b4-4b3c-9075-e54e53ad574a",
   "metadata": {},
   "outputs": [],
   "source": [
    "'''\n",
    "Accessors (getters) and mutators (setters) are methods used in encapsulation to control access to an object's private attributes:\n",
    "\n",
    "Accessors (Getters):\n",
    "Used to retrieve the value of private attributes.\n",
    "Provide controlled access without exposing internal details.\n",
    "Mutators (Setters):\n",
    "Used to modify private attributes.\n",
    "Allow validation and control over how data is updated (e.g., ensuring valid values).\n",
    "Benefits:\n",
    "Control: Allows reading and modifying data only in a controlled way.\n",
    "Data Validation: Ensures attributes are only set to valid values.\n",
    "Encapsulation: Hides internal details and maintains flexibility in how data is represented or stored.\n",
    "'''\n",
    "\n",
    "class Person:\n",
    "    def __init__(self, name, age):\n",
    "        self.__name = name\n",
    "        self.__age = age\n",
    "\n",
    "    @property\n",
    "    def name(self):\n",
    "        return self.__name\n",
    "\n",
    "    @name.setter\n",
    "    def name(self, value):\n",
    "        if value:\n",
    "            self.__name = value\n",
    "\n",
    "    @property\n",
    "    def age(self):\n",
    "        return self.__age\n",
    "\n",
    "    @age.setter\n",
    "    def age(self, value):\n",
    "        if value >= 0:\n",
    "            self.__age = value\n",
    "\n",
    "person = Person(\"Alice\", 30)\n",
    "person.age = 35  # Valid update\n"
   ]
  },
  {
   "cell_type": "code",
   "execution_count": null,
   "id": "6c106c38-267d-4b4c-9e2c-fb76b2773ec0",
   "metadata": {},
   "outputs": [],
   "source": [
    "#16. What are the potential drawbacks or disadvantages of using encapsulation in Python?"
   ]
  },
  {
   "cell_type": "code",
   "execution_count": null,
   "id": "32745d5c-3676-45f2-bda4-8b4a060c1274",
   "metadata": {},
   "outputs": [],
   "source": [
    "'''\n",
    "Increased Complexity:\n",
    "\n",
    "Requires more code with getter and setter methods, which can make the class structure more complex.\n",
    "Performance Overhead:\n",
    "\n",
    "Using getter/setter methods adds a slight overhead compared to direct attribute access, potentially affecting performance in some cases.\n",
    "Reduced Flexibility:\n",
    "\n",
    "Limited direct access to internal state can make debugging or modifying attributes harder, especially during testing.\n",
    "Increased Maintenance:\n",
    "\n",
    "Changes to attributes require updating both the attribute and its associated methods, increasing maintenance complexity.\n",
    "False Sense of Security:\n",
    "\n",
    "Python's name mangling for private attributes can be bypassed, meaning encapsulation doesn't provide true privacy.\n",
    "'''\n"
   ]
  },
  {
   "cell_type": "code",
   "execution_count": null,
   "id": "2bedfc35-1d6c-4314-916a-84076dfadd2c",
   "metadata": {},
   "outputs": [],
   "source": [
    "#17. Create a Python class for a library system that encapsulates book information, including titles, authors, and availability status."
   ]
  },
  {
   "cell_type": "code",
   "execution_count": 2,
   "id": "de00d693-fe95-4e2d-950e-b2c0d7fc1903",
   "metadata": {},
   "outputs": [
    {
     "name": "stdout",
     "output_type": "stream",
     "text": [
      "Library Books:\n",
      "Title: The Great Gatsby, Author: F. Scott Fitzgerald, Available: True\n",
      "Title: 1984, Author: George Orwell, Available: False\n",
      "\n",
      "Checking out 'The Great Gatsby':\n",
      "You have successfully checked out 'The Great Gatsby'.\n",
      "\n",
      "Checking out '1984':\n",
      "'1984' is currently unavailable.\n",
      "\n",
      "Returning 'The Great Gatsby':\n",
      "'The Great Gatsby' has been returned.\n",
      "\n",
      "Library Books after returning:\n",
      "Title: The Great Gatsby, Author: F. Scott Fitzgerald, Available: True\n",
      "Title: 1984, Author: George Orwell, Available: False\n"
     ]
    }
   ],
   "source": [
    "class Book:\n",
    "    def __init__(self, title, author, availability=True):\n",
    "        self.__title = title       # private attribute for the book title\n",
    "        self.__author = author     # private attribute for the author\n",
    "        self.__availability = availability  # private attribute for the availability status\n",
    "\n",
    "    # Getter for title\n",
    "    @property\n",
    "    def title(self):\n",
    "        return self.__title\n",
    "\n",
    "    # Getter for author\n",
    "    @property\n",
    "    def author(self):\n",
    "        return self.__author\n",
    "\n",
    "    # Getter for availability\n",
    "    @property\n",
    "    def availability(self):\n",
    "        return self.__availability\n",
    "\n",
    "    # Setter for availability\n",
    "    @availability.setter\n",
    "    def availability(self, status):\n",
    "        if isinstance(status, bool):\n",
    "            self.__availability = status\n",
    "        else:\n",
    "            raise ValueError(\"Availability must be a boolean value.\")\n",
    "\n",
    "    def __str__(self):\n",
    "        return f\"Title: {self.__title}, Author: {self.__author}, Available: {self.__availability}\"\n",
    "\n",
    "class Library:\n",
    "    def __init__(self):\n",
    "        self.__books = []  # private list to store books\n",
    "\n",
    "    # Method to add a book to the library\n",
    "    def add_book(self, book):\n",
    "        if isinstance(book, Book):\n",
    "            self.__books.append(book)\n",
    "        else:\n",
    "            raise ValueError(\"Only Book instances can be added to the library.\")\n",
    "\n",
    "    # Method to search for a book by title\n",
    "    def search_by_title(self, title):\n",
    "        for book in self.__books:\n",
    "            if book.title.lower() == title.lower():\n",
    "                return book\n",
    "        return None\n",
    "\n",
    "    # Method to check out a book\n",
    "    def check_out(self, title):\n",
    "        book = self.search_by_title(title)\n",
    "        if book and book.availability:\n",
    "            book.availability = False  # Update availability\n",
    "            return f\"You have successfully checked out '{book.title}'.\"\n",
    "        elif book and not book.availability:\n",
    "            return f\"'{book.title}' is currently unavailable.\"\n",
    "        else:\n",
    "            return f\"Book '{title}' not found in the library.\"\n",
    "\n",
    "    # Method to return a book\n",
    "    def return_book(self, title):\n",
    "        book = self.search_by_title(title)\n",
    "        if book:\n",
    "            book.availability = True  # Update availability\n",
    "            return f\"'{book.title}' has been returned.\"\n",
    "        else:\n",
    "            return f\"Book '{title}' not found in the library.\"\n",
    "\n",
    "    # Method to display all books in the library\n",
    "    def display_books(self):\n",
    "        if not self.__books:\n",
    "            return \"No books in the library.\"\n",
    "        return \"\\n\".join(str(book) for book in self.__books)\n",
    "\n",
    "\n",
    "# Example Usage:\n",
    "\n",
    "# Create a Library instance\n",
    "library = Library()\n",
    "\n",
    "# Create Book instances\n",
    "book1 = Book(\"The Great Gatsby\", \"F. Scott Fitzgerald\")\n",
    "book2 = Book(\"1984\", \"George Orwell\", availability=False)  # Initially checked out\n",
    "\n",
    "# Add books to the library\n",
    "library.add_book(book1)\n",
    "library.add_book(book2)\n",
    "\n",
    "# Display all books\n",
    "print(\"Library Books:\")\n",
    "print(library.display_books())\n",
    "\n",
    "# Check out a book\n",
    "print(\"\\nChecking out 'The Great Gatsby':\")\n",
    "print(library.check_out(\"The Great Gatsby\"))\n",
    "\n",
    "# Try checking out an unavailable book\n",
    "print(\"\\nChecking out '1984':\")\n",
    "print(library.check_out(\"1984\"))\n",
    "\n",
    "# Return a book\n",
    "print(\"\\nReturning 'The Great Gatsby':\")\n",
    "print(library.return_book(\"The Great Gatsby\"))\n",
    "\n",
    "# Display all books after returning\n",
    "print(\"\\nLibrary Books after returning:\")\n",
    "print(library.display_books())\n"
   ]
  },
  {
   "cell_type": "code",
   "execution_count": null,
   "id": "a536de8c-ef6e-4721-ba23-9190142ce4a5",
   "metadata": {},
   "outputs": [],
   "source": [
    " #18. Explain how encapsulation enhances code reusability and modularity in Python programs. "
   ]
  },
  {
   "cell_type": "code",
   "execution_count": null,
   "id": "30ef25af-b8da-47cf-b3fc-03472e171ae2",
   "metadata": {},
   "outputs": [],
   "source": [
    "'''\n",
    "Code Reusability: By hiding implementation details and exposing only necessary methods, encapsulation allows classes to be reused across different\n",
    "projects without needing to rewrite the logic.\n",
    "\n",
    "Modularity: It breaks the program into independent modules (classes) with clear interfaces, making it easier to manage, test, and update individual \n",
    "parts without affecting the entire system.\n",
    "\n",
    "Isolation of Changes: Changes inside a class (e.g., how data is stored) don’t affect other parts of the program as long as the public interface remains\n",
    "the same.\n",
    "\n",
    "Maintenance: Encapsulation makes code easier to maintain by restricting access to internal state and defining clear interaction points.\n",
    "'''"
   ]
  },
  {
   "cell_type": "code",
   "execution_count": null,
   "id": "373012b6-1301-423e-974a-a75a5f1914dd",
   "metadata": {},
   "outputs": [],
   "source": [
    "#19. Describe the concept of information hiding in encapsulation. Why is it essential in software development? "
   ]
  },
  {
   "cell_type": "code",
   "execution_count": null,
   "id": "214a9cb5-5063-4600-a38b-ac752611687d",
   "metadata": {},
   "outputs": [],
   "source": [
    "'''\n",
    "Information hiding in encapsulation is the practice of concealing a class's internal details (like attributes and implementation) and only exposing\n",
    "necessary functionality through a public interface.\n",
    "\n",
    "Importance in Software Development:\n",
    "Security & Integrity: Prevents external manipulation of the internal state, ensuring controlled data access.\n",
    "Maintainability: Changes to internal implementation do not affect other parts of the system.\n",
    "Flexibility & Extensibility: Allows easy modification or extension of functionality without breaking the external interface.\n",
    "Reduced Complexity: Simplifies the interface, making it easier for others to use the class.\n",
    "Encapsulation of Complexity: Keeps complex logic hidden, allowing external users to interact with a simpler API.\n",
    "''''"
   ]
  },
  {
   "cell_type": "code",
   "execution_count": null,
   "id": "62384511-85c8-4855-bfac-4901aa74748c",
   "metadata": {},
   "outputs": [],
   "source": [
    "'''20. Create a Python class called `Customer` with private attributes for customer details like name, address, and contact information. Implement \n",
    "encapsulation to ensure data integrity and security.'''"
   ]
  },
  {
   "cell_type": "code",
   "execution_count": 4,
   "id": "85b7de8e-c618-47ef-a892-8b0763fdd43c",
   "metadata": {},
   "outputs": [
    {
     "name": "stdout",
     "output_type": "stream",
     "text": [
      "Customer Name: John Doe\n",
      "Address: 123 Elm St\n",
      "Contact: 123-456-7890\n",
      "\n",
      "Updated Customer Information:\n",
      "Customer Name: Jane Doe\n",
      "Address: 456 Oak St\n",
      "Contact: 987-654-3210\n",
      "\n",
      "Error: Invalid name.\n",
      "Error: Invalid contact information.\n"
     ]
    }
   ],
   "source": [
    "class Customer:\n",
    "    def __init__(self, name, address, contact):\n",
    "        self.__name = name        # Private attribute for name\n",
    "        self.__address = address  # Private attribute for address\n",
    "        self.__contact = contact  # Private attribute for contact information\n",
    "\n",
    "    # Getter for name\n",
    "    @property\n",
    "    def name(self):\n",
    "        return self.__name\n",
    "\n",
    "    # Setter for name\n",
    "    @name.setter\n",
    "    def name(self, name):\n",
    "        if isinstance(name, str) and len(name) > 0:\n",
    "            self.__name = name\n",
    "        else:\n",
    "            raise ValueError(\"Invalid name.\")\n",
    "\n",
    "    # Getter for address\n",
    "    @property\n",
    "    def address(self):\n",
    "        return self.__address\n",
    "\n",
    "    # Setter for address\n",
    "    @address.setter\n",
    "    def address(self, address):\n",
    "        if isinstance(address, str) and len(address) > 0:\n",
    "            self.__address = address\n",
    "        else:\n",
    "            raise ValueError(\"Invalid address.\")\n",
    "\n",
    "    # Getter for contact\n",
    "    @property\n",
    "    def contact(self):\n",
    "        return self.__contact\n",
    "\n",
    "    # Setter for contact\n",
    "    @contact.setter\n",
    "    def contact(self, contact):\n",
    "        if isinstance(contact, str) and len(contact) > 0:\n",
    "            self.__contact = contact\n",
    "        else:\n",
    "            raise ValueError(\"Invalid contact information.\")\n",
    "\n",
    "    # Method to display customer details\n",
    "    def display_customer_info(self):\n",
    "        return f\"Customer Name: {self.__name}\\nAddress: {self.__address}\\nContact: {self.__contact}\"\n",
    "\n",
    "\n",
    "# Example Usage:\n",
    "# Create a Customer instance\n",
    "customer1 = Customer(\"John Doe\", \"123 Elm St\", \"123-456-7890\")\n",
    "\n",
    "# Access customer information using getter methods\n",
    "print(customer1.display_customer_info())\n",
    "\n",
    "# Update customer information using setter methods\n",
    "customer1.name = \"Jane Doe\"\n",
    "customer1.address = \"456 Oak St\"\n",
    "customer1.contact = \"987-654-3210\"\n",
    "\n",
    "# Display updated information\n",
    "print(\"\\nUpdated Customer Information:\")\n",
    "print(customer1.display_customer_info())\n",
    "\n",
    "# Invalid input handling\n",
    "try:\n",
    "    customer1.name = \"\"  # Invalid name\n",
    "except ValueError as e:\n",
    "    print(f\"\\nError: {e}\")\n",
    "\n",
    "try:\n",
    "    customer1.contact = \"\"  # Invalid contact\n",
    "except ValueError as e:\n",
    "    print(f\"Error: {e}\")\n"
   ]
  },
  {
   "cell_type": "code",
   "execution_count": null,
   "id": "22fda676-71ed-4af5-8b51-172e468c1d36",
   "metadata": {},
   "outputs": [],
   "source": [
    "'''Polymorphism:\n",
    " 1. What is polymorphism in Python? Explain how it is related to object-oriented programming. '''"
   ]
  },
  {
   "cell_type": "code",
   "execution_count": null,
   "id": "75738d96-2665-4d59-8960-1cfe2f876734",
   "metadata": {},
   "outputs": [],
   "source": [
    "'''\n",
    "Polymorphism in Python is a concept in object-oriented programming (OOP) that lets you use a single interface to work with objects of different types. \n",
    "The word \"polymorphism\" means \"many forms,\" and it allows different classes to have methods with the same name but different behaviors\n",
    "\n",
    "Imagine you have different animals like a dog and a cat. Both can make sounds, but the sound they make is different. You can define a common method \n",
    "called sound in a base class and then let each specific animal class provide its own version of the method.\n",
    "'''"
   ]
  },
  {
   "cell_type": "code",
   "execution_count": null,
   "id": "8dd9a9f0-00bd-4121-a674-1312da97350b",
   "metadata": {},
   "outputs": [],
   "source": [
    "#2. Describe the difference between compile-time polymorphism and runtime polymorphism in Python."
   ]
  },
  {
   "cell_type": "code",
   "execution_count": null,
   "id": "95ffb87f-1cdf-4302-bfb8-0d0a70e8c711",
   "metadata": {},
   "outputs": [],
   "source": [
    "'''\n",
    "1. Compile-Time Polymorphism (Static Polymorphism)\n",
    "This type of polymorphism is resolved before the program runs, usually during the \"compilation\" phase.\n",
    "It happens when a function or method behaves differently based on the number or type of arguments provided.\n",
    "Python doesn’t support compile-time polymorphism directly because it’s dynamically typed. However, you can achieve similar behavior using default arguments or variable-length arguments (*args, **kwargs).\n",
    "\n",
    "2. Runtime Polymorphism (Dynamic Polymorphism)\n",
    "This type of polymorphism is resolved while the program is running.\n",
    "It happens when a subclass overrides a method from its parent class. The method that gets executed depends on the actual object being used at runtime.\n",
    "This is the more common form of polymorphism in Python, thanks to its dynamic nature.\n",
    "'''"
   ]
  },
  {
   "cell_type": "code",
   "execution_count": null,
   "id": "413adb20-4771-4982-b5e8-eccd861186ba",
   "metadata": {},
   "outputs": [],
   "source": [
    "''' 3. Create a Python class hierarchy for shapes (e.g., circle, square, triangle) and demonstrate polymorphism through a common method, such as \n",
    "`calculate_area()`.'''"
   ]
  },
  {
   "cell_type": "code",
   "execution_count": 1,
   "id": "4b0ec183-5057-4f9f-8b05-27763b8d669e",
   "metadata": {},
   "outputs": [
    {
     "name": "stdout",
     "output_type": "stream",
     "text": [
      "The area of the circle is: 78.53981633974483\n",
      "The area of the square is: 16\n",
      "The area of the triangle is: 9.0\n"
     ]
    }
   ],
   "source": [
    "import math\n",
    "\n",
    "# Base class\n",
    "class Shape:\n",
    "    def calculate_area(self):\n",
    "        raise NotImplementedError(\"Subclasses must implement this method\")\n",
    "\n",
    "# Circle class\n",
    "class Circle(Shape):\n",
    "    def __init__(self, radius):\n",
    "        self.radius = radius\n",
    "\n",
    "    def calculate_area(self):\n",
    "        return math.pi * self.radius ** 2\n",
    "\n",
    "# Square class\n",
    "class Square(Shape):\n",
    "    def __init__(self, side):\n",
    "        self.side = side\n",
    "\n",
    "    def calculate_area(self):\n",
    "        return self.side ** 2\n",
    "\n",
    "# Triangle class\n",
    "class Triangle(Shape):\n",
    "    def __init__(self, base, height):\n",
    "        self.base = base\n",
    "        self.height = height\n",
    "\n",
    "    def calculate_area(self):\n",
    "        return 0.5 * self.base * self.height\n",
    "\n",
    "# Demonstrating polymorphism\n",
    "def print_area(shape):\n",
    "    print(f\"The area of the {type(shape).__name__.lower()} is: {shape.calculate_area()}\")\n",
    "\n",
    "# Create instances of each shape\n",
    "circle = Circle(radius=5)\n",
    "square = Square(side=4)\n",
    "triangle = Triangle(base=6, height=3)\n",
    "\n",
    "# Use the common interface to calculate and print areas\n",
    "shapes = [circle, square, triangle]\n",
    "for shape in shapes:\n",
    "    print_area(shape)\n"
   ]
  },
  {
   "cell_type": "code",
   "execution_count": null,
   "id": "4b68742d-86b8-4faa-9390-86b8d6de5bb2",
   "metadata": {},
   "outputs": [],
   "source": [
    " #4. Explain the concept of method overriding in polymorphism. Provide an example."
   ]
  },
  {
   "cell_type": "code",
   "execution_count": null,
   "id": "0f9399b6-f507-42c0-80fc-d8a3eedae560",
   "metadata": {},
   "outputs": [],
   "source": [
    "'''\n",
    "Method overriding is a key concept in object-oriented programming and is closely related \n",
    "to runtime polymorphism. It occurs when a subclass provides its own implementation of a \n",
    "method that is already defined in its parent class. The method in the subclass has the same name, parameters, and return type as the method in the parent class."
   ]
  },
  {
   "cell_type": "code",
   "execution_count": null,
   "id": "40d2bf3e-d75d-4de7-8ca1-5c80da8f3d6c",
   "metadata": {},
   "outputs": [],
   "source": [
    " #5. How is polymorphism different from method overloading in Python? Provide examples for both."
   ]
  },
  {
   "cell_type": "code",
   "execution_count": 2,
   "id": "1cb75589-7410-4eba-a2bd-ac1709f5cafa",
   "metadata": {},
   "outputs": [
    {
     "name": "stdout",
     "output_type": "stream",
     "text": [
      "Bark\n",
      "Meow\n",
      "5\n",
      "15\n",
      "35\n"
     ]
    }
   ],
   "source": [
    "'''\n",
    "1. Polymorphism\n",
    "Definition: Polymorphism allows a single method to behave differently based on the object it is called on. It is achieved through method overriding in Python.\n",
    "When Resolved: At runtime.\n",
    "Purpose: To provide a unified interface for different classes.\n",
    "'''\n",
    "# Base class\n",
    "class Animal:\n",
    "    def speak(self):\n",
    "        return \"Some generic sound\"\n",
    "\n",
    "# Derived class: Dog\n",
    "class Dog(Animal):\n",
    "    def speak(self):\n",
    "        return \"Bark\"\n",
    "\n",
    "# Derived class: Cat\n",
    "class Cat(Animal):\n",
    "    def speak(self):\n",
    "        return \"Meow\"\n",
    "\n",
    "# Polymorphism in action\n",
    "def make_sound(animal):\n",
    "    print(animal.speak())\n",
    "\n",
    "# Create objects\n",
    "dog = Dog()\n",
    "cat = Cat()\n",
    "\n",
    "# Call the common method\n",
    "make_sound(dog)  # Output: Bark\n",
    "make_sound(cat)  # Output: Meow\n",
    "\n",
    "'''\n",
    ". Method Overloading\n",
    "Definition: Method overloading allows multiple methods with the same name but different argument structures. However, Python does not support true method overloading like some other languages (e.g., Java, C++).\n",
    "When Resolved: At compile-time (in languages that support it).\n",
    "Purpose: To provide multiple ways to call the same method with different arguments.\n",
    "'''\n",
    "class Calculator:\n",
    "    def add(self, a, b=0, c=0):\n",
    "        return a + b + c\n",
    "\n",
    "calc = Calculator()\n",
    "\n",
    "# Using the same method name with different arguments\n",
    "print(calc.add(5))          # Output: 5 (one argument)\n",
    "print(calc.add(5, 10))      # Output: 15 (two arguments)\n",
    "print(calc.add(5, 10, 20))  # Output: 35 (three arguments)\n"
   ]
  },
  {
   "cell_type": "code",
   "execution_count": null,
   "id": "b2683174-a74e-4367-9b2d-3cafab5c991f",
   "metadata": {},
   "outputs": [],
   "source": [
    " '''6. Create a Python class called `Animal` with a method `speak()`. Then, create child classes like `Dog`, `Cat`, and `Bird`, each with their own \n",
    " `speak()` method. Demonstrate polymorphism by calling the `speak()` method on objects of different subclasses.'''"
   ]
  },
  {
   "cell_type": "code",
   "execution_count": 3,
   "id": "62bc0cf6-4b44-44da-8b5b-037fdab31a10",
   "metadata": {},
   "outputs": [
    {
     "name": "stdout",
     "output_type": "stream",
     "text": [
      "Bark\n",
      "Meow\n",
      "Chirp\n"
     ]
    }
   ],
   "source": [
    "# Base class\n",
    "class Animal:\n",
    "    def speak(self):\n",
    "        return \"Animal makes a sound\"\n",
    "\n",
    "# Child class: Dog\n",
    "class Dog(Animal):\n",
    "    def speak(self):\n",
    "        return \"Bark\"\n",
    "\n",
    "# Child class: Cat\n",
    "class Cat(Animal):\n",
    "    def speak(self):\n",
    "        return \"Meow\"\n",
    "\n",
    "# Child class: Bird\n",
    "class Bird(Animal):\n",
    "    def speak(self):\n",
    "        return \"Chirp\"\n",
    "\n",
    "# Function to demonstrate polymorphism\n",
    "def make_animal_speak(animal):\n",
    "    print(animal.speak())\n",
    "\n",
    "# Create objects of different subclasses\n",
    "dog = Dog()\n",
    "cat = Cat()\n",
    "bird = Bird()\n",
    "\n",
    "# Demonstrate polymorphism\n",
    "make_animal_speak(dog)  # Output: Bark\n",
    "make_animal_speak(cat)  # Output: Meow\n",
    "make_animal_speak(bird) # Output: Chirp\n"
   ]
  },
  {
   "cell_type": "code",
   "execution_count": null,
   "id": "03802893-9b03-40b4-bcda-60f77ef45103",
   "metadata": {},
   "outputs": [],
   "source": [
    "# 7. Discuss the use of abstract methods and classes in achieving polymorphism in Python. Provide an example using the `abc` module. "
   ]
  },
  {
   "cell_type": "code",
   "execution_count": 4,
   "id": "27002211-fbee-4519-9e4b-aa96794ea764",
   "metadata": {},
   "outputs": [
    {
     "name": "stdout",
     "output_type": "stream",
     "text": [
      "Bark\n",
      "Meow\n",
      "Chirp\n"
     ]
    }
   ],
   "source": [
    "'''In Python, abstract classes and abstract methods provide a blueprint for other classes. They are used to achieve polymorphism by defining methods that must be implemented in derived classes. Abstract classes cannot be instantiated directly and are created using the abc (Abstract Base Class) module.\n",
    "Key Points\n",
    "Abstract Class:\n",
    "\n",
    "A class that contains one or more abstract methods.\n",
    "Defined using abc.ABC as a base class.\n",
    "Can have concrete (fully implemented) methods in addition to abstract methods.\n",
    "Abstract Method:\n",
    "\n",
    "A method declared in an abstract class but does not have an implementation.\n",
    "Defined using the @abstractmethod decorator.\n",
    "Must be implemented by all concrete subclasses.\n",
    "Purpose:\n",
    "\n",
    "Ensures that all subclasses implement certain methods.\n",
    "Helps achieve polymorphism by enforcing a consistent interface.\n",
    "\n",
    "'''\n",
    "from abc import ABC, abstractmethod\n",
    "\n",
    "# Abstract class\n",
    "class Animal(ABC):\n",
    "    @abstractmethod\n",
    "    def speak(self):\n",
    "        \"\"\"Abstract method that must be implemented in subclasses\"\"\"\n",
    "        pass\n",
    "\n",
    "# Subclass: Dog\n",
    "class Dog(Animal):\n",
    "    def speak(self):\n",
    "        return \"Bark\"\n",
    "\n",
    "# Subclass: Cat\n",
    "class Cat(Animal):\n",
    "    def speak(self):\n",
    "        return \"Meow\"\n",
    "\n",
    "# Subclass: Bird\n",
    "class Bird(Animal):\n",
    "    def speak(self):\n",
    "        return \"Chirp\"\n",
    "\n",
    "# Function to demonstrate polymorphism\n",
    "def make_animal_speak(animal):\n",
    "    print(animal.speak())\n",
    "\n",
    "# Instantiate objects of subclasses\n",
    "dog = Dog()\n",
    "cat = Cat()\n",
    "bird = Bird()\n",
    "\n",
    "# Demonstrate polymorphism\n",
    "make_animal_speak(dog)   # Output: Bark\n",
    "make_animal_speak(cat)   # Output: Meow\n",
    "make_animal_speak(bird)  # Output: Chirp\n"
   ]
  },
  {
   "cell_type": "code",
   "execution_count": null,
   "id": "dafd4d84-1206-466d-a8a4-bc508dd9653c",
   "metadata": {},
   "outputs": [],
   "source": [
    "'''8. Create a Python class hierarchy for a vehicle system (e.g., car, bicycle, boat) and implement a polymorphic `start()` method that prints a message \n",
    "specific to each vehicle type.'''"
   ]
  },
  {
   "cell_type": "code",
   "execution_count": 5,
   "id": "829b7f8d-8967-4466-9ad5-0707fa5096ca",
   "metadata": {},
   "outputs": [
    {
     "name": "stdout",
     "output_type": "stream",
     "text": [
      "The car is starting with an engine roar!\n",
      "The bicycle is starting by pedaling!\n",
      "The boat is starting with the sound of the motor!\n"
     ]
    }
   ],
   "source": [
    "# Base class\n",
    "class Vehicle:\n",
    "    def start(self):\n",
    "        raise NotImplementedError(\"Subclass must implement abstract method\")\n",
    "\n",
    "# Subclass: Car\n",
    "class Car(Vehicle):\n",
    "    def start(self):\n",
    "        return \"The car is starting with an engine roar!\"\n",
    "\n",
    "# Subclass: Bicycle\n",
    "class Bicycle(Vehicle):\n",
    "    def start(self):\n",
    "        return \"The bicycle is starting by pedaling!\"\n",
    "\n",
    "# Subclass: Boat\n",
    "class Boat(Vehicle):\n",
    "    def start(self):\n",
    "        return \"The boat is starting with the sound of the motor!\"\n",
    "\n",
    "# Function to demonstrate polymorphism\n",
    "def start_vehicle(vehicle):\n",
    "    print(vehicle.start())\n",
    "\n",
    "# Instantiate objects of different subclasses\n",
    "car = Car()\n",
    "bicycle = Bicycle()\n",
    "boat = Boat()\n",
    "\n",
    "# Demonstrate polymorphism\n",
    "start_vehicle(car)      # Output: The car is starting with an engine roar!\n",
    "start_vehicle(bicycle)  # Output: The bicycle is starting by pedaling!\n",
    "start_vehicle(boat)     # Output: The boat is starting with the sound of the motor!\n"
   ]
  },
  {
   "cell_type": "code",
   "execution_count": null,
   "id": "3e9739db-d268-48ac-9b33-1f57d682e667",
   "metadata": {},
   "outputs": [],
   "source": [
    "# 9. Explain the significance of the `isinstance()` and `issubclass()` functions in Python polymorphism. "
   ]
  },
  {
   "cell_type": "code",
   "execution_count": null,
   "id": "f56b7852-4ad7-4b5c-990b-4df5b0370b92",
   "metadata": {},
   "outputs": [],
   "source": [
    "'''\n",
    "In Python, isinstance() and issubclass() are functions that help with checking object types and class hierarchies, making them very useful in polymorphism.\n",
    "\n",
    "1. What it does: isinstance() checks if an object is an instance of a specific class or a subclass of that class. It's useful when you want to confirm that an object is of the right type before performing actions on it.\n",
    "\n",
    "2. issubclass() Function\n",
    "What it does: issubclass() checks if a class is a subclass of another class. It's used to verify if one class inherits from another, which can be useful when you're dealing with class hierarchies.\n",
    "'''"
   ]
  },
  {
   "cell_type": "code",
   "execution_count": null,
   "id": "6ddf67cc-4b66-48dc-ad9f-ce7ec5159f05",
   "metadata": {},
   "outputs": [],
   "source": [
    "#10. What is the role of the `@abstractmethod` decorator in achieving polymorphism in Python? Provide an example."
   ]
  },
  {
   "cell_type": "code",
   "execution_count": 6,
   "id": "e579c03a-f56e-48bb-8c32-c87a1aaa3360",
   "metadata": {},
   "outputs": [
    {
     "name": "stdout",
     "output_type": "stream",
     "text": [
      "Bark\n",
      "Meow\n",
      "Chirp\n"
     ]
    }
   ],
   "source": [
    "'''\n",
    "Role of @abstractmethod in Polymorphism:\n",
    "Enforces a Common Interface: The @abstractmethod decorator forces subclasses to implement the method, ensuring they all share the same method signature. This allows polymorphism, as different subclasses can have different implementations of the same method.\n",
    "\n",
    "Prevents Instantiation of Abstract Classes: Abstract classes cannot be instantiated directly. This means you can only create objects of subclasses that implement the abstract methods, ensuring that the correct behavior is always present.\n",
    "\n",
    "Enables Polymorphic Behavior: Once the abstract method is implemented in different subclasses, you can use polymorphism to call the same method on objects of different classes, each with its own behavior.\n",
    "'''\n",
    "from abc import ABC, abstractmethod\n",
    "\n",
    "# Abstract class\n",
    "class Animal(ABC):\n",
    "    @abstractmethod\n",
    "    def speak(self):\n",
    "        pass\n",
    "\n",
    "# Subclass: Dog\n",
    "class Dog(Animal):\n",
    "    def speak(self):\n",
    "        return \"Bark\"\n",
    "\n",
    "# Subclass: Cat\n",
    "class Cat(Animal):\n",
    "    def speak(self):\n",
    "        return \"Meow\"\n",
    "\n",
    "# Subclass: Bird\n",
    "class Bird(Animal):\n",
    "    def speak(self):\n",
    "        return \"Chirp\"\n",
    "\n",
    "# Function to demonstrate polymorphism\n",
    "def make_animal_speak(animal):\n",
    "    print(animal.speak())\n",
    "\n",
    "# Create objects of different subclasses\n",
    "dog = Dog()\n",
    "cat = Cat()\n",
    "bird = Bird()\n",
    "\n",
    "# Demonstrate polymorphism\n",
    "make_animal_speak(dog)   # Output: Bark\n",
    "make_animal_speak(cat)   # Output: Meow\n",
    "make_animal_speak(bird)  # Output: Chirp\n"
   ]
  },
  {
   "cell_type": "code",
   "execution_count": null,
   "id": "5aacea1a-01f4-4e54-a4f0-30c65c3f4239",
   "metadata": {},
   "outputs": [],
   "source": [
    "'''11. Create a Python class called `Shape` with a polymorphic method `area()` that calculates the area of different shapes (e.g., circle, rectangle, \n",
    "triangle).'''\n"
   ]
  },
  {
   "cell_type": "code",
   "execution_count": null,
   "id": "a09e6a72-7d4f-41e0-b00a-ace0765fd634",
   "metadata": {},
   "outputs": [],
   "source": [
    "import math\n",
    "\n",
    "# Base class\n",
    "class Shape:\n",
    "    def area(self):\n",
    "        raise NotImplementedError(\"Subclass must implement abstract method\")\n",
    "\n",
    "# Subclass: Circle\n",
    "class Circle(Shape):\n",
    "    def __init__(self, radius):\n",
    "        self.radius = radius\n",
    "    \n",
    "    def area(self):\n",
    "        return math.pi * self.radius ** 2\n",
    "\n",
    "# Subclass: Rectangle\n",
    "class Rectangle(Shape):\n",
    "    def __init__(self, width, height):\n",
    "        self.width = width\n",
    "        self.height = height\n",
    "    \n",
    "    def area(self):\n",
    "        return self.width * self.height\n",
    "\n",
    "# Subclass: Triangle\n",
    "class Triangle(Shape):\n",
    "    def __init__(self, base, height):\n",
    "        self.base = base\n",
    "        self.height = height\n",
    "    \n",
    "    def area(self):\n",
    "        return 0.5 * self.base * self.height\n",
    "\n",
    "# Function to demonstrate polymorphism\n",
    "def print_area(shape):\n",
    "    print(f\"The area of the shape is: {shape.area()}\")\n",
    "\n",
    "# Create objects of different subclasses\n",
    "circle = Circle(5)\n",
    "rectangle = Rectangle(4, 6)\n",
    "triangle = Triangle(3, 7)\n",
    "\n",
    "# Demonstrate polymorphism\n",
    "print_area(circle)      # Output: The area of the shape is: 78.53981633974483\n",
    "print_area(rectangle)   # Output: The area of the shape is: 24\n",
    "print_area(triangle)    # Output: The area of the shape is: 10.5\n"
   ]
  },
  {
   "cell_type": "code",
   "execution_count": null,
   "id": "71eb5e19-b78f-4ccb-b046-d8f18f5448c3",
   "metadata": {},
   "outputs": [],
   "source": [
    " #12. Discuss the benefits of polymorphism in terms of code reusability and flexibility in Python programs."
   ]
  },
  {
   "cell_type": "code",
   "execution_count": null,
   "id": "28666e2e-ab40-4802-aefd-055c36a8101e",
   "metadata": {},
   "outputs": [],
   "source": [
    "'''\n",
    "1. Code Reusability\n",
    "Polymorphism allows you to write more general and reusable code. When different classes implement the same method, you can write code that works with objects of different types without knowing their exact class.\n",
    "\n",
    "2. Flexibility\n",
    "Polymorphism makes your code more flexible by allowing you to extend it without modifying existing code. You can add new classes with different behaviors without changing the existing logic that uses polymorphism."
   ]
  },
  {
   "cell_type": "code",
   "execution_count": null,
   "id": "e8970543-68c0-424a-861d-1b8771188fe1",
   "metadata": {},
   "outputs": [],
   "source": [
    "#13. Explain the use of the `super()` function in Python polymorphism. How does it help call methods of parent classes?"
   ]
  },
  {
   "cell_type": "code",
   "execution_count": null,
   "id": "f0f06e1e-3af8-4f4b-a1a0-55d08fa649d6",
   "metadata": {},
   "outputs": [],
   "source": [
    "'''\n",
    "The super() function in Python is a built-in function that allows you to call methods from a parent class (also known as a superclass) in a child class (also known as a subclass). It is commonly used in polymorphism to extend or modify the behavior of inherited methods while still retaining the functionality of the parent class.\n",
    "'''\n",
    "\n",
    "'''super() Helps in Calling Parent Class Methods:\n",
    "When a method in a subclass overrides a method in the parent class, super() can be used to call the original method from the parent class.\n",
    "It helps to avoid the need to explicitly reference the parent class by name, which makes the code more maintainable and flexible, especially in the case of multiple inheritance.\n",
    "'''"
   ]
  },
  {
   "cell_type": "code",
   "execution_count": null,
   "id": "dd857222-273d-4f13-b691-51ac4cdd4b6e",
   "metadata": {},
   "outputs": [],
   "source": [
    "'''14. Create a Python class hierarchy for a banking system with various account types (e.g., savings, checking, credit card) and demonstrate polymorphism \n",
    "by implementing a common `withdraw()` method.'''"
   ]
  },
  {
   "cell_type": "code",
   "execution_count": 7,
   "id": "18de38d2-d401-4b9f-b37f-bc21004ef08e",
   "metadata": {},
   "outputs": [
    {
     "name": "stdout",
     "output_type": "stream",
     "text": [
      "Withdrew 200 from savings account. New balance: 800\n",
      "Withdrew 600 from checking account. New balance: -100\n",
      "Withdrew 1000 from credit card account. New balance: 1000\n"
     ]
    }
   ],
   "source": [
    "class BankAccount:\n",
    "    def __init__(self, balance):\n",
    "        self.balance = balance\n",
    "    \n",
    "    def withdraw(self, amount):\n",
    "        raise NotImplementedError(\"Subclass must implement abstract method\")\n",
    "\n",
    "# Subclass: SavingsAccount\n",
    "class SavingsAccount(BankAccount):\n",
    "    def __init__(self, balance, interest_rate):\n",
    "        super().__init__(balance)\n",
    "        self.interest_rate = interest_rate\n",
    "    \n",
    "    def withdraw(self, amount):\n",
    "        if amount > self.balance:\n",
    "            print(\"Insufficient funds in savings account.\")\n",
    "        else:\n",
    "            self.balance -= amount\n",
    "            print(f\"Withdrew {amount} from savings account. New balance: {self.balance}\")\n",
    "\n",
    "# Subclass: CheckingAccount\n",
    "class CheckingAccount(BankAccount):\n",
    "    def __init__(self, balance, overdraft_limit):\n",
    "        super().__init__(balance)\n",
    "        self.overdraft_limit = overdraft_limit\n",
    "    \n",
    "    def withdraw(self, amount):\n",
    "        if amount > self.balance + self.overdraft_limit:\n",
    "            print(\"Insufficient funds in checking account, including overdraft limit.\")\n",
    "        else:\n",
    "            self.balance -= amount\n",
    "            print(f\"Withdrew {amount} from checking account. New balance: {self.balance}\")\n",
    "\n",
    "# Subclass: CreditCardAccount\n",
    "class CreditCardAccount(BankAccount):\n",
    "    def __init__(self, balance, credit_limit):\n",
    "        super().__init__(balance)\n",
    "        self.credit_limit = credit_limit\n",
    "    \n",
    "    def withdraw(self, amount):\n",
    "        if amount > self.credit_limit:\n",
    "            print(\"Exceeds credit limit.\")\n",
    "        else:\n",
    "            self.balance += amount  # Increasing debt (credit card balance)\n",
    "            print(f\"Withdrew {amount} from credit card account. New balance: {self.balance}\")\n",
    "\n",
    "# Function to demonstrate polymorphism\n",
    "def make_withdrawal(account, amount):\n",
    "    account.withdraw(amount)\n",
    "\n",
    "# Creating objects of different account types\n",
    "savings = SavingsAccount(1000, 0.03)\n",
    "checking = CheckingAccount(500, 200)\n",
    "credit_card = CreditCardAccount(0, 1500)\n",
    "\n",
    "# Demonstrating polymorphism\n",
    "make_withdrawal(savings, 200)      # Output: Withdrew 200 from savings account. New balance: 800\n",
    "make_withdrawal(checking, 600)     # Output: Withdrew 600 from checking account. New balance: -100\n",
    "make_withdrawal(credit_card, 1000) # Output: Withdrew 1000 from credit card account. New balance: 1000\n"
   ]
  },
  {
   "cell_type": "code",
   "execution_count": null,
   "id": "b3d65319-5022-4048-9269-d420707e195b",
   "metadata": {},
   "outputs": [],
   "source": [
    " #15. Describe the concept of operator overloading in Python and how it relates to polymorphism. Provide examples using operators like `+` and `*`."
   ]
  },
  {
   "cell_type": "code",
   "execution_count": 8,
   "id": "8a988fa8-3817-4146-9533-807e243d5969",
   "metadata": {},
   "outputs": [
    {
     "name": "stdout",
     "output_type": "stream",
     "text": [
      "v1 + v2 = Vector(4, 6)\n",
      "v1 * 2 = Vector(6, 8)\n"
     ]
    }
   ],
   "source": [
    "'''\n",
    "perator overloading in Python allows you to define custom behavior for operators like +, -, *, etc., when they are used with objects of your own classes. This means that you can use these operators on objects in the same way you would use them on built-in data types, like integers or strings.\n",
    "'''\n",
    "'''\n",
    "How It Relates to Polymorphism:\n",
    "Operator overloading is a form of polymorphism because it allows different types of objects to respond to the same operator in different ways. This means that the same operator (like + or *) can behave differently depending on the type of the object it's applied to.\n",
    "'''\n",
    "\n",
    "class Vector:\n",
    "    def __init__(self, x, y):\n",
    "        self.x = x\n",
    "        self.y = y\n",
    "    \n",
    "    # Overloading the '+' operator for vector addition\n",
    "    def __add__(self, other):\n",
    "        if isinstance(other, Vector):\n",
    "            return Vector(self.x + other.x, self.y + other.y)\n",
    "        else:\n",
    "            raise TypeError(\"Operand must be of type 'Vector'\")\n",
    "    \n",
    "    # Overloading the '*' operator for scalar multiplication\n",
    "    def __mul__(self, scalar):\n",
    "        if isinstance(scalar, (int, float)):\n",
    "            return Vector(self.x * scalar, self.y * scalar)\n",
    "        else:\n",
    "            raise TypeError(\"Operand must be a number (int or float)\")\n",
    "\n",
    "    # Method to represent the vector as a string\n",
    "    def __repr__(self):\n",
    "        return f\"Vector({self.x}, {self.y})\"\n",
    "\n",
    "# Creating two vector objects\n",
    "v1 = Vector(3, 4)\n",
    "v2 = Vector(1, 2)\n",
    "\n",
    "# Demonstrating operator overloading\n",
    "v3 = v1 + v2  # Vector addition (v1.x + v2.x, v1.y + v2.y)\n",
    "v4 = v1 * 2   # Scalar multiplication (v1.x * 2, v1.y * 2)\n",
    "\n",
    "print(f\"v1 + v2 = {v3}\")  # Output: Vector(4, 6)\n",
    "print(f\"v1 * 2 = {v4}\")   # Output: Vector(6, 8)\n"
   ]
  },
  {
   "cell_type": "code",
   "execution_count": null,
   "id": "7bb589bf-3d4b-4e8d-9777-172049d060e6",
   "metadata": {},
   "outputs": [],
   "source": [
    "#16. What is dynamic polymorphism, and how is it achieved in Python?"
   ]
  },
  {
   "cell_type": "code",
   "execution_count": 1,
   "id": "1f2892eb-0167-4f9f-8279-e0aae85b3d2f",
   "metadata": {},
   "outputs": [
    {
     "name": "stdout",
     "output_type": "stream",
     "text": [
      "Animal is making a sound\n",
      "Dog is barking\n",
      "Cat is meowing\n"
     ]
    }
   ],
   "source": [
    "'''Dynamic polymorphism is a concept in object-oriented programming where the method that gets executed is determined at runtime, based on the type of the object. This means that the same method can behave differently depending on the object calling it, allowing for more flexible and reusable code.\n",
    "\n",
    "How Dynamic Polymorphism Works in Python:\n",
    "In Python, dynamic polymorphism is achieved through inheritance and method overriding. Here's how it works:\n",
    "\n",
    "A base class defines a method.\n",
    "A child class can override this method with its own specific implementation.\n",
    "When the method is called on an object, Python will decide which version of the method to execute based on the actual object (not the variable type holding the object).\n",
    "\n",
    "'''\n",
    "class Animal:\n",
    "    def speak(self):\n",
    "        print(\"Animal is making a sound\")\n",
    "\n",
    "class Dog(Animal):\n",
    "    def speak(self):\n",
    "        print(\"Dog is barking\")\n",
    "\n",
    "class Cat(Animal):\n",
    "    def speak(self):\n",
    "        print(\"Cat is meowing\")\n",
    "\n",
    "# Create objects\n",
    "animal = Animal()\n",
    "dog = Dog()\n",
    "cat = Cat()\n",
    "\n",
    "# Calling the speak method on different objects\n",
    "animal.speak()  # Animal is making a sound\n",
    "dog.speak()     # Dog is barking\n",
    "cat.speak()     # Cat is meowing\n"
   ]
  },
  {
   "cell_type": "code",
   "execution_count": null,
   "id": "a21694f9-1315-4ac6-9356-b8f68a33d317",
   "metadata": {},
   "outputs": [],
   "source": [
    "''' 17. Create a Python class hierarchy for employees in a company (e.g., manager, developer, designer) and implement polymorphism through a common \n",
    "`calculate_salary()` method.'''"
   ]
  },
  {
   "cell_type": "code",
   "execution_count": 2,
   "id": "355b3d63-002d-4d2a-8c76-3445a12175f4",
   "metadata": {},
   "outputs": [
    {
     "name": "stdout",
     "output_type": "stream",
     "text": [
      "Manager Alice's Salary: $60000\n",
      "Developer Bob's Salary: $48000\n",
      "Designer Charlie's Salary: $40000\n"
     ]
    }
   ],
   "source": [
    "# Base class\n",
    "class Employee:\n",
    "    def __init__(self, name, base_salary):\n",
    "        self.name = name\n",
    "        self.base_salary = base_salary\n",
    "    \n",
    "    def calculate_salary(self):\n",
    "        # Default salary calculation (for general employees)\n",
    "        return self.base_salary\n",
    "\n",
    "# Subclass for Manager\n",
    "class Manager(Employee):\n",
    "    def __init__(self, name, base_salary, bonus):\n",
    "        super().__init__(name, base_salary)\n",
    "        self.bonus = bonus\n",
    "    \n",
    "    def calculate_salary(self):\n",
    "        # Managers have a bonus added to their base salary\n",
    "        return self.base_salary + self.bonus\n",
    "\n",
    "# Subclass for Developer\n",
    "class Developer(Employee):\n",
    "    def __init__(self, name, base_salary, hours_worked, hourly_rate):\n",
    "        super().__init__(name, base_salary)\n",
    "        self.hours_worked = hours_worked\n",
    "        self.hourly_rate = hourly_rate\n",
    "    \n",
    "    def calculate_salary(self):\n",
    "        # Developers earn extra based on hours worked\n",
    "        return self.base_salary + (self.hours_worked * self.hourly_rate)\n",
    "\n",
    "# Subclass for Designer\n",
    "class Designer(Employee):\n",
    "    def __init__(self, name, base_salary, project_bonus):\n",
    "        super().__init__(name, base_salary)\n",
    "        self.project_bonus = project_bonus\n",
    "    \n",
    "    def calculate_salary(self):\n",
    "        # Designers get a project bonus in addition to their base salary\n",
    "        return self.base_salary + self.project_bonus\n",
    "\n",
    "# Creating instances of different employee types\n",
    "manager = Manager(\"Alice\", 50000, 10000)\n",
    "developer = Developer(\"Bob\", 40000, 160, 50)  # 160 hours worked, $50 per hour\n",
    "designer = Designer(\"Charlie\", 35000, 5000)\n",
    "\n",
    "# Displaying salaries for each employee\n",
    "print(f\"Manager {manager.name}'s Salary: ${manager.calculate_salary()}\")\n",
    "print(f\"Developer {developer.name}'s Salary: ${developer.calculate_salary()}\")\n",
    "print(f\"Designer {designer.name}'s Salary: ${designer.calculate_salary()}\")\n"
   ]
  },
  {
   "cell_type": "code",
   "execution_count": null,
   "id": "5ece6b76-01f4-4452-a50d-4348a89aa1bd",
   "metadata": {},
   "outputs": [],
   "source": [
    "# 18. Discuss the concept of function pointers and how they can be used to achieve polymorphism in Python."
   ]
  },
  {
   "cell_type": "code",
   "execution_count": 3,
   "id": "2f98f606-fa29-4654-abd3-4afd9e680aae",
   "metadata": {},
   "outputs": [
    {
     "name": "stdout",
     "output_type": "stream",
     "text": [
      "Area of Rectangle: 50\n",
      "Area of Circle: 153.86\n"
     ]
    }
   ],
   "source": [
    "'''\n",
    "In Python, function pointers don’t exist in the same way as in languages like C or C++, but the concept is still possible because Python treats functions as first-class objects. This means you can assign functions to variables, pass them as arguments, and even return them from other functions, which gives us similar functionality to function pointers.\n",
    "\n",
    "What are Function Pointers?\n",
    "In languages like C, a function pointer is a variable that stores the address of a function. This allows you to call different functions dynamically. In Python, we can achieve something similar by assigning functions to variables or passing them around, enabling flexible behavior at runtime.\n",
    "\n",
    "Function Pointers in Python:\n",
    "In Python, functions are objects, so you can store them in variables, pass them as arguments, or even return them from other functions. This is essentially what function pointers do in other languages.\n",
    "\n",
    "How Python Achieves Polymorphism Using Function Pointers:\n",
    "Polymorphism in Python can be achieved by using function pointers (or function assignments). This allows different classes or objects to use the same method name, but each object can have its own behavior for that method.'''\n",
    "\n",
    "# Base class\n",
    "class Shape:\n",
    "    def __init__(self, name):\n",
    "        self.name = name\n",
    "    \n",
    "    def area(self):\n",
    "        pass  # Placeholder, will be overridden in subclasses\n",
    "\n",
    "# Function to calculate area of a rectangle\n",
    "def rectangle_area(shape):\n",
    "    return shape.width * shape.height\n",
    "\n",
    "# Function to calculate area of a circle\n",
    "def circle_area(shape):\n",
    "    return 3.14 * shape.radius * shape.radius\n",
    "\n",
    "# Subclass for Rectangle\n",
    "class Rectangle(Shape):\n",
    "    def __init__(self, width, height):\n",
    "        super().__init__(\"Rectangle\")\n",
    "        self.width = width\n",
    "        self.height = height\n",
    "        self.area = rectangle_area  # Assign function pointer\n",
    "\n",
    "# Subclass for Circle\n",
    "class Circle(Shape):\n",
    "    def __init__(self, radius):\n",
    "        super().__init__(\"Circle\")\n",
    "        self.radius = radius\n",
    "        self.area = circle_area  # Assign function pointer\n",
    "\n",
    "# Creating instances of Rectangle and Circle\n",
    "rect = Rectangle(10, 5)\n",
    "circ = Circle(7)\n",
    "\n",
    "# Using the function pointer to calculate area\n",
    "print(f\"Area of {rect.name}: {rect.area(rect)}\")  # Calls rectangle_area\n",
    "print(f\"Area of {circ.name}: {circ.area(circ)}\")  # Calls circle_area\n"
   ]
  },
  {
   "cell_type": "code",
   "execution_count": null,
   "id": "a548773b-16b2-455f-8653-00f5d8321c06",
   "metadata": {},
   "outputs": [],
   "source": [
    "#19. Explain the role of interfaces and abstract classes in polymorphism, drawing comparisons between them."
   ]
  },
  {
   "cell_type": "code",
   "execution_count": null,
   "id": "4592271c-95f4-4aff-ba4e-a02168ca1341",
   "metadata": {},
   "outputs": [],
   "source": [
    "Abstract Classes vs Interfaces in Polymorphism:\n",
    "\n",
    "Abstract Classes:\n",
    "Can have both abstract (no implementation) and concrete (with implementation) methods.\n",
    "Used to provide common functionality while forcing subclasses to implement abstract methods.\n",
    "A class can inherit from only one abstract class (single inheritance).\n",
    "Interfaces:\n",
    "Only define method signatures, with no implementation.\n",
    "Used to ensure that different classes provide specific methods, promoting uniform behavior.\n",
    "A class can implement multiple interfaces (multiple inheritance)."
   ]
  },
  {
   "cell_type": "code",
   "execution_count": null,
   "id": "20f7f338-a7a0-4375-a789-ee8f99c2907a",
   "metadata": {},
   "outputs": [],
   "source": [
    "'''20. Create a Python class for a zoo simulation, demonstrating polymorphism with different animal types (e.g., mammals, birds, reptiles) and their \n",
    "behavior (e.g., eating, sleeping, making sounds).'''"
   ]
  },
  {
   "cell_type": "code",
   "execution_count": 4,
   "id": "6f033048-d59d-4372-9192-46eb6169242a",
   "metadata": {},
   "outputs": [
    {
     "name": "stdout",
     "output_type": "stream",
     "text": [
      "\n",
      "Lion the Mammal:\n",
      "Lion is eating meat or plants.\n",
      "Lion is sleeping.\n",
      "Lion says: Roar!\n",
      "\n",
      "Parrot the Bird:\n",
      "Parrot is eating seeds or insects.\n",
      "Parrot is sleeping.\n",
      "Parrot says: Chirp!\n",
      "\n",
      "Snake the Reptile:\n",
      "Snake is eating small animals or insects.\n",
      "Snake is sleeping.\n",
      "Snake says: Hiss!\n"
     ]
    }
   ],
   "source": [
    "# Base class for Animal\n",
    "class Animal:\n",
    "    def __init__(self, name):\n",
    "        self.name = name\n",
    "\n",
    "    def eat(self):\n",
    "        pass  # This will be overridden by subclasses\n",
    "\n",
    "    def sleep(self):\n",
    "        print(f\"{self.name} is sleeping.\")\n",
    "\n",
    "    def make_sound(self):\n",
    "        pass  # This will be overridden by subclasses\n",
    "\n",
    "# Mammal class inheriting from Animal\n",
    "class Mammal(Animal):\n",
    "    def __init__(self, name, fur_type):\n",
    "        super().__init__(name)\n",
    "        self.fur_type = fur_type\n",
    "\n",
    "    def eat(self):\n",
    "        print(f\"{self.name} is eating meat or plants.\")\n",
    "\n",
    "    def make_sound(self):\n",
    "        print(f\"{self.name} says: Roar!\")\n",
    "\n",
    "# Bird class inheriting from Animal\n",
    "class Bird(Animal):\n",
    "    def __init__(self, name, wing_span):\n",
    "        super().__init__(name)\n",
    "        self.wing_span = wing_span\n",
    "\n",
    "    def eat(self):\n",
    "        print(f\"{self.name} is eating seeds or insects.\")\n",
    "\n",
    "    def make_sound(self):\n",
    "        print(f\"{self.name} says: Chirp!\")\n",
    "\n",
    "# Reptile class inheriting from Animal\n",
    "class Reptile(Animal):\n",
    "    def __init__(self, name, scale_color):\n",
    "        super().__init__(name)\n",
    "        self.scale_color = scale_color\n",
    "\n",
    "    def eat(self):\n",
    "        print(f\"{self.name} is eating small animals or insects.\")\n",
    "\n",
    "    def make_sound(self):\n",
    "        print(f\"{self.name} says: Hiss!\")\n",
    "\n",
    "# Creating instances of different animals\n",
    "lion = Mammal(\"Lion\", \"Short\")\n",
    "parrot = Bird(\"Parrot\", \"Medium\")\n",
    "snake = Reptile(\"Snake\", \"Green\")\n",
    "\n",
    "# Demonstrating polymorphism\n",
    "animals = [lion, parrot, snake]\n",
    "\n",
    "for animal in animals:\n",
    "    print(f\"\\n{animal.name} the {animal.__class__.__name__}:\")\n",
    "    animal.eat()  # Each animal has its own behavior for eating\n",
    "    animal.sleep()  # All animals sleep in the same way\n",
    "    animal.make_sound()  # Each animal makes a different sound\n"
   ]
  },
  {
   "cell_type": "code",
   "execution_count": null,
   "id": "6f64879a-0718-4f05-b8f7-f18beab3654a",
   "metadata": {},
   "outputs": [],
   "source": [
    "Abstraction:\n",
    "1. What is abstraction in Python, and how does it relate to object-oriented programming?"
   ]
  },
  {
   "cell_type": "code",
   "execution_count": null,
   "id": "32c5445e-a67c-4f5d-9bab-c05e92d9490c",
   "metadata": {},
   "outputs": [],
   "source": [
    "Abstraction in Python is about hiding the complicated details and showing only the necessary parts of an object. It’s like using a remote control— you don't need to know how it works inside, you just press buttons to get the result you want.\n",
    "\n",
    "How it works: In Python, we use abstract classes and abstract methods to achieve this. An abstract class provides a structure, but some methods are left empty, so subclasses must fill in the details.\n",
    "Relation to OOP: Abstraction is one of the core principles of Object-Oriented Programming (OOP). It helps make things simpler and more reusable by letting you focus on what an object does, not how it does it."
   ]
  },
  {
   "cell_type": "code",
   "execution_count": null,
   "id": "f115c577-5864-43b0-9cb9-577006bf3818",
   "metadata": {},
   "outputs": [],
   "source": [
    "2. Describe the benefits of abstraction in terms of code organization and complexity reduction."
   ]
  },
  {
   "cell_type": "code",
   "execution_count": null,
   "id": "1d162c1f-de47-48e3-b7ba-8e548a0c8b90",
   "metadata": {},
   "outputs": [],
   "source": [
    "Benefits of Abstraction in Code Organization and Complexity Reduction:\n",
    "\n",
    "Simplifies Code: By hiding complex implementation details, abstraction allows you to focus on the high-level operations, making the code easier to understand and work with.\n",
    "\n",
    "Improved Code Organization: Abstraction helps in organizing code into logical units (like classes and methods), which makes it more structured and maintainable.\n",
    "\n",
    "Reduces Complexity: By exposing only essential features and hiding the rest, abstraction reduces the cognitive load for developers, making it easier to work with large codebases.\n",
    "\n",
    "Encourages Reusability: Abstraction allows you to define common behavior in abstract classes, which can be reused across multiple subclasses, reducing code duplication.\n",
    "\n",
    "Easier Maintenance: Since the implementation details are hidden, changes to the internal workings of a class do not affect the code that uses the class, making it easier to maintain and update.\n",
    "\n",
    "Better Modularity: Abstraction promotes modular design by allowing different parts of a system to interact through well-defined interfaces, without needing to know the internal workings of each part."
   ]
  },
  {
   "cell_type": "code",
   "execution_count": null,
   "id": "bda92bd4-e657-49b9-bded-f8c032403eec",
   "metadata": {},
   "outputs": [],
   "source": [
    "3. Create a Python class called `Shape` with an abstract method `calculate_area()`. Then, create child classes (e.g., `Circle`, `Rectangle`) that \n",
    "implement the `calculate_area()` method. Provide an example of using these classes."
   ]
  },
  {
   "cell_type": "code",
   "execution_count": 6,
   "id": "eec53a74-13fc-4ddd-b2e1-d4cfc6e4bc11",
   "metadata": {},
   "outputs": [
    {
     "name": "stdout",
     "output_type": "stream",
     "text": [
      "Area of the circle: 78.53981633974483\n",
      "Area of the rectangle: 24\n"
     ]
    }
   ],
   "source": [
    "from abc import ABC, abstractmethod\n",
    "import math\n",
    "\n",
    "# Abstract class Shape\n",
    "class Shape(ABC):\n",
    "    @abstractmethod\n",
    "    def calculate_area(self):\n",
    "        pass  # Abstract method to be implemented by child classes\n",
    "\n",
    "# Child class Circle\n",
    "class Circle(Shape):\n",
    "    def __init__(self, radius):\n",
    "        self.radius = radius\n",
    "\n",
    "    def calculate_area(self):\n",
    "        return math.pi * self.radius ** 2  # Area of a circle: πr^2\n",
    "\n",
    "# Child class Rectangle\n",
    "class Rectangle(Shape):\n",
    "    def __init__(self, length, width):\n",
    "        self.length = length\n",
    "        self.width = width\n",
    "\n",
    "    def calculate_area(self):\n",
    "        return self.length * self.width  # Area of a rectangle: length * width\n",
    "\n",
    "# Example usage\n",
    "circle = Circle(5)\n",
    "rectangle = Rectangle(4, 6)\n",
    "\n",
    "print(f\"Area of the circle: {circle.calculate_area()}\")  # Output: Area of the circle\n",
    "print(f\"Area of the rectangle: {rectangle.calculate_area()}\")  # Output: Area of the rectangle\n"
   ]
  },
  {
   "cell_type": "code",
   "execution_count": null,
   "id": "c4deb391-095c-4b6f-a009-6287cda9d47c",
   "metadata": {},
   "outputs": [],
   "source": [
    "4. Explain the concept of abstract classes in Python and how they are defined using the `abc` module. Provide an example."
   ]
  },
  {
   "cell_type": "code",
   "execution_count": 7,
   "id": "438cc298-8546-45fe-9ea7-3a9e5d4c7e95",
   "metadata": {},
   "outputs": [
    {
     "name": "stdout",
     "output_type": "stream",
     "text": [
      "Bark\n",
      "Meow\n"
     ]
    }
   ],
   "source": [
    "'''An abstract class in Python is a class that cannot be instantiated directly. It serves as a blueprint for other classes. Abstract classes can contain abstract methods, which are methods that are declared but not implemented in the abstract class. These methods must be implemented by any subclass that inherits from the abstract class.\n",
    "\n",
    "How Abstract Classes Are Defined Using the abc Module:\n",
    "In Python, abstract classes are defined using the abc (Abstract Base Class) module. The key steps are:\n",
    "\n",
    "Inherit from ABC: The class must inherit from ABC, which is a base class provided by the abc module.\n",
    "Use @abstractmethod decorator: The @abstractmethod decorator is used to mark methods as abstract, meaning they must be implemented by subclasses.\n",
    "'''\n",
    "from abc import ABC, abstractmethod\n",
    "\n",
    "# Abstract class\n",
    "class Animal(ABC):\n",
    "    @abstractmethod\n",
    "    def sound(self):\n",
    "        pass  # Abstract method to be implemented by subclasses\n",
    "\n",
    "# Subclass 1: Dog\n",
    "class Dog(Animal):\n",
    "    def sound(self):\n",
    "        return \"Bark\"\n",
    "\n",
    "# Subclass 2: Cat\n",
    "class Cat(Animal):\n",
    "    def sound(self):\n",
    "        return \"Meow\"\n",
    "\n",
    "# Example usage\n",
    "dog = Dog()\n",
    "cat = Cat()\n",
    "\n",
    "print(dog.sound())  # Output: Bark\n",
    "print(cat.sound())  # Output: Meow\n"
   ]
  },
  {
   "cell_type": "code",
   "execution_count": null,
   "id": "a8fce439-923a-4ba6-98a5-b10c5971c6c0",
   "metadata": {},
   "outputs": [],
   "source": [
    "5. How do abstract classes differ from regular classes in Python? Discuss their use cases."
   ]
  },
  {
   "cell_type": "code",
   "execution_count": 8,
   "id": "1aa37c16-f0b2-4c84-8769-082f0c2bedd0",
   "metadata": {},
   "outputs": [
    {
     "name": "stdout",
     "output_type": "stream",
     "text": [
      "Bark\n"
     ]
    }
   ],
   "source": [
    "'''\n",
    "Difference Between Abstract Classes and Regular Classes in Python:\n",
    "Instantiation:\n",
    "\n",
    "Abstract Classes: Cannot be instantiated directly. They are meant to be used as a blueprint for other classes. You cannot create objects of an abstract class.\n",
    "Regular Classes: Can be instantiated directly to create objects.\n",
    "Abstract Methods:\n",
    "\n",
    "Abstract Classes: Contain abstract methods (methods without implementation) that must be implemented by any subclass. These methods define the required interface that subclasses must follow.\n",
    "Regular Classes: Do not require abstract methods. Methods in regular classes can have full implementations, and subclasses are not forced to override them.\n",
    "Purpose:\n",
    "\n",
    "Abstract Classes: Used to define a common interface for a group of related classes. They provide a way to enforce that certain methods are implemented by subclasses.\n",
    "Regular Classes: Used to define the actual implementation of functionality. They can be used independently without the need for inheritance or enforcing method overrides.\n",
    "Use Cases:\n",
    "Abstract Classes:\n",
    "\n",
    "Enforcing Consistency: If you have a group of related classes that should all have a certain set of methods (e.g., sound() for animals), you can use an abstract class to enforce that these methods are implemented.\n",
    "Defining Interfaces: Abstract classes can define a common interface, ensuring that different subclasses provide their own specific implementations.\n",
    "Code Reusability: You can define common behavior in abstract classes and leave certain parts to be implemented by subclasses.\n",
    "Regular Classes:\n",
    "\n",
    "Defining Concrete Implementations: Used when you have a class with a complete and specific implementation of behavior.\n",
    "Creating Objects: Regular classes are used when you need to create objects directly for use in your program.\n",
    "'''\n",
    "from abc import ABC, abstractmethod\n",
    "\n",
    "# Abstract class\n",
    "class Animal(ABC):\n",
    "    @abstractmethod\n",
    "    def sound(self):\n",
    "        pass  # Abstract method\n",
    "\n",
    "# Regular class\n",
    "class Dog:\n",
    "    def sound(self):\n",
    "        return \"Bark\"\n",
    "\n",
    "# Instantiating objects\n",
    "# animal = Animal()  # This will raise an error because Animal is abstract\n",
    "dog = Dog()  # This works because Dog is a regular class\n",
    "print(dog.sound())  # Output: Bark\n"
   ]
  },
  {
   "cell_type": "code",
   "execution_count": null,
   "id": "df349746-e767-4585-b897-02044ec6b695",
   "metadata": {},
   "outputs": [],
   "source": [
    "6. Create a Python class for a bank account and demonstrate abstraction by hiding the account balance and providing methods to deposit and withdraw funds."
   ]
  },
  {
   "cell_type": "code",
   "execution_count": 9,
   "id": "a3c0b0ca-a678-4d40-8a88-6f9fc9537bee",
   "metadata": {},
   "outputs": [
    {
     "name": "stdout",
     "output_type": "stream",
     "text": [
      "Deposited $500. New balance: $500\n",
      "Withdrew $200. New balance: $300\n",
      "Final balance: $300\n"
     ]
    }
   ],
   "source": [
    "from abc import ABC, abstractmethod\n",
    "\n",
    "# Abstract class for BankAccount\n",
    "class BankAccount(ABC):\n",
    "    def __init__(self, account_holder):\n",
    "        self.account_holder = account_holder\n",
    "        self._balance = 0  # Balance is private and hidden\n",
    "\n",
    "    @abstractmethod\n",
    "    def deposit(self, amount):\n",
    "        pass  # To be implemented by subclasses\n",
    "\n",
    "    @abstractmethod\n",
    "    def withdraw(self, amount):\n",
    "        pass  # To be implemented by subclasses\n",
    "\n",
    "    def get_balance(self):\n",
    "        return self._balance  # Provides access to the balance\n",
    "\n",
    "# Concrete class for CheckingAccount\n",
    "class CheckingAccount(BankAccount):\n",
    "    def __init__(self, account_holder):\n",
    "        super().__init__(account_holder)\n",
    "\n",
    "    def deposit(self, amount):\n",
    "        if amount > 0:\n",
    "            self._balance += amount\n",
    "            print(f\"Deposited ${amount}. New balance: ${self._balance}\")\n",
    "        else:\n",
    "            print(\"Deposit amount must be positive.\")\n",
    "\n",
    "    def withdraw(self, amount):\n",
    "        if amount > 0 and amount <= self._balance:\n",
    "            self._balance -= amount\n",
    "            print(f\"Withdrew ${amount}. New balance: ${self._balance}\")\n",
    "        else:\n",
    "            print(\"Insufficient funds or invalid amount.\")\n",
    "\n",
    "# Example usage\n",
    "account = CheckingAccount(\"John Doe\")\n",
    "account.deposit(500)\n",
    "account.withdraw(200)\n",
    "print(f\"Final balance: ${account.get_balance()}\")\n"
   ]
  },
  {
   "cell_type": "code",
   "execution_count": null,
   "id": "8dc29fcf-4b9b-4abe-9860-7e683922106c",
   "metadata": {},
   "outputs": [],
   "source": [
    "7. Discuss the concept of interface classes in Python and their role in achieving abstraction."
   ]
  },
  {
   "cell_type": "code",
   "execution_count": null,
   "id": "27a29f0b-7013-4069-9387-47aad0067c45",
   "metadata": {},
   "outputs": [],
   "source": [
    "Interface Classes in Python:\n",
    "Interface classes define methods that must be implemented by subclasses but do not provide any implementation themselves.\n",
    "In Python, we use abstract base classes (ABC) to create interfaces.\n",
    "They promote abstraction by defining a contract for subclasses, ensuring consistency across different implementations.\n",
    "Role in abstraction: Interfaces hide implementation details, enforce method implementation in subclasses, and allow for polymorphism."
   ]
  },
  {
   "cell_type": "code",
   "execution_count": null,
   "id": "25e2a414-c4fe-48ba-a23c-7ca39ccd94d6",
   "metadata": {},
   "outputs": [],
   "source": [
    "8. Create a Python class hierarchy for animals and implement abstraction by defining common methods (e.g., `eat()`, `sleep()`) in an abstract base class."
   ]
  },
  {
   "cell_type": "code",
   "execution_count": 10,
   "id": "8d4d3d93-d4f2-40a2-a0e9-1e0eb51e4097",
   "metadata": {},
   "outputs": [
    {
     "name": "stdout",
     "output_type": "stream",
     "text": [
      "Dog: Dog is eating., Dog is sleeping.\n",
      "Cat: Cat is eating., Cat is sleeping.\n"
     ]
    }
   ],
   "source": [
    "from abc import ABC, abstractmethod\n",
    "\n",
    "# Abstract class for Animal\n",
    "class Animal(ABC):\n",
    "    @abstractmethod\n",
    "    def eat(self):\n",
    "        pass  # Abstract method to be implemented by subclasses\n",
    "\n",
    "    @abstractmethod\n",
    "    def sleep(self):\n",
    "        pass  # Abstract method to be implemented by subclasses\n",
    "\n",
    "# Subclass 1: Dog\n",
    "class Dog(Animal):\n",
    "    def eat(self):\n",
    "        return \"Dog is eating.\"\n",
    "\n",
    "    def sleep(self):\n",
    "        return \"Dog is sleeping.\"\n",
    "\n",
    "# Subclass 2: Cat\n",
    "class Cat(Animal):\n",
    "    def eat(self):\n",
    "        return \"Cat is eating.\"\n",
    "\n",
    "    def sleep(self):\n",
    "        return \"Cat is sleeping.\"\n",
    "\n",
    "# Example usage\n",
    "animals = [Dog(), Cat()]\n",
    "for animal in animals:\n",
    "    print(f\"{animal.__class__.__name__}: {animal.eat()}, {animal.sleep()}\")\n"
   ]
  },
  {
   "cell_type": "code",
   "execution_count": null,
   "id": "1a5600d6-cc62-49c6-8b9e-ac8985c11796",
   "metadata": {},
   "outputs": [],
   "source": [
    "9. Explain the significance of encapsulation in achieving abstraction. Provide examples."
   ]
  },
  {
   "cell_type": "code",
   "execution_count": 11,
   "id": "8bb01e7d-0705-4ee5-9038-ba31a3c3a9d6",
   "metadata": {},
   "outputs": [
    {
     "name": "stdout",
     "output_type": "stream",
     "text": [
      "600\n"
     ]
    }
   ],
   "source": [
    "'''Encapsulation is the practice of bundling data and methods that operate on that data within a class, while restricting direct access to some of the object's components. This helps in achieving abstraction by hiding the internal details and exposing only essential functionality.\n",
    "\n",
    "Significance:\n",
    "Hides Implementation Details: Encapsulation hides how data is stored or processed, exposing only necessary methods.\n",
    "Control Over Data: Access to data is controlled through methods, ensuring valid operations.\n",
    "Improved Maintainability: Changes to internal details do not affect external code\n",
    "'''\n",
    "class BankAccount:\n",
    "    def __init__(self, owner, balance=0):\n",
    "        self.owner = owner\n",
    "        self.__balance = balance  # Private attribute\n",
    "\n",
    "    def deposit(self, amount):\n",
    "        if amount > 0:\n",
    "            self.__balance += amount\n",
    "\n",
    "    def withdraw(self, amount):\n",
    "        if 0 < amount <= self.__balance:\n",
    "            self.__balance -= amount\n",
    "\n",
    "    def get_balance(self):\n",
    "        return self.__balance  # Encapsulated balance\n",
    "\n",
    "account = BankAccount(\"John\", 500)\n",
    "account.deposit(200)\n",
    "account.withdraw(100)\n",
    "print(account.get_balance())  # Output: 600\n"
   ]
  },
  {
   "cell_type": "code",
   "execution_count": null,
   "id": "f0f8337f-97d8-4615-9aff-48556f2f9129",
   "metadata": {},
   "outputs": [],
   "source": [
    "10. What is the purpose of abstract methods, and how do they enforce abstraction in Python classes?"
   ]
  },
  {
   "cell_type": "code",
   "execution_count": null,
   "id": "e89d1b36-23ea-437d-a1da-9745db927691",
   "metadata": {},
   "outputs": [],
   "source": [
    "Abstract methods in Python are methods that are declared in an abstract class but do not have an implementation. They enforce that any subclass must provide its own implementation for these methods.\n",
    "\n",
    "How They Enforce Abstraction:\n",
    "Enforce Implementation: Subclasses must implement the abstract methods, ensuring a common interface across all subclasses.\n",
    "Hide Implementation Details: Abstract methods allow the class to define what actions should be performed without specifying how they are done, promoting abstraction."
   ]
  },
  {
   "cell_type": "code",
   "execution_count": null,
   "id": "4c0958b4-cab5-4c86-80d6-a5858efe3d40",
   "metadata": {},
   "outputs": [],
   "source": [
    "11. Create a Python class for a vehicle system and demonstrate abstraction by defining common methods (e.g., `start()`, `stop()`) in an abstract base\n",
    "class."
   ]
  },
  {
   "cell_type": "code",
   "execution_count": 12,
   "id": "fa9e36a8-ca21-4439-8631-0ee37a252089",
   "metadata": {},
   "outputs": [
    {
     "name": "stdout",
     "output_type": "stream",
     "text": [
      "Car: Car is starting., Car is stopping.\n",
      "Bike: Bike is starting., Bike is stopping.\n"
     ]
    }
   ],
   "source": [
    "from abc import ABC, abstractmethod\n",
    "\n",
    "# Abstract class for Vehicle\n",
    "class Vehicle(ABC):\n",
    "    @abstractmethod\n",
    "    def start(self):\n",
    "        pass  # Abstract method to be implemented by subclasses\n",
    "\n",
    "    @abstractmethod\n",
    "    def stop(self):\n",
    "        pass  # Abstract method to be implemented by subclasses\n",
    "\n",
    "# Subclass 1: Car\n",
    "class Car(Vehicle):\n",
    "    def start(self):\n",
    "        return \"Car is starting.\"\n",
    "\n",
    "    def stop(self):\n",
    "        return \"Car is stopping.\"\n",
    "\n",
    "# Subclass 2: Bike\n",
    "class Bike(Vehicle):\n",
    "    def start(self):\n",
    "        return \"Bike is starting.\"\n",
    "\n",
    "    def stop(self):\n",
    "        return \"Bike is stopping.\"\n",
    "\n",
    "# Example usage\n",
    "vehicles = [Car(), Bike()]\n",
    "for vehicle in vehicles:\n",
    "    print(f\"{vehicle.__class__.__name__}: {vehicle.start()}, {vehicle.stop()}\")\n"
   ]
  },
  {
   "cell_type": "code",
   "execution_count": null,
   "id": "d9acdf1d-121c-4289-ace2-4ccf64b899b7",
   "metadata": {},
   "outputs": [],
   "source": [
    "12. Describe the use of abstract properties in Python and how they can be employed in abstract classes."
   ]
  },
  {
   "cell_type": "code",
   "execution_count": null,
   "id": "e88a0b2a-d328-4874-8cd3-3adb565d4969",
   "metadata": {},
   "outputs": [],
   "source": [
    "Abstract properties are used in abstract classes to define properties that must be implemented by subclasses. They are declared using @property and @abstractmethod decorators from the abc module.\n",
    "\n",
    "How They Work:\n",
    "Abstract properties define a getter (and optionally a setter) without implementation in the abstract class.\n",
    "Subclasses must implement these properties."
   ]
  },
  {
   "cell_type": "code",
   "execution_count": null,
   "id": "5dc61a2b-668e-468a-bda4-a05ca171ff15",
   "metadata": {},
   "outputs": [],
   "source": [
    "13. Create a Python class hierarchy for employees in a company (e.g., manager, developer, designer) and implement abstraction by defining a common `get_salary()` method."
   ]
  },
  {
   "cell_type": "code",
   "execution_count": 13,
   "id": "e9264fe9-b367-4931-ad08-6879205dad02",
   "metadata": {},
   "outputs": [
    {
     "name": "stdout",
     "output_type": "stream",
     "text": [
      "Manager Salary: $60000\n",
      "Developer Salary: $43200\n",
      "Designer Salary: $35000\n"
     ]
    }
   ],
   "source": [
    "from abc import ABC, abstractmethod\n",
    "\n",
    "# Abstract class for Employee\n",
    "class Employee(ABC):\n",
    "    @abstractmethod\n",
    "    def get_salary(self):\n",
    "        pass  # Abstract method, must be implemented by subclasses\n",
    "\n",
    "# Subclass 1: Manager\n",
    "class Manager(Employee):\n",
    "    def __init__(self, name, base_salary, bonus):\n",
    "        self.name = name\n",
    "        self.base_salary = base_salary\n",
    "        self.bonus = bonus\n",
    "\n",
    "    def get_salary(self):\n",
    "        return self.base_salary + self.bonus  # Manager's salary includes a bonus\n",
    "\n",
    "# Subclass 2: Developer\n",
    "class Developer(Employee):\n",
    "    def __init__(self, name, base_salary, hours_worked):\n",
    "        self.name = name\n",
    "        self.base_salary = base_salary\n",
    "        self.hours_worked = hours_worked\n",
    "\n",
    "    def get_salary(self):\n",
    "        return self.base_salary + (self.hours_worked * 20)  # Developer's salary includes pay for extra hours worked\n",
    "\n",
    "# Subclass 3: Designer\n",
    "class Designer(Employee):\n",
    "    def __init__(self, name, base_salary):\n",
    "        self.name = name\n",
    "        self.base_salary = base_salary\n",
    "\n",
    "    def get_salary(self):\n",
    "        return self.base_salary  # Designer's salary is just the base salary\n",
    "\n",
    "# Example usage\n",
    "employees = [\n",
    "    Manager(\"Alice\", 50000, 10000),\n",
    "    Developer(\"Bob\", 40000, 160),\n",
    "    Designer(\"Charlie\", 35000)\n",
    "]\n",
    "\n",
    "for employee in employees:\n",
    "    print(f\"{employee.__class__.__name__} Salary: ${employee.get_salary()}\")\n"
   ]
  },
  {
   "cell_type": "code",
   "execution_count": null,
   "id": "e07b5ba0-2c49-4f91-8785-25de6a09635d",
   "metadata": {},
   "outputs": [],
   "source": [
    "14. Discuss the differences between abstract classes and concrete classes in Python, including their instantiation."
   ]
  },
  {
   "cell_type": "code",
   "execution_count": 14,
   "id": "66d1d220-69e1-454e-83e9-c98c0c64d15a",
   "metadata": {},
   "outputs": [
    {
     "name": "stdout",
     "output_type": "stream",
     "text": [
      "Bark\n"
     ]
    }
   ],
   "source": [
    "'''Abstract Classes vs. Concrete Classes in Python:\n",
    "Abstract Classes:\n",
    "\n",
    "Cannot be instantiated directly.\n",
    "Contain abstract methods (methods without implementation) that must be implemented by subclasses.\n",
    "Serve as blueprints for other classes.\n",
    "Concrete Classes:\n",
    "\n",
    "Can be instantiated directly.\n",
    "Provide full implementations of methods.\n",
    "Can be used in the program.\n",
    "    '''\n",
    "\n",
    "from abc import ABC, abstractmethod\n",
    "\n",
    "class Animal(ABC):\n",
    "    @abstractmethod\n",
    "    def sound(self):\n",
    "        pass\n",
    "\n",
    "class Dog(Animal):\n",
    "    def sound(self):\n",
    "        return \"Bark\"\n",
    "\n",
    "dog = Dog()\n",
    "print(dog.sound())  # Output: Bark\n"
   ]
  },
  {
   "cell_type": "code",
   "execution_count": null,
   "id": "14965a39-2b39-460b-9e2f-9c2e780ee424",
   "metadata": {},
   "outputs": [],
   "source": [
    "15. Explain the concept of abstract data types (ADTs) and their role in achieving abstraction in Python."
   ]
  },
  {
   "cell_type": "code",
   "execution_count": null,
   "id": "c3336858-2836-48cd-9751-78ca082978b3",
   "metadata": {},
   "outputs": [],
   "source": [
    "Definition: ADTs are data structures defined by a set of operations (methods) rather than their implementation. They specify what operations can be performed, not how they are implemented.\n",
    "Abstraction: ADTs hide the internal details of data structures, allowing users to interact with data through defined operations without worrying about implementation.\n",
    "Example: A stack ADT with operations like push, pop, peek, and is_empty without revealing how the data is stored internally."
   ]
  },
  {
   "cell_type": "code",
   "execution_count": null,
   "id": "8b48ff3f-be00-409c-b37c-a9069d4166d5",
   "metadata": {},
   "outputs": [],
   "source": [
    "16. Create a Python class for a computer system, demonstrating abstraction by defining common methods (e.g., `power_on()`, `shutdown()`) in an abstract \n",
    "base class."
   ]
  },
  {
   "cell_type": "code",
   "execution_count": 15,
   "id": "3c47a3af-a83a-4727-bd22-92f500928479",
   "metadata": {},
   "outputs": [
    {
     "name": "stdout",
     "output_type": "stream",
     "text": [
      "Laptop is powered on.\n",
      "Desktop is shutting down.\n"
     ]
    }
   ],
   "source": [
    "from abc import ABC, abstractmethod\n",
    "\n",
    "# Abstract base class\n",
    "class Computer(ABC):\n",
    "    @abstractmethod\n",
    "    def power_on(self):\n",
    "        pass\n",
    "    \n",
    "    @abstractmethod\n",
    "    def shutdown(self):\n",
    "        pass\n",
    "\n",
    "# Subclass 1: Laptop\n",
    "class Laptop(Computer):\n",
    "    def power_on(self):\n",
    "        return \"Laptop is powered on.\"\n",
    "    \n",
    "    def shutdown(self):\n",
    "        return \"Laptop is shutting down.\"\n",
    "\n",
    "# Subclass 2: Desktop\n",
    "class Desktop(Computer):\n",
    "    def power_on(self):\n",
    "        return \"Desktop is powered on.\"\n",
    "    \n",
    "    def shutdown(self):\n",
    "        return \"Desktop is shutting down.\"\n",
    "\n",
    "# Example usage\n",
    "laptop = Laptop()\n",
    "desktop = Desktop()\n",
    "\n",
    "print(laptop.power_on())   # Output: Laptop is powered on.\n",
    "print(desktop.shutdown())  # Output: Desktop is shutting down.\n"
   ]
  },
  {
   "cell_type": "code",
   "execution_count": null,
   "id": "9f8e8006-315d-4b0a-a9bc-53abdf9b54cc",
   "metadata": {},
   "outputs": [],
   "source": [
    "17. Discuss the benefits of using abstraction in large-scale software development projects."
   ]
  },
  {
   "cell_type": "code",
   "execution_count": null,
   "id": "1ad6069e-f12a-472e-b3c4-f5d7baa35624",
   "metadata": {},
   "outputs": [],
   "source": [
    "Benefits of Abstraction in Large-Scale Software Development:\n",
    "Simplifies Complexity: Hides unnecessary details, making the system easier to understand.\n",
    "Code Reusability: Common interfaces or abstract classes allow reuse across components.\n",
    "Flexibility: Changes in implementation don’t affect the rest of the system.\n",
    "Maintainability: Reduces complexity, making the codebase easier to maintain and extend.\n",
    "Business Logic Focus: Enables developers to focus on high-level logic, not low-level details.\n",
    "Modularity: Encourages self-contained components that interact through defined interfaces.\n",
    "Collaboration: Teams can work independently on different components without interference.\n",
    "Reduced Dependencies: Decreases tight coupling between system parts, making it more robust."
   ]
  },
  {
   "cell_type": "code",
   "execution_count": null,
   "id": "6bafa9c3-6a80-48b6-9736-96c2c878fde5",
   "metadata": {},
   "outputs": [],
   "source": [
    "18. Explain how abstraction enhances code reusability and modularity in Python programs."
   ]
  },
  {
   "cell_type": "code",
   "execution_count": null,
   "id": "94f45507-fdc5-4b77-9c70-01bcc51e07c7",
   "metadata": {},
   "outputs": [],
   "source": [
    "Abstraction in Python: Reusability and Modularity:\n",
    "Code Reusability:\n",
    "\n",
    "Abstract classes define common interfaces, allowing subclasses to reuse the same structure without duplicating code.\n",
    "Example: A Shape class with an abstract area() method can be reused by different shapes like Circle and Rectangle.\n",
    "Modularity:\n",
    "\n",
    "Abstraction separates the interface from the implementation, leading to modular components focused on specific tasks.\n",
    "Example: A Vehicle class defines abstract methods like start() and stop(), with subclasses like Car and Bike providing their implementations.\n",
    "Benefits:\n",
    "\n",
    "Easier to extend and maintain.\n",
    "Decouples components, making the system flexible and easy to modify."
   ]
  },
  {
   "cell_type": "code",
   "execution_count": null,
   "id": "f78e13dc-947f-4b71-b57b-898f3375a068",
   "metadata": {},
   "outputs": [],
   "source": [
    "19. Create a Python class for a library system, implementing abstraction by defining common methods (e.g., `add_book()`, `borrow_book()`) in an abstract base class."
   ]
  },
  {
   "cell_type": "code",
   "execution_count": 16,
   "id": "6504181f-ade9-4cc3-97ae-138451f9eea1",
   "metadata": {},
   "outputs": [
    {
     "name": "stdout",
     "output_type": "stream",
     "text": [
      "'Python Programming' added to the library.\n",
      "'Python Programming' has been borrowed.\n",
      "'Data Science' added to the university library.\n",
      "'Data Science' has been borrowed.\n"
     ]
    }
   ],
   "source": [
    "from abc import ABC, abstractmethod\n",
    "\n",
    "# Abstract base class\n",
    "class Library(ABC):\n",
    "    @abstractmethod\n",
    "    def add_book(self, book):\n",
    "        pass\n",
    "    \n",
    "    @abstractmethod\n",
    "    def borrow_book(self, book):\n",
    "        pass\n",
    "\n",
    "# Subclass 1: Public Library\n",
    "class PublicLibrary(Library):\n",
    "    def __init__(self):\n",
    "        self.books = []\n",
    "\n",
    "    def add_book(self, book):\n",
    "        self.books.append(book)\n",
    "        return f\"'{book}' added to the library.\"\n",
    "\n",
    "    def borrow_book(self, book):\n",
    "        if book in self.books:\n",
    "            self.books.remove(book)\n",
    "            return f\"'{book}' has been borrowed.\"\n",
    "        else:\n",
    "            return f\"'{book}' is not available.\"\n",
    "\n",
    "# Subclass 2: University Library\n",
    "class UniversityLibrary(Library):\n",
    "    def __init__(self):\n",
    "        self.books = []\n",
    "\n",
    "    def add_book(self, book):\n",
    "        self.books.append(book)\n",
    "        return f\"'{book}' added to the university library.\"\n",
    "\n",
    "    def borrow_book(self, book):\n",
    "        if book in self.books:\n",
    "            self.books.remove(book)\n",
    "            return f\"'{book}' has been borrowed.\"\n",
    "        else:\n",
    "            return f\"'{book}' is not available in the university library.\"\n",
    "\n",
    "# Example usage\n",
    "public_library = PublicLibrary()\n",
    "university_library = UniversityLibrary()\n",
    "\n",
    "print(public_library.add_book(\"Python Programming\"))\n",
    "print(public_library.borrow_book(\"Python Programming\"))\n",
    "print(university_library.add_book(\"Data Science\"))\n",
    "print(university_library.borrow_book(\"Data Science\"))\n"
   ]
  },
  {
   "cell_type": "code",
   "execution_count": null,
   "id": "216b4b39-33f6-401f-a87c-7fcae53b39fe",
   "metadata": {},
   "outputs": [],
   "source": [
    "20. Describe the concept of method abstraction in Python and how it relates to polymorphism."
   ]
  },
  {
   "cell_type": "code",
   "execution_count": null,
   "id": "f63d4474-6a6b-4099-a908-3855f08c82b5",
   "metadata": {},
   "outputs": [],
   "source": [
    "Method Abstraction in Python:\n",
    "Definition: Method abstraction defines a method in an abstract class without implementation, using the @abstractmethod decorator. Subclasses must implement it.\n",
    "Relation to Polymorphism:\n",
    "Polymorphism allows different subclasses to implement the same method differently.\n",
    "Method abstraction enables polymorphism by providing a common method signature, with different behaviors in subclasses."
   ]
  },
  {
   "cell_type": "code",
   "execution_count": null,
   "id": "d58b7e2d-f5f9-45dc-8393-88e09e908eaa",
   "metadata": {},
   "outputs": [],
   "source": [
    "Composition:\n",
    "1. Explain the concept of composition in Python and how it is used to build complex objects from simpler ones."
   ]
  },
  {
   "cell_type": "code",
   "execution_count": null,
   "id": "dd753eb9-f6d8-47d6-a56d-19b8c548d244",
   "metadata": {},
   "outputs": [],
   "source": [
    "Definition: Composition is a design principle where a class contains instances of other classes as attributes, representing a \"has-a\" relationship.\n",
    "Usage: It allows building complex objects by combining simpler, reusable objects."
   ]
  },
  {
   "cell_type": "code",
   "execution_count": null,
   "id": "93cf86dc-cad6-4618-981b-44fbf11878f5",
   "metadata": {},
   "outputs": [],
   "source": [
    "2. Describe the difference between composition and inheritance in object-oriented programming."
   ]
  },
  {
   "cell_type": "code",
   "execution_count": null,
   "id": "68fe42d3-233e-4e01-a859-c4b38e409115",
   "metadata": {},
   "outputs": [],
   "source": [
    "Inheritance:\n",
    "\n",
    "Definition: A class (child) inherits properties and methods from another class (parent).\n",
    "Relationship: \"Is a\" relationship (e.g., a Dog is an Animal).\n",
    "Example: A Dog class inherits from an Animal class, gaining its attributes and methods.\n",
    "Composition:\n",
    "\n",
    "Definition: A class contains instances of other classes as attributes, representing a \"has a\" relationship.\n",
    "Relationship: \"Has a\" relationship (e.g., a Car has an Engine).\n",
    "Example: A Car class contains an Engine object to function.\n",
    "Key Differences:"
   ]
  },
  {
   "cell_type": "code",
   "execution_count": null,
   "id": "9e1dfbc2-ecc0-4aa5-824a-bc4a26c12a65",
   "metadata": {},
   "outputs": [],
   "source": [
    "3. Create a Python class called `Author` with attributes for name and birthdate. Then, create a `Book` class that contains an instance of `Author` as a\n",
    "composition. Provide an example of creating a `Book` object."
   ]
  },
  {
   "cell_type": "code",
   "execution_count": 17,
   "id": "d8bec63c-c6aa-4dd6-9f02-bc2c41ca3a70",
   "metadata": {},
   "outputs": [
    {
     "name": "stdout",
     "output_type": "stream",
     "text": [
      "'Harry Potter and the Sorcerer's Stone' by J.K. Rowling (Born: 1965-07-31)\n"
     ]
    }
   ],
   "source": [
    "class Author:\n",
    "    def __init__(self, name, birthdate):\n",
    "        self.name = name\n",
    "        self.birthdate = birthdate\n",
    "\n",
    "    def __str__(self):\n",
    "        return f\"{self.name} (Born: {self.birthdate})\"\n",
    "\n",
    "\n",
    "class Book:\n",
    "    def __init__(self, title, author):\n",
    "        self.title = title\n",
    "        self.author = author  # Composition: Book has an Author\n",
    "\n",
    "    def __str__(self):\n",
    "        return f\"'{self.title}' by {self.author}\"\n",
    "\n",
    "\n",
    "# Example usage\n",
    "author = Author(\"J.K. Rowling\", \"1965-07-31\")\n",
    "book = Book(\"Harry Potter and the Sorcerer's Stone\", author)\n",
    "\n",
    "print(book)  # Output: 'Harry Potter and the Sorcerer's Stone' by J.K. Rowling (Born: 1965-07-31)\n"
   ]
  },
  {
   "cell_type": "code",
   "execution_count": null,
   "id": "e4caadbd-c99e-4059-bc26-06da8d6fffd6",
   "metadata": {},
   "outputs": [],
   "source": [
    "4. Discuss the benefits of using composition over inheritance in Python, especially in terms of code flexibility and reusability."
   ]
  },
  {
   "cell_type": "code",
   "execution_count": null,
   "id": "87584cd3-f482-42c9-a6ba-66918e19111e",
   "metadata": {},
   "outputs": [],
   "source": [
    "\n",
    "Benefits of Composition Over Inheritance:\n",
    "Flexibility: Composition allows easy swapping and replacement of components, while inheritance creates rigid hierarchies.\n",
    "Loose Coupling: Composition promotes loose coupling between classes, making them easier to modify independently.\n",
    "Reusability: Composition encourages reusing objects in various contexts, while inheritance limits reuse to class hierarchies.\n",
    "Avoids Inheritance Issues: Composition avoids problems like the diamond problem in multiple inheritance.\n",
    "Better for Complex Systems: Composition leads to modular, maintainable designs, while inheritance can become cumbersome in complex systems."
   ]
  },
  {
   "cell_type": "code",
   "execution_count": null,
   "id": "a50603ed-945d-44a2-9063-69377341cde8",
   "metadata": {},
   "outputs": [],
   "source": [
    "5. How can you implement composition in Python classes? Provide examples of using composition to create complex objects."
   ]
  },
  {
   "cell_type": "code",
   "execution_count": 18,
   "id": "e6e6183b-e251-4d0e-b563-88ed6887af9b",
   "metadata": {},
   "outputs": [
    {
     "name": "stdout",
     "output_type": "stream",
     "text": [
      "Starting Ford Mustang: V8 engine started.\n"
     ]
    }
   ],
   "source": [
    "'''\n",
    "Composition is implemented by creating a class that contains instances of other classes as attributes. This allows one class to \"have a\" relationship with another, rather than inheriting from it.\n",
    "'''\n",
    "class Engine:\n",
    "    def __init__(self, type):\n",
    "        self.type = type\n",
    "\n",
    "    def start(self):\n",
    "        return f\"{self.type} engine started.\"\n",
    "\n",
    "\n",
    "class Car:\n",
    "    def __init__(self, model, engine):\n",
    "        self.model = model\n",
    "        self.engine = engine  # Composition: Car has an Engine\n",
    "\n",
    "    def start_car(self):\n",
    "        return f\"Starting {self.model}: {self.engine.start()}\"\n",
    "\n",
    "\n",
    "# Example usage\n",
    "engine = Engine(\"V8\")\n",
    "car = Car(\"Ford Mustang\", engine)\n",
    "\n",
    "print(car.start_car())  # Output: Starting Ford Mustang: V8 engine started.\n"
   ]
  },
  {
   "cell_type": "code",
   "execution_count": null,
   "id": "f2523b41-7d83-40cb-a1df-8e2dee0ed9ba",
   "metadata": {},
   "outputs": [],
   "source": [
    "6. Create a Python class hierarchy for a music player system, using composition to represent playlists and songs."
   ]
  },
  {
   "cell_type": "code",
   "execution_count": 22,
   "id": "aeefa6f3-c7ab-4e53-af48-de72bea206b7",
   "metadata": {},
   "outputs": [
    {
     "name": "stdout",
     "output_type": "stream",
     "text": [
      "Playing from Top Hits playlist: 'Shape of You' by Ed Sheeran, 'Blinding Lights' by The Weeknd\n"
     ]
    }
   ],
   "source": [
    "class Song:\n",
    "    def __init__(self, title, artist):\n",
    "        self.title = title\n",
    "        self.artist = artist\n",
    "\n",
    "    def __str__(self):\n",
    "        return f\"'{self.title}' by {self.artist}\"\n",
    "\n",
    "\n",
    "class Playlist:\n",
    "    def __init__(self, name):\n",
    "        self.name = name\n",
    "        self.songs = []  # Playlist contains multiple songs\n",
    "\n",
    "    def add_song(self, song):\n",
    "        self.songs.append(song)\n",
    "\n",
    "    def show_playlist(self):\n",
    "        return [str(song) for song in self.songs]\n",
    "\n",
    "\n",
    "class MusicPlayer:\n",
    "    def __init__(self):\n",
    "        self.playlists = []  # MusicPlayer can have multiple playlists\n",
    "\n",
    "    def add_playlist(self, playlist):\n",
    "        self.playlists.append(playlist)\n",
    "\n",
    "    def play(self, playlist_name):\n",
    "        for playlist in self.playlists:\n",
    "            if playlist.name == playlist_name:\n",
    "                return f\"Playing from {playlist_name} playlist: {', '.join(playlist.show_playlist())}\"\n",
    "        return f\"Playlist '{playlist_name}' not found.\"\n",
    "\n",
    "\n",
    "# Example usage\n",
    "song1 = Song(\"Shape of You\", \"Ed Sheeran\")\n",
    "song2 = Song(\"Blinding Lights\", \"The Weeknd\")\n",
    "song3 = Song(\"Levitating\", \"Dua Lipa\")\n",
    "\n",
    "playlist1 = Playlist(\"Top Hits\")\n",
    "playlist1.add_song(song1)\n",
    "playlist1.add_song(song2)\n",
    "\n",
    "playlist2 = Playlist(\"Chill Vibes\")\n",
    "playlist2.add_song(song3)\n",
    "\n",
    "player = MusicPlayer()\n",
    "player.add_playlist(playlist1)\n",
    "player.add_playlist(playlist2)\n",
    "\n",
    "# Play a playlist\n",
    "print(player.play(\"Top Hits\"))\n"
   ]
  },
  {
   "cell_type": "code",
   "execution_count": null,
   "id": "d9a50d13-2df9-4491-b076-a85c658771f7",
   "metadata": {},
   "outputs": [],
   "source": [
    "7. Explain the concept of \"has-a\" relationships in composition and how it helps design software systems."
   ]
  },
  {
   "cell_type": "code",
   "execution_count": 25,
   "id": "932d0c19-6481-4754-ad67-058f787b16a9",
   "metadata": {},
   "outputs": [],
   "source": [
    "'''\n",
    "Has-a\" Relationship in Composition:\n",
    "Definition: A \"has-a\" relationship means one class contains instances of other classes as attributes, indicating ownership or containment.\n",
    "Benefits:\n",
    "Modularity: Breaks down complex systems into smaller, reusable components.\n",
    "Flexibility: Components can be easily swapped or extended.\n",
    "Reusability: Independent components can be reused in different contexts.\n",
    "Loose Coupling: Reduces dependency between classes, making the system more maintainable.\n",
    "Avoids Inheritance Issues: Unlike inheritance, composition allows more flexible and independent design.\n",
    "'''\n",
    "class Engine:\n",
    "    def start(self):\n",
    "        return \"Engine started\"\n",
    "\n",
    "class Car:\n",
    "    def __init__(self, engine):\n",
    "        self.engine = engine\n",
    "\n",
    "    def drive(self):\n",
    "        return f\"Driving with {self.engine.start()}\"\n"
   ]
  },
  {
   "cell_type": "code",
   "execution_count": null,
   "id": "afdf274b-6006-440d-b2ce-cd8efa05250d",
   "metadata": {},
   "outputs": [],
   "source": [
    "8. Create a Python class for a computer system, using composition to represent components like CPU, RAM, and storage devices."
   ]
  },
  {
   "cell_type": "code",
   "execution_count": 26,
   "id": "6b977c3b-30ed-42b5-ad99-8edf26709fee",
   "metadata": {},
   "outputs": [
    {
     "name": "stdout",
     "output_type": "stream",
     "text": [
      "Computer System Specs:\n",
      "CPU: Intel CPU with 8 cores\n",
      "RAM: 16GB DDR4 RAM\n",
      "Storage: 512GB SSD Storage\n"
     ]
    }
   ],
   "source": [
    "class CPU:\n",
    "    def __init__(self, brand, cores):\n",
    "        self.brand = brand\n",
    "        self.cores = cores\n",
    "\n",
    "    def get_specs(self):\n",
    "        return f\"{self.brand} CPU with {self.cores} cores\"\n",
    "\n",
    "\n",
    "class RAM:\n",
    "    def __init__(self, size, type_):\n",
    "        self.size = size\n",
    "        self.type_ = type_\n",
    "\n",
    "    def get_specs(self):\n",
    "        return f\"{self.size}GB {self.type_} RAM\"\n",
    "\n",
    "\n",
    "class Storage:\n",
    "    def __init__(self, type_, capacity):\n",
    "        self.type_ = type_\n",
    "        self.capacity = capacity\n",
    "\n",
    "    def get_specs(self):\n",
    "        return f\"{self.capacity}GB {self.type_} Storage\"\n",
    "\n",
    "\n",
    "class ComputerSystem:\n",
    "    def __init__(self, cpu, ram, storage):\n",
    "        self.cpu = cpu  # ComputerSystem has a CPU\n",
    "        self.ram = ram  # ComputerSystem has RAM\n",
    "        self.storage = storage  # ComputerSystem has Storage\n",
    "\n",
    "    def get_system_specs(self):\n",
    "        return (f\"Computer System Specs:\\n\"\n",
    "                f\"CPU: {self.cpu.get_specs()}\\n\"\n",
    "                f\"RAM: {self.ram.get_specs()}\\n\"\n",
    "                f\"Storage: {self.storage.get_specs()}\")\n",
    "\n",
    "\n",
    "# Example usage\n",
    "cpu = CPU(\"Intel\", 8)\n",
    "ram = RAM(16, \"DDR4\")\n",
    "storage = Storage(\"SSD\", 512)\n",
    "\n",
    "computer = ComputerSystem(cpu, ram, storage)\n",
    "\n",
    "print(computer.get_system_specs())\n"
   ]
  },
  {
   "cell_type": "code",
   "execution_count": null,
   "id": "c5f35a1c-da8c-4f94-9818-d8eaefd5c021",
   "metadata": {},
   "outputs": [],
   "source": [
    "9. Describe the concept of \"delegation\" in composition and how it simplifies the design of complex systems."
   ]
  },
  {
   "cell_type": "code",
   "execution_count": null,
   "id": "a9a3250f-dba3-44be-8ec1-a31a0d02cb5f",
   "metadata": {},
   "outputs": [],
   "source": [
    " Describe the concept of \"delegation\" in composition and how it simplifies the design of complex systems."
   ]
  },
  {
   "cell_type": "code",
   "execution_count": null,
   "id": "407305cf-4f21-4b11-b6d0-e2379d431c7c",
   "metadata": {},
   "outputs": [],
   "source": [
    "10. Create a Python class for a car, using composition to represent components like the engine, wheels, and transmission."
   ]
  },
  {
   "cell_type": "code",
   "execution_count": 27,
   "id": "bd529e5a-6770-456c-9cdf-8a7e9e49ad37",
   "metadata": {},
   "outputs": [
    {
     "name": "stdout",
     "output_type": "stream",
     "text": [
      "V8 engine started.\n",
      "Rotating 18-inch wheels.\n",
      "Shifting to automatic transmission.\n"
     ]
    }
   ],
   "source": [
    "class Engine:\n",
    "    def __init__(self, type_):\n",
    "        self.type_ = type_\n",
    "\n",
    "    def start(self):\n",
    "        return f\"{self.type_} engine started.\"\n",
    "\n",
    "\n",
    "class Wheels:\n",
    "    def __init__(self, size):\n",
    "        self.size = size\n",
    "\n",
    "    def rotate(self):\n",
    "        return f\"Rotating {self.size}-inch wheels.\"\n",
    "\n",
    "\n",
    "class Transmission:\n",
    "    def __init__(self, type_):\n",
    "        self.type_ = type_\n",
    "\n",
    "    def shift(self):\n",
    "        return f\"Shifting to {self.type_} transmission.\"\n",
    "\n",
    "\n",
    "class Car:\n",
    "    def __init__(self, engine, wheels, transmission):\n",
    "        self.engine = engine  # Car has an Engine\n",
    "        self.wheels = wheels  # Car has Wheels\n",
    "        self.transmission = transmission  # Car has Transmission\n",
    "\n",
    "    def drive(self):\n",
    "        return (self.engine.start() + \"\\n\" +\n",
    "                self.wheels.rotate() + \"\\n\" +\n",
    "                self.transmission.shift())\n",
    "\n",
    "\n",
    "# Example usage\n",
    "engine = Engine(\"V8\")\n",
    "wheels = Wheels(18)\n",
    "transmission = Transmission(\"automatic\")\n",
    "\n",
    "car = Car(engine, wheels, transmission)\n",
    "\n",
    "print(car.drive())\n"
   ]
  },
  {
   "cell_type": "code",
   "execution_count": null,
   "id": "4bbd062b-fb9a-4d7c-a274-03f2198f2b10",
   "metadata": {},
   "outputs": [],
   "source": [
    "11. How can you encapsulate and hide the details of composed objects in Python classes to maintain abstraction?"
   ]
  },
  {
   "cell_type": "code",
   "execution_count": 29,
   "id": "9a3db85f-770e-48ff-a451-fdfc4ad44df9",
   "metadata": {},
   "outputs": [
    {
     "name": "stdout",
     "output_type": "stream",
     "text": [
      "V8 engine started.\n"
     ]
    }
   ],
   "source": [
    "'''Encapsulation and Hiding Details in Python:\n",
    "Encapsulation hides the internal details of objects to maintain abstraction. In Python, this is done using private (__) and protected (_) attributes and methods.\n",
    "\n",
    "How to Encapsulate:\n",
    "Private Attributes: Use __ to hide internal details.\n",
    "Public Methods: Provide getter/setter methods to interact with private attributes.\n",
    "Hide Composition: Don’t expose composed objects directly, only interact through public methods.\n",
    "'''\n",
    "class Engine:\n",
    "    def __init__(self, type_):\n",
    "        self.__type_ = type_\n",
    "\n",
    "    def start(self):\n",
    "        return f\"{self.__type_} engine started.\"\n",
    "\n",
    "class Car:\n",
    "    def __init__(self, engine):\n",
    "        self.__engine = engine\n",
    "\n",
    "    def drive(self):\n",
    "        return self.__engine.start()\n",
    "\n",
    "# Usage\n",
    "engine = Engine(\"V8\")\n",
    "car = Car(engine)\n",
    "print(car.drive())  # Output: V8 engine started.\n"
   ]
  },
  {
   "cell_type": "code",
   "execution_count": null,
   "id": "d4a42127-9e28-48f1-867d-87ed96996a58",
   "metadata": {},
   "outputs": [],
   "source": [
    "12. Create a Python class for a university course, using composition to represent students, instructors, andcourse mate rials."
   ]
  },
  {
   "cell_type": "code",
   "execution_count": 30,
   "id": "1f8eeecc-235f-40d6-a824-9095d5be7726",
   "metadata": {},
   "outputs": [
    {
     "name": "stdout",
     "output_type": "stream",
     "text": [
      "Course: Data Structures\n",
      "Instructor: Dr. Smith, Department: Computer Science\n",
      "Students:\n",
      "Student: Alice, ID: S101\n",
      "Student: Bob, ID: S102\n",
      "Course Materials:\n",
      "Material: Lecture Notes, Type: PDF\n",
      "Material: Assignments, Type: Word Document\n"
     ]
    }
   ],
   "source": [
    "class Student:\n",
    "    def __init__(self, name, student_id):\n",
    "        self.name = name\n",
    "        self.student_id = student_id\n",
    "\n",
    "    def get_details(self):\n",
    "        return f\"Student: {self.name}, ID: {self.student_id}\"\n",
    "\n",
    "\n",
    "class Instructor:\n",
    "    def __init__(self, name, department):\n",
    "        self.name = name\n",
    "        self.department = department\n",
    "\n",
    "    def get_details(self):\n",
    "        return f\"Instructor: {self.name}, Department: {self.department}\"\n",
    "\n",
    "\n",
    "class CourseMaterial:\n",
    "    def __init__(self, material_name, material_type):\n",
    "        self.material_name = material_name\n",
    "        self.material_type = material_type\n",
    "\n",
    "    def get_details(self):\n",
    "        return f\"Material: {self.material_name}, Type: {self.material_type}\"\n",
    "\n",
    "\n",
    "class Course:\n",
    "    def __init__(self, course_name, instructor, students, materials):\n",
    "        self.course_name = course_name\n",
    "        self.instructor = instructor  # Composition: Course has an Instructor\n",
    "        self.students = students  # Composition: Course has Students\n",
    "        self.materials = materials  # Composition: Course has Materials\n",
    "\n",
    "    def get_course_details(self):\n",
    "        course_details = f\"Course: {self.course_name}\\n\"\n",
    "        course_details += self.instructor.get_details() + \"\\n\"\n",
    "        course_details += \"Students:\\n\" + \"\\n\".join([student.get_details() for student in self.students]) + \"\\n\"\n",
    "        course_details += \"Course Materials:\\n\" + \"\\n\".join([material.get_details() for material in self.materials])\n",
    "        return course_details\n",
    "\n",
    "\n",
    "# Example usage\n",
    "students = [Student(\"Alice\", \"S101\"), Student(\"Bob\", \"S102\")]\n",
    "instructor = Instructor(\"Dr. Smith\", \"Computer Science\")\n",
    "materials = [CourseMaterial(\"Lecture Notes\", \"PDF\"), CourseMaterial(\"Assignments\", \"Word Document\")]\n",
    "\n",
    "course = Course(\"Data Structures\", instructor, students, materials)\n",
    "\n",
    "print(course.get_course_details())\n"
   ]
  },
  {
   "cell_type": "code",
   "execution_count": null,
   "id": "507aeae9-09ff-45d7-9381-5d2fd34e665f",
   "metadata": {},
   "outputs": [],
   "source": [
    "13. Discuss the challenges and drawbacks of composition, such as increased complexity and potential for tight coupling between objects."
   ]
  },
  {
   "cell_type": "code",
   "execution_count": null,
   "id": "aeb23d58-c2f5-43dc-9751-b07367e8a612",
   "metadata": {},
   "outputs": [],
   "source": [
    "Challenges and Drawbacks of Composition:\n",
    "Increased Complexity:\n",
    "\n",
    "More layers and objects to manage.\n",
    "Requires additional code for interaction, increasing maintenance.\n",
    "Tight Coupling:\n",
    "\n",
    "Composed objects depend on each other, making changes in one affect others.\n",
    "Harder to reuse components independently.\n",
    "Inflexibility:\n",
    "\n",
    "Extending the system may require significant changes.\n",
    "Can lead to performance and memory overhead with many composed objects.\n",
    "Maintenance Overhead:\n",
    "\n",
    "Changes in composed objects require updates in the parent class.\n",
    "Managing object lifecycles can be complex."
   ]
  },
  {
   "cell_type": "code",
   "execution_count": null,
   "id": "2ca03308-b40b-4e8c-bcc9-9afcd9a773ff",
   "metadata": {},
   "outputs": [],
   "source": [
    "14. Create a Python class hierarchy for a restaurant system, using composition to represent menus, dishes, and ingredients."
   ]
  },
  {
   "cell_type": "code",
   "execution_count": 31,
   "id": "8360e20e-f161-4a35-825d-5dc81a83c9aa",
   "metadata": {},
   "outputs": [
    {
     "name": "stdout",
     "output_type": "stream",
     "text": [
      "Restaurant: Healthy Eats\n",
      "Menu: Veg Menu\n",
      "Dish: Cheese Sandwich, Ingredients: 2 pieces of Tomato, 1 slice of Cheese\n",
      "Dish: Veg Salad, Ingredients: 1 slice of Cheese, 3 leaves of Lettuce\n"
     ]
    }
   ],
   "source": [
    "class Ingredient:\n",
    "    def __init__(self, name, quantity):\n",
    "        self.name = name\n",
    "        self.quantity = quantity\n",
    "\n",
    "    def get_details(self):\n",
    "        return f\"{self.quantity} of {self.name}\"\n",
    "\n",
    "\n",
    "class Dish:\n",
    "    def __init__(self, name, ingredients):\n",
    "        self.name = name\n",
    "        self.ingredients = ingredients  # Composition: Dish has Ingredients\n",
    "\n",
    "    def get_details(self):\n",
    "        ingredients_details = \", \".join([ingredient.get_details() for ingredient in self.ingredients])\n",
    "        return f\"Dish: {self.name}, Ingredients: {ingredients_details}\"\n",
    "\n",
    "\n",
    "class Menu:\n",
    "    def __init__(self, menu_name, dishes):\n",
    "        self.menu_name = menu_name\n",
    "        self.dishes = dishes  # Composition: Menu has Dishes\n",
    "\n",
    "    def get_menu_details(self):\n",
    "        menu_details = f\"Menu: {self.menu_name}\\n\"\n",
    "        menu_details += \"\\n\".join([dish.get_details() for dish in self.dishes])\n",
    "        return menu_details\n",
    "\n",
    "\n",
    "class Restaurant:\n",
    "    def __init__(self, name, menu):\n",
    "        self.name = name\n",
    "        self.menu = menu  # Composition: Restaurant has a Menu\n",
    "\n",
    "    def get_restaurant_details(self):\n",
    "        return f\"Restaurant: {self.name}\\n{self.menu.get_menu_details()}\"\n",
    "\n",
    "\n",
    "# Example usage\n",
    "ingredient1 = Ingredient(\"Tomato\", \"2 pieces\")\n",
    "ingredient2 = Ingredient(\"Cheese\", \"1 slice\")\n",
    "ingredient3 = Ingredient(\"Lettuce\", \"3 leaves\")\n",
    "\n",
    "dish1 = Dish(\"Cheese Sandwich\", [ingredient1, ingredient2])\n",
    "dish2 = Dish(\"Veg Salad\", [ingredient2, ingredient3])\n",
    "\n",
    "menu = Menu(\"Veg Menu\", [dish1, dish2])\n",
    "restaurant = Restaurant(\"Healthy Eats\", menu)\n",
    "\n",
    "print(restaurant.get_restaurant_details())\n"
   ]
  },
  {
   "cell_type": "code",
   "execution_count": null,
   "id": "b25a1e0c-9a39-4592-9f03-f418fe39cc55",
   "metadata": {},
   "outputs": [],
   "source": [
    "15. Explain how composition enhances code maintainability and modularity in Python programs."
   ]
  },
  {
   "cell_type": "code",
   "execution_count": null,
   "id": "405bd03b-92cd-43d4-a0e8-a9f1707fb755",
   "metadata": {},
   "outputs": [],
   "source": [
    "Modularity:\n",
    "\n",
    "Breaks code into smaller, reusable components with single responsibilities.\n",
    "Maintainability:\n",
    "\n",
    "Easier updates without affecting the whole system.\n",
    "Reduces complexity and improves code clarity.\n",
    "Flexibility:\n",
    "\n",
    "Components can be swapped or updated independently.\n",
    "New functionality can be added without altering existing code.\n",
    "Better Testing:\n",
    "\n",
    "Individual components can be tested in isolation.\n",
    "Easier to mock components for unit testing."
   ]
  },
  {
   "cell_type": "code",
   "execution_count": null,
   "id": "26e63265-67e2-4b93-960a-e74f31166366",
   "metadata": {},
   "outputs": [],
   "source": [
    "16. Create a Python class for a computer game character, using composition to represent attributes like weapons, armor, and inventory."
   ]
  },
  {
   "cell_type": "code",
   "execution_count": 32,
   "id": "a661eb4b-854a-49a9-a469-8b15bf5ec621",
   "metadata": {},
   "outputs": [
    {
     "name": "stdout",
     "output_type": "stream",
     "text": [
      "Character: Warrior\n",
      "Weapon: Sword, Damage: 50\n",
      "Armor: Steel Armor, Defense: 30\n",
      "Inventory: Health Potion, Mana Potion\n"
     ]
    }
   ],
   "source": [
    "class Weapon:\n",
    "    def __init__(self, name, damage):\n",
    "        self.name = name\n",
    "        self.damage = damage\n",
    "\n",
    "    def get_details(self):\n",
    "        return f\"Weapon: {self.name}, Damage: {self.damage}\"\n",
    "\n",
    "\n",
    "class Armor:\n",
    "    def __init__(self, name, defense):\n",
    "        self.name = name\n",
    "        self.defense = defense\n",
    "\n",
    "    def get_details(self):\n",
    "        return f\"Armor: {self.name}, Defense: {self.defense}\"\n",
    "\n",
    "\n",
    "class Inventory:\n",
    "    def __init__(self):\n",
    "        self.items = []\n",
    "\n",
    "    def add_item(self, item):\n",
    "        self.items.append(item)\n",
    "\n",
    "    def get_inventory(self):\n",
    "        return \", \".join(self.items) if self.items else \"No items\"\n",
    "\n",
    "\n",
    "class Character:\n",
    "    def __init__(self, name, weapon, armor, inventory):\n",
    "        self.name = name\n",
    "        self.weapon = weapon  # Composition: Character has a Weapon\n",
    "        self.armor = armor  # Composition: Character has Armor\n",
    "        self.inventory = inventory  # Composition: Character has Inventory\n",
    "\n",
    "    def get_character_details(self):\n",
    "        weapon_details = self.weapon.get_details()\n",
    "        armor_details = self.armor.get_details()\n",
    "        inventory_details = self.inventory.get_inventory()\n",
    "        \n",
    "        return f\"Character: {self.name}\\n{weapon_details}\\n{armor_details}\\nInventory: {inventory_details}\"\n",
    "\n",
    "\n",
    "# Example usage\n",
    "weapon = Weapon(\"Sword\", 50)\n",
    "armor = Armor(\"Steel Armor\", 30)\n",
    "inventory = Inventory()\n",
    "inventory.add_item(\"Health Potion\")\n",
    "inventory.add_item(\"Mana Potion\")\n",
    "\n",
    "character = Character(\"Warrior\", weapon, armor, inventory)\n",
    "\n",
    "print(character.get_character_details())\n"
   ]
  },
  {
   "cell_type": "code",
   "execution_count": null,
   "id": "fc9aeb9c-0d84-42c8-b281-df76f32e5da1",
   "metadata": {},
   "outputs": [],
   "source": [
    "17. Describe the concept of \"aggregation\" in composition and how it differs from simple composition."
   ]
  },
  {
   "cell_type": "code",
   "execution_count": null,
   "id": "c405ab9c-17fc-4a44-9c90-bd549180b0e3",
   "metadata": {},
   "outputs": [],
   "source": [
    "Aggregation:\n",
    "\n",
    "Objects can exist independently of the parent.\n",
    "The contained objects can be shared across multiple parents.\n",
    "The lifecycle of contained objects is not tied to the parent.\n",
    "Composition:\n",
    "\n",
    "Contained objects depend on the parent for their lifecycle.\n",
    "When the parent is destroyed, the contained objects are also destroyed."
   ]
  },
  {
   "cell_type": "code",
   "execution_count": null,
   "id": "bb065e88-9765-4087-befd-c887e5a2057e",
   "metadata": {},
   "outputs": [],
   "source": [
    "18. Create a Python class for a house, using composition to represent rooms, furniture, and appliances."
   ]
  },
  {
   "cell_type": "code",
   "execution_count": 33,
   "id": "bf7ea41a-565a-428c-99fe-f6f203c45e05",
   "metadata": {},
   "outputs": [
    {
     "name": "stdout",
     "output_type": "stream",
     "text": [
      "House at 123 Elm Street contains:\n",
      "Room: Living Room\n",
      "Furniture:\n",
      "Furniture: Sofa, Material: Leather\n",
      "Appliances:\n",
      "Appliance: TV, Brand: Samsung\n",
      "\n",
      "Room: Kitchen\n",
      "Furniture:\n",
      "Furniture: Dining Table, Material: Wood\n",
      "Appliances:\n",
      "Appliance: Refrigerator, Brand: LG\n"
     ]
    }
   ],
   "source": [
    "class Furniture:\n",
    "    def __init__(self, name, material):\n",
    "        self.name = name\n",
    "        self.material = material\n",
    "\n",
    "    def get_details(self):\n",
    "        return f\"Furniture: {self.name}, Material: {self.material}\"\n",
    "\n",
    "\n",
    "class Appliance:\n",
    "    def __init__(self, name, brand):\n",
    "        self.name = name\n",
    "        self.brand = brand\n",
    "\n",
    "    def get_details(self):\n",
    "        return f\"Appliance: {self.name}, Brand: {self.brand}\"\n",
    "\n",
    "\n",
    "class Room:\n",
    "    def __init__(self, name):\n",
    "        self.name = name\n",
    "        self.furniture = []  # Composition: Room has Furniture\n",
    "        self.appliances = []  # Composition: Room has Appliances\n",
    "\n",
    "    def add_furniture(self, furniture):\n",
    "        self.furniture.append(furniture)\n",
    "\n",
    "    def add_appliance(self, appliance):\n",
    "        self.appliances.append(appliance)\n",
    "\n",
    "    def get_room_details(self):\n",
    "        furniture_details = \"\\n\".join([f.get_details() for f in self.furniture])\n",
    "        appliance_details = \"\\n\".join([a.get_details() for a in self.appliances])\n",
    "        return f\"Room: {self.name}\\nFurniture:\\n{furniture_details}\\nAppliances:\\n{appliance_details}\"\n",
    "\n",
    "\n",
    "class House:\n",
    "    def __init__(self, address):\n",
    "        self.address = address\n",
    "        self.rooms = []  # Composition: House has Rooms\n",
    "\n",
    "    def add_room(self, room):\n",
    "        self.rooms.append(room)\n",
    "\n",
    "    def get_house_details(self):\n",
    "        room_details = \"\\n\\n\".join([room.get_room_details() for room in self.rooms])\n",
    "        return f\"House at {self.address} contains:\\n{room_details}\"\n",
    "\n",
    "\n",
    "# Example usage\n",
    "living_room = Room(\"Living Room\")\n",
    "living_room.add_furniture(Furniture(\"Sofa\", \"Leather\"))\n",
    "living_room.add_appliance(Appliance(\"TV\", \"Samsung\"))\n",
    "\n",
    "kitchen = Room(\"Kitchen\")\n",
    "kitchen.add_furniture(Furniture(\"Dining Table\", \"Wood\"))\n",
    "kitchen.add_appliance(Appliance(\"Refrigerator\", \"LG\"))\n",
    "\n",
    "house = House(\"123 Elm Street\")\n",
    "house.add_room(living_room)\n",
    "house.add_room(kitchen)\n",
    "\n",
    "print(house.get_house_details())\n"
   ]
  },
  {
   "cell_type": "code",
   "execution_count": null,
   "id": "e791475c-ed7f-490e-bc29-fffbba2f2b90",
   "metadata": {},
   "outputs": [],
   "source": [
    "19. How can you achieve flexibility in composed objects by allowing them to be replaced or modified dynamically at runtime?"
   ]
  },
  {
   "cell_type": "code",
   "execution_count": null,
   "id": "aa4c0203-51bc-4616-a503-992c9ed7e6d2",
   "metadata": {},
   "outputs": [],
   "source": [
    "'''\n",
    "Use Setter Methods: Allow modification or replacement of composed objects dynamically.\n",
    "Use Interfaces/Abstract Classes: Enable swapping of different implementations without changing the parent.\n",
    "Dependency Injection: Inject composed objects at runtime for flexibility.\n",
    "Factory Pattern: Dynamically create and replace objects based on conditions.\n",
    "'''\n",
    "class Engine:\n",
    "    def start(self):\n",
    "        return \"Engine started\"\n",
    "\n",
    "class Car:\n",
    "    def __init__(self, engine):\n",
    "        self.engine = engine\n",
    "\n",
    "    def start_car(self):\n",
    "        return self.engine.start()\n",
    "\n",
    "    def change_engine(self, new_engine):\n",
    "        self.engine = new_engine\n",
    "\n",
    "# Usage\n",
    "petrol_engine = Engine()\n",
    "electric_engine = Engine()\n",
    "\n",
    "my_car = Car(petrol_engine)\n",
    "print(my_car.start_car())  # Petrol engine started\n",
    "\n",
    "my_car.change_engine(electric_engine)\n",
    "print(my_car.start_car())  # Electric engine started\n"
   ]
  },
  {
   "cell_type": "code",
   "execution_count": null,
   "id": "af57fec8-f3e0-4306-a38b-4ccdc23fee27",
   "metadata": {},
   "outputs": [],
   "source": [
    "20. Create a Python class for a social media application, using composition to represent users, posts, and comments. "
   ]
  },
  {
   "cell_type": "code",
   "execution_count": 34,
   "id": "1a1e5aa9-5655-400a-9958-b1f48193fce5",
   "metadata": {},
   "outputs": [
    {
     "name": "stdout",
     "output_type": "stream",
     "text": [
      "User: Alice\n",
      "Posts:\n",
      "Post by Alice: This is Alice's first post!\n",
      "Comments:\n",
      "Comment by Bob: Great post, Alice!\n",
      "\n",
      "User: Bob\n",
      "Posts:\n",
      "Post by Bob: This is Bob's first post!\n",
      "Comments:\n",
      "Comment by Alice: Thanks, Bob!\n"
     ]
    }
   ],
   "source": [
    "class Comment:\n",
    "    def __init__(self, text, user):\n",
    "        self.text = text\n",
    "        self.user = user\n",
    "\n",
    "    def get_comment_details(self):\n",
    "        return f\"Comment by {self.user.name}: {self.text}\"\n",
    "\n",
    "\n",
    "class Post:\n",
    "    def __init__(self, content, user):\n",
    "        self.content = content\n",
    "        self.user = user\n",
    "        self.comments = []  # Composition: Post has Comments\n",
    "\n",
    "    def add_comment(self, comment):\n",
    "        self.comments.append(comment)\n",
    "\n",
    "    def get_post_details(self):\n",
    "        comments_details = \"\\n\".join([comment.get_comment_details() for comment in self.comments])\n",
    "        return f\"Post by {self.user.name}: {self.content}\\nComments:\\n{comments_details}\"\n",
    "\n",
    "\n",
    "class User:\n",
    "    def __init__(self, name):\n",
    "        self.name = name\n",
    "        self.posts = []  # Composition: User has Posts\n",
    "\n",
    "    def create_post(self, post):\n",
    "        self.posts.append(post)\n",
    "\n",
    "    def get_user_details(self):\n",
    "        posts_details = \"\\n\\n\".join([post.get_post_details() for post in self.posts])\n",
    "        return f\"User: {self.name}\\nPosts:\\n{posts_details}\"\n",
    "\n",
    "\n",
    "class SocialMediaApp:\n",
    "    def __init__(self):\n",
    "        self.users = []  # Composition: SocialMediaApp has Users\n",
    "\n",
    "    def add_user(self, user):\n",
    "        self.users.append(user)\n",
    "\n",
    "    def get_app_details(self):\n",
    "        return \"\\n\\n\".join([user.get_user_details() for user in self.users])\n",
    "\n",
    "\n",
    "# Example usage\n",
    "user1 = User(\"Alice\")\n",
    "user2 = User(\"Bob\")\n",
    "\n",
    "post1 = Post(\"This is Alice's first post!\", user1)\n",
    "post2 = Post(\"This is Bob's first post!\", user2)\n",
    "\n",
    "comment1 = Comment(\"Great post, Alice!\", user2)\n",
    "comment2 = Comment(\"Thanks, Bob!\", user1)\n",
    "\n",
    "post1.add_comment(comment1)\n",
    "post2.add_comment(comment2)\n",
    "\n",
    "user1.create_post(post1)\n",
    "user2.create_post(post2)\n",
    "\n",
    "app = SocialMediaApp()\n",
    "app.add_user(user1)\n",
    "app.add_user(user2)\n",
    "\n",
    "# Display app details\n",
    "print(app.get_app_details())\n"
   ]
  },
  {
   "cell_type": "code",
   "execution_count": null,
   "id": "a07c82fc-c7d2-499c-998a-b019b8f29f58",
   "metadata": {},
   "outputs": [],
   "source": []
  }
 ],
 "metadata": {
  "kernelspec": {
   "display_name": "Python 3 (ipykernel)",
   "language": "python",
   "name": "python3"
  },
  "language_info": {
   "codemirror_mode": {
    "name": "ipython",
    "version": 3
   },
   "file_extension": ".py",
   "mimetype": "text/x-python",
   "name": "python",
   "nbconvert_exporter": "python",
   "pygments_lexer": "ipython3",
   "version": "3.13.0"
  }
 },
 "nbformat": 4,
 "nbformat_minor": 5
}
