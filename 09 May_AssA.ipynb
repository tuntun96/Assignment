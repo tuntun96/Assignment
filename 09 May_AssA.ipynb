{
 "cells": [
  {
   "cell_type": "code",
   "execution_count": 2,
   "id": "4af15021-adfc-4aec-b8e4-6d83603c06c6",
   "metadata": {},
   "outputs": [],
   "source": [
    "# Q1. Create one variable containing following type of data;\n",
    "    # (i) string\n",
    "    # (ii) list\n",
    "    # (iii) float\n",
    "    # (iv) tuple \n",
    "# ANS:    \n",
    "var = [\"string\", [5, \"Python\", 2], 70.1, (1, 2, 1, 9)]   "
   ]
  },
  {
   "cell_type": "code",
   "execution_count": 3,
   "id": "b9b08616-be1f-4e2d-9394-c20aa7ee633e",
   "metadata": {},
   "outputs": [],
   "source": [
    "# Q2. Given are some following variables containing data:\n",
    "# (i) var1 = ‘ ‘\n",
    "# (ii) var2 = ‘[ DS , ML , Python]’\n",
    "# (iii) var3 = [ ‘DS’ , ’ML’ , ‘Python’ ]\n",
    "# (iv) var4 = 1.\n",
    "# What will be the data type of the above given variable.\n",
    "\n",
    "# ANS:\n",
    "# i> String\n",
    "#  ii> String\n",
    "# iii> List\n",
    "#  iv> Float"
   ]
  },
  {
   "cell_type": "code",
   "execution_count": 4,
   "id": "1d3ccab3-88b5-4ec8-b292-1237f41635da",
   "metadata": {},
   "outputs": [],
   "source": [
    "# Q3. Explain the use of the following operators using an example:\n",
    "# (i) /\n",
    "# (ii) %\n",
    "# (iii) //\n",
    "# (iv) **"
   ]
  },
  {
   "cell_type": "code",
   "execution_count": 5,
   "id": "73012c9c-2f30-41b9-920e-b2766a30b0fb",
   "metadata": {},
   "outputs": [
    {
     "data": {
      "text/plain": [
       "1.6666666666666667"
      ]
     },
     "execution_count": 5,
     "metadata": {},
     "output_type": "execute_result"
    }
   ],
   "source": [
    "# i> Ans: Using / we can do the division operation.\n",
    "# Ex :\n",
    "\n",
    "5/3"
   ]
  },
  {
   "cell_type": "code",
   "execution_count": 6,
   "id": "7fb958b8-1008-4ee4-8634-dfcac4948dbe",
   "metadata": {},
   "outputs": [
    {
     "data": {
      "text/plain": [
       "1"
      ]
     },
     "execution_count": 6,
     "metadata": {},
     "output_type": "execute_result"
    }
   ],
   "source": [
    "# ii> Ans : If we want the reminder of the value then the Modulas operator % help us to get this.\n",
    "# Ex:\n",
    "\n",
    "5%4"
   ]
  },
  {
   "cell_type": "code",
   "execution_count": 7,
   "id": "a1486eeb-7545-44f3-a61a-23c71bbe4726",
   "metadata": {},
   "outputs": [
    {
     "data": {
      "text/plain": [
       "1"
      ]
     },
     "execution_count": 7,
     "metadata": {},
     "output_type": "execute_result"
    }
   ],
   "source": [
    "# iii> Ans: If we want to get the integer value after devision operation then we have to use this // operator.\n",
    "# Ex:\n",
    "\n",
    "5//3"
   ]
  },
  {
   "cell_type": "code",
   "execution_count": 16,
   "id": "205f108a-6d68-4bc7-b0ef-292dc65d1bcd",
   "metadata": {},
   "outputs": [
    {
     "data": {
      "text/plain": [
       "8"
      ]
     },
     "execution_count": 16,
     "metadata": {},
     "output_type": "execute_result"
    }
   ],
   "source": [
    "# iv Ans: Using this ** operator we can the the square of the value.\n",
    "# Ex :\n",
    "\n",
    "2**3    "
   ]
  },
  {
   "cell_type": "code",
   "execution_count": 17,
   "id": "de813f45-03a8-4d50-aca8-7aeea3560844",
   "metadata": {},
   "outputs": [
    {
     "name": "stdout",
     "output_type": "stream",
     "text": [
      "4 <class 'int'>\n",
      "5.6 <class 'float'>\n",
      "True <class 'bool'>\n",
      "5 <class 'int'>\n",
      "7 <class 'int'>\n",
      "8 <class 'int'>\n",
      "False <class 'bool'>\n",
      "N <class 'str'>\n",
      "(5+8j) <class 'complex'>\n",
      "H <class 'str'>\n"
     ]
    }
   ],
   "source": [
    "# Q4. Create a list of length 10 of your choice containing multiple types of data. Using for loop print thee lement and its data type.\n",
    "\n",
    "# Ans:\n",
    "l = [4, 5.6, True, 5, 7, 8, False, \"N\", 5+8j , \"H\"]\n",
    "\n",
    "for i in l:\n",
    "    print(i,type(i))"
   ]
  },
  {
   "cell_type": "code",
   "execution_count": 7,
   "id": "7853c00a-5974-4164-8667-805057fbde9e",
   "metadata": {},
   "outputs": [
    {
     "name": "stdin",
     "output_type": "stream",
     "text": [
      "Enter any number 6\n",
      "Enter number by which you want to devide 3\n"
     ]
    },
    {
     "name": "stdout",
     "output_type": "stream",
     "text": [
      "Yes 6 is devisible by 3 2 times\n"
     ]
    }
   ],
   "source": [
    "# Q5. Using a while loop, verify if the number A is purely divisible by number B and if so then how many times it can be divisible.\n",
    "\n",
    "A = int(input(\"Enter any number\"))\n",
    "B = int(input(\"Enter number by which you want to devide\"))\n",
    "\n",
    "if A < B:\n",
    "    print(\"Please enter A greater than B\")\n",
    "while A >= B: # or A % B == 0:\n",
    "    if A % B == 0:\n",
    "        C = A//B\n",
    "        print(\"Yes\", A, \"is devisible by\", B, C ,\"times\")               \n",
    "    else:\n",
    "         print(A, \"is not Devisible by\", B)\n",
    "            \n",
    "    break  "
   ]
  },
  {
   "cell_type": "code",
   "execution_count": null,
   "id": "51865304-77f3-453f-ad65-bd43fc3f5e37",
   "metadata": {},
   "outputs": [],
   "source": []
  },
  {
   "cell_type": "code",
   "execution_count": 2,
   "id": "b7dfd1f4-232e-4335-ab6b-b2313fbed511",
   "metadata": {},
   "outputs": [
    {
     "name": "stdout",
     "output_type": "stream",
     "text": [
      "\n",
      "1  It's not devisible by 3\n",
      "\n",
      "2  It's not devisible by 3\n",
      "\n",
      "3 Yes! it's devisible by 3\n",
      "\n",
      "4  It's not devisible by 3\n",
      "\n",
      "5  It's not devisible by 3\n",
      "\n",
      "6 Yes! it's devisible by 3\n",
      "\n",
      "7  It's not devisible by 3\n",
      "\n",
      "8  It's not devisible by 3\n",
      "\n",
      "9 Yes! it's devisible by 3\n",
      "\n",
      "10  It's not devisible by 3\n",
      "\n",
      "11  It's not devisible by 3\n",
      "\n",
      "12 Yes! it's devisible by 3\n",
      "\n",
      "13  It's not devisible by 3\n",
      "\n",
      "14  It's not devisible by 3\n",
      "\n",
      "15 Yes! it's devisible by 3\n",
      "\n",
      "16  It's not devisible by 3\n",
      "\n",
      "17  It's not devisible by 3\n",
      "\n",
      "18 Yes! it's devisible by 3\n",
      "\n",
      "19  It's not devisible by 3\n",
      "\n",
      "20  It's not devisible by 3\n",
      "\n",
      "21 Yes! it's devisible by 3\n",
      "\n",
      "22  It's not devisible by 3\n",
      "\n",
      "23  It's not devisible by 3\n",
      "\n",
      "24 Yes! it's devisible by 3\n",
      "\n",
      "25  It's not devisible by 3\n"
     ]
    }
   ],
   "source": [
    "# Q6. Create a list containing 25 int type data. Using for loop and if-else condition print if the element is divisible by 3 or not.\n",
    "\n",
    "l = [1, 2, 3, 4, 5, 6, 7, 8, 9, 10, 11, 12, 13, 14, 15, 16, 17, 18, 19, 20, 21, 22, 23, 24, 25]\n",
    "\n",
    "for i in l:\n",
    "    print()\n",
    "    if i % 3 == 0:\n",
    "        print(i, \"Yes! it's devisible by 3\")\n",
    "        i += 1    \n",
    "    else:\n",
    "        print(i, \" It's not devisible by 3\")"
   ]
  },
  {
   "cell_type": "code",
   "execution_count": 14,
   "id": "c2c41dc3-0a4a-4338-b554-f8aae8f2fca4",
   "metadata": {},
   "outputs": [
    {
     "ename": "TypeError",
     "evalue": "'str' object does not support item assignment",
     "output_type": "error",
     "traceback": [
      "\u001b[1;31m---------------------------------------------------------------------------\u001b[0m",
      "\u001b[1;31mTypeError\u001b[0m                                 Traceback (most recent call last)",
      "Cell \u001b[1;32mIn[14], line 14\u001b[0m\n\u001b[0;32m     12\u001b[0m \u001b[38;5;66;03m# Immutable Ex\u001b[39;00m\n\u001b[0;32m     13\u001b[0m Str \u001b[38;5;241m=\u001b[39m \u001b[38;5;124m\"\u001b[39m\u001b[38;5;124mPW Skills\u001b[39m\u001b[38;5;124m\"\u001b[39m\n\u001b[1;32m---> 14\u001b[0m Str[\u001b[38;5;241m1\u001b[39m] \u001b[38;5;241m=\u001b[39m \u001b[38;5;124m\"\u001b[39m\u001b[38;5;124mPW\u001b[39m\u001b[38;5;124m\"\u001b[39m\n",
      "\u001b[1;31mTypeError\u001b[0m: 'str' object does not support item assignment"
     ]
    }
   ],
   "source": [
    "# # Q7. What do you understand about mutable and immutable data types? Give examples for both showing this property.\n",
    "\n",
    "# ANS:  Mutable: Those data type where we can update the data in the stored data that data type is known as Mutable \n",
    "# Ex: List \n",
    "# ANS Immtable: Those data type where we can't update the data once it's stored in that data type.\n",
    "# String, Int. etc.\n",
    "\n",
    "# Mutable Ex\n",
    "l = [5, \"tu\", True]\n",
    "l[1] = \"Tuntun\"\n",
    "\n",
    "# Immutable Ex\n",
    "Str = \"PW Skills\"\n",
    "Str[1] = \"PW\""
   ]
  },
  {
   "cell_type": "code",
   "execution_count": 13,
   "id": "587456e5-e5b2-4b2a-96e8-338d20d1f22b",
   "metadata": {},
   "outputs": [
    {
     "data": {
      "text/plain": [
       "[5, 'Tuntun', True]"
      ]
     },
     "execution_count": 13,
     "metadata": {},
     "output_type": "execute_result"
    }
   ],
   "source": [
    "l"
   ]
  },
  {
   "cell_type": "code",
   "execution_count": null,
   "id": "897d21cb-505b-44a6-91cc-84a8a602f240",
   "metadata": {},
   "outputs": [],
   "source": [
    "# Q5. Using a while loop, verify if the number A is purely divisible by number B and if so then how many times it can be divisible.\n",
    "\n",
    "A = int(input(\"Enter any number\"))\n",
    "B = int(input(\"Enter number by which u want to devide\"))\n",
    "\n",
    "while A >= B  and A % B  == 0:\n",
    "    if A % B == 0:\n",
    "        C = A//B\n",
    "        print(\"Yes It's devisible by\", B, C , \"Times\")\n",
    "        \n",
    "    else:\n",
    "         print(\"A is not Devisible by B\")"
   ]
  },
  {
   "cell_type": "code",
   "execution_count": null,
   "id": "3c99492d-c821-413e-bcdb-bede0021a4f2",
   "metadata": {},
   "outputs": [],
   "source": []
  },
  {
   "cell_type": "code",
   "execution_count": null,
   "id": "df8b569d-3f46-4f71-acab-618bea63a8be",
   "metadata": {},
   "outputs": [],
   "source": [
    "\n"
   ]
  },
  {
   "cell_type": "code",
   "execution_count": null,
   "id": "630b3e19-90ad-4e10-a1bc-b5a1a5aa8ae0",
   "metadata": {},
   "outputs": [],
   "source": []
  }
 ],
 "metadata": {
  "kernelspec": {
   "display_name": "Python 3 (ipykernel)",
   "language": "python",
   "name": "python3"
  },
  "language_info": {
   "codemirror_mode": {
    "name": "ipython",
    "version": 3
   },
   "file_extension": ".py",
   "mimetype": "text/x-python",
   "name": "python",
   "nbconvert_exporter": "python",
   "pygments_lexer": "ipython3",
   "version": "3.10.9"
  }
 },
 "nbformat": 4,
 "nbformat_minor": 5
}
