{
 "cells": [
  {
   "cell_type": "code",
   "execution_count": null,
   "id": "fc1cc1db-0628-4af4-add6-9b2fd6e55b98",
   "metadata": {},
   "outputs": [],
   "source": [
    "#String Based Practice Questions"
   ]
  },
  {
   "cell_type": "code",
   "execution_count": null,
   "id": "13057fb9-fe63-4796-b60c-735457357c10",
   "metadata": {},
   "outputs": [],
   "source": [
    "# 1.  Write a program to reverse a string."
   ]
  },
  {
   "cell_type": "code",
   "execution_count": 3,
   "id": "5bbdb9c5-d5a3-499d-8a0d-94ca8aadae42",
   "metadata": {},
   "outputs": [
    {
     "name": "stdout",
     "output_type": "stream",
     "text": [
      "nutnuT\n"
     ]
    }
   ],
   "source": [
    "# s is a variable\n",
    "s = \"Tuntun\"\n",
    "# Revirsed the string\n",
    "s = s[::-1]\n",
    "print(s)"
   ]
  },
  {
   "cell_type": "code",
   "execution_count": null,
   "id": "91c75db1-604c-4684-af60-f99e25072f4c",
   "metadata": {},
   "outputs": [],
   "source": [
    " #2. Check if a string is a palindrome."
   ]
  },
  {
   "cell_type": "code",
   "execution_count": 12,
   "id": "42543c9e-4fc8-4ae7-842d-66e29e7698d2",
   "metadata": {},
   "outputs": [
    {
     "name": "stdin",
     "output_type": "stream",
     "text": [
      "Enter a string Madam\n"
     ]
    },
    {
     "name": "stdout",
     "output_type": "stream",
     "text": [
      "it's a palindrome\n"
     ]
    }
   ],
   "source": [
    "# Taking input from user\n",
    "s = input(\"Enter a string\")\n",
    "# converting to upper case\n",
    "s = s.upper()\n",
    "# checking palindrome\n",
    "if s == s[::-1]:\n",
    "    print(\"it's a palindrome\")\n",
    "else :\n",
    "    print(\"It's not a palindrome\")"
   ]
  },
  {
   "cell_type": "code",
   "execution_count": null,
   "id": "16fb020d-8728-48be-a420-373b14e6da9c",
   "metadata": {},
   "outputs": [],
   "source": [
    "# 3. Convert a string to uppercase."
   ]
  },
  {
   "cell_type": "code",
   "execution_count": 7,
   "id": "25b8a479-1001-4e58-b3b7-50c964262b14",
   "metadata": {},
   "outputs": [
    {
     "name": "stdout",
     "output_type": "stream",
     "text": [
      "TUNTUN\n"
     ]
    }
   ],
   "source": [
    "s = \"Tuntun\"\n",
    "s = s.upper()\n",
    "print(s)"
   ]
  },
  {
   "cell_type": "code",
   "execution_count": null,
   "id": "a5c972a1-63cb-42d1-94d2-46914669a654",
   "metadata": {},
   "outputs": [],
   "source": [
    "# 4.  Convert a string to lowercase."
   ]
  },
  {
   "cell_type": "code",
   "execution_count": 13,
   "id": "3d98434a-ec92-4215-82f2-8d2bbd44d6ac",
   "metadata": {},
   "outputs": [
    {
     "name": "stdout",
     "output_type": "stream",
     "text": [
      "tuntun\n"
     ]
    }
   ],
   "source": [
    "# s ia variable which is storing the string\n",
    "s = \"Tuntun\"\n",
    "# Converting to lower\n",
    "s = s.lower()\n",
    "print(s)"
   ]
  },
  {
   "cell_type": "code",
   "execution_count": null,
   "id": "99a69a76-9926-40f1-9b12-ddbf9dcb4c35",
   "metadata": {},
   "outputs": [],
   "source": [
    "# 5. Count the number of vowels in a string. "
   ]
  },
  {
   "cell_type": "code",
   "execution_count": 20,
   "id": "e42baaa8-5d04-4950-a4d2-9d8e2dfa5b2b",
   "metadata": {},
   "outputs": [
    {
     "name": "stdout",
     "output_type": "stream",
     "text": [
      "No. of vowels 2\n"
     ]
    }
   ],
   "source": [
    "s = 'Tuntun'\n",
    "v = 'AEIOUaeiou'\n",
    "# checking the vowel\n",
    "count = sum(1 for char in s if char in v)\n",
    "print(\"No. of vowels:\", count)"
   ]
  },
  {
   "cell_type": "code",
   "execution_count": null,
   "id": "fba6949e-4f7e-429c-b171-6d970fc35f8c",
   "metadata": {},
   "outputs": [],
   "source": [
    "#6. Count the number of consonants in a string."
   ]
  },
  {
   "cell_type": "code",
   "execution_count": 21,
   "id": "c91ec75c-3fa6-4cf9-9a92-4d62401037cb",
   "metadata": {},
   "outputs": [
    {
     "name": "stdout",
     "output_type": "stream",
     "text": [
      "No. of Consonant: 4\n"
     ]
    }
   ],
   "source": [
    "s = 'Tuntun'\n",
    "v = 'AEIOUaeiou'\n",
    "# checking consonants\n",
    "count = sum(1 for char in s if char not in v)\n",
    "print(\"No. of Consonant:\", count)"
   ]
  },
  {
   "cell_type": "code",
   "execution_count": null,
   "id": "0b489460-7a27-44eb-8454-613201e533c6",
   "metadata": {},
   "outputs": [],
   "source": [
    " #7. Remove all whitespaces from a string."
   ]
  },
  {
   "cell_type": "code",
   "execution_count": 22,
   "id": "b49361e4-e00a-4fc2-a240-83b6854d4e50",
   "metadata": {},
   "outputs": [
    {
     "name": "stdout",
     "output_type": "stream",
     "text": [
      "tuntun\n"
     ]
    }
   ],
   "source": [
    "s = 'tu nt u n'\n",
    "# Removing the space\n",
    "s = s.replace(\" \", \"\")\n",
    "print(s)"
   ]
  },
  {
   "cell_type": "code",
   "execution_count": null,
   "id": "fa3137ce-f019-4c38-b1f5-3df0a80f700f",
   "metadata": {},
   "outputs": [],
   "source": [
    " #8. Find the length of a string without using the `len()` function. "
   ]
  },
  {
   "cell_type": "code",
   "execution_count": 24,
   "id": "d8464973-3a00-45d0-b81a-c38d0d649402",
   "metadata": {},
   "outputs": [
    {
     "name": "stdout",
     "output_type": "stream",
     "text": [
      "6\n"
     ]
    }
   ],
   "source": [
    "s = \"Tuntun\"\n",
    "# counting the string\n",
    "count =sum(1 for char in s)\n",
    "print(count)"
   ]
  },
  {
   "cell_type": "code",
   "execution_count": null,
   "id": "3e117d0f-c9ea-4c65-bd6c-48d77455201c",
   "metadata": {},
   "outputs": [],
   "source": [
    "#9. Check if a string contains a specific word."
   ]
  },
  {
   "cell_type": "code",
   "execution_count": 31,
   "id": "8f999a33-9fca-482e-ae3b-58d3bd0b4359",
   "metadata": {},
   "outputs": [
    {
     "name": "stdin",
     "output_type": "stream",
     "text": [
      "Enter a word book\n"
     ]
    },
    {
     "name": "stdout",
     "output_type": "stream",
     "text": [
      "It's exist\n"
     ]
    }
   ],
   "source": [
    "s = \" This is a book\"\n",
    "# checking the words it's exist or not\n",
    "i = input (\"Enter a word\")\n",
    "if i in s :\n",
    "    print(\"It's exist\")\n",
    "else:\n",
    "    print(\"Not found\")"
   ]
  },
  {
   "cell_type": "code",
   "execution_count": null,
   "id": "5a34cbd6-215f-4885-9739-0b45a4ea5c02",
   "metadata": {},
   "outputs": [],
   "source": [
    "# 10. Replace a word in a string with another word."
   ]
  },
  {
   "cell_type": "code",
   "execution_count": 33,
   "id": "f30470e1-8a25-4f61-b108-82c53c2c7f85",
   "metadata": {},
   "outputs": [
    {
     "name": "stdout",
     "output_type": "stream",
     "text": [
      "I want to code Perfectly\n"
     ]
    }
   ],
   "source": [
    "s = \"I want to code efficently\"\n",
    "# Replacing the word\n",
    "s = s.replace('efficently', \"Perfectly\")\n",
    "print(s)"
   ]
  },
  {
   "cell_type": "code",
   "execution_count": null,
   "id": "a38e8667-98a1-4cc8-a6ed-c3158b31969a",
   "metadata": {},
   "outputs": [],
   "source": [
    "# 11. Count the occurrences of a word in a string."
   ]
  },
  {
   "cell_type": "code",
   "execution_count": 58,
   "id": "73429e33-9d42-4d7b-8111-de78f4f63697",
   "metadata": {},
   "outputs": [
    {
     "name": "stdout",
     "output_type": "stream",
     "text": [
      "Count of matching word : 2\n"
     ]
    }
   ],
   "source": [
    "# s is the string\n",
    "s = 'This is a python code, it is a easy language'\n",
    "s = s.split()\n",
    "# c is defined for occurance check\n",
    "c = 'is'\n",
    "count = 0\n",
    "# iterating the string and checking the occurance\n",
    "for i in s:\n",
    "    if i == c:\n",
    "        count += 1\n",
    "print(\"Count of matching words :\",count)"
   ]
  },
  {
   "cell_type": "code",
   "execution_count": null,
   "id": "46c07fbb-cc8d-4e8f-8d63-d76fee83df91",
   "metadata": {},
   "outputs": [],
   "source": [
    "# 12. Find the first occurrence of a word in a string. "
   ]
  },
  {
   "cell_type": "code",
   "execution_count": 67,
   "id": "e3b14e94-04ec-4bc4-adcb-2f52b101cd10",
   "metadata": {},
   "outputs": [
    {
     "name": "stdin",
     "output_type": "stream",
     "text": [
      "Enter the text This is not a is not\n",
      "Enter the word to find not\n"
     ]
    },
    {
     "name": "stdout",
     "output_type": "stream",
     "text": [
      "The first occurrence is 8\n"
     ]
    }
   ],
   "source": [
    "s = input(\"Enter the text:\")\n",
    "i = input(\"Enter the word to find:\")\n",
    "s \n",
    "index = s.find(i) \n",
    "if i != -1:\n",
    "    print(\"The first occurrence is\", index )\n",
    "else :\n",
    "    print(\"Word not found\")\n"
   ]
  },
  {
   "cell_type": "code",
   "execution_count": null,
   "id": "f9bd8202-7b3f-4e84-b0ca-e02a99d674c0",
   "metadata": {},
   "outputs": [],
   "source": [
    "13. Find the last occurrence of a word in a string.\n",
    " "
   ]
  },
  {
   "cell_type": "code",
   "execution_count": 78,
   "id": "bdce34a0-11aa-4ed8-b224-8557cf7c143d",
   "metadata": {},
   "outputs": [
    {
     "name": "stdin",
     "output_type": "stream",
     "text": [
      "Enter the text: This is to find is\n",
      "Enter the word to find: is\n"
     ]
    },
    {
     "name": "stdout",
     "output_type": "stream",
     "text": [
      "The last occurrence is 16\n"
     ]
    }
   ],
   "source": [
    "s = input(\"Enter the text:\")\n",
    "i = input(\"Enter the word to find:\")\n",
    "s \n",
    "index = s.rfind(i) \n",
    "if i != -1:\n",
    "    print(\"The last occurrence is\", index )\n",
    "else :\n",
    "    print(\"Word not found\")"
   ]
  },
  {
   "cell_type": "code",
   "execution_count": null,
   "id": "60c49597-fdb2-482e-a1bf-50cc92c268d3",
   "metadata": {},
   "outputs": [],
   "source": [
    "#14. Split a string into a list of words."
   ]
  },
  {
   "cell_type": "code",
   "execution_count": 63,
   "id": "e60710ce-d71e-42e6-9d06-ed1e360b9836",
   "metadata": {},
   "outputs": [
    {
     "name": "stdout",
     "output_type": "stream",
     "text": [
      "['This', 'is', 'my', 'another', 'code']\n"
     ]
    }
   ],
   "source": [
    "s = 'This is my another code'\n",
    "s = s.split()\n",
    "print(s)"
   ]
  },
  {
   "cell_type": "code",
   "execution_count": null,
   "id": "76b807c4-f92e-4ba5-9308-f150fe95882d",
   "metadata": {},
   "outputs": [],
   "source": [
    "# 15. Join a list of words into a string."
   ]
  },
  {
   "cell_type": "code",
   "execution_count": 69,
   "id": "7fca2c40-f702-446b-830e-ade464fe9bbe",
   "metadata": {},
   "outputs": [
    {
     "name": "stdout",
     "output_type": "stream",
     "text": [
      "This is my another code\n"
     ]
    }
   ],
   "source": [
    "s = ['This', 'is', 'my', 'another', 'code']\n",
    "l = \" \"\n",
    "l = l.join(s)\n",
    "print(l)"
   ]
  },
  {
   "cell_type": "code",
   "execution_count": null,
   "id": "2043515f-1322-4d72-90f2-47772d103107",
   "metadata": {},
   "outputs": [],
   "source": [
    "#16. Convert a string where words are separated by spaces to one where words are separated by underscores."
   ]
  },
  {
   "cell_type": "code",
   "execution_count": 70,
   "id": "eef76a56-946e-442c-b0ad-c99d21033a9c",
   "metadata": {},
   "outputs": [
    {
     "name": "stdout",
     "output_type": "stream",
     "text": [
      "This_is_my_converted_code\n"
     ]
    }
   ],
   "source": [
    "s = 'This is my converted code'\n",
    "s =s.replace(' ', '_')\n",
    "print(s)"
   ]
  },
  {
   "cell_type": "code",
   "execution_count": null,
   "id": "10cdd294-080d-4f50-acef-19aad3225187",
   "metadata": {},
   "outputs": [],
   "source": [
    " #7. Check if a string starts with a specific word or phrase. "
   ]
  },
  {
   "cell_type": "code",
   "execution_count": 82,
   "id": "68cc6457-3518-4808-8f13-f7a52b6abe23",
   "metadata": {},
   "outputs": [
    {
     "name": "stdin",
     "output_type": "stream",
     "text": [
      "Enter a sentence This is\n",
      "Enter a specific word This\n"
     ]
    },
    {
     "name": "stdout",
     "output_type": "stream",
     "text": [
      "It's started with specific word\n"
     ]
    }
   ],
   "source": [
    "s = input(\"Enter a sentence\")\n",
    "i = input(\"Enter a specific word\")\n",
    "check = s.startswith(i)\n",
    "if check is True:\n",
    "    print(\"It's started with specific word\")\n",
    "else :\n",
    "    print(\"it's not started with a specific word\")"
   ]
  },
  {
   "cell_type": "code",
   "execution_count": null,
   "id": "bb5139b5-5116-4630-b2f0-993824d27aa3",
   "metadata": {},
   "outputs": [],
   "source": [
    "#18. Check if a string ends with a specific word or phrase. "
   ]
  },
  {
   "cell_type": "code",
   "execution_count": 86,
   "id": "094e9826-c6d5-466e-90c4-cacdb66cd121",
   "metadata": {},
   "outputs": [
    {
     "name": "stdin",
     "output_type": "stream",
     "text": [
      "Enter a sentence This is end with a specific word\n",
      "Enter a specific word word\n"
     ]
    },
    {
     "name": "stdout",
     "output_type": "stream",
     "text": [
      "It's ends with specific word\n"
     ]
    }
   ],
   "source": [
    "s = input(\"Enter a sentence\")\n",
    "i = input(\"Enter a specific word\")\n",
    "check = s.endswith(i)\n",
    "if check is True:\n",
    "    print(\"It's ends with specific word\")\n",
    "else :\n",
    "    print(\"it's not ends with a specific word\")"
   ]
  },
  {
   "cell_type": "code",
   "execution_count": null,
   "id": "2462a862-d264-48d0-9d3b-209e4a81402b",
   "metadata": {},
   "outputs": [],
   "source": [
    "#19. Convert a string to title case (e.g., \"hello world\" to \"Hello World\"). "
   ]
  },
  {
   "cell_type": "code",
   "execution_count": 71,
   "id": "cbfe1073-350c-4800-ba6f-7c50f24922b0",
   "metadata": {},
   "outputs": [
    {
     "name": "stdout",
     "output_type": "stream",
     "text": [
      "This Is Tile Check\n"
     ]
    }
   ],
   "source": [
    "s = 'this is tile Check'\n",
    "s = s.title()\n",
    "print(s)"
   ]
  },
  {
   "cell_type": "code",
   "execution_count": null,
   "id": "68466fce-48ff-4926-b6f3-36fbb4700de4",
   "metadata": {},
   "outputs": [],
   "source": [
    "#20. Find the longest word in a string. "
   ]
  },
  {
   "cell_type": "code",
   "execution_count": 83,
   "id": "186419b9-6a44-4ce1-84b6-2937e0007dd0",
   "metadata": {},
   "outputs": [
    {
     "name": "stdout",
     "output_type": "stream",
     "text": [
      " The longest word: 5, word is Check\n"
     ]
    }
   ],
   "source": [
    "s = 'this is tile Check'\n",
    "s =s.split()\n",
    "ln = 0\n",
    "for i in s :\n",
    "    if ln < len(i):\n",
    "        ln =len(i)\n",
    "print(f\" The longest word: {ln}, word is {i}\")"
   ]
  },
  {
   "cell_type": "code",
   "execution_count": null,
   "id": "4a3916d1-8384-4cc9-9bcd-1134bf4eef98",
   "metadata": {},
   "outputs": [],
   "source": [
    "#21. Find the shortest word in a string. "
   ]
  },
  {
   "cell_type": "code",
   "execution_count": null,
   "id": "aa80368c-3051-4c8d-b0ee-ce81153d0cc9",
   "metadata": {},
   "outputs": [],
   "source": [
    "s = 'this is tile Check'\n",
    "s =s.split()\n",
    "for i in s :\n",
    "    if i < ln < len(i):\n",
    "        ln =len(i)\n",
    "print(f\" The longest word: {ln}, word is {i}\")"
   ]
  },
  {
   "cell_type": "code",
   "execution_count": null,
   "id": "fb1ff0a9-d86f-48bd-93b3-ac3373af19c9",
   "metadata": {},
   "outputs": [],
   "source": [
    "#22. Reverse the order of words in a string. "
   ]
  },
  {
   "cell_type": "code",
   "execution_count": 84,
   "id": "8a12c7e6-9fb3-4e1c-841f-979b626eec37",
   "metadata": {},
   "outputs": [
    {
     "name": "stdout",
     "output_type": "stream",
     "text": [
      "nutnuT\n"
     ]
    }
   ],
   "source": [
    "s = \"Tuntun\"\n",
    "s = s[::-1]\n",
    "print(s)"
   ]
  },
  {
   "cell_type": "code",
   "execution_count": null,
   "id": "9e47e334-3078-4bf6-8e5b-962bbd31ba61",
   "metadata": {},
   "outputs": [],
   "source": [
    "#23. Check if a string is alphanumeric. "
   ]
  },
  {
   "cell_type": "code",
   "execution_count": 97,
   "id": "cfff06fd-edec-495f-81ba-fc8e998a6f24",
   "metadata": {},
   "outputs": [
    {
     "name": "stdin",
     "output_type": "stream",
     "text": [
      "Enter string tuntun\n"
     ]
    },
    {
     "data": {
      "text/plain": [
       "True"
      ]
     },
     "execution_count": 97,
     "metadata": {},
     "output_type": "execute_result"
    }
   ],
   "source": [
    "s = input(\"Enter string\")\n",
    "s= s.isalnum()\n",
    "s"
   ]
  },
  {
   "cell_type": "code",
   "execution_count": null,
   "id": "963ee6ff-58a9-40f8-90e3-8f4888a245af",
   "metadata": {},
   "outputs": [],
   "source": [
    "#24. Extract all digits from a string. "
   ]
  },
  {
   "cell_type": "code",
   "execution_count": 106,
   "id": "461c940e-a951-4bca-9dae-18a495296db7",
   "metadata": {},
   "outputs": [
    {
     "name": "stdout",
     "output_type": "stream",
     "text": [
      "['2', '4', '1']\n"
     ]
    }
   ],
   "source": [
    "s = \"tun2tu4n1\"\n",
    "n = \"1234567890\"\n",
    "n1 = []\n",
    "for i in s:\n",
    "    if i in n:\n",
    "        n1.append(i)\n",
    "print(n1)"
   ]
  },
  {
   "cell_type": "code",
   "execution_count": null,
   "id": "c378b9c2-6c6e-43c5-955a-70c6c683eca9",
   "metadata": {},
   "outputs": [],
   "source": [
    "#25. Extract all alphabets from a string. "
   ]
  },
  {
   "cell_type": "code",
   "execution_count": 107,
   "id": "7bd1896b-9917-4590-977a-b1b171a48449",
   "metadata": {},
   "outputs": [
    {
     "name": "stdout",
     "output_type": "stream",
     "text": [
      "['t', 'u', 'n', 't', 'u', 'n']\n"
     ]
    }
   ],
   "source": [
    "s = \"tun2tu4n@1\"\n",
    "n = \"1234567890@#$$%&\"\n",
    "n1 = []\n",
    "for i in s:\n",
    "    if i not in n:\n",
    "        n1.append(i)\n",
    "print(n1)"
   ]
  },
  {
   "cell_type": "code",
   "execution_count": null,
   "id": "e201cfbc-650a-4ed5-88a1-d4312ca0e136",
   "metadata": {},
   "outputs": [],
   "source": [
    "#26. Count the number of uppercase letters in a string."
   ]
  },
  {
   "cell_type": "code",
   "execution_count": 13,
   "id": "85de7fa2-e62a-4e34-924d-645875db5b26",
   "metadata": {},
   "outputs": [
    {
     "name": "stdout",
     "output_type": "stream",
     "text": [
      "Count of upper case  2\n"
     ]
    }
   ],
   "source": [
    "s = \"TunTun\"\n",
    "c = 0\n",
    "for i in s:\n",
    "    if i.isupper():\n",
    "        c += 1\n",
    "print(\"Count of upper case \", c)        "
   ]
  },
  {
   "cell_type": "code",
   "execution_count": null,
   "id": "bdea5f0a-5f39-4e97-8dca-977e98ae3062",
   "metadata": {},
   "outputs": [],
   "source": [
    "#27. Count the number of lowercase letters in a string. "
   ]
  },
  {
   "cell_type": "code",
   "execution_count": 14,
   "id": "3df884e1-b51a-4707-bd3a-3dc7c12024df",
   "metadata": {},
   "outputs": [
    {
     "name": "stdout",
     "output_type": "stream",
     "text": [
      "Count of upper case  4\n"
     ]
    }
   ],
   "source": [
    "s = \"TunTun\"\n",
    "c = 0\n",
    "for i in s:\n",
    "    if i.islower():\n",
    "        c += 1\n",
    "print(\"Count of upper case \", c)  "
   ]
  },
  {
   "cell_type": "code",
   "execution_count": null,
   "id": "70715f3a-43e4-40d7-837d-c9c3a70ecd7c",
   "metadata": {},
   "outputs": [],
   "source": [
    "#28. Swap the case of each character in a string. "
   ]
  },
  {
   "cell_type": "code",
   "execution_count": 41,
   "id": "de04c2cc-4d16-442a-b7bf-d67968ff9e2e",
   "metadata": {},
   "outputs": [
    {
     "name": "stdout",
     "output_type": "stream",
     "text": [
      "tUNtUN\n"
     ]
    }
   ],
   "source": [
    "s = \"TunTun\"\n",
    "s = s.swapcase()\n",
    "print(s)"
   ]
  },
  {
   "cell_type": "code",
   "execution_count": null,
   "id": "3b48ba1a-8e7b-4d7c-a65a-3e414a4371c5",
   "metadata": {},
   "outputs": [],
   "source": [
    "#29. Remove a specific word from a string. "
   ]
  },
  {
   "cell_type": "code",
   "execution_count": 91,
   "id": "a8232127-ad8b-4265-9218-941f10a092f7",
   "metadata": {},
   "outputs": [
    {
     "name": "stdin",
     "output_type": "stream",
     "text": [
      "Enter a string This is my new text\n",
      "Enter word to remove my\n"
     ]
    },
    {
     "name": "stdout",
     "output_type": "stream",
     "text": [
      "Remove words This is   new text\n"
     ]
    }
   ],
   "source": [
    "s = input(\"Enter a string\")\n",
    "i = input(\"Enter word to remove\")\n",
    "r = s.replace(i, \" \")\n",
    "print(\"Remove words\", r)"
   ]
  },
  {
   "cell_type": "code",
   "execution_count": null,
   "id": "17e88e65-6570-450c-a25f-82c3b2bdb41c",
   "metadata": {},
   "outputs": [],
   "source": [
    "#30. Check if a string is a valid email address."
   ]
  },
  {
   "cell_type": "code",
   "execution_count": 96,
   "id": "eccea569-8b88-476d-bb72-7d96f09ea4f6",
   "metadata": {},
   "outputs": [
    {
     "name": "stdin",
     "output_type": "stream",
     "text": [
      "Enter a mail id Thu@gmIL.COM\n"
     ]
    },
    {
     "name": "stdout",
     "output_type": "stream",
     "text": [
      "Valide email\n"
     ]
    }
   ],
   "source": [
    "import re\n",
    "email = input(\"Enter a mail id\")\n",
    "pattern = r'^[a-zA-Z0-9._%+-]+@[a-zA-Z0-9.-]+\\.[a-zA-Z]{2,}$'\n",
    "check = re.match(pattern, email)\n",
    "print(\"It's Valid Email\" if check else \"It's not valid\")"
   ]
  },
  {
   "cell_type": "code",
   "execution_count": null,
   "id": "58777217-f359-4343-b3a2-f6f4b0ac1e56",
   "metadata": {},
   "outputs": [],
   "source": [
    "#31. Extract the username from an email address string. "
   ]
  },
  {
   "cell_type": "code",
   "execution_count": 105,
   "id": "7523ca03-267f-47e4-b10e-06f8de74a2e8",
   "metadata": {},
   "outputs": [
    {
     "name": "stdin",
     "output_type": "stream",
     "text": [
      "Enter a email tuntun.sah@gmail.com\n"
     ]
    },
    {
     "name": "stdout",
     "output_type": "stream",
     "text": [
      "Email: tuntun.sah@gmail.com, Username: tuntun.sah\n"
     ]
    }
   ],
   "source": [
    "import re\n",
    "\n",
    "email = input(\"Enter a email\")\n",
    "# Defined a regex pattern to match the username\n",
    "pattern = r'^(.*?)@'\n",
    "match = re.match(pattern, email)\n",
    "\n",
    "if match:    \n",
    "    username = match.group(1)\n",
    "    print(f\"Email: {email}, Username: {username}\")\n",
    "else:\n",
    "    print(\"Invalid email format.\")"
   ]
  },
  {
   "cell_type": "code",
   "execution_count": null,
   "id": "e6b79188-7a5c-4708-a7fb-e3cc4d6641bf",
   "metadata": {},
   "outputs": [],
   "source": [
    "#32. Extract the domain name from an email address string. "
   ]
  },
  {
   "cell_type": "code",
   "execution_count": 107,
   "id": "81f85fd7-b8fd-4f0e-a413-3f0b7433be0f",
   "metadata": {},
   "outputs": [
    {
     "name": "stdin",
     "output_type": "stream",
     "text": [
      "Enter a email Tuntun@gmail.com\n"
     ]
    },
    {
     "name": "stdout",
     "output_type": "stream",
     "text": [
      "Email: Tuntun@gmail.com, Domain: gmail.com\n"
     ]
    }
   ],
   "source": [
    "import re\n",
    "\n",
    "email = input(\"Enter a email\")\n",
    "# Defined a regex pattern to match the domain\n",
    "pattern = r'@(.+)$'\n",
    "match = re.search(pattern, email)\n",
    "\n",
    "if match:\n",
    "    domain = match.group(1)\n",
    "    print(f\"Email: {email}, Domain: {domain}\")\n",
    "else:\n",
    "    print(\"Invalid email format.\")\n"
   ]
  },
  {
   "cell_type": "code",
   "execution_count": null,
   "id": "93e3e5aa-bd1b-4f98-b491-72f7d15c75b6",
   "metadata": {},
   "outputs": [],
   "source": [
    "#33. Replace multiple spaces in a string with a single space. "
   ]
  },
  {
   "cell_type": "code",
   "execution_count": 108,
   "id": "a70ca6da-0fb1-4f02-b4df-e064fd1e0634",
   "metadata": {},
   "outputs": [
    {
     "name": "stdin",
     "output_type": "stream",
     "text": [
      "Enter a text This   is the     way to   code\n"
     ]
    },
    {
     "name": "stdout",
     "output_type": "stream",
     "text": [
      "Cleaned Text This is the way to code\n"
     ]
    }
   ],
   "source": [
    "text = input(\"Enter a text\")\n",
    "cleaned_text = ' '.join(text.split())\n",
    "print(\"Cleaned Text\", cleaned_text)"
   ]
  },
  {
   "cell_type": "code",
   "execution_count": null,
   "id": "c937c677-95d8-4e22-b4db-fdb7a97e537f",
   "metadata": {},
   "outputs": [],
   "source": [
    "#34. Check if a string is a valid URL."
   ]
  },
  {
   "cell_type": "code",
   "execution_count": 110,
   "id": "4c4e1b86-1ef8-4777-b747-16f84f036ced",
   "metadata": {},
   "outputs": [
    {
     "name": "stdin",
     "output_type": "stream",
     "text": [
      "Enter a url kkkk\n"
     ]
    },
    {
     "name": "stdout",
     "output_type": "stream",
     "text": [
      "It's a valid\n"
     ]
    }
   ],
   "source": [
    "import re\n",
    "\n",
    "url =input(\"Enter a url\")\n",
    "\n",
    "# Define a regex pattern for a valid URL\n",
    "pattern = r'^(https?://)?(www\\.)?([a-zA-Z0-9.-]+)(:[0-9]{1,5})?(/.*)?$'\n",
    "\n",
    "# Check if the URL matches the pattern\n",
    "is_valid = re.match(pattern, url) \n",
    "print(\"It's a valid\" if is_valid else \"It's not valid\")\n"
   ]
  },
  {
   "cell_type": "code",
   "execution_count": null,
   "id": "63a3f83f-3979-43e5-98f0-ef9b8e66d77e",
   "metadata": {},
   "outputs": [],
   "source": [
    "#35. Extract the protocol (http or https) from a URL string. "
   ]
  },
  {
   "cell_type": "code",
   "execution_count": 111,
   "id": "9ef9d0ef-4759-4803-9ce5-7a7d8238972e",
   "metadata": {},
   "outputs": [
    {
     "name": "stdout",
     "output_type": "stream",
     "text": [
      "URL: https://www.example.com/path/to/resource, Protocol: https\n"
     ]
    }
   ],
   "source": [
    "url = \"https://www.example.com/path/to/resource\"\n",
    "\n",
    "protocol = url.split(\"://\")[0]\n",
    "print(f\"URL: {url}, Protocol: {protocol}\")\n"
   ]
  },
  {
   "cell_type": "code",
   "execution_count": null,
   "id": "298e5145-2aa6-42df-a59e-7b9e83ae52fd",
   "metadata": {},
   "outputs": [],
   "source": [
    "#36. Find the frequency of each character in a string."
   ]
  },
  {
   "cell_type": "code",
   "execution_count": 112,
   "id": "e9116254-f8c3-498e-9fdc-d6574e99577a",
   "metadata": {},
   "outputs": [
    {
     "name": "stdin",
     "output_type": "stream",
     "text": [
      "Enter text This is a code\n"
     ]
    },
    {
     "name": "stdout",
     "output_type": "stream",
     "text": [
      "'T': 1\n",
      "'h': 1\n",
      "'i': 2\n",
      "'s': 2\n",
      "' ': 3\n",
      "'a': 1\n",
      "'c': 1\n",
      "'o': 1\n",
      "'d': 1\n",
      "'e': 1\n"
     ]
    }
   ],
   "source": [
    "text = input(\"Enter text\")\n",
    "\n",
    "# Initializing an empty dictionary to store character counts\n",
    "char_count = {}\n",
    "\n",
    "# Iterating through each character in the string\n",
    "for char in text:\n",
    "    if char in char_count:\n",
    "        char_count[char] += 1  # Increment count if character is already in dictionary\n",
    "    else:\n",
    "        char_count[char] = 1   # Initialize count to 1 if character is new\n",
    "\n",
    "\n",
    "for char, count in char_count.items():\n",
    "    print(f\"'{char}': {count}\")\n"
   ]
  },
  {
   "cell_type": "code",
   "execution_count": null,
   "id": "3ed6ef7c-3ad4-4e38-bd22-3a20f0624b6d",
   "metadata": {},
   "outputs": [],
   "source": [
    " #37. Remove all punctuation from a string."
   ]
  },
  {
   "cell_type": "code",
   "execution_count": 2,
   "id": "cfd49d04-aca3-4590-84c4-035387f780ec",
   "metadata": {},
   "outputs": [
    {
     "name": "stdin",
     "output_type": "stream",
     "text": [
      "Enter sentence This is my : code ? to remove ! punctuation !\n"
     ]
    },
    {
     "name": "stdout",
     "output_type": "stream",
     "text": [
      "This is my  code  to remove  punctuation \n"
     ]
    }
   ],
   "source": [
    "import string\n",
    "\n",
    "input_str = input(\"Enter sentence\")\n",
    "\n",
    "# Create a translation table that maps each punctuation character to None\n",
    "translator = str.maketrans('', '', string.punctuation)\n",
    "\n",
    "# Remove punctuation\n",
    "cleaned_str = input_str.translate(translator)\n",
    "\n",
    "print(cleaned_str) "
   ]
  },
  {
   "cell_type": "code",
   "execution_count": null,
   "id": "abdc2960-f741-4041-982f-497e1442d9fb",
   "metadata": {},
   "outputs": [],
   "source": [
    "#38. Check if a string contains only digits."
   ]
  },
  {
   "cell_type": "code",
   "execution_count": 49,
   "id": "815e7669-4c32-44aa-bb26-b860d666d074",
   "metadata": {},
   "outputs": [
    {
     "name": "stdin",
     "output_type": "stream",
     "text": [
      "Enter something 2\n"
     ]
    },
    {
     "name": "stdout",
     "output_type": "stream",
     "text": [
      "it's numeric\n"
     ]
    }
   ],
   "source": [
    "s = input(\"Enter something\")\n",
    "c = s.isnumeric()\n",
    "if c is True :\n",
    "    print(\"it's numeric\")\n",
    "else : \n",
    "    print(\"it's not a numeric\")"
   ]
  },
  {
   "cell_type": "code",
   "execution_count": null,
   "id": "ad4bf442-b396-4f45-a3de-58919986c9a3",
   "metadata": {},
   "outputs": [],
   "source": [
    "#39. Check if a string contains only alphabets."
   ]
  },
  {
   "cell_type": "code",
   "execution_count": 52,
   "id": "ea95c159-ff7e-4ba5-aa68-be79ab5b2272",
   "metadata": {},
   "outputs": [
    {
     "name": "stdin",
     "output_type": "stream",
     "text": [
      "Enter something 22f\n"
     ]
    },
    {
     "name": "stdout",
     "output_type": "stream",
     "text": [
      "it's not a alphabets\n"
     ]
    }
   ],
   "source": [
    "s = input(\"Enter something\")\n",
    "c = s.isalpha()\n",
    "if c is True :\n",
    "    print(\"it's alphabets\")\n",
    "else : \n",
    "    print(\"it's not a alphabets\")"
   ]
  },
  {
   "cell_type": "code",
   "execution_count": null,
   "id": "a1d97cf7-a359-431f-b4a1-efbab3c61ceb",
   "metadata": {},
   "outputs": [],
   "source": [
    "#40. Convert a string to a list of characters. "
   ]
  },
  {
   "cell_type": "code",
   "execution_count": 53,
   "id": "ac9516ba-964e-4bdf-bf05-62938114f330",
   "metadata": {},
   "outputs": [
    {
     "name": "stdin",
     "output_type": "stream",
     "text": [
      "Enter a text Tuntun\n"
     ]
    },
    {
     "name": "stdout",
     "output_type": "stream",
     "text": [
      "['T', 'u', 'n', 't', 'u', 'n']\n"
     ]
    }
   ],
   "source": [
    "s = input(\"Enter a text\")\n",
    "s = list(s)\n",
    "print(s)"
   ]
  },
  {
   "cell_type": "code",
   "execution_count": null,
   "id": "d3e4f9c9-ab10-4c4d-95d7-3cd21e323ee8",
   "metadata": {},
   "outputs": [],
   "source": [
    "#41. Check if two strings are anagrams."
   ]
  },
  {
   "cell_type": "code",
   "execution_count": 5,
   "id": "2f4750a9-a25b-4708-aa7d-1b21f01982d7",
   "metadata": {},
   "outputs": [
    {
     "name": "stdin",
     "output_type": "stream",
     "text": [
      "Enter string 1 listen\n",
      "Enter string 2 silent\n"
     ]
    },
    {
     "name": "stdout",
     "output_type": "stream",
     "text": [
      "True\n"
     ]
    }
   ],
   "source": [
    "string1 = input(\"Enter string 1\")         #\"listen\"\n",
    "string2 =  input(\"Enter string 2\")            #\"silent\"\n",
    "\n",
    "# Check if sorted versions of the strings are equal\n",
    "are_anagrams = sorted(string1) == sorted(string2)\n",
    "\n",
    "print(are_anagrams) \n"
   ]
  },
  {
   "cell_type": "code",
   "execution_count": null,
   "id": "ce7332e0-aa97-4231-ba8c-f088c1b11a90",
   "metadata": {},
   "outputs": [],
   "source": [
    "#42. Encode a string using a Caesar cipher."
   ]
  },
  {
   "cell_type": "code",
   "execution_count": 3,
   "id": "bea7c2db-6bfa-4f6e-9dcb-ec141dc01605",
   "metadata": {},
   "outputs": [
    {
     "name": "stdin",
     "output_type": "stream",
     "text": [
      "Enter the text Hello World!\n",
      "Enter the number, the char to be shifted 3\n"
     ]
    },
    {
     "name": "stdout",
     "output_type": "stream",
     "text": [
      "Encoded text: ehoor truog!\n"
     ]
    }
   ],
   "source": [
    "text = input(\"Enter the text\")\n",
    "shift =int(input(\"Enter the number, the char to be shifted\"))\n",
    " \n",
    "encoded_text = \"\"\n",
    "\n",
    "  # Iterating through each character in the input text.\n",
    "for char in text:\n",
    "    if char.isalpha():\n",
    "        encoded_char = chr((ord(char) + shift - ord('a')) % 26 + ord('a'))\n",
    "    else:\n",
    "        encoded_char = char\n",
    "    encoded_text += encoded_char\n",
    "\n",
    "# Print the encoded text.\n",
    "print(\"Encoded text:\", encoded_text)"
   ]
  },
  {
   "cell_type": "code",
   "execution_count": null,
   "id": "c014014d-9c34-4bdd-b1a7-54d7fed90437",
   "metadata": {},
   "outputs": [],
   "source": [
    "#43. Decode a Caesar cipher encoded string. "
   ]
  },
  {
   "cell_type": "code",
   "execution_count": 4,
   "id": "e7202607-e98d-48c5-9d88-8dcb97e69853",
   "metadata": {},
   "outputs": [
    {
     "name": "stdin",
     "output_type": "stream",
     "text": [
      "Enter the text ehoor truog!\n",
      "Enter the number, the char to be shifted 3\n"
     ]
    },
    {
     "name": "stdout",
     "output_type": "stream",
     "text": [
      "Decoded text: bello qorld!\n"
     ]
    }
   ],
   "source": [
    "text = input(\"Enter the text\")\n",
    "shift =int(input(\"Enter the number, the char to be shifted\"))\n",
    " \n",
    "encoded_text = \"\"\n",
    "\n",
    "  # Iterating through each character in the input text.\n",
    "for char in text:\n",
    "    if char.isalpha():\n",
    "        encoded_char = chr((ord(char) - shift - ord('a')) % 26 + ord('a'))\n",
    "    else:\n",
    "        encoded_char = char\n",
    "    encoded_text += encoded_char\n",
    "\n",
    "# Print the encoded text.\n",
    "print(\"Decoded text:\", encoded_text)"
   ]
  },
  {
   "cell_type": "code",
   "execution_count": null,
   "id": "14202f5a-1863-4617-b87c-eaa63eae53a9",
   "metadata": {},
   "outputs": [],
   "source": [
    "#44. Find the most frequent word in a string. "
   ]
  },
  {
   "cell_type": "code",
   "execution_count": 1,
   "id": "02153b3c-6c12-4ae1-8be9-27b62415b603",
   "metadata": {},
   "outputs": [
    {
     "name": "stdout",
     "output_type": "stream",
     "text": [
      "The most frequent word is 'test' with 4 occurrences.\n"
     ]
    }
   ],
   "source": [
    "import string\n",
    "\n",
    "# Input string\n",
    "text = \"this is a test. This is only a test. test this is a test.\"\n",
    "\n",
    "# Removed punctuation and convert to lowercase for consistent comparison\n",
    "\n",
    "\n",
    "text = text.translate(str.maketrans('', '', string.punctuation)).lower()\n",
    "\n",
    "# Split the text into words\n",
    "words = text.split()\n",
    "\n",
    "# Create a dictionary to count the frequency of each word\n",
    "word_count = {}\n",
    "\n",
    "for word in words:\n",
    "    if word in word_count:\n",
    "        word_count[word] += 1\n",
    "    else:\n",
    "        word_count[word] = 1\n",
    "\n",
    "# Find the word with the maximum frequency\n",
    "most_frequent_word = max(word_count, key=word_count.get)\n",
    "frequency = word_count[most_frequent_word]\n",
    "\n",
    "print(f\"The most frequent word is '{most_frequent_word}' with {frequency} occurrences.\")\n"
   ]
  },
  {
   "cell_type": "code",
   "execution_count": null,
   "id": "b49b1055-785c-406e-b21b-0f6e1949aeb1",
   "metadata": {},
   "outputs": [],
   "source": [
    "#45. Find all unique words in a string."
   ]
  },
  {
   "cell_type": "code",
   "execution_count": 63,
   "id": "8892529e-6701-4db8-8646-c62297aa0f9c",
   "metadata": {},
   "outputs": [
    {
     "name": "stdout",
     "output_type": "stream",
     "text": [
      "Unique words: {'unique', 'the', 'This', 'to', 'is', 'my', 'check', 'word', 'code'}\n"
     ]
    }
   ],
   "source": [
    "s = \" This is my code to check the unique word to check the unique word\"\n",
    "s = s.split()\n",
    "print( \"Unique words:\", set(s))"
   ]
  },
  {
   "cell_type": "code",
   "execution_count": null,
   "id": "114ce9ef-85df-4da7-9752-9e7db52b79c0",
   "metadata": {},
   "outputs": [],
   "source": [
    " #46. Count the number of syllables in a string."
   ]
  },
  {
   "cell_type": "code",
   "execution_count": 2,
   "id": "c1bb7dff-7101-4ddd-99a0-0038e3f1b58b",
   "metadata": {},
   "outputs": [
    {
     "name": "stdout",
     "output_type": "stream",
     "text": [
      "Total syllables in the string: 13\n"
     ]
    }
   ],
   "source": [
    "import re\n",
    "\n",
    "# Input string\n",
    "text = \"This is an example string to count syllables in.\"\n",
    "\n",
    "# Remove punctuation and split the text into words\n",
    "text = re.sub(r'[^\\w\\s]', '', text)\n",
    "words = text.split()\n",
    "\n",
    "# Initialize syllable count\n",
    "total_syllables = 0\n",
    "\n",
    "# Iterate through each word\n",
    "for word in words:\n",
    "    word = word.lower()\n",
    "    # Find all groups of vowels (a, e, i, o, u, and sometimes y)\n",
    "    syllables = re.findall(r'[aeiouy]+', word)  # Find consecutive vowels (syllables)\n",
    "    total_syllables += len(syllables)  # Add the number of syllables in the word\n",
    "\n",
    "# Output the total number of syllables\n",
    "print(f\"Total syllables in the string: {total_syllables}\")\n"
   ]
  },
  {
   "cell_type": "code",
   "execution_count": null,
   "id": "57f2c0de-b913-4101-a7a0-4767d337da31",
   "metadata": {},
   "outputs": [],
   "source": [
    "#47. Check if a string contains any special characters."
   ]
  },
  {
   "cell_type": "code",
   "execution_count": 3,
   "id": "908f9717-8c08-4c04-b069-b727f2d541d4",
   "metadata": {},
   "outputs": [
    {
     "name": "stdout",
     "output_type": "stream",
     "text": [
      "The string contains special characters.\n"
     ]
    }
   ],
   "source": [
    "import re\n",
    "\n",
    "# Input string\n",
    "text = \"Hello, World! How's it going?\"\n",
    "\n",
    "# Regular expression to match any special characters\n",
    "special_characters = re.compile(r'[^a-zA-Z0-9\\s]')  # Matches anything that's not a letter, digit, or whitespace\n",
    "\n",
    "# Check if there's any special character in the string\n",
    "if special_characters.search(text):\n",
    "    print(\"The string contains special characters.\")\n",
    "else:\n",
    "    print(\"The string does not contain special characters.\")\n"
   ]
  },
  {
   "cell_type": "code",
   "execution_count": null,
   "id": "97c5e589-e4f1-4327-9243-b7f843b040a4",
   "metadata": {},
   "outputs": [],
   "source": [
    "#48. Remove the nth word from a string."
   ]
  },
  {
   "cell_type": "code",
   "execution_count": 19,
   "id": "d638ec63-5841-4266-a604-c655a4650cb4",
   "metadata": {},
   "outputs": [
    {
     "name": "stdin",
     "output_type": "stream",
     "text": [
      "Enter number to delete fron the position 3\n"
     ]
    },
    {
     "name": "stdout",
     "output_type": "stream",
     "text": [
      "After Removed This is new code to check the nth word to delete\n",
      "Removed Word : my\n"
     ]
    }
   ],
   "source": [
    "l = \"This is my new code to check the nth word to delete\"\n",
    "n = int(input(\"Enter number to delete fron the position\"))\n",
    "words = l.split()\n",
    "if n >= 1 <= len(words):\n",
    "    removed = words.pop(n-1)\n",
    "    \n",
    "wrs = ' '.join(words)\n",
    "print(\"After Removed\", wrs)\n",
    "print(\"Removed Word :\", removed)\n"
   ]
  },
  {
   "cell_type": "code",
   "execution_count": null,
   "id": "f2f0d9e2-6b3d-44be-aa99-cb0f9c1d87bb",
   "metadata": {},
   "outputs": [],
   "source": [
    "#49. Insert a word at the nth position in a string."
   ]
  },
  {
   "cell_type": "code",
   "execution_count": 4,
   "id": "1a4584b7-5e03-4da8-a4cb-ed5ead679719",
   "metadata": {},
   "outputs": [
    {
     "name": "stdout",
     "output_type": "stream",
     "text": [
      "Updated string: Hello, how doing are you today?\n"
     ]
    }
   ],
   "source": [
    "# Input string and word\n",
    "text = \"Hello, how are you today?\"\n",
    "word_to_insert = \"doing\"\n",
    "n = 2  # Position where you want to insert the word\n",
    "\n",
    "# Split the text into a list of words\n",
    "words = text.split()\n",
    "\n",
    "# Insert the word at the nth position (index n-1 because list indexing starts at 0)\n",
    "words.insert(n, word_to_insert)\n",
    "\n",
    "# Join the words back into a string\n",
    "new_text = ' '.join(words)\n",
    "\n",
    "print(f\"Updated string: {new_text}\")\n"
   ]
  },
  {
   "cell_type": "code",
   "execution_count": null,
   "id": "6dd87618-5d6d-4d4d-9a18-da3fc0829d4c",
   "metadata": {},
   "outputs": [],
   "source": [
    "#50. Convert a CSV string to a list of lists."
   ]
  },
  {
   "cell_type": "code",
   "execution_count": 10,
   "id": "6c2754ec-0df4-4c95-9b2f-8e5f5bb92222",
   "metadata": {},
   "outputs": [
    {
     "name": "stdout",
     "output_type": "stream",
     "text": [
      "['Class', ' Age', ' Location ']\n",
      "[' Tuntun', ' 26', ' India ']\n",
      "[' Rohit', ' 31', ' India']\n"
     ]
    }
   ],
   "source": [
    "csv = \"Class, Age, Location \\n Tuntun, 26, India \\n Rohit, 31, India\"\n",
    "lns = csv.split('\\n')\n",
    "\n",
    "    # Initialize an empty list to store the result\n",
    "r = []\n",
    "\n",
    "for l in lns:\n",
    "    f = l.split(',')\n",
    "    r.append(f)\n",
    "\n",
    "for row in r:\n",
    "    print(row)"
   ]
  },
  {
   "cell_type": "code",
   "execution_count": null,
   "id": "704b9548-abde-4eb0-add4-c85a120b2046",
   "metadata": {},
   "outputs": [],
   "source": [
    "# List Based Practice Problem :"
   ]
  },
  {
   "cell_type": "code",
   "execution_count": null,
   "id": "c14b3268-7ed9-4660-951f-e4cdfbd72736",
   "metadata": {},
   "outputs": [],
   "source": [
    "#1. Create a list with integers from 1 to 10."
   ]
  },
  {
   "cell_type": "code",
   "execution_count": null,
   "id": "3715a0a1-0bd2-4d6a-99f4-9115e13dc042",
   "metadata": {},
   "outputs": [],
   "source": [
    "l = [1,2,3,4,5,6,7,8,9,10]"
   ]
  },
  {
   "cell_type": "code",
   "execution_count": null,
   "id": "2006548d-576f-44f4-b3ad-c9d04969021f",
   "metadata": {},
   "outputs": [],
   "source": [
    "# 2. Find the length of a list without using the `len()` function."
   ]
  },
  {
   "cell_type": "code",
   "execution_count": 116,
   "id": "1b9f8520-7645-4867-80ea-6a3398c7da60",
   "metadata": {},
   "outputs": [
    {
     "name": "stdout",
     "output_type": "stream",
     "text": [
      "The lenght of the list : 10\n"
     ]
    }
   ],
   "source": [
    "l = [1,2,3,4,5,6,7,8,9,10]\n",
    "c = 0\n",
    "for i in l:\n",
    "    c += 1\n",
    "print(\"The lenght of the list :\", c)  "
   ]
  },
  {
   "cell_type": "code",
   "execution_count": null,
   "id": "dec8209b-66cc-4736-9b3f-0f5a7deea74d",
   "metadata": {},
   "outputs": [],
   "source": [
    "# 3. Append an element to the end of a list."
   ]
  },
  {
   "cell_type": "code",
   "execution_count": 120,
   "id": "b94e07fc-c6d6-41b0-aad2-b7daecea142f",
   "metadata": {},
   "outputs": [
    {
     "name": "stdout",
     "output_type": "stream",
     "text": [
      "The appended list is: [1, 2, 3, 4, 11]\n"
     ]
    }
   ],
   "source": [
    "l = [1,2,3,4,]\n",
    "l.append(11)\n",
    "print(\"The appended list is:\", l) \n"
   ]
  },
  {
   "cell_type": "code",
   "execution_count": null,
   "id": "4aaed9a6-87c3-4b33-af2d-380d07899dbe",
   "metadata": {},
   "outputs": [],
   "source": [
    "# 4. Insert an element at a specific index in a list. "
   ]
  },
  {
   "cell_type": "code",
   "execution_count": 124,
   "id": "f230fe20-694f-44b4-8d66-f8c4e5ad910f",
   "metadata": {},
   "outputs": [
    {
     "name": "stdout",
     "output_type": "stream",
     "text": [
      "The updated list is: [1, 2, 3, 10, 4, 5]\n"
     ]
    }
   ],
   "source": [
    "l =[1,2,3,4,5]\n",
    "l.insert(3, 10)\n",
    "print(\"The updated list is:\",l)"
   ]
  },
  {
   "cell_type": "code",
   "execution_count": null,
   "id": "f7fa90f2-8466-4a9b-a050-3cd9c6309513",
   "metadata": {},
   "outputs": [],
   "source": [
    "#5. Remove an element from a list by its value."
   ]
  },
  {
   "cell_type": "code",
   "execution_count": 126,
   "id": "8f9d1815-b30b-4c1a-a3ef-2474993b2f28",
   "metadata": {},
   "outputs": [
    {
     "name": "stdout",
     "output_type": "stream",
     "text": [
      "Removed list [1, 2, 4, 5]\n"
     ]
    }
   ],
   "source": [
    "l =[1,2,3,4,5]\n",
    "l.remove(3)\n",
    "print(\"Removed list\",l)"
   ]
  },
  {
   "cell_type": "code",
   "execution_count": null,
   "id": "789952c9-a1a4-4088-8d25-fe9a5e7797a2",
   "metadata": {},
   "outputs": [],
   "source": [
    "# 6. Remove an element from a list by its index. "
   ]
  },
  {
   "cell_type": "code",
   "execution_count": 127,
   "id": "0a01263c-6651-4b98-ba79-a38e3a1e78fd",
   "metadata": {},
   "outputs": [
    {
     "name": "stdout",
     "output_type": "stream",
     "text": [
      "Removed list [1, 2, 3, 5]\n"
     ]
    }
   ],
   "source": [
    "l =[1,2,3,4,5]\n",
    "l.pop(3)\n",
    "print(\"Removed list\",l)"
   ]
  },
  {
   "cell_type": "code",
   "execution_count": null,
   "id": "cba745c0-900b-456d-9de6-21e2de794805",
   "metadata": {},
   "outputs": [],
   "source": [
    "#7. Check if an element exists in a list. "
   ]
  },
  {
   "cell_type": "code",
   "execution_count": 132,
   "id": "31a38acd-f08f-49af-96da-116b350a453e",
   "metadata": {},
   "outputs": [
    {
     "name": "stdin",
     "output_type": "stream",
     "text": [
      "Enter number to check 3\n"
     ]
    },
    {
     "name": "stdout",
     "output_type": "stream",
     "text": [
      " 3 exists in the list\n"
     ]
    }
   ],
   "source": [
    "l = [1,2,3,4,5]\n",
    "i = int(input(\"Enter number to check\"))\n",
    "if i in l:\n",
    "    print(f\" {i} exists in the list\")\n",
    "else:\n",
    "    print(f\" {i} Does not exist in the list\")"
   ]
  },
  {
   "cell_type": "code",
   "execution_count": null,
   "id": "be6eb7e8-a81f-45b8-9eae-68b54da93482",
   "metadata": {},
   "outputs": [],
   "source": [
    "#8. Find the index of the first occurrence of an element in a list. "
   ]
  },
  {
   "cell_type": "code",
   "execution_count": 5,
   "id": "ca80a9d4-c48a-4fa0-acea-cbb5f49dac5c",
   "metadata": {},
   "outputs": [
    {
     "name": "stdin",
     "output_type": "stream",
     "text": [
      "Enter number to check 20\n"
     ]
    },
    {
     "name": "stdout",
     "output_type": "stream",
     "text": [
      "Index of first occurrence: 1\n"
     ]
    }
   ],
   "source": [
    "my_list = [10, 20, 30, 40, 50, 30, 60]\n",
    "\n",
    "to_check = int(input(\"Enter number to check\"))\n",
    "\n",
    "# Iterate through the list to find the index of the first occurrence\n",
    "for i in range(len(my_list)):\n",
    "    if my_list[i] == to_check:\n",
    "        print(\"Index of first occurrence:\", i)\n",
    "        break  # Exit the loop after finding the first occurrence\n"
   ]
  },
  {
   "cell_type": "code",
   "execution_count": null,
   "id": "2f70aba7-f019-4203-aeca-9749b9b7590a",
   "metadata": {},
   "outputs": [],
   "source": [
    "#9. Count the occurrences of an element in a list."
   ]
  },
  {
   "cell_type": "code",
   "execution_count": 16,
   "id": "2c49d5fc-d41e-49ba-8a79-85a8204d406a",
   "metadata": {},
   "outputs": [
    {
     "name": "stdout",
     "output_type": "stream",
     "text": [
      "Count of Occurrence are : {'B': 4, 'C': 2, 'A': 1, 'D': 1}\n"
     ]
    }
   ],
   "source": [
    "e_list = [\"B\", \"C\",\"A\", \"D\", \"C\", \"B\",\"B\", \"B\"]\n",
    "o_count = {}\n",
    "for i in e_list:\n",
    "    if i in o_count:\n",
    "        o_count[i] += 1\n",
    "    else :\n",
    "        o_count[i] = 1\n",
    "print(\"Count of Occurrence are :\", o_count)        \n"
   ]
  },
  {
   "cell_type": "code",
   "execution_count": null,
   "id": "bb105a6c-2e44-4c86-9d9b-348ccd9395bc",
   "metadata": {},
   "outputs": [],
   "source": [
    "# 10. Reverse the order of elements in a list."
   ]
  },
  {
   "cell_type": "code",
   "execution_count": 6,
   "id": "f1e6caec-71ed-4a46-918c-e3ef99f236de",
   "metadata": {},
   "outputs": [
    {
     "data": {
      "text/plain": [
       "[4, 3, 2, 1]"
      ]
     },
     "execution_count": 6,
     "metadata": {},
     "output_type": "execute_result"
    }
   ],
   "source": [
    "l = [1,2,3,4]\n",
    "#Used sclicing to revirse\n",
    "l[::-1]"
   ]
  },
  {
   "cell_type": "code",
   "execution_count": null,
   "id": "8a4dfaf2-52f6-470a-a83f-4eed225c8947",
   "metadata": {},
   "outputs": [],
   "source": [
    "#11. Sort a list in ascending order. "
   ]
  },
  {
   "cell_type": "code",
   "execution_count": 16,
   "id": "3d849489-8547-487c-9a37-e7b49aaa7615",
   "metadata": {},
   "outputs": [
    {
     "data": {
      "text/plain": [
       "[2, 3, 4, 5, 22, 32]"
      ]
     },
     "execution_count": 16,
     "metadata": {},
     "output_type": "execute_result"
    }
   ],
   "source": [
    "l = [3,4,2,5,22,32]\n",
    "l.sort()\n",
    "l"
   ]
  },
  {
   "cell_type": "code",
   "execution_count": null,
   "id": "a6a61b0c-311b-4509-9e71-6eb320f8a00a",
   "metadata": {},
   "outputs": [],
   "source": [
    "#12. Sort a list in descending order."
   ]
  },
  {
   "cell_type": "code",
   "execution_count": 18,
   "id": "50813613-6eb8-441d-aa32-6baa7530b111",
   "metadata": {},
   "outputs": [
    {
     "data": {
      "text/plain": [
       "[32, 22, 5, 4, 3, 2]"
      ]
     },
     "execution_count": 18,
     "metadata": {},
     "output_type": "execute_result"
    }
   ],
   "source": [
    "l = [3,4,2,5,22,32]\n",
    "l.sort( reverse = True)\n",
    "l"
   ]
  },
  {
   "cell_type": "code",
   "execution_count": null,
   "id": "92416594-fdd2-475f-ac34-81a3330690ce",
   "metadata": {},
   "outputs": [],
   "source": [
    " #13. Create a list of even numbers from 1 to 20. "
   ]
  },
  {
   "cell_type": "code",
   "execution_count": 29,
   "id": "a78d1f5e-78ac-40c1-b701-9dd09eaa731c",
   "metadata": {},
   "outputs": [
    {
     "name": "stdout",
     "output_type": "stream",
     "text": [
      "The even list is: [2, 4, 6, 8, 10, 12, 14, 16, 18, 20]\n"
     ]
    }
   ],
   "source": [
    "l =[]\n",
    "# Iterating i in range of 1 to 21 to get the desired numbers\n",
    "for i in range(1,21):\n",
    "    if i % 2 == 0:\n",
    "        l.append(i)\n",
    "print(\"The even list is:\", l) "
   ]
  },
  {
   "cell_type": "code",
   "execution_count": null,
   "id": "206cf605-b1a6-41a5-bec3-485274870fab",
   "metadata": {},
   "outputs": [],
   "source": [
    "#14. Create a list of odd numbers from 1 to 20. "
   ]
  },
  {
   "cell_type": "code",
   "execution_count": 30,
   "id": "7fe42b26-4d8e-49c6-9cec-0a14c2839db8",
   "metadata": {},
   "outputs": [
    {
     "name": "stdout",
     "output_type": "stream",
     "text": [
      "The odd list is: [1, 3, 5, 7, 9, 11, 13, 15, 17, 19]\n"
     ]
    }
   ],
   "source": [
    "l =[]\n",
    "# Iterating i in range of 1 to 21 to get the desired numbers\n",
    "for i in range(1,21):\n",
    "    if i % 2 != 0:\n",
    "        l.append(i)\n",
    "print(\"The odd list is:\", l) "
   ]
  },
  {
   "cell_type": "code",
   "execution_count": null,
   "id": "7b5db0b3-3e08-4b6b-85b3-21031dd5f8f5",
   "metadata": {},
   "outputs": [],
   "source": [
    "#15. Find the sum of all elements in a list. "
   ]
  },
  {
   "cell_type": "code",
   "execution_count": 31,
   "id": "e94563d9-7500-4367-9335-592de4888515",
   "metadata": {},
   "outputs": [
    {
     "name": "stdout",
     "output_type": "stream",
     "text": [
      "The sum of all elements is: 15\n"
     ]
    }
   ],
   "source": [
    "l = [1,2,3,4,5]\n",
    "sum = 0\n",
    "for i in l:\n",
    "    sum += i\n",
    "print(\"The sum of all elements is:\", sum)    "
   ]
  },
  {
   "cell_type": "code",
   "execution_count": null,
   "id": "42a92e63-520d-4fe9-a4e8-f6422150bb65",
   "metadata": {},
   "outputs": [],
   "source": [
    "#16. Find the maximum value in a list."
   ]
  },
  {
   "cell_type": "code",
   "execution_count": 38,
   "id": "ed05c99d-384a-4ccb-8e5f-725b4eb5699d",
   "metadata": {},
   "outputs": [
    {
     "name": "stdout",
     "output_type": "stream",
     "text": [
      "The largest Number is: 30\n"
     ]
    },
    {
     "data": {
      "text/plain": [
       "30"
      ]
     },
     "execution_count": 38,
     "metadata": {},
     "output_type": "execute_result"
    }
   ],
   "source": [
    "l = [20, 10, 24, 26, 30]\n",
    "largest_Number = 0\n",
    "for i in l:\n",
    "    if i > largest_Number:\n",
    "        largest_Number = i\n",
    "        \n",
    "print(\"The largest Number is:\", largest_Number) \n",
    "max(l)"
   ]
  },
  {
   "cell_type": "code",
   "execution_count": null,
   "id": "aa8e05cf-74f5-45dc-9c88-aceb099350ed",
   "metadata": {},
   "outputs": [],
   "source": [
    "#17. Find the minimum value in a list."
   ]
  },
  {
   "cell_type": "code",
   "execution_count": 39,
   "id": "9744916c-89e4-4b30-b110-68e7c406da38",
   "metadata": {},
   "outputs": [
    {
     "name": "stdout",
     "output_type": "stream",
     "text": [
      "The min value is: -2\n"
     ]
    }
   ],
   "source": [
    "l = [-1, -2, 0, 4,3]\n",
    "min_l = min(l)\n",
    "print(\"The min value is:\", min_l)"
   ]
  },
  {
   "cell_type": "code",
   "execution_count": null,
   "id": "36ddb580-6d70-4912-a44c-9edc25dbb383",
   "metadata": {},
   "outputs": [],
   "source": [
    "#18. Create a list of squares of numbers from 1 to 10."
   ]
  },
  {
   "cell_type": "code",
   "execution_count": 40,
   "id": "67bf6c46-1d82-4948-93eb-ff372be1a0eb",
   "metadata": {},
   "outputs": [
    {
     "name": "stdout",
     "output_type": "stream",
     "text": [
      "The squared value is [1, 4, 9, 16, 25, 36, 49, 64, 81, 100]\n"
     ]
    }
   ],
   "source": [
    "l =[]\n",
    "for i in range(1,11):\n",
    "    l.append(i**2)\n",
    "print(\"The squared value is\",l)    "
   ]
  },
  {
   "cell_type": "code",
   "execution_count": 48,
   "id": "b9df841e-f329-4de0-9f91-faaaaead59e2",
   "metadata": {},
   "outputs": [],
   "source": [
    "#19. Create a list of random numbers."
   ]
  },
  {
   "cell_type": "code",
   "execution_count": 49,
   "id": "a8a499bb-3e87-4c04-9a47-bbc769e8bef1",
   "metadata": {},
   "outputs": [
    {
     "name": "stdin",
     "output_type": "stream",
     "text": [
      "Enter count of numbers to be printed 10\n"
     ]
    },
    {
     "name": "stdout",
     "output_type": "stream",
     "text": [
      "The random list is [63, 93, 58, 58, 70, 32, 45, 18, 80, 80]\n"
     ]
    }
   ],
   "source": [
    "import random\n",
    "\n",
    "l =[]\n",
    "C = int(input(\"Enter count of numbers to be printed\"))\n",
    "for i in range(0, C):\n",
    "    n = random.randint(10, 100)\n",
    "    l.append(n)\n",
    "print(\"The random list is\", l)    "
   ]
  },
  {
   "cell_type": "code",
   "execution_count": null,
   "id": "b756d663-339e-495e-8b01-19219fa08f84",
   "metadata": {},
   "outputs": [],
   "source": [
    "#20. Remove duplicates from a list."
   ]
  },
  {
   "cell_type": "code",
   "execution_count": 52,
   "id": "c25002dd-1fc3-4e33-b877-ca00635b9573",
   "metadata": {},
   "outputs": [
    {
     "name": "stdout",
     "output_type": "stream",
     "text": [
      "Unique list is : [1, 2, 3, 4]\n"
     ]
    }
   ],
   "source": [
    "l = [1,3,4,1,2,3,1,4,4]\n",
    "l = set(l)\n",
    "l = list(l)\n",
    "print(\"Unique list is :\", l)"
   ]
  },
  {
   "cell_type": "code",
   "execution_count": null,
   "id": "588e3caf-57c8-4db2-9efb-a2af4430824f",
   "metadata": {},
   "outputs": [],
   "source": [
    " #21. Find the common elements between two lists."
   ]
  },
  {
   "cell_type": "code",
   "execution_count": null,
   "id": "fc3a1f45-57c5-4618-9b94-b660c02e2680",
   "metadata": {},
   "outputs": [],
   "source": [
    "l1 = [1,2,3,4,5]\n",
    "L1 = [2,,10,4,3,10]"
   ]
  },
  {
   "cell_type": "code",
   "execution_count": null,
   "id": "aaa7e39e-ed31-470d-9fcb-30b2bcd616a6",
   "metadata": {},
   "outputs": [],
   "source": [
    "#22. Find the difference between two lists."
   ]
  },
  {
   "cell_type": "code",
   "execution_count": 17,
   "id": "7197b1a8-7704-42f4-9f89-a05a95228682",
   "metadata": {},
   "outputs": [
    {
     "name": "stdout",
     "output_type": "stream",
     "text": [
      "Elements in list1 but not in list2: [1, 2, 3]\n"
     ]
    }
   ],
   "source": [
    "list1 = [1, 2, 3, 4, 5]\n",
    "list2 = [4, 5, 6, 7]\n",
    "\n",
    "difference = list(set(list1) - set(list2))\n",
    "print(\"Elements in list1 but not in list2:\", difference)\n"
   ]
  },
  {
   "cell_type": "code",
   "execution_count": null,
   "id": "77810867-1809-4a2a-8f99-a860f31e3a6a",
   "metadata": {},
   "outputs": [],
   "source": [
    "#23. Merge two lists."
   ]
  },
  {
   "cell_type": "code",
   "execution_count": 21,
   "id": "cb34f2a3-f56b-4cd1-b68a-56a2df807cd4",
   "metadata": {},
   "outputs": [
    {
     "name": "stdout",
     "output_type": "stream",
     "text": [
      "Merged list is: [1, 2, 3, 4, 4, 5, 6, 7]\n"
     ]
    }
   ],
   "source": [
    "list1 = [1, 2, 3, 4]\n",
    "list2 = [4, 5, 6, 7]\n",
    "print(\"Merged list is:\", list1+list2)"
   ]
  },
  {
   "cell_type": "code",
   "execution_count": null,
   "id": "6fa64054-ec5e-4508-8e7b-55407112f513",
   "metadata": {},
   "outputs": [],
   "source": [
    "#24. Multiply all elements in a list by 2."
   ]
  },
  {
   "cell_type": "code",
   "execution_count": 22,
   "id": "7781d69b-f736-4de6-a50c-26e79d24e0d8",
   "metadata": {},
   "outputs": [
    {
     "name": "stdout",
     "output_type": "stream",
     "text": [
      "List after multiplying by 2: [2, 4, 6, 8, 10]\n"
     ]
    }
   ],
   "source": [
    "my_list = [1, 2, 3, 4, 5]\n",
    "\n",
    "for i in range(len(my_list)):\n",
    "    my_list[i] *= 2\n",
    "\n",
    "print(\"List after multiplying by 2:\", my_list)\n"
   ]
  },
  {
   "cell_type": "code",
   "execution_count": null,
   "id": "28ce9caa-ab43-4086-8d45-392f3995bce6",
   "metadata": {},
   "outputs": [],
   "source": [
    "#25. Filter out all even numbers from a list."
   ]
  },
  {
   "cell_type": "code",
   "execution_count": 58,
   "id": "cd2afed8-cfa5-48c3-8a49-5652d8d63850",
   "metadata": {},
   "outputs": [
    {
     "name": "stdout",
     "output_type": "stream",
     "text": [
      "The even list is: [2, 4, 6]\n"
     ]
    }
   ],
   "source": [
    "l = [1,2,3,4,5,6,7]\n",
    "even_list = []\n",
    "for i in l:\n",
    "    if i%2 == 0:\n",
    "        even_list.append(i)\n",
    "print(\"The even list is:\", even_list)        \n",
    "        "
   ]
  },
  {
   "cell_type": "code",
   "execution_count": null,
   "id": "6ab3e503-382e-4d3c-94e2-e7a8f0905460",
   "metadata": {},
   "outputs": [],
   "source": [
    "#26. Convert a list of strings to a list of integers. "
   ]
  },
  {
   "cell_type": "code",
   "execution_count": 64,
   "id": "64837b71-0c90-4b78-b0e2-e8831372758f",
   "metadata": {},
   "outputs": [
    {
     "name": "stdin",
     "output_type": "stream",
     "text": [
      "Enter the numbers: 12345\n"
     ]
    },
    {
     "name": "stdout",
     "output_type": "stream",
     "text": [
      "The integers list is: [1, 2, 3, 4, 5]\n"
     ]
    }
   ],
   "source": [
    "l = list(input(\"Enter the numbers:\"))\n",
    "New_list =[]\n",
    "for i in l:\n",
    "    New_list.append(int(i))\n",
    "    \n",
    "print(\"The integers list is:\",New_list)    "
   ]
  },
  {
   "cell_type": "code",
   "execution_count": null,
   "id": "33c0cb48-5527-43e6-a0fa-6317ada76660",
   "metadata": {},
   "outputs": [],
   "source": [
    "#27. Convert a list of integers to a list of strings. "
   ]
  },
  {
   "cell_type": "code",
   "execution_count": 69,
   "id": "d1160ba4-cba2-4ed7-88b5-be45d21bc7a2",
   "metadata": {},
   "outputs": [
    {
     "name": "stdout",
     "output_type": "stream",
     "text": [
      "String list is: ['1', '2', '3', '4', '5']\n"
     ]
    }
   ],
   "source": [
    "l = [1, 2, 3, 4, 5]\n",
    "new_list = []\n",
    "for i in l:\n",
    "    new_list.append(str(i))\n",
    "print(\"String list is:\", new_list)    \n",
    "    "
   ]
  },
  {
   "cell_type": "code",
   "execution_count": null,
   "id": "0549f5de-3ed8-4718-aae4-f94af54c401c",
   "metadata": {},
   "outputs": [],
   "source": [
    "#28. Flatten a nested list. "
   ]
  },
  {
   "cell_type": "code",
   "execution_count": 89,
   "id": "4ea6710c-ccbf-4a89-86e2-6340bdfae4b5",
   "metadata": {},
   "outputs": [
    {
     "name": "stdout",
     "output_type": "stream",
     "text": [
      "The flatten list is: [1, 2, 3, 4, 5, 6, 7, 8]\n"
     ]
    }
   ],
   "source": [
    "l = [1,2,3,4, [5,6,7,8]]\n",
    "nl = []\n",
    "# Iterate the list\n",
    "for i in l :\n",
    "    if type(i) == int:\n",
    "        nl.append(i) # appen the list\n",
    "    else:    # Iterate the nested list\n",
    "        for j in i:\n",
    "            nl.append(j)  # append the neste list elements      \n",
    "print(\"The flatten list is:\", nl)"
   ]
  },
  {
   "cell_type": "code",
   "execution_count": null,
   "id": "2030f382-7aaa-47e0-bc89-bf46b5cdc402",
   "metadata": {},
   "outputs": [],
   "source": [
    "#29. Create a list of the first 10 Fibonacci numbers. "
   ]
  },
  {
   "cell_type": "code",
   "execution_count": 23,
   "id": "79a36277-b61d-4ec7-8023-bd6c2fe2cded",
   "metadata": {},
   "outputs": [
    {
     "name": "stdout",
     "output_type": "stream",
     "text": [
      "First 10 Fibonacci numbers: [0, 1, 1, 2, 3, 5, 8, 13, 21, 34]\n"
     ]
    }
   ],
   "source": [
    "# Initialize the first two Fibonacci numbers\n",
    "fib_list = [0, 1]\n",
    "\n",
    "# Generate the next Fibonacci numbers until the list has 10 elements\n",
    "for i in range(2, 10):\n",
    "    next_fib = fib_list[-1] + fib_list[-2]\n",
    "    fib_list.append(next_fib)\n",
    "\n",
    "print(\"First 10 Fibonacci numbers:\", fib_list)\n"
   ]
  },
  {
   "cell_type": "code",
   "execution_count": null,
   "id": "a9d3da5b-d3f8-484c-b434-a3c26bae0b08",
   "metadata": {},
   "outputs": [],
   "source": [
    "#30. Check if a list is sorted. "
   ]
  },
  {
   "cell_type": "code",
   "execution_count": 9,
   "id": "501efd37-566c-49f8-a118-e09d0250eb07",
   "metadata": {},
   "outputs": [
    {
     "name": "stdout",
     "output_type": "stream",
     "text": [
      "The list is sorted in ascending order.\n"
     ]
    }
   ],
   "source": [
    "# Function to check if a list is sorted in ascending order\n",
    "def is_sorted_ascending(lst):\n",
    "    for i in range(1, len(lst)):\n",
    "        if lst[i] < lst[i - 1]:\n",
    "            return False\n",
    "    return True\n",
    "\n",
    "asc_list = [1,2,3,4,]\n",
    "\n",
    "# Check if the list is sorted in ascending order\n",
    "if is_sorted_ascending(asc_list):\n",
    "    print(\"The list is sorted in ascending order.\")\n",
    "else:\n",
    "    print(\"The list is not sorted in ascending order.\")"
   ]
  },
  {
   "cell_type": "code",
   "execution_count": null,
   "id": "63b00dc1-08ae-4c3b-afd8-25c54b96bb56",
   "metadata": {},
   "outputs": [],
   "source": [
    "#31. Rotate a list to the left by `n` positions."
   ]
  },
  {
   "cell_type": "code",
   "execution_count": null,
   "id": "9a9c2f1f-fe74-455f-b167-0a9f83d77ab0",
   "metadata": {},
   "outputs": [],
   "source": [
    "# Function to rotate a list to the left by n positions\n",
    "def rotate_left(lst, n):\n",
    "    n = n % len(lst)  # Normalize n to handle cases where n is larger than the list length\n",
    "    # print(n)\n",
    "    rotated = lst[n:] + lst[:n]\n",
    "    return rotated\n",
    "\n",
    "my_list = [1, 2, 3, 4, 5, 6]\n",
    "\n",
    "# Number of positions to rotate by\n",
    "n = 2\n",
    "\n",
    "# Rotate the list to the left by n positions\n",
    "rotated_list = rotate_left(my_list, n)\n",
    "\n",
    "# Print the rotated list\n",
    "print(\"Rotated list:\", rotated_list)"
   ]
  },
  {
   "cell_type": "code",
   "execution_count": null,
   "id": "ff4d3c6e-1853-4397-bb00-cde57939082a",
   "metadata": {},
   "outputs": [],
   "source": [
    "#32. Rotate a list to the right by `n` positions. "
   ]
  },
  {
   "cell_type": "code",
   "execution_count": 12,
   "id": "36ba79e4-f23c-4712-a6ee-816a3177ffef",
   "metadata": {},
   "outputs": [
    {
     "name": "stdout",
     "output_type": "stream",
     "text": [
      "Rotated list: [5, 6, 1, 2, 3, 4]\n"
     ]
    }
   ],
   "source": [
    "# Function to rotate a list to the left by n positions\n",
    "def rotate_left(lst, n):\n",
    "    n = n % len(lst)  # Normalize n to handle cases where n is larger than the list length\n",
    "    # print(n)\n",
    "    rotated = lst[-n:] + lst[:-n]\n",
    "    return rotated\n",
    "\n",
    "my_list = [1, 2, 3, 4, 5, 6]\n",
    "\n",
    "# Number of positions to rotate by\n",
    "n = 2\n",
    "\n",
    "# Rotate the list to the left by n positions\n",
    "rotated_list = rotate_left(my_list, n)\n",
    "\n",
    "# Print the rotated list\n",
    "print(\"Rotated list:\", rotated_list)"
   ]
  },
  {
   "cell_type": "code",
   "execution_count": null,
   "id": "75312464-43ff-450d-a95c-4d7b2a4e9061",
   "metadata": {},
   "outputs": [],
   "source": [
    "#33. Create a list of prime numbers up to 50. "
   ]
  },
  {
   "cell_type": "code",
   "execution_count": 13,
   "id": "7b4c48ff-47f6-4486-b746-67aeecc6196d",
   "metadata": {},
   "outputs": [
    {
     "name": "stdout",
     "output_type": "stream",
     "text": [
      "5 25\n",
      "5 29\n",
      "List of prime numbers up to 50: [2, 3, 5, 7, 11, 13, 17, 19, 23, 29]\n"
     ]
    }
   ],
   "source": [
    "# Function to check if a number is prime\n",
    "def is_prime(num):\n",
    "    if num <= 1:\n",
    "        return False\n",
    "    if num <= 3:\n",
    "        return True\n",
    "    if num % 2 == 0 or num % 3 == 0:\n",
    "        return False\n",
    "    i = 5\n",
    "    while i * i <= num:\n",
    "      print(i,num)\n",
    "      if num % i == 0 or num % (i + 2) == 0:\n",
    "          return False\n",
    "      i += 6\n",
    "    return True\n",
    "\n",
    "# Create a list of prime numbers up to 50\n",
    "prime_numbers = [num for num in range(2,30) if is_prime(num)]\n",
    "\n",
    "# Print the list of prime numbers\n",
    "print(\"List of prime numbers up to 50:\", prime_numbers)"
   ]
  },
  {
   "cell_type": "code",
   "execution_count": null,
   "id": "e7e7d696-6f8a-43bc-b99d-11823d01ee12",
   "metadata": {},
   "outputs": [],
   "source": [
    "#34. Split a list into chunks of size `n`."
   ]
  },
  {
   "cell_type": "code",
   "execution_count": null,
   "id": "f27c9498-2484-41ed-9b05-8958a3e60315",
   "metadata": {},
   "outputs": [],
   "source": [
    "# Create a list of prime numbers up to 50 using Sieve of Eratosthenes algorithm\n",
    "def sieve_of_eratosthenes(limit):\n",
    "    primes = []\n",
    "    is_prime = [True] * (limit + 1)\n",
    "    is_prime[0] = is_prime[1] = False\n",
    "\n",
    "    for num in range(2, int(limit ** 0.5) + 1):\n",
    "        if is_prime[num]:\n",
    "            primes.append(num)\n",
    "            for multiple in range(num * num, limit + 1, num):\n",
    "                is_prime[multiple] = False\n",
    "\n",
    "    for num in range(int(limit ** 0.5) + 1, limit + 1):\n",
    "        if is_prime[num]:\n",
    "            primes.append(num)\n",
    "\n",
    "    return primes\n",
    "\n",
    "# Create a list of prime numbers up to 50\n",
    "prime_numbers = sieve_of_eratosthenes(50)\n",
    "\n",
    "# Print the list of prime numbers\n",
    "print(\"List of prime numbers up to 50:\", prime_numbers)"
   ]
  },
  {
   "cell_type": "code",
   "execution_count": null,
   "id": "df2e911d-37e9-46ff-b36a-09965e88be47",
   "metadata": {},
   "outputs": [],
   "source": [
    " #35. Find the second largest number in a list. "
   ]
  },
  {
   "cell_type": "code",
   "execution_count": null,
   "id": "50ba813f-e79e-4f18-9633-a9a8f3f4650d",
   "metadata": {},
   "outputs": [],
   "source": [
    "my_list = [10, 5, 20, 15, 30, 25]\n",
    "\n",
    "# Remove duplicates and sort the list in ascending order\n",
    "sorted_list = sorted(set(my_list))\n",
    "\n",
    "# Find the second largest number\n",
    "if len(sorted_list) >= 2:\n",
    "    second_largest = sorted_list[-2]\n",
    "    print(\"Second largest number:\", second_largest)\n",
    "else:\n",
    "    print(\"The list does not contain enough elements.\")"
   ]
  },
  {
   "cell_type": "code",
   "execution_count": null,
   "id": "d438e69f-fb25-4869-8dca-440f8b58bf94",
   "metadata": {},
   "outputs": [],
   "source": [
    "#36. Replace every element in a list with its square. "
   ]
  },
  {
   "cell_type": "code",
   "execution_count": 14,
   "id": "2279025f-23d6-4b5e-b3bb-861a96ecf18f",
   "metadata": {},
   "outputs": [
    {
     "name": "stdout",
     "output_type": "stream",
     "text": [
      "Squared list: [1, 4, 9, 16, 25]\n"
     ]
    }
   ],
   "source": [
    "my_list = [1,2,3,4,5]\n",
    "\n",
    "# Replace every element with its square using a list comprehension\n",
    "squared_lst = [x ** 2 for x in my_list]\n",
    "\n",
    "print(\"Squared list:\", squared_lst)"
   ]
  },
  {
   "cell_type": "code",
   "execution_count": null,
   "id": "bcc6cfc1-d494-4ca6-a032-1192b522bf05",
   "metadata": {},
   "outputs": [],
   "source": [
    "#37. Convert a list to a dictionary where list elements become keys and their indices become values."
   ]
  },
  {
   "cell_type": "code",
   "execution_count": 15,
   "id": "704146a2-7f4a-4167-a1e9-5d3d35471bfb",
   "metadata": {},
   "outputs": [
    {
     "name": "stdout",
     "output_type": "stream",
     "text": [
      "Converted dictionary: {'apple': 0, 'banana': 1, 'cherry': 2, 'date': 3, 'elderberry': 4}\n"
     ]
    }
   ],
   "source": [
    "my_list = ['apple', 'banana', 'cherry', 'date', 'elderberry']\n",
    "\n",
    "# Convert list to dictionary using dictionary comprehension\n",
    "my_dict = {element: index for index, element in enumerate(my_list)}\n",
    "\n",
    "# Print the resulting dictionary\n",
    "print(\"Converted dictionary:\", my_dict)"
   ]
  },
  {
   "cell_type": "code",
   "execution_count": null,
   "id": "13c519a5-1105-42c6-bf6d-f944d50e227e",
   "metadata": {},
   "outputs": [],
   "source": [
    "#38. Shuffle the elements of a list randomly. "
   ]
  },
  {
   "cell_type": "code",
   "execution_count": 16,
   "id": "208b50d7-98ec-4369-969a-65a72ef9771c",
   "metadata": {},
   "outputs": [
    {
     "name": "stdout",
     "output_type": "stream",
     "text": [
      "Shuffled list: [5, 7, 6, 10, 8, 1, 2, 4, 3, 9]\n"
     ]
    }
   ],
   "source": [
    "import random\n",
    "\n",
    "\n",
    "my_list = [1, 2, 3, 4, 5, 6, 7, 8, 9, 10]\n",
    "\n",
    "# Shuffle the list randomly\n",
    "random.shuffle(my_list)\n",
    "\n",
    "print(\"Shuffled list:\", my_list)"
   ]
  },
  {
   "cell_type": "code",
   "execution_count": null,
   "id": "aa136bf7-4d61-472e-b67b-e37564f6e091",
   "metadata": {},
   "outputs": [],
   "source": [
    "#39. Create a list of the first 10 factorial numbers."
   ]
  },
  {
   "cell_type": "code",
   "execution_count": 17,
   "id": "2b21999e-2488-4df0-b5e5-9a53da709d55",
   "metadata": {},
   "outputs": [
    {
     "name": "stdout",
     "output_type": "stream",
     "text": [
      "List of the first 10 factorial numbers: [1, 1, 2, 6, 24, 120, 720, 5040, 40320, 362880]\n"
     ]
    }
   ],
   "source": [
    "# Function to calculate factorial\n",
    "def factorial(n):\n",
    "    if n == 0 or n == 1:\n",
    "        return 1\n",
    "    else:\n",
    "        return n * factorial(n - 1)\n",
    "\n",
    "# Create a list of the first 10 factorial numbers\n",
    "factorial_numbers = [factorial(i) for i in range(10)]\n",
    "\n",
    "# Print the list of factorial numbers\n",
    "print(\"List of the first 10 factorial numbers:\", factorial_numbers)"
   ]
  },
  {
   "cell_type": "code",
   "execution_count": null,
   "id": "5af01654-281d-4687-ab18-cbc713616084",
   "metadata": {},
   "outputs": [],
   "source": [
    " #40. Check if two lists have at least one element in common."
   ]
  },
  {
   "cell_type": "code",
   "execution_count": 18,
   "id": "d80bdfdd-47c3-4d46-9a82-400566cfbe91",
   "metadata": {},
   "outputs": [
    {
     "name": "stdout",
     "output_type": "stream",
     "text": [
      "The lists have at least one common element.\n"
     ]
    }
   ],
   "source": [
    "# Function to check if two lists have at least one element in common\n",
    "def has_common_element(list1, list2):\n",
    "    for item in list1:\n",
    "        if item in list2:\n",
    "            return True\n",
    "    return False\n",
    "\n",
    "# Example lists\n",
    "list1 = [1, 2, 3, 4, 5]\n",
    "list2 = [4, 5, 6, 7, 8]\n",
    "\n",
    "# Check if the two lists have at least one element in common\n",
    "if has_common_element(list1, list2):\n",
    "    print(\"The lists have at least one common element.\")\n",
    "else:\n",
    "    print(\"The lists do not have any common elements.\")"
   ]
  },
  {
   "cell_type": "code",
   "execution_count": null,
   "id": "923473b8-7272-40cb-a51a-f36ab3c3badf",
   "metadata": {},
   "outputs": [],
   "source": [
    "# 41. Remove all elements from a list."
   ]
  },
  {
   "cell_type": "code",
   "execution_count": 19,
   "id": "0871d385-07a4-4241-8e82-66d8f06836f6",
   "metadata": {},
   "outputs": [
    {
     "name": "stdout",
     "output_type": "stream",
     "text": [
      "Empty list: []\n"
     ]
    }
   ],
   "source": [
    "my_list = [1, 2, 3, 4, 5]\n",
    "\n",
    "# Clear all elements from the list\n",
    "my_list.clear()\n",
    "\n",
    "# Print the empty list\n",
    "print(\"Empty list:\", my_list)"
   ]
  },
  {
   "cell_type": "code",
   "execution_count": null,
   "id": "00015318-aed3-46a2-ba58-8628be04913d",
   "metadata": {},
   "outputs": [],
   "source": [
    " #42. Replace negative numbers in a list with 0."
   ]
  },
  {
   "cell_type": "code",
   "execution_count": 23,
   "id": "efb3b7aa-6cbd-4149-89dc-753ae970372a",
   "metadata": {},
   "outputs": [
    {
     "name": "stdout",
     "output_type": "stream",
     "text": [
      "Updated list [1, 2, 3, 0, 0, 3, 5]\n"
     ]
    }
   ],
   "source": [
    "my_list = [1,2,3,-2,-3,3,5]\n",
    "\n",
    "for i in range(len(my_list)):\n",
    "    if my_list[i] < 0:\n",
    "        my_list[i] = 0\n",
    "print(\"Updated list\", my_list)        \n",
    "        "
   ]
  },
  {
   "cell_type": "code",
   "execution_count": null,
   "id": "47690690-1123-4fd5-b7f2-f389e6f2efe5",
   "metadata": {},
   "outputs": [],
   "source": [
    "# 43. Convert a string into a list of words."
   ]
  },
  {
   "cell_type": "code",
   "execution_count": 28,
   "id": "f4334bb1-9dea-48c7-b3db-f3983ce37966",
   "metadata": {},
   "outputs": [
    {
     "name": "stdout",
     "output_type": "stream",
     "text": [
      "Converted string is  ['This', 'is', 'my', 'new', 'code']\n"
     ]
    }
   ],
   "source": [
    "str1 = \"This is my new code\"\n",
    "str2 = str1.split()\n",
    "print(\"Converted string is \",str2)"
   ]
  },
  {
   "cell_type": "code",
   "execution_count": null,
   "id": "ed4bede5-c20f-4590-b2ff-43a88c9f2947",
   "metadata": {},
   "outputs": [],
   "source": [
    "# 44. Convert a list of words into a string."
   ]
  },
  {
   "cell_type": "code",
   "execution_count": 33,
   "id": "b42081fe-1a53-449b-837f-e8e88d1d34a8",
   "metadata": {},
   "outputs": [
    {
     "name": "stdout",
     "output_type": "stream",
     "text": [
      "Converted into string This is my new code\n"
     ]
    }
   ],
   "source": [
    "my_list = ['This', 'is', 'my', 'new', 'code']\n",
    "\n",
    "str1 = \" \".join(my_list)\n",
    "print(\"Converted into string\", str1)"
   ]
  },
  {
   "cell_type": "code",
   "execution_count": null,
   "id": "f1f178c4-c5e3-4bac-b89f-6589ad85d750",
   "metadata": {},
   "outputs": [],
   "source": [
    " #45. Create a list of the first `n` powers of 2."
   ]
  },
  {
   "cell_type": "code",
   "execution_count": 35,
   "id": "80e003ba-238a-4d20-ab9d-5f488647ba7f",
   "metadata": {},
   "outputs": [
    {
     "name": "stdin",
     "output_type": "stream",
     "text": [
      "Enter count of number to generate 5\n"
     ]
    },
    {
     "name": "stdout",
     "output_type": "stream",
     "text": [
      "[0, 1, 4, 9, 16]\n"
     ]
    }
   ],
   "source": [
    "n = int(input(\"Enter count of number to generate\"))\n",
    "lst = []\n",
    "for i in range(n):\n",
    "    lst.append(i**2)\n",
    "print(lst)   "
   ]
  },
  {
   "cell_type": "code",
   "execution_count": null,
   "id": "1e45259f-780b-471c-a912-5a35316a31e6",
   "metadata": {},
   "outputs": [],
   "source": [
    "# 46. Find the longest string in a list of strings."
   ]
  },
  {
   "cell_type": "code",
   "execution_count": 63,
   "id": "1406ea5b-2ad1-4b1b-b405-8f81693305a8",
   "metadata": {},
   "outputs": [
    {
     "name": "stdout",
     "output_type": "stream",
     "text": [
      "Longest word is: glouries\n"
     ]
    }
   ],
   "source": [
    "str1 = ['This', 'is', 'my', 'glouries', 'new', 'code']\n",
    "\n",
    "longest = \" \"\n",
    "for s in str1:\n",
    "    if len(s) > len(longest):\n",
    "        longest = s\n",
    "        \n",
    "print(\"Longest word is:\" ,longest)"
   ]
  },
  {
   "cell_type": "code",
   "execution_count": null,
   "id": "eee8ca05-7d97-4774-bd0a-956e1c8e40a5",
   "metadata": {},
   "outputs": [],
   "source": [
    "# 47. Find the shortest string in a list of strings."
   ]
  },
  {
   "cell_type": "code",
   "execution_count": 66,
   "id": "70351340-d103-462d-aaf1-e9aa7daacdd3",
   "metadata": {},
   "outputs": [
    {
     "name": "stdout",
     "output_type": "stream",
     "text": [
      "Longest word is: a\n"
     ]
    }
   ],
   "source": [
    "str1 = ['This', 'is', 'my', 'glouries', 'a', 'new', 'code']\n",
    "\n",
    "longest = str1[0]\n",
    "for s in str1:\n",
    "    if len(s) < len(longest):\n",
    "        longest = s\n",
    "        \n",
    "print(\"Longest word is:\" ,longest)"
   ]
  },
  {
   "cell_type": "code",
   "execution_count": null,
   "id": "355f0a2b-1921-4211-b91c-91fe5f26df42",
   "metadata": {},
   "outputs": [],
   "source": [
    "# 48. Create a list of the first `n` triangular numbers."
   ]
  },
  {
   "cell_type": "code",
   "execution_count": 75,
   "id": "c8d0c1d2-5ef9-4315-8399-7000759df2ae",
   "metadata": {},
   "outputs": [
    {
     "name": "stdout",
     "output_type": "stream",
     "text": [
      "List of the first 5 triangular numbers: [1, 3, 6, 10, 15]\n"
     ]
    }
   ],
   "source": [
    "\n",
    "def triangular_numbers(n):\n",
    "    return [i * (i + 1) // 2 for i in range(1, n + 1)]\n",
    "\n",
    "n = 5\n",
    "\n",
    "# Create a list of the first n triangular numbers\n",
    "triangular_list = triangular_numbers(n)\n",
    "\n",
    "# Print the list of triangular numbers\n",
    "print(\"List of the first\", n, \"triangular numbers:\", triangular_list)"
   ]
  },
  {
   "cell_type": "code",
   "execution_count": null,
   "id": "79f5a685-e22c-4245-93f9-77c005267862",
   "metadata": {},
   "outputs": [],
   "source": [
    " #49. Check if a list contains another list as a subsequence."
   ]
  },
  {
   "cell_type": "code",
   "execution_count": null,
   "id": "93f24d78-ae3f-43ac-9e3c-9e7b536e89df",
   "metadata": {},
   "outputs": [],
   "source": [
    "# Function to check if a list contains another list as a subsequence\n",
    "def is_subsequence(subsequence, main_list):\n",
    "    subseq_index = 0  # Index for the subsequence elements\n",
    "    for element in main_list:\n",
    "        if element == subsequence[subseq_index]:\n",
    "            subseq_index += 1\n",
    "            if subseq_index == len(subsequence):\n",
    "                return True\n",
    "    return False\n",
    "\n",
    "# Example main list and subsequence\n",
    "main_list = [1, 2, 3, 4, 5, 6, 7, 8, 9, 10]\n",
    "subsequence = [3, 5, 8]\n",
    "\n",
    "# Check if the main list contains the subsequence\n",
    "if is_subsequence(subsequence, main_list):\n",
    "    print(\"Main list contains the subsequence.\")\n",
    "else:\n",
    "    print(\"Main list does not contain the subsequence.\")"
   ]
  },
  {
   "cell_type": "code",
   "execution_count": null,
   "id": "ac6b6deb-30ac-4de2-a1ab-1f3da4a050d7",
   "metadata": {},
   "outputs": [],
   "source": [
    "# 50. Swap two elements in a list by their indices"
   ]
  },
  {
   "cell_type": "code",
   "execution_count": null,
   "id": "f210e75f-311f-42ca-9505-9023f6fd1c01",
   "metadata": {},
   "outputs": [],
   "source": [
    "my_list = [1, 2, 3, 4, 5]\n",
    "\n",
    "# Indices of elements to swap\n",
    "index1 = 1\n",
    "index2 = 3\n",
    "\n",
    "# Swap the elements at the specified indices\n",
    "temp = my_list[index1]\n",
    "my_list[index1] = my_list[index2]\n",
    "my_list[index2] = temp\n",
    "\n",
    "# Print the list after swapping\n",
    "print(\"List after swapping elements:\", my_list)"
   ]
  },
  {
   "cell_type": "code",
   "execution_count": null,
   "id": "38a499b5-f18a-4ba3-b50c-0a42d1fb4605",
   "metadata": {},
   "outputs": [],
   "source": [
    "# Tuple Based Practice Problem :"
   ]
  },
  {
   "cell_type": "code",
   "execution_count": null,
   "id": "d4c79be1-f8e9-4b73-8f2f-ae6ee034a311",
   "metadata": {},
   "outputs": [],
   "source": [
    "# 1. Create a tuple with integers from 1 to 5."
   ]
  },
  {
   "cell_type": "code",
   "execution_count": 77,
   "id": "758e46c1-c331-4416-8511-3c38c2419ac0",
   "metadata": {},
   "outputs": [
    {
     "name": "stdout",
     "output_type": "stream",
     "text": [
      "My tuple 1 to 5 is : (1, 2, 3, 4, 5)\n"
     ]
    }
   ],
   "source": [
    "tup = (1,2,3,4,5)\n",
    "print(\"My tuple 1 to 5 is :\", tup)"
   ]
  },
  {
   "cell_type": "code",
   "execution_count": null,
   "id": "9f8b0641-489e-48ba-8922-e12c5080d8c1",
   "metadata": {},
   "outputs": [],
   "source": [
    "# 2. Access the third element of a tuple."
   ]
  },
  {
   "cell_type": "code",
   "execution_count": 80,
   "id": "6b93afc1-5e04-4919-8cf9-edd57e8b374e",
   "metadata": {},
   "outputs": [
    {
     "name": "stdout",
     "output_type": "stream",
     "text": [
      "3rd element is 3\n"
     ]
    }
   ],
   "source": [
    "tup = (1,2,3,4,5)\n",
    "print(\"3rd element is\",tup[2])"
   ]
  },
  {
   "cell_type": "code",
   "execution_count": null,
   "id": "e1008082-79be-4c89-a5be-813e8692a3f5",
   "metadata": {},
   "outputs": [],
   "source": [
    "# 3. Find the length of a tuple without using the `len()` function."
   ]
  },
  {
   "cell_type": "code",
   "execution_count": 85,
   "id": "0259525d-f855-4409-b925-39ae91bc73ad",
   "metadata": {},
   "outputs": [
    {
     "name": "stdout",
     "output_type": "stream",
     "text": [
      "The count of tuple is : 5\n"
     ]
    }
   ],
   "source": [
    "tup1 = (1,2,3,4,5)\n",
    "c = 0\n",
    "# Interating the tuple\n",
    "for i in tup1 :\n",
    "    c +=1\n",
    "print(\"The count of tuple is :\",c) "
   ]
  },
  {
   "cell_type": "code",
   "execution_count": null,
   "id": "af74bd8f-6e78-4869-a226-25571d7d13c8",
   "metadata": {},
   "outputs": [],
   "source": [
    "# 4. Count the occurrences of an element in a tuple."
   ]
  },
  {
   "cell_type": "code",
   "execution_count": 88,
   "id": "f4987fbd-8a2f-40a0-86e0-4392459140ad",
   "metadata": {},
   "outputs": [
    {
     "name": "stdout",
     "output_type": "stream",
     "text": [
      "The count of occurrrnce is : 3\n"
     ]
    }
   ],
   "source": [
    "tup1 = (1,2,3,4,5,4,2,4)\n",
    "c = 4\n",
    "count_occ = 0\n",
    "# Interating the tuple\n",
    "for i in tup1 :\n",
    "    if i == c:\n",
    "        count_occ += 1 # count the occurrence\n",
    "print(\"The count of occurrrnce is :\",count_occ) "
   ]
  },
  {
   "cell_type": "code",
   "execution_count": null,
   "id": "e78a3ffa-0f27-47e5-b66d-1e04c3359c3d",
   "metadata": {},
   "outputs": [],
   "source": [
    "# 5. Find the index of the first occurrence of an element in a tuple."
   ]
  },
  {
   "cell_type": "code",
   "execution_count": 92,
   "id": "a3819a2f-451e-42b4-92eb-9d6fc6011795",
   "metadata": {},
   "outputs": [
    {
     "name": "stdout",
     "output_type": "stream",
     "text": [
      "The first occurrence of 20 is at index 1.\n"
     ]
    }
   ],
   "source": [
    "my_tuple = (10, 20, 30, 20, 40, 50)\n",
    "\n",
    "element_to_find = 20\n",
    "\n",
    "#Initialize a variable to keep track of the index\n",
    "index = -1  # Initialize with -1 to indicate that the element was not found\n",
    "\n",
    "# Iterate through the tuple and find the index of the chosen element\n",
    "for i, item in enumerate(my_tuple):\n",
    "    if item == element_to_find:\n",
    "        index = i\n",
    "        break  # Exit the loop once the first occurrence is found\n",
    "\n",
    "#  Print the index of the first occurrence\n",
    "if index != -1:\n",
    "    print(f\"The first occurrence of {element_to_find} is at index {index}.\")\n",
    "else:\n",
    "    print(f\"{element_to_find} is not found in the tuple.\")"
   ]
  },
  {
   "cell_type": "code",
   "execution_count": null,
   "id": "ae99c9ad-4b51-4b29-86dd-124dc573f95f",
   "metadata": {},
   "outputs": [],
   "source": [
    "# 6. Check if an element exists in a tuple."
   ]
  },
  {
   "cell_type": "code",
   "execution_count": 95,
   "id": "dfc6fb8f-370b-4863-98a6-dff0efe4a63e",
   "metadata": {},
   "outputs": [
    {
     "name": "stdout",
     "output_type": "stream",
     "text": [
      " The element 4 exist in the tuple.\n"
     ]
    }
   ],
   "source": [
    "tup  = (1,2,3,4,5)\n",
    "check = 4\n",
    "if check in tup :\n",
    "    print(f' The element {check} exist in the tuple.')\n",
    "else :\n",
    "      print(f\"The element {check} doesn't exist in the tuple.\")\n",
    "    "
   ]
  },
  {
   "cell_type": "code",
   "execution_count": null,
   "id": "b9dd9594-ba61-460a-9879-39070eeec8de",
   "metadata": {},
   "outputs": [],
   "source": [
    "# 7. Convert a tuple to a list."
   ]
  },
  {
   "cell_type": "code",
   "execution_count": 98,
   "id": "9f37b520-0e48-4b97-a77b-18e3ed13ddaf",
   "metadata": {},
   "outputs": [
    {
     "name": "stdout",
     "output_type": "stream",
     "text": [
      "The converted list is: [1, 2, 4, 6, 3]\n"
     ]
    }
   ],
   "source": [
    "tup = (1,2,4,6,3)\n",
    "converted_lst = list(tup)\n",
    "print(\"The converted list is:\",converted_lst)"
   ]
  },
  {
   "cell_type": "code",
   "execution_count": null,
   "id": "e32627e4-a678-459f-a560-3a043e196b55",
   "metadata": {},
   "outputs": [],
   "source": [
    " # 8. Convert a list to a tuple."
   ]
  },
  {
   "cell_type": "code",
   "execution_count": 99,
   "id": "90488098-18c5-401e-8385-a2520e411259",
   "metadata": {},
   "outputs": [
    {
     "name": "stdout",
     "output_type": "stream",
     "text": [
      "The converted list is: (1, 2, 4, 6, 3)\n"
     ]
    }
   ],
   "source": [
    "lst = [1,2,4,6,3]\n",
    "converted_tuple = tuple(lst)\n",
    "print(\"The converted list is:\",converted_tuple)"
   ]
  },
  {
   "cell_type": "code",
   "execution_count": null,
   "id": "3805ae1f-e1fb-4adb-a679-059b7da661a0",
   "metadata": {},
   "outputs": [],
   "source": [
    "# 9. Unpack the elements of a tuple into variables"
   ]
  },
  {
   "cell_type": "code",
   "execution_count": 100,
   "id": "a51e2676-19b9-4318-9622-2c11308fd3ba",
   "metadata": {},
   "outputs": [
    {
     "name": "stdout",
     "output_type": "stream",
     "text": [
      "Variable-1: 1\n",
      "Variable-2: 2\n",
      "Variable-3: 3\n"
     ]
    }
   ],
   "source": [
    "tup = (1,2,3)\n",
    "v1,v2,v3 = tup\n",
    "print(\"Variable-1:\", v1)\n",
    "print(\"Variable-2:\", v2)\n",
    "print(\"Variable-3:\", v3)"
   ]
  },
  {
   "cell_type": "code",
   "execution_count": null,
   "id": "3b43cbc0-38ed-47f3-882d-ee2e92ae62dd",
   "metadata": {},
   "outputs": [],
   "source": [
    "#10. Create a tuple of even numbers from 1 to 10"
   ]
  },
  {
   "cell_type": "code",
   "execution_count": 108,
   "id": "2d5dfdc7-95c3-4efc-8c96-285c1f8fbf59",
   "metadata": {},
   "outputs": [
    {
     "name": "stdout",
     "output_type": "stream",
     "text": [
      "The even tuple is  (2, 4, 6, 8)\n"
     ]
    }
   ],
   "source": [
    "lst = []\n",
    "# iterate the number in range of 10\n",
    "for i in range(1, 10):\n",
    "    if i % 2 == 0:\n",
    "        lst.append(i) # append the even number\n",
    "#print the tuple        \n",
    "print(\"The even tuple is \",tuple(lst))        "
   ]
  },
  {
   "cell_type": "code",
   "execution_count": null,
   "id": "b5d31514-e88f-4466-bb8e-d23720e9e239",
   "metadata": {},
   "outputs": [],
   "source": [
    "# 11. Create a tuple of odd numbers from 1 to 10"
   ]
  },
  {
   "cell_type": "code",
   "execution_count": 110,
   "id": "033d5106-ccac-4b0d-9c42-aced65cb96f5",
   "metadata": {},
   "outputs": [
    {
     "name": "stdout",
     "output_type": "stream",
     "text": [
      "The odd tuple is  (1, 3, 5, 7, 9)\n"
     ]
    }
   ],
   "source": [
    "lst = []\n",
    "# iterate the number in range of 10\n",
    "for i in range(1, 10):\n",
    "    if i % 2 != 0:\n",
    "        lst.append(i) # append the even number\n",
    "#print the tuple        \n",
    "print(\"The odd tuple is \",tuple(lst))"
   ]
  },
  {
   "cell_type": "code",
   "execution_count": null,
   "id": "f70e5c1d-c2f4-4168-9921-1fb45d230115",
   "metadata": {},
   "outputs": [],
   "source": [
    "# 12. Concatenate two tuples"
   ]
  },
  {
   "cell_type": "code",
   "execution_count": 113,
   "id": "8f0047c4-0c68-43bc-810c-9216f665d487",
   "metadata": {},
   "outputs": [
    {
     "name": "stdout",
     "output_type": "stream",
     "text": [
      "Concatenated tuple is : (1, 2, 3, 4, 5, 6, 7, 8)\n"
     ]
    }
   ],
   "source": [
    "t1 = (1,2,3,4)\n",
    "t2 = (5,6,7,8)\n",
    "print(\"Concatenated tuple is :\", t1+t2)"
   ]
  },
  {
   "cell_type": "code",
   "execution_count": null,
   "id": "057804e2-ea4c-46ee-b3d1-6a08363958df",
   "metadata": {},
   "outputs": [],
   "source": [
    "#13. Repeat a tuple three times."
   ]
  },
  {
   "cell_type": "code",
   "execution_count": 114,
   "id": "0934e43d-f5fb-4a6a-9afd-5a751f214d10",
   "metadata": {},
   "outputs": [
    {
     "name": "stdout",
     "output_type": "stream",
     "text": [
      "Repeted tuple is : (1, 2, 3, 4, 5, 1, 2, 3, 4, 5, 1, 2, 3, 4, 5)\n"
     ]
    }
   ],
   "source": [
    "t = (1,2,3,4,5)\n",
    "print(\"Repeted tuple is :\", t*3)"
   ]
  },
  {
   "cell_type": "code",
   "execution_count": null,
   "id": "12fa7d16-11b3-4c51-8063-5e5104a54f8b",
   "metadata": {},
   "outputs": [],
   "source": [
    "#14. Check if a tuple is empty."
   ]
  },
  {
   "cell_type": "code",
   "execution_count": 115,
   "id": "b2d3d737-301a-4ea3-90d3-98bbe07f12f0",
   "metadata": {},
   "outputs": [
    {
     "name": "stdout",
     "output_type": "stream",
     "text": [
      "The empty_tuple is empty.\n",
      "The non_empty_tuple is not empty.\n"
     ]
    }
   ],
   "source": [
    "\n",
    "empty_tuple = ()\n",
    "non_empty_tuple = (7, 6, 3)\n",
    "\n",
    "if not empty_tuple:\n",
    "    print(\"The empty_tuple is empty.\")\n",
    "else:\n",
    "    print(\"The empty_tuple is not empty.\")\n",
    "\n",
    "if not non_empty_tuple:\n",
    "    print(\"The non_empty_tuple is empty.\")\n",
    "else:\n",
    "    print(\"The non_empty_tuple is not empty.\")"
   ]
  },
  {
   "cell_type": "code",
   "execution_count": null,
   "id": "eacf157b-fb63-4f9b-9ae0-e4590b48e9b7",
   "metadata": {},
   "outputs": [],
   "source": [
    "# 15. Create a nested tuple."
   ]
  },
  {
   "cell_type": "code",
   "execution_count": 117,
   "id": "2ed4d4dd-6503-4a20-893f-c8fd7e5f443f",
   "metadata": {},
   "outputs": [
    {
     "name": "stdout",
     "output_type": "stream",
     "text": [
      "Nested tuple is : (1, 2, 3, (True, False), (5+9j))\n"
     ]
    }
   ],
   "source": [
    "nested_tuple = ((1,2,3),(True, False),(5+9j))\n",
    "print(\"Nested tuple is :\", nested_tuple)"
   ]
  },
  {
   "cell_type": "code",
   "execution_count": null,
   "id": "70f1dc53-3ec7-467e-bbf9-b3fe0dd20a40",
   "metadata": {},
   "outputs": [],
   "source": [
    "# 16. Access the first element of a nested tuple"
   ]
  },
  {
   "cell_type": "code",
   "execution_count": 119,
   "id": "ef0d5396-a342-45e1-8965-aebff95644b9",
   "metadata": {},
   "outputs": [
    {
     "name": "stdout",
     "output_type": "stream",
     "text": [
      "The first element of Nested tuple is : (1, 2, 3)\n"
     ]
    }
   ],
   "source": [
    "nested_tuple = ((1,2,3),(True, False),(5+9j))\n",
    "nested_tuple = nested_tuple[0]\n",
    "print(\"The first element of Nested tuple is :\", nested_tuple)"
   ]
  },
  {
   "cell_type": "code",
   "execution_count": null,
   "id": "508032e6-7309-4daa-a69f-bc0a9d249403",
   "metadata": {},
   "outputs": [],
   "source": [
    "# 17. Create a tuple with a single element."
   ]
  },
  {
   "cell_type": "code",
   "execution_count": 122,
   "id": "dd68e6c0-8a58-40f2-b593-4c0c50c53eca",
   "metadata": {},
   "outputs": [
    {
     "name": "stdout",
     "output_type": "stream",
     "text": [
      "Single element tuple is (1,)\n"
     ]
    }
   ],
   "source": [
    "tup =(1,)\n",
    "print(\"Single element tuple is\",tup)"
   ]
  },
  {
   "cell_type": "code",
   "execution_count": null,
   "id": "b7238deb-e2c8-4818-aa15-6deef9efd14b",
   "metadata": {},
   "outputs": [],
   "source": [
    "# 18. Compare two tuples."
   ]
  },
  {
   "cell_type": "code",
   "execution_count": 123,
   "id": "b365c8b9-dd2c-41bc-a7e5-bc76bcccc355",
   "metadata": {},
   "outputs": [
    {
     "name": "stdout",
     "output_type": "stream",
     "text": [
      "tuple1 == tuple2: False\n",
      "tuple1 != tuple2: True\n",
      "tuple1 < tuple2: True\n",
      "tuple1 <= tuple2: True\n",
      "tuple1 > tuple2: False\n",
      "tuple1 >= tuple2: False\n"
     ]
    }
   ],
   "source": [
    "tuple1 = (1, 2, 3)\n",
    "tuple2 = (1, 2, 4)\n",
    "\n",
    "#Compare the two tuples using comparison operators\n",
    "print(\"tuple1 == tuple2:\", tuple1 == tuple2)  # Equality check\n",
    "print(\"tuple1 != tuple2:\", tuple1 != tuple2)  # Inequality check\n",
    "print(\"tuple1 < tuple2:\", tuple1 < tuple2)    # Less than check\n",
    "print(\"tuple1 <= tuple2:\", tuple1 <= tuple2)  # Less than or equal to check\n",
    "print(\"tuple1 > tuple2:\", tuple1 > tuple2)    # Greater than check\n",
    "print(\"tuple1 >= tuple2:\", tuple1 >= tuple2)  # Greater than or equal to check"
   ]
  },
  {
   "cell_type": "code",
   "execution_count": null,
   "id": "83e3e3bd-ac32-438d-bd34-c1ddcf5dbbe5",
   "metadata": {},
   "outputs": [],
   "source": [
    " #19. Delete a tuple."
   ]
  },
  {
   "cell_type": "code",
   "execution_count": 124,
   "id": "bc26dde8-2348-4580-98a1-71913e019312",
   "metadata": {},
   "outputs": [
    {
     "ename": "NameError",
     "evalue": "name 'my_tuple' is not defined",
     "output_type": "error",
     "traceback": [
      "\u001b[1;31m---------------------------------------------------------------------------\u001b[0m",
      "\u001b[1;31mNameError\u001b[0m                                 Traceback (most recent call last)",
      "Cell \u001b[1;32mIn[124], line 8\u001b[0m\n\u001b[0;32m      5\u001b[0m \u001b[38;5;28;01mdel\u001b[39;00m my_tuple\n\u001b[0;32m      7\u001b[0m \u001b[38;5;66;03m# Try to access the tuple (will raise a NameError)\u001b[39;00m\n\u001b[1;32m----> 8\u001b[0m \u001b[38;5;28mprint\u001b[39m(\u001b[43mmy_tuple\u001b[49m)\n",
      "\u001b[1;31mNameError\u001b[0m: name 'my_tuple' is not defined"
     ]
    }
   ],
   "source": [
    "# Create a tuple\n",
    "my_tuple = (1, 2, 3, 4, 5)\n",
    "\n",
    "# Delete the tuple using the 'del' statement\n",
    "del my_tuple\n",
    "\n",
    "# Try to access the tuple (will raise a NameError)\n",
    "print(my_tuple)"
   ]
  },
  {
   "cell_type": "code",
   "execution_count": null,
   "id": "2174d47c-ecba-48d8-bc5a-878f631888a6",
   "metadata": {},
   "outputs": [],
   "source": [
    "#20. Slice a tuple"
   ]
  },
  {
   "cell_type": "code",
   "execution_count": 125,
   "id": "2454bf99-ce60-4ae6-b6e4-f6dc6891e91a",
   "metadata": {},
   "outputs": [
    {
     "name": "stdout",
     "output_type": "stream",
     "text": [
      "Sliced tuple: (3, 4, 5, 6)\n"
     ]
    }
   ],
   "source": [
    "# Create a tuple\n",
    "my_tuple = (1, 2, 3, 4, 5, 6, 7, 8, 9, 10)\n",
    "\n",
    "# Slice the tuple to get a portion of it\n",
    "sliced_tuple = my_tuple[2:6]  # Elements from index 2 to 5 (end index is exclusive)\n",
    "\n",
    "# Print the sliced tuple\n",
    "print(\"Sliced tuple:\", sliced_tuple)"
   ]
  },
  {
   "cell_type": "code",
   "execution_count": null,
   "id": "979b6698-91da-4987-9e12-dc8dfd83ee19",
   "metadata": {},
   "outputs": [],
   "source": [
    "#21. Find the maximum value in a tuple"
   ]
  },
  {
   "cell_type": "code",
   "execution_count": 126,
   "id": "893a44b1-2fd5-480d-924f-08140c4be9d0",
   "metadata": {},
   "outputs": [
    {
     "name": "stdout",
     "output_type": "stream",
     "text": [
      "Maximum value: 45\n"
     ]
    }
   ],
   "source": [
    "# Create a tuple\n",
    "my_tuple = (10, 20, 5, 45, 30)\n",
    "\n",
    "# Find the maximum value in the tuple using the 'max()' function\n",
    "max_value = max(my_tuple)\n",
    "\n",
    "# Print the maximum value\n",
    "print(\"Maximum value:\", max_value)"
   ]
  },
  {
   "cell_type": "code",
   "execution_count": null,
   "id": "6ed7f7d4-0ae4-47bb-9cd0-1e8c78f61acb",
   "metadata": {},
   "outputs": [],
   "source": [
    "# 22. Find the minimum value in a tuple"
   ]
  },
  {
   "cell_type": "code",
   "execution_count": 127,
   "id": "237bdf33-cc84-45b6-bdfc-9592c1779d47",
   "metadata": {},
   "outputs": [
    {
     "name": "stdout",
     "output_type": "stream",
     "text": [
      "Minimum value: 5\n"
     ]
    }
   ],
   "source": [
    "# Create a tuple\n",
    "my_tuple = (10, 20, 5, 45, 30)\n",
    "\n",
    "# Find the minimum value in the tuple using the 'min()' function\n",
    "min_value = min(my_tuple)\n",
    "\n",
    "# Print the minimum value\n",
    "print(\"Minimum value:\", min_value)"
   ]
  },
  {
   "cell_type": "code",
   "execution_count": null,
   "id": "aa583a46-5fbb-4a2f-87a7-40bc12bbf84d",
   "metadata": {},
   "outputs": [],
   "source": [
    "#23. Convert a string to a tuple of characters"
   ]
  },
  {
   "cell_type": "code",
   "execution_count": 128,
   "id": "fad9826e-1409-4c0a-a3d7-6cf2772367df",
   "metadata": {},
   "outputs": [
    {
     "name": "stdout",
     "output_type": "stream",
     "text": [
      "Tuple of characters: ('H', 'e', 'l', 'l', 'o', ',', ' ', 'W', 'o', 'r', 'l', 'd', '!')\n"
     ]
    }
   ],
   "source": [
    "#  Create a string\n",
    "my_string = \"Hello, World!\"\n",
    "\n",
    "# Convert the string to a tuple of characters\n",
    "tuple_of_characters = tuple(my_string)\n",
    "\n",
    "# Print the tuple of characters\n",
    "print(\"Tuple of characters:\", tuple_of_characters)"
   ]
  },
  {
   "cell_type": "code",
   "execution_count": null,
   "id": "0ab5baf6-ef2e-4ecb-b47d-2225c55cf08b",
   "metadata": {},
   "outputs": [],
   "source": [
    "#24. Convert a tuple of characters to a string"
   ]
  },
  {
   "cell_type": "code",
   "execution_count": 129,
   "id": "0f1a481a-ae14-4d9b-841e-bed7f6f8647d",
   "metadata": {},
   "outputs": [
    {
     "name": "stdout",
     "output_type": "stream",
     "text": [
      "String from tuple: Hello World!\n"
     ]
    }
   ],
   "source": [
    "# Create a tuple of characters\n",
    "tuple_of_characters = ('H', 'e', 'l', 'l', 'o', ' ', 'W', 'o', 'r', 'l', 'd', '!')\n",
    "\n",
    "# Convert the tuple of characters to a string using the 'join()' method\n",
    "string_from_tuple = ''.join(tuple_of_characters)\n",
    "\n",
    "# Print the resulting string\n",
    "print(\"String from tuple:\", string_from_tuple)"
   ]
  },
  {
   "cell_type": "code",
   "execution_count": null,
   "id": "833cae22-2a6c-4e53-81e7-3509d24237b8",
   "metadata": {},
   "outputs": [],
   "source": [
    " #25. Create a tuple from multiple data types"
   ]
  },
  {
   "cell_type": "code",
   "execution_count": 131,
   "id": "b20c4cbe-c014-4e41-bdc6-a8b450dbb2a3",
   "metadata": {},
   "outputs": [
    {
     "name": "stdout",
     "output_type": "stream",
     "text": [
      "Misxed tuple is (1, 2, (True, False), (5+7j))\n"
     ]
    }
   ],
   "source": [
    "tup = (1,2,(True, False), (5+7j))\n",
    "print(\"Misxed tuple is\",tup)"
   ]
  },
  {
   "cell_type": "code",
   "execution_count": null,
   "id": "62344d9c-ce9d-4377-8ffa-24b37bef92ac",
   "metadata": {},
   "outputs": [],
   "source": [
    "#26. Check if two tuples are identical."
   ]
  },
  {
   "cell_type": "code",
   "execution_count": 132,
   "id": "ef7d1103-751b-47a4-ac45-08e529b79ce6",
   "metadata": {},
   "outputs": [
    {
     "name": "stdout",
     "output_type": "stream",
     "text": [
      "tuple1 and tuple2 are identical: True\n",
      "tuple1 and tuple3 are identical: False\n"
     ]
    }
   ],
   "source": [
    "# Create two tuples\n",
    "tuple1 = (1, 2, 3)\n",
    "tuple2 = (1, 2, 3)\n",
    "tuple3 = (4, 5, 6)\n",
    "\n",
    "# Compare the tuples for identity using the equality operator\n",
    "are_identical1 = tuple1 == tuple2\n",
    "are_identical2 = tuple1 == tuple3\n",
    "\n",
    "# Print the results\n",
    "print(\"tuple1 and tuple2 are identical:\", are_identical1)\n",
    "print(\"tuple1 and tuple3 are identical:\", are_identical2)"
   ]
  },
  {
   "cell_type": "code",
   "execution_count": null,
   "id": "593e7261-e82f-41b5-a480-0d5da8528f82",
   "metadata": {},
   "outputs": [],
   "source": [
    "# 27. Sort the elements of a tuple."
   ]
  },
  {
   "cell_type": "code",
   "execution_count": 133,
   "id": "4de1621d-a231-43e9-9f13-816b7e431e92",
   "metadata": {},
   "outputs": [
    {
     "name": "stdout",
     "output_type": "stream",
     "text": [
      "Sorted tuple: (1, 2, 3, 5, 8)\n"
     ]
    }
   ],
   "source": [
    "#Create a tuple\n",
    "my_tuple = (5, 2, 8, 1, 3)\n",
    "\n",
    "#Convert the tuple to a list, sort the list, and convert it back to a tuple\n",
    "sorted_tuple = tuple(sorted(my_tuple))\n",
    "\n",
    "#Print the sorted tuple\n",
    "print(\"Sorted tuple:\", sorted_tuple)\n"
   ]
  },
  {
   "cell_type": "code",
   "execution_count": null,
   "id": "53fd34e4-27d9-4821-a9e8-31b948d691fd",
   "metadata": {},
   "outputs": [],
   "source": [
    " #28. Convert a tuple of integers to a tuple of strings."
   ]
  },
  {
   "cell_type": "code",
   "execution_count": 134,
   "id": "8cf12fb6-6a20-4a8e-88cc-dabe3dde80b7",
   "metadata": {},
   "outputs": [
    {
     "name": "stdout",
     "output_type": "stream",
     "text": [
      "Tuple of strings: ('1', '2', '3', '4', '5')\n"
     ]
    }
   ],
   "source": [
    "#Create a tuple of integers\n",
    "tuple_of_integers = (1, 2, 3, 4, 5)\n",
    "\n",
    "# Convert the tuple of integers to a tuple of strings using a list comprehension\n",
    "tuple_of_strings = tuple(str(item) for item in tuple_of_integers)\n",
    "\n",
    "# Print the tuple of strings\n",
    "print(\"Tuple of strings:\", tuple_of_strings)"
   ]
  },
  {
   "cell_type": "code",
   "execution_count": null,
   "id": "95d84cf4-f391-4749-be21-ce5a0f92e9a7",
   "metadata": {},
   "outputs": [],
   "source": [
    " #29. Convert a tuple of strings to a tuple of integers"
   ]
  },
  {
   "cell_type": "code",
   "execution_count": 135,
   "id": "20a8c7b6-a0a2-4de0-969b-578f708daf2d",
   "metadata": {},
   "outputs": [
    {
     "name": "stdout",
     "output_type": "stream",
     "text": [
      "Tuple of integers: (10, 20, 30, 40, 50)\n"
     ]
    }
   ],
   "source": [
    "#Create a tuple of strings\n",
    "tuple_of_strings = ('10', '20', '30', '40', '50')\n",
    "\n",
    "# Convert the tuple of strings to a tuple of integers using a list comprehension\n",
    "tuple_of_integers = tuple(int(item) for item in tuple_of_strings)\n",
    "\n",
    "# Print the tuple of integers\n",
    "print(\"Tuple of integers:\", tuple_of_integers)"
   ]
  },
  {
   "cell_type": "code",
   "execution_count": null,
   "id": "f806dff6-2da5-4644-a481-48677758650a",
   "metadata": {},
   "outputs": [],
   "source": [
    "#30. Merge two tuples"
   ]
  },
  {
   "cell_type": "code",
   "execution_count": 136,
   "id": "1810b29d-467e-4d91-a1ed-1c4c0c02251f",
   "metadata": {},
   "outputs": [
    {
     "name": "stdout",
     "output_type": "stream",
     "text": [
      "Merged tuple: (1, 2, 3, 4, 5, 6)\n"
     ]
    }
   ],
   "source": [
    "# Create two tuples\n",
    "tuple1 = (1, 2, 3)\n",
    "tuple2 = (4, 5, 6)\n",
    "\n",
    "# Merge the two tuples using the '+' operator\n",
    "merged_tuple = tuple1 + tuple2\n",
    "\n",
    "# Print the merged tuple\n",
    "print(\"Merged tuple:\", merged_tuple)"
   ]
  },
  {
   "cell_type": "code",
   "execution_count": null,
   "id": "785d7263-9698-47d2-bc68-7322778654b6",
   "metadata": {},
   "outputs": [],
   "source": [
    " #31. Flatten a nested tuple"
   ]
  },
  {
   "cell_type": "code",
   "execution_count": 137,
   "id": "24c778b5-7f54-4cde-ad1a-c21142c9f697",
   "metadata": {},
   "outputs": [
    {
     "name": "stdout",
     "output_type": "stream",
     "text": [
      "Flattened tuple: (1, 2, 3, 4, 5, 6, 7, 8)\n"
     ]
    }
   ],
   "source": [
    "# Recursive function to flatten a nested tuple\n",
    "def flatten_tuple(nested_tuple):\n",
    "    flattened = []\n",
    "    for item in nested_tuple:\n",
    "        if isinstance(item, tuple):\n",
    "            flattened.extend(flatten_tuple(item))\n",
    "        else:\n",
    "            flattened.append(item)\n",
    "    return flattened\n",
    "\n",
    "# Step 1: Create a nested tuple\n",
    "nested_tuple = ((1, 2), (3, 4, 5), (6, (7, 8)))\n",
    "\n",
    "# Step 2: Flatten the nested tuple\n",
    "flattened_tuple = tuple(flatten_tuple(nested_tuple))\n",
    "\n",
    "# Step 3: Print the flattened tuple\n",
    "print(\"Flattened tuple:\", flattened_tuple)"
   ]
  },
  {
   "cell_type": "code",
   "execution_count": null,
   "id": "8f37a801-ac3d-4ce0-be45-f89a4361c601",
   "metadata": {},
   "outputs": [],
   "source": [
    "#32. Create a tuple of the first 5 prime numbers"
   ]
  },
  {
   "cell_type": "code",
   "execution_count": 138,
   "id": "5a9f0c9d-bebc-40d4-8a7f-9f0b949e4321",
   "metadata": {},
   "outputs": [
    {
     "name": "stdout",
     "output_type": "stream",
     "text": [
      "Tuple of the first 5 prime numbers: (2, 3, 5, 7, 11)\n"
     ]
    }
   ],
   "source": [
    "# Function to check if a number is prime\n",
    "def is_prime(num):\n",
    "    if num <= 1:\n",
    "        return False\n",
    "    for i in range(2, int(num ** 0.5) + 1):\n",
    "        if num % i == 0:\n",
    "            return False\n",
    "    return True\n",
    "\n",
    "# Generate the first 5 prime numbers\n",
    "prime_numbers_list = [num for num in range(2, 100) if is_prime(num)][:5]\n",
    "\n",
    "# Convert the list to a tuple\n",
    "prime_numbers_tuple = tuple(prime_numbers_list)\n",
    "\n",
    "# Print the tuple of prime numbers\n",
    "print(\"Tuple of the first 5 prime numbers:\", prime_numbers_tuple)"
   ]
  },
  {
   "cell_type": "code",
   "execution_count": null,
   "id": "d8be8dab-f07d-4cbc-b7c4-09b5b98a55fa",
   "metadata": {},
   "outputs": [],
   "source": [
    "#33. Check if a tuple is a palindrome."
   ]
  },
  {
   "cell_type": "code",
   "execution_count": 139,
   "id": "147b960b-004c-49e9-89e4-e17f8043ed02",
   "metadata": {},
   "outputs": [
    {
     "name": "stdout",
     "output_type": "stream",
     "text": [
      "palindrome_tuple is a palindrome: True\n",
      "non_palindrome_tuple is a palindrome: False\n"
     ]
    }
   ],
   "source": [
    "# Function to check if a tuple is a palindrome\n",
    "def is_palindrome(tup):\n",
    "    return tup == tup[::-1]\n",
    "\n",
    "# Create tuples for testing\n",
    "palindrome_tuple = (1, 2, 3, 2, 1)\n",
    "non_palindrome_tuple = (1, 2, 3, 4, 5)\n",
    "\n",
    "# Check if the tuples are palindromes\n",
    "is_palindrome1 = is_palindrome(palindrome_tuple)\n",
    "is_palindrome2 = is_palindrome(non_palindrome_tuple)\n",
    "\n",
    "# Print the results\n",
    "print(\"palindrome_tuple is a palindrome:\", is_palindrome1)\n",
    "print(\"non_palindrome_tuple is a palindrome:\", is_palindrome2)"
   ]
  },
  {
   "cell_type": "code",
   "execution_count": null,
   "id": "1878561f-5459-4477-ae87-08626ca57dfe",
   "metadata": {},
   "outputs": [],
   "source": [
    "#34. Create a tuple of squares of numbers from 1 to 5."
   ]
  },
  {
   "cell_type": "code",
   "execution_count": 140,
   "id": "beedea43-4806-4041-a34c-9cd149db73b4",
   "metadata": {},
   "outputs": [
    {
     "name": "stdout",
     "output_type": "stream",
     "text": [
      "Tuple of squares: (1, 4, 9, 16, 25)\n"
     ]
    }
   ],
   "source": [
    "# Create a tuple of squares using a list comprehension\n",
    "squares_tuple = tuple(x ** 2 for x in range(1, 6))\n",
    "\n",
    "# Print the tuple of squares\n",
    "print(\"Tuple of squares:\", squares_tuple)"
   ]
  },
  {
   "cell_type": "code",
   "execution_count": null,
   "id": "dd98bce3-2dcb-4ee1-b339-5fff52ff42f6",
   "metadata": {},
   "outputs": [],
   "source": [
    "#35. Filter out all even numbers from a tuple."
   ]
  },
  {
   "cell_type": "code",
   "execution_count": 141,
   "id": "2087f80a-7b38-4f91-990a-be8587277742",
   "metadata": {},
   "outputs": [
    {
     "name": "stdout",
     "output_type": "stream",
     "text": [
      "Filtered tuple: (1, 3, 5, 7, 9)\n"
     ]
    }
   ],
   "source": [
    "# Create a tuple\n",
    "original_tuple = (1, 2, 3, 4, 5, 6, 7, 8, 9, 10)\n",
    "\n",
    "# Filter out even numbers using a list comprehension\n",
    "filtered_tuple = tuple(num for num in original_tuple if num % 2 != 0)\n",
    "\n",
    "# Print the filtered tuple\n",
    "print(\"Filtered tuple:\", filtered_tuple)"
   ]
  },
  {
   "cell_type": "code",
   "execution_count": null,
   "id": "67013a30-9bc7-40b4-a48f-d99809e3b4da",
   "metadata": {},
   "outputs": [],
   "source": [
    "# 36. Multiply all elements in a tuple by 2."
   ]
  },
  {
   "cell_type": "code",
   "execution_count": 142,
   "id": "8f5cc648-271a-4375-9aeb-3a3ee6f7c8bf",
   "metadata": {},
   "outputs": [
    {
     "name": "stdout",
     "output_type": "stream",
     "text": [
      "Doubled tuple: (2, 4, 6, 8, 10)\n"
     ]
    }
   ],
   "source": [
    "# Create a tuple\n",
    "original_tuple = (1, 2, 3, 4, 5)\n",
    "\n",
    "# Multiply all elements by 2 using a list comprehension and convert to a tuple\n",
    "doubled_tuple = tuple(num * 2 for num in original_tuple)\n",
    "\n",
    "# Print the doubled tuple\n",
    "print(\"Doubled tuple:\", doubled_tuple)"
   ]
  },
  {
   "cell_type": "code",
   "execution_count": null,
   "id": "75cb0ce9-f039-4697-ab04-4dfc9b8770d0",
   "metadata": {},
   "outputs": [],
   "source": [
    " #37. Create a tuple of random numbers."
   ]
  },
  {
   "cell_type": "code",
   "execution_count": 143,
   "id": "cdacbe6c-4cfa-4fbe-b9e0-c0f18695bf36",
   "metadata": {},
   "outputs": [
    {
     "name": "stdout",
     "output_type": "stream",
     "text": [
      "Random tuple: (69, 34, 93, 73, 15, 17, 19, 66, 91, 1)\n"
     ]
    }
   ],
   "source": [
    "import random\n",
    "\n",
    "# Create a tuple of random numbers using a list comprehension\n",
    "random_tuple = tuple(random.randint(1, 100) for _ in range(10))  # Generating 10 random numbers between 1 and 100\n",
    "\n",
    "# Print the tuple of random numbers\n",
    "print(\"Random tuple:\", random_tuple)"
   ]
  },
  {
   "cell_type": "code",
   "execution_count": null,
   "id": "f0b249c2-e3b4-4f93-80f2-a03879ce6a21",
   "metadata": {},
   "outputs": [],
   "source": [
    "# 38. Check if a tuple is sorted."
   ]
  },
  {
   "cell_type": "code",
   "execution_count": 144,
   "id": "0a5c91af-422f-4be5-b81c-3658399f93b3",
   "metadata": {},
   "outputs": [
    {
     "name": "stdout",
     "output_type": "stream",
     "text": [
      "sorted_tuple is sorted: True\n",
      "unsorted_tuple is sorted: False\n"
     ]
    }
   ],
   "source": [
    "# Function to check if a tuple is sorted\n",
    "def is_sorted(tup):\n",
    "    for i in range(len(tup) - 1):\n",
    "        if tup[i] > tup[i + 1]:\n",
    "            return False\n",
    "    return True\n",
    "\n",
    "# Create tuples for testing\n",
    "sorted_tuple = (1, 2, 3, 4, 5)\n",
    "unsorted_tuple = (5, 3, 1, 4, 2)\n",
    "\n",
    "# Check if the tuples are sorted\n",
    "is_sorted1 = is_sorted(sorted_tuple)\n",
    "is_sorted2 = is_sorted(unsorted_tuple)\n",
    "\n",
    "# Print the results\n",
    "print(\"sorted_tuple is sorted:\", is_sorted1)\n",
    "print(\"unsorted_tuple is sorted:\", is_sorted2)"
   ]
  },
  {
   "cell_type": "code",
   "execution_count": null,
   "id": "6a23bf57-ec7e-4f86-8efa-e3a844fed796",
   "metadata": {},
   "outputs": [],
   "source": [
    "# 39. Rotate a tuple to the left by `n` positions."
   ]
  },
  {
   "cell_type": "code",
   "execution_count": 145,
   "id": "c7e6ae26-cdb9-47bb-a736-b251c8118fa2",
   "metadata": {},
   "outputs": [
    {
     "name": "stdout",
     "output_type": "stream",
     "text": [
      "(3, 4, 5, 1, 2)\n"
     ]
    }
   ],
   "source": [
    "def rotate_tuple_left(tup, n):\n",
    "    n = n % len(tup)  # Ensure n is within the range of tuple length\n",
    "    rotated_tuple = tup[n:] + tup[:n]  # Rotate the tuple\n",
    "    return rotated_tuple\n",
    "\n",
    "# Example tuple\n",
    "my_tuple = (1, 2, 3, 4, 5)\n",
    "n_positions = 2\n",
    "result = rotate_tuple_left(my_tuple, n_positions)\n",
    "print(result)"
   ]
  },
  {
   "cell_type": "code",
   "execution_count": null,
   "id": "383f9fad-ec00-4d3e-99fc-3cd153946637",
   "metadata": {},
   "outputs": [],
   "source": [
    "#40. Rotate a tuple to the right by `n` positions"
   ]
  },
  {
   "cell_type": "code",
   "execution_count": 146,
   "id": "cd89b8a2-fa27-42ee-9294-5009455a858a",
   "metadata": {},
   "outputs": [
    {
     "name": "stdout",
     "output_type": "stream",
     "text": [
      "(4, 5, 1, 2, 3)\n"
     ]
    }
   ],
   "source": [
    "def rotate_tuple_right(tup, n):\n",
    "    n = n % len(tup)  # Ensure n is within the range of tuple length\n",
    "    rotated_tuple = tup[-n:] + tup[:-n]  # Rotate the tuple\n",
    "    return rotated_tuple\n",
    "\n",
    "# Example tuple\n",
    "my_tuple = (1, 2, 3, 4, 5)\n",
    "n_positions = 2\n",
    "result = rotate_tuple_right(my_tuple, n_positions)\n",
    "print(result)"
   ]
  },
  {
   "cell_type": "code",
   "execution_count": null,
   "id": "b1e5fa45-ae35-4f14-b6b7-8b9ee90ab799",
   "metadata": {},
   "outputs": [],
   "source": [
    "#41. Create a tuple of the first 5 Fibonacci numbers."
   ]
  },
  {
   "cell_type": "code",
   "execution_count": 147,
   "id": "70df6f37-fe9f-4396-8270-355a95847608",
   "metadata": {},
   "outputs": [
    {
     "name": "stdout",
     "output_type": "stream",
     "text": [
      "(0, 1, 1, 2, 3)\n"
     ]
    }
   ],
   "source": [
    "# Define a function to generate the first n Fibonacci numbers\n",
    "def generate_fibonacci(n):\n",
    "    fibonacci = [0, 1]  # Initialize the list with the first two Fibonacci numbers\n",
    "    while len(fibonacci) < n:  # Continue generating Fibonacci numbers until the list has n elements\n",
    "        next_number = fibonacci[-1] + fibonacci[-2]  # Calculate the next Fibonacci number\n",
    "        fibonacci.append(next_number)  # Add the next Fibonacci number to the list\n",
    "    return tuple(fibonacci)  # Convert the list to a tuple and return it\n",
    "\n",
    "# Call the generate_fibonacci function to create a tuple of the first 5 Fibonacci numbers\n",
    "fibonacci_tuple = generate_fibonacci(5)\n",
    "\n",
    "# Print the resulting tuple\n",
    "print(fibonacci_tuple)"
   ]
  },
  {
   "cell_type": "code",
   "execution_count": null,
   "id": "72411085-ea6c-441b-91ae-98c077d76a0c",
   "metadata": {},
   "outputs": [],
   "source": [
    "#42. Create a tuple from user input."
   ]
  },
  {
   "cell_type": "code",
   "execution_count": 148,
   "id": "356ddf78-f3e8-4a27-8115-11089cd6f06e",
   "metadata": {},
   "outputs": [
    {
     "name": "stdin",
     "output_type": "stream",
     "text": [
      "Enter elements separated by commas:  tuntun, kumar, sah, bihar\n"
     ]
    },
    {
     "name": "stdout",
     "output_type": "stream",
     "text": [
      "User input tuple: ('tuntun', ' kumar', ' sah', ' bihar')\n"
     ]
    }
   ],
   "source": [
    "# Taking user input for creating a tuple\n",
    "input_str = input(\"Enter elements separated by commas: \")\n",
    "\n",
    "# Splitting the input string into a list of strings\n",
    "input_list = input_str.split(',')\n",
    "\n",
    "# Converting the list of strings to a tuple\n",
    "user_tuple = tuple(input_list)\n",
    "\n",
    "# Printing the created tuple\n",
    "print(\"User input tuple:\", user_tuple)"
   ]
  },
  {
   "cell_type": "code",
   "execution_count": null,
   "id": "324f6fac-6b87-40c2-ac51-bec94819fd05",
   "metadata": {},
   "outputs": [],
   "source": [
    "#43. Swap two elements in a tuple."
   ]
  },
  {
   "cell_type": "code",
   "execution_count": 149,
   "id": "83f36182-b4ac-4679-b5b6-fe7ea62f9d90",
   "metadata": {},
   "outputs": [
    {
     "name": "stdout",
     "output_type": "stream",
     "text": [
      "Swapped tuple: (1, 4, 3, 2, 5)\n"
     ]
    }
   ],
   "source": [
    "# Create a tuple\n",
    "my_tuple = (1, 2, 3, 4, 5)\n",
    "\n",
    "# Swap elements at indices 1 and 3\n",
    "index1 = 1\n",
    "index2 = 3\n",
    "swapped_tuple = tuple(\n",
    "    my_tuple[i] if i not in (index1, index2) else\n",
    "    my_tuple[index2] if i == index1 else\n",
    "    my_tuple[index1]\n",
    "    for i in range(len(my_tuple))\n",
    ")\n",
    "\n",
    "# Print the swapped tuple\n",
    "print(\"Swapped tuple:\", swapped_tuple)"
   ]
  },
  {
   "cell_type": "code",
   "execution_count": null,
   "id": "5d28e228-73d5-4086-9009-280ceb208684",
   "metadata": {},
   "outputs": [],
   "source": [
    "#44. Reverse the elements of a tuple."
   ]
  },
  {
   "cell_type": "code",
   "execution_count": 150,
   "id": "c949682e-3e2a-4d52-b45a-b79836a7e788",
   "metadata": {},
   "outputs": [
    {
     "name": "stdout",
     "output_type": "stream",
     "text": [
      "Reversed tuple: (5, 4, 3, 2, 1)\n"
     ]
    }
   ],
   "source": [
    "# Create a tuple\n",
    "my_tuple = (1, 2, 3, 4, 5)\n",
    "\n",
    "# Reverse the elements using slicing\n",
    "reversed_tuple = my_tuple[::-1]\n",
    "\n",
    "# Print the reversed tuple\n",
    "print(\"Reversed tuple:\", reversed_tuple)"
   ]
  },
  {
   "cell_type": "code",
   "execution_count": null,
   "id": "9b9d29fe-941a-41ea-b61c-961b7848069e",
   "metadata": {},
   "outputs": [],
   "source": [
    "# 45. Create a tuple of the first `n` powers of 2"
   ]
  },
  {
   "cell_type": "code",
   "execution_count": 151,
   "id": "09792c9f-2dc9-44c6-9caf-759ab2155148",
   "metadata": {},
   "outputs": [
    {
     "name": "stdout",
     "output_type": "stream",
     "text": [
      "Tuple of the first 5 powers of 2: (1, 2, 4, 8, 16)\n"
     ]
    }
   ],
   "source": [
    "# Define the value of n\n",
    "n = 5\n",
    "\n",
    "# Create a tuple of the first n powers of 2 using a list comprehension\n",
    "powers_of_2_tuple = tuple(2 ** i for i in range(n))\n",
    "\n",
    "# Print the tuple of powers of 2\n",
    "print(\"Tuple of the first\", n, \"powers of 2:\", powers_of_2_tuple)"
   ]
  },
  {
   "cell_type": "code",
   "execution_count": null,
   "id": "4cd2c017-95a5-4881-9a0a-83845e63565c",
   "metadata": {},
   "outputs": [],
   "source": [
    "#46. Find the longest string in a tuple of strings."
   ]
  },
  {
   "cell_type": "code",
   "execution_count": 152,
   "id": "3d1c5ee7-55a1-4901-bfdd-998900fd5159",
   "metadata": {},
   "outputs": [
    {
     "name": "stdout",
     "output_type": "stream",
     "text": [
      "Longest string: watermelon\n"
     ]
    }
   ],
   "source": [
    "# Create a tuple of strings\n",
    "string_tuple = (\"apple\", \"banana\", \"grape\", \"kiwi\", \"watermelon\")\n",
    "\n",
    "# Find the longest string in the tuple\n",
    "longest_string = max(string_tuple, key=len)\n",
    "\n",
    "# Print the longest string\n",
    "print(\"Longest string:\", longest_string)"
   ]
  },
  {
   "cell_type": "code",
   "execution_count": null,
   "id": "ae6c0a2f-191f-4731-87e8-fa5656692aaf",
   "metadata": {},
   "outputs": [],
   "source": [
    "#47. Find the shortest string in a tuple of strings."
   ]
  },
  {
   "cell_type": "code",
   "execution_count": 153,
   "id": "bb896354-f049-4a66-bf07-7b22be1483d9",
   "metadata": {},
   "outputs": [
    {
     "name": "stdout",
     "output_type": "stream",
     "text": [
      "Shortest string: kiwi\n"
     ]
    }
   ],
   "source": [
    "# Create a tuple of strings\n",
    "string_tuple = (\"apple\", \"banana\", \"grape\", \"kiwi\", \"watermelon\")\n",
    "\n",
    "# Find the shortest string in the tuple\n",
    "shortest_string = min(string_tuple, key=len)\n",
    "\n",
    "# Print the shortest string\n",
    "print(\"Shortest string:\", shortest_string)"
   ]
  },
  {
   "cell_type": "code",
   "execution_count": null,
   "id": "42b67481-4a86-4742-99cc-7901da3180f7",
   "metadata": {},
   "outputs": [],
   "source": [
    "# 48. Create a tuple of the first `n` triangular numbers."
   ]
  },
  {
   "cell_type": "code",
   "execution_count": 155,
   "id": "ffde1f2b-280a-45eb-a0af-bc1625bf506b",
   "metadata": {},
   "outputs": [
    {
     "name": "stdout",
     "output_type": "stream",
     "text": [
      "Tuple of the first 5 triangular numbers: (1, 3, 6, 10, 15)\n"
     ]
    }
   ],
   "source": [
    "# Define the value of n\n",
    "n = 5\n",
    "\n",
    "# Create a tuple of the first n triangular numbers using a list comprehension\n",
    "triangular_numbers_tuple = tuple((i * (i + 1)) // 2 for i in range(1, n + 1))\n",
    "\n",
    "# Print the tuple of triangular numbers\n",
    "print(\"Tuple of the first\", n, \"triangular numbers:\", triangular_numbers_tuple)"
   ]
  },
  {
   "cell_type": "code",
   "execution_count": null,
   "id": "a88916d1-dfdc-44e5-b67e-bc729e0e547a",
   "metadata": {},
   "outputs": [],
   "source": [
    "# 49. Check if a tuple contains another tuple as a subsequence."
   ]
  },
  {
   "cell_type": "code",
   "execution_count": 154,
   "id": "dc10d232-ff3f-430a-86ac-59a5a3975d5b",
   "metadata": {},
   "outputs": [
    {
     "name": "stdout",
     "output_type": "stream",
     "text": [
      "Main tuple contains subsequence tuple: True\n"
     ]
    }
   ],
   "source": [
    "# Function to check if a tuple contains another tuple as a subsequence\n",
    "def contains_subsequence(main_tuple, sub_tuple):\n",
    "    sub_length = len(sub_tuple)\n",
    "    for i in range(len(main_tuple) - sub_length + 1):\n",
    "        if main_tuple[i:i+sub_length] == sub_tuple:\n",
    "            return True\n",
    "    return False\n",
    "\n",
    "# Main tuple\n",
    "main_tuple = (1, 2, 3, 4, 5, 6, 7, 8, 9)\n",
    "\n",
    "# Subsequence tuple\n",
    "sub_tuple = (3, 4, 5)\n",
    "\n",
    "# Check if the main tuple contains the subsequence tuple\n",
    "contains_subseq = contains_subsequence(main_tuple, sub_tuple)\n",
    "\n",
    "# Print the result\n",
    "print(\"Main tuple contains subsequence tuple:\", contains_subseq)"
   ]
  },
  {
   "cell_type": "code",
   "execution_count": null,
   "id": "d8decf6a-308f-45b5-9922-0e5ef5113627",
   "metadata": {},
   "outputs": [],
   "source": [
    "#50. Create a tuple of alternating 1s and 0s of length `n`."
   ]
  },
  {
   "cell_type": "code",
   "execution_count": 156,
   "id": "23866a66-d702-4024-a1d8-42b0235e2e58",
   "metadata": {},
   "outputs": [
    {
     "name": "stdout",
     "output_type": "stream",
     "text": [
      "Tuple of alternating 1s and 0s: (0, 1, 0, 1, 0, 1, 0, 1, 0, 1)\n"
     ]
    }
   ],
   "source": [
    "# Define the value of n\n",
    "n = 10\n",
    "\n",
    "# Create a tuple of alternating 1s and 0s using a list comprehension\n",
    "alternating_tuple = tuple(i % 2 for i in range(n))\n",
    "\n",
    "# Print the tuple of alternating 1s and 0s\n",
    "print(\"Tuple of alternating 1s and 0s:\", alternating_tuple)"
   ]
  },
  {
   "cell_type": "code",
   "execution_count": null,
   "id": "dccb5834-7816-4b26-8135-51b1e2ac9aad",
   "metadata": {},
   "outputs": [],
   "source": [
    "# Set Based Practice Problem :"
   ]
  },
  {
   "cell_type": "code",
   "execution_count": null,
   "id": "5dd4e46b-d895-4170-88b8-ae0671d10e49",
   "metadata": {},
   "outputs": [],
   "source": [
    "# 1. Create a set with integers from 1 to 5."
   ]
  },
  {
   "cell_type": "code",
   "execution_count": 157,
   "id": "021ad554-2ac6-4b9f-8c63-7c9a1aae2994",
   "metadata": {},
   "outputs": [
    {
     "name": "stdout",
     "output_type": "stream",
     "text": [
      "{1, 2, 3, 4, 5}\n"
     ]
    }
   ],
   "source": [
    "# Step 1: Create an empty set\n",
    "my_set = set()\n",
    "\n",
    "# Step 2: Add integers from 1 to 5 to the set\n",
    "my_set.add(1)\n",
    "my_set.add(2)\n",
    "my_set.add(3)\n",
    "my_set.add(4)\n",
    "my_set.add(5)\n",
    "\n",
    "# Step 3: Print the final set\n",
    "print(my_set)## Set based problems:"
   ]
  },
  {
   "cell_type": "code",
   "execution_count": null,
   "id": "7a476e04-fb1d-4312-b50f-9819e330bb49",
   "metadata": {},
   "outputs": [],
   "source": [
    "# 2. Add an element to a set."
   ]
  },
  {
   "cell_type": "code",
   "execution_count": 158,
   "id": "4441e546-f6dd-4241-afa0-0367f5b8f1ba",
   "metadata": {},
   "outputs": [
    {
     "name": "stdout",
     "output_type": "stream",
     "text": [
      "Original set: {1, 2, 3, 4, 5}\n",
      "Set after adding element: {1, 2, 3, 4, 5, 6}\n"
     ]
    }
   ],
   "source": [
    "# Step 1: Create a set\n",
    "my_set = {1, 2, 3, 4, 5}\n",
    "\n",
    "# Step 2: Display the original set\n",
    "print(\"Original set:\", my_set)\n",
    "\n",
    "# Step 3: Add an element to the set\n",
    "element_to_add = 6\n",
    "my_set.add(element_to_add)\n",
    "\n",
    "# Step 4: Display the modified set\n",
    "print(\"Set after adding element:\", my_set)"
   ]
  },
  {
   "cell_type": "code",
   "execution_count": null,
   "id": "6187b44e-44eb-4833-875b-b712dcae3fb3",
   "metadata": {},
   "outputs": [],
   "source": [
    "#Remove an element from a set."
   ]
  },
  {
   "cell_type": "code",
   "execution_count": 159,
   "id": "8056517b-bf3c-4164-aa05-fc34c9b8de97",
   "metadata": {},
   "outputs": [
    {
     "name": "stdout",
     "output_type": "stream",
     "text": [
      "Original Set: {1, 2, 3, 4, 5}\n",
      "Set after removing 3 : {1, 2, 4, 5}\n"
     ]
    }
   ],
   "source": [
    "# Step 1: Create a set with some elements\n",
    "my_set = {1, 2, 3, 4, 5}\n",
    "\n",
    "# Step 2: Print the original set\n",
    "print(\"Original Set:\", my_set)\n",
    "\n",
    "# Step 3: Choose an element to remove\n",
    "element_to_remove = 3\n",
    "\n",
    "# Step 4: Use the remove() method to remove the chosen element\n",
    "# Note: If the element is not present in the set, remove() raises a KeyError.\n",
    "my_set.remove(element_to_remove)\n",
    "\n",
    "# Step 5: Print the modified set after removal\n",
    "print(\"Set after removing\", element_to_remove, \":\", my_set)"
   ]
  },
  {
   "cell_type": "code",
   "execution_count": null,
   "id": "6fa2c73a-5bfc-4369-a67d-de82f14a99c4",
   "metadata": {},
   "outputs": [],
   "source": [
    "#4. Check if an element exists in a set"
   ]
  },
  {
   "cell_type": "code",
   "execution_count": 160,
   "id": "c4156c23-3cc4-4ef1-a7f1-311ad598df1c",
   "metadata": {},
   "outputs": [
    {
     "name": "stdin",
     "output_type": "stream",
     "text": [
      "Enter the element to check:  3\n"
     ]
    },
    {
     "name": "stdout",
     "output_type": "stream",
     "text": [
      "3 exists in the set.\n"
     ]
    }
   ],
   "source": [
    "# Step 1: Create a set with some elements\n",
    "my_set = {1, 3, 5, 7, 9}\n",
    "\n",
    "# Step 2: Ask the user for the element they want to check\n",
    "element_to_check = int(input(\"Enter the element to check: \"))\n",
    "\n",
    "# Step 3: Use the \"in\" keyword to check if the element exists in the set\n",
    "if element_to_check in my_set:\n",
    "    # Step 4: If the element exists in the set, print a message\n",
    "    print(f\"{element_to_check} exists in the set.\")\n",
    "else:\n",
    "    # Step 5: If the element does not exist in the set, print a message\n",
    "    print(f\"{element_to_check} does not exist in the set.\")"
   ]
  },
  {
   "cell_type": "code",
   "execution_count": null,
   "id": "9ddc68f4-417f-4562-8396-db701ade64e1",
   "metadata": {},
   "outputs": [],
   "source": [
    "#5. Find the length of a set without using the `len()` function"
   ]
  },
  {
   "cell_type": "code",
   "execution_count": 161,
   "id": "c6231802-885a-4de7-8842-df54c6268730",
   "metadata": {},
   "outputs": [
    {
     "name": "stdout",
     "output_type": "stream",
     "text": [
      "Length of the set: 5\n"
     ]
    }
   ],
   "source": [
    "# Create a set with some elements\n",
    "my_set = {1, 2, 3, 4, 5}\n",
    "\n",
    "# Initialize a variable to count the elements in the set\n",
    "count = 0\n",
    "\n",
    "# Iterate through each element in the set\n",
    "for _ in my_set:\n",
    "    # Increase the count by 1 for each element\n",
    "    count += 1\n",
    "\n",
    "# Print the count, which is the length of the set\n",
    "print(\"Length of the set:\", count)"
   ]
  },
  {
   "cell_type": "code",
   "execution_count": null,
   "id": "78ae0fad-d1c3-48b0-81dd-c61abffd045e",
   "metadata": {},
   "outputs": [],
   "source": [
    "# 6. Clear all elements from a set."
   ]
  },
  {
   "cell_type": "code",
   "execution_count": 162,
   "id": "4182958b-2a37-405b-a8a7-b4c77bd3e98c",
   "metadata": {},
   "outputs": [
    {
     "name": "stdout",
     "output_type": "stream",
     "text": [
      "Length of the set: 5\n"
     ]
    }
   ],
   "source": [
    "# Step 1: Create a set with some elements\n",
    "my_set = {1, 2, 3, 4, 5}\n",
    "\n",
    "# Step 2: Display the original set\n",
    "print(\"Original set:\", my_set)\n",
    "\n",
    "# Step 3: Clear all elements from the set using the clear() method\n",
    "my_set.clear()\n",
    "\n",
    "# Step 4: Display the set after clearing\n",
    "print(\"Set after clearing:\", my_set)\n"
   ]
  },
  {
   "cell_type": "code",
   "execution_count": null,
   "id": "90512463-28d5-4bf0-be17-344371d6567a",
   "metadata": {},
   "outputs": [],
   "source": [
    "# 7. Create a set of even numbers from 1 to 10."
   ]
  },
  {
   "cell_type": "code",
   "execution_count": 163,
   "id": "e2db0cd8-f4a1-4547-bb83-c90b70c2ea59",
   "metadata": {},
   "outputs": [
    {
     "name": "stdout",
     "output_type": "stream",
     "text": [
      "{2, 4, 6, 8, 10}\n"
     ]
    }
   ],
   "source": [
    "# Step 1: Initialize an empty set\n",
    "even_numbers_set = set()\n",
    "\n",
    "# Step 2: Iterate through numbers from 1 to 10\n",
    "for num in range(1, 11):\n",
    "    # Step 3: Check if the number is even\n",
    "    if num % 2 == 0:\n",
    "        # Step 4: Add the even number to the set\n",
    "        even_numbers_set.add(num)\n",
    "\n",
    "# Step 5: Print the set of even numbers\n",
    "print(even_numbers_set)"
   ]
  },
  {
   "cell_type": "code",
   "execution_count": null,
   "id": "fc07d305-2268-4912-a117-7703d7d362f9",
   "metadata": {},
   "outputs": [],
   "source": [
    "#8. Create a set of odd numbers from 1 to 10"
   ]
  },
  {
   "cell_type": "code",
   "execution_count": 164,
   "id": "f1020e89-6404-44e9-91ad-e53842e5ae33",
   "metadata": {},
   "outputs": [
    {
     "name": "stdout",
     "output_type": "stream",
     "text": [
      "{1, 3, 5, 7, 9}\n"
     ]
    }
   ],
   "source": [
    "# Step 1: Initialize an empty set to store odd numbers.\n",
    "odd_numbers_set = set()\n",
    "\n",
    "# Step 2: Iterate through numbers from 1 to 10.\n",
    "for num in range(1, 11):\n",
    "    # Step 3: Check if the current number is odd.\n",
    "    if num % 2 != 0:\n",
    "        # Step 4: If the number is odd, add it to the set.\n",
    "        odd_numbers_set.add(num)\n",
    "\n",
    "# Step 5: Print the final set of odd numbers.\n",
    "print(odd_numbers_set)"
   ]
  },
  {
   "cell_type": "code",
   "execution_count": null,
   "id": "2af7cbce-74ee-4504-b598-1bcc67d14dbe",
   "metadata": {},
   "outputs": [],
   "source": [
    "#9. Find the union of two sets."
   ]
  },
  {
   "cell_type": "code",
   "execution_count": 165,
   "id": "5f26f842-94f6-4dba-ad38-766c355d40bc",
   "metadata": {},
   "outputs": [
    {
     "name": "stdout",
     "output_type": "stream",
     "text": [
      "Set 1: {1, 2, 3, 4, 5}\n",
      "Set 2: {4, 5, 6, 7, 8}\n",
      "Union of Set 1 and Set 2: {1, 2, 3, 4, 5, 6, 7, 8}\n"
     ]
    }
   ],
   "source": [
    "# Define two sets\n",
    "set1 = {1, 2, 3, 4, 5}\n",
    "set2 = {4, 5, 6, 7, 8}\n",
    "\n",
    "# Find the union of the two sets using the `union()` method\n",
    "union_result = set1.union(set2)\n",
    "\n",
    "# Print the original sets and their union\n",
    "print(\"Set 1:\", set1)\n",
    "print(\"Set 2:\", set2)\n",
    "print(\"Union of Set 1 and Set 2:\", union_result)"
   ]
  },
  {
   "cell_type": "code",
   "execution_count": null,
   "id": "c6375661-f11a-43a7-bf70-bc3a192c4ae9",
   "metadata": {},
   "outputs": [],
   "source": [
    "# 10. Find the intersection of two sets."
   ]
  },
  {
   "cell_type": "code",
   "execution_count": 166,
   "id": "b8abd0a0-6626-4458-b76f-653cbe3f4c58",
   "metadata": {},
   "outputs": [
    {
     "name": "stdout",
     "output_type": "stream",
     "text": [
      "Set 1: {1, 2, 3, 4, 5}\n",
      "Set 2: {3, 4, 5, 6, 7}\n",
      "Intersection: {3, 4, 5}\n"
     ]
    }
   ],
   "source": [
    "# Create two sets\n",
    "set1 = {1, 2, 3, 4, 5}\n",
    "set2 = {3, 4, 5, 6, 7}\n",
    "\n",
    "# Find the intersection using the intersection() method\n",
    "intersection_result = set1.intersection(set2)\n",
    "\n",
    "# Print the original sets and the intersection\n",
    "print(\"Set 1:\", set1)\n",
    "print(\"Set 2:\", set2)\n",
    "print(\"Intersection:\", intersection_result)"
   ]
  },
  {
   "cell_type": "code",
   "execution_count": null,
   "id": "a767b051-27e9-4da9-814a-96431d697c8a",
   "metadata": {},
   "outputs": [],
   "source": [
    "#11. Find the difference between two sets."
   ]
  },
  {
   "cell_type": "code",
   "execution_count": 167,
   "id": "5f8147ae-d0e3-4bce-ac45-a6ce65fe9d34",
   "metadata": {},
   "outputs": [
    {
     "name": "stdout",
     "output_type": "stream",
     "text": [
      "Set 1: {1, 2, 3, 4, 5}\n",
      "Set 2: {3, 4, 5, 6, 7}\n",
      "Difference: {1, 2}\n"
     ]
    }
   ],
   "source": [
    "# Create two sets\n",
    "set1 = {1, 2, 3, 4, 5}\n",
    "set2 = {3, 4, 5, 6, 7}\n",
    "\n",
    "# Find the difference between the sets using the difference() method\n",
    "difference_set = set1.difference(set2)\n",
    "\n",
    "# Print the original sets and the difference set\n",
    "print(\"Set 1:\", set1)\n",
    "print(\"Set 2:\", set2)\n",
    "print(\"Difference:\", difference_set)"
   ]
  },
  {
   "cell_type": "code",
   "execution_count": null,
   "id": "90d02c8b-59ba-4264-9e30-02c2fad74cc3",
   "metadata": {},
   "outputs": [],
   "source": [
    "# 12. Check if a set is a subset of another set."
   ]
  },
  {
   "cell_type": "code",
   "execution_count": 168,
   "id": "fe680c33-c611-44ce-8001-da7bbc24d9ef",
   "metadata": {},
   "outputs": [
    {
     "name": "stdout",
     "output_type": "stream",
     "text": [
      "Is set1 a subset of set2: True\n"
     ]
    }
   ],
   "source": [
    "# Define the two sets\n",
    "set1 = {1, 2, 3}\n",
    "set2 = {1, 2, 3, 4, 5}\n",
    "\n",
    "# Use the \"issubset()\" method to check if set1 is a subset of set2\n",
    "is_subset = set1.issubset(set2)\n",
    "\n",
    "# Print the result\n",
    "print(\"Is set1 a subset of set2:\", is_subset)"
   ]
  },
  {
   "cell_type": "code",
   "execution_count": null,
   "id": "45e1b7dd-e38d-4979-a088-d8f0dea38ac3",
   "metadata": {},
   "outputs": [],
   "source": [
    " #13. Check if a set is a superset of another set."
   ]
  },
  {
   "cell_type": "code",
   "execution_count": 169,
   "id": "60757e06-e5d9-4d18-98e7-000d47a17ec7",
   "metadata": {},
   "outputs": [
    {
     "name": "stdout",
     "output_type": "stream",
     "text": [
      "set1 is a superset of set2\n"
     ]
    }
   ],
   "source": [
    "# Create two sets\n",
    "set1 = {1, 2, 3, 4, 5, 6}\n",
    "set2 = {3, 4}\n",
    "\n",
    "# Check if set1 is a superset of set2\n",
    "is_superset = set1.issuperset(set2)\n",
    "\n",
    "# Print the result\n",
    "if is_superset:\n",
    "    print(\"set1 is a superset of set2\")\n",
    "else:\n",
    "    print(\"set1 is not a superset of set2\")"
   ]
  },
  {
   "cell_type": "code",
   "execution_count": null,
   "id": "6952fddb-cba6-48a5-a0e7-069dfccb2ef0",
   "metadata": {},
   "outputs": [],
   "source": [
    "#14. Create a set from a list."
   ]
  },
  {
   "cell_type": "code",
   "execution_count": 170,
   "id": "4849c9a0-5bca-41b3-873f-581d7553b8c7",
   "metadata": {},
   "outputs": [
    {
     "name": "stdout",
     "output_type": "stream",
     "text": [
      "Original List: [2, 4, 1, 4, 3, 2, 5]\n",
      "Set from List: {1, 2, 3, 4, 5}\n"
     ]
    }
   ],
   "source": [
    "# Step 1: Create a list of elements\n",
    "my_list = [2, 4, 1, 4, 3, 2, 5]\n",
    "\n",
    "# Step 2: Use the set() constructor to convert the list into a set\n",
    "# This automatically removes duplicates and creates a set with unique elements\n",
    "my_set = set(my_list)\n",
    "\n",
    "# Step 3: Print the original list and the resulting set\n",
    "print(\"Original List:\", my_list)\n",
    "print(\"Set from List:\", my_set)"
   ]
  },
  {
   "cell_type": "code",
   "execution_count": null,
   "id": "690b9e53-b5a5-4c72-bf6c-1385c6e6745d",
   "metadata": {},
   "outputs": [],
   "source": [
    "#15. Convert a set to a list."
   ]
  },
  {
   "cell_type": "code",
   "execution_count": 171,
   "id": "b6f34fb9-c182-4fa9-87b0-e2d02cebaf74",
   "metadata": {},
   "outputs": [
    {
     "name": "stdout",
     "output_type": "stream",
     "text": [
      "Original Set: {1, 2, 3, 4, 5, 6, 9}\n",
      "Converted List: [1, 2, 3, 4, 5, 6, 9]\n"
     ]
    }
   ],
   "source": [
    "# Step 1: Create a set with some elements\n",
    "my_set = {3, 1, 4, 1, 5, 9, 2, 6, 5}\n",
    "\n",
    "# Step 2: Convert the set to a list using the list() function\n",
    "my_list = list(my_set)\n",
    "\n",
    "# Now, my_list contains the elements from my_set in list format\n",
    "\n",
    "# Step 3: Print the original set and the converted list\n",
    "print(\"Original Set:\", my_set)\n",
    "print(\"Converted List:\", my_list)"
   ]
  },
  {
   "cell_type": "code",
   "execution_count": null,
   "id": "34bfb4e8-f2a1-4e89-8cda-654c274a20ad",
   "metadata": {},
   "outputs": [],
   "source": [
    " #16. Remove a random element from a set."
   ]
  },
  {
   "cell_type": "code",
   "execution_count": 172,
   "id": "1a480b4e-673d-4876-9dbf-02ba68333369",
   "metadata": {},
   "outputs": [
    {
     "name": "stdout",
     "output_type": "stream",
     "text": [
      "Original set: {1, 2, 3, 4, 5}\n",
      "Updated set after removing 2 : {1, 3, 4, 5}\n"
     ]
    }
   ],
   "source": [
    "import random  # Import the random module\n",
    "\n",
    "# Create a set with some elements\n",
    "my_set = {1, 2, 3, 4, 5}\n",
    "\n",
    "# Display the original set\n",
    "print(\"Original set:\", my_set)\n",
    "\n",
    "# Choose a random element from the set using the random.choice() function\n",
    "random_element = random.choice(list(my_set))\n",
    "\n",
    "# Remove the chosen random element from the set using the remove() method\n",
    "my_set.remove(random_element)\n",
    "\n",
    "# Display the updated set after removing the random element\n",
    "print(\"Updated set after removing\", random_element, \":\", my_set)"
   ]
  },
  {
   "cell_type": "code",
   "execution_count": null,
   "id": "14df2ec8-87e8-4f00-9667-018ee267f98e",
   "metadata": {},
   "outputs": [],
   "source": [
    "# 17. Pop an element from a set."
   ]
  },
  {
   "cell_type": "code",
   "execution_count": 173,
   "id": "e8e838a5-5dc1-4523-8579-75af34bc4af8",
   "metadata": {},
   "outputs": [
    {
     "name": "stdout",
     "output_type": "stream",
     "text": [
      "Original set: {1, 2, 3, 4, 5}\n",
      "Popped element: 1\n",
      "Set after popping: {2, 3, 4, 5}\n"
     ]
    }
   ],
   "source": [
    "# Create a set with some elements\n",
    "my_set = {1, 2, 3, 4, 5}\n",
    "\n",
    "# Print the original set\n",
    "print(\"Original set:\", my_set)\n",
    "\n",
    "# Pop an element from the set using the pop() method\n",
    "popped_element = my_set.pop()\n",
    "\n",
    "# Print the element that was popped\n",
    "print(\"Popped element:\", popped_element)\n",
    "\n",
    "# Print the set after popping an element\n",
    "print(\"Set after popping:\", my_set)"
   ]
  },
  {
   "cell_type": "code",
   "execution_count": null,
   "id": "56fca21a-62d6-464e-94ee-684dc3fa6b89",
   "metadata": {},
   "outputs": [],
   "source": [
    "#18. Check if two sets have no elements in common."
   ]
  },
  {
   "cell_type": "code",
   "execution_count": 174,
   "id": "ae604898-9e47-4d7e-9ef5-e24608a3e2d4",
   "metadata": {},
   "outputs": [
    {
     "name": "stdout",
     "output_type": "stream",
     "text": [
      "The two sets have no elements in common.\n"
     ]
    }
   ],
   "source": [
    "# Step 1: Define two sets\n",
    "set1 = {1, 2, 3, 4}\n",
    "set2 = {5, 6, 7, 8}\n",
    "\n",
    "# Step 2: Check if the intersection of the two sets is empty\n",
    "# The intersection is the set of elements that are common to both sets\n",
    "common_elements = set1.intersection(set2)\n",
    "\n",
    "# Step 3: Check if the common_elements set is empty\n",
    "if not common_elements:\n",
    "    print(\"The two sets have no elements in common.\")\n",
    "else:\n",
    "    print(\"The two sets have common elements:\", common_elements)"
   ]
  },
  {
   "cell_type": "code",
   "execution_count": null,
   "id": "06a34591-211b-4693-8d8f-c3358d998799",
   "metadata": {},
   "outputs": [],
   "source": [
    "# 19. Find the symmetric difference between two sets"
   ]
  },
  {
   "cell_type": "code",
   "execution_count": 175,
   "id": "9764555c-e2f5-4e04-9b71-a3ae9f866fd5",
   "metadata": {},
   "outputs": [
    {
     "name": "stdout",
     "output_type": "stream",
     "text": [
      "Symmetric Difference: {1, 2, 3, 6, 7, 8}\n"
     ]
    }
   ],
   "source": [
    "# Define two sets\n",
    "set1 = {1, 2, 3, 4, 5}\n",
    "set2 = {4, 5, 6, 7, 8}\n",
    "\n",
    "# Calculate the symmetric difference using the ^ operator\n",
    "symmetric_difference = set1 ^ set2\n",
    "\n",
    "# Print the symmetric difference\n",
    "print(\"Symmetric Difference:\", symmetric_difference)"
   ]
  },
  {
   "cell_type": "code",
   "execution_count": null,
   "id": "4b205ca6-158c-475c-b81a-66d38899e30a",
   "metadata": {},
   "outputs": [],
   "source": [
    "# 20. Update a set with elements from another set."
   ]
  },
  {
   "cell_type": "code",
   "execution_count": 176,
   "id": "4227c469-1616-46d7-819f-d2b2d71f447d",
   "metadata": {},
   "outputs": [
    {
     "name": "stdout",
     "output_type": "stream",
     "text": [
      "Set 1: {1, 2, 3}\n",
      "Set 2: {3, 4, 5}\n",
      "Updated Set 1: {1, 2, 3, 4, 5}\n"
     ]
    }
   ],
   "source": [
    "# Create the first set\n",
    "set1 = {1, 2, 3}\n",
    "print(\"Set 1:\", set1)\n",
    "\n",
    "# Create the second set\n",
    "set2 = {3, 4, 5}\n",
    "print(\"Set 2:\", set2)\n",
    "\n",
    "# Update set1 with elements from set2\n",
    "set1.update(set2)\n",
    "print(\"Updated Set 1:\", set1)"
   ]
  },
  {
   "cell_type": "code",
   "execution_count": null,
   "id": "6abad6c1-d9d3-475c-88a1-497cd1b2d2db",
   "metadata": {},
   "outputs": [],
   "source": [
    "# 21. Create a set of the first 5 prime numbers."
   ]
  },
  {
   "cell_type": "code",
   "execution_count": 4,
   "id": "bb7dc87b-b702-4592-a764-62aa6412002c",
   "metadata": {},
   "outputs": [
    {
     "name": "stdout",
     "output_type": "stream",
     "text": [
      "Set of the first 5 prime numbers: {2, 3, 5, 7, 11}\n"
     ]
    }
   ],
   "source": [
    "# Function to check if a number is prime\n",
    "def is_prime(num):\n",
    "    if num <= 1:\n",
    "        return False\n",
    "    for i in range(2, int(num ** 0.5) + 1):\n",
    "        if num % i == 0:\n",
    "            return False\n",
    "    return True\n",
    "\n",
    "# Create an empty set to store the prime numbers\n",
    "prime_set = set()\n",
    "\n",
    "# Initialize the number to start checking for primes\n",
    "num = 2\n",
    "\n",
    "# Loop until we have found the first 5 prime numbers\n",
    "while len(prime_set) < 5:\n",
    "    # Check if the current number is prime using the is_prime function\n",
    "    if is_prime(num):\n",
    "        # If the number is prime, add it to the prime_set\n",
    "        prime_set.add(num)\n",
    "\n",
    "    # Move on to the next number for the next iteration\n",
    "    num += 1\n",
    "\n",
    "# Print the set of prime numbers\n",
    "print(\"Set of the first 5 prime numbers:\", prime_set)"
   ]
  },
  {
   "cell_type": "code",
   "execution_count": null,
   "id": "79f97ac5-25ff-4dd5-a248-0a2e779c4efc",
   "metadata": {},
   "outputs": [],
   "source": [
    "# 22. Check if two sets are identical."
   ]
  },
  {
   "cell_type": "code",
   "execution_count": 5,
   "id": "7242fccc-d094-4526-a0e1-9fcecb9a8dd2",
   "metadata": {},
   "outputs": [
    {
     "name": "stdout",
     "output_type": "stream",
     "text": [
      "The sets are identical.\n"
     ]
    }
   ],
   "source": [
    "\n",
    "set1 = {1, 2, 3, 4, 5}\n",
    "set2 = {3, 1, 5, 2, 4}  \n",
    "\n",
    "# Sets are unordered collections, so the order of elements doesn't matter.\n",
    "# The `==` operator compares the content of the sets.\n",
    "if set1 == set2:\n",
    "    print(\"The sets are identical.\")\n",
    "else:\n",
    "    print(\"The sets are not identical.\")"
   ]
  },
  {
   "cell_type": "code",
   "execution_count": null,
   "id": "953e3c61-0154-4172-ae22-862ac6de242b",
   "metadata": {},
   "outputs": [],
   "source": [
    "#23. Create a frozen set"
   ]
  },
  {
   "cell_type": "code",
   "execution_count": 3,
   "id": "d7fa6f84-8c69-48ba-9f33-7926d567f1fc",
   "metadata": {},
   "outputs": [
    {
     "name": "stdout",
     "output_type": "stream",
     "text": [
      "Frozen Set: frozenset({1, 2, 3, 4, 5})\n"
     ]
    }
   ],
   "source": [
    "elements = [1, 2, 3, 4, 5]\n",
    "\n",
    "# Create a frozen set using the 'frozenset' constructor and passing the list of elements\n",
    "my_frozen_set = frozenset(elements)\n",
    "\n",
    "# Print the frozen set\n",
    "print(\"Frozen Set:\", my_frozen_set)"
   ]
  },
  {
   "cell_type": "code",
   "execution_count": null,
   "id": "467a9f22-935c-4d1a-af76-b03bd3ce058b",
   "metadata": {},
   "outputs": [],
   "source": [
    "#24. Check if a set is disjoint with another set."
   ]
  },
  {
   "cell_type": "code",
   "execution_count": 6,
   "id": "6e46c991-bc8e-4bc0-b79f-bfcd6d696bb2",
   "metadata": {},
   "outputs": [
    {
     "name": "stdout",
     "output_type": "stream",
     "text": [
      "Are the sets disjoint? True\n"
     ]
    }
   ],
   "source": [
    "# Define the two sets you want to check for disjointness\n",
    "set1 = {1, 2, 3, 4}\n",
    "set2 = {5, 6, 7, 8}\n",
    "\n",
    "# Use the `isdisjoint()` method to check if the sets are disjoint\n",
    "# The `isdisjoint()` method returns True if the sets have no common elements,\n",
    "# and False if they have at least one common element.\n",
    "disjoint_status = set1.isdisjoint(set2)\n",
    "\n",
    "# Print the result\n",
    "print(\"Are the sets disjoint?\", disjoint_status)"
   ]
  },
  {
   "cell_type": "code",
   "execution_count": null,
   "id": "a8c1f032-9ee5-4ee5-8a8c-2b079fdc4d7c",
   "metadata": {},
   "outputs": [],
   "source": [
    "# 25. Create a set of squares of numbers from 1 to 5."
   ]
  },
  {
   "cell_type": "code",
   "execution_count": 7,
   "id": "5625d3c9-4d26-4342-a1f6-268a40e15a37",
   "metadata": {},
   "outputs": [
    {
     "name": "stdout",
     "output_type": "stream",
     "text": [
      "{1, 4, 9, 16, 25}\n"
     ]
    }
   ],
   "source": [
    "# Create an empty set to store the squares of numbers\n",
    "squares_set = set()\n",
    "\n",
    "# Use a loop to iterate through numbers from 1 to 5\n",
    "for num in range(1, 6):\n",
    "    # Step 3: Calculate the square of the current number\n",
    "    square = num ** 2\n",
    "\n",
    "    # Step 4: Add the square to the set\n",
    "    squares_set.add(square)\n",
    "\n",
    "# Print the set of squares\n",
    "print(squares_set)"
   ]
  },
  {
   "cell_type": "code",
   "execution_count": null,
   "id": "04473287-18e3-4776-9a13-9941f784e556",
   "metadata": {},
   "outputs": [],
   "source": [
    "#26. Filter out all even numbers from a set."
   ]
  },
  {
   "cell_type": "code",
   "execution_count": 8,
   "id": "b4f9c365-ba3f-4e0b-b1da-cd71417e505d",
   "metadata": {},
   "outputs": [
    {
     "name": "stdout",
     "output_type": "stream",
     "text": [
      "Original Set: {1, 2, 3, 4, 5}\n",
      "Even Numbers Set: {2, 4}\n"
     ]
    }
   ],
   "source": [
    "# Create a set with integers from 1 to 5\n",
    "original_set = {1, 2, 3, 4, 5}\n",
    "\n",
    "# Initialize an empty set to store the filtered even numbers\n",
    "even_numbers_set = set()\n",
    "\n",
    "# Iterate through each element in the original set\n",
    "for num in original_set:\n",
    "    # Step 4: Check if the current number is even (divisible by 2)\n",
    "    if num % 2 == 0:\n",
    "        # If even, add it to the even_numbers_set\n",
    "        even_numbers_set.add(num)\n",
    "\n",
    "# Print the original set and the set containing even numbers\n",
    "print(\"Original Set:\", original_set)\n",
    "print(\"Even Numbers Set:\", even_numbers_set)"
   ]
  },
  {
   "cell_type": "code",
   "execution_count": null,
   "id": "bb34a0eb-580f-4191-a8d4-0176190f445c",
   "metadata": {},
   "outputs": [],
   "source": [
    "#27. Multiply all elements in a set by 2."
   ]
  },
  {
   "cell_type": "code",
   "execution_count": 9,
   "id": "0f406cb0-f60b-4b02-91ce-8f0ecfd4f23f",
   "metadata": {},
   "outputs": [
    {
     "name": "stdout",
     "output_type": "stream",
     "text": [
      "Original Set: {1, 2, 3, 4, 5}\n",
      "Multiplied Set: {2, 4, 6, 8, 10}\n"
     ]
    }
   ],
   "source": [
    "# Create a set with integers from 1 to 5\n",
    "original_set = {1, 2, 3, 4, 5}\n",
    "\n",
    "# Initialize an empty set to store the multiplied elements\n",
    "multiplied_set = set()\n",
    "\n",
    "# Loop through each element in the original set\n",
    "for num in original_set:\n",
    "    # Multiply the current element by 2\n",
    "    multiplied_num = num * 2\n",
    "\n",
    "    # Add the multiplied element to the multiplied_set\n",
    "    multiplied_set.add(multiplied_num)\n",
    "\n",
    "# The original_set remains unchanged\n",
    "print(\"Original Set:\", original_set)\n",
    "\n",
    "# Display the set with elements multiplied by 2\n",
    "print(\"Multiplied Set:\", multiplied_set)"
   ]
  },
  {
   "cell_type": "code",
   "execution_count": null,
   "id": "2d4fb2a8-fc90-4865-9b46-7966d23f6b01",
   "metadata": {},
   "outputs": [],
   "source": [
    "#28. Create a set of random numbers."
   ]
  },
  {
   "cell_type": "code",
   "execution_count": 10,
   "id": "df0e8ba5-5747-4341-9f61-6d1307e6913e",
   "metadata": {},
   "outputs": [
    {
     "name": "stdout",
     "output_type": "stream",
     "text": [
      "Generated set of random numbers: {45, 15, 17, 92, 94}\n"
     ]
    }
   ],
   "source": [
    "#Import the `random` module to generate random numbers\n",
    "import random\n",
    "\n",
    "# Define the number of random numbers you want in the set\n",
    "num_random_numbers = 5\n",
    "\n",
    "# Initialize an empty set to store the random numbers\n",
    "random_number_set = set()\n",
    "\n",
    "# Use a loop to generate random numbers and add them to the set\n",
    "for _ in range(num_random_numbers):\n",
    "    # Generate a random integer using the `randint` function from the `random` module\n",
    "    random_num = random.randint(1, 100)  # Generate a random number between 1 and 100\n",
    "    # Add the random number to the set\n",
    "    random_number_set.add(random_num)\n",
    "\n",
    "# Print the generated set of random numbers\n",
    "print(\"Generated set of random numbers:\", random_number_set)"
   ]
  },
  {
   "cell_type": "code",
   "execution_count": null,
   "id": "dd4cddbf-8952-4710-a9b1-fe1401c160c8",
   "metadata": {},
   "outputs": [],
   "source": [
    " #29. Check if a set is empty."
   ]
  },
  {
   "cell_type": "code",
   "execution_count": 11,
   "id": "037ee3a3-46c9-4f0e-8a3e-9efc2b620031",
   "metadata": {},
   "outputs": [
    {
     "name": "stdout",
     "output_type": "stream",
     "text": [
      "The set is empty.\n"
     ]
    }
   ],
   "source": [
    "# Create a set (you can replace this with your own set)\n",
    "my_set = set()\n",
    "\n",
    "# Check if the set is empty using the 'if' statement\n",
    "if not my_set:\n",
    "    print(\"The set is empty.\")\n",
    "else:\n",
    "    print(\"The set is not empty.\")"
   ]
  },
  {
   "cell_type": "code",
   "execution_count": null,
   "id": "07b547a6-2918-424f-9b0f-f9a3e6fbb907",
   "metadata": {},
   "outputs": [],
   "source": [
    " #30. Create a nested set (hint: use frozenset)."
   ]
  },
  {
   "cell_type": "code",
   "execution_count": 12,
   "id": "b79092c1-a9db-44ff-b039-b49b422624ee",
   "metadata": {},
   "outputs": [
    {
     "name": "stdout",
     "output_type": "stream",
     "text": [
      "Nested Set: {frozenset({1, 2, 3, 4, 5}), frozenset({6, 7, 8, 9, 10})}\n"
     ]
    }
   ],
   "source": [
    "# Create the inner sets\n",
    "set1 = {1, 2, 3, 4, 5}\n",
    "set2 = {6, 7, 8, 9, 10}\n",
    "\n",
    "# Create frozensets from the inner sets\n",
    "frozen_set1 = frozenset(set1)\n",
    "frozen_set2 = frozenset(set2)\n",
    "\n",
    "# Create the nested set using the frozensets\n",
    "nested_set = {frozen_set1, frozen_set2}\n",
    "\n",
    "# Print the nested set\n",
    "print(\"Nested Set:\", nested_set)"
   ]
  },
  {
   "cell_type": "code",
   "execution_count": null,
   "id": "73e3e382-802b-4c47-affc-b0d4c457d5b4",
   "metadata": {},
   "outputs": [],
   "source": [
    "# 31. Remove an element from a set using the discard method"
   ]
  },
  {
   "cell_type": "code",
   "execution_count": 13,
   "id": "17c6ab60-85e9-473e-ab19-eaa9e7393b53",
   "metadata": {},
   "outputs": [
    {
     "name": "stdout",
     "output_type": "stream",
     "text": [
      "Initial set: {1, 2, 3, 4, 5}\n",
      "Set after removing 3 : {1, 2, 4, 5}\n"
     ]
    }
   ],
   "source": [
    "# Create a set with some elements\n",
    "my_set = {1, 2, 3, 4, 5}\n",
    "\n",
    "# Display the initial set\n",
    "print(\"Initial set:\", my_set)\n",
    "\n",
    "# Define the element to be removed\n",
    "element_to_remove = 3\n",
    "\n",
    "# Use the discard() method to remove the element from the set\n",
    "# If the element is not present in the set, discard() won't raise an error\n",
    "my_set.discard(element_to_remove)\n",
    "\n",
    "# Display the set after removing the element\n",
    "print(\"Set after removing\", element_to_remove, \":\", my_set)"
   ]
  },
  {
   "cell_type": "code",
   "execution_count": null,
   "id": "f6ac8268-7ca0-4ac3-9d64-035de083755d",
   "metadata": {},
   "outputs": [],
   "source": [
    " #32. Compare two sets"
   ]
  },
  {
   "cell_type": "code",
   "execution_count": 14,
   "id": "5b9a6472-f44e-4fcd-a2c4-0215c8c776bb",
   "metadata": {},
   "outputs": [
    {
     "name": "stdout",
     "output_type": "stream",
     "text": [
      "Set 1: {1, 2, 3, 4, 5}\n",
      "Set 2: {4, 5, 6, 7, 8}\n",
      "Is set1 a subset of set2? False\n",
      "Is set2 a subset of set1? False\n",
      "Intersection: {4, 5}\n",
      "Union: {1, 2, 3, 4, 5, 6, 7, 8}\n",
      "Elements in set1 but not in set2: {1, 2, 3}\n",
      "Elements in set2 but not in set1: {8, 6, 7}\n"
     ]
    }
   ],
   "source": [
    "# Define two sets\n",
    "set1 = {1, 2, 3, 4, 5}\n",
    "set2 = {4, 5, 6, 7, 8}\n",
    "\n",
    "# Use set operations to compare the sets\n",
    "# Check if set1 is a subset of set2\n",
    "is_subset = set1.issubset(set2)\n",
    "\n",
    "# Check if set2 is a subset of set1\n",
    "is_superset = set1.issuperset(set2)\n",
    "\n",
    "# Find the intersection of the sets\n",
    "intersection = set1.intersection(set2)\n",
    "\n",
    "# Find the union of the sets\n",
    "union = set1.union(set2)\n",
    "\n",
    "# Find the elements that are in set1 but not in set2\n",
    "difference1 = set1.difference(set2)\n",
    "\n",
    "# Find the elements that are in set2 but not in set1\n",
    "difference2 = set2.difference(set1)\n",
    "\n",
    "# Print the results\n",
    "print(\"Set 1:\", set1)\n",
    "print(\"Set 2:\", set2)\n",
    "print(\"Is set1 a subset of set2?\", is_subset)\n",
    "print(\"Is set2 a subset of set1?\", is_superset)\n",
    "print(\"Intersection:\", intersection)\n",
    "print(\"Union:\", union)\n",
    "print(\"Elements in set1 but not in set2:\", difference1)\n",
    "print(\"Elements in set2 but not in set1:\", difference2)"
   ]
  },
  {
   "cell_type": "code",
   "execution_count": null,
   "id": "ae2015f6-7d45-4301-9281-2b80514f0477",
   "metadata": {},
   "outputs": [],
   "source": [
    "# 33. Create a set from a string"
   ]
  },
  {
   "cell_type": "code",
   "execution_count": 16,
   "id": "2adf2ddc-8a89-458c-b217-b2e76d2b4b11",
   "metadata": {},
   "outputs": [
    {
     "name": "stdout",
     "output_type": "stream",
     "text": [
      "{'h', 'e', 'o', 'l'}\n"
     ]
    }
   ],
   "source": [
    "# Step 1: Define the input string\n",
    "input_string = \"hello\"\n",
    "\n",
    "# Step 2: Use the set() constructor to create a set from the characters in the string\n",
    "char_set = set(input_string)\n",
    "\n",
    "# Step 3: Print the resulting set\n",
    "print(char_set)"
   ]
  },
  {
   "cell_type": "code",
   "execution_count": null,
   "id": "edb97686-efb3-4974-b66f-4fcf199dfebf",
   "metadata": {},
   "outputs": [],
   "source": [
    " #34. Convert a set of strings to a set of integers."
   ]
  },
  {
   "cell_type": "code",
   "execution_count": 17,
   "id": "bc213595-e58b-4591-b223-acf9546ab256",
   "metadata": {},
   "outputs": [
    {
     "name": "stdout",
     "output_type": "stream",
     "text": [
      "Original String Set: {'456', '123', '789'}\n",
      "Converted Integer Set: {456, 123, 789}\n"
     ]
    }
   ],
   "source": [
    "# Step 1: Create a set of strings\n",
    "string_set = {\"123\", \"456\", \"789\"}\n",
    "\n",
    "# Step 2: Initialize an empty set to store integers\n",
    "integer_set = set()\n",
    "\n",
    "# Step 3: Iterate through each string in the string set\n",
    "for string in string_set:\n",
    "    # Step 4: Convert the string to an integer using the int() function\n",
    "    integer_value = int(string)\n",
    "\n",
    "    # Step 5: Add the integer to the integer set\n",
    "    integer_set.add(integer_value)\n",
    "\n",
    "# Step 6: Print the original string set and the converted integer set\n",
    "print(\"Original String Set:\", string_set)\n",
    "print(\"Converted Integer Set:\", integer_set)"
   ]
  },
  {
   "cell_type": "code",
   "execution_count": null,
   "id": "68679be0-88f4-4d6d-8596-0560d9dcde1c",
   "metadata": {},
   "outputs": [],
   "source": [
    "#35. Convert a set of integers to a set of strings."
   ]
  },
  {
   "cell_type": "code",
   "execution_count": 18,
   "id": "92c73e3b-8feb-4b26-877f-798e0297abb2",
   "metadata": {},
   "outputs": [
    {
     "name": "stdout",
     "output_type": "stream",
     "text": [
      "Original integers_set: {1, 2, 3, 4, 5}\n",
      "Converted strings_set: {'1', '5', '3', '2', '4'}\n"
     ]
    }
   ],
   "source": [
    "# Step 1: Create a set of integers\n",
    "integers_set = {1, 2, 3, 4, 5}\n",
    "\n",
    "# Step 2: Initialize an empty set to store the strings\n",
    "strings_set = set()\n",
    "\n",
    "# Step 3: Iterate through each integer in the integers_set\n",
    "for num in integers_set:\n",
    "    # Step 4: Convert the integer to a string using the str() function\n",
    "    num_str = str(num)\n",
    "\n",
    "    # Step 5: Add the string representation to the strings_set\n",
    "    strings_set.add(num_str)\n",
    "\n",
    "# Step 6: Print the original integers_set and the converted strings_set\n",
    "print(\"Original integers_set:\", integers_set)\n",
    "print(\"Converted strings_set:\", strings_set)"
   ]
  },
  {
   "cell_type": "code",
   "execution_count": 19,
   "id": "19a2d49d-bd77-4e17-bcb6-f02d68833b9b",
   "metadata": {},
   "outputs": [],
   "source": [
    "#36. Create a set from a tuple"
   ]
  },
  {
   "cell_type": "code",
   "execution_count": 20,
   "id": "cef98b48-a3a1-404b-99bb-e18f2652f183",
   "metadata": {},
   "outputs": [
    {
     "name": "stdout",
     "output_type": "stream",
     "text": [
      "{1, 2, 3, 4, 5}\n"
     ]
    }
   ],
   "source": [
    "# Given tuple\n",
    "input_tuple = (1, 2, 3, 2, 4, 5, 1)\n",
    "\n",
    "# Step 1: Convert the tuple to a set\n",
    "output_set = set(input_tuple)\n",
    "# At this point, the set() function is used to convert the elements of the tuple into a set.\n",
    "# Since sets only contain unique elements, duplicate values are automatically removed.\n",
    "\n",
    "# Step 2: Print the resulting set\n",
    "print(output_set)\n",
    "# The set is now printed, and it will only contain the unique elements from the original tuple."
   ]
  },
  {
   "cell_type": "code",
   "execution_count": null,
   "id": "3d0efa7e-12d8-4ca2-89dd-9eefa0838356",
   "metadata": {},
   "outputs": [],
   "source": [
    " #37. Convert a set to a tuple."
   ]
  },
  {
   "cell_type": "code",
   "execution_count": 21,
   "id": "c3ddd51a-d0aa-456b-884a-33e2ad121c7d",
   "metadata": {},
   "outputs": [
    {
     "name": "stdout",
     "output_type": "stream",
     "text": [
      "Original set: {1, 2, 3, 4, 5}\n",
      "Converted tuple: (1, 2, 3, 4, 5)\n"
     ]
    }
   ],
   "source": [
    "# Step 1: Create a set\n",
    "input_set = {1, 2, 3, 4, 5}\n",
    "\n",
    "# Step 2: Convert the set to a tuple\n",
    "output_tuple = tuple(input_set)\n",
    "\n",
    "# Step 3: Print the original set and the converted tuple\n",
    "print(\"Original set:\", input_set)\n",
    "print(\"Converted tuple:\", output_tuple)"
   ]
  },
  {
   "cell_type": "code",
   "execution_count": null,
   "id": "44315a56-cf61-49ea-8f83-13208ccdf798",
   "metadata": {},
   "outputs": [],
   "source": [
    "# 38. Find the maximum value in a set."
   ]
  },
  {
   "cell_type": "code",
   "execution_count": 22,
   "id": "985a3d71-a101-40ab-bf6d-16b6ae9dce88",
   "metadata": {},
   "outputs": [
    {
     "name": "stdout",
     "output_type": "stream",
     "text": [
      "Maximum value: 22\n"
     ]
    }
   ],
   "source": [
    "# Define a set with some values\n",
    "my_set = {15, 7, 22, 13, 8}\n",
    "\n",
    "# Initialize a variable to store the maximum value\n",
    "max_value = None\n",
    "\n",
    "# Iterate through each element in the set\n",
    "for num in my_set:\n",
    "    # Check if max_value is None (first iteration) or if the current number is greater than max_value\n",
    "    if max_value is None or num > max_value:\n",
    "        max_value = num  # Update max_value with the current number if it's greater\n",
    "\n",
    "# Print the maximum value\n",
    "print(\"Maximum value:\", max_value)"
   ]
  },
  {
   "cell_type": "code",
   "execution_count": null,
   "id": "6065e9d3-497f-4957-9e17-b7153ddd4d5c",
   "metadata": {},
   "outputs": [],
   "source": [
    " #39. Find the minimum value in a set."
   ]
  },
  {
   "cell_type": "code",
   "execution_count": 23,
   "id": "71af8302-3920-44d0-b290-39499bc54592",
   "metadata": {},
   "outputs": [
    {
     "name": "stdout",
     "output_type": "stream",
     "text": [
      "The minimum value in the set is: 4\n"
     ]
    }
   ],
   "source": [
    "# Create a sample set of numbers\n",
    "number_set = {15, 8, 23, 4, 42, 11}\n",
    "\n",
    "# Initialize a variable to store the minimum value\n",
    "min_value = None\n",
    "\n",
    "# Iterate through each element in the set\n",
    "for num in number_set:\n",
    "    # Check if min_value is None (first iteration) or if num is smaller than the current min_value\n",
    "    if min_value is None or num < min_value:\n",
    "        # Update min_value to the current num since it's smaller\n",
    "        min_value = num\n",
    "\n",
    "# Print the minimum value found in the set\n",
    "print(\"The minimum value in the set is:\", min_value)"
   ]
  },
  {
   "cell_type": "code",
   "execution_count": null,
   "id": "b5324b81-44fb-4167-bb38-c8a9a1d48bf2",
   "metadata": {},
   "outputs": [],
   "source": [
    "#40. Create a set from user input."
   ]
  },
  {
   "cell_type": "code",
   "execution_count": 24,
   "id": "c8d35db7-a907-448a-8ea1-fe4bab66dafe",
   "metadata": {},
   "outputs": [
    {
     "name": "stdout",
     "output_type": "stream",
     "text": [
      "Enter elements for the set (type 'done' to finish):\n"
     ]
    },
    {
     "name": "stdin",
     "output_type": "stream",
     "text": [
      ">  1,t,5,6,\n",
      ">  done\n"
     ]
    },
    {
     "name": "stdout",
     "output_type": "stream",
     "text": [
      "Final set: {'1,t,5,6,'}\n"
     ]
    }
   ],
   "source": [
    "# Step 1: Initialize an empty set\n",
    "user_set = set()\n",
    "\n",
    "# Step 2: Get input from the user\n",
    "print(\"Enter elements for the set (type 'done' to finish):\")\n",
    "while True:\n",
    "    user_input = input(\"> \")  # Get input from the user\n",
    "\n",
    "    if user_input.lower() == 'done':\n",
    "        break  # Exit the loop if the user enters 'done'\n",
    "\n",
    "    # Step 3: Add the user input to the set\n",
    "    user_set.add(user_input)\n",
    "\n",
    "# Step 4: Display the final set created from user input\n",
    "print(\"Final set:\", user_set)"
   ]
  },
  {
   "cell_type": "code",
   "execution_count": null,
   "id": "f29462f7-4717-4c52-b781-c30d0dd8b431",
   "metadata": {},
   "outputs": [],
   "source": [
    " #41. Check if the intersection of two sets is empty."
   ]
  },
  {
   "cell_type": "code",
   "execution_count": 25,
   "id": "a73ee278-5dda-4793-9c14-dbc52ffff7c1",
   "metadata": {},
   "outputs": [
    {
     "name": "stdout",
     "output_type": "stream",
     "text": [
      "The intersection of the two sets is not empty.\n"
     ]
    }
   ],
   "source": [
    "# Step 1: Define two sets\n",
    "set1 = {1, 2, 3, 4, 5}\n",
    "set2 = {4, 5, 6, 7, 8}\n",
    "\n",
    "# Step 2: Find the intersection of the two sets using the `intersection()` method\n",
    "intersection_result = set1.intersection(set2)\n",
    "\n",
    "# Step 3: Check if the intersection result is empty\n",
    "if not intersection_result:\n",
    "    print(\"The intersection of the two sets is empty.\")\n",
    "else:\n",
    "    print(\"The intersection of the two sets is not empty.\")"
   ]
  },
  {
   "cell_type": "code",
   "execution_count": null,
   "id": "9eef95d2-ef9f-45b0-8721-92cb10f608e6",
   "metadata": {},
   "outputs": [],
   "source": [
    "# 42. Create a set of the first 5 Fibonacci numbers."
   ]
  },
  {
   "cell_type": "code",
   "execution_count": 26,
   "id": "d9b97999-4843-4803-af51-e3531f2fb9d9",
   "metadata": {},
   "outputs": [
    {
     "name": "stdout",
     "output_type": "stream",
     "text": [
      "Set of the first 5 Fibonacci numbers: {0, 1, 2, 3, 5}\n"
     ]
    }
   ],
   "source": [
    "# Create a set to store the first 5 Fibonacci numbers\n",
    "fibonacci_set = set()\n",
    "\n",
    "# Initialize the first two Fibonacci numbers\n",
    "a, b = 0, 1\n",
    "\n",
    "# Loop to generate the first 5 Fibonacci numbers\n",
    "for _ in range(6):\n",
    "    # Add the current Fibonacci number to the set\n",
    "    fibonacci_set.add(a)\n",
    "\n",
    "    # Calculate the next Fibonacci number\n",
    "    a, b = b, a + b\n",
    "\n",
    "# Print the set of Fibonacci numbers\n",
    "print(\"Set of the first 5 Fibonacci numbers:\", fibonacci_set)"
   ]
  },
  {
   "cell_type": "code",
   "execution_count": null,
   "id": "c14ae1de-5b83-479e-a009-3d5790f3c529",
   "metadata": {},
   "outputs": [],
   "source": [
    " #43. Remove duplicates from a list using sets."
   ]
  },
  {
   "cell_type": "code",
   "execution_count": 27,
   "id": "24d20c8a-ab17-4d8b-a869-4f4bd641c7c5",
   "metadata": {},
   "outputs": [
    {
     "name": "stdout",
     "output_type": "stream",
     "text": [
      "Original List: [2, 4, 6, 8, 4, 10, 6, 12, 14, 8]\n",
      "List with Duplicates Removed: [2, 4, 6, 8, 10, 12, 14]\n"
     ]
    }
   ],
   "source": [
    "# Step 1: Define a list with duplicates\n",
    "original_list = [2, 4, 6, 8, 4, 10, 6, 12, 14, 8]\n",
    "\n",
    "# Step 2: Convert the list to a set\n",
    "unique_set = set(original_list)\n",
    "# Now, 'unique_set' contains only unique elements from 'original_list'\n",
    "\n",
    "# Step 3: Convert the set back to a list\n",
    "unique_list = list(unique_set)\n",
    "# Now, 'unique_list' is a list containing only unique elements\n",
    "\n",
    "# Step 4: Print the original list and the list with duplicates removed\n",
    "print(\"Original List:\", original_list)\n",
    "print(\"List with Duplicates Removed:\", unique_list)"
   ]
  },
  {
   "cell_type": "code",
   "execution_count": null,
   "id": "4d6fb525-74ab-4df9-9fd5-d5cd8b566ebd",
   "metadata": {},
   "outputs": [],
   "source": [
    " #44. Check if two sets have the same elements, regardless of their count."
   ]
  },
  {
   "cell_type": "code",
   "execution_count": 28,
   "id": "5cc57689-8e94-4b04-a071-389e36045edb",
   "metadata": {},
   "outputs": [
    {
     "name": "stdout",
     "output_type": "stream",
     "text": [
      "The sets have the same elements.\n"
     ]
    }
   ],
   "source": [
    "def have_same_elements(set1, set2):\n",
    "    # Convert the sets to lists and sort them\n",
    "    sorted_list1 = sorted(list(set1))\n",
    "    sorted_list2 = sorted(list(set2))\n",
    "\n",
    "    # Compare the sorted lists to check if they are equal\n",
    "    return sorted_list1 == sorted_list2\n",
    "\n",
    "# Example sets\n",
    "set1 = {1, 2, 3, 2, 1}\n",
    "set2 = {3, 1, 2}\n",
    "\n",
    "# Check if the sets have the same elements\n",
    "result = have_same_elements(set1, set2)\n",
    "\n",
    "# Print the result\n",
    "if result:\n",
    "    print(\"The sets have the same elements.\")\n",
    "else:\n",
    "    print(\"The sets do not have the same elements.\")"
   ]
  },
  {
   "cell_type": "code",
   "execution_count": null,
   "id": "14f5d63b-f768-461a-a767-4f6f2a74d2e1",
   "metadata": {},
   "outputs": [],
   "source": [
    " #45. Create a set of the first `n` powers of 2."
   ]
  },
  {
   "cell_type": "code",
   "execution_count": 29,
   "id": "86719499-b2f6-4e80-9dd3-9e2592bf3e16",
   "metadata": {},
   "outputs": [
    {
     "name": "stdout",
     "output_type": "stream",
     "text": [
      "{1, 2, 4, 8, 16}\n"
     ]
    }
   ],
   "source": [
    "def generate_powers_of_2(n):\n",
    "    # Initialize an empty set to store the powers of 2\n",
    "    powers_of_2 = set()\n",
    "\n",
    "    # Loop from 0 to n-1\n",
    "    for i in range(n):\n",
    "        # Calculate the current power of 2 using the exponentiation operator **\n",
    "        power = 2 ** i\n",
    "\n",
    "        # Add the current power of 2 to the set\n",
    "        powers_of_2.add(power)\n",
    "\n",
    "    # Return the set of powers of 2\n",
    "    return powers_of_2\n",
    "\n",
    "# Define the value of n\n",
    "n = 5\n",
    "\n",
    "# Call the function to generate the set of powers of 2\n",
    "powers_set = generate_powers_of_2(n)\n",
    "\n",
    "# Print the resulting set\n",
    "print(powers_set)"
   ]
  },
  {
   "cell_type": "code",
   "execution_count": null,
   "id": "f3fd6edb-84c5-45e0-92e4-ea3428da8402",
   "metadata": {},
   "outputs": [],
   "source": [
    "# 46. Find the common elements between a set and a list."
   ]
  },
  {
   "cell_type": "code",
   "execution_count": 30,
   "id": "321e333d-1357-4584-a65c-751cfaa7b23a",
   "metadata": {},
   "outputs": [
    {
     "name": "stdout",
     "output_type": "stream",
     "text": [
      "Common elements: [7, 9, 12]\n"
     ]
    }
   ],
   "source": [
    "# Step 1: Define a set and a list\n",
    "my_set = {3, 7, 9, 12, 15}\n",
    "my_list = [7, 12, 5, 9]\n",
    "\n",
    "# Step 2: Convert the list to a set for efficient comparison\n",
    "list_to_set = set(my_list)\n",
    "\n",
    "# Step 3: Initialize an empty list to store common elements\n",
    "common_elements = []\n",
    "\n",
    "# Step 4: Iterate through the elements in the set\n",
    "for element in my_set:\n",
    "    # Step 5: Check if the element is present in the converted set (list_to_set)\n",
    "    if element in list_to_set:\n",
    "        # Step 6: If the element is present in both the set and the list, add it to the common_elements list\n",
    "        common_elements.append(element)\n",
    "\n",
    "# Step 7: Print the common elements\n",
    "print(\"Common elements:\", common_elements)"
   ]
  },
  {
   "cell_type": "code",
   "execution_count": null,
   "id": "b0fb1751-4c5c-4288-956d-a451a4b6a43c",
   "metadata": {},
   "outputs": [],
   "source": [
    " #47. Create a set of the first `n` triangular numbers."
   ]
  },
  {
   "cell_type": "code",
   "execution_count": 31,
   "id": "4e43543a-8a9d-4a2e-959e-38bff77faafe",
   "metadata": {},
   "outputs": [
    {
     "name": "stdin",
     "output_type": "stream",
     "text": [
      "Enter the value of n:  4\n"
     ]
    },
    {
     "name": "stdout",
     "output_type": "stream",
     "text": [
      "The set of the first 4 triangular numbers is: {1, 10, 3, 6}\n"
     ]
    }
   ],
   "source": [
    "def generate_triangular_numbers(n):\n",
    "    triangular_numbers = set()  # Create an empty set to store the triangular numbers\n",
    "    for i in range(1, n + 1):\n",
    "        triangular_number = i * (i + 1) // 2  # Calculate the ith triangular number using the formula\n",
    "        triangular_numbers.add(triangular_number)  # Add the calculated triangular number to the set\n",
    "    return triangular_numbers\n",
    "\n",
    "# Input the value of 'n'\n",
    "n = int(input(\"Enter the value of n: \"))\n",
    "\n",
    "# Call the function to generate the set of first 'n' triangular numbers\n",
    "triangular_set = generate_triangular_numbers(n)\n",
    "\n",
    "# Display the set of triangular numbers\n",
    "print(f\"The set of the first {n} triangular numbers is:\", triangular_set)"
   ]
  },
  {
   "cell_type": "code",
   "execution_count": null,
   "id": "5a00ee52-bf45-4d9d-9e63-2f2d6d481435",
   "metadata": {},
   "outputs": [],
   "source": [
    " #48. Check if a set contains another set as a subset."
   ]
  },
  {
   "cell_type": "code",
   "execution_count": 32,
   "id": "a544f3ab-96d1-4cf8-96e3-ddbff5973588",
   "metadata": {},
   "outputs": [
    {
     "name": "stdout",
     "output_type": "stream",
     "text": [
      "set2 is a subset of set1\n"
     ]
    }
   ],
   "source": [
    "# Define two sets\n",
    "set1 = {1, 2, 3, 4, 5}\n",
    "set2 = {3, 4}\n",
    "\n",
    "# Check if set2 is a subset of set1\n",
    "is_subset = set2.issubset(set1)\n",
    "\n",
    "# Print the result\n",
    "if is_subset:\n",
    "    print(\"set2 is a subset of set1\")\n",
    "else:\n",
    "    print(\"set2 is not a subset of set1\")"
   ]
  },
  {
   "cell_type": "code",
   "execution_count": null,
   "id": "0bb87410-1eb4-48f7-9b44-b0429237d927",
   "metadata": {},
   "outputs": [],
   "source": [
    " #49. Create a set of alternating 1s and 0s of length `n`."
   ]
  },
  {
   "cell_type": "code",
   "execution_count": 33,
   "id": "32331aab-2b15-42b3-8c7c-6b711dc0ceba",
   "metadata": {},
   "outputs": [
    {
     "name": "stdout",
     "output_type": "stream",
     "text": [
      "{0, 1}\n"
     ]
    }
   ],
   "source": [
    "def create_alternating_set(n):\n",
    "    # Initialize an empty set to store the alternating sequence.\n",
    "    alternating_set = set()\n",
    "\n",
    "    # Loop to generate alternating 1s and 0s.\n",
    "    for i in range(n):\n",
    "        # Alternate between adding 1 and 0 to the set based on whether i is even or odd.\n",
    "        if i % 2 == 0:\n",
    "            alternating_set.add(1)  # Add 1 if i is even.\n",
    "        else:\n",
    "            alternating_set.add(0)  # Add 0 if i is odd.\n",
    "\n",
    "    return alternating_set\n",
    "\n",
    "# Define the desired length of the alternating set.\n",
    "length_n = 10\n",
    "\n",
    "# Call the function to create the alternating set of length 'length_n'.\n",
    "result = create_alternating_set(length_n)\n",
    "\n",
    "# Print the resulting set.\n",
    "print(result)"
   ]
  },
  {
   "cell_type": "code",
   "execution_count": null,
   "id": "c234d700-4e75-4729-ab0b-a816f3609389",
   "metadata": {},
   "outputs": [],
   "source": [
    "#50. Merge multiple sets into one."
   ]
  },
  {
   "cell_type": "code",
   "execution_count": 34,
   "id": "52da3159-a741-4b1f-a23c-f81707f6e1b0",
   "metadata": {},
   "outputs": [
    {
     "name": "stdout",
     "output_type": "stream",
     "text": [
      "Merged Set: {1, 2, 3, 4, 5, 6, 7}\n"
     ]
    }
   ],
   "source": [
    "# Step 1: Create multiple sets\n",
    "set1 = {1, 2, 3}\n",
    "set2 = {3, 4, 5}\n",
    "set3 = {5, 6, 7}\n",
    "\n",
    "# Step 2: Use the union() method to merge sets\n",
    "merged_set = set1.union(set2, set3)\n",
    "\n",
    "# Alternatively, you can use the | operator\n",
    "# merged_set = set1 | set2 | set3\n",
    "\n",
    "# Step 3: Print the merged set\n",
    "print(\"Merged Set:\", merged_set)"
   ]
  },
  {
   "cell_type": "code",
   "execution_count": null,
   "id": "1dc90219-2c51-4b77-86fa-ed38cc34d44a",
   "metadata": {},
   "outputs": [],
   "source": []
  }
 ],
 "metadata": {
  "kernelspec": {
   "display_name": "Python 3 (ipykernel)",
   "language": "python",
   "name": "python3"
  },
  "language_info": {
   "codemirror_mode": {
    "name": "ipython",
    "version": 3
   },
   "file_extension": ".py",
   "mimetype": "text/x-python",
   "name": "python",
   "nbconvert_exporter": "python",
   "pygments_lexer": "ipython3",
   "version": "3.13.0"
  }
 },
 "nbformat": 4,
 "nbformat_minor": 5
}
