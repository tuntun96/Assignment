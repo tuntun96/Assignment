{
 "cells": [
  {
   "cell_type": "code",
   "execution_count": null,
   "id": "d1056336-93de-48b0-a41d-858656f74337",
   "metadata": {},
   "outputs": [],
   "source": [
    " #1. Write a Python program to check if a given number is positive or negative. "
   ]
  },
  {
   "cell_type": "code",
   "execution_count": 6,
   "id": "d489d9fd-711d-456a-a6e5-0f682e2080d3",
   "metadata": {},
   "outputs": [
    {
     "name": "stdin",
     "output_type": "stream",
     "text": [
      "Enter Number -1\n"
     ]
    },
    {
     "name": "stdout",
     "output_type": "stream",
     "text": [
      "Entered Number -1 is negative.\n"
     ]
    }
   ],
   "source": [
    "n = int(input(\"Enter Number\"))\n",
    "\n",
    "if n >= 0 :\n",
    "    print(f\" Entered number {n} is Positive.\")\n",
    "else:\n",
    "    print(f\"Entered Number {n} is negative.\")"
   ]
  },
  {
   "cell_type": "code",
   "execution_count": null,
   "id": "de30cc8c-adc4-41f5-8b39-30834c999d28",
   "metadata": {},
   "outputs": [],
   "source": [
    "#2. Create a program that determines if a person is eligible to vote based on their age. "
   ]
  },
  {
   "cell_type": "code",
   "execution_count": 9,
   "id": "c69c70bc-cab8-416a-abb2-c7550ea394cf",
   "metadata": {},
   "outputs": [
    {
     "name": "stdin",
     "output_type": "stream",
     "text": [
      "Enter your age 19\n"
     ]
    },
    {
     "name": "stdout",
     "output_type": "stream",
     "text": [
      "You are eligible for vote\n"
     ]
    }
   ],
   "source": [
    "age = int(input(\"Enter your age\"))\n",
    "\n",
    "if age > 18:\n",
    "    print(\"You are eligible for vote\")\n",
    "else: \n",
    "    print(\"Your age is below 18 you are not eligible for vote\")"
   ]
  },
  {
   "cell_type": "code",
   "execution_count": null,
   "id": "77a79730-5b76-4862-8999-d6480cc9c754",
   "metadata": {},
   "outputs": [],
   "source": [
    "#3. Develop a program to find the maximum of two numbers using if-else statements."
   ]
  },
  {
   "cell_type": "code",
   "execution_count": 21,
   "id": "78be2719-8b75-4cf5-a4a1-0a0038f9b83b",
   "metadata": {},
   "outputs": [
    {
     "name": "stdin",
     "output_type": "stream",
     "text": [
      "Enter first number 7\n",
      "Enter second number 60\n"
     ]
    },
    {
     "name": "stdout",
     "output_type": "stream",
     "text": [
      " Maximum number is 60.\n"
     ]
    }
   ],
   "source": [
    "n1 = int(input(\"Enter first number\"))\n",
    "n2 = int(input(\"Enter second number\"))\n",
    "\n",
    "if n1 > n2:\n",
    "    print(f\" Maximum number is {n1}\")\n",
    "    \n",
    "elif n1 == n2:\n",
    "    print(\"Can't find entered number is same pls entered 2 different\") \n",
    "    \n",
    "else:\n",
    "    print(f\" Maximum number is {n2}.\")  "
   ]
  },
  {
   "cell_type": "code",
   "execution_count": null,
   "id": "6f01f36a-c6e8-4980-a003-1c61532cedf5",
   "metadata": {},
   "outputs": [],
   "source": [
    "# 4. Write a Python script to classify a given year as a leap year or not. "
   ]
  },
  {
   "cell_type": "code",
   "execution_count": 9,
   "id": "e3e78c75-50d1-4332-a2a4-1c922b25558e",
   "metadata": {},
   "outputs": [
    {
     "name": "stdin",
     "output_type": "stream",
     "text": [
      "Enter year 2028\n"
     ]
    },
    {
     "name": "stdout",
     "output_type": "stream",
     "text": [
      "It's a leep year\n"
     ]
    }
   ],
   "source": [
    "y = int(input(\"Enter year\"))\n",
    "\n",
    "if ((y % 400 == 0) or \n",
    "    (y % 100 != 0) and\n",
    "    ( y % 4 ==0)) :\n",
    "    print(\"It's a leep year\")\n",
    "else:\n",
    "    print(\"It's not a leap year\")\n",
    "\n"
   ]
  },
  {
   "cell_type": "code",
   "execution_count": null,
   "id": "f01c6b66-889f-4dd1-b448-f8ad485d16d2",
   "metadata": {},
   "outputs": [],
   "source": [
    "#5. Create a program that checks whether a character is a vowel or a consonant."
   ]
  },
  {
   "cell_type": "code",
   "execution_count": 11,
   "id": "45c4627a-407c-4195-ba01-33a2f8a13091",
   "metadata": {},
   "outputs": [
    {
     "name": "stdin",
     "output_type": "stream",
     "text": [
      "Enter a character $\n"
     ]
    },
    {
     "name": "stdout",
     "output_type": "stream",
     "text": [
      "entered character $ is a consonant\n"
     ]
    }
   ],
   "source": [
    "s = input(\"Enter a character\")\n",
    "v = \"aeiou\"\n",
    "s_char\n",
    "s = s.lower()\n",
    "if s in v:\n",
    "    print(f\"entered character {s} is a vowel.\")\n",
    "\n",
    "else:\n",
    "    print(f\"entered character {s} is a consonant\")"
   ]
  },
  {
   "cell_type": "code",
   "execution_count": null,
   "id": "b49d84df-a6c7-43cd-bedf-50dfdae22aa2",
   "metadata": {},
   "outputs": [],
   "source": [
    " #6. Implement a program to determine whether a given number is even or odd."
   ]
  },
  {
   "cell_type": "code",
   "execution_count": 14,
   "id": "0e33a14d-b4fd-4e37-9b7c-9df0d5008752",
   "metadata": {},
   "outputs": [
    {
     "name": "stdin",
     "output_type": "stream",
     "text": [
      "Enter a number 0\n"
     ]
    },
    {
     "name": "stdout",
     "output_type": "stream",
     "text": [
      "Entered number 0 is a even number\n"
     ]
    }
   ],
   "source": [
    "n = int(input(\"Enter a number\"))\n",
    "\n",
    "if n%2 == 0:\n",
    "    print(f\"Entered number {n} is a even number\")\n",
    "else:\n",
    "     print(f\"Entered number {n} is a odd number\")\n",
    "    "
   ]
  },
  {
   "cell_type": "code",
   "execution_count": null,
   "id": "eb39006a-40ca-4f0c-b13b-f4a11fb3ea9f",
   "metadata": {},
   "outputs": [],
   "source": [
    " #7. Write a Python function to calculate the absolute value of a number without using the `abs()` function."
   ]
  },
  {
   "cell_type": "code",
   "execution_count": 19,
   "id": "1f71a3a9-7f3d-4a5b-b8a0-c1d60f618283",
   "metadata": {},
   "outputs": [
    {
     "name": "stdin",
     "output_type": "stream",
     "text": [
      "Enter a number -5\n"
     ]
    },
    {
     "name": "stdout",
     "output_type": "stream",
     "text": [
      "The absolute value is  5\n"
     ]
    }
   ],
   "source": [
    "def abs_fun(n):\n",
    "    if n < 0:\n",
    "        return -n\n",
    "    else:\n",
    "        return n\n",
    "\n",
    "num = int(input(\"Enter a number\"))\n",
    "print(\"The absolute value is \", abs_fun(num))\n"
   ]
  },
  {
   "cell_type": "code",
   "execution_count": null,
   "id": "f8cf51a9-aa38-445c-b574-b43d24918510",
   "metadata": {},
   "outputs": [],
   "source": [
    " #8. Develop a program that determines the largest of three given numbers using if-else statements."
   ]
  },
  {
   "cell_type": "code",
   "execution_count": 17,
   "id": "471ca7cf-81aa-4538-a8a3-4a049ed3882e",
   "metadata": {},
   "outputs": [
    {
     "name": "stdin",
     "output_type": "stream",
     "text": [
      "Enter number 6\n",
      "Enter number 4\n",
      "Enter number 4\n"
     ]
    },
    {
     "name": "stdout",
     "output_type": "stream",
     "text": [
      "The largest number is 6\n"
     ]
    }
   ],
   "source": [
    "\n",
    "def find_largest(n1,n2,n3):\n",
    "    if n1>= n2 and n1>= n3:\n",
    "        return n1\n",
    "    elif n2 >= n1 and n2>= n3 :\n",
    "        return n2\n",
    "    else:\n",
    "        return n3\n",
    "\n",
    "n1 = int(input(\"Enter number\"))\n",
    "n2 = int(input(\"Enter number\"))\n",
    "n3 = int(input(\"Enter number\"))\n",
    "\n",
    "\n",
    "largest = find_largest(n1,n2,n3)\n",
    "\n",
    "print(\"The largest number is\", largest)\n"
   ]
  },
  {
   "cell_type": "code",
   "execution_count": null,
   "id": "be1c93c8-9d10-4abc-b506-61f826d5c359",
   "metadata": {},
   "outputs": [],
   "source": [
    " #9. Create a program that checks if a given string is a palindrome. "
   ]
  },
  {
   "cell_type": "code",
   "execution_count": 22,
   "id": "79e5ece6-b98d-4193-8bdf-cdd8517eaf98",
   "metadata": {},
   "outputs": [
    {
     "name": "stdin",
     "output_type": "stream",
     "text": [
      "Enter a string rar\n"
     ]
    },
    {
     "name": "stdout",
     "output_type": "stream",
     "text": [
      "It's a plindrome\n"
     ]
    }
   ],
   "source": [
    "s = input(\"Enter a string\")\n",
    "\n",
    "if s == s[::-1]:\n",
    "    print(\"It's a plindrome\")\n",
    "else:\n",
    "    print(\"It's not a palindrome\")"
   ]
  },
  {
   "cell_type": "code",
   "execution_count": null,
   "id": "5b3c154e-bd03-40a5-8087-bb190308096d",
   "metadata": {},
   "outputs": [],
   "source": [
    "#10. Write a Python program to calculate the grade based on a student's score"
   ]
  },
  {
   "cell_type": "code",
   "execution_count": 23,
   "id": "19914a65-5415-4da4-aaf4-207b4cf29d4e",
   "metadata": {},
   "outputs": [
    {
     "name": "stdin",
     "output_type": "stream",
     "text": [
      "Enter your marks 50\n"
     ]
    },
    {
     "name": "stdout",
     "output_type": "stream",
     "text": [
      "Grade C\n"
     ]
    }
   ],
   "source": [
    "marks = int(input(\"Enter your marks\"))\n",
    "\n",
    "if marks >= 90 and marks < 100:\n",
    "    print(\"Grade A\")\n",
    "    \n",
    "elif marks < 90 and marks >= 75:\n",
    "    print(\"Grade B\")\n",
    "\n",
    "elif marks < 75 and marks >= 50:\n",
    "    print(\"Grade C\")\n",
    "\n",
    "elif marks < 50 and marks >= 30:\n",
    "    print(\"Grade D\")\n",
    "else:\n",
    "    print(\"GradeF\")\n",
    "    "
   ]
  },
  {
   "cell_type": "code",
   "execution_count": null,
   "id": "b158180f-3313-46c1-aa16-df2af28101b9",
   "metadata": {},
   "outputs": [],
   "source": [
    "#11. Write a program to find the largest among three numbers using nested if-else statements."
   ]
  },
  {
   "cell_type": "code",
   "execution_count": 24,
   "id": "db34b69a-d4f0-4f9d-8bfa-40781bd8979d",
   "metadata": {},
   "outputs": [
    {
     "name": "stdin",
     "output_type": "stream",
     "text": [
      "Enter number 4\n",
      "Enter number 4\n",
      "Enter number 6\n"
     ]
    },
    {
     "name": "stdout",
     "output_type": "stream",
     "text": [
      "The largest number is 6\n"
     ]
    }
   ],
   "source": [
    "def find_largest(n1,n2,n3):\n",
    "    if n1>= n2 and n1>= n3:\n",
    "        return n1\n",
    "    elif n2 >= n1 and n2>= n3 :\n",
    "        return n2\n",
    "    else:\n",
    "        return n3\n",
    "\n",
    "n1 = int(input(\"Enter number\"))\n",
    "n2 = int(input(\"Enter number\"))\n",
    "n3 = int(input(\"Enter number\"))\n",
    "\n",
    "\n",
    "largest = find_largest(n1,n2,n3)\n",
    "\n",
    "print(\"The largest number is\", largest)\n"
   ]
  },
  {
   "cell_type": "code",
   "execution_count": null,
   "id": "f9f98c79-b7ac-463e-b5c2-d5d119defe7a",
   "metadata": {},
   "outputs": [],
   "source": [
    "#12. Implement a program to determine if a triangle is equilateral, isosceles, or scalene."
   ]
  },
  {
   "cell_type": "code",
   "execution_count": 29,
   "id": "fc84015c-c490-4c05-a86e-d4b8bbf51de6",
   "metadata": {},
   "outputs": [
    {
     "name": "stdin",
     "output_type": "stream",
     "text": [
      "Enter a triangle side -A 5\n",
      "Enter a triangle side -B 5\n",
      "Enter a triangle side -C 5\n"
     ]
    },
    {
     "name": "stdout",
     "output_type": "stream",
     "text": [
      "It's a equilateral triangle\n"
     ]
    }
   ],
   "source": [
    "A = int(input(\"Enter a triangle side -A\"))\n",
    "B = int(input(\"Enter a triangle side -B\"))\n",
    "C = int(input(\"Enter a triangle side -C\"))\n",
    "\n",
    "if A == B == C:\n",
    "    print(\"It's a equilateral triangle\")\n",
    "elif A == B or B == C or C == A:\n",
    "    print(\"It's a Isosceles triangle\")\n",
    "else:\n",
    "    print(\"It's a scalene triangle\")"
   ]
  },
  {
   "cell_type": "code",
   "execution_count": null,
   "id": "6613ad89-b46b-4133-80bb-ab0b6bb46e6e",
   "metadata": {},
   "outputs": [],
   "source": [
    " #13. Develop a program that checks if a year is a leap year and also if it is a century year."
   ]
  },
  {
   "cell_type": "code",
   "execution_count": 33,
   "id": "ca05f726-c503-4ede-9ceb-5b9cd0ed84a8",
   "metadata": {},
   "outputs": [
    {
     "name": "stdin",
     "output_type": "stream",
     "text": [
      "Enter a year 2024\n"
     ]
    },
    {
     "name": "stdout",
     "output_type": "stream",
     "text": [
      "year 2024 is not a century year\n",
      "Year 2024 is leap year\n"
     ]
    }
   ],
   "source": [
    "def check_year(year):\n",
    "    if year % 100 == 0:\n",
    "        is_century = True\n",
    "        \n",
    "        if year % 400 == 0:\n",
    "            is_leap_year = True\n",
    "        else:\n",
    "            is_leap_year = False\n",
    "    else:\n",
    "        is_century = False\n",
    "        \n",
    "        if year % 4 == 0:\n",
    "            is_leap_year = True\n",
    "        else:\n",
    "            is_leap_year =  False\n",
    "\n",
    "    \n",
    "    if is_century :\n",
    "        print(f'Year {year} is a century year.')\n",
    "        \n",
    "    else:\n",
    "        print(f\"year {year} is not a century year\")\n",
    "\n",
    "\n",
    "    if is_leap_year:\n",
    "        print(f\"Year {year} is leap year\")\n",
    "    else:\n",
    "        print(f\"year {year} is not a leap year\")\n",
    "\n",
    "year = int(input(\"Enter a year\"))\n",
    "\n",
    "check_year(year)    "
   ]
  },
  {
   "cell_type": "code",
   "execution_count": null,
   "id": "7d2ffc7d-ce48-4251-8bcb-d71eb191ed34",
   "metadata": {},
   "outputs": [],
   "source": [
    " #14. Write a Python script to determine if a number is positive, negative, or zero."
   ]
  },
  {
   "cell_type": "code",
   "execution_count": 37,
   "id": "356b30b6-87bc-4ec9-86bb-0b93ebc8f2a1",
   "metadata": {},
   "outputs": [
    {
     "name": "stdin",
     "output_type": "stream",
     "text": [
      "Enter a number -4\n"
     ]
    },
    {
     "name": "stdout",
     "output_type": "stream",
     "text": [
      "It's a negative Number\n"
     ]
    }
   ],
   "source": [
    "n = int(input(\"Enter a number\"))\n",
    "\n",
    "if n == 0:\n",
    "    print(\"It's a Zero\")\n",
    "elif n > 0:\n",
    "    print(\"It's a positive number\")\n",
    "else :\n",
    "    print(\"It's a negative Number\")       "
   ]
  },
  {
   "cell_type": "code",
   "execution_count": null,
   "id": "33c661d2-26c7-4d34-8088-987c22cb50a7",
   "metadata": {},
   "outputs": [],
   "source": [
    "#15. Create a program to check if a person is a teenager (between 13 and 19 years old)."
   ]
  },
  {
   "cell_type": "code",
   "execution_count": 40,
   "id": "873aa9bc-3018-4733-94e8-186ff4491f7f",
   "metadata": {},
   "outputs": [
    {
     "name": "stdin",
     "output_type": "stream",
     "text": [
      "Enter your age 16\n"
     ]
    },
    {
     "name": "stdout",
     "output_type": "stream",
     "text": [
      "You are a teenager\n"
     ]
    }
   ],
   "source": [
    "y = int(input(\"Enter your age\"))\n",
    "\n",
    "if y >= 13 and  y <= 19:\n",
    "    print(\"You are a teenager\")\n",
    "else:\n",
    "    print(\"You are not in teenager age group\")"
   ]
  },
  {
   "cell_type": "code",
   "execution_count": null,
   "id": "946edbce-fe4a-4a29-9c08-d3576c6d6af9",
   "metadata": {},
   "outputs": [],
   "source": [
    " #16. Develop a program that determines the type of angle based on its measure (acute, obtuse, or right)."
   ]
  },
  {
   "cell_type": "code",
   "execution_count": 44,
   "id": "188f10e5-100d-43ee-89d7-b78d1721cf5a",
   "metadata": {},
   "outputs": [
    {
     "name": "stdin",
     "output_type": "stream",
     "text": [
      "Enter angle 91\n"
     ]
    },
    {
     "name": "stdout",
     "output_type": "stream",
     "text": [
      "It's a obtuse angle\n"
     ]
    }
   ],
   "source": [
    "a = int(input(\"Enter angle\"))\n",
    "\n",
    "if a > 0 and a < 90:\n",
    "    print(\"It's a acute angle\")\n",
    "elif a > 90 and a < 180:\n",
    "    print(\"It's a obtuse angle\")\n",
    "elif a == 90:\n",
    "    print(\"It's a right angle\")\n",
    "\n",
    "else:\n",
    "    print(\"Invalid classification for this case\")"
   ]
  },
  {
   "cell_type": "code",
   "execution_count": null,
   "id": "223164e4-8ce9-4644-9bdd-5d5406da913d",
   "metadata": {},
   "outputs": [],
   "source": [
    "# 17. Write a Python program to calculate the roots of a quadratic equation. "
   ]
  },
  {
   "cell_type": "code",
   "execution_count": 45,
   "id": "0a2e8ca6-b856-45fe-9363-e269c0fd7a7e",
   "metadata": {},
   "outputs": [
    {
     "name": "stdin",
     "output_type": "stream",
     "text": [
      "Enter the coefficient a:  1\n",
      "Enter the coefficient b:  2\n",
      "Enter the coefficient c:  4\n"
     ]
    },
    {
     "name": "stdout",
     "output_type": "stream",
     "text": [
      "The roots of the quadratic equation are: (-1+1.7320508075688772j) and (-1-1.7320508075688772j)\n"
     ]
    }
   ],
   "source": [
    "import cmath  # cmath is used to handle complex numbers\n",
    "\n",
    "# Function to calculate the roots of the quadratic equation\n",
    "def calculate_roots(a, b, c):\n",
    "    # Calculate the discriminant\n",
    "    discriminant = b**2 - 4*a*c\n",
    "    \n",
    "    # Calculate two solutions using the quadratic formula\n",
    "    root1 = (-b + cmath.sqrt(discriminant)) / (2 * a)\n",
    "    root2 = (-b - cmath.sqrt(discriminant)) / (2 * a)\n",
    "    \n",
    "    return root1, root2\n",
    "\n",
    "# Input from the user\n",
    "a = float(input(\"Enter the coefficient a: \"))\n",
    "b = float(input(\"Enter the coefficient b: \"))\n",
    "c = float(input(\"Enter the coefficient c: \"))\n",
    "\n",
    "# Ensure that a is not zero\n",
    "if a == 0:\n",
    "    print(\"Coefficient 'a' cannot be zero in a quadratic equation.\")\n",
    "else:\n",
    "    # Calculate and display the roots\n",
    "    root1, root2 = calculate_roots(a, b, c)\n",
    "    \n",
    "    print(f\"The roots of the quadratic equation are: {root1} and {root2}\")\n"
   ]
  },
  {
   "cell_type": "code",
   "execution_count": null,
   "id": "837fd3ae-fba1-4ec7-94a1-135a9c5d35c1",
   "metadata": {},
   "outputs": [],
   "source": [
    "#18. Implement a program to determine the day of the week based on a user-provided number (1 for Monday, 2 for Tuesday, etc.). "
   ]
  },
  {
   "cell_type": "code",
   "execution_count": 47,
   "id": "296ba64e-fe74-426d-ae3f-d4d878668bbc",
   "metadata": {},
   "outputs": [
    {
     "name": "stdin",
     "output_type": "stream",
     "text": [
      "Enter number 1\n"
     ]
    },
    {
     "name": "stdout",
     "output_type": "stream",
     "text": [
      "Monday\n"
     ]
    }
   ],
   "source": [
    "n = int(input(\"Enter number\"))\n",
    "\n",
    "\n",
    "if n==1:\n",
    "    print(\"Monday\")\n",
    "elif n==2:\n",
    "    print(\"Tuesday\")\n",
    "elif n==3:\n",
    "    print(\"Wednesday\")\n",
    "elif n==4:\n",
    "    print(\"Thursday\")\n",
    "elif n==5:\n",
    "    print(\"Friday\")\n",
    "elif n==6 :\n",
    "    print(\"Saturday\")\n",
    "elif n == 7:\n",
    "    print(\"Sunday\")\n",
    "else:\n",
    "    print(\"It's not a valide number\")"
   ]
  },
  {
   "cell_type": "code",
   "execution_count": null,
   "id": "c6a71134-750a-43f8-a44f-7b9e0ca365f6",
   "metadata": {},
   "outputs": [],
   "source": [
    "#19. Create a program that determines if a year is a leap year and also if it is evenly divisible by 400. "
   ]
  },
  {
   "cell_type": "code",
   "execution_count": 54,
   "id": "e18177af-45f7-454b-818a-1037be242707",
   "metadata": {},
   "outputs": [
    {
     "name": "stdin",
     "output_type": "stream",
     "text": [
      "Enter a year 24\n"
     ]
    },
    {
     "name": "stdout",
     "output_type": "stream",
     "text": [
      "Year 24 ia a leap year\n",
      "Year 24 is not evenly divisible by 400.\n"
     ]
    }
   ],
   "source": [
    "def check_year(y):\n",
    "    if y % 4 == 0 and(y % 400 == 0 or y % 100 != 0):\n",
    "        print(f\"Year {y} ia a leap year\")\n",
    "    else:\n",
    "        print(f\"Year {y} is not a leap year\")\n",
    "\n",
    "    if y % 400 == 0:\n",
    "        print(f\" Year {y} is evenly divisible by 400.\")\n",
    "    else:\n",
    "        print(f\"Year {y} is not evenly divisible by 400.\")\n",
    "        \n",
    "year = int(input(\"Enter a year\"))\n",
    "check_year(year)      "
   ]
  },
  {
   "cell_type": "code",
   "execution_count": null,
   "id": "7349d795-dff3-4061-9585-90ab7cf82b61",
   "metadata": {},
   "outputs": [],
   "source": [
    "#20. Develop a program that checks if a given number is prime or not using nested if-else statements."
   ]
  },
  {
   "cell_type": "code",
   "execution_count": 76,
   "id": "0ca5eb0c-aac5-4d5b-9e3a-307fc0f09abe",
   "metadata": {},
   "outputs": [
    {
     "name": "stdin",
     "output_type": "stream",
     "text": [
      "Enter a number 9\n"
     ]
    },
    {
     "name": "stdout",
     "output_type": "stream",
     "text": [
      "Number 9 is a prime number\n"
     ]
    }
   ],
   "source": [
    "n = int(input(\"Enter a number\"))\n",
    "if n >= 2:\n",
    "    \n",
    "    if (n %2 != 0) or (n == 2):\n",
    "        print(f\"Number {n} is a prime number\")\n",
    "    else:\n",
    "         print(f\"Number {n} is not a prime number\")\n",
    "else:\n",
    "    print(f\"Number {n} is not a prime number\")"
   ]
  },
  {
   "cell_type": "code",
   "execution_count": null,
   "id": "11469dee-feb2-41f4-b44d-0b200bfdbf62",
   "metadata": {},
   "outputs": [],
   "source": [
    "#21. Write a Python program to assign grades based on different ranges of scores using elif statements."
   ]
  },
  {
   "cell_type": "code",
   "execution_count": 6,
   "id": "5c584b7f-c93b-454d-9af4-b60c62dcebeb",
   "metadata": {},
   "outputs": [
    {
     "name": "stdin",
     "output_type": "stream",
     "text": [
      "Enter your marks 100\n"
     ]
    },
    {
     "name": "stdout",
     "output_type": "stream",
     "text": [
      "Grade-A\n"
     ]
    }
   ],
   "source": [
    "def marks_assign(m):\n",
    "    if m >= 90 and m <= 100:\n",
    "        print(\"Grade-A\")\n",
    "    elif m < 90 and m >= 75:\n",
    "        print(\"grade-B\")\n",
    "    elif m < 75 and m >= 50:\n",
    "        print(\"Grade-C\")\n",
    "    elif m < 50 and m >= 30:\n",
    "        print(\"Grade-D\")\n",
    "    else:\n",
    "        (\"You are Failed\")\n",
    "\n",
    "marks = int(input(\"Enter your marks\"))\n",
    "\n",
    "marks_assign(marks)"
   ]
  },
  {
   "cell_type": "code",
   "execution_count": null,
   "id": "02c818ae-2956-4174-a0b6-43231dfb64f0",
   "metadata": {},
   "outputs": [],
   "source": [
    " #22. Implement a program to determine the type of a triangle based on its angles"
   ]
  },
  {
   "cell_type": "code",
   "execution_count": 10,
   "id": "947cf512-84e1-4a46-ae15-53dca16a3eaa",
   "metadata": {},
   "outputs": [
    {
     "name": "stdin",
     "output_type": "stream",
     "text": [
      "Enter a angle 110\n"
     ]
    },
    {
     "name": "stdout",
     "output_type": "stream",
     "text": [
      "Obtuse triangle\n"
     ]
    }
   ],
   "source": [
    "def check_angle(a):\n",
    "    if a > 0 and a < 90:\n",
    "        print(\"Acute Triangle\")\n",
    "    elif a == 90:\n",
    "        print(\"Right Aangle Trianle\")\n",
    "    elif a > 90 and a < 180:\n",
    "        print(\"Obtuse triangle\")\n",
    "    else:\n",
    "        print(\"It's not a trianle\")\n",
    "\n",
    "angle = int(input(\"Enter a angle\"))\n",
    "check_angle(angle)\n"
   ]
  },
  {
   "cell_type": "code",
   "execution_count": null,
   "id": "5ee59faa-ede4-4e15-a5de-8c763d3981ff",
   "metadata": {},
   "outputs": [],
   "source": [
    " #23. Develop a program to categorize a given person's BMI into underweight, normal, overweight, or obese using elif statements."
   ]
  },
  {
   "cell_type": "code",
   "execution_count": 23,
   "id": "38b6ba26-4dd2-4c7e-aafa-4bb8c2ecb423",
   "metadata": {},
   "outputs": [
    {
     "name": "stdin",
     "output_type": "stream",
     "text": [
      "Enter Your weight 77\n",
      "Enter Your height in cm 176\n"
     ]
    },
    {
     "name": "stdout",
     "output_type": "stream",
     "text": [
      "Normal Weight\n"
     ]
    }
   ],
   "source": [
    "w = int(input(\"Enter Your weight\"))\n",
    "h = int(input(\"Enter Your height in cm\"))\n",
    "h1 = h/100\n",
    "\n",
    "bmi = w/ h1**2\n",
    "\n",
    "if bmi < 18.5:\n",
    "    print(\"Underweight\")\n",
    "elif 18.5 <= bmi < 24.9:\n",
    "    print(\"Normal Weight\")\n",
    "elif 25 <= bmi <= 29.9:\n",
    "    print(\"Overweight\")\n",
    "else:\n",
    "    print(\"Obese\")"
   ]
  },
  {
   "cell_type": "code",
   "execution_count": null,
   "id": "5be975c4-e475-4ce5-83d5-58e7c05ee8e7",
   "metadata": {},
   "outputs": [],
   "source": [
    "# 24. Create a program that determines whether a given number is positive, negative, or zero using elif statements."
   ]
  },
  {
   "cell_type": "code",
   "execution_count": 24,
   "id": "41709d4c-ba4f-4d68-b7ad-55b3c29859fa",
   "metadata": {},
   "outputs": [
    {
     "name": "stdin",
     "output_type": "stream",
     "text": [
      "Enter a number -7\n"
     ]
    },
    {
     "name": "stdout",
     "output_type": "stream",
     "text": [
      "It's a negative Number\n"
     ]
    }
   ],
   "source": [
    "n = int(input(\"Enter a number\"))\n",
    "\n",
    "if n == 0:\n",
    "    print(\"It's a Zero\")\n",
    "elif n > 0:\n",
    "    print(\"It's a positive number\")\n",
    "else :\n",
    "    print(\"It's a negative Number\")     "
   ]
  },
  {
   "cell_type": "code",
   "execution_count": null,
   "id": "c71abdd9-56af-44a3-8f0e-7f221a1b919d",
   "metadata": {},
   "outputs": [],
   "source": [
    " #25. Write a Python script to determine the type of a character (uppercase, lowercase, or special) using elif statements."
   ]
  },
  {
   "cell_type": "code",
   "execution_count": 39,
   "id": "7ba958f5-a178-44d6-a8b3-b9322347c945",
   "metadata": {},
   "outputs": [
    {
     "name": "stdin",
     "output_type": "stream",
     "text": [
      "Enter a character !\n"
     ]
    },
    {
     "name": "stdout",
     "output_type": "stream",
     "text": [
      "Special\n"
     ]
    }
   ],
   "source": [
    "s = input(\"Enter a character\")\n",
    "\n",
    "sc = \"@!#$%&?:\"\n",
    "if s in sc:\n",
    "    print(\"Special\")\n",
    "elif s == s.lower():\n",
    "    print(\"Lowercase\")\n",
    "elif  s == s.upper():\n",
    "    print(\"UpperCase\")"
   ]
  },
  {
   "cell_type": "code",
   "execution_count": null,
   "id": "2cded7db-99f6-46f7-8511-cc9de35884b8",
   "metadata": {},
   "outputs": [],
   "source": [
    "# 26. Implement a program to calculate the discounted price based on different purchase amounts using elif statements."
   ]
  },
  {
   "cell_type": "code",
   "execution_count": 44,
   "id": "4908c5a8-98d1-4b44-9cce-d9607f9f9293",
   "metadata": {},
   "outputs": [
    {
     "name": "stdin",
     "output_type": "stream",
     "text": [
      "Enter the purchase amount:  1000\n"
     ]
    },
    {
     "name": "stdout",
     "output_type": "stream",
     "text": [
      "Original purchase amount: Rs 1000.00\n",
      "Discount applied: 20.0%\n",
      "Discounted price: Rs 800.00\n"
     ]
    }
   ],
   "source": [
    "purchase_amount = float(input(\"Enter the purchase amount: \"))\n",
    "\n",
    "if purchase_amount >= 1000:\n",
    "    discount = 0.20  # 20% discount for purchases of 1000 or more\n",
    "elif purchase_amount >= 500:\n",
    "    discount = 0.15  # 15% discount for purchases between 500 and 999\n",
    "elif purchase_amount >= 100:\n",
    "    discount = 0.10  # 10% discount for purchases between 100 and 499\n",
    "else:\n",
    "    discount = 0.0   # No discount for purchases below 100\n",
    "\n",
    "# Calculate the final price after applying the discount\n",
    "discounted_price = purchase_amount * (1 - discount)\n",
    "\n",
    "# Output the discounted price\n",
    "print(f\"Original purchase amount: Rs {purchase_amount:.2f}\")\n",
    "print(f\"Discount applied: {discount * 100}%\")\n",
    "print(f\"Discounted price: Rs {discounted_price:.2f}\")\n"
   ]
  },
  {
   "cell_type": "code",
   "execution_count": null,
   "id": "a170b061-3eed-4aa6-9753-065e54038ca6",
   "metadata": {},
   "outputs": [],
   "source": [
    "#27. Develop a program to calculate the electricity bill based on different consumption slabs using elif statements."
   ]
  },
  {
   "cell_type": "code",
   "execution_count": 69,
   "id": "675f6641-018a-4acd-9e1e-c87a8b0487aa",
   "metadata": {},
   "outputs": [
    {
     "name": "stdin",
     "output_type": "stream",
     "text": [
      "Enter Electricity Consuption 500\n"
     ]
    },
    {
     "name": "stdout",
     "output_type": "stream",
     "text": [
      "Electircity Consumption Unit(kWh) : 500.00\n",
      "Electircity Rate Per Unit :12\n",
      "Electircity Charges : 6000.00\n"
     ]
    }
   ],
   "source": [
    "cons = float(input(\"Enter Electricity Consuption\"))\n",
    "\n",
    "if cons < 100:\n",
    "    rate = 5\n",
    "elif cons < 200:\n",
    "    rate = 7\n",
    "elif cons < 300:\n",
    "    rate = 9\n",
    "elif cons < 400:\n",
    "    rate = 10\n",
    "else :\n",
    "    rate = 12\n",
    "\n",
    "elec_charge = rate* cons\n",
    "\n",
    "print(f\"Electircity Consumption Unit(kWh) :{cons : .2f}\")\n",
    "print(f\"Electircity Rate Per Unit :{rate }\")\n",
    "print(f\"Electircity Charges :{elec_charge: .2f}\")"
   ]
  },
  {
   "cell_type": "code",
   "execution_count": null,
   "id": "1aafd7bf-b44e-4c88-9675-d8412c11a39d",
   "metadata": {},
   "outputs": [],
   "source": [
    "#28. Create a program to determine the type of quadrilateral based on its angles and sides using elif statements."
   ]
  },
  {
   "cell_type": "code",
   "execution_count": 88,
   "id": "b76f3830-5324-4359-b77e-dab1d2fcb72c",
   "metadata": {},
   "outputs": [
    {
     "name": "stdin",
     "output_type": "stream",
     "text": [
      "Enter the length of side 1:  30\n",
      "Enter the length of side 2:  30\n",
      "Enter the length of side 3:  30\n",
      "Enter the length of side 4:  30\n",
      "Enter the measure of angle 1 (in degrees):  90\n",
      "Enter the measure of angle 2 (in degrees):  90\n",
      "Enter the measure of angle 3 (in degrees):  90\n",
      "Enter the measure of angle 4 (in degrees):  90\n"
     ]
    },
    {
     "name": "stdout",
     "output_type": "stream",
     "text": [
      "The quadrilateral is a Square.\n"
     ]
    }
   ],
   "source": [
    "# Input: angles and side lengths\n",
    "side1 = float(input(\"Enter the length of side 1: \"))\n",
    "side2 = float(input(\"Enter the length of side 2: \"))\n",
    "side3 = float(input(\"Enter the length of side 3: \"))\n",
    "side4 = float(input(\"Enter the length of side 4: \"))\n",
    "\n",
    "angle1 = float(input(\"Enter the measure of angle 1 (in degrees): \"))\n",
    "angle2 = float(input(\"Enter the measure of angle 2 (in degrees): \"))\n",
    "angle3 = float(input(\"Enter the measure of angle 3 (in degrees): \"))\n",
    "angle4 = float(input(\"Enter the measure of angle 4 (in degrees): \"))\n",
    "\n",
    "# Check if the sum of angles is 360 (required for any quadrilateral)\n",
    "if angle1 + angle2 + angle3 + angle4 != 360:\n",
    "    print(\"The angles do not form a valid quadrilateral.\")\n",
    "else:\n",
    "    # Check for specific types of quadrilaterals based on sides and angles\n",
    "    if side1 == side2 == side3 == side4 and angle1 == angle2 == angle3 == angle4 == 90:\n",
    "        quadrilateral_type = \"Square\"\n",
    "    elif side1 == side3 and side2 == side4 and angle1 == angle2 == angle3 == angle4 == 90:\n",
    "        quadrilateral_type = \"Rectangle\"\n",
    "    elif side1 == side2 == side3 == side4 and angle1 != angle2 != angle3 != angle4:\n",
    "        quadrilateral_type = \"Rhombus\"\n",
    "    elif side1 == side3 and side2 == side4 and angle1 != angle2 != angle3 != angle4:\n",
    "        quadrilateral_type = \"Parallelogram\"\n",
    "    elif angle1 == angle2 == angle3 == angle4:\n",
    "        quadrilateral_type = \"Rhombus\"  # All sides equal but not 90 degrees\n",
    "    else:\n",
    "        quadrilateral_type = \"Irregular Quadrilateral\"\n",
    "    \n",
    "    # Output the result\n",
    "    print(f\"The quadrilateral is a {quadrilateral_type}.\")\n"
   ]
  },
  {
   "cell_type": "code",
   "execution_count": null,
   "id": "aab12567-062b-4287-b557-13382284d85c",
   "metadata": {},
   "outputs": [],
   "source": [
    "# 29. Write a Python script to determine the season based on a user-provided month using elif statements."
   ]
  },
  {
   "cell_type": "code",
   "execution_count": 78,
   "id": "c374b94b-ae1f-4aa3-b15a-649065835ffe",
   "metadata": {},
   "outputs": [
    {
     "name": "stdin",
     "output_type": "stream",
     "text": [
      "Enter Month Name January\n"
     ]
    },
    {
     "name": "stdout",
     "output_type": "stream",
     "text": [
      "Winter\n"
     ]
    }
   ],
   "source": [
    "m = input(\"Enter Month Name\")\n",
    "\n",
    "m1 = m.lower()\n",
    "\n",
    "if m1 in [ \"march\", \"april\"]:\n",
    "    print(\"Spring\")\n",
    "elif m1 in[ \"may\", \"june\"]:\n",
    "    print(\"Summer\")\n",
    "elif m1 in [\"july\", 'august', 'september']:\n",
    "    print(\"Monsoon\")\n",
    "elif m1 in ['october', 'november']:\n",
    "    print(\"Autumn\")\n",
    "elif m1 in ['december', 'january', 'february']:\n",
    "    print(\"Winter\")\n",
    "else:\n",
    "    print(\"Please Enter a validno month name\")\n"
   ]
  },
  {
   "cell_type": "code",
   "execution_count": null,
   "id": "ad42cabc-c654-4482-8150-1d9f5bbda62e",
   "metadata": {},
   "outputs": [],
   "source": [
    "# 30. Implement a program to determine the type of a year (leap or common) and month (30 or 31 days) using elif statements"
   ]
  },
  {
   "cell_type": "code",
   "execution_count": 87,
   "id": "0080cc25-4bc2-46b8-8d0f-053bb6aecf28",
   "metadata": {},
   "outputs": [
    {
     "name": "stdin",
     "output_type": "stream",
     "text": [
      "Enter Year 2024\n",
      "Enter Month 2\n"
     ]
    },
    {
     "name": "stdout",
     "output_type": "stream",
     "text": [
      "The year 2024 is a leap year and the month 2 has 29 days.\n"
     ]
    }
   ],
   "source": [
    "y = int(input(\"Enter Year\"))\n",
    "m = int(input(\"Enter Month\"))\n",
    "\n",
    "if ((y % 4 == 0) and (y %100 != 0) ) or y % 400 == 0:\n",
    "    is_leap_year = True\n",
    "else:\n",
    "    is_leap_year = False\n",
    "    \n",
    "\n",
    "if m == 1 or  m == 3 or m==5 or m==7 or m==8 or m==10 or  m==12 :\n",
    "    days_in_month = 31\n",
    "elif m == 4 or m == 6 or m == 9 or m == 11:\n",
    "    days_in_month = 30\n",
    "    print(\"28 Days\")\n",
    "elif m == 2 :\n",
    "    if is_leap_year:\n",
    "        days_in_month = 29\n",
    "    else:\n",
    "        days_in_month = 28\n",
    "else:\n",
    "    days_in_month = \"Invalid Month\"\n",
    "\n",
    "\n",
    "if isinstance(days_in_month, int):\n",
    "    print(f\"The year {y} is a {'leap year' if is_leap_year else 'common year'} and the month {m} has {days_in_month} days.\")\n",
    "else:\n",
    "    print(days_in_month)\n"
   ]
  },
  {
   "cell_type": "code",
   "execution_count": null,
   "id": "99b6a2ba-f84a-4bff-be35-543db6bf67bc",
   "metadata": {},
   "outputs": [],
   "source": [
    " #1. Write a Python program that checks if a given number is positive, negative, or zero. "
   ]
  },
  {
   "cell_type": "code",
   "execution_count": 89,
   "id": "0ce6422c-23ad-4563-8281-9492e4895bea",
   "metadata": {},
   "outputs": [
    {
     "name": "stdin",
     "output_type": "stream",
     "text": [
      "Enter a number 8\n"
     ]
    },
    {
     "name": "stdout",
     "output_type": "stream",
     "text": [
      "It's a positive number\n"
     ]
    }
   ],
   "source": [
    "n = int(input(\"Enter a number\"))\n",
    "\n",
    "if n == 0:\n",
    "    print(\"It's a Zero\")\n",
    "elif n > 0:\n",
    "    print(\"It's a positive number\")\n",
    "else :\n",
    "    print(\"It's a negative Number\")   "
   ]
  },
  {
   "cell_type": "code",
   "execution_count": null,
   "id": "e1a819b6-a02e-4fda-ac8d-0c24723621d3",
   "metadata": {},
   "outputs": [],
   "source": [
    "# 2. Create a program to determine if a person is eligible to vote based on their age."
   ]
  },
  {
   "cell_type": "code",
   "execution_count": 90,
   "id": "c92368bf-a1e9-4877-9ff1-9853f92caa39",
   "metadata": {},
   "outputs": [
    {
     "name": "stdin",
     "output_type": "stream",
     "text": [
      "Enter your age 10\n"
     ]
    },
    {
     "name": "stdout",
     "output_type": "stream",
     "text": [
      "Your age is below 18 you are not eligible for vote\n"
     ]
    }
   ],
   "source": [
    "age = int(input(\"Enter your age\"))\n",
    "\n",
    "if age > 18:\n",
    "    print(\"You are eligible for vote\")\n",
    "else: \n",
    "    print(\"Your age is below 18 you are not eligible for vote\")"
   ]
  },
  {
   "cell_type": "code",
   "execution_count": null,
   "id": "0bb1cee4-ed23-484c-b328-ffce7f7f24b6",
   "metadata": {},
   "outputs": [],
   "source": [
    "#3. Write a program to find the maximum of two given numbers using conditional statements."
   ]
  },
  {
   "cell_type": "code",
   "execution_count": 91,
   "id": "43c10281-99fa-4512-81e7-f4265f21570b",
   "metadata": {},
   "outputs": [
    {
     "name": "stdin",
     "output_type": "stream",
     "text": [
      "Enter first number 1\n",
      "Enter second number 4\n"
     ]
    },
    {
     "name": "stdout",
     "output_type": "stream",
     "text": [
      " Maximum number is 4.\n"
     ]
    }
   ],
   "source": [
    "n1 = int(input(\"Enter first number\"))\n",
    "n2 = int(input(\"Enter second number\"))\n",
    "\n",
    "if n1 > n2:\n",
    "    print(f\" Maximum number is {n1}\")\n",
    "    \n",
    "elif n1 == n2:\n",
    "    print(\"Can't find entered number is same pls entered 2 different\") \n",
    "    \n",
    "else:\n",
    "    print(f\" Maximum number is {n2}.\")  "
   ]
  },
  {
   "cell_type": "code",
   "execution_count": null,
   "id": "6467011b-bb0b-4500-8a34-6c151397de78",
   "metadata": {},
   "outputs": [],
   "source": [
    " #4. Develop a program that calculates the grade of a student based on their exam score."
   ]
  },
  {
   "cell_type": "code",
   "execution_count": 93,
   "id": "e90f495e-efcf-4b8e-a94e-5c2b45dd20f6",
   "metadata": {},
   "outputs": [
    {
     "name": "stdin",
     "output_type": "stream",
     "text": [
      "Enter your marks 85\n"
     ]
    },
    {
     "name": "stdout",
     "output_type": "stream",
     "text": [
      "grade-B\n"
     ]
    }
   ],
   "source": [
    "def marks_assign(m):\n",
    "    if m >= 90 and m <= 100:\n",
    "        print(\"Grade-A\")\n",
    "    elif m < 90 and m >= 75:\n",
    "        print(\"grade-B\")\n",
    "    elif m < 75 and m >= 50:\n",
    "        print(\"Grade-C\")\n",
    "    elif m < 50 and m >= 30:\n",
    "        print(\"Grade-D\")\n",
    "    else:\n",
    "        (\"You are Failed\")\n",
    "\n",
    "marks = int(input(\"Enter your marks\"))\n",
    "\n",
    "marks_assign(marks)"
   ]
  },
  {
   "cell_type": "code",
   "execution_count": null,
   "id": "fff1b0ee-8acf-410e-8582-cb5b18e97c74",
   "metadata": {},
   "outputs": [],
   "source": [
    " #5. Create a program that checks if a year is a leap year or not."
   ]
  },
  {
   "cell_type": "code",
   "execution_count": 92,
   "id": "1f114f44-2e58-4082-a2ce-25f9f689fca3",
   "metadata": {},
   "outputs": [
    {
     "name": "stdin",
     "output_type": "stream",
     "text": [
      "Enter year 200\n"
     ]
    },
    {
     "name": "stdout",
     "output_type": "stream",
     "text": [
      "It's not a leap year\n"
     ]
    }
   ],
   "source": [
    "y = int(input(\"Enter year\"))\n",
    "\n",
    "if ((y % 400 == 0) or \n",
    "    (y % 100 != 0) and\n",
    "    ( y % 4 ==0)) :\n",
    "    print(\"It's a leep year\")\n",
    "else:\n",
    "    print(\"It's not a leap year\")\n"
   ]
  },
  {
   "cell_type": "code",
   "execution_count": null,
   "id": "2a11d9c9-7591-4b1c-b1ac-e5dd1aa1f886",
   "metadata": {},
   "outputs": [],
   "source": [
    " #6. Write a program to classify a triangle based on its sides' lengths."
   ]
  },
  {
   "cell_type": "code",
   "execution_count": 95,
   "id": "d5d6ead9-3854-4c56-86e0-920862e8ebdc",
   "metadata": {},
   "outputs": [
    {
     "name": "stdin",
     "output_type": "stream",
     "text": [
      "Enter a triangle side -A 20\n",
      "Enter a triangle side -B 20\n",
      "Enter a triangle side -C 20\n"
     ]
    },
    {
     "name": "stdout",
     "output_type": "stream",
     "text": [
      "It's a equilateral triangle\n"
     ]
    }
   ],
   "source": [
    "A = int(input(\"Enter a triangle side -A\"))\n",
    "B = int(input(\"Enter a triangle side -B\"))\n",
    "C = int(input(\"Enter a triangle side -C\"))\n",
    "\n",
    "if A == B == C:\n",
    "    print(\"It's a equilateral triangle\")\n",
    "elif A == B or B == C or C == A:\n",
    "    print(\"It's a Isosceles triangle\")\n",
    "else:\n",
    "    print(\"It's a scalene triangle\")"
   ]
  },
  {
   "cell_type": "code",
   "execution_count": null,
   "id": "2e9a0b93-8a61-467d-8d5a-4c4e5acdaf87",
   "metadata": {},
   "outputs": [],
   "source": [
    " #7. Build a program that determines the largest of three given numbers."
   ]
  },
  {
   "cell_type": "code",
   "execution_count": 100,
   "id": "9d2b7ad9-0ea3-4b22-a608-05aed64e5a32",
   "metadata": {},
   "outputs": [
    {
     "name": "stdin",
     "output_type": "stream",
     "text": [
      "Enter number 4\n",
      "Enter number 8\n",
      "Enter number 2\n"
     ]
    },
    {
     "name": "stdout",
     "output_type": "stream",
     "text": [
      "The largest number is 8\n"
     ]
    }
   ],
   "source": [
    "def find_largest(n1,n2,n3):\n",
    "    if n1>= n2 and n1>= n3:\n",
    "        return n1\n",
    "    elif n2 >= n1 and n2>= n3 :\n",
    "        return n2\n",
    "    else:\n",
    "        return n3\n",
    "\n",
    "n1 = int(input(\"Enter number\"))\n",
    "n2 = int(input(\"Enter number\"))\n",
    "n3 = int(input(\"Enter number\"))\n",
    "\n",
    "\n",
    "largest = find_largest(n1,n2,n3)\n",
    "\n",
    "print(\"The largest number is\", largest)\n"
   ]
  },
  {
   "cell_type": "code",
   "execution_count": null,
   "id": "1dd1a740-32d2-41cf-b0be-d23aac36abec",
   "metadata": {},
   "outputs": [],
   "source": [
    "#8. Develop a program that checks whether a character is a vowel or a consonant."
   ]
  },
  {
   "cell_type": "code",
   "execution_count": 99,
   "id": "e630f54a-caae-4ab0-aeb5-2f4e20cd18b7",
   "metadata": {},
   "outputs": [
    {
     "name": "stdin",
     "output_type": "stream",
     "text": [
      "Enter a character a\n"
     ]
    },
    {
     "name": "stdout",
     "output_type": "stream",
     "text": [
      "entered character a is a vowel.\n"
     ]
    }
   ],
   "source": [
    "s = input(\"Enter a character\")\n",
    "v = \"aeiou\"\n",
    "s = s.lower()\n",
    "if s in v:\n",
    "    print(f\"entered character {s} is a vowel.\")\n",
    "\n",
    "else:\n",
    "    print(f\"entered character {s} is a consonant\")"
   ]
  },
  {
   "cell_type": "code",
   "execution_count": null,
   "id": "0cf21579-bbf0-49f6-b344-542c74edcd91",
   "metadata": {},
   "outputs": [],
   "source": [
    "#9. Create a program to calculate the total cost of a shopping cart based on discounts."
   ]
  },
  {
   "cell_type": "code",
   "execution_count": 96,
   "id": "0adadcb8-6389-44ff-9c1c-fdc0f36d19c1",
   "metadata": {},
   "outputs": [
    {
     "name": "stdin",
     "output_type": "stream",
     "text": [
      "Enter the purchase amount:  100\n"
     ]
    },
    {
     "name": "stdout",
     "output_type": "stream",
     "text": [
      "Original purchase amount: Rs 100.00\n",
      "Discount applied: 10.0%\n",
      "Discounted price: Rs 90.00\n"
     ]
    }
   ],
   "source": [
    "purchase_amount = float(input(\"Enter the purchase amount: \"))\n",
    "\n",
    "if purchase_amount >= 1000:\n",
    "    discount = 0.20  # 20% discount for purchases of 1000 or more\n",
    "elif purchase_amount >= 500:\n",
    "    discount = 0.15  # 15% discount for purchases between 500 and 999\n",
    "elif purchase_amount >= 100:\n",
    "    discount = 0.10  # 10% discount for purchases between 100 and 499\n",
    "else:\n",
    "    discount = 0.0   # No discount for purchases below 100\n",
    "\n",
    "# Calculate the final price after applying the discount\n",
    "discounted_price = purchase_amount * (1 - discount)\n",
    "\n",
    "# Output the discounted price\n",
    "print(f\"Original purchase amount: Rs {purchase_amount:.2f}\")\n",
    "print(f\"Discount applied: {discount * 100}%\")\n",
    "print(f\"Discounted price: Rs {discounted_price:.2f}\")"
   ]
  },
  {
   "cell_type": "code",
   "execution_count": null,
   "id": "5e486dc0-538d-47e7-b266-6c61d21157b5",
   "metadata": {},
   "outputs": [],
   "source": [
    " #10. Write a program that checks if a given number is even or odd"
   ]
  },
  {
   "cell_type": "code",
   "execution_count": 101,
   "id": "00b475be-e1dc-4268-b81c-3f2fa8c86254",
   "metadata": {},
   "outputs": [
    {
     "name": "stdin",
     "output_type": "stream",
     "text": [
      "Enter a number 4\n"
     ]
    },
    {
     "name": "stdout",
     "output_type": "stream",
     "text": [
      "Entered number 4 is a even number\n"
     ]
    }
   ],
   "source": [
    "n = int(input(\"Enter a number\"))\n",
    "\n",
    "if n%2 == 0:\n",
    "    print(f\"Entered number {n} is a even number\")\n",
    "else:\n",
    "     print(f\"Entered number {n} is a odd number\")"
   ]
  },
  {
   "cell_type": "code",
   "execution_count": null,
   "id": "5bca0767-812c-42d9-a9b2-1e8f255679fe",
   "metadata": {},
   "outputs": [],
   "source": [
    "# 11. Write a program that calculates the roots of a quadratic equation ."
   ]
  },
  {
   "cell_type": "code",
   "execution_count": 104,
   "id": "a80361b6-4e28-4a10-9321-3262c8417a92",
   "metadata": {},
   "outputs": [
    {
     "name": "stdin",
     "output_type": "stream",
     "text": [
      "Enter the coefficient a:  4\n",
      "Enter the coefficient b:  5\n",
      "Enter the coefficient c:  6\n"
     ]
    },
    {
     "name": "stdout",
     "output_type": "stream",
     "text": [
      "The roots of the quadratic equation are: (-0.625+1.0532687216470449j) and (-0.625-1.0532687216470449j)\n"
     ]
    }
   ],
   "source": [
    "import cmath  # cmath is used to handle complex numbers\n",
    "\n",
    "# Function to calculate the roots of the quadratic equation\n",
    "def calculate_roots(a, b, c):\n",
    "    # Calculate the discriminant\n",
    "    discriminant = b**2 - 4*a*c\n",
    "    \n",
    "    # Calculate two solutions using the quadratic formula\n",
    "    root1 = (-b + cmath.sqrt(discriminant)) / (2 * a)\n",
    "    root2 = (-b - cmath.sqrt(discriminant)) / (2 * a)\n",
    "    \n",
    "    return root1, root2\n",
    "\n",
    "# Input from the user\n",
    "a = float(input(\"Enter the coefficient a: \"))\n",
    "b = float(input(\"Enter the coefficient b: \"))\n",
    "c = float(input(\"Enter the coefficient c: \"))\n",
    "\n",
    "# Ensure that a is not zero\n",
    "if a == 0:\n",
    "    print(\"Coefficient 'a' cannot be zero in a quadratic equation.\")\n",
    "else:\n",
    "    # Calculate and display the roots\n",
    "    root1, root2 = calculate_roots(a, b, c)\n",
    "    \n",
    "    print(f\"The roots of the quadratic equation are: {root1} and {root2}\")\n",
    "\n"
   ]
  },
  {
   "cell_type": "code",
   "execution_count": null,
   "id": "95ccc75f-9a54-4965-95a9-dc9ad9a67b58",
   "metadata": {},
   "outputs": [],
   "source": [
    " #12. Create a program that determines the day of the week based on the day number (1-7)."
   ]
  },
  {
   "cell_type": "code",
   "execution_count": 105,
   "id": "7bfde505-a9a8-417b-86c0-b17443d53308",
   "metadata": {},
   "outputs": [
    {
     "name": "stdin",
     "output_type": "stream",
     "text": [
      "Enter number 6\n"
     ]
    },
    {
     "name": "stdout",
     "output_type": "stream",
     "text": [
      "Saturday\n"
     ]
    }
   ],
   "source": [
    "n = int(input(\"Enter number\"))\n",
    "\n",
    "\n",
    "if n==1:\n",
    "    print(\"Monday\")\n",
    "elif n==2:\n",
    "    print(\"Tuesday\")\n",
    "elif n==3:\n",
    "    print(\"Wednesday\")\n",
    "elif n==4:\n",
    "    print(\"Thursday\")\n",
    "elif n==5:\n",
    "    print(\"Friday\")\n",
    "elif n==6 :\n",
    "    print(\"Saturday\")\n",
    "elif n == 7:\n",
    "    print(\"Sunday\")\n",
    "else:\n",
    "    print(\"It's not a valide number\")"
   ]
  },
  {
   "cell_type": "code",
   "execution_count": null,
   "id": "4f1d8353-a302-4ebc-abb0-2a92f618b67e",
   "metadata": {},
   "outputs": [],
   "source": [
    "# 13. Develop a program that calculates the factorial of a given number using recursion."
   ]
  },
  {
   "cell_type": "code",
   "execution_count": 106,
   "id": "b67c254e-eb80-41ea-9935-18d7163423a4",
   "metadata": {},
   "outputs": [
    {
     "name": "stdin",
     "output_type": "stream",
     "text": [
      "Enter a number to calculate its factorial:  10\n"
     ]
    },
    {
     "name": "stdout",
     "output_type": "stream",
     "text": [
      "The factorial of 10 is 3628800.\n"
     ]
    }
   ],
   "source": [
    "# Function to calculate the factorial using recursion\n",
    "def factorial(n):\n",
    "    # Base case: factorial of 0 or 1 is 1\n",
    "    if n == 0 or n == 1:\n",
    "        return 1\n",
    "    # Recursive case: n * factorial of (n-1)\n",
    "    else:\n",
    "        return n * factorial(n - 1)\n",
    "\n",
    "# Input: number for which the factorial will be calculated\n",
    "number = int(input(\"Enter a number to calculate its factorial: \"))\n",
    "\n",
    "# Ensure the number is non-negative\n",
    "if number < 0:\n",
    "    print(\"Factorial is not defined for negative numbers.\")\n",
    "else:\n",
    "    # Calculate the factorial\n",
    "    result = factorial(number)\n",
    "    print(f\"The factorial of {number} is {result}.\")\n"
   ]
  },
  {
   "cell_type": "code",
   "execution_count": null,
   "id": "92ab1f9d-11ac-4385-99d3-ffb46f246a74",
   "metadata": {},
   "outputs": [],
   "source": [
    "#14. Write a program to find the largest among three numbers without using the `max()` function."
   ]
  },
  {
   "cell_type": "code",
   "execution_count": 102,
   "id": "53169c86-2543-4e43-9492-0d36db87dec0",
   "metadata": {},
   "outputs": [
    {
     "name": "stdin",
     "output_type": "stream",
     "text": [
      "Enter number 4\n",
      "Enter number 3\n",
      "Enter number 7\n"
     ]
    },
    {
     "name": "stdout",
     "output_type": "stream",
     "text": [
      "The largest number is 7\n"
     ]
    }
   ],
   "source": [
    "def find_largest(n1,n2,n3):\n",
    "    if n1>= n2 and n1>= n3:\n",
    "        return n1\n",
    "    elif n2 >= n1 and n2>= n3 :\n",
    "        return n2\n",
    "    else:\n",
    "        return n3\n",
    "\n",
    "n1 = int(input(\"Enter number\"))\n",
    "n2 = int(input(\"Enter number\"))\n",
    "n3 = int(input(\"Enter number\"))\n",
    "\n",
    "\n",
    "largest = find_largest(n1,n2,n3)\n",
    "\n",
    "print(\"The largest number is\", largest)\n"
   ]
  },
  {
   "cell_type": "code",
   "execution_count": null,
   "id": "26acadd7-3a24-4321-b4e9-3db6d5014963",
   "metadata": {},
   "outputs": [],
   "source": [
    "# 15. Create a program that simulates a basic ATM transaction menu."
   ]
  },
  {
   "cell_type": "code",
   "execution_count": 12,
   "id": "d9ea844f-c9bf-44e2-a7fd-02c0417faa0c",
   "metadata": {},
   "outputs": [
    {
     "name": "stdin",
     "output_type": "stream",
     "text": [
      "Enter PIN 1234\n"
     ]
    },
    {
     "name": "stdout",
     "output_type": "stream",
     "text": [
      "Please select any options\n",
      " To Withdraw Money Enter 1\n",
      " To check money Enter 2\n",
      " To Reset PIN Enter 3\n"
     ]
    },
    {
     "name": "stdin",
     "output_type": "stream",
     "text": [
      "Please enter your option 4\n"
     ]
    },
    {
     "name": "stdout",
     "output_type": "stream",
     "text": [
      "Please select correct Option\n"
     ]
    }
   ],
   "source": [
    "pin = int(input(\"Enter PIN\"))\n",
    "\n",
    "pin1 = 1234\n",
    "saving_amount = 1000\n",
    "current_amount = 50000\n",
    "\n",
    "if pin == pin1:\n",
    "    print(\"Please select any options\")\n",
    "    print(\" To Withdraw Money Enter 1\")\n",
    "    print(\" To check money Enter 2\")\n",
    "    print(\" To Reset PIN Enter 3\")\n",
    "    option = int(input(\"Please enter your option\"))\n",
    "    if option == 1:\n",
    "        \n",
    "        amt_to_withdraw = int(input(\"Enter amount\"))\n",
    "        acount_type = input(\"Please enter acount Type saving or current\")\n",
    "        if acount_type.lower() == \"saving\":\n",
    "            saving_amount = saving_amount - amt_to_withdraw\n",
    "            print(f\"Please collect your amount{amt_to_withdraw}, your available balance is {saving_amount}\")\n",
    "        elif acount_type.lower() == 'current':\n",
    "            current_amount = current_amount - amt_to_withdraw\n",
    "            print(f\"Please collect your amount {amt_to_withdraw}, your available balance is {current_amount}\")\n",
    "        else:\n",
    "            print(\"Please enter the correct acount type\")\n",
    "    elif option == 2:\n",
    "        acount_type = input(\"Please enter acount Type saving or current\")\n",
    "        if acount_type.lower() == \"saving\":\n",
    "            print(f\"Your available balance is {saving_amount}\")\n",
    "        else:\n",
    "            print(f\"Your available balance is {current_amount}\")\n",
    "    elif option == 3:\n",
    "        pin_match = int(input(\"Enter your old pin\"))\n",
    "        if pin_match == pin1:\n",
    "            new_pin = int(input(\"Please Enter Your New PIN.\"))\n",
    "            if len(str(pin1)) == 4:\n",
    "                pin1 = new_pin\n",
    "                print(\"Your New PIN has been updated\")\n",
    "            else:\n",
    "                print(\"Please Enter a valid 4 Digit PIN\")\n",
    "    else:\n",
    "        print(\"Please select correct Option\")\n",
    "\n",
    "else:\n",
    "    print(\"Please Enter correct PIN\")"
   ]
  },
  {
   "cell_type": "code",
   "execution_count": null,
   "id": "58a72d5b-ae92-4bc0-8ad2-7b349a2756e9",
   "metadata": {},
   "outputs": [],
   "source": [
    "#16. Build a program that checks if a given string is a palindrome or not."
   ]
  },
  {
   "cell_type": "code",
   "execution_count": 16,
   "id": "d34c25c5-cc1d-4745-8a0f-89b86523ea89",
   "metadata": {},
   "outputs": [
    {
     "name": "stdin",
     "output_type": "stream",
     "text": [
      "Enter a string pop\n"
     ]
    },
    {
     "name": "stdout",
     "output_type": "stream",
     "text": [
      "It's a palindrom\n"
     ]
    }
   ],
   "source": [
    "s = input(\"Enter a string\")\n",
    "\n",
    "s=s.lower()\n",
    "if s== s[::-1]:\n",
    "    print(\"It's a palindrom\")\n",
    "else:\n",
    "    print(\"It's not a palindrom\")\n",
    "    "
   ]
  },
  {
   "cell_type": "code",
   "execution_count": null,
   "id": "f737a4a3-1fb1-4558-9acb-3ef57ef13ab3",
   "metadata": {},
   "outputs": [],
   "source": [
    "# 17. Write a program that calculates the average of a list of numbers, excluding the smallest and largest values."
   ]
  },
  {
   "cell_type": "code",
   "execution_count": 23,
   "id": "b469ff49-6a2e-4324-87c2-e171a9254fba",
   "metadata": {},
   "outputs": [
    {
     "name": "stdout",
     "output_type": "stream",
     "text": [
      "average of list is  3.50\n"
     ]
    }
   ],
   "source": [
    "l = [1,2,3,4,5,8]\n",
    "sum_int = 0\n",
    "for i in l:\n",
    "    \n",
    "    if min(l)< i < max(l):\n",
    "        sum_int += i\n",
    "        \n",
    "    else:\n",
    "        (\"Please Enter more digit to the list\")\n",
    "avg = sum_int/(len(l) -2)\n",
    "\n",
    "print(f'average of list is {avg : .2f}')\n"
   ]
  },
  {
   "cell_type": "code",
   "execution_count": null,
   "id": "4a13e115-fbba-44c6-96ab-3fb7a7bb6c18",
   "metadata": {},
   "outputs": [],
   "source": [
    " #18. Develop a program that converts a given temperature from Celsius to Fahrenheit."
   ]
  },
  {
   "cell_type": "code",
   "execution_count": 26,
   "id": "845b7e95-0c76-4aff-a9aa-50f82f7cd1a6",
   "metadata": {},
   "outputs": [
    {
     "name": "stdin",
     "output_type": "stream",
     "text": [
      "Enter Celsius 40\n"
     ]
    },
    {
     "name": "stdout",
     "output_type": "stream",
     "text": [
      "Fahrenheit is 104.0\n"
     ]
    }
   ],
   "source": [
    "c = int(input(\"Enter Celsius\"))\n",
    "\n",
    "# convert to fahrenheit\n",
    "f = (c*1.8) +32\n",
    "\n",
    "print(f'Fahrenheit is {f}')"
   ]
  },
  {
   "cell_type": "code",
   "execution_count": null,
   "id": "8a2feea3-3ba6-461a-accf-cc3c22949476",
   "metadata": {},
   "outputs": [],
   "source": [
    " #19. Create a program that simulates a basic calculator for addition, subtraction, multiplication, and division."
   ]
  },
  {
   "cell_type": "code",
   "execution_count": 36,
   "id": "132d7898-8316-44ec-859c-b122ec2759e7",
   "metadata": {},
   "outputs": [
    {
     "name": "stdout",
     "output_type": "stream",
     "text": [
      "\n",
      "Basic Calculator\n",
      "1. Add\n",
      "2. Subtract\n",
      "3. Multiply\n",
      "4. Divide\n",
      "5. Exit\n"
     ]
    },
    {
     "name": "stdin",
     "output_type": "stream",
     "text": [
      "Select an operation (1-5):  1\n",
      "Enter the first number:  4\n",
      "Enter the second number:  5\n"
     ]
    },
    {
     "name": "stdout",
     "output_type": "stream",
     "text": [
      "The result of 4.0 + 5.0 is: 9.0\n",
      "\n",
      "Basic Calculator\n",
      "1. Add\n",
      "2. Subtract\n",
      "3. Multiply\n",
      "4. Divide\n",
      "5. Exit\n"
     ]
    },
    {
     "name": "stdin",
     "output_type": "stream",
     "text": [
      "Select an operation (1-5):  1\n",
      "Enter the first number:  5\n",
      "Enter the second number:  8\n"
     ]
    },
    {
     "name": "stdout",
     "output_type": "stream",
     "text": [
      "The result of 5.0 + 8.0 is: 13.0\n",
      "\n",
      "Basic Calculator\n",
      "1. Add\n",
      "2. Subtract\n",
      "3. Multiply\n",
      "4. Divide\n",
      "5. Exit\n"
     ]
    },
    {
     "name": "stdin",
     "output_type": "stream",
     "text": [
      "Select an operation (1-5):  5\n"
     ]
    },
    {
     "name": "stdout",
     "output_type": "stream",
     "text": [
      "Thank you for using the calculator. Goodbye!\n"
     ]
    }
   ],
   "source": [
    "def add(x, y):\n",
    "    return x + y\n",
    "\n",
    "def subtract(x, y):\n",
    "    return x - y\n",
    "\n",
    "def multiply(x, y):\n",
    "    return x * y\n",
    "\n",
    "def divide(x, y):\n",
    "    if y != 0:\n",
    "        return x / y\n",
    "    else:\n",
    "        return \"Error! Division by zero.\"\n",
    "\n",
    "def calculator():\n",
    "    while True:\n",
    "        # Display menu\n",
    "        print(\"\\nBasic Calculator\")\n",
    "        print(\"1. Add\")\n",
    "        print(\"2. Subtract\")\n",
    "        print(\"3. Multiply\")\n",
    "        print(\"4. Divide\")\n",
    "        print(\"5. Exit\")\n",
    "        \n",
    "        # Take user input\n",
    "        try:\n",
    "            choice = int(input(\"Select an operation (1-5): \"))\n",
    "            \n",
    "            if choice == 5:\n",
    "                print(\"Thank you for using the calculator. Goodbye!\")\n",
    "                break\n",
    "            \n",
    "            if choice in [1, 2, 3, 4]:\n",
    "                num1 = float(input(\"Enter the first number: \"))\n",
    "                num2 = float(input(\"Enter the second number: \"))\n",
    "                \n",
    "                if choice == 1:\n",
    "                    print(f\"The result of {num1} + {num2} is: {add(num1, num2)}\")\n",
    "                elif choice == 2:\n",
    "                    print(f\"The result of {num1} - {num2} is: {subtract(num1, num2)}\")\n",
    "                elif choice == 3:\n",
    "                    print(f\"The result of {num1} * {num2} is: {multiply(num1, num2)}\")\n",
    "                elif choice == 4:\n",
    "                    print(f\"The result of {num1} / {num2} is: {divide(num1, num2)}\")\n",
    "            else:\n",
    "                print(\"Invalid selection. Please choose a valid option (1-5).\")\n",
    "        except ValueError:\n",
    "            print(\"Invalid input! Please enter numeric values.\")\n",
    "\n",
    "# Run the calculator\n",
    "calculator()\n",
    "\n",
    "    "
   ]
  },
  {
   "cell_type": "code",
   "execution_count": null,
   "id": "95166748-806b-4c2a-9b43-868b0358e842",
   "metadata": {},
   "outputs": [],
   "source": [
    "# 20. Write a program that determines the roots of a cubic equation using the Cardano formula."
   ]
  },
  {
   "cell_type": "code",
   "execution_count": 40,
   "id": "3a4f4647-f06b-4efc-a2fe-c55b04c912a5",
   "metadata": {},
   "outputs": [
    {
     "name": "stdout",
     "output_type": "stream",
     "text": [
      "The roots of the cubic equation are: 3.0, (1.5000000000000002+0.8660254037844387j), (1.4999999999999996-0.8660254037844384j)\n"
     ]
    }
   ],
   "source": [
    "import cmath\n",
    "\n",
    "def cardano_cubic(a, b, c, d):\n",
    "    # Step 1: Reduce the cubic equation to a depressed cubic\n",
    "    p = (3*a*c - b**2) / (3*a**2)\n",
    "    q = (2*b**3 - 9*a*b*c + 27*a**2*d) / (27*a**3)\n",
    "    \n",
    "    # Step 2: Calculate the discriminant (Delta)\n",
    "    discriminant = (q/2)**2 + (p/3)**3\n",
    "    \n",
    "    # Step 3: Find the first root using Cardano's formula\n",
    "    if discriminant >= 0:\n",
    "        # One real root\n",
    "        root1 = (pow(-q/2 + cmath.sqrt(discriminant), 1/3) +\n",
    "                 pow(-q/2 - cmath.sqrt(discriminant), 1/3)).real\n",
    "    else:\n",
    "        # Complex roots, using cube roots of unity\n",
    "        u1 = pow(-q/2 + cmath.sqrt(discriminant), 1/3)\n",
    "        u2 = pow(-q/2 - cmath.sqrt(discriminant), 1/3)\n",
    "        root1 = (u1 + u2).real\n",
    "    \n",
    "    # Step 4: Calculate the other two roots using cube roots of unity\n",
    "    omega = cmath.exp(2j * cmath.pi / 3)\n",
    "    root2 = omega * root1\n",
    "    root3 = omega**2 * root1\n",
    "    \n",
    "    # Step 5: Transform back to the original variable x\n",
    "    x1 = root1 - b / (3*a)\n",
    "    x2 = root2 - b / (3*a)\n",
    "    x3 = root3 - b / (3*a)\n",
    "    \n",
    "    return x1, x2, x3\n",
    "\n",
    "# Example usage\n",
    "a = 1\n",
    "b = -6\n",
    "c = 11\n",
    "d = -6\n",
    "\n",
    "roots = cardano_cubic(a, b, c, d)\n",
    "print(f\"The roots of the cubic equation are: {roots[0]}, {roots[1]}, {roots[2]}\")\n",
    "\n",
    "    "
   ]
  },
  {
   "cell_type": "code",
   "execution_count": null,
   "id": "be0b4de6-a010-4f56-bb15-6ff90e8844ef",
   "metadata": {},
   "outputs": [],
   "source": [
    "#21. Create a program that calculates the income tax based on the user's income and tax brackets."
   ]
  },
  {
   "cell_type": "code",
   "execution_count": 41,
   "id": "7ebf89df-54e5-46b3-928a-515aac375799",
   "metadata": {},
   "outputs": [
    {
     "name": "stdin",
     "output_type": "stream",
     "text": [
      "Enter your income: $ 624000\n"
     ]
    },
    {
     "name": "stdout",
     "output_type": "stream",
     "text": [
      "Your income tax is: $177699.10\n"
     ]
    }
   ],
   "source": [
    "\n",
    "def calculate_tax(income):\n",
    "    # Define the tax brackets and rates (lower bound, upper bound, tax rate)\n",
    "    tax_brackets = [\n",
    "        (0, 10000, 0.10),\n",
    "        (10001, 30000, 0.15),\n",
    "        (30001, 50000, 0.20),\n",
    "        (50001, 100000, 0.25),\n",
    "        (100001, float('inf'), 0.30)\n",
    "    ]\n",
    "    \n",
    "    total_tax = 0\n",
    "    for lower, upper, rate in tax_brackets:\n",
    "        if income > lower:\n",
    "            # Calculate the taxable income in the current bracket\n",
    "            taxable_income_in_bracket = min(income, upper) - lower\n",
    "            # Add the tax for this bracket\n",
    "            total_tax += taxable_income_in_bracket * rate\n",
    "        else:\n",
    "            break\n",
    "    \n",
    "    return total_tax\n",
    "\n",
    "# Input: Get the user's income\n",
    "income = float(input(\"Enter your income: $\"))\n",
    "\n",
    "# Calculate the tax\n",
    "tax = calculate_tax(income)\n",
    "\n",
    "# Output: Display the calculated tax\n",
    "print(f\"Your income tax is: ${tax:.2f}\")\n",
    "\n"
   ]
  },
  {
   "cell_type": "code",
   "execution_count": null,
   "id": "8ef7f8e5-5a54-46ae-9e72-54e7d0089df2",
   "metadata": {},
   "outputs": [],
   "source": [
    "#22. Write a program that simulates a rock-paper-scissors game against the computer."
   ]
  },
  {
   "cell_type": "code",
   "execution_count": 42,
   "id": "4421ddd6-9677-4a71-99d6-5a545ad1c995",
   "metadata": {},
   "outputs": [
    {
     "name": "stdout",
     "output_type": "stream",
     "text": [
      "Welcome to Rock, Paper, Scissors!\n"
     ]
    },
    {
     "name": "stdin",
     "output_type": "stream",
     "text": [
      "Enter your choice (rock, paper, or scissors):  rock\n"
     ]
    },
    {
     "name": "stdout",
     "output_type": "stream",
     "text": [
      "Computer chooses: scissors\n",
      "You win!\n"
     ]
    }
   ],
   "source": [
    "import random\n",
    "\n",
    "# Function to determine the winner\n",
    "def determine_winner(user_choice, computer_choice):\n",
    "    if user_choice == computer_choice:\n",
    "        return \"It's a tie!\"\n",
    "    elif (user_choice == \"rock\" and computer_choice == \"scissors\") or \\\n",
    "         (user_choice == \"scissors\" and computer_choice == \"paper\") or \\\n",
    "         (user_choice == \"paper\" and computer_choice == \"rock\"):\n",
    "        return \"You win!\"\n",
    "    else:\n",
    "        return \"Computer wins!\"\n",
    "\n",
    "# Main function to run the game\n",
    "def rock_paper_scissors():\n",
    "    print(\"Welcome to Rock, Paper, Scissors!\")\n",
    "    \n",
    "    # List of valid choices\n",
    "    choices = [\"rock\", \"paper\", \"scissors\"]\n",
    "    \n",
    "    # Get the user's choice\n",
    "    user_choice = input(\"Enter your choice (rock, paper, or scissors): \").lower()\n",
    "    \n",
    "    # Check if the user's input is valid\n",
    "    if user_choice not in choices:\n",
    "        print(\"Invalid choice! Please choose rock, paper, or scissors.\")\n",
    "        return\n",
    "    \n",
    "    # Let the computer choose randomly\n",
    "    computer_choice = random.choice(choices)\n",
    "    print(f\"Computer chooses: {computer_choice}\")\n",
    "    \n",
    "    # Determine and print the result\n",
    "    result = determine_winner(user_choice, computer_choice)\n",
    "    print(result)\n",
    "\n",
    "# Run the game\n",
    "rock_paper_scissors()\n"
   ]
  },
  {
   "cell_type": "code",
   "execution_count": null,
   "id": "64465e4c-ce6e-41cd-8452-3d1ec71afa22",
   "metadata": {},
   "outputs": [],
   "source": [
    "# 23. Develop a program that generates a random password based on user preferences (length, complexity)."
   ]
  },
  {
   "cell_type": "code",
   "execution_count": 43,
   "id": "798e8d54-1991-4416-a606-fc9efce04253",
   "metadata": {},
   "outputs": [
    {
     "name": "stdout",
     "output_type": "stream",
     "text": [
      "Welcome to the Random Password Generator!\n"
     ]
    },
    {
     "name": "stdin",
     "output_type": "stream",
     "text": [
      "Enter the length of the password:  8\n",
      "Include uppercase letters? (yes/no):  yes\n",
      "Include digits? (yes/no):  yes\n",
      "Include special characters? (yes/no):  yes\n"
     ]
    },
    {
     "name": "stdout",
     "output_type": "stream",
     "text": [
      "Generated password: &C1`95R[\n"
     ]
    }
   ],
   "source": [
    "import random\n",
    "import string\n",
    "\n",
    "# Function to generate a random password based on user preferences\n",
    "def generate_password(length, include_uppercase, include_digits, include_special):\n",
    "    # Define possible character sets\n",
    "    lowercase = string.ascii_lowercase\n",
    "    uppercase = string.ascii_uppercase\n",
    "    digits = string.digits\n",
    "    special_characters = string.punctuation\n",
    "\n",
    "    # Start with the lowercase characters (every password must have at least lowercase letters)\n",
    "    characters = lowercase\n",
    "\n",
    "    # Add character sets based on user preferences\n",
    "    if include_uppercase:\n",
    "        characters += uppercase\n",
    "    if include_digits:\n",
    "        characters += digits\n",
    "    if include_special:\n",
    "        characters += special_characters\n",
    "\n",
    "    # Generate the password by randomly selecting characters from the combined set\n",
    "    password = ''.join(random.choice(characters) for i in range(length))\n",
    "\n",
    "    return password\n",
    "\n",
    "# Main function to get user input and generate the password\n",
    "def main():\n",
    "    print(\"Welcome to the Random Password Generator!\")\n",
    "    \n",
    "    # Get user preferences\n",
    "    try:\n",
    "        length = int(input(\"Enter the length of the password: \"))\n",
    "        if length < 6:\n",
    "            print(\"Password length should be at least 6 characters for better security.\")\n",
    "            return\n",
    "    except ValueError:\n",
    "        print(\"Please enter a valid number for length.\")\n",
    "        return\n",
    "    \n",
    "    include_uppercase = input(\"Include uppercase letters? (yes/no): \").strip().lower() == 'yes'\n",
    "    include_digits = input(\"Include digits? (yes/no): \").strip().lower() == 'yes'\n",
    "    include_special = input(\"Include special characters? (yes/no): \").strip().lower() == 'yes'\n",
    "    \n",
    "    # Generate the password\n",
    "    password = generate_password(length, include_uppercase, include_digits, include_special)\n",
    "    \n",
    "    # Display the generated password\n",
    "    print(f\"Generated password: {password}\")\n",
    "\n",
    "# Run the program\n",
    "if __name__ == \"__main__\":\n",
    "    main()\n"
   ]
  },
  {
   "cell_type": "code",
   "execution_count": null,
   "id": "500df075-c63a-4122-a991-4be4e6109a60",
   "metadata": {},
   "outputs": [],
   "source": [
    " #24. Create a program that implements a simple text-based adventure game with branching scenarios."
   ]
  },
  {
   "cell_type": "code",
   "execution_count": 44,
   "id": "dee62a68-62d7-4f1b-a2ce-009442c435d2",
   "metadata": {},
   "outputs": [
    {
     "name": "stdout",
     "output_type": "stream",
     "text": [
      "Welcome to the Adventure Game!\n",
      "You find yourself standing in front of a mysterious cave.\n",
      "Do you want to enter the cave?\n"
     ]
    },
    {
     "name": "stdin",
     "output_type": "stream",
     "text": [
      "Enter 'yes' or 'no':  yes\n"
     ]
    },
    {
     "name": "stdout",
     "output_type": "stream",
     "text": [
      "\n",
      "You step inside the dark cave. The air smells damp.\n",
      "You come to a fork in the path. One path is lit by torches, and the other is dark and eerie.\n",
      "Do you choose the lit path or the dark path?\n"
     ]
    },
    {
     "name": "stdin",
     "output_type": "stream",
     "text": [
      "Enter 'lit' or 'dark':  lit\n"
     ]
    },
    {
     "name": "stdout",
     "output_type": "stream",
     "text": [
      "\n",
      "You walk along the torch-lit path. Suddenly, a huge boulder rolls down toward you!\n",
      "Do you dodge or try to stop the boulder?\n"
     ]
    },
    {
     "name": "stdin",
     "output_type": "stream",
     "text": [
      "Enter 'dodge' or 'stop':  dodge\n"
     ]
    },
    {
     "name": "stdout",
     "output_type": "stream",
     "text": [
      "\n",
      "You manage to dodge the boulder, but it crashes into the cave wall!\n",
      "You find a hidden treasure chest behind the broken rocks.\n",
      "Congratulations, you've found treasure and completed your adventure!\n"
     ]
    }
   ],
   "source": [
    "def start_game():\n",
    "    print(\"Welcome to the Adventure Game!\")\n",
    "    print(\"You find yourself standing in front of a mysterious cave.\")\n",
    "    print(\"Do you want to enter the cave?\")\n",
    "\n",
    "    choice = input(\"Enter 'yes' or 'no': \").lower()\n",
    "\n",
    "    if choice == \"yes\":\n",
    "        cave_entrance()\n",
    "    elif choice == \"no\":\n",
    "        forest_path()\n",
    "    else:\n",
    "        print(\"Invalid choice! Please enter 'yes' or 'no'.\")\n",
    "        start_game()\n",
    "\n",
    "def cave_entrance():\n",
    "    print(\"\\nYou step inside the dark cave. The air smells damp.\")\n",
    "    print(\"You come to a fork in the path. One path is lit by torches, and the other is dark and eerie.\")\n",
    "    print(\"Do you choose the lit path or the dark path?\")\n",
    "\n",
    "    choice = input(\"Enter 'lit' or 'dark': \").lower()\n",
    "\n",
    "    if choice == \"lit\":\n",
    "        torch_path()\n",
    "    elif choice == \"dark\":\n",
    "        dark_path()\n",
    "    else:\n",
    "        print(\"Invalid choice! Please enter 'lit' or 'dark'.\")\n",
    "        cave_entrance()\n",
    "\n",
    "def forest_path():\n",
    "    print(\"\\nYou decide to walk down a forest path.\")\n",
    "    print(\"After walking for a while, you spot a small cabin in the distance.\")\n",
    "    print(\"Do you want to approach the cabin or continue walking deeper into the forest?\")\n",
    "\n",
    "    choice = input(\"Enter 'cabin' or 'deeper': \").lower()\n",
    "\n",
    "    if choice == \"cabin\":\n",
    "        cabin_scene()\n",
    "    elif choice == \"deeper\":\n",
    "        deep_forest()\n",
    "    else:\n",
    "        print(\"Invalid choice! Please enter 'cabin' or 'deeper'.\")\n",
    "        forest_path()\n",
    "\n",
    "def torch_path():\n",
    "    print(\"\\nYou walk along the torch-lit path. Suddenly, a huge boulder rolls down toward you!\")\n",
    "    print(\"Do you dodge or try to stop the boulder?\")\n",
    "\n",
    "    choice = input(\"Enter 'dodge' or 'stop': \").lower()\n",
    "\n",
    "    if choice == \"dodge\":\n",
    "        print(\"\\nYou manage to dodge the boulder, but it crashes into the cave wall!\")\n",
    "        print(\"You find a hidden treasure chest behind the broken rocks.\")\n",
    "        print(\"Congratulations, you've found treasure and completed your adventure!\")\n",
    "    elif choice == \"stop\":\n",
    "        print(\"\\nYou try to stop the boulder, but it's too heavy. The boulder traps you!\")\n",
    "        print(\"Unfortunately, you are trapped forever in the cave. Game Over.\")\n",
    "    else:\n",
    "        print(\"Invalid choice! Please enter 'dodge' or 'stop'.\")\n",
    "        torch_path()\n",
    "\n",
    "def dark_path():\n",
    "    print(\"\\nYou walk down the dark path. The further you go, the darker it becomes.\")\n",
    "    print(\"Suddenly, you hear a growl! A wild creature is approaching!\")\n",
    "    print(\"Do you fight or run away?\")\n",
    "\n",
    "    choice = input(\"Enter 'fight' or 'run': \").lower()\n",
    "\n",
    "    if choice == \"fight\":\n",
    "        print(\"\\nYou bravely fight the creature and manage to defeat it!\")\n",
    "        print(\"You find a hidden exit behind the creature's lair and escape the cave.\")\n",
    "        print(\"Congratulations, you made it out alive!\")\n",
    "    elif choice == \"run\":\n",
    "        print(\"\\nYou try to run away, but the creature catches you. Game Over.\")\n",
    "    else:\n",
    "        print(\"Invalid choice! Please enter 'fight' or 'run'.\")\n",
    "        dark_path()\n",
    "\n",
    "def cabin_scene():\n",
    "    print(\"\\nYou approach the cabin. A kind old man opens the door and invites you in.\")\n",
    "    print(\"He offers you two choices: a mysterious key or a map.\")\n",
    "    print(\"Do you take the key or the map?\")\n",
    "\n",
    "    choice = input(\"Enter 'key' or 'map': \").lower()\n",
    "\n",
    "    if choice == \"key\":\n",
    "        print(\"\\nYou take the key. The old man smiles and tells you it will open a hidden door in the forest.\")\n",
    "        print(\"You walk deeper into the forest and find the door. Behind it lies a magical realm.\")\n",
    "        print(\"You step inside and live an adventure of a lifetime. Congratulations!\")\n",
    "    elif choice == \"map\":\n",
    "        print(\"\\nYou take the map. The old man warns you of dangers ahead.\")\n",
    "        print(\"You follow the map and discover a hidden treasure chest filled with gold.\")\n",
    "        print(\"You've found treasure and completed your adventure. Well done!\")\n",
    "    else:\n",
    "        print(\"Invalid choice! Please enter 'key' or 'map'.\")\n",
    "        cabin_scene()\n",
    "\n",
    "def deep_forest():\n",
    "    print(\"\\nYou walk deeper into the forest. The trees grow taller, and the air feels eerie.\")\n",
    "    print(\"You encounter a fork in the path. One path leads to a river, and the other to a dark cave.\")\n",
    "    print(\"Do you go to the river or enter the cave?\")\n",
    "\n",
    "    choice = input(\"Enter 'river' or 'cave': \").lower()\n",
    "\n",
    "    if choice == \"river\":\n",
    "        print(\"\\nYou decide to go to the river. The water is calm, and you find a boat.\")\n",
    "        print(\"You row across and discover a hidden village where you are welcomed as a hero.\")\n",
    "        print(\"Congratulations, you've found a peaceful village!\")\n",
    "    elif choice == \"cave\":\n",
    "        print(\"\\nYou enter the cave, but it's too dark to see. You get lost and never find your way out.\")\n",
    "        print(\"Game Over.\")\n",
    "    else:\n",
    "        print(\"Invalid choice! Please enter 'river' or 'cave'.\")\n",
    "        deep_forest()\n",
    "\n",
    "# Start the game\n",
    "start_game()\n"
   ]
  },
  {
   "cell_type": "code",
   "execution_count": null,
   "id": "eac15241-7abb-410b-9bc2-3f0324e552c9",
   "metadata": {},
   "outputs": [],
   "source": [
    "#25. Build a program that solves a linear equation  for x, considering different cases."
   ]
  },
  {
   "cell_type": "code",
   "execution_count": 45,
   "id": "9e5190cc-f38e-492f-acad-1e41f0e44043",
   "metadata": {},
   "outputs": [
    {
     "name": "stdout",
     "output_type": "stream",
     "text": [
      "Solve the equation ax + b = 0\n"
     ]
    },
    {
     "name": "stdin",
     "output_type": "stream",
     "text": [
      "Enter the value of a:  3\n",
      "Enter the value of b:  5\n"
     ]
    },
    {
     "name": "stdout",
     "output_type": "stream",
     "text": [
      "The solution is x = -1.6666666666666667\n"
     ]
    }
   ],
   "source": [
    "def solve_linear_equation(a, b):\n",
    "    # Case 1: a = 0 and b = 0 (Infinite solutions)\n",
    "    if a == 0 and b == 0:\n",
    "        return \"Infinite solutions (any value of x is a solution)\"\n",
    "    \n",
    "    # Case 2: a = 0 and b != 0 (No solution)\n",
    "    elif a == 0 and b != 0:\n",
    "        return \"No solution\"\n",
    "    \n",
    "    # Case 3: a != 0 (One solution)\n",
    "    else:\n",
    "        x = -b / a\n",
    "        return f\"The solution is x = {x}\"\n",
    "\n",
    "# Input: Get user values for a and b\n",
    "print(\"Solve the equation ax + b = 0\")\n",
    "a = float(input(\"Enter the value of a: \"))\n",
    "b = float(input(\"Enter the value of b: \"))\n",
    "\n",
    "# Output: Solve the equation\n",
    "result = solve_linear_equation(a, b)\n",
    "print(result)\n"
   ]
  },
  {
   "cell_type": "code",
   "execution_count": null,
   "id": "1b9f2182-b407-4a87-ad28-f028f6748466",
   "metadata": {},
   "outputs": [],
   "source": [
    "# 26. Write a program that simulates a basic quiz game with multiple-choice questions and scoring."
   ]
  },
  {
   "cell_type": "code",
   "execution_count": 2,
   "id": "60e807bf-12a8-47f2-b786-cb07d2d6cdf7",
   "metadata": {},
   "outputs": [
    {
     "name": "stdout",
     "output_type": "stream",
     "text": [
      "Welcome to the Quiz Game!\n",
      "\n",
      "What is the capital of France?\n",
      "1. Berlin\n",
      "2. Madrid\n",
      "3. Paris\n",
      "4. Rome\n",
      "\n",
      "Type 'stop' to quit the game at any time.\n"
     ]
    },
    {
     "name": "stdin",
     "output_type": "stream",
     "text": [
      "Enter the number of your answer:  1\n"
     ]
    },
    {
     "name": "stdout",
     "output_type": "stream",
     "text": [
      "Incorrect.\n",
      "\n",
      "What is 5 + 3?\n",
      "1. 6\n",
      "2. 7\n",
      "3. 8\n",
      "4. 9\n",
      "\n",
      "Type 'stop' to quit the game at any time.\n"
     ]
    },
    {
     "name": "stdin",
     "output_type": "stream",
     "text": [
      "Enter the number of your answer:  stop\n"
     ]
    },
    {
     "name": "stdout",
     "output_type": "stream",
     "text": [
      "\n",
      "You chose to stop the quiz.\n",
      "\n",
      "Your total score is: 0/4\n"
     ]
    }
   ],
   "source": [
    "def ask_question(question, options, correct_option):\n",
    "    print(f\"\\n{question}\")\n",
    "    for i, option in enumerate(options, 1):\n",
    "        print(f\"{i}. {option}\")\n",
    "    \n",
    "    # Get the user's answer\n",
    "    while True:\n",
    "        print(\"\\nType 'stop' to quit the game at any time.\")\n",
    "        answer = input(\"Enter the number of your answer: \")\n",
    "        \n",
    "        # Allow the player to stop the game\n",
    "        if answer.lower() == \"stop\":\n",
    "            return \"stop\"\n",
    "        \n",
    "        # Validate the input\n",
    "        try:\n",
    "            answer = int(answer)\n",
    "            if answer < 1 or answer > len(options):\n",
    "                print(f\"Please choose a number between 1 and {len(options)}.\")\n",
    "            else:\n",
    "                break\n",
    "        except ValueError:\n",
    "            print(\"Invalid input! Please enter a valid number.\")\n",
    "    \n",
    "    # Check if the answer is correct\n",
    "    if answer == correct_option:\n",
    "        print(\"Correct!\")\n",
    "        return 1  # Return 1 point for a correct answer\n",
    "    else:\n",
    "        print(\"Incorrect.\")\n",
    "        return 0  # Return 0 points for an incorrect answer\n",
    "\n",
    "def run_quiz():\n",
    "    questions = [\n",
    "        {\n",
    "            \"question\": \"What is the capital of France?\",\n",
    "            \"options\": [\"Berlin\", \"Madrid\", \"Paris\", \"Rome\"],\n",
    "            \"correct_option\": 3\n",
    "        },\n",
    "        {\n",
    "            \"question\": \"What is 5 + 3?\",\n",
    "            \"options\": [\"6\", \"7\", \"8\", \"9\"],\n",
    "            \"correct_option\": 3\n",
    "        },\n",
    "        {\n",
    "            \"question\": \"Which planet is known as the Red Planet?\",\n",
    "            \"options\": [\"Earth\", \"Mars\", \"Jupiter\", \"Venus\"],\n",
    "            \"correct_option\": 2\n",
    "        },\n",
    "        {\n",
    "            \"question\": \"Who wrote 'Romeo and Juliet'?\",\n",
    "            \"options\": [\"Shakespeare\", \"Dickens\", \"Austen\", \"Hemingway\"],\n",
    "            \"correct_option\": 1\n",
    "        }\n",
    "    ]\n",
    "    \n",
    "    score = 0\n",
    "    \n",
    "    print(\"Welcome to the Quiz Game!\")\n",
    "    \n",
    "    # Ask each question\n",
    "    for q in questions:\n",
    "        result = ask_question(q['question'], q['options'], q['correct_option'])\n",
    "        \n",
    "        if result == \"stop\":\n",
    "            print(\"\\nYou chose to stop the quiz.\")\n",
    "            break\n",
    "        \n",
    "        score += result\n",
    "    \n",
    "    # Display the final score\n",
    "    print(f\"\\nYour total score is: {score}/{len(questions)}\")\n",
    "\n",
    "# Run the quiz game\n",
    "run_quiz()\n"
   ]
  },
  {
   "cell_type": "code",
   "execution_count": null,
   "id": "2400be94-667f-430b-a632-36d6ae591423",
   "metadata": {},
   "outputs": [],
   "source": [
    " #27. Develop a program that determines whether a given year is a prime number or not."
   ]
  },
  {
   "cell_type": "code",
   "execution_count": 3,
   "id": "081c83bc-007c-4e88-9f32-c47472a70e84",
   "metadata": {},
   "outputs": [
    {
     "name": "stdin",
     "output_type": "stream",
     "text": [
      "Enter year 2024\n"
     ]
    },
    {
     "name": "stdout",
     "output_type": "stream",
     "text": [
      "It's a leep year\n"
     ]
    }
   ],
   "source": [
    "y = int(input(\"Enter year\"))\n",
    "\n",
    "if ((y % 400 == 0) or \n",
    "    (y % 100 != 0) and\n",
    "    ( y % 4 ==0)) :\n",
    "    print(\"It's a leep year\")\n",
    "else:\n",
    "    print(\"It's not a leap year\")\n"
   ]
  },
  {
   "cell_type": "code",
   "execution_count": null,
   "id": "df8b13c6-e260-41d6-8eab-9a16d004920d",
   "metadata": {},
   "outputs": [],
   "source": [
    "#28. Create a program that sorts three numbers in ascending order using conditional statements."
   ]
  },
  {
   "cell_type": "code",
   "execution_count": 4,
   "id": "86fd0a9b-3067-4fd1-9420-722297116605",
   "metadata": {},
   "outputs": [
    {
     "name": "stdout",
     "output_type": "stream",
     "text": [
      "Enter three numbers to sort in ascending order:\n"
     ]
    },
    {
     "name": "stdin",
     "output_type": "stream",
     "text": [
      "Enter first number:  1\n",
      "Enter second number:  3\n",
      "Enter third number:  6\n"
     ]
    },
    {
     "name": "stdout",
     "output_type": "stream",
     "text": [
      "The numbers in ascending order are: 1.0, 3.0, 6.0\n"
     ]
    }
   ],
   "source": [
    "def sort_three_numbers(a, b, c):\n",
    "    # Check if a is less than b and c\n",
    "    if a <= b and a <= c:\n",
    "        if b <= c:\n",
    "            return a, b, c  # a <= b <= c\n",
    "        else:\n",
    "            return a, c, b  # a <= c <= b\n",
    "    # Check if b is less than a and c\n",
    "    elif b <= a and b <= c:\n",
    "        if a <= c:\n",
    "            return b, a, c  # b <= a <= c\n",
    "        else:\n",
    "            return b, c, a  # b <= c <= a\n",
    "    # If neither a nor b is the smallest, c must be the smallest\n",
    "    else:\n",
    "        if a <= b:\n",
    "            return c, a, b  # c <= a <= b\n",
    "        else:\n",
    "            return c, b, a  # c <= b <= a\n",
    "\n",
    "# Input: Get the three numbers from the user\n",
    "print(\"Enter three numbers to sort in ascending order:\")\n",
    "a = float(input(\"Enter first number: \"))\n",
    "b = float(input(\"Enter second number: \"))\n",
    "c = float(input(\"Enter third number: \"))\n",
    "\n",
    "# Sorting the numbers\n",
    "sorted_numbers = sort_three_numbers(a, b, c)\n",
    "\n",
    "# Output: Display the sorted numbers\n",
    "print(f\"The numbers in ascending order are: {sorted_numbers[0]}, {sorted_numbers[1]}, {sorted_numbers[2]}\")\n"
   ]
  },
  {
   "cell_type": "code",
   "execution_count": null,
   "id": "5490c4c4-53b9-4d7a-bbb3-1ab222ccb8d9",
   "metadata": {},
   "outputs": [],
   "source": [
    " #29. Build a program that determines the roots of a quartic equation using numerical methods."
   ]
  },
  {
   "cell_type": "code",
   "execution_count": 7,
   "id": "06566e16-1478-4934-bdc4-79dbdd81680d",
   "metadata": {},
   "outputs": [
    {
     "name": "stdout",
     "output_type": "stream",
     "text": [
      "Enter the coefficients of the quartic equation ax^4 + bx^3 + cx^2 + dx + e = 0\n"
     ]
    },
    {
     "name": "stdin",
     "output_type": "stream",
     "text": [
      "Enter coefficient a:  3\n",
      "Enter coefficient b:  2\n",
      "Enter coefficient c:  4\n",
      "Enter coefficient d:  1\n",
      "Enter coefficient e:  5\n"
     ]
    },
    {
     "name": "stdout",
     "output_type": "stream",
     "text": [
      "Warning: Maximum iterations reached without convergence.\n",
      "Warning: Maximum iterations reached without convergence.\n",
      "Warning: Maximum iterations reached without convergence.\n",
      "Warning: Maximum iterations reached without convergence.\n",
      "Warning: Maximum iterations reached without convergence.\n",
      "Warning: Maximum iterations reached without convergence.\n",
      "Warning: Maximum iterations reached without convergence.\n",
      "Warning: Maximum iterations reached without convergence.\n",
      "Warning: Maximum iterations reached without convergence.\n",
      "Warning: Maximum iterations reached without convergence.\n",
      "Warning: Maximum iterations reached without convergence.\n",
      "Warning: Maximum iterations reached without convergence.\n",
      "Warning: Maximum iterations reached without convergence.\n",
      "Warning: Maximum iterations reached without convergence.\n",
      "Warning: Maximum iterations reached without convergence.\n",
      "Warning: Maximum iterations reached without convergence.\n",
      "Warning: Maximum iterations reached without convergence.\n",
      "Warning: Maximum iterations reached without convergence.\n",
      "Warning: Maximum iterations reached without convergence.\n",
      "Warning: Maximum iterations reached without convergence.\n",
      "Warning: Maximum iterations reached without convergence.\n",
      "\n",
      "The roots of the quartic equation are:\n",
      "-8.2393\n",
      "-3.620231\n",
      "-3.201688\n",
      "-2.464013\n",
      "-2.151826\n",
      "-1.437802\n",
      "-1.297803\n",
      "-0.726274\n",
      "-0.725049\n",
      "-0.038338\n",
      "0.145784\n",
      "0.400567\n",
      "1.874993\n",
      "1.89285\n",
      "2.005963\n",
      "3.462107\n",
      "6.354415\n",
      "8.279191\n",
      "11.290809\n",
      "12.209707\n",
      "13.517749\n"
     ]
    }
   ],
   "source": [
    "# Define the quartic equation and its derivative\n",
    "def quartic_eq(x, a, b, c, d, e):\n",
    "    return a * x**4 + b * x**3 + c * x**2 + d * x + e\n",
    "\n",
    "def quartic_derivative(x, a, b, c, d):\n",
    "    return 4 * a * x**3 + 3 * b * x**2 + 2 * c * x + d\n",
    "\n",
    "# Newton's method to find a root of the quartic equation\n",
    "def newtons_method(f, f_prime, x0, a, b, c, d, e, tolerance=1e-6, max_iter=100):\n",
    "    x = x0\n",
    "    for i in range(max_iter):\n",
    "        fx = f(x, a, b, c, d, e)\n",
    "        f_prime_x = f_prime(x, a, b, c, d)\n",
    "        \n",
    "        if abs(fx) < tolerance:  # Convergence criterion\n",
    "            return x\n",
    "        \n",
    "        if f_prime_x == 0:  # Avoid division by zero\n",
    "            print(f\"Warning: Derivative is zero at iteration {i}, returning current guess.\")\n",
    "            return x\n",
    "        \n",
    "        x = x - fx / f_prime_x  # Newton's method iteration\n",
    "    \n",
    "    print(\"Warning: Maximum iterations reached without convergence.\")\n",
    "    return x\n",
    "\n",
    "# Function to find all roots (with multiple initial guesses)\n",
    "def find_roots(a, b, c, d, e):\n",
    "    roots = []\n",
    "    initial_guesses = [x for x in range(-10, 11)]  # Initial guesses for Newton's method (from -10 to 10)\n",
    "    \n",
    "    for guess in initial_guesses:\n",
    "        root = newtons_method(quartic_eq, quartic_derivative, guess, a, b, c, d, e)\n",
    "        \n",
    "        # Round to avoid duplicates due to numerical precision\n",
    "        root_rounded = round(root, 6)\n",
    "        \n",
    "        # Add root if it's not already found (avoid duplicates)\n",
    "        if root_rounded not in [round(r, 6) for r in roots]:\n",
    "            roots.append(root_rounded)\n",
    "    \n",
    "    return sorted(roots)\n",
    "\n",
    "# Input the coefficients of the quartic equation\n",
    "print(\"Enter the coefficients of the quartic equation ax^4 + bx^3 + cx^2 + dx + e = 0\")\n",
    "a = float(input(\"Enter coefficient a: \"))\n",
    "b = float(input(\"Enter coefficient b: \"))\n",
    "c = float(input(\"Enter coefficient c: \"))\n",
    "d = float(input(\"Enter coefficient d: \"))\n",
    "e = float(input(\"Enter coefficient e: \"))\n",
    "\n",
    "# Find the roots of the quartic equation\n",
    "roots = find_roots(a, b, c, d, e)\n",
    "\n",
    "# Output the roots\n",
    "print(\"\\nThe roots of the quartic equation are:\")\n",
    "for root in roots:\n",
    "    print(root)\n"
   ]
  },
  {
   "cell_type": "code",
   "execution_count": null,
   "id": "333891fb-ab0f-4b90-b2c2-011d8e5eec05",
   "metadata": {},
   "outputs": [],
   "source": [
    " #30. Write a program that calculates the BMI (Body Mass Index) and provides health recommendations based on the user's input."
   ]
  },
  {
   "cell_type": "code",
   "execution_count": 8,
   "id": "c877044b-6b3c-4669-978d-ef4b96385d36",
   "metadata": {},
   "outputs": [
    {
     "name": "stdout",
     "output_type": "stream",
     "text": [
      "BMI Calculator\n"
     ]
    },
    {
     "name": "stdin",
     "output_type": "stream",
     "text": [
      "Enter your weight (in kilograms):  63\n",
      "Enter your height (in meters):  1.76\n"
     ]
    },
    {
     "name": "stdout",
     "output_type": "stream",
     "text": [
      "\n",
      "Your BMI is: 20.34\n",
      "You have a normal weight. Keep maintaining a healthy lifestyle with regular exercise and a balanced diet.\n"
     ]
    }
   ],
   "source": [
    "def calculate_bmi(weight, height):\n",
    "    # Calculate BMI\n",
    "    bmi = weight / (height ** 2)\n",
    "    return bmi\n",
    "\n",
    "def health_recommendation(bmi):\n",
    "    # Provide health recommendations based on BMI\n",
    "    if bmi < 18.5:\n",
    "        return \"You are underweight. It's important to eat a balanced diet and consult a healthcare provider to ensure you're getting enough nutrients.\"\n",
    "    elif 18.5 <= bmi < 24.9:\n",
    "        return \"You have a normal weight. Keep maintaining a healthy lifestyle with regular exercise and a balanced diet.\"\n",
    "    elif 25 <= bmi < 29.9:\n",
    "        return \"You are overweight. It's important to consider a balanced diet and regular physical activity to achieve a healthy weight.\"\n",
    "    else:\n",
    "        return \"You have obesity. It is highly recommended to consult a healthcare provider for personalized advice and a weight management plan.\"\n",
    "\n",
    "def main():\n",
    "    # User input for weight and height\n",
    "    print(\"BMI Calculator\")\n",
    "    \n",
    "    weight = float(input(\"Enter your weight (in kilograms): \"))\n",
    "    height = float(input(\"Enter your height (in meters): \"))\n",
    "    \n",
    "    # Calculate BMI\n",
    "    bmi = calculate_bmi(weight, height)\n",
    "    \n",
    "    # Display the BMI result\n",
    "    print(f\"\\nYour BMI is: {bmi:.2f}\")\n",
    "    \n",
    "    # Provide health recommendations\n",
    "    recommendation = health_recommendation(bmi)\n",
    "    print(recommendation)\n",
    "\n",
    "# Run the program\n",
    "if __name__ == \"__main__\":\n",
    "    main()\n"
   ]
  },
  {
   "cell_type": "code",
   "execution_count": null,
   "id": "1f578f20-49c7-4cd5-b35a-78c420e05c11",
   "metadata": {},
   "outputs": [],
   "source": [
    " #31. Create a program that validates a password based on complexity rules (length, characters, etc.)."
   ]
  },
  {
   "cell_type": "code",
   "execution_count": 9,
   "id": "e79f4b02-e17b-4ea1-bbba-49aaa95eda9c",
   "metadata": {},
   "outputs": [
    {
     "name": "stdout",
     "output_type": "stream",
     "text": [
      "Password Validator\n"
     ]
    },
    {
     "name": "stdin",
     "output_type": "stream",
     "text": [
      "Enter your password:  Tuntun@123\n"
     ]
    },
    {
     "name": "stdout",
     "output_type": "stream",
     "text": [
      "Password is valid.\n"
     ]
    }
   ],
   "source": [
    "import re\n",
    "\n",
    "def validate_password(password):\n",
    "    # Check the length of the password (at least 8 characters)\n",
    "    if len(password) < 8:\n",
    "        return \"Password must be at least 8 characters long.\"\n",
    "\n",
    "    # Check for at least one uppercase letter\n",
    "    if not re.search(r'[A-Z]', password):\n",
    "        return \"Password must contain at least one uppercase letter.\"\n",
    "    \n",
    "    # Check for at least one lowercase letter\n",
    "    if not re.search(r'[a-z]', password):\n",
    "        return \"Password must contain at least one lowercase letter.\"\n",
    "\n",
    "    # Check for at least one numeric digit\n",
    "    if not re.search(r'[0-9]', password):\n",
    "        return \"Password must contain at least one digit.\"\n",
    "\n",
    "    # Check for at least one special character\n",
    "    if not re.search(r'[@#$%^&+=!]', password):\n",
    "        return \"Password must contain at least one special character (e.g., @, #, $, %, ^, &, +, =, !).\"\n",
    "\n",
    "    # Check for spaces in the password\n",
    "    if ' ' in password:\n",
    "        return \"Password should not contain spaces.\"\n",
    "\n",
    "    # If all checks pass\n",
    "    return \"Password is valid.\"\n",
    "\n",
    "def main():\n",
    "    # Get user input for password\n",
    "    print(\"Password Validator\")\n",
    "    password = input(\"Enter your password: \")\n",
    "    \n",
    "    # Validate the password\n",
    "    result = validate_password(password)\n",
    "    \n",
    "    # Display result\n",
    "    print(result)\n",
    "\n",
    "# Run the program\n",
    "if __name__ == \"__main__\":\n",
    "    main()\n"
   ]
  },
  {
   "cell_type": "code",
   "execution_count": null,
   "id": "0021c975-1cc8-40ce-b167-f422181629ae",
   "metadata": {},
   "outputs": [],
   "source": [
    " #32. Develop a program that performs matrix addition and subtraction based on user input."
   ]
  },
  {
   "cell_type": "code",
   "execution_count": 10,
   "id": "aac7a01a-0f43-4008-b266-32cf14ff7acb",
   "metadata": {},
   "outputs": [
    {
     "name": "stdin",
     "output_type": "stream",
     "text": [
      "Enter the number of rows for the matrices:  2\n",
      "Enter the number of columns for the matrices:  4\n"
     ]
    },
    {
     "name": "stdout",
     "output_type": "stream",
     "text": [
      "Matrix 1:\n",
      "Enter the elements of a 2x4 matrix:\n"
     ]
    },
    {
     "name": "stdin",
     "output_type": "stream",
     "text": [
      "Enter element at position (1,1):  1233\n",
      "Enter element at position (1,2):  3344\n",
      "Enter element at position (1,3):  4551\n",
      "Enter element at position (1,4):  1\n",
      "Enter element at position (2,1):  1\n",
      "Enter element at position (2,2):  1\n",
      "Enter element at position (2,3):  1\n",
      "Enter element at position (2,4):  1\n"
     ]
    },
    {
     "name": "stdout",
     "output_type": "stream",
     "text": [
      "Matrix 2:\n",
      "Enter the elements of a 2x4 matrix:\n"
     ]
    },
    {
     "name": "stdin",
     "output_type": "stream",
     "text": [
      "Enter element at position (1,1):  1\n",
      "Enter element at position (1,2):  1\n",
      "Enter element at position (1,3):  1\n",
      "Enter element at position (1,4):  3\n",
      "Enter element at position (2,1):  3\n",
      "Enter element at position (2,2):  4\n",
      "Enter element at position (2,3):  4\n",
      "Enter element at position (2,4):  4\n"
     ]
    },
    {
     "name": "stdout",
     "output_type": "stream",
     "text": [
      "\n",
      "Choose an operation:\n",
      "1. Add Matrices\n",
      "2. Subtract Matrices\n"
     ]
    },
    {
     "name": "stdin",
     "output_type": "stream",
     "text": [
      "Enter your choice (1 or 2):  4\n"
     ]
    },
    {
     "name": "stdout",
     "output_type": "stream",
     "text": [
      "Invalid choice. Please choose either 1 or 2.\n"
     ]
    }
   ],
   "source": [
    "def get_matrix_input(rows, cols):\n",
    "    \"\"\"Function to get matrix input from the user.\"\"\"\n",
    "    matrix = []\n",
    "    print(f\"Enter the elements of a {rows}x{cols} matrix:\")\n",
    "    for i in range(rows):\n",
    "        row = []\n",
    "        for j in range(cols):\n",
    "            value = float(input(f\"Enter element at position ({i+1},{j+1}): \"))\n",
    "            row.append(value)\n",
    "        matrix.append(row)\n",
    "    return matrix\n",
    "\n",
    "def print_matrix(matrix):\n",
    "    \"\"\"Function to print a matrix.\"\"\"\n",
    "    for row in matrix:\n",
    "        print(\" \".join([str(elem) for elem in row]))\n",
    "\n",
    "def add_matrices(matrix1, matrix2):\n",
    "    \"\"\"Function to add two matrices.\"\"\"\n",
    "    rows = len(matrix1)\n",
    "    cols = len(matrix1[0])\n",
    "    result = [[matrix1[i][j] + matrix2[i][j] for j in range(cols)] for i in range(rows)]\n",
    "    return result\n",
    "\n",
    "def subtract_matrices(matrix1, matrix2):\n",
    "    \"\"\"Function to subtract two matrices.\"\"\"\n",
    "    rows = len(matrix1)\n",
    "    cols = len(matrix1[0])\n",
    "    result = [[matrix1[i][j] - matrix2[i][j] for j in range(cols)] for i in range(rows)]\n",
    "    return result\n",
    "\n",
    "def main():\n",
    "    # Get matrix dimensions from the user\n",
    "    rows = int(input(\"Enter the number of rows for the matrices: \"))\n",
    "    cols = int(input(\"Enter the number of columns for the matrices: \"))\n",
    "\n",
    "    # Get input for the two matrices\n",
    "    print(\"Matrix 1:\")\n",
    "    matrix1 = get_matrix_input(rows, cols)\n",
    "    \n",
    "    print(\"Matrix 2:\")\n",
    "    matrix2 = get_matrix_input(rows, cols)\n",
    "\n",
    "    # Display menu for matrix operation\n",
    "    print(\"\\nChoose an operation:\")\n",
    "    print(\"1. Add Matrices\")\n",
    "    print(\"2. Subtract Matrices\")\n",
    "    choice = int(input(\"Enter your choice (1 or 2): \"))\n",
    "\n",
    "    # Perform the chosen operation\n",
    "    if choice == 1:\n",
    "        result = add_matrices(matrix1, matrix2)\n",
    "        print(\"\\nThe result of matrix addition is:\")\n",
    "    elif choice == 2:\n",
    "        result = subtract_matrices(matrix1, matrix2)\n",
    "        print(\"\\nThe result of matrix subtraction is:\")\n",
    "    else:\n",
    "        print(\"Invalid choice. Please choose either 1 or 2.\")\n",
    "        return\n",
    "\n",
    "    # Print the resulting matrix\n",
    "    print_matrix(result)\n",
    "\n",
    "# Run the program\n",
    "if __name__ == \"__main__\":\n",
    "    main()\n",
    "4\n"
   ]
  },
  {
   "cell_type": "code",
   "execution_count": null,
   "id": "a510651c-992d-46f5-97cd-306d78b7168c",
   "metadata": {},
   "outputs": [],
   "source": [
    "# 33. Write a program that calculates the greatest common divisor (GCD) of two numbers using the Euclidean algorithm."
   ]
  },
  {
   "cell_type": "code",
   "execution_count": 11,
   "id": "071c2ffa-d899-42a6-9757-a334a8114919",
   "metadata": {},
   "outputs": [
    {
     "name": "stdout",
     "output_type": "stream",
     "text": [
      "GCD Calculator using Euclidean Algorithm\n"
     ]
    },
    {
     "name": "stdin",
     "output_type": "stream",
     "text": [
      "Enter the first number:  2\n",
      "Enter the second number:  4\n"
     ]
    },
    {
     "name": "stdout",
     "output_type": "stream",
     "text": [
      "The Greatest Common Divisor (GCD) of 2 and 4 is: 2\n"
     ]
    }
   ],
   "source": [
    "def gcd_euclidean(a, b):\n",
    "    \"\"\"Function to calculate the Greatest Common Divisor (GCD) using the Euclidean algorithm.\"\"\"\n",
    "    while b != 0:\n",
    "        a, b = b, a % b  # Replace a by b, and b by a % b\n",
    "    return a\n",
    "\n",
    "def main():\n",
    "    # Input two numbers from the user\n",
    "    print(\"GCD Calculator using Euclidean Algorithm\")\n",
    "    num1 = int(input(\"Enter the first number: \"))\n",
    "    num2 = int(input(\"Enter the second number: \"))\n",
    "    \n",
    "    # Calculate GCD\n",
    "    result = gcd_euclidean(num1, num2)\n",
    "    \n",
    "    # Output the result\n",
    "    print(f\"The Greatest Common Divisor (GCD) of {num1} and {num2} is: {result}\")\n",
    "\n",
    "# Run the program\n",
    "if __name__ == \"__main__\":\n",
    "    main()\n"
   ]
  },
  {
   "cell_type": "code",
   "execution_count": null,
   "id": "6db37419-e3c2-4b48-8753-e682cc61568e",
   "metadata": {},
   "outputs": [],
   "source": [
    "#34. Build a program that performs matrix multiplication using nested loops and conditional statements."
   ]
  },
  {
   "cell_type": "code",
   "execution_count": 12,
   "id": "38be7967-fddf-464c-9ac5-5e835b2628c1",
   "metadata": {},
   "outputs": [
    {
     "name": "stdout",
     "output_type": "stream",
     "text": [
      "Matrix Multiplication Program\n"
     ]
    },
    {
     "name": "stdin",
     "output_type": "stream",
     "text": [
      "Enter the number of rows for matrix A:  2\n",
      "Enter the number of columns for matrix A:  2\n",
      "Enter the number of rows for matrix B:  1\n",
      "Enter the number of columns for matrix B:  1\n"
     ]
    },
    {
     "name": "stdout",
     "output_type": "stream",
     "text": [
      "Matrix multiplication is not possible: number of columns in A must equal number of rows in B.\n"
     ]
    }
   ],
   "source": [
    "def get_matrix_input(rows, cols):\n",
    "    \"\"\"Function to get matrix input from the user.\"\"\"\n",
    "    matrix = []\n",
    "    print(f\"Enter the elements of a {rows}x{cols} matrix:\")\n",
    "    for i in range(rows):\n",
    "        row = []\n",
    "        for j in range(cols):\n",
    "            value = float(input(f\"Enter element at position ({i+1},{j+1}): \"))\n",
    "            row.append(value)\n",
    "        matrix.append(row)\n",
    "    return matrix\n",
    "\n",
    "def print_matrix(matrix):\n",
    "    \"\"\"Function to print a matrix.\"\"\"\n",
    "    for row in matrix:\n",
    "        print(\" \".join([str(elem) for elem in row]))\n",
    "\n",
    "def matrix_multiply(A, B):\n",
    "    \"\"\"Function to multiply two matrices A and B.\"\"\"\n",
    "    # Get dimensions of the matrices\n",
    "    m = len(A)      # Number of rows in A\n",
    "    n = len(A[0])   # Number of columns in A (also rows in B)\n",
    "    p = len(B[0])   # Number of columns in B\n",
    "    \n",
    "    # Check if multiplication is possible (columns of A must be equal to rows of B)\n",
    "    if n != len(B):\n",
    "        raise ValueError(\"Matrix multiplication is not possible: number of columns in A must equal number of rows in B.\")\n",
    "    \n",
    "    # Create an empty result matrix C with dimensions m x p\n",
    "    C = [[0 for _ in range(p)] for _ in range(m)]\n",
    "    \n",
    "    # Perform matrix multiplication\n",
    "    for i in range(m):         # Iterate over rows of A\n",
    "        for j in range(p):     # Iterate over columns of B\n",
    "            for k in range(n): # Iterate over columns of A / rows of B\n",
    "                C[i][j] += A[i][k] * B[k][j]\n",
    "    \n",
    "    return C\n",
    "\n",
    "def main():\n",
    "    # Get matrix dimensions from the user\n",
    "    print(\"Matrix Multiplication Program\")\n",
    "    \n",
    "    # Input dimensions of matrix A\n",
    "    rows_A = int(input(\"Enter the number of rows for matrix A: \"))\n",
    "    cols_A = int(input(\"Enter the number of columns for matrix A: \"))\n",
    "    \n",
    "    # Input dimensions of matrix B\n",
    "    rows_B = int(input(\"Enter the number of rows for matrix B: \"))\n",
    "    cols_B = int(input(\"Enter the number of columns for matrix B: \"))\n",
    "    \n",
    "    # Check if matrix multiplication is possible\n",
    "    if cols_A != rows_B:\n",
    "        print(\"Matrix multiplication is not possible: number of columns in A must equal number of rows in B.\")\n",
    "        return\n",
    "\n",
    "    # Get input for matrix A and matrix B\n",
    "    print(\"Matrix A:\")\n",
    "    A = get_matrix_input(rows_A, cols_A)\n",
    "    \n",
    "    print(\"Matrix B:\")\n",
    "    B = get_matrix_input(rows_B, cols_B)\n",
    "\n",
    "    # Perform matrix multiplication\n",
    "    C = matrix_multiply(A, B)\n",
    "\n",
    "    # Print the result matrix\n",
    "    print(\"\\nThe result of matrix multiplication is:\")\n",
    "    print_matrix(C)\n",
    "\n",
    "# Run the program\n",
    "if __name__ == \"__main__\":\n",
    "    main()\n"
   ]
  },
  {
   "cell_type": "code",
   "execution_count": null,
   "id": "ad966585-10cf-4546-a02b-73c71eff0328",
   "metadata": {},
   "outputs": [],
   "source": [
    "# 35. Create a program that simulates a basic text-based tic-tac-toe game against the computer.\n",
    " "
   ]
  },
  {
   "cell_type": "code",
   "execution_count": 1,
   "id": "67f56690-eef0-4a15-8367-67c6524749e7",
   "metadata": {},
   "outputs": [
    {
     "name": "stdout",
     "output_type": "stream",
     "text": [
      "\n",
      "\n",
      "  |   |  \n",
      "--+---+--\n",
      "  |   |  \n",
      "--+---+--\n",
      "  |   |  \n",
      "\n",
      "\n"
     ]
    },
    {
     "name": "stdin",
     "output_type": "stream",
     "text": [
      "Enter your move (1-9) or type 'stop' to quit:  3\n"
     ]
    },
    {
     "name": "stdout",
     "output_type": "stream",
     "text": [
      "\n",
      "\n",
      "  |   | X\n",
      "--+---+--\n",
      "  |   |  \n",
      "--+---+--\n",
      "  |   |  \n",
      "\n",
      "\n",
      "Computer plays: 8\n",
      "\n",
      "\n",
      "  |   | X\n",
      "--+---+--\n",
      "  |   |  \n",
      "--+---+--\n",
      "  | O |  \n",
      "\n",
      "\n"
     ]
    },
    {
     "name": "stdin",
     "output_type": "stream",
     "text": [
      "Enter your move (1-9) or type 'stop' to quit:  stop\n"
     ]
    },
    {
     "name": "stdout",
     "output_type": "stream",
     "text": [
      "You have quit the game.\n"
     ]
    }
   ],
   "source": [
    "import random\n",
    "\n",
    "# Function to initialize the board\n",
    "def initialize_board():\n",
    "    return [' ' for _ in range(9)]  # A list with 9 empty spaces representing the board\n",
    "\n",
    "# Function to print the Tic-Tac-Toe board\n",
    "def print_board(board):\n",
    "    print(\"\\n\")\n",
    "    for i in range(0, 9, 3):\n",
    "        print(f\"{board[i]} | {board[i+1]} | {board[i+2]}\")\n",
    "        if i < 6:\n",
    "            print(\"--+---+--\")\n",
    "    print(\"\\n\")\n",
    "\n",
    "# Function to check if a player has won\n",
    "def check_winner(board, player):\n",
    "    win_conditions = [(0, 1, 2), (3, 4, 5), (6, 7, 8),  # Rows\n",
    "                      (0, 3, 6), (1, 4, 7), (2, 5, 8),  # Columns\n",
    "                      (0, 4, 8), (2, 4, 6)]             # Diagonals\n",
    "    for condition in win_conditions:\n",
    "        if board[condition[0]] == board[condition[1]] == board[condition[2]] == player:\n",
    "            return True\n",
    "    return False\n",
    "\n",
    "# Function to check if the board is full (draw condition)\n",
    "def is_board_full(board):\n",
    "    return ' ' not in board\n",
    "\n",
    "# Function to get available moves (empty spots on the board)\n",
    "def available_moves(board):\n",
    "    return [i for i in range(9) if board[i] == ' ']\n",
    "\n",
    "# Function for the player's turn\n",
    "def player_turn(board):\n",
    "    while True:\n",
    "        move = input(\"Enter your move (1-9) or type 'stop' to quit: \").strip().lower()\n",
    "        if move == 'stop':\n",
    "            return 'stop'\n",
    "        try:\n",
    "            move = int(move) - 1\n",
    "            if move < 0 or move > 8 or board[move] != ' ':\n",
    "                print(\"Invalid move, try again.\")\n",
    "            else:\n",
    "                return move\n",
    "        except ValueError:\n",
    "            print(\"Please enter a number between 1 and 9 or 'stop' to quit.\")\n",
    "\n",
    "# Function for the computer's turn (random move)\n",
    "def computer_turn(board):\n",
    "    move = random.choice(available_moves(board))\n",
    "    print(f\"Computer plays: {move + 1}\")\n",
    "    return move\n",
    "\n",
    "# Main function for the game\n",
    "def play_game():\n",
    "    board = initialize_board()\n",
    "    current_player = 'X'  # Player is 'X', computer is 'O'\n",
    "\n",
    "    while True:\n",
    "        print_board(board)\n",
    "\n",
    "        # Player's turn\n",
    "        if current_player == 'X':\n",
    "            move = player_turn(board)\n",
    "            if move == 'stop':\n",
    "                print(\"You have quit the game.\")\n",
    "                break\n",
    "            board[move] = 'X'\n",
    "            if check_winner(board, 'X'):\n",
    "                print_board(board)\n",
    "                print(\"You win!\")\n",
    "                break\n",
    "            current_player = 'O'\n",
    "\n",
    "        # Computer's turn\n",
    "        else:\n",
    "            move = computer_turn(board)\n",
    "            board[move] = 'O'\n",
    "            if check_winner(board, 'O'):\n",
    "                print_board(board)\n",
    "                print(\"Computer wins!\")\n",
    "                break\n",
    "            current_player = 'X'\n",
    "\n",
    "        # Check for draw\n",
    "        if is_board_full(board):\n",
    "            print_board(board)\n",
    "            print(\"It's a draw!\")\n",
    "            break\n",
    "\n",
    "# Run the game\n",
    "if __name__ == \"__main__\":\n",
    "    play_game()\n",
    "\n"
   ]
  },
  {
   "cell_type": "code",
   "execution_count": null,
   "id": "d9b96697-9b6e-4c24-a008-8c990c8e6979",
   "metadata": {},
   "outputs": [],
   "source": [
    "#36. Write a program that generates Fibonacci numbers up to a specified term using iterative methods."
   ]
  },
  {
   "cell_type": "code",
   "execution_count": 2,
   "id": "6cffec3b-a5ef-4c47-961a-d16b62372566",
   "metadata": {},
   "outputs": [
    {
     "name": "stdin",
     "output_type": "stream",
     "text": [
      "Enter the number of Fibonacci terms to generate:  3\n"
     ]
    },
    {
     "name": "stdout",
     "output_type": "stream",
     "text": [
      "The first 3 Fibonacci numbers are:\n",
      "[0, 1, 1]\n"
     ]
    }
   ],
   "source": [
    "def generate_fibonacci(n):\n",
    "    # List to store Fibonacci numbers\n",
    "    fibonacci_sequence = []\n",
    "\n",
    "    # First two terms are fixed\n",
    "    if n >= 1:\n",
    "        fibonacci_sequence.append(0)  # F(0)\n",
    "    if n >= 2:\n",
    "        fibonacci_sequence.append(1)  # F(1)\n",
    "\n",
    "    # Generate Fibonacci numbers from F(2) to F(n-1)\n",
    "    a, b = 0, 1\n",
    "    for _ in range(2, n):\n",
    "        a, b = b, a + b\n",
    "        fibonacci_sequence.append(b)\n",
    "    \n",
    "    return fibonacci_sequence\n",
    "\n",
    "def main():\n",
    "    # Get the term number from the user\n",
    "    n = int(input(\"Enter the number of Fibonacci terms to generate: \"))\n",
    "    \n",
    "    # Generate and print the Fibonacci sequence\n",
    "    fibonacci_sequence = generate_fibonacci(n)\n",
    "    \n",
    "    print(f\"The first {n} Fibonacci numbers are:\")\n",
    "    print(fibonacci_sequence)\n",
    "\n",
    "if __name__ == \"__main__\":\n",
    "    main()\n"
   ]
  },
  {
   "cell_type": "code",
   "execution_count": null,
   "id": "b17a7b57-7086-4ead-9779-f41b801fb858",
   "metadata": {},
   "outputs": [],
   "source": [
    " #37. Develop a program that calculates the nth term of the Fibonacci sequence using memoization."
   ]
  },
  {
   "cell_type": "code",
   "execution_count": 3,
   "id": "259a4a38-f11a-4cff-89a1-8666c21fad0f",
   "metadata": {},
   "outputs": [
    {
     "name": "stdin",
     "output_type": "stream",
     "text": [
      "Enter the term number (n) for the Fibonacci sequence:  4\n"
     ]
    },
    {
     "name": "stdout",
     "output_type": "stream",
     "text": [
      "The 4th term of the Fibonacci sequence is: 3\n"
     ]
    }
   ],
   "source": [
    "# Memoized Fibonacci function\n",
    "def fibonacci(n, memo={}):\n",
    "    # Base cases\n",
    "    if n == 0:\n",
    "        return 0\n",
    "    elif n == 1:\n",
    "        return 1\n",
    "\n",
    "    # Check if result is already computed\n",
    "    if n in memo:\n",
    "        return memo[n]\n",
    "\n",
    "    # Compute Fibonacci using the recursive formula\n",
    "    memo[n] = fibonacci(n-1, memo) + fibonacci(n-2, memo)\n",
    "\n",
    "    return memo[n]\n",
    "\n",
    "def main():\n",
    "    # Get the nth term from the user\n",
    "    n = int(input(\"Enter the term number (n) for the Fibonacci sequence: \"))\n",
    "    \n",
    "    # Calculate the nth Fibonacci number using memoization\n",
    "    result = fibonacci(n)\n",
    "    \n",
    "    # Print the result\n",
    "    print(f\"The {n}th term of the Fibonacci sequence is: {result}\")\n",
    "\n",
    "if __name__ == \"__main__\":\n",
    "    main()\n"
   ]
  },
  {
   "cell_type": "code",
   "execution_count": null,
   "id": "9bdde1fb-58db-4ce7-88ff-e266610af6f7",
   "metadata": {},
   "outputs": [],
   "source": [
    "#38. Create a program that generates a calendar for a given month and year using conditional statements."
   ]
  },
  {
   "cell_type": "code",
   "execution_count": 4,
   "id": "7072e869-b47b-4fbb-853f-3930079dc061",
   "metadata": {},
   "outputs": [
    {
     "name": "stdin",
     "output_type": "stream",
     "text": [
      "Enter the month (1-12):  3\n",
      "Enter the year (e.g., 2024):  2024\n"
     ]
    },
    {
     "name": "stdout",
     "output_type": "stream",
     "text": [
      "\n",
      "March 2024\n",
      "--------------------\n",
      "Monday Tuesday Wednesday Thursday Friday Saturday Sunday\n",
      "                 1  2  3 \n",
      " 4  5  6  7  8  9 10 \n",
      "11 12 13 14 15 16 17 \n",
      "18 19 20 21 22 23 24 \n",
      "25 26 27 28 29 30 31 \n"
     ]
    }
   ],
   "source": [
    "import calendar\n",
    "\n",
    "def generate_calendar(month, year):\n",
    "    # List of days of the week\n",
    "    days_of_week = [\"Monday\", \"Tuesday\", \"Wednesday\", \"Thursday\", \"Friday\", \"Saturday\", \"Sunday\"]\n",
    "\n",
    "    # Get the first weekday and the number of days in the month\n",
    "    first_weekday, num_days = calendar.monthrange(year, month)\n",
    "\n",
    "    # Print the header with days of the week\n",
    "    print(f\"\\n{calendar.month_name[month]} {year}\")\n",
    "    print(\"-\" * 20)\n",
    "    print(\" \".join(days_of_week))  # Print the days of the week header\n",
    "\n",
    "    # Print leading spaces for the first week\n",
    "    current_day = 1\n",
    "    for i in range(first_weekday):\n",
    "        print(\"    \", end=\"\")  # Print spaces for days before the first day of the month\n",
    "\n",
    "    # Print the days of the month\n",
    "    for day in range(first_weekday, 7):\n",
    "        print(f\"{current_day:2} \", end=\"\")  # Print the day with space padding\n",
    "        current_day += 1\n",
    "\n",
    "    print()  # Move to the next line after the first week\n",
    "\n",
    "    # Print the remaining weeks of the month\n",
    "    while current_day <= num_days:\n",
    "        for day in range(7):\n",
    "            if current_day <= num_days:\n",
    "                print(f\"{current_day:2} \", end=\"\")  # Print the day\n",
    "                current_day += 1\n",
    "            else:\n",
    "                print(\"    \", end=\"\")  # Print spaces if there are fewer than 7 days in the last week\n",
    "\n",
    "        print()  # Move to the next line after each week\n",
    "\n",
    "def main():\n",
    "    # Get user input for the month and year\n",
    "    while True:\n",
    "        try:\n",
    "            month = int(input(\"Enter the month (1-12): \"))\n",
    "            if month < 1 or month > 12:\n",
    "                print(\"Please enter a valid month between 1 and 12.\")\n",
    "                continue\n",
    "            year = int(input(\"Enter the year (e.g., 2024): \"))\n",
    "            break\n",
    "        except ValueError:\n",
    "            print(\"Invalid input. Please enter numeric values for both month and year.\")\n",
    "\n",
    "    # Generate the calendar for the given month and year\n",
    "    generate_calendar(month, year)\n",
    "\n",
    "if __name__ == \"__main__\":\n",
    "    main()\n"
   ]
  },
  {
   "cell_type": "code",
   "execution_count": null,
   "id": "8cf3106f-0eb0-457d-a54e-b4059297329d",
   "metadata": {},
   "outputs": [],
   "source": [
    "# 39. Build a program that simulates a basic text-based blackjack game against the computer."
   ]
  },
  {
   "cell_type": "code",
   "execution_count": 5,
   "id": "6d305c21-1486-4d1b-931b-23c75353bb26",
   "metadata": {},
   "outputs": [
    {
     "name": "stdout",
     "output_type": "stream",
     "text": [
      "Welcome to Blackjack!\n",
      "Your's hand: 11 of Clubs, 10 of Spades\n",
      "Dealer's hand: 3 of Hearts and a hidden card.\n",
      "Your score: 21\n"
     ]
    },
    {
     "name": "stdin",
     "output_type": "stream",
     "text": [
      "Do you want to (h)it or (s)tand?  h\n"
     ]
    },
    {
     "name": "stdout",
     "output_type": "stream",
     "text": [
      "Your's hand: 11 of Clubs, 10 of Spades, 9 of Hearts\n",
      "Your score: 20\n"
     ]
    },
    {
     "name": "stdin",
     "output_type": "stream",
     "text": [
      "Do you want to (h)it or (s)tand?  s\n"
     ]
    },
    {
     "name": "stdout",
     "output_type": "stream",
     "text": [
      "Dealer's hand: 3 of Hearts, 10 of Spades\n",
      "Dealer hits.\n",
      "Dealer's hand: 3 of Hearts, 10 of Spades, 7 of Diamonds\n",
      "Your final score: 20\n",
      "Dealer's final score: 20\n",
      "It's a tie!\n"
     ]
    }
   ],
   "source": [
    "import random\n",
    "\n",
    "# Define the deck of cards\n",
    "# Card values: 2-10 are their face values, Jack, Queen, King are worth 10, Ace can be 1 or 11\n",
    "def create_deck():\n",
    "    values = [2, 3, 4, 5, 6, 7, 8, 9, 10, 10, 10, 10, 11]\n",
    "    suits = ['Hearts', 'Diamonds', 'Clubs', 'Spades']\n",
    "    deck = [(value, suit) for value in values for suit in suits]\n",
    "    random.shuffle(deck)\n",
    "    return deck\n",
    "\n",
    "# Calculate the total score for a hand\n",
    "def calculate_score(hand):\n",
    "    score = sum(card[0] for card in hand)\n",
    "    # Adjust for Aces (if score is over 21 and we have an Ace, count it as 1 instead of 11)\n",
    "    aces = sum(1 for card in hand if card[0] == 11)\n",
    "    while score > 21 and aces:\n",
    "        score -= 10\n",
    "        aces -= 1\n",
    "    return score\n",
    "\n",
    "# Print a hand of cards in a readable format\n",
    "def print_hand(name, hand):\n",
    "    hand_str = \", \".join([f\"{card[0]} of {card[1]}\" for card in hand])\n",
    "    print(f\"{name}'s hand: {hand_str}\")\n",
    "\n",
    "# Main game function\n",
    "def play_blackjack():\n",
    "    print(\"Welcome to Blackjack!\")\n",
    "    \n",
    "    # Initialize deck and hands\n",
    "    deck = create_deck()\n",
    "    player_hand = [deck.pop(), deck.pop()]\n",
    "    dealer_hand = [deck.pop(), deck.pop()]\n",
    "    \n",
    "    # Show initial hands (dealer's second card is hidden)\n",
    "    print_hand(\"Your\", player_hand)\n",
    "    print(f\"Dealer's hand: {dealer_hand[0][0]} of {dealer_hand[0][1]} and a hidden card.\")\n",
    "    \n",
    "    # Player's turn\n",
    "    while True:\n",
    "        player_score = calculate_score(player_hand)\n",
    "        if player_score > 21:\n",
    "            print(\"You busted! Your score is over 21.\")\n",
    "            return  # End game if player busts\n",
    "        print(f\"Your score: {player_score}\")\n",
    "        \n",
    "        action = input(\"Do you want to (h)it or (s)tand? \").strip().lower()\n",
    "        if action == 'h':  # Player hits\n",
    "            player_hand.append(deck.pop())\n",
    "            print_hand(\"Your\", player_hand)\n",
    "        elif action == 's':  # Player stands\n",
    "            break\n",
    "        else:\n",
    "            print(\"Invalid input, please enter 'h' to hit or 's' to stand.\")\n",
    "    \n",
    "    # Dealer's turn (dealer must hit until score is at least 17)\n",
    "    dealer_score = calculate_score(dealer_hand)\n",
    "    print_hand(\"Dealer\", dealer_hand)\n",
    "    while dealer_score < 17:\n",
    "        print(\"Dealer hits.\")\n",
    "        dealer_hand.append(deck.pop())\n",
    "        dealer_score = calculate_score(dealer_hand)\n",
    "        print_hand(\"Dealer\", dealer_hand)\n",
    "    \n",
    "    # Determine the winner\n",
    "    print(f\"Your final score: {player_score}\")\n",
    "    print(f\"Dealer's final score: {dealer_score}\")\n",
    "    \n",
    "    if dealer_score > 21:\n",
    "        print(\"Dealer busted! You win!\")\n",
    "    elif player_score > 21:\n",
    "        print(\"You busted! Dealer wins!\")\n",
    "    elif player_score > dealer_score:\n",
    "        print(\"You win!\")\n",
    "    elif player_score < dealer_score:\n",
    "        print(\"Dealer wins!\")\n",
    "    else:\n",
    "        print(\"It's a tie!\")\n",
    "\n",
    "# Run the game\n",
    "if __name__ == \"__main__\":\n",
    "    play_blackjack()\n"
   ]
  },
  {
   "cell_type": "code",
   "execution_count": null,
   "id": "c0c82650-cfbc-4751-8289-fb0c20d79a3a",
   "metadata": {},
   "outputs": [],
   "source": [
    "# 40. Write a program that generates the prime factors of a given number using trial division."
   ]
  },
  {
   "cell_type": "code",
   "execution_count": 6,
   "id": "a2975d72-9138-4c18-b073-bd50920e303a",
   "metadata": {},
   "outputs": [
    {
     "name": "stdin",
     "output_type": "stream",
     "text": [
      "Enter a number to find its prime factors:  4\n"
     ]
    },
    {
     "name": "stdout",
     "output_type": "stream",
     "text": [
      "Prime factors of 4 are: 2, 2\n"
     ]
    }
   ],
   "source": [
    "def prime_factors(n):\n",
    "    factors = []\n",
    "    \n",
    "    # Handle factor of 2 separately\n",
    "    while n % 2 == 0:\n",
    "        factors.append(2)\n",
    "        n //= 2\n",
    "        \n",
    "    # Handle odd factors from 3 upwards\n",
    "    divisor = 3\n",
    "    while divisor * divisor <= n:  # No need to check beyond the square root of n\n",
    "        while n % divisor == 0:\n",
    "            factors.append(divisor)\n",
    "            n //= divisor\n",
    "        divisor += 2  # Check only odd numbers\n",
    "    \n",
    "    # If n is still greater than 2, then it must be a prime number\n",
    "    if n > 2:\n",
    "        factors.append(n)\n",
    "    \n",
    "    return factors\n",
    "\n",
    "def main():\n",
    "    # Input the number to find prime factors for\n",
    "    number = int(input(\"Enter a number to find its prime factors: \"))\n",
    "    \n",
    "    # Get the prime factors\n",
    "    factors = prime_factors(number)\n",
    "    \n",
    "    # Display the result\n",
    "    if factors:\n",
    "        print(f\"Prime factors of {number} are: {', '.join(map(str, factors))}\")\n",
    "    else:\n",
    "        print(f\"{number} has no prime factors.\")\n",
    "\n",
    "if __name__ == \"__main__\":\n",
    "    main()\n"
   ]
  },
  {
   "cell_type": "code",
   "execution_count": null,
   "id": "d23d9a45-f9f5-4a96-965a-14a2d000ef84",
   "metadata": {},
   "outputs": [],
   "source": []
  }
 ],
 "metadata": {
  "kernelspec": {
   "display_name": "Python 3 (ipykernel)",
   "language": "python",
   "name": "python3"
  },
  "language_info": {
   "codemirror_mode": {
    "name": "ipython",
    "version": 3
   },
   "file_extension": ".py",
   "mimetype": "text/x-python",
   "name": "python",
   "nbconvert_exporter": "python",
   "pygments_lexer": "ipython3",
   "version": "3.13.0"
  }
 },
 "nbformat": 4,
 "nbformat_minor": 5
}
