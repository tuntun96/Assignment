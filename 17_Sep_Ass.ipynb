{
 "cells": [
  {
   "cell_type": "code",
   "execution_count": null,
   "id": "965ff995-45a5-46d9-ab0e-bea0fc4e08d6",
   "metadata": {},
   "outputs": [],
   "source": [
    "#For Loop :-\n",
    "#Write a Python program to print numbers from 1 to 10 using a for loop."
   ]
  },
  {
   "cell_type": "code",
   "execution_count": 1,
   "id": "4d802887-84b9-4631-bf10-a9096410df38",
   "metadata": {},
   "outputs": [
    {
     "name": "stdout",
     "output_type": "stream",
     "text": [
      "[1, 2, 3, 4, 5, 6, 7, 8, 9, 10]\n"
     ]
    }
   ],
   "source": [
    "num = [i for i in range(1,11)]\n",
    "print(num)"
   ]
  },
  {
   "cell_type": "code",
   "execution_count": null,
   "id": "915c0959-5aa8-4906-a8b8-eedeece43844",
   "metadata": {},
   "outputs": [],
   "source": [
    "#Write a Python program to find the common elements between two lists using a for loop."
   ]
  },
  {
   "cell_type": "code",
   "execution_count": 2,
   "id": "2ecd9443-4398-4575-8f2e-c9173b37b837",
   "metadata": {},
   "outputs": [
    {
     "name": "stdout",
     "output_type": "stream",
     "text": [
      "The common element is [3, 4, 5]\n"
     ]
    }
   ],
   "source": [
    "l1 = [1,2,3,4,5]\n",
    "l2 = [3,4,5,7,8]\n",
    "\n",
    "com = []\n",
    "\n",
    "for i in l1:\n",
    "    if i in l2:\n",
    "        com.append(i)\n",
    "print(\"The common element is\",com)\n",
    "        "
   ]
  },
  {
   "cell_type": "code",
   "execution_count": null,
   "id": "068156e4-72d5-4fd3-8a86-adb94f2424ca",
   "metadata": {},
   "outputs": [],
   "source": [
    "#Explain the difference between a for loop and a while loop in Python."
   ]
  },
  {
   "cell_type": "code",
   "execution_count": null,
   "id": "1e679799-ecf6-467c-9890-db160003d290",
   "metadata": {},
   "outputs": [],
   "source": [
    "#In for loop it's repeats a code code of block in a sequence till certain numer of time but in while loop its execute the block of code till the condition is true."
   ]
  },
  {
   "cell_type": "code",
   "execution_count": null,
   "id": "72d41000-19b9-4bca-bc01-144a7bfdb907",
   "metadata": {},
   "outputs": [],
   "source": [
    "#Write a Python program to calculate the sum of all numbers from 1 to 100 using a for loop."
   ]
  },
  {
   "cell_type": "code",
   "execution_count": 9,
   "id": "514ecbf0-67bf-463d-b3a3-9c1cec5e21f5",
   "metadata": {},
   "outputs": [
    {
     "name": "stdout",
     "output_type": "stream",
     "text": [
      "The sum total is 5050\n"
     ]
    }
   ],
   "source": [
    "total = 0\n",
    "for i in range(1,101):\n",
    "    total +=i\n",
    "\n",
    "print(\"The sum total is\", total)\n",
    "    "
   ]
  },
  {
   "cell_type": "code",
   "execution_count": null,
   "id": "31bde079-cfda-4e23-92dd-33db1297aba2",
   "metadata": {},
   "outputs": [],
   "source": [
    "#How do you iterate through a list using a for loop in Python?"
   ]
  },
  {
   "cell_type": "code",
   "execution_count": 10,
   "id": "21894256-ba2b-43c6-bf99-899590e7b99a",
   "metadata": {},
   "outputs": [
    {
     "name": "stdout",
     "output_type": "stream",
     "text": [
      "1\n",
      "2\n",
      "3\n",
      "4\n"
     ]
    }
   ],
   "source": [
    "l = [1,2,3,4]\n",
    "for i in l:\n",
    "    print(i)"
   ]
  },
  {
   "cell_type": "code",
   "execution_count": null,
   "id": "2bf7ed52-f70e-464e-9f76-51563b31b8ae",
   "metadata": {},
   "outputs": [],
   "source": [
    "#Write a Python program to find the product of all elements in a list using a for loop."
   ]
  },
  {
   "cell_type": "code",
   "execution_count": 11,
   "id": "01be6cab-5280-4245-b5aa-d6883996880c",
   "metadata": {},
   "outputs": [
    {
     "name": "stdout",
     "output_type": "stream",
     "text": [
      "The product of list is 5040\n"
     ]
    }
   ],
   "source": [
    "l = [1,2,3,4,5,6,7]\n",
    "prod = 1\n",
    "for i in l:\n",
    "    prod *= i\n",
    "\n",
    "print(\"The product of list is\", prod)\n",
    "    \n"
   ]
  },
  {
   "cell_type": "code",
   "execution_count": null,
   "id": "c481f638-c949-4a1f-b741-0873e6deb761",
   "metadata": {},
   "outputs": [],
   "source": [
    "#Create a Python program that prints all even numbers from 1 to 20 using a for loop."
   ]
  },
  {
   "cell_type": "code",
   "execution_count": 12,
   "id": "005706ad-9614-46d7-9449-5297bed28cd5",
   "metadata": {},
   "outputs": [
    {
     "name": "stdout",
     "output_type": "stream",
     "text": [
      "2\n",
      "4\n",
      "6\n",
      "8\n",
      "10\n",
      "12\n",
      "14\n",
      "16\n",
      "18\n",
      "20\n"
     ]
    }
   ],
   "source": [
    "for i in range(1,21):\n",
    "    if i%2 == 0:\n",
    "        print(i)\n"
   ]
  },
  {
   "cell_type": "code",
   "execution_count": null,
   "id": "8b3387bf-e758-4db8-8fb2-fb5d9cd7b90b",
   "metadata": {},
   "outputs": [],
   "source": [
    "#Write a Python program that calculates the factorial of a number using a for loop."
   ]
  },
  {
   "cell_type": "code",
   "execution_count": 26,
   "id": "08eba239-6f38-4cac-8ed8-56e8fe7ce5b6",
   "metadata": {},
   "outputs": [
    {
     "name": "stdin",
     "output_type": "stream",
     "text": [
      "Enter number 5\n"
     ]
    },
    {
     "name": "stdout",
     "output_type": "stream",
     "text": [
      "The factorial is 120\n"
     ]
    }
   ],
   "source": [
    "n = int(input(\"Enter number\"))\n",
    "\n",
    "fac = 1\n",
    "for i in range(1, n+1):\n",
    "    fac *= i\n",
    "print(\"The factorial is\", fac)   "
   ]
  },
  {
   "cell_type": "code",
   "execution_count": null,
   "id": "c199b5b5-5583-4368-8b73-1eb40b630472",
   "metadata": {},
   "outputs": [],
   "source": [
    "#How can you iterate through the characters of a string using a for loop in Python?"
   ]
  },
  {
   "cell_type": "code",
   "execution_count": 29,
   "id": "ca14e8be-b6de-4515-83c4-2a9d3a5a1808",
   "metadata": {},
   "outputs": [
    {
     "name": "stdout",
     "output_type": "stream",
     "text": [
      "s\n",
      "t\n",
      "r\n",
      "i\n",
      "n\n",
      "g\n"
     ]
    }
   ],
   "source": [
    "s  =\"string\"\n",
    "for i in s:\n",
    "    print(i)"
   ]
  },
  {
   "cell_type": "code",
   "execution_count": null,
   "id": "29fa741c-6526-4233-9a64-6c8e13fb7a14",
   "metadata": {},
   "outputs": [],
   "source": [
    "#Write a Python program to find the largest number in a list using a for loop."
   ]
  },
  {
   "cell_type": "code",
   "execution_count": 30,
   "id": "7aed7276-7d0d-45ea-bc86-e90cb34bf120",
   "metadata": {},
   "outputs": [
    {
     "name": "stdout",
     "output_type": "stream",
     "text": [
      "The largest numer is  8\n"
     ]
    }
   ],
   "source": [
    "l =[1,2,3,5,6,8]\n",
    "lar = 0\n",
    "for i in l:\n",
    "    if i > lar:\n",
    "        lar = i\n",
    "print(\"The largest numer is \", lar)\n",
    "    "
   ]
  },
  {
   "cell_type": "code",
   "execution_count": null,
   "id": "83ec2f7b-d9c4-46ef-bd3f-13884df56e37",
   "metadata": {},
   "outputs": [],
   "source": [
    "#Create a Python program that prints the Fibonacci sequence up to a specified limit using a for loop."
   ]
  },
  {
   "cell_type": "code",
   "execution_count": 12,
   "id": "cb03fbcd-14c3-4e6f-8b6f-f1b705023112",
   "metadata": {},
   "outputs": [
    {
     "name": "stdin",
     "output_type": "stream",
     "text": [
      "Enter number to generate 10\n"
     ]
    },
    {
     "name": "stdout",
     "output_type": "stream",
     "text": [
      "The fibonacci Series is [0, 1, 1, 2, 3, 5, 8, 13, 21, 34]\n"
     ]
    }
   ],
   "source": [
    "n  = int(input(\"Enter number to generate\"))\n",
    "fib = [0,1]\n",
    "\n",
    "for i in range(2,n):\n",
    "    num = fib[-1] + fib[-2]\n",
    "    fib.append(num)\n",
    "print(\"The fibonacci Series is\",fib)"
   ]
  },
  {
   "cell_type": "code",
   "execution_count": null,
   "id": "6d570de2-c89d-4c52-81dd-93d8717dd41a",
   "metadata": {},
   "outputs": [],
   "source": [
    "#Write a Python program to count the number of vowels in a given string using a for loop."
   ]
  },
  {
   "cell_type": "code",
   "execution_count": 17,
   "id": "8623b4f3-ef2d-488a-a02d-eab364587e16",
   "metadata": {},
   "outputs": [
    {
     "name": "stdin",
     "output_type": "stream",
     "text": [
      "Enter string Tuntun\n"
     ]
    },
    {
     "name": "stdout",
     "output_type": "stream",
     "text": [
      "The Total Vowel is 2\n"
     ]
    }
   ],
   "source": [
    "s = input(\"Enter string\")\n",
    "s= s.lower()\n",
    "Total_vowel = 0\n",
    "for char in s:\n",
    "    if char in \"aeiou\":\n",
    "        Total_vowel += 1\n",
    "\n",
    "print(\"The Total Vowel is\", Total_vowel) "
   ]
  },
  {
   "cell_type": "code",
   "execution_count": null,
   "id": "12d1b676-a8c3-4e9a-918c-2d2745bb0066",
   "metadata": {},
   "outputs": [],
   "source": [
    "#Create a Python program that generates a multiplication table for a given number using a for loop."
   ]
  },
  {
   "cell_type": "code",
   "execution_count": 20,
   "id": "4164c36e-13db-4d4e-b9e5-277d044f39f7",
   "metadata": {},
   "outputs": [
    {
     "name": "stdin",
     "output_type": "stream",
     "text": [
      "Enter nuber for which need to generate the table 5\n"
     ]
    },
    {
     "name": "stdout",
     "output_type": "stream",
     "text": [
      "5 X 1 : 5\n",
      "5 X 2 : 10\n",
      "5 X 3 : 15\n",
      "5 X 4 : 20\n",
      "5 X 5 : 25\n",
      "5 X 6 : 30\n",
      "5 X 7 : 35\n",
      "5 X 8 : 40\n",
      "5 X 9 : 45\n",
      "5 X 10 : 50\n"
     ]
    }
   ],
   "source": [
    "table = int(input(\"Enter nuber for which need to generate the table\"))\n",
    "\n",
    "for i in range(1,11):\n",
    "    print(f'{table} X {i} : {table*i}')\n",
    "    "
   ]
  },
  {
   "cell_type": "code",
   "execution_count": null,
   "id": "30305f79-227f-480a-b84f-ad552108b643",
   "metadata": {},
   "outputs": [],
   "source": [
    "# Write a Python program to reverse a list using a for loop."
   ]
  },
  {
   "cell_type": "code",
   "execution_count": 39,
   "id": "25e4c287-9cea-4990-9ed5-d4c734829c45",
   "metadata": {},
   "outputs": [
    {
     "name": "stdin",
     "output_type": "stream",
     "text": [
      "Enter element tuntun\n"
     ]
    },
    {
     "name": "stdout",
     "output_type": "stream",
     "text": [
      "Reversed list ['n', 'u', 't', 'n', 'u', 't']\n"
     ]
    }
   ],
   "source": [
    "l = list(input(\"Enter element\"))\n",
    "reversed_lst = [] \n",
    "for i in range(-1,(-len(l)-1),-1):\n",
    "    e = l[i]\n",
    "    reversed_lst.append(e)\n",
    "print(\"Reversed list\",reversed_lst)"
   ]
  },
  {
   "cell_type": "code",
   "execution_count": null,
   "id": "558b8419-458e-4c37-969d-107a609b4d92",
   "metadata": {},
   "outputs": [],
   "source": [
    "#Explain how to use a for loop to iterate through the keys and values of a dictionary in Python."
   ]
  },
  {
   "cell_type": "code",
   "execution_count": 43,
   "id": "298f99a9-0c08-4e31-b243-8eefa8c198cb",
   "metadata": {},
   "outputs": [
    {
     "name": "stdout",
     "output_type": "stream",
     "text": [
      "A 1\n",
      "B 2\n"
     ]
    }
   ],
   "source": [
    "# To interate through a keys and values which have two approach fist is ising key(0 and value() keyword and second is using itmes using these. \n",
    "#we can iterate the dictonary key and values using for loop\n",
    "#for example\n",
    "\n",
    "l = {'A':1, 'B': 2}\n",
    "\n",
    "for key,value in l.items():\n",
    "    print(key,value)"
   ]
  },
  {
   "cell_type": "code",
   "execution_count": null,
   "id": "713039cc-548d-459c-91e5-77914fb36230",
   "metadata": {},
   "outputs": [],
   "source": [
    "#Write a Python program to find the GCD (Greatest Common Divisor) of two numbers using a for loop."
   ]
  },
  {
   "cell_type": "code",
   "execution_count": 46,
   "id": "33d5f7e4-60a5-473d-b8ce-58d2d0654456",
   "metadata": {},
   "outputs": [
    {
     "name": "stdin",
     "output_type": "stream",
     "text": [
      "Enter first number 3\n",
      "Enter second number 2\n"
     ]
    },
    {
     "name": "stdout",
     "output_type": "stream",
     "text": [
      "The GCD of 3 and 2 is 1\n"
     ]
    }
   ],
   "source": [
    "# Take input form user\n",
    "n1 = int(input(\"Enter first number\"))\n",
    "n2 = int(input(\"Enter second number\"))\n",
    "\n",
    "# check for th min of both the number\n",
    "smaller_num = min(n1,n2)\n",
    "\n",
    "# initilazing the GCD value\n",
    "GCD = 1\n",
    "\n",
    "# interate throgh the min of both the number and check whether it's devisible by this or not\n",
    "for i in range(1, smaller_num+1):\n",
    "    if n1 % i == 0 and n2 % i == 0:\n",
    "        \n",
    "        GCD = i # update the GCD if both number devisible by i\n",
    "        \n",
    "print(f\"The GCD of {n1} and {n2} is {GCD}\")"
   ]
  },
  {
   "cell_type": "code",
   "execution_count": null,
   "id": "b7f0dbed-9501-4d13-bcdc-0d02c956c887",
   "metadata": {},
   "outputs": [],
   "source": [
    "#Create a Python program that checks if a string is a palindrome using a for loop."
   ]
  },
  {
   "cell_type": "code",
   "execution_count": 51,
   "id": "392f1225-3f8b-4381-843a-bea24d8325f2",
   "metadata": {},
   "outputs": [
    {
     "name": "stdin",
     "output_type": "stream",
     "text": [
      "Enter element level\n"
     ]
    },
    {
     "name": "stdout",
     "output_type": "stream",
     "text": [
      "It'a palindrome\n"
     ]
    }
   ],
   "source": [
    "s =input(\"Enter element\") # Tak input from the user\n",
    "\n",
    "s= s.lower() # normalize the user input\n",
    "\n",
    "rev_st = '' # initilaze the reversed string\n",
    "\n",
    "# Iterate the stirng in the lenth of string\n",
    "for i in range(-1,(-len(s)-1),-1):    \n",
    "    rev_st += s[i] # Store the sting from the end\n",
    "    \n",
    "# check if user string and reversed string is same or different\n",
    "if s == rev_st:\n",
    "    print(\"It'a palindrome\")\n",
    "else:\n",
    "    print(\"It's not a palindrom\")"
   ]
  },
  {
   "cell_type": "code",
   "execution_count": null,
   "id": "3503c53c-e4b4-40e2-bb85-b319d24cfcbc",
   "metadata": {},
   "outputs": [],
   "source": [
    "#Write a Python program to remove duplicates from a list using a for loop."
   ]
  },
  {
   "cell_type": "code",
   "execution_count": 52,
   "id": "901bb0d3-221c-4779-bed6-b0cb4748fa33",
   "metadata": {},
   "outputs": [
    {
     "name": "stdout",
     "output_type": "stream",
     "text": [
      "[1, 2, 3, 4, 5]\n"
     ]
    }
   ],
   "source": [
    "l = [1,2,3,4,4,5,1,4] # Defined duplicate list\n",
    "\n",
    "unique_list = [] # initilaze a empty list\n",
    "\n",
    "# Iterate the list element \n",
    "for i in l:\n",
    "    if i not in unique_list:\n",
    "        \n",
    "        unique_list.append(i) # dd the empty list if not available in it\n",
    "\n",
    "print(\"unique_list)"
   ]
  },
  {
   "cell_type": "code",
   "execution_count": null,
   "id": "fc39db14-2417-4549-96f9-0d34548f6aa1",
   "metadata": {},
   "outputs": [],
   "source": [
    "#Create a Python program that counts the number of words in a sentence using a for loop."
   ]
  },
  {
   "cell_type": "code",
   "execution_count": 59,
   "id": "9d2c6830-1ac8-465e-b8be-8b115ce3e1e2",
   "metadata": {},
   "outputs": [
    {
     "name": "stdout",
     "output_type": "stream",
     "text": [
      "The count of word in a sentence is 12\n"
     ]
    }
   ],
   "source": [
    "s = \"This is a new code to check the count of the sentence\"\n",
    "\n",
    "s = s.split()\n",
    "count = 0\n",
    "\n",
    "for char in s:\n",
    "    count += 1\n",
    "    \n",
    "\n",
    "print(\"The count of word in a sentence is\", count)"
   ]
  },
  {
   "cell_type": "code",
   "execution_count": null,
   "id": "0f825f62-92d4-4c91-8f31-19976553e3c5",
   "metadata": {},
   "outputs": [],
   "source": [
    "#Write a Python program to find the sum of all odd numbers from 1 to 50 using a for loop."
   ]
  },
  {
   "cell_type": "code",
   "execution_count": 61,
   "id": "07b189a1-0bc7-4d9d-9413-2d5201461554",
   "metadata": {},
   "outputs": [
    {
     "name": "stdout",
     "output_type": "stream",
     "text": [
      " The sum total of odd number is 625\n"
     ]
    }
   ],
   "source": [
    "sum_total = 0\n",
    "\n",
    "for i in range(1, 51):\n",
    "    if i % 2 != 0:\n",
    "        sum_total += i\n",
    "\n",
    "print(\" The sum total of odd number is\", sum_total)\n",
    "\n"
   ]
  },
  {
   "cell_type": "code",
   "execution_count": null,
   "id": "2e4f1752-b853-4180-aa24-8a0f69c43a94",
   "metadata": {},
   "outputs": [],
   "source": [
    "#Write a Python program that checks if a given year is a leap year using a for loop."
   ]
  },
  {
   "cell_type": "code",
   "execution_count": 62,
   "id": "ecc6a746-c55e-4fa0-8a85-352d791ce5a6",
   "metadata": {},
   "outputs": [
    {
     "name": "stdin",
     "output_type": "stream",
     "text": [
      "Enter a year 2024\n"
     ]
    },
    {
     "name": "stdout",
     "output_type": "stream",
     "text": [
      "It's a leap year\n"
     ]
    }
   ],
   "source": [
    "y = int(input(\"Enter a year\"))\n",
    "\n",
    "for i in range(1):\n",
    "    if (y % 4 == 0 and y % 100 != 0) or y % 400 == 0:\n",
    "        print(\"It's a leap year\")\n",
    "    else:\n",
    "        print(\"It's not a leap lear\")"
   ]
  },
  {
   "cell_type": "code",
   "execution_count": null,
   "id": "d66b3d08-81bb-49ae-a57a-d5d3ee63a871",
   "metadata": {},
   "outputs": [],
   "source": [
    "#Create a Python program that calculates the square root of a number using a for loop."
   ]
  },
  {
   "cell_type": "code",
   "execution_count": 66,
   "id": "abc44f27-9fd4-47bf-abe8-79073084fb0c",
   "metadata": {},
   "outputs": [
    {
     "name": "stdin",
     "output_type": "stream",
     "text": [
      "Enter a number 2\n"
     ]
    },
    {
     "name": "stdout",
     "output_type": "stream",
     "text": [
      "The square root of 2 is  1.41\n"
     ]
    }
   ],
   "source": [
    "n = int(input(\"Enter a number\"))\n",
    "sq_rt = y\n",
    "for i in range(1):\n",
    "    sq_rt = n**0.5\n",
    "\n",
    "print(f\"The square root of {n} is {sq_rt: .2f}\")\n",
    "    "
   ]
  },
  {
   "cell_type": "code",
   "execution_count": null,
   "id": "d1fcb9a7-5693-4ad0-9553-289e3e0dc791",
   "metadata": {},
   "outputs": [],
   "source": [
    "#Write a Python program to find the LCM (Least Common Multiple) of two numbers using a for loop."
   ]
  },
  {
   "cell_type": "code",
   "execution_count": 83,
   "id": "e5e669a9-3cbc-4c96-bdcf-b525aa529e2a",
   "metadata": {},
   "outputs": [
    {
     "name": "stdin",
     "output_type": "stream",
     "text": [
      "Enter first number 2\n",
      "Enter second number 3\n"
     ]
    },
    {
     "name": "stdout",
     "output_type": "stream",
     "text": [
      " The LCM of 2 and 3 is 6\n"
     ]
    }
   ],
   "source": [
    "n1 = int(input(\"Enter first number\"))\n",
    "n2 = int(input(\"Enter second number\"))\n",
    "\n",
    "s_n = max(n1,n2)\n",
    "result= 0\n",
    "\n",
    "for i in range(s_n, n1*n2 +1, s_n):\n",
    "    if i %n1 == 0 and i % n2 == 0:\n",
    "        result = i\n",
    "        print(f\" The LCM of {n1} and {n2} is {result}\")\n",
    "        break\n"
   ]
  },
  {
   "cell_type": "code",
   "execution_count": null,
   "id": "ff8c01d1-08cb-40c0-bb35-43f4a22e1632",
   "metadata": {},
   "outputs": [],
   "source": [
    " #If else :\n",
    "# 1. Write aPython program to check if a number is positive, negative, or zero using an if-else statement"
   ]
  },
  {
   "cell_type": "code",
   "execution_count": 84,
   "id": "6291954f-9c60-4109-bfd9-ab654618b86d",
   "metadata": {},
   "outputs": [
    {
     "name": "stdin",
     "output_type": "stream",
     "text": [
      "Enter Number 5\n"
     ]
    },
    {
     "name": "stdout",
     "output_type": "stream",
     "text": [
      "Positve\n"
     ]
    }
   ],
   "source": [
    "n  = int(input(\"Enter Number\"))\n",
    "\n",
    "if n == 0:\n",
    "    print(\"Posotive\")\n",
    "elif n>0:\n",
    "    print(\"Positve\")\n",
    "else:\n",
    "    print(\"Negative\")"
   ]
  },
  {
   "cell_type": "code",
   "execution_count": null,
   "id": "fa5a5ca1-5537-4468-b7d2-ef033dd0d0e3",
   "metadata": {},
   "outputs": [],
   "source": [
    "# 2. Create a Python program that checks if a given number is even or odd using an if-else statement."
   ]
  },
  {
   "cell_type": "code",
   "execution_count": 86,
   "id": "aef72eeb-6b56-4f61-8e0e-94a5c8dfb343",
   "metadata": {},
   "outputs": [
    {
     "name": "stdin",
     "output_type": "stream",
     "text": [
      "Enter Number 3\n"
     ]
    },
    {
     "name": "stdout",
     "output_type": "stream",
     "text": [
      " Entered number 3 is a Odd Number\n"
     ]
    }
   ],
   "source": [
    "n = int(input(\"Enter Number\"))\n",
    "\n",
    "if n % 2 == 0:\n",
    "    print(f\" Entered number {n} is a Even Number\")\n",
    "else:\n",
    "    print(f\" Entered number {n} is a Odd Number\")\n",
    "    "
   ]
  },
  {
   "cell_type": "code",
   "execution_count": null,
   "id": "53724c32-75e4-4d9f-8417-90186febf318",
   "metadata": {},
   "outputs": [],
   "source": [
    "# 3. How can you use nested if-else statements in Python, and provide an example?"
   ]
  },
  {
   "cell_type": "code",
   "execution_count": 88,
   "id": "6df7cdae-1f97-45af-8490-26bc73bcc9b7",
   "metadata": {},
   "outputs": [
    {
     "name": "stdin",
     "output_type": "stream",
     "text": [
      "Enter a number 5\n"
     ]
    },
    {
     "name": "stdout",
     "output_type": "stream",
     "text": [
      "Odd Number\n"
     ]
    }
   ],
   "source": [
    "# When we use if statement in if statment then it comes under nested if=else\n",
    "\n",
    "# example\n",
    "\n",
    "n = int(input(\"Enter a number\"))\n",
    "if n > 0:\n",
    "    if n % 2 == 0:\n",
    "        print(\"Even Number\")\n",
    "    else:\n",
    "        print(\"Odd Number\")\n",
    "else:\n",
    "    print(\"Please enter a positive Number\")"
   ]
  },
  {
   "cell_type": "code",
   "execution_count": null,
   "id": "8f793cc3-d9e2-4387-8a7e-0ba3ff72df6a",
   "metadata": {},
   "outputs": [],
   "source": [
    "#4. Write aPython program to determine the largest of three numbers using if-else."
   ]
  },
  {
   "cell_type": "code",
   "execution_count": 89,
   "id": "73aa508c-29ba-48a2-a5fb-7b1bb360e0a5",
   "metadata": {},
   "outputs": [
    {
     "name": "stdin",
     "output_type": "stream",
     "text": [
      "Enter first number 2\n",
      "Enter second number 5\n",
      "Enter third number 7\n"
     ]
    },
    {
     "name": "stdout",
     "output_type": "stream",
     "text": [
      "The largest number of (2, 5, 7) is 7\n"
     ]
    }
   ],
   "source": [
    "n1 = int(input(\"Enter first number\"))\n",
    "n2 = int(input(\"Enter second number\"))\n",
    "n3 = int(input(\"Enter third number\"))\n",
    "\n",
    "if n1 > n2 and n1> n3:\n",
    "    print(f\"The largest number of {(n1, n2, n3)} is {n1}\")\n",
    "elif n2> n1 and n2> n3:\n",
    "    print(f\"The largest number of {(n1, n2, n3)} is {n2}\")\n",
    "else:\n",
    "    print(f\"The largest number of {(n1, n2, n3)} is {n3}\")\n",
    "    "
   ]
  },
  {
   "cell_type": "code",
   "execution_count": null,
   "id": "e2bca19a-76a9-401c-9133-a5cf1e317471",
   "metadata": {},
   "outputs": [],
   "source": [
    "# 5. Write a Python program that calculates the absolute value of a number using if-else."
   ]
  },
  {
   "cell_type": "code",
   "execution_count": 91,
   "id": "e00862c0-339c-4f77-ba67-74ba3d1b9c2d",
   "metadata": {},
   "outputs": [
    {
     "name": "stdin",
     "output_type": "stream",
     "text": [
      "Enter a number -4\n"
     ]
    },
    {
     "name": "stdout",
     "output_type": "stream",
     "text": [
      "The absolute number is 4.0\n"
     ]
    }
   ],
   "source": [
    "n = float(input(\"Enter a number\"))\n",
    "\n",
    "if n > 0:\n",
    "    print(f\"The absolute number is {n}\")\n",
    "else:\n",
    "    print(f\"The absolute number is {-n}\")"
   ]
  },
  {
   "cell_type": "code",
   "execution_count": null,
   "id": "05dc5cac-6d31-4290-9090-804bda2f4e58",
   "metadata": {},
   "outputs": [],
   "source": [
    "#6. Create a Python program that checks if a given character is a vowel or consonant using if-else."
   ]
  },
  {
   "cell_type": "code",
   "execution_count": 100,
   "id": "3893ae31-6567-4d7a-9795-f539e1d4a097",
   "metadata": {},
   "outputs": [
    {
     "name": "stdin",
     "output_type": "stream",
     "text": [
      "Enter a Charcter t\n"
     ]
    },
    {
     "name": "stdout",
     "output_type": "stream",
     "text": [
      "The charcter is consonant\n"
     ]
    }
   ],
   "source": [
    "s = input(\"Enter a Charcter\")\n",
    "s = s.lower()\n",
    "if s in \"aeiou\":\n",
    "    print(\"The character is vowel\")\n",
    "elif s in \"@!#$\" or s.isnumeric():\n",
    "    print(\"Plese Enter a valid character\")\n",
    "else:\n",
    "    print(\"The charcter is consonant\")"
   ]
  },
  {
   "cell_type": "code",
   "execution_count": null,
   "id": "e5c768c5-8222-40ab-8305-6e29a0d5a684",
   "metadata": {},
   "outputs": [],
   "source": [
    " #7. Write a Python program to determine if a user is eligible to vote based on their age using if-else."
   ]
  },
  {
   "cell_type": "code",
   "execution_count": 103,
   "id": "466b9439-3308-48f1-af77-7c0670d60e41",
   "metadata": {},
   "outputs": [
    {
     "name": "stdin",
     "output_type": "stream",
     "text": [
      "Enter your age 24\n"
     ]
    },
    {
     "name": "stdout",
     "output_type": "stream",
     "text": [
      "You are eligible to vote\n"
     ]
    }
   ],
   "source": [
    "a = int(input(\"Enter your age\"))\n",
    "\n",
    "if a >= 18:\n",
    "        print(\"You are eligible to vote\")\n",
    "else:\n",
    "        print(\"You are not eligible to vote\")"
   ]
  },
  {
   "cell_type": "code",
   "execution_count": null,
   "id": "bc117133-843c-4182-aad0-61d2faeee317",
   "metadata": {},
   "outputs": [],
   "source": [
    "# 8. Create a Python program that calculates the discount amount based on the purchase amount using if-else."
   ]
  },
  {
   "cell_type": "code",
   "execution_count": 106,
   "id": "8dd8eda6-27aa-439a-8b0f-98adab6764b4",
   "metadata": {},
   "outputs": [
    {
     "name": "stdin",
     "output_type": "stream",
     "text": [
      "Enter your purchase amount 600\n"
     ]
    },
    {
     "name": "stdout",
     "output_type": "stream",
     "text": [
      " The Total Purchase amount is  600.00\n",
      "The Discount amount is 50\n"
     ]
    }
   ],
   "source": [
    "p_a = float(input(\"Enter your purchase amount\"))\n",
    "\n",
    "discount = 0\n",
    "if p_a > 1500:\n",
    "    discount = 200\n",
    "elif p_a > 1000:\n",
    "    dicount = 100\n",
    "elif p_a > 500:\n",
    "    discount = 50\n",
    "else :\n",
    "    discount = 0\n",
    "print(f\" The Total Purchase amount is {p_a : .2f}\")\n",
    "print(f\"The Discount amount is {discount}\")"
   ]
  },
  {
   "cell_type": "code",
   "execution_count": null,
   "id": "5c5ccd10-2a74-41b4-93b0-1ff4d6d6574c",
   "metadata": {},
   "outputs": [],
   "source": [
    "#9. Write a Python program to check if a number is within a specified range using if-else."
   ]
  },
  {
   "cell_type": "code",
   "execution_count": 113,
   "id": "2ec5e219-2918-4a21-9a9c-df5e82811601",
   "metadata": {},
   "outputs": [
    {
     "name": "stdin",
     "output_type": "stream",
     "text": [
      "enter a numer 5\n",
      "Enter start range 1\n",
      "Enter stop range 10\n"
     ]
    },
    {
     "name": "stdout",
     "output_type": "stream",
     "text": [
      "The given number 5 is in a specified range(1, 10)\n"
     ]
    }
   ],
   "source": [
    "n = int(input(\"enter a numer\"))\n",
    "r1 = int(input(\"Enter start range\" ))\n",
    "r2 = int(input(\"Enter stop range\"))\n",
    "\n",
    "if n in range(r1,r2):\n",
    "    print(f\"The given number {n} is in a specified range{(r1,r2)}\")\n",
    "else:\n",
    "    print(f\"The given number {n} is not in a specified range{(r1,r2)}\")"
   ]
  },
  {
   "cell_type": "code",
   "execution_count": null,
   "id": "f812a40d-0a51-42d0-8a36-14eb648ef48c",
   "metadata": {},
   "outputs": [],
   "source": [
    "# 10. Create a Python program that determines the grade of a student based on their score using if-else."
   ]
  },
  {
   "cell_type": "code",
   "execution_count": 114,
   "id": "cb3d958e-eeb9-49fd-a9e7-9d3b5ca182bf",
   "metadata": {},
   "outputs": [
    {
     "name": "stdin",
     "output_type": "stream",
     "text": [
      "Enter score 75\n"
     ]
    },
    {
     "name": "stdout",
     "output_type": "stream",
     "text": [
      "Grade-C\n"
     ]
    }
   ],
   "source": [
    "s = int(input(\"Enter score\"))\n",
    "\n",
    "if s > 95:\n",
    "    print(\"Grade-A\")\n",
    "\n",
    "elif s > 85:\n",
    "    print(\"Grade-B\")\n",
    "\n",
    "elif s > 60:\n",
    "    print(\"Grade-C\")\n",
    "\n",
    "else:\n",
    "    print(\"Grade-D\")"
   ]
  },
  {
   "cell_type": "code",
   "execution_count": null,
   "id": "d099e61a-0816-435d-881e-4696ff5024cf",
   "metadata": {},
   "outputs": [],
   "source": [
    " #11. Write a Python program to check if a string is empty or not using if-else."
   ]
  },
  {
   "cell_type": "code",
   "execution_count": 116,
   "id": "29faab81-8323-4df6-a199-42720c5c9605",
   "metadata": {},
   "outputs": [
    {
     "name": "stdin",
     "output_type": "stream",
     "text": [
      "Enter a string \n"
     ]
    },
    {
     "name": "stdout",
     "output_type": "stream",
     "text": [
      "It's a empty string\n"
     ]
    }
   ],
   "source": [
    "s = input(\"Enter a string\")\n",
    "\n",
    "if s == '':\n",
    "    print(\"It's a empty string\")\n",
    "else:\n",
    "    print(\"It's not a empty stirng\")"
   ]
  },
  {
   "cell_type": "code",
   "execution_count": null,
   "id": "b1f52677-c56a-492a-8957-3f69a3feef67",
   "metadata": {},
   "outputs": [],
   "source": [
    "# 12. Create a Python program that identifies the type of a triangle (e.g., equilateral, isosceles, or scalene) based on input values using if-else."
   ]
  },
  {
   "cell_type": "code",
   "execution_count": 121,
   "id": "b57535af-ec97-4c0e-9866-b88d9c918520",
   "metadata": {},
   "outputs": [
    {
     "name": "stdin",
     "output_type": "stream",
     "text": [
      "Enter side a 2\n",
      "Enter side b 3\n",
      "Enter side c 4\n"
     ]
    },
    {
     "name": "stdout",
     "output_type": "stream",
     "text": [
      "Scalene\n"
     ]
    }
   ],
   "source": [
    "a = int(input(\"Enter side a\"))\n",
    "b = int(input(\"Enter side b\"))\n",
    "c = int(input(\"Enter side c\"))\n",
    "\n",
    "if a==b==c :\n",
    "    print(\"Equilateral Triangle\")\n",
    "    \n",
    "elif a == b or b== c or c==a:\n",
    "    print(\"Isosceles Triangle\")\n",
    "else:\n",
    "    print(\"Scalene Trianle \")"
   ]
  },
  {
   "cell_type": "code",
   "execution_count": null,
   "id": "4a801306-583d-4fcf-ad44-39a467f3e749",
   "metadata": {},
   "outputs": [],
   "source": [
    "# 13. Write a Python program to determine the day of the week based on a user-provided number using if-else."
   ]
  },
  {
   "cell_type": "code",
   "execution_count": 129,
   "id": "972e210e-6d3c-4a49-837d-613c685775fc",
   "metadata": {},
   "outputs": [
    {
     "name": "stdin",
     "output_type": "stream",
     "text": [
      "Enter a number 7\n"
     ]
    },
    {
     "name": "stdout",
     "output_type": "stream",
     "text": [
      "Sundaay\n"
     ]
    }
   ],
   "source": [
    "n = int(input(\"Enter a number\"))\n",
    "\n",
    "if n == 1:\n",
    "    print(\"Monday\")\n",
    "\n",
    "elif n == 2:\n",
    "    print(\"Tuesday\")\n",
    "\n",
    "elif n == 3:\n",
    "    print(\"Wednesday\")\n",
    "\n",
    "elif n == 4:\n",
    "    print(\"Thursday\")\n",
    "\n",
    "elif n == 5:\n",
    "    print(\"Friday\")\n",
    "\n",
    "elif n == 6:\n",
    "    print(\"Saturday\")\n",
    "\n",
    "elif n == 7:\n",
    "    print(\"Sundaay\")"
   ]
  },
  {
   "cell_type": "code",
   "execution_count": null,
   "id": "dd061829-0e7f-4854-b80c-12092c15e84f",
   "metadata": {},
   "outputs": [],
   "source": [
    "# 14. Create a Python program that checks if a given year is a leap year using both if-else and a function."
   ]
  },
  {
   "cell_type": "code",
   "execution_count": 138,
   "id": "14588de0-7316-4de4-93eb-1839e89d80f8",
   "metadata": {},
   "outputs": [
    {
     "name": "stdin",
     "output_type": "stream",
     "text": [
      "Enter Year 2024\n"
     ]
    },
    {
     "name": "stdout",
     "output_type": "stream",
     "text": [
      "It's a leap year\n"
     ]
    }
   ],
   "source": [
    "def check_leap(year):\n",
    "    if (year % 4 == 0 and year % 100 != 0) or year % 400 == 0:\n",
    "        print(\"It's a leap year\")\n",
    "    else:\n",
    "        print(\"It's not a leap year\")\n",
    "\n",
    "\n",
    "\n",
    "y = int(input(\"Enter Year\"))\n",
    "check_leap(y)\n"
   ]
  },
  {
   "cell_type": "code",
   "execution_count": null,
   "id": "8c59bc8b-4deb-45e4-850c-e80b07b964ca",
   "metadata": {},
   "outputs": [],
   "source": [
    "# 15. How do you use the \"assert\" statement in Python to add debugging checks within if-else blocks?"
   ]
  },
  {
   "cell_type": "code",
   "execution_count": 141,
   "id": "e2145f17-b12c-4bb1-82da-41f6bbed87f0",
   "metadata": {},
   "outputs": [
    {
     "name": "stdin",
     "output_type": "stream",
     "text": [
      "Enter your age:  -2\n"
     ]
    },
    {
     "name": "stdout",
     "output_type": "stream",
     "text": [
      "AssertionError: Age cannot be negative\n"
     ]
    }
   ],
   "source": [
    "def check_age(age):\n",
    "    # Assert that the age is a positive integer\n",
    "    assert isinstance(age, int), \"Age must be an integer\"\n",
    "    assert age >= 0, \"Age cannot be negative\"\n",
    "    \n",
    "    if age < 18:\n",
    "        return \"Minor\"\n",
    "    elif 18 <= age <= 65:\n",
    "        return \"Adult\"\n",
    "    else:\n",
    "        return \"Senior\"\n",
    "\n",
    "# Input age from the user\n",
    "age = input(\"Enter your age: \")\n",
    "\n",
    "# Convert the input to an integer (with error handling)\n",
    "try:\n",
    "    age = int(age)  # This will raise a ValueError if the input is not a number\n",
    "    result = check_age(age)\n",
    "    print(f\"Your category is: {result}\")\n",
    "except ValueError:\n",
    "    print(\"Please enter a valid integer for age.\")\n",
    "except AssertionError as e:\n",
    "    print(f\"AssertionError: {e}\")\n"
   ]
  },
  {
   "cell_type": "code",
   "execution_count": null,
   "id": "1f81ab58-5ef7-42d4-89cf-8cb0491543ef",
   "metadata": {},
   "outputs": [],
   "source": [
    "# 16. Create a Python program that determines the eligibility of a person for a senior citizen discount based on age using if-else."
   ]
  },
  {
   "cell_type": "code",
   "execution_count": 144,
   "id": "874d45af-b957-45db-9a4e-be8d65467ccf",
   "metadata": {},
   "outputs": [
    {
     "name": "stdin",
     "output_type": "stream",
     "text": [
      "Enter Your age 65\n"
     ]
    },
    {
     "name": "stdout",
     "output_type": "stream",
     "text": [
      "You are elegible for the offer\n"
     ]
    }
   ],
   "source": [
    "y = int(input(\"Enter Your age\"))\n",
    "\n",
    "\n",
    "if y >= 65:\n",
    "    print(\"You are elegible for the offer\")\n",
    "    \n",
    "else:\n",
    "    print(\"You are not elegible for the offer\")"
   ]
  },
  {
   "cell_type": "code",
   "execution_count": null,
   "id": "a60a98ca-ebb7-4278-b038-c306fef51331",
   "metadata": {},
   "outputs": [],
   "source": [
    "# 17. Write a Python program to categorize a given character as uppercase, lowercase, or neither using if-else."
   ]
  },
  {
   "cell_type": "code",
   "execution_count": 149,
   "id": "25558668-2ba1-4438-b1c2-f54ba1c521f8",
   "metadata": {},
   "outputs": [
    {
     "name": "stdin",
     "output_type": "stream",
     "text": [
      "Enter a character Tuntun\n"
     ]
    },
    {
     "name": "stdout",
     "output_type": "stream",
     "text": [
      "Neither\n"
     ]
    }
   ],
   "source": [
    "s = input(\"Enter a character\")\n",
    "\n",
    "if s.islower():\n",
    "    print(\"Lowercase\")\n",
    "elif s.isupper():\n",
    "    print(\"Uppercase\")\n",
    "else:\n",
    "    print(\"Neither\")      "
   ]
  },
  {
   "cell_type": "code",
   "execution_count": null,
   "id": "2fe5714c-8bf1-4c9c-9162-c58898411ec9",
   "metadata": {},
   "outputs": [],
   "source": [
    "# 18. Write a Python program to determine the roots of a quadratic equation using if-else"
   ]
  },
  {
   "cell_type": "code",
   "execution_count": 152,
   "id": "581c4520-381b-4b01-a5bf-9092256dadce",
   "metadata": {},
   "outputs": [
    {
     "name": "stdin",
     "output_type": "stream",
     "text": [
      "Enter the coefficient a:  1\n",
      "Enter the coefficient b:  2\n",
      "Enter the coefficient c:  3\n"
     ]
    },
    {
     "name": "stdout",
     "output_type": "stream",
     "text": [
      "The equation has no real roots. The complex roots are: -1.0 + 1.4142135623730951i and -1.0 - 1.4142135623730951i\n"
     ]
    }
   ],
   "source": [
    "import math\n",
    "\n",
    "def find_quad(a,b,c):\n",
    "    desc = b**2 - 4*a*c\n",
    "    if desc > 0:\n",
    "        r1 = (-b + math.sqrt*(desc))/2*a\n",
    "        r2 = (-b - math.sqrt*(desc))/ 2*a\n",
    "        return f\"The equation has two real roots: {r1} and {r2}\"\n",
    "        \n",
    "    elif desc == 0:\n",
    "        root = -b/ 2*a\n",
    "        return f\"The equation has one real roots: {root}\"\n",
    "        \n",
    "    else:\n",
    "        real_part = -b / (2 * a)\n",
    "        imaginary_part = math.sqrt(-desc) / (2 * a)\n",
    "        return f\"The equation has no real roots. The complex roots are: {real_part} + {imaginary_part}i and {real_part} - {imaginary_part}i\"\n",
    "\n",
    "\n",
    "# Input coefficients a, b, and c from the user\n",
    "a = float(input(\"Enter the coefficient a: \"))\n",
    "b = float(input(\"Enter the coefficient b: \"))\n",
    "c = float(input(\"Enter the coefficient c: \"))\n",
    "\n",
    "# Ensure the coefficient a is not zero, as it would not be a quadratic equation\n",
    "if a == 0:\n",
    "    print(\"The coefficient 'a' cannot be zero. Please enter a valid quadratic equation.\")\n",
    "else:\n",
    "    # Find and print the roots of the equation\n",
    "    result = find_quad(a, b, c)\n",
    "    print(result)"
   ]
  },
  {
   "cell_type": "code",
   "execution_count": null,
   "id": "16773a85-cfbd-4b65-8c3e-6fdd97f70792",
   "metadata": {},
   "outputs": [],
   "source": [
    "#19. Create a Python program that checks if a given year is a century year or not using if-else."
   ]
  },
  {
   "cell_type": "code",
   "execution_count": 160,
   "id": "f87b4090-3db9-49fc-a943-d7c4e6722f83",
   "metadata": {},
   "outputs": [
    {
     "name": "stdin",
     "output_type": "stream",
     "text": [
      "Enter a year 400\n"
     ]
    },
    {
     "name": "stdout",
     "output_type": "stream",
     "text": [
      "It's a century year\n"
     ]
    }
   ],
   "source": [
    "y = int(input(\"Enter a year\"))\n",
    "\n",
    "if y%100 == 0:\n",
    "    if y % 400 == 0:\n",
    "        print(\"It's a century year\")\n",
    "    else:\n",
    "        print(\"It'a not a century year\")\n",
    "else:\n",
    "    print(\"It'a not a century year\")"
   ]
  },
  {
   "cell_type": "code",
   "execution_count": null,
   "id": "46b9afe5-e722-4f03-97b2-87b9de90dc6f",
   "metadata": {},
   "outputs": [],
   "source": [
    "#20. Write a Python program to determine if a given number is a perfect square using if-else."
   ]
  },
  {
   "cell_type": "code",
   "execution_count": 162,
   "id": "2cc71ac3-d278-4325-a842-39734757bf18",
   "metadata": {},
   "outputs": [
    {
     "name": "stdin",
     "output_type": "stream",
     "text": [
      "Enter a number 4\n"
     ]
    },
    {
     "name": "stdout",
     "output_type": "stream",
     "text": [
      "4 is a perfect Square\n"
     ]
    }
   ],
   "source": [
    "import math\n",
    "\n",
    "n = int(input(\"Enter a number\"))\n",
    "\n",
    "sqr_root = math.sqrt(n)\n",
    "\n",
    "if sqr_root.is_integer():\n",
    "    print(F\"{n} is a perfect Square\")\n",
    "\n",
    "else:\n",
    "    print(f\"{n} is not a perfect square\")"
   ]
  },
  {
   "cell_type": "code",
   "execution_count": null,
   "id": "2ceafdf8-3619-4f6c-bad5-59bc04dc5104",
   "metadata": {},
   "outputs": [],
   "source": [
    "#21. Explain the purpose of the \"continue\" and \"break\" statements within if-else loops."
   ]
  },
  {
   "cell_type": "code",
   "execution_count": 3,
   "id": "145f355c-0bfe-4550-b0a4-59f446a5ef8d",
   "metadata": {},
   "outputs": [
    {
     "name": "stdout",
     "output_type": "stream",
     "text": [
      "1\n",
      "2\n",
      "4\n",
      "5\n",
      "1\n",
      "2\n"
     ]
    }
   ],
   "source": [
    "#Continue :The continue statement is used to skip the current iteration of the loop and immediately move to the next iteration. \n",
    "#It can be useful when you want to avoid executing certain code within the loop under specific conditions,\n",
    "#but you still want the loop to continue running.\n",
    "\n",
    "#How it works with an if-else loop:\n",
    "\n",
    "#If a certain condition is met, the continue statement will cause the loop to skip the remaining code for that iteration and go to the next iteration.\n",
    "#The continue only affects the loop, not the entire program.\n",
    "\n",
    "#example \n",
    "for i in range(1, 6):  # Loop from 1 to 5\n",
    "    if i == 3:\n",
    "        continue  # Skip the rest of the loop when i is 3\n",
    "    print(i)\n",
    "\n",
    "#The break statement is used to immediately exit the loop, terminating it regardless of whether the loop condition has been fully met.\n",
    "#It is typically used when you want to stop the loop early based on a specific condition.\n",
    "\n",
    "#How it works with an if-else loop:\n",
    "\n",
    "#When the condition for break is met, it will stop the loop entirely and control will move to the next statement after the loop.\n",
    "#break can be used to exit both for and while loops.\n",
    "#Example \n",
    "for i in range(1, 6):  # Loop from 1 to 5\n",
    "    if i == 3:\n",
    "        break  # Exit the loop when i is 3\n",
    "    print(i)"
   ]
  },
  {
   "cell_type": "code",
   "execution_count": null,
   "id": "dad361d9-2333-4262-9b1d-f4dc54113c42",
   "metadata": {},
   "outputs": [],
   "source": [
    "#22. Create a Python program that calculates the BMI (Body Mass Index) of a person based on their weight and height using if-else."
   ]
  },
  {
   "cell_type": "code",
   "execution_count": 9,
   "id": "9555eedb-2469-4196-8583-c1449c95c49f",
   "metadata": {},
   "outputs": [
    {
     "name": "stdin",
     "output_type": "stream",
     "text": [
      "Enter your weight 63\n",
      "Enter your height(cm) 185\n"
     ]
    },
    {
     "name": "stdout",
     "output_type": "stream",
     "text": [
      "your BMI is  18.41 and you are in Underweight\n"
     ]
    }
   ],
   "source": [
    "w = float(input(\"Enter your weight\"))\n",
    "h = float(input(\"Enter your height(cm)\"))\n",
    "h1 = h/100\n",
    "bmi = w/h1**2\n",
    "\n",
    "if bmi < 18.5:\n",
    "    print(f\"your BMI is {bmi: .2f} and you are in Underweight\")\n",
    "elif 18.5 <= bmi <= 29.9:\n",
    "    print(f\"your BMI is {bmi: .2f} and you are in Normarl Weight\")\n",
    "elif 25.0 <= bmi <= 29.9:\n",
    "    print(f\"your BMI is {bmi: .2f} and you are in Overweight\")\n",
    "else:\n",
    "    print(f\"your BMI is {bmi: .2f} and you are in Obesity\")    "
   ]
  },
  {
   "cell_type": "code",
   "execution_count": null,
   "id": "0ef97151-c2f5-475c-ad7c-7f1d4586ef53",
   "metadata": {},
   "outputs": [],
   "source": [
    "#23. How can you use the \"filter()\" function with if-else statements to filter elements from a list?"
   ]
  },
  {
   "cell_type": "code",
   "execution_count": 11,
   "id": "3e603ab1-244d-4266-b9d3-82470e78a9d1",
   "metadata": {},
   "outputs": [
    {
     "data": {
      "text/plain": [
       "[2, 4]"
      ]
     },
     "execution_count": 11,
     "metadata": {},
     "output_type": "execute_result"
    }
   ],
   "source": [
    "l = [1,2,3,4,5]\n",
    "\n",
    "even_num = list(filter(lambda a : True if a % 2 == 0 else False, l))\n",
    "even_num"
   ]
  },
  {
   "cell_type": "code",
   "execution_count": null,
   "id": "5dff7cef-c182-438d-a28e-63c42b8e7b05",
   "metadata": {},
   "outputs": [],
   "source": [
    "#24. Write a Python program to determine if a given number is prime or not using if-else."
   ]
  },
  {
   "cell_type": "code",
   "execution_count": 38,
   "id": "a41a6fbd-35d9-4f81-95ff-c9d39322a724",
   "metadata": {},
   "outputs": [
    {
     "name": "stdin",
     "output_type": "stream",
     "text": [
      "Enter a numer 10\n"
     ]
    },
    {
     "name": "stdout",
     "output_type": "stream",
     "text": [
      "10 is not a prime number\n"
     ]
    },
    {
     "data": {
      "text/plain": [
       "3"
      ]
     },
     "execution_count": 38,
     "metadata": {},
     "output_type": "execute_result"
    }
   ],
   "source": [
    "n = int(input(\"Enter a numer\"))\n",
    "\n",
    "if n > 0:\n",
    "    if n == 1:\n",
    "        print(f\"{n} is a prime number\")\n",
    "        \n",
    "    elif n == 2:\n",
    "        print(f\"{n} is a prime number\")\n",
    "\n",
    "    else:\n",
    "        \n",
    "        is_prime = True\n",
    "\n",
    "        for i in range(2, int(n**0.5) +1):\n",
    "            if n % i == 0:\n",
    "                is_prime = False\n",
    "                break\n",
    "                \n",
    "        if is_prime:\n",
    "            print(f\"{n} is a prime number\")\n",
    "        else:\n",
    "            print(f\"{n} is not a prime number\")\n",
    "            \n",
    "else :\n",
    "    print(f\" {n} is not a prime number\")"
   ]
  },
  {
   "cell_type": "code",
   "execution_count": null,
   "id": "f1ad26e0-6423-4306-a9db-4ddabdbd020e",
   "metadata": {},
   "outputs": [],
   "source": [
    "#Map:\n",
    "#1. Explain the purpose of the `map()` function in Python \n",
    "#and provide an example of how it can be used to apply a function to each element of an iterable."
   ]
  },
  {
   "cell_type": "code",
   "execution_count": 42,
   "id": "7e3ca0f5-0b3d-4347-bef5-ecd7fa0dd7e2",
   "metadata": {},
   "outputs": [
    {
     "data": {
      "text/plain": [
       "[1, 4, 9, 16, 25, 36]"
      ]
     },
     "execution_count": 42,
     "metadata": {},
     "output_type": "execute_result"
    }
   ],
   "source": [
    "#Map function helps use to do the operation through each element of the one or more list.\n",
    "\n",
    "Example :\n",
    "\n",
    "l = [1,2,3,4,5,6]\n",
    "\n",
    "list(map(lambda a : a**2, l))\n"
   ]
  },
  {
   "cell_type": "code",
   "execution_count": null,
   "id": "a68fc1dc-ea75-49a6-b836-3a50ad6024ce",
   "metadata": {},
   "outputs": [],
   "source": [
    "#2. Write a Python program that uses the `map()` function to square each element of a list of numbers."
   ]
  },
  {
   "cell_type": "code",
   "execution_count": 43,
   "id": "68d09830-e4db-43ca-bec8-f1d8bffbd73f",
   "metadata": {},
   "outputs": [
    {
     "data": {
      "text/plain": [
       "[1, 4, 9, 16, 25, 36]"
      ]
     },
     "execution_count": 43,
     "metadata": {},
     "output_type": "execute_result"
    }
   ],
   "source": [
    "l = [1,2,3,4,5,6]\n",
    "\n",
    "list(map(lambda a : a**2, l))\n"
   ]
  },
  {
   "cell_type": "code",
   "execution_count": null,
   "id": "334a164d-46c5-42a4-8b76-91408d2e9a7d",
   "metadata": {},
   "outputs": [],
   "source": [
    "#3. How does the`map()` function differ from a list comprehension in Python, and when would you choose one over the other?"
   ]
  },
  {
   "cell_type": "code",
   "execution_count": null,
   "id": "2c4a9e1f-7dd2-4f47-9296-d517689fbadb",
   "metadata": {},
   "outputs": [],
   "source": [
    "\"\"\"Syntax:\n",
    "map(): Takes a function and an iterable (or multiple iterables) as arguments, and applies the function to each element of the iterable(s).\n",
    "List Comprehension: Uses a more Pythonic, concise syntax to apply an expression to each element of an iterable, optionally filtering elements \n",
    "with a condition.\"\"\"\n",
    "\n",
    "\"\"\"Return Type:\n",
    "\n",
    "map(): Returns a map object, which is an iterator. You need to explicitly convert it to a list \n",
    "or another collection type if you want to see the results.\n",
    "List Comprehension: Directly returns a list (or other collection types if you specify them).\n",
    "Performance:\n",
    "\n",
    "map(): May be more efficient in some cases, especially when used with built-in functions because map() applies the function in C-level code,\n",
    "which could lead to better performance for large datasets.\n",
    "List Comprehension: Often more readable and Pythonic, though there might be a slight performance difference in some cases.\n",
    "Flexibility:\n",
    "\n",
    "map(): Requires a function to be passed as an argument. The function can either be a regular function or a lambda function, \n",
    "and you can pass multiple iterables. This makes it very useful for applying specific functions.\n",
    "List Comprehension: Offers greater flexibility with the ability to include complex expressions, multiple conditions,\n",
    "and multiple variables in a more readable, concise format.\"\"\"\n",
    "\n",
    "\n",
    "\n",
    "\"\"\"map(): Ideal when you already have a function (including lambda) and want to apply it to each element of an iterable, \n",
    "   or when you are dealing with multiple iterables.\"\"\"\n",
    "\n",
    "\"\"\"List Comprehension: Ideal for more readable and flexible code, especially when you need to include conditions, multiple expressions, \n",
    "   or when transforming data in a simple, Pythonic way.\"\"\""
   ]
  },
  {
   "cell_type": "code",
   "execution_count": null,
   "id": "53cca478-d45e-404b-9836-8b0e7e5b222c",
   "metadata": {},
   "outputs": [],
   "source": [
    " #4. Create a Python program that uses the `map()` function to convert a list of names to uppercase."
   ]
  },
  {
   "cell_type": "code",
   "execution_count": 47,
   "id": "28328e9c-3720-4985-bbc0-f0dbfdeac8b4",
   "metadata": {},
   "outputs": [
    {
     "data": {
      "text/plain": [
       "['TUNTUN', 'RAHUL', 'SATYENDRA', 'LALU']"
      ]
     },
     "execution_count": 47,
     "metadata": {},
     "output_type": "execute_result"
    }
   ],
   "source": [
    "lst = ['Tuntun', 'Rahul', 'Satyendra', 'Lalu']\n",
    "\n",
    "list(map(lambda a : a.upper(), lst))"
   ]
  },
  {
   "cell_type": "code",
   "execution_count": null,
   "id": "bbaba57c-74b1-42de-936e-f00cd38f4658",
   "metadata": {},
   "outputs": [],
   "source": [
    " #5. Write aPython program that uses the `map()` function to calculate the length of each word in a list of strings."
   ]
  },
  {
   "cell_type": "code",
   "execution_count": 48,
   "id": "ee63bdeb-d1a5-4648-8c28-8590dbf84de1",
   "metadata": {},
   "outputs": [
    {
     "data": {
      "text/plain": [
       "[6, 5, 9, 4]"
      ]
     },
     "execution_count": 48,
     "metadata": {},
     "output_type": "execute_result"
    }
   ],
   "source": [
    "lst = ['Tuntun', 'Rahul', 'Satyendra', 'Lalu']\n",
    "\n",
    "list(map(lambda a : len(a),lst))"
   ]
  },
  {
   "cell_type": "code",
   "execution_count": null,
   "id": "2d2ba7e9-5dad-4a4b-9072-08e577027069",
   "metadata": {},
   "outputs": [],
   "source": [
    "#6. How can you use the`map()` function to apply a custom function to elements of multiple lists simultaneously in Python?"
   ]
  },
  {
   "cell_type": "code",
   "execution_count": 51,
   "id": "9e3036fe-f7a8-42fb-a5fb-07d0ebf71a01",
   "metadata": {},
   "outputs": [
    {
     "name": "stdout",
     "output_type": "stream",
     "text": [
      "[28, 80, 162]\n"
     ]
    }
   ],
   "source": [
    "def multiply(x, y, z):\n",
    "    return x * y * z\n",
    "\n",
    "# Three lists\n",
    "list1 = [1, 2, 3]\n",
    "list2 = [4, 5, 6]\n",
    "list3 = [7, 8, 9]\n",
    "\n",
    "result = map(multiply, list1, list2, list3)\n",
    "print(list(result))  "
   ]
  },
  {
   "cell_type": "code",
   "execution_count": null,
   "id": "f0d6a480-2744-4c89-a80d-12145a1cacf4",
   "metadata": {},
   "outputs": [],
   "source": [
    "# 7. Create a Python program that uses `map()` to convert a list of temperatures from Celsius to Fahrenheit."
   ]
  },
  {
   "cell_type": "code",
   "execution_count": 49,
   "id": "a81dbc6e-96ea-47fa-b13b-08a9818a8410",
   "metadata": {},
   "outputs": [
    {
     "data": {
      "text/plain": [
       "[113.0, 208.4, 104.0, 73.4]"
      ]
     },
     "execution_count": 49,
     "metadata": {},
     "output_type": "execute_result"
    }
   ],
   "source": [
    "lst = [45, 98, 40, 23]\n",
    "\n",
    "list(map(lambda a : (a*9/5) +32, lst))"
   ]
  },
  {
   "cell_type": "code",
   "execution_count": null,
   "id": "967fb214-7d95-49a2-87dc-0dc21c58f0f0",
   "metadata": {},
   "outputs": [],
   "source": [
    "# 8. Write a Python program that uses the `map()` function to round each element of a list of floating-point numbers to the nearest integer."
   ]
  },
  {
   "cell_type": "code",
   "execution_count": 52,
   "id": "d832ddb0-bbce-4898-abe7-dbd98b64e56c",
   "metadata": {},
   "outputs": [
    {
     "data": {
      "text/plain": [
       "[1, 4, 6, 7]"
      ]
     },
     "execution_count": 52,
     "metadata": {},
     "output_type": "execute_result"
    }
   ],
   "source": [
    "lst = [1.2222, 3.5555, 6.363446, 7.4335356]\n",
    "\n",
    "list(map(lambda x : round(x), lst))\n",
    "\n",
    "         "
   ]
  },
  {
   "cell_type": "code",
   "execution_count": null,
   "id": "0bf93bb1-3374-4b88-9f05-0d0f442dbeed",
   "metadata": {},
   "outputs": [],
   "source": [
    "#Reduce :\n",
    "#1. What is the`reduce()` function in Python, and what module should you import to use it? Provide an example of its basic usage."
   ]
  },
  {
   "cell_type": "code",
   "execution_count": 54,
   "id": "4a6f15a9-7a29-487f-b140-6dfe61adc778",
   "metadata": {},
   "outputs": [
    {
     "name": "stdout",
     "output_type": "stream",
     "text": [
      "24\n"
     ]
    }
   ],
   "source": [
    " \"\"\"\n",
    " The reduce() function in Python is used to apply a binary function cumulatively to the items of an iterable (such as a list), \n",
    "from left to right, so as to reduce the iterable to a single value. \"\"\"\n",
    "\n",
    "from functools import reduce\n",
    "\n",
    "\n",
    "\n",
    "def multiply(x, y):\n",
    "    return x * y\n",
    "\n",
    "# List of numbers\n",
    "numbers = [1, 2, 3, 4]\n",
    "\n",
    "# Use reduce to apply the multiply function cumulatively\n",
    "result = reduce(multiply, numbers)\n",
    "\n",
    "print(result)"
   ]
  },
  {
   "cell_type": "code",
   "execution_count": null,
   "id": "8dcec3d5-25a3-46b4-a859-51545ea0158c",
   "metadata": {},
   "outputs": [],
   "source": [
    " #2. Write a Python program that uses the `reduce()` function to find the product of all elements in a list."
   ]
  },
  {
   "cell_type": "code",
   "execution_count": 63,
   "id": "3d0c73c6-e456-4d91-a9ea-5d0bbc099b21",
   "metadata": {},
   "outputs": [
    {
     "name": "stdout",
     "output_type": "stream",
     "text": [
      "24\n"
     ]
    }
   ],
   "source": [
    "def multiply(x, y):\n",
    "    return x * y\n",
    "\n",
    "# List of numbers\n",
    "numbers = [1, 2, 3, 4]\n",
    "\n",
    "# Use reduce to apply the multiply function cumulatively\n",
    "result = reduce(multiply, numbers)\n",
    "\n",
    "print(result)"
   ]
  },
  {
   "cell_type": "code",
   "execution_count": null,
   "id": "92f5fc0e-8e58-43b0-9704-65cfcae01270",
   "metadata": {},
   "outputs": [],
   "source": [
    " #3. Create a Python program that uses `reduce()` to find the maximum element in a list of numbers."
   ]
  },
  {
   "cell_type": "code",
   "execution_count": 62,
   "id": "a7b14432-89d7-4643-abe2-06e70c995659",
   "metadata": {},
   "outputs": [
    {
     "name": "stdout",
     "output_type": "stream",
     "text": [
      "8\n"
     ]
    }
   ],
   "source": [
    "lst = [1,2,0,4,5,6,7,8]\n",
    "\n",
    "r = reduce((lambda x,y : x if x > y else y), lst)\n",
    "print(r)"
   ]
  },
  {
   "cell_type": "code",
   "execution_count": null,
   "id": "dd53bd93-b1bc-47c8-a5a1-455636877409",
   "metadata": {},
   "outputs": [],
   "source": [
    " #4. How can you use the`reduce()` function to concatenate a list of strings into a single string?"
   ]
  },
  {
   "cell_type": "code",
   "execution_count": 69,
   "id": "7f980ce0-6f24-45fa-a033-4878edf3ad8c",
   "metadata": {},
   "outputs": [
    {
     "data": {
      "text/plain": [
       "'tuntun'"
      ]
     },
     "execution_count": 69,
     "metadata": {},
     "output_type": "execute_result"
    }
   ],
   "source": [
    "l = ['t', 'u', 'n', 't', 'u', 'n']\n",
    "\n",
    "re = reduce((lambda x,y : x+y), l)\n",
    "re"
   ]
  },
  {
   "cell_type": "code",
   "execution_count": null,
   "id": "4efaae9a-1359-46e0-916d-05614bd3bbb6",
   "metadata": {},
   "outputs": [],
   "source": [
    "# 5. Write a Python program that calculates the factorial of a number using the `reduce()` function."
   ]
  },
  {
   "cell_type": "code",
   "execution_count": 100,
   "id": "95236051-0fa4-4bea-bb60-273aa46914d2",
   "metadata": {},
   "outputs": [
    {
     "name": "stdin",
     "output_type": "stream",
     "text": [
      "Enter a number 5\n"
     ]
    },
    {
     "name": "stdout",
     "output_type": "stream",
     "text": [
      "The factorial of 5 is 120\n"
     ]
    }
   ],
   "source": [
    "n = int(input(\"Enter a number\"))\n",
    "\n",
    "n1 = range(2, n+1)\n",
    "\n",
    "result = reduce(lambda x, y: x * y, n1)\n",
    "print(f\"The factorial of {n} is {result}\")\n"
   ]
  },
  {
   "cell_type": "code",
   "execution_count": null,
   "id": "d07af570-a42a-4227-b272-dd7dc2a6515c",
   "metadata": {},
   "outputs": [],
   "source": [
    "#6. Create a Python program that uses `reduce()` to find the GCD (Greatest Common Divisor) of a list of numbers."
   ]
  },
  {
   "cell_type": "code",
   "execution_count": 103,
   "id": "b7a9b477-c69f-4978-a6b7-cc6aef93e087",
   "metadata": {},
   "outputs": [
    {
     "data": {
      "text/plain": [
       "5"
      ]
     },
     "execution_count": 103,
     "metadata": {},
     "output_type": "execute_result"
    }
   ],
   "source": [
    "import math\n",
    "lst = [10,30,25,55,15,20]\n",
    "\n",
    "def find_gcd(n):\n",
    "    return reduce(math.gcd,n)\n",
    "find_gcd(lst)"
   ]
  },
  {
   "cell_type": "code",
   "execution_count": null,
   "id": "120f5d92-8672-487b-a283-4513881c7a23",
   "metadata": {},
   "outputs": [],
   "source": [
    "#7. Write a Python program that uses the `reduce()` function to find the sum of the digits of a given number"
   ]
  },
  {
   "cell_type": "code",
   "execution_count": 104,
   "id": "04c0a6a8-5c75-4957-8b01-b200e6f41e80",
   "metadata": {},
   "outputs": [
    {
     "name": "stdout",
     "output_type": "stream",
     "text": [
      "21\n"
     ]
    }
   ],
   "source": [
    "lst = [1,2,3,4,5,6]\n",
    "\n",
    "result = reduce((lambda x,y : x+y), lst)\n",
    "print(result)"
   ]
  },
  {
   "cell_type": "code",
   "execution_count": null,
   "id": "2a2ae8dc-2caf-476a-bf82-da23d724df3a",
   "metadata": {},
   "outputs": [],
   "source": [
    " \"\"\" Filter :\n",
    "1. Explain the purpose of the `filter()` function in Python and provide an example of how it can be\n",
    " used to filter elements from an iterable.\"\"\""
   ]
  },
  {
   "cell_type": "code",
   "execution_count": 106,
   "id": "cbd40d06-2dad-47d5-aff8-47b7db3cd275",
   "metadata": {},
   "outputs": [
    {
     "data": {
      "text/plain": [
       "[2, 4, 6, 8]"
      ]
     },
     "execution_count": 106,
     "metadata": {},
     "output_type": "execute_result"
    }
   ],
   "source": [
    "'''The filter function in Python is used to filter elements from an iterable (like a list, tuple, or string) based on a condition defined by a \n",
    "function. It creates a new iterable consisting of only those elements from the original iterable for which the function returns True.'''\n",
    "\n",
    "lst = [1,2,3,4,5,6,7,8]\n",
    "list(filter((lambda x : x if x%2 == 0 else False), lst))"
   ]
  },
  {
   "cell_type": "code",
   "execution_count": null,
   "id": "916a35e2-7f96-401a-a072-0df86056403d",
   "metadata": {},
   "outputs": [],
   "source": [
    " #2. Write a Python program that uses the `filter()` function to select even numbers from a list of integers."
   ]
  },
  {
   "cell_type": "code",
   "execution_count": 107,
   "id": "e3c05f9b-0fcc-47ca-bf74-7da69cdf9a48",
   "metadata": {},
   "outputs": [
    {
     "data": {
      "text/plain": [
       "[2, 4, 6, 8]"
      ]
     },
     "execution_count": 107,
     "metadata": {},
     "output_type": "execute_result"
    }
   ],
   "source": [
    "lst = [1,2,3,4,5,6,7,8]\n",
    "list(filter((lambda x : x if x%2 == 0 else False), lst))"
   ]
  },
  {
   "cell_type": "code",
   "execution_count": null,
   "id": "14a566c9-00cd-4e80-8815-2e60ff507d9e",
   "metadata": {},
   "outputs": [],
   "source": [
    "#3. Create a Python program that uses the `filter()` function to select names that start with a specific letter from a list of strings."
   ]
  },
  {
   "cell_type": "code",
   "execution_count": 108,
   "id": "4e169e1c-4510-4656-bb23-ba6880de83a5",
   "metadata": {},
   "outputs": [
    {
     "data": {
      "text/plain": [
       "['Tuntun', 'Titu', 'Tanishq']"
      ]
     },
     "execution_count": 108,
     "metadata": {},
     "output_type": "execute_result"
    }
   ],
   "source": [
    "l = ['Tuntun', 'Titu', 'Tanishq', 'Suman', 'Lalu']\n",
    "\n",
    "list(filter((lambda n : n if n[0] == 'T' else False), l))"
   ]
  },
  {
   "cell_type": "code",
   "execution_count": null,
   "id": "767446fd-e515-46e4-a7a7-99b0b228a036",
   "metadata": {},
   "outputs": [],
   "source": [
    "#4. Write a Python program that uses the `filter()` function to select prime numbers from a list of integers."
   ]
  },
  {
   "cell_type": "code",
   "execution_count": 110,
   "id": "09b8fea9-4ffe-49a1-9a72-df99961c06c5",
   "metadata": {},
   "outputs": [
    {
     "data": {
      "text/plain": [
       "[3, 5, 7, 9]"
      ]
     },
     "execution_count": 110,
     "metadata": {},
     "output_type": "execute_result"
    }
   ],
   "source": [
    "lst = [1,2,3,4,5,6,7,8,9]\n",
    "\n",
    "is_prime = lambda x : x > 1 and all(x % i != 0 for i in range(2, int(n**0.5) +1) )\n",
    "\n",
    "list(filter(is_prime, lst))"
   ]
  },
  {
   "cell_type": "code",
   "execution_count": null,
   "id": "7a0cef3a-a8c8-4b83-a1d0-f87affdf37e3",
   "metadata": {},
   "outputs": [],
   "source": [
    "#5. How can you use the`filter()` function to remove None values from a list in Python?"
   ]
  },
  {
   "cell_type": "code",
   "execution_count": 112,
   "id": "7cdbaf43-6ad0-43a2-bd12-fa6b77dff378",
   "metadata": {},
   "outputs": [
    {
     "data": {
      "text/plain": [
       "[1, 2, 3, 4, 5, 6]"
      ]
     },
     "execution_count": 112,
     "metadata": {},
     "output_type": "execute_result"
    }
   ],
   "source": [
    "lst = [1,2,3,'t', 'u', 4,5,6]\n",
    "\n",
    "list(filter(lambda x : x if type(x) == int else False, lst))"
   ]
  },
  {
   "cell_type": "code",
   "execution_count": null,
   "id": "cd61566c-890d-4837-8451-28e35b339fd7",
   "metadata": {},
   "outputs": [],
   "source": [
    " #6. Create a Python program that uses `filter()` to select words longer than a certain length from a list of strings."
   ]
  },
  {
   "cell_type": "code",
   "execution_count": 114,
   "id": "8cec105f-a83f-4f07-97ff-2f5bf7feeb41",
   "metadata": {},
   "outputs": [
    {
     "data": {
      "text/plain": [
       "['Tuntun', 'Tanishq', 'Suman']"
      ]
     },
     "execution_count": 114,
     "metadata": {},
     "output_type": "execute_result"
    }
   ],
   "source": [
    "lst = ['Tuntun', 'Titu', 'Tanishq', 'Suman', 'Lalu']\n",
    "\n",
    "list(filter( lambda x : x if len(x) > 4 else False, lst))"
   ]
  },
  {
   "cell_type": "code",
   "execution_count": null,
   "id": "cc435e64-1fb8-49f6-8af2-32130a2cd14e",
   "metadata": {},
   "outputs": [],
   "source": [
    "#7. Write a Python program that uses the `filter()` function to select elements greater than a specified threshold from a list of values."
   ]
  },
  {
   "cell_type": "code",
   "execution_count": 115,
   "id": "adb61933-da2d-45c5-bbaa-30a40a4a3d2a",
   "metadata": {},
   "outputs": [
    {
     "data": {
      "text/plain": [
       "[5, 30.5, 24, 30]"
      ]
     },
     "execution_count": 115,
     "metadata": {},
     "output_type": "execute_result"
    }
   ],
   "source": [
    "lst = [1,2,3,4,5,30.50,24, 30]\n",
    "\n",
    "list(filter( lambda x : x if x > 4 else False, lst))"
   ]
  },
  {
   "cell_type": "code",
   "execution_count": null,
   "id": "aca9b07a-8af1-4c35-a533-fc3c6a5d76a3",
   "metadata": {},
   "outputs": [],
   "source": [
    "''' Recursion:\n",
    "1. Explain the concept of recursion in Python. How does it differ from iteration?'''"
   ]
  },
  {
   "cell_type": "code",
   "execution_count": null,
   "id": "8e2a07a0-1ac8-4e7b-b376-821508ba0577",
   "metadata": {},
   "outputs": [],
   "source": [
    "'''Recursion is a programming technique where a function calls itself in order to solve a problem. A recursive function typically has two \n",
    "key components:\n",
    "Base Case: A condition that stops the recursion. Without a base case, the function would keep calling itself indefinitely, leading to a\n",
    "stack overflow.\n",
    "Recursive Case: The part of function where it calls itself to reduce the problem into smaller, more manageable pieces.\n",
    "\n",
    "Differences Between Recursion and Iteration:\n",
    "Memory Usage:\n",
    "\n",
    "Recursion: Every recursive call uses a separate frame in the call stack, which can result in higher memory usage, especially for deep \n",
    "recursions. If the recursion goes too deep (e.g., in the case of a very large number), it may cause a stack overflow.\n",
    "Iteration: Iterative solutions use a constant amount of memory because the loop is controlled by a single execution frame.\n",
    "Performance:\n",
    "\n",
    "Recursion: Recursive calls can be less efficient, especially for problems with a large depth of recursion, due to the overhead of function calls \n",
    "and maintaining the call stack. However, for problems like tree traversal, recursion can be more natural and easier to implement.\n",
    "Iteration: Iterative solutions typically use less memory and may be more efficient than recursion for simpler problems because there is no \n",
    "overhead of function calls.\n",
    "\n",
    "Readability and Elegance:\n",
    "Recursion: In some cases, recursion offers a more elegant and concise solution, especially when the problem itself has a recursive structure (e.g., binary trees, graph traversal, or divide-and-conquer algorithms).\n",
    "Iteration: Iteration is usually more straightforward and can often be simpler to implement for problems that do not naturally lend themselves to recursion.\n",
    "Termination Condition:\n",
    "\n",
    "Recursion: Recursion relies on a base case to stop the function from calling itself. If there is no base case or if it is not reached, \n",
    "recursion will continue indefinitely.\n",
    "Iteration: In iteration, a loop typically terminates when a specified condition is met, such as reaching a particular number of iterations \n",
    "or a stopping condition.'''"
   ]
  },
  {
   "cell_type": "code",
   "execution_count": null,
   "id": "9ecdac87-acd6-4b62-b97a-2e99aeca6e6a",
   "metadata": {},
   "outputs": [],
   "source": [
    "# 2. Write a Python program to calculate the factorial of a number using recursion."
   ]
  },
  {
   "cell_type": "code",
   "execution_count": 117,
   "id": "a1ce2ea6-3e77-4854-bb74-f858525a7525",
   "metadata": {},
   "outputs": [
    {
     "name": "stdin",
     "output_type": "stream",
     "text": [
      "Enter a number to calculate its factorial:  5\n"
     ]
    },
    {
     "name": "stdout",
     "output_type": "stream",
     "text": [
      "The factorial of 5 is 120.\n"
     ]
    }
   ],
   "source": [
    "def find_fac(n):\n",
    "    if n ==1 or n == 0 :\n",
    "        return 1\n",
    "    else :\n",
    "        return n* find_fac(n-1)\n",
    "       \n",
    "num = int(input(\"Enter a number to calculate its factorial: \"))\n",
    "\n",
    "\n",
    "result = find_fac(num)\n",
    "print(f\"The factorial of {num} is {result}.\")   "
   ]
  },
  {
   "cell_type": "code",
   "execution_count": null,
   "id": "19f883b6-eca5-403e-a2e0-24522dc307ee",
   "metadata": {},
   "outputs": [],
   "source": [
    "# 3. Create a recursive Python function to find the nth Fibonacci number."
   ]
  },
  {
   "cell_type": "code",
   "execution_count": 129,
   "id": "4561cb4a-5c55-46c6-b115-9318c9725e75",
   "metadata": {},
   "outputs": [
    {
     "name": "stdin",
     "output_type": "stream",
     "text": [
      "Enter nth number to find the fibonacci 5\n"
     ]
    },
    {
     "data": {
      "text/plain": [
       "5"
      ]
     },
     "execution_count": 129,
     "metadata": {},
     "output_type": "execute_result"
    }
   ],
   "source": [
    "def find_fib(n):\n",
    "    if n == 0 :\n",
    "        return 0\n",
    "    elif n ==1:\n",
    "        return 1\n",
    "    else:\n",
    "        return find_fib(n-1) + find_fib(n-2)\n",
    "\n",
    "n = int(input(\"Enter nth number to find the fibonacci\" ))\n",
    "\n",
    "find_fib(n)"
   ]
  },
  {
   "cell_type": "code",
   "execution_count": null,
   "id": "e511acf5-fe51-44da-a3a4-aaad2a2279c3",
   "metadata": {},
   "outputs": [],
   "source": [
    "#4. Write a recursive Python function to calculate the sum of all elements in a list"
   ]
  },
  {
   "cell_type": "code",
   "execution_count": 136,
   "id": "e6bc8f6a-4ba1-457c-a910-a0b02b1a8917",
   "metadata": {},
   "outputs": [
    {
     "name": "stdout",
     "output_type": "stream",
     "text": [
      "The sum of list [1, 2, 3, 4, 5] is 15\n"
     ]
    }
   ],
   "source": [
    "lst = [1,2,3,4,5]\n",
    "\n",
    "def sum_list(lst):\n",
    "    \n",
    "    if not lst:\n",
    "        return 0\n",
    "    else:\n",
    "        return lst[0] + sum_list(lst[1:])\n",
    "\n",
    "result = sum_list(lst)\n",
    "print(f\"The sum of list {lst} is {result}\")"
   ]
  },
  {
   "cell_type": "code",
   "execution_count": null,
   "id": "ee241e1e-3b7e-4981-942d-06b4f53bff20",
   "metadata": {},
   "outputs": [],
   "source": [
    "# 5. How can you prevent a recursive function from running indefinitely, causing a stack overflow error?"
   ]
  },
  {
   "cell_type": "code",
   "execution_count": null,
   "id": "4159fe05-374e-4e7f-9632-463f41daed9c",
   "metadata": {},
   "outputs": [],
   "source": [
    "'''\n",
    "1.Always define a proper base case that halts the recursion.\n",
    "2.Ensure that each recursive call progresses toward that base case (e.g., decreasing the input values or parameters).\n",
    "3.Validate inputs to ensure the function behaves as expected for all possible inputs.\n",
    "4.Use iteration instead of recursion when appropriate, especially for problems that can lead to deep recursion.\n",
    "By following these print'''"
   ]
  },
  {
   "cell_type": "code",
   "execution_count": null,
   "id": "9eb45a9d-2884-47b2-9976-af57a1f922db",
   "metadata": {},
   "outputs": [],
   "source": [
    "#6. Create a recursive Python function to find the greatest common divisor (GCD) of two numbers using the Euclidean algorithm."
   ]
  },
  {
   "cell_type": "code",
   "execution_count": 137,
   "id": "0b7139f4-96e8-4c00-b45d-52113f0d7de3",
   "metadata": {},
   "outputs": [
    {
     "name": "stdin",
     "output_type": "stream",
     "text": [
      "Enter the first number:  4\n",
      "Enter the second number:  6\n"
     ]
    },
    {
     "name": "stdout",
     "output_type": "stream",
     "text": [
      "The GCD of 4 and 6 is 2.\n"
     ]
    }
   ],
   "source": [
    "# Recursive function to find the GCD using Euclidean algorithm\n",
    "def gcd(a, b):\n",
    "    # Base case: if b is 0, the GCD is a\n",
    "    if b == 0:\n",
    "        return a\n",
    "    # Recursive case: GCD of b and the remainder of a divided by b\n",
    "    else:\n",
    "        return gcd(b, a % b)\n",
    "\n",
    "# Example usage\n",
    "num1 = int(input(\"Enter the first number: \"))\n",
    "num2 = int(input(\"Enter the second number: \"))\n",
    "\n",
    "result = gcd(num1, num2)\n",
    "print(f\"The GCD of {num1} and {num2} is {result}.\")\n"
   ]
  },
  {
   "cell_type": "code",
   "execution_count": null,
   "id": "788b372e-d538-4656-9fe3-b2394dea1962",
   "metadata": {},
   "outputs": [],
   "source": [
    " #7. Write a recursive Python function to reverse a string."
   ]
  },
  {
   "cell_type": "code",
   "execution_count": 140,
   "id": "079ef928-65bc-4069-ad1f-74dee7f2763c",
   "metadata": {},
   "outputs": [
    {
     "name": "stdin",
     "output_type": "stream",
     "text": [
      "Enter a string tuntun\n"
     ]
    },
    {
     "name": "stdout",
     "output_type": "stream",
     "text": [
      "The reversed of tuntun is nutnut.\n"
     ]
    }
   ],
   "source": [
    "def str_reverse(s):\n",
    "    if len(s) == 0:\n",
    "        return s\n",
    "    else:\n",
    "        return str_reverse(s[1:]) + s[0]\n",
    "\n",
    "strr = input(\"Enter a string\")\n",
    "\n",
    "result = str_reverse(strr)\n",
    "print(f\"The reversed of {strr} is {result}.\")"
   ]
  },
  {
   "cell_type": "code",
   "execution_count": null,
   "id": "d13cd3af-d2df-441d-83da-ccc89510fef5",
   "metadata": {},
   "outputs": [],
   "source": [
    "#8. Create a recursive Python function to calculate the power of a number (x^n)."
   ]
  },
  {
   "cell_type": "code",
   "execution_count": 141,
   "id": "389169c7-cd1a-4d65-9eb8-0184dd734f0e",
   "metadata": {},
   "outputs": [
    {
     "name": "stdin",
     "output_type": "stream",
     "text": [
      "Enter the base number:  5\n",
      "Enter the exponent:  2\n"
     ]
    },
    {
     "name": "stdout",
     "output_type": "stream",
     "text": [
      "The result of 5.0 raised to the power of 2 is 25.0.\n"
     ]
    }
   ],
   "source": [
    "# Recursive function to calculate x raised to the power of n (x^n)\n",
    "def power(x, n):\n",
    "    # Base case: Any number raised to the power of 0 is 1\n",
    "    if n == 0:\n",
    "        return 1\n",
    "    # Recursive case: if n is positive\n",
    "    elif n > 0:\n",
    "        return x * power(x, n - 1)\n",
    "    # Recursive case: if n is negative\n",
    "    else:\n",
    "        return 1 / power(x, -n)\n",
    "\n",
    "# Example usage\n",
    "base = float(input(\"Enter the base number: \"))\n",
    "exponent = int(input(\"Enter the exponent: \"))\n",
    "\n",
    "result = power(base, exponent)\n",
    "print(f\"The result of {base} raised to the power of {exponent} is {result}.\")"
   ]
  },
  {
   "cell_type": "code",
   "execution_count": null,
   "id": "c40e425f-f743-496d-b504-f959b51c6074",
   "metadata": {},
   "outputs": [],
   "source": [
    "#9. Write a recursive Python function to find all permutations of a given string."
   ]
  },
  {
   "cell_type": "code",
   "execution_count": 142,
   "id": "583c3071-5c56-4a3f-8be9-f38e55094108",
   "metadata": {},
   "outputs": [
    {
     "name": "stdin",
     "output_type": "stream",
     "text": [
      "Enter a string:  tuntun\n"
     ]
    },
    {
     "name": "stdout",
     "output_type": "stream",
     "text": [
      "All permutations of tuntun are: ['tuntun', 'tuntnu', 'tunutn', 'tununt', 'tunntu', 'tunnut', 'tutnun', 'tutnnu', 'tutunn', 'tutunn', 'tutnnu', 'tutnun', 'tuuntn', 'tuunnt', 'tuutnn', 'tuutnn', 'tuunnt', 'tuuntn', 'tunntu', 'tunnut', 'tuntnu', 'tuntun', 'tununt', 'tunutn', 'tnutun', 'tnutnu', 'tnuutn', 'tnuunt', 'tnuntu', 'tnunut', 'tntuun', 'tntunu', 'tntuun', 'tntunu', 'tntnuu', 'tntnuu', 'tnuutn', 'tnuunt', 'tnutun', 'tnutnu', 'tnunut', 'tnuntu', 'tnnutu', 'tnnuut', 'tnntuu', 'tnntuu', 'tnnuut', 'tnnutu', 'ttunun', 'ttunnu', 'ttuunn', 'ttuunn', 'ttunnu', 'ttunun', 'ttnuun', 'ttnunu', 'ttnuun', 'ttnunu', 'ttnnuu', 'ttnnuu', 'ttuunn', 'ttuunn', 'ttunun', 'ttunnu', 'ttunun', 'ttunnu', 'ttnunu', 'ttnuun', 'ttnnuu', 'ttnnuu', 'ttnuun', 'ttnunu', 'tuuntn', 'tuunnt', 'tuutnn', 'tuutnn', 'tuunnt', 'tuuntn', 'tunutn', 'tununt', 'tuntun', 'tuntnu', 'tunnut', 'tunntu', 'tutunn', 'tutunn', 'tutnun', 'tutnnu', 'tutnun', 'tutnnu', 'tununt', 'tunutn', 'tunnut', 'tunntu', 'tuntun', 'tuntnu', 'tnuntu', 'tnunut', 'tnutnu', 'tnutun', 'tnuunt', 'tnuutn', 'tnnutu', 'tnnuut', 'tnntuu', 'tnntuu', 'tnnuut', 'tnnutu', 'tntunu', 'tntuun', 'tntnuu', 'tntnuu', 'tntuun', 'tntunu', 'tnuunt', 'tnuutn', 'tnunut', 'tnuntu', 'tnutun', 'tnutnu', 'utntun', 'utntnu', 'utnutn', 'utnunt', 'utnntu', 'utnnut', 'uttnun', 'uttnnu', 'uttunn', 'uttunn', 'uttnnu', 'uttnun', 'utuntn', 'utunnt', 'ututnn', 'ututnn', 'utunnt', 'utuntn', 'utnntu', 'utnnut', 'utntnu', 'utntun', 'utnunt', 'utnutn', 'unttun', 'unttnu', 'untutn', 'untunt', 'untntu', 'untnut', 'unttun', 'unttnu', 'untutn', 'untunt', 'untntu', 'untnut', 'unuttn', 'unutnt', 'unuttn', 'unutnt', 'ununtt', 'ununtt', 'unnttu', 'unntut', 'unnttu', 'unntut', 'unnutt', 'unnutt', 'uttnun', 'uttnnu', 'uttunn', 'uttunn', 'uttnnu', 'uttnun', 'utntun', 'utntnu', 'utnutn', 'utnunt', 'utnntu', 'utnnut', 'ututnn', 'ututnn', 'utuntn', 'utunnt', 'utuntn', 'utunnt', 'utntnu', 'utntun', 'utnntu', 'utnnut', 'utnutn', 'utnunt', 'uutntn', 'uutnnt', 'uuttnn', 'uuttnn', 'uutnnt', 'uutntn', 'uunttn', 'uuntnt', 'uunttn', 'uuntnt', 'uunntt', 'uunntt', 'uuttnn', 'uuttnn', 'uutntn', 'uutnnt', 'uutntn', 'uutnnt', 'uuntnt', 'uunttn', 'uunntt', 'uunntt', 'uunttn', 'uuntnt', 'untntu', 'untnut', 'unttnu', 'unttun', 'untunt', 'untutn', 'unnttu', 'unntut', 'unnttu', 'unntut', 'unnutt', 'unnutt', 'unttnu', 'unttun', 'untntu', 'untnut', 'untutn', 'untunt', 'unutnt', 'unuttn', 'ununtt', 'ununtt', 'unuttn', 'unutnt', 'ntutun', 'ntutnu', 'ntuutn', 'ntuunt', 'ntuntu', 'ntunut', 'nttuun', 'nttunu', 'nttuun', 'nttunu', 'nttnuu', 'nttnuu', 'ntuutn', 'ntuunt', 'ntutun', 'ntutnu', 'ntunut', 'ntuntu', 'ntnutu', 'ntnuut', 'ntntuu', 'ntntuu', 'ntnuut', 'ntnutu', 'nuttun', 'nuttnu', 'nututn', 'nutunt', 'nutntu', 'nutnut', 'nuttun', 'nuttnu', 'nututn', 'nutunt', 'nutntu', 'nutnut', 'nuuttn', 'nuutnt', 'nuuttn', 'nuutnt', 'nuuntt', 'nuuntt', 'nunttu', 'nuntut', 'nunttu', 'nuntut', 'nunutt', 'nunutt', 'nttuun', 'nttunu', 'nttuun', 'nttunu', 'nttnuu', 'nttnuu', 'ntutun', 'ntutnu', 'ntuutn', 'ntuunt', 'ntuntu', 'ntunut', 'ntutun', 'ntutnu', 'ntuutn', 'ntuunt', 'ntuntu', 'ntunut', 'ntntuu', 'ntntuu', 'ntnutu', 'ntnuut', 'ntnutu', 'ntnuut', 'nututn', 'nutunt', 'nuttun', 'nuttnu', 'nutnut', 'nutntu', 'nuuttn', 'nuutnt', 'nuuttn', 'nuutnt', 'nuuntt', 'nuuntt', 'nuttun', 'nuttnu', 'nututn', 'nutunt', 'nutntu', 'nutnut', 'nuntut', 'nunttu', 'nunutt', 'nunutt', 'nunttu', 'nuntut', 'nntutu', 'nntuut', 'nnttuu', 'nnttuu', 'nntuut', 'nntutu', 'nnuttu', 'nnutut', 'nnuttu', 'nnutut', 'nnuutt', 'nnuutt', 'nnttuu', 'nnttuu', 'nntutu', 'nntuut', 'nntutu', 'nntuut', 'nnutut', 'nnuttu', 'nnuutt', 'nnuutt', 'nnuttu', 'nnutut', 'ttunun', 'ttunnu', 'ttuunn', 'ttuunn', 'ttunnu', 'ttunun', 'ttnuun', 'ttnunu', 'ttnuun', 'ttnunu', 'ttnnuu', 'ttnnuu', 'ttuunn', 'ttuunn', 'ttunun', 'ttunnu', 'ttunun', 'ttunnu', 'ttnunu', 'ttnuun', 'ttnnuu', 'ttnnuu', 'ttnuun', 'ttnunu', 'tutnun', 'tutnnu', 'tutunn', 'tutunn', 'tutnnu', 'tutnun', 'tuntun', 'tuntnu', 'tunutn', 'tununt', 'tunntu', 'tunnut', 'tuutnn', 'tuutnn', 'tuuntn', 'tuunnt', 'tuuntn', 'tuunnt', 'tuntnu', 'tuntun', 'tunntu', 'tunnut', 'tunutn', 'tununt', 'tntuun', 'tntunu', 'tntuun', 'tntunu', 'tntnuu', 'tntnuu', 'tnutun', 'tnutnu', 'tnuutn', 'tnuunt', 'tnuntu', 'tnunut', 'tnutun', 'tnutnu', 'tnuutn', 'tnuunt', 'tnuntu', 'tnunut', 'tnntuu', 'tnntuu', 'tnnutu', 'tnnuut', 'tnnutu', 'tnnuut', 'tutunn', 'tutunn', 'tutnun', 'tutnnu', 'tutnun', 'tutnnu', 'tuutnn', 'tuutnn', 'tuuntn', 'tuunnt', 'tuuntn', 'tuunnt', 'tuntun', 'tuntnu', 'tunutn', 'tununt', 'tunntu', 'tunnut', 'tuntun', 'tuntnu', 'tunutn', 'tununt', 'tunntu', 'tunnut', 'tntunu', 'tntuun', 'tntnuu', 'tntnuu', 'tntuun', 'tntunu', 'tnutnu', 'tnutun', 'tnuntu', 'tnunut', 'tnuutn', 'tnuunt', 'tnntuu', 'tnntuu', 'tnnutu', 'tnnuut', 'tnnutu', 'tnnuut', 'tnutun', 'tnutnu', 'tnuutn', 'tnuunt', 'tnuntu', 'tnunut', 'utuntn', 'utunnt', 'ututnn', 'ututnn', 'utunnt', 'utuntn', 'utnutn', 'utnunt', 'utntun', 'utntnu', 'utnnut', 'utnntu', 'uttunn', 'uttunn', 'uttnun', 'uttnnu', 'uttnun', 'uttnnu', 'utnunt', 'utnutn', 'utnnut', 'utnntu', 'utntun', 'utntnu', 'uutntn', 'uutnnt', 'uuttnn', 'uuttnn', 'uutnnt', 'uutntn', 'uunttn', 'uuntnt', 'uunttn', 'uuntnt', 'uunntt', 'uunntt', 'uuttnn', 'uuttnn', 'uutntn', 'uutnnt', 'uutntn', 'uutnnt', 'uuntnt', 'uunttn', 'uunntt', 'uunntt', 'uunttn', 'uuntnt', 'untutn', 'untunt', 'unttun', 'unttnu', 'untnut', 'untntu', 'unuttn', 'unutnt', 'unuttn', 'unutnt', 'ununtt', 'ununtt', 'unttun', 'unttnu', 'untutn', 'untunt', 'untntu', 'untnut', 'unntut', 'unnttu', 'unnutt', 'unnutt', 'unnttu', 'unntut', 'uttunn', 'uttunn', 'uttnun', 'uttnnu', 'uttnun', 'uttnnu', 'ututnn', 'ututnn', 'utuntn', 'utunnt', 'utuntn', 'utunnt', 'utntun', 'utntnu', 'utnutn', 'utnunt', 'utnntu', 'utnnut', 'utntun', 'utntnu', 'utnutn', 'utnunt', 'utnntu', 'utnnut', 'untunt', 'untutn', 'untnut', 'untntu', 'unttun', 'unttnu', 'unutnt', 'unuttn', 'ununtt', 'ununtt', 'unuttn', 'unutnt', 'unntut', 'unnttu', 'unnutt', 'unnutt', 'unnttu', 'unntut', 'unttun', 'unttnu', 'untutn', 'untunt', 'untntu', 'untnut', 'ntuntu', 'ntunut', 'ntutnu', 'ntutun', 'ntuunt', 'ntuutn', 'ntnutu', 'ntnuut', 'ntntuu', 'ntntuu', 'ntnuut', 'ntnutu', 'nttunu', 'nttuun', 'nttnuu', 'nttnuu', 'nttuun', 'nttunu', 'ntuunt', 'ntuutn', 'ntunut', 'ntuntu', 'ntutun', 'ntutnu', 'nutntu', 'nutnut', 'nuttnu', 'nuttun', 'nutunt', 'nututn', 'nunttu', 'nuntut', 'nunttu', 'nuntut', 'nunutt', 'nunutt', 'nuttnu', 'nuttun', 'nutntu', 'nutnut', 'nututn', 'nutunt', 'nuutnt', 'nuuttn', 'nuuntt', 'nuuntt', 'nuuttn', 'nuutnt', 'nntutu', 'nntuut', 'nnttuu', 'nnttuu', 'nntuut', 'nntutu', 'nnuttu', 'nnutut', 'nnuttu', 'nnutut', 'nnuutt', 'nnuutt', 'nnttuu', 'nnttuu', 'nntutu', 'nntuut', 'nntutu', 'nntuut', 'nnutut', 'nnuttu', 'nnuutt', 'nnuutt', 'nnuttu', 'nnutut', 'nttunu', 'nttuun', 'nttnuu', 'nttnuu', 'nttuun', 'nttunu', 'ntutnu', 'ntutun', 'ntuntu', 'ntunut', 'ntuutn', 'ntuunt', 'ntntuu', 'ntntuu', 'ntnutu', 'ntnuut', 'ntnutu', 'ntnuut', 'ntutun', 'ntutnu', 'ntuutn', 'ntuunt', 'ntuntu', 'ntunut', 'nutunt', 'nututn', 'nutnut', 'nutntu', 'nuttun', 'nuttnu', 'nuutnt', 'nuuttn', 'nuuntt', 'nuuntt', 'nuuttn', 'nuutnt', 'nuntut', 'nunttu', 'nunutt', 'nunutt', 'nunttu', 'nuntut', 'nuttun', 'nuttnu', 'nututn', 'nutunt', 'nutntu', 'nutnut']\n"
     ]
    }
   ],
   "source": [
    "# Recursive function to find all permutations of a string\n",
    "def get_permutations(s):\n",
    "    # Base case: if the string is empty or has one character, return it as a list\n",
    "    if len(s) == 0:\n",
    "        return ['']\n",
    "    if len(s) == 1:\n",
    "        return [s]\n",
    "    \n",
    "    permutations = []\n",
    "    \n",
    "    # Loop through each character in the string\n",
    "    for i in range(len(s)):\n",
    "        # Extract the current character\n",
    "        current_char = s[i]\n",
    "        \n",
    "        # Get the remaining string after removing the current character\n",
    "        remaining_string = s[:i] + s[i+1:]\n",
    "        \n",
    "        # Recursively get permutations of the remaining string\n",
    "        for perm in get_permutations(remaining_string):\n",
    "            # Prepend the current character to each of the permutations of the remaining string\n",
    "            permutations.append(current_char + perm)\n",
    "    \n",
    "    return permutations\n",
    "\n",
    "# Example usage\n",
    "input_string = input(\"Enter a string: \")\n",
    "result = get_permutations(input_string)\n",
    "\n",
    "# Print all permutations\n",
    "print(f\"All permutations of {input_string} are: {result}\")\n"
   ]
  },
  {
   "cell_type": "code",
   "execution_count": null,
   "id": "1cbc9301-c5ea-4837-a127-2d6755b223c0",
   "metadata": {},
   "outputs": [],
   "source": [
    "# 10. Write a recursive Python function to check if a string is a palindrome."
   ]
  },
  {
   "cell_type": "code",
   "execution_count": 143,
   "id": "38d63381-6c56-47f9-9d6a-57b6554ca4a8",
   "metadata": {},
   "outputs": [
    {
     "name": "stdin",
     "output_type": "stream",
     "text": [
      "Enter a string:  tuntun\n"
     ]
    },
    {
     "name": "stdout",
     "output_type": "stream",
     "text": [
      "'tuntun' is not a palindrome.\n"
     ]
    }
   ],
   "source": [
    "# Recursive function to check if a string is a palindrome\n",
    "def is_palindrome(s):\n",
    "    # Base case: if the string is empty or has one character, it's a palindrome\n",
    "    if len(s) <= 1:\n",
    "        return True\n",
    "    # If the first and last characters are the same, recursively check the substring\n",
    "    elif s[0] == s[-1]:\n",
    "        return is_palindrome(s[1:-1])\n",
    "    else:\n",
    "        return False\n",
    "\n",
    "# Example usage\n",
    "input_string = input(\"Enter a string: \")\n",
    "if is_palindrome(input_string):\n",
    "    print(f\"'{input_string}' is a palindrome.\")\n",
    "else:\n",
    "    print(f\"'{input_string}' is not a palindrome.\")\n"
   ]
  },
  {
   "cell_type": "code",
   "execution_count": null,
   "id": "4ee66eb6-3e2b-4576-81fd-7abcca18fa9e",
   "metadata": {},
   "outputs": [],
   "source": [
    "# 11. Create a recursive Python function to generate all possible combinations of a list of elements."
   ]
  },
  {
   "cell_type": "code",
   "execution_count": 144,
   "id": "5fd22533-4f98-40b8-bdb8-01e72c2b22c4",
   "metadata": {},
   "outputs": [
    {
     "name": "stdin",
     "output_type": "stream",
     "text": [
      "Enter a list of elements (comma-separated):  1,2,3,4,5,5\n"
     ]
    },
    {
     "name": "stdout",
     "output_type": "stream",
     "text": [
      "All combinations of ['1', '2', '3', '4', '5', '5'] are: [[], ['5'], ['5'], ['5', '5'], ['4'], ['4', '5'], ['4', '5'], ['4', '5', '5'], ['3'], ['3', '5'], ['3', '5'], ['3', '5', '5'], ['3', '4'], ['3', '4', '5'], ['3', '4', '5'], ['3', '4', '5', '5'], ['2'], ['2', '5'], ['2', '5'], ['2', '5', '5'], ['2', '4'], ['2', '4', '5'], ['2', '4', '5'], ['2', '4', '5', '5'], ['2', '3'], ['2', '3', '5'], ['2', '3', '5'], ['2', '3', '5', '5'], ['2', '3', '4'], ['2', '3', '4', '5'], ['2', '3', '4', '5'], ['2', '3', '4', '5', '5'], ['1'], ['1', '5'], ['1', '5'], ['1', '5', '5'], ['1', '4'], ['1', '4', '5'], ['1', '4', '5'], ['1', '4', '5', '5'], ['1', '3'], ['1', '3', '5'], ['1', '3', '5'], ['1', '3', '5', '5'], ['1', '3', '4'], ['1', '3', '4', '5'], ['1', '3', '4', '5'], ['1', '3', '4', '5', '5'], ['1', '2'], ['1', '2', '5'], ['1', '2', '5'], ['1', '2', '5', '5'], ['1', '2', '4'], ['1', '2', '4', '5'], ['1', '2', '4', '5'], ['1', '2', '4', '5', '5'], ['1', '2', '3'], ['1', '2', '3', '5'], ['1', '2', '3', '5'], ['1', '2', '3', '5', '5'], ['1', '2', '3', '4'], ['1', '2', '3', '4', '5'], ['1', '2', '3', '4', '5'], ['1', '2', '3', '4', '5', '5']]\n"
     ]
    }
   ],
   "source": [
    "# Recursive function to generate all combinations of a list\n",
    "def generate_combinations(lst):\n",
    "    # Base case: If the list is empty, return a list containing the empty combination\n",
    "    if len(lst) == 0:\n",
    "        return [[]]  # A list with one element: the empty list\n",
    "    \n",
    "    # Recursive case: get combinations from the rest of the list\n",
    "    first_element = lst[0]\n",
    "    remaining_combinations = generate_combinations(lst[1:])\n",
    "    \n",
    "    # Include first_element in all combinations of the remaining elements\n",
    "    combinations_with_first = [ [first_element] + combination for combination in remaining_combinations ]\n",
    "    \n",
    "    # Return the combination of the two cases: excluding and including the first element\n",
    "    return remaining_combinations + combinations_with_first\n",
    "\n",
    "# Example usage\n",
    "input_list = input(\"Enter a list of elements (comma-separated): \").split(',')\n",
    "input_list = [item.strip() for item in input_list]  # Clean up any extra spaces\n",
    "\n",
    "combinations = generate_combinations(input_list)\n",
    "\n",
    "# Print all combinations\n",
    "print(f\"All combinations of {input_list} are: {combinations}\")\n"
   ]
  },
  {
   "cell_type": "code",
   "execution_count": null,
   "id": "3bbfafd5-9ee8-4cb2-9bb9-46e81c146ed3",
   "metadata": {},
   "outputs": [],
   "source": [
    "'''Basics of Functions:\n",
    " 1. What is a function in Python, and why is it used?'''"
   ]
  },
  {
   "cell_type": "code",
   "execution_count": null,
   "id": "e687c4cb-97ef-4a77-b15b-98a15e3f7c13",
   "metadata": {},
   "outputs": [],
   "source": [
    "'''\n",
    "function is a block of reusable code that performs a specific task. Functions allow us to group a set of statements together to perform a\n",
    "particular operation, and we can call these functions multiple times throughout our code. Functions can accept input\n",
    "and return output.\n",
    "\n",
    "Functions are used in Python (and most programming languages) for several important reasons:\n",
    "\n",
    "Code Reusability:\n",
    "Functions allow us to write a piece of code once and reuse it multiple times without rewriting it. This helps in reducing redundancy and makes \n",
    "the code easier to maintain.\n",
    "\n",
    "Modularity:\n",
    "Functions allow us to break down complex tasks into smaller, more manageable pieces. You can create separate functions for different operations, \n",
    "making your code more modular and easier to debug. \n",
    "\n",
    "Readability and Organization:\n",
    "By using functions, we can organize our code better. Each function does a specific task, which helps others (and yourself) understand the code \n",
    "more easily.\n",
    "\n",
    "Abstraction:\n",
    "Functions allow you to hide the implementation details. You only need to know the function's name and what it returns, not how it does its work.\n",
    "This makes the program simpler to understand and use.\n",
    "\n",
    "'''"
   ]
  },
  {
   "cell_type": "code",
   "execution_count": null,
   "id": "90e05093-917e-4716-95b9-da0871031d7c",
   "metadata": {},
   "outputs": [],
   "source": [
    "#2. How do you define a function in Python? Provide an example."
   ]
  },
  {
   "cell_type": "code",
   "execution_count": 151,
   "id": "ddae2ade-db8d-44c4-80b3-751f29867712",
   "metadata": {},
   "outputs": [
    {
     "name": "stdin",
     "output_type": "stream",
     "text": [
      "Enter a character:  t\n"
     ]
    },
    {
     "name": "stdout",
     "output_type": "stream",
     "text": [
      "'t' is not a vowel.\n"
     ]
    }
   ],
   "source": [
    "'''function is a block of reusable code that performs a specific task. Functions allow us to group a set of statements together to perform a\n",
    "particular operation, and we can call these functions multiple times throughout our code. Functions can accept input\n",
    "and return output.'''\n",
    "\n",
    "def is_vowel(char):\n",
    "    \n",
    "    if len(char) == 1 and char.isalpha():\n",
    "        \n",
    "        char = char.lower()\n",
    "        \n",
    "        if char in 'aeiou':\n",
    "            return True\n",
    "        else:\n",
    "            return False\n",
    "    else:\n",
    "        return False  \n",
    "\n",
    "\n",
    "character = input(\"Enter a character: \")\n",
    "if is_vowel(character):\n",
    "    print(f\"'{character}' is a vowel.\")\n",
    "else:\n",
    "    print(f\"'{character}' is not a vowel.\")\n"
   ]
  },
  {
   "cell_type": "code",
   "execution_count": null,
   "id": "7e9a5688-3231-4344-9221-a0ea12dabed1",
   "metadata": {},
   "outputs": [],
   "source": [
    "#3. Explain the difference between a function definition and a function call."
   ]
  },
  {
   "cell_type": "code",
   "execution_count": null,
   "id": "fbf4035c-81ea-4cca-925f-f8fc97fd2a3e",
   "metadata": {},
   "outputs": [],
   "source": [
    "'''\n",
    "A function definition is where we create a function by specifying its name, parameters (optional), and the block of code that it will execute. \n",
    "It's a way of describing what the function does and how it behaves when called.\n",
    "''''\n",
    "'''A function call is the action of invoking or executing a function that has been defined. \n",
    "This is where the function actually runs, using any arguments you provide as input.\n",
    "'''"
   ]
  },
  {
   "cell_type": "code",
   "execution_count": null,
   "id": "b6adf897-1b67-4502-b68e-6d2486193011",
   "metadata": {
    "scrolled": true
   },
   "outputs": [],
   "source": [
    " #4. Write a Python program that defines a function to calculate the sum of two numbers and then calls the function."
   ]
  },
  {
   "cell_type": "code",
   "execution_count": 156,
   "id": "c3b90c58-dd16-45b0-aac4-4aecd299dd79",
   "metadata": {},
   "outputs": [
    {
     "name": "stdin",
     "output_type": "stream",
     "text": [
      "Enter first number 4\n",
      "Enter second Number 5\n"
     ]
    },
    {
     "name": "stdout",
     "output_type": "stream",
     "text": [
      " The sum of 4 and 5 is 9\n"
     ]
    }
   ],
   "source": [
    "def sum_num(x,y):\n",
    "    return x+y\n",
    "        \n",
    "x = int(input(\"Enter first number\"))\n",
    "y = int(input(\"Enter second Number\"))\n",
    "\n",
    "result = sum_num(x,y)\n",
    "\n",
    "print(f\" The sum of {x} and {y} is {result}\")\n",
    "    "
   ]
  },
  {
   "cell_type": "code",
   "execution_count": null,
   "id": "f5f956d8-db7c-4b16-b213-f78f9700ed51",
   "metadata": {},
   "outputs": [],
   "source": [
    "# 5. What is a function signature, and what information does it typically include?"
   ]
  },
  {
   "cell_type": "code",
   "execution_count": 157,
   "id": "337d46f2-9bbe-437f-94e7-1e8a6516df16",
   "metadata": {},
   "outputs": [
    {
     "data": {
      "text/plain": [
       "'\\nKey Elements of a Function Signature:\\nFunction Name: The name used to call the function.\\n\\nParameters (Arguments): The values the function expects when it is called. These can be:\\nPositional arguments (which are required when calling the function in a specific order).\\nKeyword arguments (which are passed by name, e.g., param=value).\\nDefault values for parameters (if not provided, a default value is used).\\n\\nReturn Type (Optional): The type of value the function returns, indicated by a return type annotation (though not required in Python).\\n'"
      ]
     },
     "execution_count": 157,
     "metadata": {},
     "output_type": "execute_result"
    }
   ],
   "source": [
    "'''A function signature in Python refers to the part of the function definition that specifies the function's name, its parameters (inputs), and the expected return type (if any). It defines the interface of the function, i.e., \n",
    "how the function can be called and what values it expects as arguments.\n",
    "'''\n",
    "\n",
    "'''\n",
    "Key Elements of a Function Signature:\n",
    "Function Name: The name used to call the function.\n",
    "\n",
    "Parameters (Arguments): The values the function expects when it is called. These can be:\n",
    "Positional arguments (which are required when calling the function in a specific order).\n",
    "Keyword arguments (which are passed by name, e.g., param=value).\n",
    "Default values for parameters (if not provided, a default value is used).\n",
    "\n",
    "Return Type (Optional): The type of value the function returns, indicated by a return type annotation (though not required in Python).\n",
    "'''"
   ]
  },
  {
   "cell_type": "code",
   "execution_count": null,
   "id": "780660e5-86f7-4a67-9427-927e5728e330",
   "metadata": {},
   "outputs": [],
   "source": [
    "# 6. Create a Python function that takes two arguments and returns their product"
   ]
  },
  {
   "cell_type": "code",
   "execution_count": 158,
   "id": "8df1ee94-ebc4-4b02-8127-17ab1fc46826",
   "metadata": {},
   "outputs": [
    {
     "name": "stdin",
     "output_type": "stream",
     "text": [
      "Enter first number 4\n",
      "Enter second Number 5\n"
     ]
    },
    {
     "name": "stdout",
     "output_type": "stream",
     "text": [
      " The sum of 4 and 5 is 20\n"
     ]
    }
   ],
   "source": [
    "def pro_num(x,y):\n",
    "    return x*y\n",
    "        \n",
    "x = int(input(\"Enter first number\"))\n",
    "y = int(input(\"Enter second Number\"))\n",
    "\n",
    "result = pro_num(x,y)\n",
    "\n",
    "print(f\" The sum of {x} and {y} is {result}\")"
   ]
  },
  {
   "cell_type": "code",
   "execution_count": null,
   "id": "3e95c88b-eac1-4528-9e6e-5edcdf2b9bcd",
   "metadata": {},
   "outputs": [],
   "source": [
    " '''Function Parameters and Arguments:\n",
    " 1. Explain the concepts of formal parameters and actual arguments in Python functions.'''"
   ]
  },
  {
   "cell_type": "code",
   "execution_count": null,
   "id": "b3efdfe2-69c2-407e-bd6f-de6e702fe2fb",
   "metadata": {},
   "outputs": [],
   "source": [
    "'''Formal parameters are the variables defined in the function definition. They act as placeholders that receive values when the function is called. These are the names specified in the function definition's parentheses.\n",
    "\n",
    "Formal parameters are part of the function signature, and they define the function's interface—what kind of inputs the function expects.\n",
    "They are used within the body of the function to perform operation'''\n",
    "\n",
    "'''Actual arguments (also known simply as arguments) are the real values or expressions passed to the function when it is called. These are the values you provide when calling the function, and they are assigned to the corresponding formal parameters in the function.\n",
    "\n",
    "Actual arguments can be values or variables that hold data, and they are passed to the function during the function call.\n",
    "The values provided in the call are assigned to the corresponding formal parameters.\n",
    "'''"
   ]
  },
  {
   "cell_type": "code",
   "execution_count": null,
   "id": "30a765ec-35a6-43fc-aa11-bcfeff2ee5c4",
   "metadata": {},
   "outputs": [],
   "source": [
    "#2. Write a Python program that defines a function with default argument values."
   ]
  },
  {
   "cell_type": "code",
   "execution_count": 161,
   "id": "d844520b-59c0-40cd-a01a-6746f5e3d731",
   "metadata": {},
   "outputs": [
    {
     "data": {
      "text/plain": [
       "'Positive'"
      ]
     },
     "execution_count": 161,
     "metadata": {},
     "output_type": "execute_result"
    }
   ],
   "source": [
    "def check_positive(a=5):\n",
    "    if a > 0:\n",
    "        return \"Positive\"\n",
    "    else:\n",
    "        False\n",
    "check_positive(59)"
   ]
  },
  {
   "cell_type": "code",
   "execution_count": null,
   "id": "d69bcf42-7034-4284-8ca4-1055af1243fa",
   "metadata": {},
   "outputs": [],
   "source": [
    "#3. How do you use keyword arguments in Python function calls? Provide an example."
   ]
  },
  {
   "cell_type": "code",
   "execution_count": 162,
   "id": "1b175c25-b1eb-4fbe-8994-1f229af89dc2",
   "metadata": {},
   "outputs": [
    {
     "name": "stdout",
     "output_type": "stream",
     "text": [
      "Hello Alice, you are 30 years old and live in New York.\n",
      "Hello Charlie, you are 35 years old and live in Unknown.\n"
     ]
    }
   ],
   "source": [
    "'''In Python, keyword arguments are arguments passed to a function by explicitly specifying the parameter names and their corresponding values.\n",
    "This makes the function call more readable and flexible, especially when dealing with functions that have multiple parameters.'''\n",
    "\n",
    "def greet(name, age, city=\"Unknown\"):\n",
    "    print(f\"Hello {name}, you are {age} years old and live in {city}.\")\n",
    "\n",
    "\n",
    "greet(name=\"Alice\", age=30, city=\"New York\")  \n",
    "greet(\"Charlie\", 35)  \n"
   ]
  },
  {
   "cell_type": "code",
   "execution_count": null,
   "id": "ca984f82-f99b-4ce7-95de-f05aad6b533f",
   "metadata": {},
   "outputs": [],
   "source": [
    " #4. Create a Python function that accepts a variable number of arguments and calculates their sum."
   ]
  },
  {
   "cell_type": "code",
   "execution_count": 166,
   "id": "33c602a5-decc-4f57-b0fd-88052d533847",
   "metadata": {},
   "outputs": [
    {
     "name": "stdout",
     "output_type": "stream",
     "text": [
      "14\n"
     ]
    }
   ],
   "source": [
    "def sum_num(*num):\n",
    "    total = sum(num)\n",
    "    return total\n",
    "\n",
    "print(sum_num(1,2,3,4,4))"
   ]
  },
  {
   "cell_type": "code",
   "execution_count": null,
   "id": "1564b7ab-3521-4312-bf86-ae78ab78ef91",
   "metadata": {},
   "outputs": [],
   "source": [
    "#5. What is the purpose of the `*args` and `**kwargs` syntax in function parameter lists?"
   ]
  },
  {
   "cell_type": "code",
   "execution_count": null,
   "id": "3b4f27f5-a737-423b-a0a7-b175eac6a752",
   "metadata": {},
   "outputs": [],
   "source": [
    "'''*args (Variable Positional Arguments)\n",
    "Purpose: The *args syntax allows a function to accept any number of positional arguments, which are passed as a tuple to the function.\n",
    "Usage: When defining a function, *args collects any extra positional arguments passed to the function into a tuple. \n",
    "This allows you to call the function with a varying number of arguments.'''\n",
    "\n",
    "'''**kwargs (Variable Keyword Arguments)\n",
    "Purpose: The **kwargs syntax allows a function to accept any number of keyword arguments, which are passed as a dictionary to the function.\n",
    "Each keyword argument is a key-value pair, where the key is the argument's name, and the value is the value associated with that argument.\n",
    "Usage: **kwargs collects any extra keyword arguments into a dictionary, allowing the function to accept named arguments without knowing \n",
    "them in advance.'''"
   ]
  },
  {
   "cell_type": "code",
   "execution_count": null,
   "id": "35056602-947a-480b-9de6-a8d93dbcc126",
   "metadata": {},
   "outputs": [],
   "source": [
    "'''Return Values and Scoping:\n",
    " 1. Describe the role of the `return` statement in Python functions and provide examples.'''"
   ]
  },
  {
   "cell_type": "code",
   "execution_count": 167,
   "id": "27d97379-f57b-4efb-9bac-5bf0f9ec3195",
   "metadata": {},
   "outputs": [
    {
     "name": "stdout",
     "output_type": "stream",
     "text": [
      "8\n"
     ]
    }
   ],
   "source": [
    "'''The Role of the return Statement in Python Functions\n",
    "The return statement in Python is used to send a result from a function back to the caller. When a function is executed, it can process data, \n",
    "perform operations, and use the return statement to return a value to the place where the function was called. This allows the result of the \n",
    "function to be used or stored in variables, or passed along to other functions.\n",
    "\n",
    "Key Points about the return Statement:\n",
    "Exits the Function: When the return statement is executed, the function immediately exits, and no further code in the function is executed after it.\n",
    "Sends Data Back to the Caller: The value specified after the return keyword is sent back to the caller. This value can be any valid Python object, \n",
    "such as numbers, strings, lists, or even other functions.\n",
    "Optional Return Value: A function can have a return statement without returning any value (i.e., return with no expression). \n",
    "This causes the function to return None by default. Returning Multiple Values: You can return multiple values from a function. \n",
    "Python will automatically package them into a tuple.\n",
    "'''\n",
    "\n",
    "def add(a, b):\n",
    "    result = a + b\n",
    "    return result\n",
    "\n",
    "# Calling the function\n",
    "sum_result = add(5, 3)\n",
    "print(sum_result)"
   ]
  },
  {
   "cell_type": "code",
   "execution_count": null,
   "id": "dcbc870a-4702-4be6-a1d4-6056c08b41b6",
   "metadata": {},
   "outputs": [],
   "source": [
    "#2. Explain the concept of variable scope in Python, including local and global variables."
   ]
  },
  {
   "cell_type": "code",
   "execution_count": null,
   "id": "497c4203-1755-4cc8-8f2e-50c6457ccb07",
   "metadata": {},
   "outputs": [],
   "source": [
    "'''Local Scope:\n",
    "Variables that are defined inside a function or a block of code have local scope.\n",
    "These variables are only accessible within the function or block where they are defined.\n",
    "Once the function finishes execution, local variables are destroyed.'''\n",
    "\n",
    "\n",
    "'''\n",
    "Global Scope:\n",
    "Variables that are defined at the top-level of a script, outside any functions or classes, have global scope.\n",
    "These variables are accessible from anywhere in the module, including inside functions, if not shadowed by local variables with the same name.\n",
    "\n",
    "'''"
   ]
  },
  {
   "cell_type": "code",
   "execution_count": null,
   "id": "a7ebc81e-16b9-461d-ad64-e54986466db9",
   "metadata": {},
   "outputs": [],
   "source": [
    " #3. Write a Python program that demonstrates the use of global variables within functions."
   ]
  },
  {
   "cell_type": "code",
   "execution_count": 168,
   "id": "c3d12fc0-1bba-4c11-915f-cfb95c6e0ffb",
   "metadata": {},
   "outputs": [
    {
     "name": "stdout",
     "output_type": "stream",
     "text": [
      "Current count: 0\n",
      "Current count: 1\n",
      "Current count: 2\n"
     ]
    }
   ],
   "source": [
    "# Global variable\n",
    "count = 0\n",
    "\n",
    "# Function to modify the global variable\n",
    "def increment_count():\n",
    "    global count  # Declaring that we want to modify the global variable 'count'\n",
    "    count += 1  # Incrementing the global variable\n",
    "\n",
    "# Function to print the global variable\n",
    "def display_count():\n",
    "    print(f\"Current count: {count}\")\n",
    "\n",
    "# Display initial value of count\n",
    "display_count()  # Output: Current count: 0\n",
    "\n",
    "# Call the function to increment the global count\n",
    "increment_count()\n",
    "\n",
    "# Display the updated value of count\n",
    "display_count()  # Output: Current count: 1\n",
    "\n",
    "# Call the function to increment again\n",
    "increment_count()\n",
    "\n",
    "# Display the updated value of count\n",
    "display_count()  # Output: Current count: 2"
   ]
  },
  {
   "cell_type": "code",
   "execution_count": null,
   "id": "30e19589-e2da-45bc-8b7a-bf259bd213d8",
   "metadata": {},
   "outputs": [],
   "source": [
    "# 4. Create a Python function that calculates the factorial of a number and returns it."
   ]
  },
  {
   "cell_type": "code",
   "execution_count": 173,
   "id": "de4507ae-d1e5-4654-9ddc-7cf4de4e64ea",
   "metadata": {},
   "outputs": [
    {
     "name": "stdin",
     "output_type": "stream",
     "text": [
      "Enter a number 10\n"
     ]
    },
    {
     "name": "stdout",
     "output_type": "stream",
     "text": [
      "The factorial of 10 is 3628800\n"
     ]
    }
   ],
   "source": [
    "def find_fact(n):\n",
    "    fact = 1\n",
    "    for i in range(1,n+1):\n",
    "        fact *= i\n",
    "    return fact\n",
    "\n",
    "num = int(input(\"Enter a number\"))\n",
    "\n",
    "result = find_fact(num)\n",
    "print(f\"The factorial of {num} is {result}\")        "
   ]
  },
  {
   "cell_type": "markdown",
   "id": "f6f99f8f-79b3-4a75-aca6-2d3bbaeb3f7b",
   "metadata": {},
   "source": [
    "# 5. How can you access variables defined outside a function from within the function?"
   ]
  },
  {
   "cell_type": "code",
   "execution_count": 174,
   "id": "3ea6d419-4d4b-499c-b1a6-9e0aa36df8e2",
   "metadata": {},
   "outputs": [
    {
     "name": "stdout",
     "output_type": "stream",
     "text": [
      "The value of x is: 10\n"
     ]
    }
   ],
   "source": [
    "'''If we are only reading or using the value of a global variable, we can directly access it inside a function without any keyword '''\n",
    "\n",
    "x = 10\n",
    "\n",
    "def display_value():\n",
    "    print(f\"The value of x is: {x}\")  # Accessing global variable x\n",
    "\n",
    "display_value()  # Output: The value of x is: 10"
   ]
  },
  {
   "cell_type": "code",
   "execution_count": null,
   "id": "6f29777e-dbb9-458c-9f13-a8eb8597bfdd",
   "metadata": {},
   "outputs": [],
   "source": [
    "''' Lambda Functions and Higher-Order Functions:\n",
    " 1. What are lambda functions in Python, and when are they typically used?'''"
   ]
  },
  {
   "cell_type": "code",
   "execution_count": null,
   "id": "6963bc42-79af-4d7d-a1fb-5993483d19ee",
   "metadata": {},
   "outputs": [],
   "source": [
    "'''\n",
    "A lambda function in Python is a small, anonymous function defined using the lambda keyword. Unlike regular functions defined with the def keyword, lambda functions are intended\n",
    "for short-lived, simple operations.\n",
    "\n",
    "When to Use Lambda Functions:\n",
    "For short, throwaway functions: Lambda functions are useful when you need a small function for a short period, and defining a full function with def would be overkill.\n",
    "For functional programming operations: Functions like map(), filter(), and reduce() often benefit from lambda functions because they allow for compact and readable code.\n",
    "As key functions in sorting: Lambda is commonly used to provide custom sorting logic for complex data types.'''"
   ]
  },
  {
   "cell_type": "code",
   "execution_count": null,
   "id": "823632be-09f5-41ef-9688-3730fd20dff4",
   "metadata": {},
   "outputs": [],
   "source": [
    "#2. Write a Python program that uses lambda functions to sort a list of tuples based on the second element."
   ]
  },
  {
   "cell_type": "code",
   "execution_count": 175,
   "id": "623fc581-9229-40a6-b386-d6973c5557cb",
   "metadata": {},
   "outputs": [
    {
     "name": "stdout",
     "output_type": "stream",
     "text": [
      "Sorted list based on the second element:\n",
      "[(1, 'apple'), (3, 'banana'), (2, 'cherry'), (4, 'date')]\n"
     ]
    }
   ],
   "source": [
    "# List of tuples\n",
    "data = [(1, 'apple'), (3, 'banana'), (2, 'cherry'), (4, 'date')]\n",
    "\n",
    "# Sorting the list of tuples based on the second element of each tuple (index 1)\n",
    "sorted_data = sorted(data, key=lambda x: x[1])\n",
    "\n",
    "# Printing the sorted list\n",
    "print(\"Sorted list based on the second element:\")\n",
    "print(sorted_data)\n"
   ]
  },
  {
   "cell_type": "code",
   "execution_count": null,
   "id": "251a98dd-6e71-4327-aa1e-3f3275f356c6",
   "metadata": {},
   "outputs": [],
   "source": [
    " #3. Explain the concept of higher-order functions in Python, and provide an example."
   ]
  },
  {
   "cell_type": "code",
   "execution_count": 176,
   "id": "322a471e-a889-400e-a99d-622c6db4fc82",
   "metadata": {},
   "outputs": [
    {
     "name": "stdout",
     "output_type": "stream",
     "text": [
      "25\n"
     ]
    }
   ],
   "source": [
    "'''A higher-order function is a function that either:  Takes one or more functions as arguments, or\n",
    "Returns a function as its result.\n",
    "In other words, higher-order functions are functions that operate on other functions. This feature is a powerful aspect of functional programming, and Python supports it as part of its flexible design.\n",
    "\n",
    "Key Characteristics:\n",
    "Function as argument: A higher-order function can accept another function as an argument.\n",
    "Function as return value: A higher-order function can return a function as a result.'''\n",
    "\n",
    "\n",
    "# A function that takes another function as an argument\n",
    "def apply_function(func, value):\n",
    "    return func(value)\n",
    "\n",
    "# A simple function that squares a number\n",
    "def square(x):\n",
    "    return x * x\n",
    "\n",
    "# Using the higher-order function\n",
    "result = apply_function(square, 5)\n",
    "print(result)  # Output will be 25\n"
   ]
  },
  {
   "cell_type": "code",
   "execution_count": null,
   "id": "8fbe01cf-13e4-4032-9b94-91e23f82d68a",
   "metadata": {},
   "outputs": [],
   "source": [
    "#4. Create a Python function that takes a list of numbers and a function as arguments, applying the function to each element in the list."
   ]
  },
  {
   "cell_type": "code",
   "execution_count": 177,
   "id": "eeb07887-de24-40b1-acf3-f42c9aa8d299",
   "metadata": {},
   "outputs": [
    {
     "data": {
      "text/plain": [
       "[4, 9, 16, 25, 36]"
      ]
     },
     "execution_count": 177,
     "metadata": {},
     "output_type": "execute_result"
    }
   ],
   "source": [
    "l = [2,3,4,5,6]\n",
    "\n",
    "list(map(lambda x : x**2, l))"
   ]
  },
  {
   "cell_type": "code",
   "execution_count": null,
   "id": "83ce42d9-a7f3-498a-9927-6fdacf8aedf6",
   "metadata": {},
   "outputs": [],
   "source": [
    "'''Built-in Functions:\n",
    " 1. Describe the role of built-in functions like `len()`, `max()`, and `min()` in Python.'''"
   ]
  },
  {
   "cell_type": "code",
   "execution_count": null,
   "id": "ac412a65-8af1-45f7-9626-68e15bf1b220",
   "metadata": {},
   "outputs": [],
   "source": [
    "'''The len() function returns the length (the number of elements) of an object. \n",
    "It can be used with a variety of data types like strings, lists, tuples, and dictionaries.\n",
    "\n",
    "The max() function returns the largest item from an iterable (like a list or tuple) or from multiple arguments.\n",
    "\n",
    "The min() function returns the smallest item from an iterable or from multiple arguments.'''"
   ]
  },
  {
   "cell_type": "code",
   "execution_count": null,
   "id": "b877322a-c547-4992-b951-175a530dbf3e",
   "metadata": {},
   "outputs": [],
   "source": [
    "#2. Write a Python program that uses the `map()` function to apply a function to each element of a list."
   ]
  },
  {
   "cell_type": "code",
   "execution_count": 178,
   "id": "aa378826-daef-4702-8305-0c499a26d7b3",
   "metadata": {},
   "outputs": [
    {
     "data": {
      "text/plain": [
       "[4, 9, 16, 25]"
      ]
     },
     "execution_count": 178,
     "metadata": {},
     "output_type": "execute_result"
    }
   ],
   "source": [
    "lst = [2,3,4,5]\n",
    "list(map(lambda x : x**2, lst))"
   ]
  },
  {
   "cell_type": "code",
   "execution_count": null,
   "id": "a85063a7-537c-4636-b655-976cfa32166d",
   "metadata": {},
   "outputs": [],
   "source": [
    " #3. How does the`filter()` function work in Python, and when would you use it? "
   ]
  },
  {
   "cell_type": "code",
   "execution_count": null,
   "id": "cae00ea9-ef9d-4121-b926-20418bbb7520",
   "metadata": {},
   "outputs": [],
   "source": [
    "'''The filter() function in Python is a built-in function that allows you to filter elements from an iterable (like a list, tuple, or string) based \n",
    "on a given condition or criteria. It applies a function that returns a boolean value (True or False) to each item in the iterable and retains only \n",
    "the elements for which the function returns True.'''"
   ]
  },
  {
   "cell_type": "code",
   "execution_count": null,
   "id": "7d5aa25f-7fa6-4c55-88d2-17d9d985f1ec",
   "metadata": {},
   "outputs": [],
   "source": [
    "#4. Create a Python program that uses the `reduce()` function to find the product of all elements in a list."
   ]
  },
  {
   "cell_type": "code",
   "execution_count": 184,
   "id": "383eb481-b03f-45cb-8398-b7bca0b9e673",
   "metadata": {},
   "outputs": [
    {
     "data": {
      "text/plain": [
       "1680"
      ]
     },
     "execution_count": 184,
     "metadata": {},
     "output_type": "execute_result"
    }
   ],
   "source": [
    "from functools import reduce\n",
    "lst = [2,4,5,6,7]\n",
    "reduce(lambda x,y : x*y, lst)"
   ]
  },
  {
   "cell_type": "code",
   "execution_count": null,
   "id": "bfce5a30-6138-4efb-bde4-be84303cfae3",
   "metadata": {},
   "outputs": [],
   "source": [
    "''' Function Documentation and Best Practices:\n",
    " 1. Explain the purpose of docstrings in Python functions and how to write them.''''"
   ]
  },
  {
   "cell_type": "code",
   "execution_count": null,
   "id": "4a1a591b-ff1a-49d2-bb08-0e70967f429a",
   "metadata": {},
   "outputs": [],
   "source": [
    "'''Purpose of Docstrings:\n",
    "Documentation: Docstrings are a convenient way to document the purpose and behavior of your functions and methods. They provide important context \n",
    "for developers who are reading or using the code.\n",
    "\n",
    "Code Readability: They enhance the readability of the code by explaining the function's functionality in a simple and structured way.\n",
    "Help with IDEs and Tools: Many Integrated Development Environments (IDEs) and code editors (e.g., VS Code, PyCharm) automatically display \n",
    "docstrings when you hover over a function or method, which is helpful for quickly understanding how to use the function without looking at the \n",
    "implementation.\n",
    "Automated Documentation Generation: Tools like Sphinx can use docstrings to automatically generate comprehensive documentation for your project.\n",
    "\n",
    "How to Write Docstrings:\n",
    "A docstring is written inside a function (or class/module) using triple quotes (\"\"\"docstring\"\"\" or '''docstring'''). By convention, it is the first statement in the function, class, or module.\n",
    "\n",
    "Basic Structure of a Docstring:\n",
    "A good docstring typically includes the following elements:\n",
    "\n",
    "A short description of what the function does (one-liner).\n",
    "Arguments: Descriptions of each parameter, including their expected type (optional but helpful).\n",
    "Return value: Descriptions of the value the function returns, including its type.\n",
    "Exceptions: (Optional) Description of any exceptions the function might raise"
   ]
  },
  {
   "cell_type": "code",
   "execution_count": null,
   "id": "5eb7fcf1-f241-41d7-be9e-ec8a350ee821",
   "metadata": {},
   "outputs": [],
   "source": [
    "#2. Describe some best practices for naming functions and variables in Python, including naming conventions and guidelines"
   ]
  },
  {
   "cell_type": "code",
   "execution_count": null,
   "id": "ccdcfc2f-dfd1-4f27-9f30-caed907952cc",
   "metadata": {},
   "outputs": [],
   "source": [
    "'''Use Descriptive Names\n",
    "Function and Variable Names should clearly describe what the function or variable represents. Avoid using single-character names unless they are\n",
    "common (like x, y, or i in loops).\n",
    "\n",
    ". Function Naming Conventions\n",
    "Use lowercase words separated by underscores (snake_case).\n",
    "Reason: This is the preferred naming convention for functions in Python as per PEP 8.\n",
    "The function name should usually be a verb or a verb phrase, since functions represent actions or behaviors.\n",
    "Example: get_average(), send_email(), calculate_total()\n",
    "Avoid:\n",
    "\n",
    "Using CamelCase (typically used for class names).\n",
    "Using verbs in plural forms (e.g., get_users() for a function that fetches one user).\n",
    "\n",
    "Variable Naming Conventions\n",
    "Use lowercase words separated by underscores (snake_case).\n",
    "Reason: This is the standard convention for variable names in Python (PEP 8).\n",
    "Variable names should not be too long but descriptive enough to indicate the value they hold\n",
    "\n",
    "Constants\n",
    "Use uppercase letters with underscores to separate words (UPPERCASE_SNAKE_CASE).\n",
    "Constants are values that do not change once they are set, like mathematical constants or configuration values.\n",
    "\n",
    "Class Naming Conventions\n",
    "Use CamelCase for class names, where each word in the name starts with an uppercase letter.\n",
    "This is the convention for classes and exceptions in Python.\n",
    "\n",
    "Avoid Using Python Reserved Words\n",
    "Do not use Python keywords (e.g., class, if, else, def, return, etc.) as variable or function names.\n",
    "Using reserved words as identifiers will result in syntax errors or unintended behavior.'''"
   ]
  }
 ],
 "metadata": {
  "kernelspec": {
   "display_name": "Python 3 (ipykernel)",
   "language": "python",
   "name": "python3"
  },
  "language_info": {
   "codemirror_mode": {
    "name": "ipython",
    "version": 3
   },
   "file_extension": ".py",
   "mimetype": "text/x-python",
   "name": "python",
   "nbconvert_exporter": "python",
   "pygments_lexer": "ipython3",
   "version": "3.13.0"
  }
 },
 "nbformat": 4,
 "nbformat_minor": 5
}
