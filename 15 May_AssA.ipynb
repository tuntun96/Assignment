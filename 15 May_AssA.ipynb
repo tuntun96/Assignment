{
 "cells": [
  {
   "cell_type": "code",
   "execution_count": null,
   "id": "0604800a-d1dd-4da0-b94e-3f9f4a1ab20a",
   "metadata": {},
   "outputs": [],
   "source": [
    "# Q1. Ans:\n",
    "\n",
    "# Using control and forward slas we can comment the code.\n",
    "#     type of commemt #, ##\n"
   ]
  },
  {
   "cell_type": "code",
   "execution_count": 3,
   "id": "4a14d2b1-8675-47dc-846a-76dfab25b831",
   "metadata": {},
   "outputs": [],
   "source": [
    "#  Q2. Ans:\n",
    "\n",
    "# variable can be Upper case A-Z or a - z.\n",
    "# we asign the value to variable using eaual sign.\n",
    "#      ex  Var = 5\n",
    "#         # _Va = True\n",
    "    \n"
   ]
  },
  {
   "cell_type": "code",
   "execution_count": 5,
   "id": "c8c7c56f-e04b-4fae-a1ae-a10be6762539",
   "metadata": {},
   "outputs": [
    {
     "data": {
      "text/plain": [
       "66"
      ]
     },
     "execution_count": 5,
     "metadata": {},
     "output_type": "execute_result"
    }
   ],
   "source": [
    "# Q3 Ans:\n",
    "\n",
    "# To convert one data to into another we just need to type the function in which we want to convet then the value or variable \n",
    "#   ex:\n",
    "var = 66.78\n",
    "int(var)"
   ]
  },
  {
   "cell_type": "code",
   "execution_count": 7,
   "id": "04c3f35a-8102-4661-a861-95f1836c31b7",
   "metadata": {},
   "outputs": [
    {
     "data": {
      "text/plain": [
       "[2, 3]"
      ]
     },
     "execution_count": 7,
     "metadata": {},
     "output_type": "execute_result"
    }
   ],
   "source": [
    "# 5. Ans: \n",
    "\n",
    "my_list = [1, 2, 3, 4, 5]\n",
    "my_list[1:3]"
   ]
  },
  {
   "cell_type": "code",
   "execution_count": 8,
   "id": "010fd9a9-4d68-4a28-928b-54eab459307c",
   "metadata": {},
   "outputs": [
    {
     "data": {
      "text/plain": [
       "(6+5j)"
      ]
     },
     "execution_count": 8,
     "metadata": {},
     "output_type": "execute_result"
    }
   ],
   "source": [
    "# 6. Ans:\n",
    "\n",
    "# Complex number is a combination of real number and imaginary number.\n",
    "\n",
    "# In python we write the complex number in a following way\n",
    " \n",
    "    6 + 5j or 6 +5J"
   ]
  },
  {
   "cell_type": "code",
   "execution_count": 9,
   "id": "099572b1-2cdf-4051-b47b-7dcf65e7800b",
   "metadata": {},
   "outputs": [],
   "source": [
    "# 7 Ans:\n",
    "\n",
    "age = 25"
   ]
  },
  {
   "cell_type": "code",
   "execution_count": 10,
   "id": "2c0eb240-e82d-410c-8e8b-8bbed0cc5a00",
   "metadata": {},
   "outputs": [
    {
     "data": {
      "text/plain": [
       "float"
      ]
     },
     "execution_count": 10,
     "metadata": {},
     "output_type": "execute_result"
    }
   ],
   "source": [
    "# 8. Ans :\n",
    "\n",
    "price = 9.99\n",
    "\n",
    "# it's data type belongs to float\n",
    "type(price)"
   ]
  },
  {
   "cell_type": "code",
   "execution_count": 13,
   "id": "2be98034-34f3-4fd5-8495-31fb677ff2f2",
   "metadata": {},
   "outputs": [
    {
     "data": {
      "text/plain": [
       "'Tuntun Sah'"
      ]
     },
     "execution_count": 13,
     "metadata": {},
     "output_type": "execute_result"
    }
   ],
   "source": [
    "# 9. Ans:\n",
    "\n",
    "name = \"Tuntun Sah\"\n",
    "\n",
    "# we just to call the variable\n",
    "\n",
    "name"
   ]
  },
  {
   "cell_type": "code",
   "execution_count": 16,
   "id": "b98ff327-3a25-4564-996e-b0695631a6d7",
   "metadata": {},
   "outputs": [
    {
     "data": {
      "text/plain": [
       "'World'"
      ]
     },
     "execution_count": 16,
     "metadata": {},
     "output_type": "execute_result"
    }
   ],
   "source": [
    "# 10 Ans:\n",
    "\n",
    "str = \"Hello, World!\"\n",
    "\n",
    "str[7:12]"
   ]
  },
  {
   "cell_type": "code",
   "execution_count": 17,
   "id": "62e0fec7-adb9-4fbe-9e64-f7829e0e8a3e",
   "metadata": {},
   "outputs": [],
   "source": [
    "# 11 Ans:\n",
    "\n",
    "is_student = True"
   ]
  },
  {
   "cell_type": "code",
   "execution_count": null,
   "id": "1bf2a2f7-6fab-4f31-a11f-d8491ec7204f",
   "metadata": {},
   "outputs": [],
   "source": []
  }
 ],
 "metadata": {
  "kernelspec": {
   "display_name": "Python 3 (ipykernel)",
   "language": "python",
   "name": "python3"
  },
  "language_info": {
   "codemirror_mode": {
    "name": "ipython",
    "version": 3
   },
   "file_extension": ".py",
   "mimetype": "text/x-python",
   "name": "python",
   "nbconvert_exporter": "python",
   "pygments_lexer": "ipython3",
   "version": "3.10.9"
  }
 },
 "nbformat": 4,
 "nbformat_minor": 5
}
