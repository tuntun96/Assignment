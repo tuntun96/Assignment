{
 "cells": [
  {
   "cell_type": "code",
   "execution_count": null,
   "id": "210554fb-e7c8-4044-adb7-4f0204683696",
   "metadata": {},
   "outputs": [],
   "source": [
    "'''Problem 1: Bank Account Create a class representing a bank account with attributes like account number, account holder name, and balance. Implement \n",
    "methods to deposit and withdraw money from the account'''"
   ]
  },
  {
   "cell_type": "code",
   "execution_count": 32,
   "id": "8004ad5a-590b-45fa-90ec-cb2bc6351af4",
   "metadata": {},
   "outputs": [],
   "source": [
    "class bankacocunt():\n",
    "\n",
    "    def __init__(self, account_num, account_holder_name, balance):\n",
    "        self.account_num = account_num\n",
    "        self.account_holder_name =account_holder_name\n",
    "        self.balance = balance\n",
    "   \n",
    "    def etractaccountnum(self):        \n",
    "        return self.account_num\n",
    "    \n",
    "    def extractactholname(self):\n",
    "        return self.account_holder_name\n",
    "\n",
    "    def accountbalance(self):\n",
    "        return self.balance\n",
    "        \n",
    "    def balancedeposit(self,deposit):\n",
    "        self.balance = self.balance + deposit\n",
    "        return self.balance\n",
    "        \n",
    "    def balancewithdraw(self,withdraw):\n",
    "        self.balance = self.balance - withdraw        \n",
    "        return f\"You have withdrawn {withdraw} succesfully, available balance is {self.balance}\"        \n",
    "    "
   ]
  },
  {
   "cell_type": "code",
   "execution_count": null,
   "id": "53dc7107-299d-45c7-b5a1-9fa24be60b8c",
   "metadata": {},
   "outputs": [],
   "source": [
    "'''Problem 2: Employee Management Create a class representing an employee with attributes like employee ID, name, and salary. Implement methods to \n",
    "calculate the yearly bonus and display employee details.'''"
   ]
  },
  {
   "cell_type": "code",
   "execution_count": 13,
   "id": "2b379b88-817c-472d-bc0e-949209e4d074",
   "metadata": {},
   "outputs": [],
   "source": [
    "class employee():\n",
    "    def __init__(self, emp_id, name, salary):\n",
    "        self.emp_id = emp_id\n",
    "        self.name = name\n",
    "        self.salary = salary\n",
    "        \n",
    "    def empbonus(self, bonus_Percentage):\n",
    "       \n",
    "        return F\"Bonus Amount {self.salary*(bonus_Percentage/100)} \" \n",
    "        \n",
    "    def Emp_details(self):\n",
    "        return f\" Employee Details : emp id : {self.emp_id}, Name :  { self.name}, Annual Salary : {self.salary}\""
   ]
  },
  {
   "cell_type": "code",
   "execution_count": null,
   "id": "a558cc30-565f-4221-80f3-c9741d56b89a",
   "metadata": {},
   "outputs": [],
   "source": [
    "'''Problem 3: Vehicle Rental Create a class representing a vehicle rental system. Implement methods to rent a vehicle, return a vehicle, and display \n",
    "available vehicles.'''"
   ]
  },
  {
   "cell_type": "code",
   "execution_count": 86,
   "id": "2d524dac-1b62-4b39-b895-a70f1f9578c0",
   "metadata": {},
   "outputs": [],
   "source": [
    "class vehicle_rental_system():\n",
    "\n",
    "    def __init__(self, ava_bike, ava_car , bike_rate, car_rate):\n",
    "        self.ava_bike = ava_bike\n",
    "        self.ava_car = ava_car\n",
    "        self.bike_rate = bike_rate\n",
    "        self.car_rate = car_rate\n",
    "        \n",
    "    def vehicle_booking(self, booking_type):\n",
    "        \"\"\" Book vehicle on rent basis\"\"\"\n",
    "        booking_type = booking_type.lower()\n",
    "        if (booking_type == 'bike') and (self.ava_bike >= 1):\n",
    "            self.ava_bike -= 1        \n",
    "            return f\"Your bike has been rented. The rental charge is ${self.bike_rate:.2f}.\"\n",
    "\n",
    "        elif booking_type == \"car\" and self.ava_car >= 1:\n",
    "            self.ava_car -= 1        \n",
    "            return f\"Your car has been rented. The rental charge is ${self.car_rate:.2f}.\"\n",
    "            \n",
    "        elif (booking_type == 'bike' and self.ava_bike == 0) or (booking_type == \"car\" and self.ava_car == 0):\n",
    "            return \"Sorry we are not available for booking right now\"\n",
    "            \n",
    "        else:\n",
    "            return \"please Enter a valid boking type, we have available only these type of booking Bike or Car\"\n",
    "            \n",
    "        def return_vehicle(self, booking_type):\n",
    "            \"\"\" Return the booked vehicle\"\"\"\n",
    "            \n",
    "            booking_type = booking_type.lower()\n",
    "            \n",
    "        if (booking_type == 'bike'):\n",
    "            self.ava_bike += 1        \n",
    "            return f\" You have return the vehicle succesfully\"\n",
    "\n",
    "        elif booking_type == \"car\" :\n",
    "            self.ava_car += 1        \n",
    "            return f\" You have return the vehicle succesfully\"\n",
    "                       \n",
    "        else:\n",
    "            return \"please Enter a valid boking type, we are accepting only Bike or Car\"\n",
    "    \n",
    "    def display_available_vehicles(self):\n",
    "            \"\"\"Display the current available vehicles.\"\"\"\n",
    "            return f\"Available Bikes: {self.ava_bike} \\n Available Cars: {self.ava_car}\"\n",
    "\n"
   ]
  },
  {
   "cell_type": "code",
   "execution_count": 88,
   "id": "96f5d7bc-0157-46eb-bad2-7e8a8f13e28b",
   "metadata": {},
   "outputs": [
    {
     "data": {
      "text/plain": [
       "'Available Bikes: 10\\nAvailable Cars: 14'"
      ]
     },
     "execution_count": 88,
     "metadata": {},
     "output_type": "execute_result"
    }
   ],
   "source": [
    "booking1.vehicle_booking('car')\n",
    "\n",
    "booking1.display_available_vehicles()"
   ]
  },
  {
   "cell_type": "code",
   "execution_count": null,
   "id": "0aba3e89-d5b9-4e5a-89ed-f406161c19b8",
   "metadata": {},
   "outputs": [],
   "source": [
    "'''Problem 4: Library Catalog Create classes representing a library and a book. Implement methods to add books to the library, borrow books, and\n",
    "display available books.'''"
   ]
  },
  {
   "cell_type": "code",
   "execution_count": 98,
   "id": "75efe461-c9c5-46a2-afb2-f6e5ef976e1c",
   "metadata": {},
   "outputs": [],
   "source": [
    "class Book:\n",
    "    def __init__(self, title, author):\n",
    "        \n",
    "        self.title = title\n",
    "        self.author = author\n",
    "        self.is_available = True  # Book is available for borrowing initially\n",
    "\n",
    "    def __str__(self):\n",
    "        return f\"Title: {self.title}, Author: {self.author}, Available: {'Yes' if self.is_available else 'No'}\"\n",
    "\n",
    "\n",
    "class Library:\n",
    "    def __init__(self):\n",
    "       \n",
    "        self.books = []\n",
    "\n",
    "    def add_book(self, book):\n",
    "        \"\"\"Add a book to the library.\"\"\"\n",
    "        self.books.append(book)\n",
    "        return f\"'{book.title}' by {book.author} has been added to the library.\"\n",
    "\n",
    "    def borrow_book(self, title):\n",
    "        \"\"\"Borrow a book from the library.\"\"\"\n",
    "        for book in self.books:\n",
    "            if book.title.lower() == title.lower():\n",
    "                if book.is_available:\n",
    "                    book.is_available = False  # Mark the book as borrowed\n",
    "                    return f\"You have successfully borrowed '{book.title}' by {book.author}.\"\n",
    "                else:\n",
    "                    return f\"Sorry, '{book.title}' is currently unavailable.\"\n",
    "        return f\"Sorry, we do not have a book titled '{title}'.\"\n",
    "\n",
    "    def return_book(self, title):\n",
    "        \"\"\"Return a borrowed book to the library.\"\"\"\n",
    "        for book in self.books:\n",
    "            if book.title.lower() == title.lower():\n",
    "                if not book.is_available:\n",
    "                    book.is_available = True  # Mark the book as available again\n",
    "                    return f\"Thank you for returning '{book.title}' by {book.author}.\"\n",
    "                else:\n",
    "                    return f\"'{book.title}' was not borrowed.\"\n",
    "        return f\"Sorry, we do not have a book titled '{title}' in our system.\"\n",
    "\n",
    "    def display_available_books(self):\n",
    "        \"\"\"Display all books that are available in the library.\"\"\"\n",
    "        available_books = [str(book) for book in self.books if book.is_available]\n",
    "        if available_books:\n",
    "            return \"\\n\".join(available_books)\n",
    "        else:\n",
    "            return \"No books are currently available for borrowing.\"\n"
   ]
  },
  {
   "cell_type": "code",
   "execution_count": null,
   "id": "a2cd1249-62f5-4061-b0cd-d12f6d0803a3",
   "metadata": {},
   "outputs": [],
   "source": [
    "'''Problem 5: Product Inventory Create classes representing a product and an inventory system. Implement methods to add products to the inventory, \n",
    "update product quantity, and display available products.'''"
   ]
  },
  {
   "cell_type": "code",
   "execution_count": 130,
   "id": "e621e426-45c0-423e-abc2-b77ad0d44112",
   "metadata": {},
   "outputs": [],
   "source": [
    "class Product:\n",
    "    \n",
    "    def __init__(self, name, purchase_date, quantity, price):\n",
    "        self.name = name\n",
    "        self.purchase_date = purchase_date\n",
    "        self.quantity = quantity\n",
    "        self.price = price\n",
    "        \n",
    "    def __str__(self):\n",
    "        return f\"Name: {self.name}, Purchase Date: {self.purchase_date}, Product Price: {self.price}, Available: {'Yes' if self.quantity >= 1 else 'No'}\"\n",
    "\n",
    "\n",
    "class Inventory:\n",
    "\n",
    "    def __init__(self):\n",
    "        \"\"\"Add products to the inventory\"\"\"\n",
    "        self.products = []\n",
    "        \n",
    "    def add_inventory(self, product):\n",
    "        self.products.append(product)\n",
    "        return f\"Product '{product.name}' purchased on {product.purchase_date} has been added to the inventory.\"\n",
    "   \n",
    "    def update_inventory(self, product_name, quantity):\n",
    "        \"\"\"Update the quantity of a product and display the available quantity\"\"\"\n",
    "        for product in self.products:\n",
    "            if product.name == product_name:\n",
    "                product.quantity += quantity\n",
    "                return f\"Updated product '{product_name}' to {product.quantity} units.\"\n",
    "        return f\"Product '{product_name}' not found in the inventory.\"\n",
    "\n",
    "    def __str__(self):\n",
    "        return \"\\n\".join(str(product) for product in self.products)\n"
   ]
  },
  {
   "cell_type": "code",
   "execution_count": null,
   "id": "dbbb600a-d02f-41b1-a254-53e02345abe4",
   "metadata": {},
   "outputs": [],
   "source": [
    "'''Problem 6: Shape Calculation Create a class representing a shape with attributes like length, width, and height. Implement methods to calculate the\n",
    "area and perimeter of the shape.'''"
   ]
  },
  {
   "cell_type": "code",
   "execution_count": 132,
   "id": "28b5879f-bf71-4b32-abda-d6b9a9c64fd4",
   "metadata": {},
   "outputs": [],
   "source": [
    "class Shape:\n",
    "    def __init__(self, length, width=None, height=None):\n",
    "        \"\"\"Initialize the shape with length, width, and height\"\"\"\n",
    "        self.length = length\n",
    "        self.width = width\n",
    "        self.height = height\n",
    "        \n",
    "    def area(self):\n",
    "        \"\"\"Calculate the area of the shape\"\"\"\n",
    "        if self.width is not None:  # 2D shape (rectangle)\n",
    "            return self.length * self.width\n",
    "        return \"Width is not provided for area calculation\"\n",
    "\n",
    "    def perimeter(self):\n",
    "        \"\"\"Calculate the perimeter of the shape\"\"\"\n",
    "        if self.width is not None:  # 2D shape (rectangle)\n",
    "            return 2 * (self.length + self.width)\n",
    "        return \"Width is not provided for perimeter calculation\"\n",
    "    \n",
    "    def surface_area(self):\n",
    "        \"\"\"Calculate surface area for 3D shapes (e.g., cuboid)\"\"\"\n",
    "        if self.height is not None:  # 3D shape (cuboid)\n",
    "            return 2 * (self.length * self.width + self.width * self.height + self.height * self.length)\n",
    "        return \"Height is not provided for surface area calculation\"\n",
    "    \n",
    "    def volume(self):\n",
    "        \"\"\"Calculate volume for 3D shapes (e.g., cuboid)\"\"\"\n",
    "        if self.height is not None:  # 3D shape (cuboid)\n",
    "            return self.length * self.width * self.height\n",
    "        return \"Height is not provided for volume calculation\"\n",
    "    \n",
    "    def __str__(self):\n",
    "        if self.height is not None:\n",
    "            return f\"Cuboid: Length={self.length}, Width={self.width}, Height={self.height}\"\n",
    "        elif self.width is not None:\n",
    "            return f\"Rectangle: Length={self.length}, Width={self.width}\"\n",
    "        return f\"Shape: Length={self.length}\"\n",
    "  "
   ]
  },
  {
   "cell_type": "code",
   "execution_count": null,
   "id": "4e2f1be2-ca63-4800-93fe-d4572de93a9e",
   "metadata": {},
   "outputs": [],
   "source": [
    "'''Problem 7: Student Management Create a class representing a student with attributes like student ID, name, and grades. Implement methods to calculate \n",
    "the average grade and display student details.'''"
   ]
  },
  {
   "cell_type": "code",
   "execution_count": 134,
   "id": "557569c6-5969-42a9-9654-6d41fa26c2bd",
   "metadata": {},
   "outputs": [
    {
     "name": "stdout",
     "output_type": "stream",
     "text": [
      "Student ID: 101, Name: John Doe, Average Grade: 86.25\n",
      "Student ID: 102, Name: Jane Smith, Average Grade: 87.75\n"
     ]
    }
   ],
   "source": [
    "class Student:\n",
    "    \n",
    "    def __init__(self, student_id, name, grades):\n",
    "        \"\"\"Initialize student with ID, name, and a list of grades.\"\"\"\n",
    "        self.student_id = student_id\n",
    "        self.name = name\n",
    "        self.grades = grades  # list of grades\n",
    "    \n",
    "    def calculate_average(self):\n",
    "        \"\"\"Calculate the average grade.\"\"\"\n",
    "        if len(self.grades) == 0:\n",
    "            return \"No grades available to calculate average\"\n",
    "        return sum(self.grades) / len(self.grades)\n",
    "    \n",
    "    def __str__(self):\n",
    "        \"\"\"Return a string representation of the student's details.\"\"\"\n",
    "        avg_grade = self.calculate_average()\n",
    "        return f\"Student ID: {self.student_id}, Name: {self.name}, Average Grade: {avg_grade:.2f}\"\n",
    "\n",
    "\n",
    "\n",
    "# Creating student objects\n",
    "student1 = Student(student_id=101, name=\"John Doe\", grades=[85, 90, 78, 92])\n",
    "student2 = Student(student_id=102, name=\"Jane Smith\", grades=[88, 91, 85, 87])\n",
    "\n",
    "# Displaying student details\n",
    "print(student1)\n",
    "print(student2)\n",
    "\n",
    "        \n",
    "\n"
   ]
  },
  {
   "cell_type": "code",
   "execution_count": null,
   "id": "8a09458f-3601-4ca3-9cb7-80956706829c",
   "metadata": {},
   "outputs": [],
   "source": [
    "\"\"\"Problem 8: Email Management Create a class representing an email with attributes like sender, recipient, and subject. Implement methods to send\n",
    "an email and display email details.\"\"\""
   ]
  },
  {
   "cell_type": "code",
   "execution_count": 140,
   "id": "b31eb418-1787-4673-b4ec-5378e6d5fa22",
   "metadata": {},
   "outputs": [
    {
     "name": "stdout",
     "output_type": "stream",
     "text": [
      "From: tuntun\n",
      "To: sah\n",
      "Subject: testmail\n",
      "Body: Hi How are you\n"
     ]
    }
   ],
   "source": [
    "class email:\n",
    "\n",
    "    def __init__(self, sender, recipient, subject, body):\n",
    "        self.sender = sender\n",
    "        self.recipient = recipient\n",
    "        self.subject = subject\n",
    "        self.body = body\n",
    "        \n",
    "    def send_email(self):\n",
    "        '''simulate sending the email'''\n",
    "\n",
    "        if self.sender and self.recipient:\n",
    "            return f\"Email sent succesfully from {self.sender} to {self.recipient} with subject '{ self.subject}'.\"\n",
    "        else:\n",
    "            return \"Error: Email not sent. Invalid sender or recipient.\"\n",
    "            \n",
    "    def __str__(self):\n",
    "        \"\"\"Return a string representation of the email's details.\"\"\"\n",
    "        return f\"From: {self.sender}\\nTo: {self.recipient}\\nSubject: {self.subject}\\nBody: {self.body}\"\n",
    "\n",
    "tuntun = email('tuntun', 'sah', 'testmail', 'Hi How are you')\n",
    "tuntun.send_email()\n",
    "print(tuntun)"
   ]
  },
  {
   "cell_type": "code",
   "execution_count": null,
   "id": "d2951a11-e8ae-4679-a09f-6104846fd41f",
   "metadata": {},
   "outputs": [],
   "source": [
    "'''Problem 9: Social Media Profile Create a class representing a social media profile with attributes like username and posts. Implement methods to add \n",
    "posts, display posts, and search for posts by keyword.'''"
   ]
  },
  {
   "cell_type": "code",
   "execution_count": 142,
   "id": "675f6e55-9c39-49ea-be75-f8bc6a66f671",
   "metadata": {},
   "outputs": [],
   "source": [
    "class SocialMediaProfile:\n",
    "    \n",
    "    def __init__(self, username):\n",
    "        \"\"\"Initialize the profile with a username and an empty list of posts.\"\"\"\n",
    "        self.username = username\n",
    "        self.posts = []\n",
    "    \n",
    "    def add_post(self, post):\n",
    "        \"\"\"Add a new post to the profile.\"\"\"\n",
    "        self.posts.append(post)\n",
    "        return f\"Post added successfully by {self.username}\"\n",
    "    \n",
    "    def display_posts(self):\n",
    "        \"\"\"Display all posts of the profile.\"\"\"\n",
    "        if self.posts:\n",
    "            return '\\n'.join(f\"{idx+1}. {post}\" for idx, post in enumerate(self.posts))\n",
    "        else:\n",
    "            return \"No posts to display.\"\n",
    "    \n",
    "    def search_posts(self, keyword):\n",
    "        \"\"\"Search for posts containing the keyword.\"\"\"\n",
    "        results = [post for post in self.posts if keyword.lower() in post.lower()]\n",
    "        if results:\n",
    "            return '\\n'.join(results)\n",
    "        else:\n",
    "            return f\"No posts found with the keyword '{keyword}'.\"\n",
    "\n"
   ]
  },
  {
   "cell_type": "code",
   "execution_count": null,
   "id": "e0aa59dd-42f9-4d48-8a74-35e78140afb5",
   "metadata": {},
   "outputs": [],
   "source": [
    "'''Problem 10: To Do List Create a class representing a To Do list with attributes like tasks and due dates. Implement methods to add tasks, mark tasks \n",
    "as completed, and display pending tasks.'''"
   ]
  },
  {
   "cell_type": "code",
   "execution_count": 145,
   "id": "acfc82dd-1ca4-4f5a-9b4e-3c08f52faebf",
   "metadata": {},
   "outputs": [],
   "source": [
    "from datetime import datetime\n",
    "\n",
    "class ToDoList:\n",
    "    \n",
    "    def __init__(self):\n",
    "        \"\"\"Initialize an empty to-do list with tasks and due dates.\"\"\"\n",
    "        self.tasks = []\n",
    "        self.due_dates = []\n",
    "        self.completed_tasks = []\n",
    "    \n",
    "    def add_task(self, task, due_date):\n",
    "        \"\"\"Add a task along with its due date.\"\"\"\n",
    "        self.tasks.append(task)\n",
    "        self.due_dates.append(due_date)\n",
    "        return f\"Task '{task}' added with due date: {due_date}\"\n",
    "    \n",
    "    def mark_task_completed(self, task):\n",
    "        \"\"\"Mark a task as completed by moving it from pending to completed tasks.\"\"\"\n",
    "        if task in self.tasks:\n",
    "            task_index = self.tasks.index(task)\n",
    "            self.completed_tasks.append((self.tasks[task_index], self.due_dates[task_index]))\n",
    "            del self.tasks[task_index]\n",
    "            del self.due_dates[task_index]\n",
    "            return f\"Task '{task}' marked as completed.\"\n",
    "        else:\n",
    "            return f\"Task '{task}' not found in the pending tasks.\"\n",
    "    \n",
    "    def display_pending_tasks(self):\n",
    "        \"\"\"Display all pending tasks with their due dates.\"\"\"\n",
    "        if self.tasks:\n",
    "            pending_tasks = \"\\n\".join(f\"{idx+1}. {self.tasks[idx]} - Due: {self.due_dates[idx]}\" \n",
    "                                      for idx in range(len(self.tasks)))\n",
    "            return pending_tasks\n",
    "        else:\n",
    "            return \"No pending tasks.\"\n",
    "\n",
    "    def display_completed_tasks(self):\n",
    "        \"\"\"Display all completed tasks.\"\"\"\n",
    "        if self.completed_tasks:\n",
    "            completed_tasks = \"\\n\".join(f\"{task[0]} - Completed on: {datetime.now().strftime('%Y-%m-%d %H:%M:%S')}\" \n",
    "                                        for task in self.completed_tasks)\n",
    "            return completed_tasks\n",
    "        else:\n",
    "            return \"No completed tasks.\""
   ]
  },
  {
   "cell_type": "code",
   "execution_count": null,
   "id": "0550734f-9687-48e1-b107-57b820764e24",
   "metadata": {},
   "outputs": [],
   "source": []
  },
  {
   "cell_type": "code",
   "execution_count": null,
   "id": "cbf4ad4f-a378-4cf9-acc7-a11599e76aa1",
   "metadata": {},
   "outputs": [],
   "source": []
  },
  {
   "cell_type": "code",
   "execution_count": null,
   "id": "098426f6-3d68-4b04-b556-5272f5e97132",
   "metadata": {},
   "outputs": [],
   "source": []
  },
  {
   "cell_type": "code",
   "execution_count": null,
   "id": "6cc74fb0-f072-40ca-887b-d837dbb2f4cd",
   "metadata": {},
   "outputs": [],
   "source": []
  },
  {
   "cell_type": "code",
   "execution_count": null,
   "id": "84b48981-7a32-43a5-8911-a28b1b137d97",
   "metadata": {},
   "outputs": [],
   "source": []
  },
  {
   "cell_type": "code",
   "execution_count": null,
   "id": "4bed51d1-c94a-4c9d-b50f-f1d1bfd036b9",
   "metadata": {},
   "outputs": [],
   "source": []
  },
  {
   "cell_type": "code",
   "execution_count": null,
   "id": "f02895c3-4a16-4c38-96fa-878c7389cca6",
   "metadata": {},
   "outputs": [],
   "source": []
  },
  {
   "cell_type": "code",
   "execution_count": null,
   "id": "e747dda9-3e93-4d1b-95cf-598decccabd4",
   "metadata": {},
   "outputs": [],
   "source": []
  },
  {
   "cell_type": "code",
   "execution_count": null,
   "id": "38a859d4-670d-4cc3-9698-663b3bddf639",
   "metadata": {},
   "outputs": [],
   "source": []
  },
  {
   "cell_type": "code",
   "execution_count": null,
   "id": "2d25cc03-769a-4da8-ab0a-a124a612ec07",
   "metadata": {},
   "outputs": [],
   "source": []
  },
  {
   "cell_type": "code",
   "execution_count": null,
   "id": "dd73bc8f-817f-4427-b2c3-73655d197282",
   "metadata": {},
   "outputs": [],
   "source": []
  },
  {
   "cell_type": "code",
   "execution_count": null,
   "id": "b0775be1-6260-4265-9ed9-5195323e548b",
   "metadata": {},
   "outputs": [],
   "source": []
  },
  {
   "cell_type": "code",
   "execution_count": null,
   "id": "bf4a576f-a471-499c-8d74-82f1edee8df8",
   "metadata": {},
   "outputs": [],
   "source": []
  },
  {
   "cell_type": "code",
   "execution_count": null,
   "id": "6d4ee9e4-ee39-4490-9740-aa4e6a01b0c8",
   "metadata": {},
   "outputs": [],
   "source": []
  },
  {
   "cell_type": "code",
   "execution_count": null,
   "id": "a2dbf4a9-e9ca-4d3c-89ec-4cec6490d03e",
   "metadata": {},
   "outputs": [],
   "source": []
  },
  {
   "cell_type": "code",
   "execution_count": null,
   "id": "e4e0ac70-38c3-40dd-8a0a-96f23d6f9dc1",
   "metadata": {},
   "outputs": [],
   "source": []
  },
  {
   "cell_type": "code",
   "execution_count": null,
   "id": "cdf43707-7482-4f8d-8266-ca29d427b32e",
   "metadata": {},
   "outputs": [],
   "source": []
  },
  {
   "cell_type": "code",
   "execution_count": null,
   "id": "8a829c1e-0865-4bc1-a258-71526c7f6c10",
   "metadata": {},
   "outputs": [],
   "source": []
  },
  {
   "cell_type": "code",
   "execution_count": null,
   "id": "7778950d-2918-448c-9945-3be1cccdd98d",
   "metadata": {},
   "outputs": [],
   "source": []
  },
  {
   "cell_type": "code",
   "execution_count": null,
   "id": "ce010c7b-6d3c-4013-9bb3-9cd53f0f6ab8",
   "metadata": {},
   "outputs": [],
   "source": []
  },
  {
   "cell_type": "code",
   "execution_count": null,
   "id": "389afadd-07b1-4478-afa2-6abc70269fb1",
   "metadata": {},
   "outputs": [],
   "source": []
  },
  {
   "cell_type": "code",
   "execution_count": null,
   "id": "442c346f-8eca-4c9f-aac4-39b724bc9492",
   "metadata": {},
   "outputs": [],
   "source": []
  }
 ],
 "metadata": {
  "kernelspec": {
   "display_name": "Python 3 (ipykernel)",
   "language": "python",
   "name": "python3"
  },
  "language_info": {
   "codemirror_mode": {
    "name": "ipython",
    "version": 3
   },
   "file_extension": ".py",
   "mimetype": "text/x-python",
   "name": "python",
   "nbconvert_exporter": "python",
   "pygments_lexer": "ipython3",
   "version": "3.13.0"
  }
 },
 "nbformat": 4,
 "nbformat_minor": 5
}
