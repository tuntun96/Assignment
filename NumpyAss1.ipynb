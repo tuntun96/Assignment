{
 "cells": [
  {
   "cell_type": "code",
   "execution_count": null,
   "id": "2c0252ed-fd58-45f4-a7fd-fe197034056f",
   "metadata": {},
   "outputs": [],
   "source": [
    "#1. What is a Python library? Why do we use Python libraries?"
   ]
  },
  {
   "cell_type": "code",
   "execution_count": null,
   "id": "c912984d-72dd-4c38-a25d-d6c96a7e845b",
   "metadata": {},
   "outputs": [],
   "source": [
    "'''\n",
    "A Python library is a collection of pre-written code that helps you perform specific tasks without writing everything from scratch. It’s like a \n",
    "toolbox filled with ready-made tools for different jobs, such as data analysis, web development, automation, and machine learning.\n",
    "\n",
    "Saves Time & Effort – Instead of writing complex code, you can use built-in functions from libraries.\n",
    "Makes Coding Easier – Libraries handle difficult tasks, so you can focus on solving problems rather than writing every detail.\n",
    "Better Performance – Many libraries are optimized for speed and efficiency.\n",
    "Large Community Support – Popular libraries are well-maintained and regularly updated.\n",
    "Covers Various Fields – There are libraries for almost everything:\n",
    "Data Analysis → pandas, numpy\n",
    "Machine Learning → scikit-learn, tensorflow\n",
    "Web Development → flask, django\n",
    "Automation → selenium, pyautogui\n",
    "Data Visualization → matplotlib, seaborn'''"
   ]
  },
  {
   "cell_type": "code",
   "execution_count": null,
   "id": "8a13cf33-3f97-4711-9251-12f18a5edc8a",
   "metadata": {},
   "outputs": [],
   "source": [
    "#2. What is the difference between Numpy array and List?"
   ]
  },
  {
   "cell_type": "code",
   "execution_count": null,
   "id": "ab4eb5d3-206e-4ee8-87aa-22c793d128d4",
   "metadata": {},
   "outputs": [],
   "source": [
    "'''\n",
    "Both NumPy arrays and Python lists store collections of data, but they have key differences:\n",
    "\n",
    "1. Speed & Performance 🚀\n",
    "NumPy arrays are faster because they use fixed types and optimized C-based operations.\n",
    "Lists are slower since they store elements as objects with extra overhead.\n",
    "2. Memory Efficiency 🧠\n",
    "NumPy arrays take up less memory because they store elements in a continuous block of memory.\n",
    "Lists use more memory since they store references to objects, which adds extra overhead.\n",
    "3. Data Type Consistency 🔢\n",
    "NumPy arrays require all elements to be of the same data type (e.g., all integers or all floats).\n",
    "Lists can store mixed data types (e.g., integers, strings, floats in the same list).\n",
    "4. Built-in Operations 🏗️\n",
    "NumPy arrays support vectorized operations (e.g., array1 + array2 adds element-wise).\n",
    "Lists require manual looping (for loops) for operations like addition or multiplication.\n",
    "5. Functionality & Applications 📊\n",
    "NumPy arrays are great for scientific computing, data analysis, and machine learning.\n",
    "Lists are more general-purpose and flexible for everyday Python programming.\n",
    "'''"
   ]
  },
  {
   "cell_type": "code",
   "execution_count": null,
   "id": "c0af14f5-1f82-4556-aad8-7a22bb9d8eff",
   "metadata": {},
   "outputs": [],
   "source": [
    "3. Find the shape, size and dimension of the following array?\n",
    "[[1, 2, 3, 4]\n",
    "[5, 6, 7, 8],\n",
    "[9, 10, 11, 12]]"
   ]
  },
  {
   "cell_type": "code",
   "execution_count": 1,
   "id": "b3ddc648-c133-43d0-8cfc-9561f838dc91",
   "metadata": {},
   "outputs": [
    {
     "name": "stdout",
     "output_type": "stream",
     "text": [
      "Shape: (3, 4)\n",
      "Size: 12\n",
      "Dimension: 2\n"
     ]
    }
   ],
   "source": [
    "import numpy as np\n",
    "\n",
    "# Define the array\n",
    "arr = np.array([[1, 2, 3, 4], \n",
    "                [5, 6, 7, 8], \n",
    "                [9, 10, 11, 12]])\n",
    "\n",
    "# Get shape, size, and dimension\n",
    "print(\"Shape:\", arr.shape)      # (rows, columns)\n",
    "print(\"Size:\", arr.size)        # Total number of elements\n",
    "print(\"Dimension:\", arr.ndim)   # Number of dimensions\n"
   ]
  },
  {
   "cell_type": "code",
   "execution_count": null,
   "id": "e6966cea-22bc-40e8-acd1-052fd8565c61",
   "metadata": {},
   "outputs": [],
   "source": [
    "'''\n",
    "4. Write python code to access the first row of the following array?\n",
    "[[1, 2, 3, 4]\n",
    "[5, 6, 7, 8],\n",
    "[9, 10, 11, 12]]\n",
    "'''"
   ]
  },
  {
   "cell_type": "code",
   "execution_count": 2,
   "id": "2aab4717-5ae4-4d65-8f54-12961e8e5f08",
   "metadata": {},
   "outputs": [
    {
     "name": "stdout",
     "output_type": "stream",
     "text": [
      "First row: [1 2 3 4]\n"
     ]
    }
   ],
   "source": [
    "# Define the array\n",
    "arr = np.array([[1, 2, 3, 4], \n",
    "                [5, 6, 7, 8], \n",
    "                [9, 10, 11, 12]])\n",
    "\n",
    "# Access the first row\n",
    "first_row = arr[0]\n",
    "\n",
    "# Print the first row\n",
    "print(\"First row:\", first_row)\n"
   ]
  },
  {
   "cell_type": "code",
   "execution_count": null,
   "id": "e90c9ba1-7db2-4b09-8c68-5a5d3cd43b12",
   "metadata": {},
   "outputs": [],
   "source": [
    "'''5. How do you access the element at the third row and fourth column from the given numpy array?\n",
    "[[1, 2, 3, 4]\n",
    "[5, 6, 7, 8],\n",
    "[9, 10, 11, 12]]\n",
    "'''"
   ]
  },
  {
   "cell_type": "code",
   "execution_count": 3,
   "id": "c5abe8f9-c144-467f-970e-dc612a628a8d",
   "metadata": {},
   "outputs": [
    {
     "name": "stdout",
     "output_type": "stream",
     "text": [
      "Element at third row and fourth column: 12\n"
     ]
    }
   ],
   "source": [
    "# Define the array\n",
    "arr = np.array([[1, 2, 3, 4], \n",
    "                [5, 6, 7, 8], \n",
    "                [9, 10, 11, 12]])\n",
    "\n",
    "# Access the element at the third row and fourth column\n",
    "element = arr[2, 3]  # Indexing starts from 0\n",
    "\n",
    "# Print the element\n",
    "print(\"Element at third row and fourth column:\", element)\n"
   ]
  },
  {
   "cell_type": "code",
   "execution_count": null,
   "id": "f3cb5092-223a-4296-985d-f647188fc0df",
   "metadata": {},
   "outputs": [],
   "source": [
    "'''6. Write code to extract all odd-indexed elements from the given numpy array?\n",
    "[[1, 2, 3, 4]\n",
    "[5, 6, 7, 8],\n",
    "[9, 10, 11, 12]]'''"
   ]
  },
  {
   "cell_type": "code",
   "execution_count": 4,
   "id": "991b2316-f757-41c6-a91e-4f2b2893f6dc",
   "metadata": {},
   "outputs": [
    {
     "name": "stdout",
     "output_type": "stream",
     "text": [
      "Odd-indexed elements:\n",
      " [[6 8]]\n"
     ]
    }
   ],
   "source": [
    "# Define the array\n",
    "arr = np.array([[1, 2, 3, 4], \n",
    "                [5, 6, 7, 8], \n",
    "                [9, 10, 11, 12]])\n",
    "\n",
    "# Extract elements where either row index or column index is odd\n",
    "odd_indexed_elements = arr[1::2, 1::2]  # Select rows and columns at odd indices\n",
    "\n",
    "# Print the result\n",
    "print(\"Odd-indexed elements:\\n\", odd_indexed_elements)\n"
   ]
  },
  {
   "cell_type": "code",
   "execution_count": null,
   "id": "83ce24d8-e544-4cf4-8bd2-ec7696293dae",
   "metadata": {},
   "outputs": [],
   "source": [
    "#7. How can you generate a random 3x3 matrix with values between 0 and 1?"
   ]
  },
  {
   "cell_type": "code",
   "execution_count": 5,
   "id": "22a2b102-2925-4034-a6a5-8adc3cacfa4a",
   "metadata": {},
   "outputs": [
    {
     "name": "stdout",
     "output_type": "stream",
     "text": [
      "Random 3x3 Matrix:\n",
      " [[0.70406468 0.54303527 0.4765296 ]\n",
      " [0.76510061 0.92489012 0.83809896]\n",
      " [0.24254736 0.68474035 0.97979837]]\n"
     ]
    }
   ],
   "source": [
    "# Generate a 3x3 matrix with random values between 0 and 1\n",
    "random_matrix = np.random.rand(3, 3)\n",
    "\n",
    "# Print the matrix\n",
    "print(\"Random 3x3 Matrix:\\n\", random_matrix)\n"
   ]
  },
  {
   "cell_type": "code",
   "execution_count": null,
   "id": "88e039a3-fae9-47c5-9d53-f6f375d810dc",
   "metadata": {},
   "outputs": [],
   "source": [
    "#8. Describe the difference between np.random.rand and np.random.randn?"
   ]
  },
  {
   "cell_type": "code",
   "execution_count": 7,
   "id": "14d18fbf-bb2b-4282-941c-27da4d046214",
   "metadata": {},
   "outputs": [
    {
     "name": "stdout",
     "output_type": "stream",
     "text": [
      "[[0.94683314 0.64655118 0.20914904]\n",
      " [0.77255433 0.9476404  0.52090268]\n",
      " [0.40041475 0.40122619 0.63023468]]\n",
      "[[-0.65349279 -0.03350103  0.71682197]\n",
      " [-1.82070527  1.21749346  2.62864618]\n",
      " [ 0.57967839  0.2111095   0.15470602]]\n"
     ]
    }
   ],
   "source": [
    "#np.random.rand\n",
    "#Generates random numbers between 0 and 1.\n",
    "print(np.random.rand(3, 3)) \n",
    "\n",
    "\n",
    "#np.random.randn()\n",
    "#Generates random numbers with a mean of 0 and a standard deviation of 1.\n",
    "print(np.random.randn(3, 3))\n"
   ]
  },
  {
   "cell_type": "code",
   "execution_count": null,
   "id": "ebaed2ea-7e1f-45bb-8f0d-ca4c430feb93",
   "metadata": {},
   "outputs": [],
   "source": [
    "'''9. Write code to increase the dimension of the following array?\n",
    "[[1, 2, 3, 4]\n",
    "[5, 6, 7, 8],\n",
    "[9, 10, 11, 12]]'''"
   ]
  },
  {
   "cell_type": "code",
   "execution_count": 8,
   "id": "4ce66e5d-6241-485e-a888-05d60e404a19",
   "metadata": {},
   "outputs": [
    {
     "name": "stdout",
     "output_type": "stream",
     "text": [
      "Original Shape: (3, 4)\n",
      "New Shape (using newaxis): (1, 3, 4)\n",
      "New Shape (using expand_dims): (1, 3, 4)\n"
     ]
    }
   ],
   "source": [
    "# Define the original 2D array\n",
    "arr = np.array([[1, 2, 3, 4], \n",
    "                [5, 6, 7, 8], \n",
    "                [9, 10, 11, 12]])\n",
    "\n",
    "# Increase dimension using np.newaxis\n",
    "arr_expanded1 = arr[np.newaxis, :, :]  # Adds an extra dimension at the beginning\n",
    "\n",
    "# Increase dimension using np.expand_dims()\n",
    "arr_expanded2 = np.expand_dims(arr, axis=0)  # Adds an extra dimension at axis 0\n",
    "\n",
    "# Print results\n",
    "print(\"Original Shape:\", arr.shape)\n",
    "print(\"New Shape (using newaxis):\", arr_expanded1.shape)\n",
    "print(\"New Shape (using expand_dims):\", arr_expanded2.shape)\n"
   ]
  },
  {
   "cell_type": "code",
   "execution_count": null,
   "id": "a9088220-68ed-47f3-9ede-788d9b00317a",
   "metadata": {},
   "outputs": [],
   "source": [
    "'''10. How to transpose the following array in NumPy?\n",
    "[[1, 2, 3, 4]\n",
    "[5, 6, 7, 8],\n",
    "[9, 10, 11, 12]]'''"
   ]
  },
  {
   "cell_type": "code",
   "execution_count": 9,
   "id": "fc8cb2e6-9240-4fd8-85d1-74066dc96a72",
   "metadata": {},
   "outputs": [
    {
     "name": "stdout",
     "output_type": "stream",
     "text": [
      "Original Array:\n",
      " [[ 1  2  3  4]\n",
      " [ 5  6  7  8]\n",
      " [ 9 10 11 12]]\n",
      "Transposed Array (using .T):\n",
      " [[ 1  5  9]\n",
      " [ 2  6 10]\n",
      " [ 3  7 11]\n",
      " [ 4  8 12]]\n",
      "Transposed Array (using np.transpose()):\n",
      " [[ 1  5  9]\n",
      " [ 2  6 10]\n",
      " [ 3  7 11]\n",
      " [ 4  8 12]]\n"
     ]
    }
   ],
   "source": [
    "# Define the original array\n",
    "arr = np.array([[1, 2, 3, 4], \n",
    "                [5, 6, 7, 8], \n",
    "                [9, 10, 11, 12]])\n",
    "\n",
    "# Transpose the array using .T\n",
    "transposed_arr = arr.T\n",
    "\n",
    "# Alternatively, using np.transpose()\n",
    "transposed_arr2 = np.transpose(arr)\n",
    "\n",
    "# Print the results\n",
    "print(\"Original Array:\\n\", arr)\n",
    "print(\"Transposed Array (using .T):\\n\", transposed_arr)\n",
    "print(\"Transposed Array (using np.transpose()):\\n\", transposed_arr2)\n"
   ]
  },
  {
   "cell_type": "code",
   "execution_count": null,
   "id": "6fed717a-0c73-4b84-809a-f84ae9562902",
   "metadata": {},
   "outputs": [],
   "source": [
    "'''11. Consider the following matrix:\n",
    "Matrix A: [[1, 2, 3, 4] [5, 6, 7, 8],[9, 10, 11, 12]]\n",
    "Matrix B: [[1, 2, 3, 4] [5, 6, 7, 8],[9, 10, 11, 12]]\n",
    "Perform the following operation using Python1\n",
    "1. Index wise multiplicatio.\n",
    "2. Matrix multiplicatio.\n",
    "3. Add both the matrics.\n",
    "4. Subtract matrix B from A.\n",
    "5. Divide Matrix B by A. '''"
   ]
  },
  {
   "cell_type": "code",
   "execution_count": 10,
   "id": "054729ba-5cc2-44c9-9f36-f484b73aa168",
   "metadata": {},
   "outputs": [
    {
     "name": "stdout",
     "output_type": "stream",
     "text": [
      "Index-wise Multiplication:\n",
      " [[  1   4   9  16]\n",
      " [ 25  36  49  64]\n",
      " [ 81 100 121 144]]\n",
      "Matrix Multiplication:\n",
      " [[ 30  70 110]\n",
      " [ 70 174 278]\n",
      " [110 278 446]]\n",
      "Matrix Addition:\n",
      " [[ 2  4  6  8]\n",
      " [10 12 14 16]\n",
      " [18 20 22 24]]\n",
      "Matrix Subtraction (A - B):\n",
      " [[0 0 0 0]\n",
      " [0 0 0 0]\n",
      " [0 0 0 0]]\n",
      "Matrix Division (B / A):\n",
      " [[1. 1. 1. 1.]\n",
      " [1. 1. 1. 1.]\n",
      " [1. 1. 1. 1.]]\n"
     ]
    }
   ],
   "source": [
    "# Define Matrix A and Matrix B\n",
    "A = np.array([[1, 2, 3, 4], \n",
    "              [5, 6, 7, 8], \n",
    "              [9, 10, 11, 12]])\n",
    "\n",
    "B = np.array([[1, 2, 3, 4], \n",
    "              [5, 6, 7, 8], \n",
    "              [9, 10, 11, 12]])\n",
    "\n",
    "# Element-wise multiplication (Index-wise multiplication)\n",
    "index_wise_multiplication = A * B\n",
    "print(\"Index-wise Multiplication:\\n\", index_wise_multiplication)\n",
    "\n",
    "# Matrix multiplication (Dot product)\n",
    "matrix_multiplication = np.dot(A, B.T)  # B.T is the transpose of B for valid multiplication\n",
    "print(\"Matrix Multiplication:\\n\", matrix_multiplication)\n",
    "\n",
    "# Add both matrices\n",
    "matrix_addition = A + B\n",
    "print(\"Matrix Addition:\\n\", matrix_addition)\n",
    "\n",
    "# Subtract Matrix B from Matrix A\n",
    "matrix_subtraction = A - B\n",
    "print(\"Matrix Subtraction (A - B):\\n\", matrix_subtraction)\n",
    "\n",
    "# Divide Matrix B by Matrix A\n",
    "matrix_division = B / A\n",
    "print(\"Matrix Division (B / A):\\n\", matrix_division)\n",
    "\n"
   ]
  },
  {
   "cell_type": "code",
   "execution_count": null,
   "id": "208d7a26-ca0d-4a1f-9d2b-c2a24474cbb6",
   "metadata": {},
   "outputs": [],
   "source": [
    "#12.  Which function in Numpy can be used to swap the byte order of an array?"
   ]
  },
  {
   "cell_type": "code",
   "execution_count": 12,
   "id": "6881003c-846c-45ef-b508-619c82a171a5",
   "metadata": {},
   "outputs": [
    {
     "name": "stdout",
     "output_type": "stream",
     "text": [
      "Array: [    1   256 65536]\n",
      "Byte Order: int32\n"
     ]
    }
   ],
   "source": [
    "# Create a NumPy array with a larger integer type (int32)\n",
    "arr = np.array([1, 256, 65536], dtype='int32')  # Use int32 to accommodate 65536\n",
    "\n",
    "print(\"Array:\", arr)\n",
    "print(\"Byte Order:\", arr.dtype)\n"
   ]
  },
  {
   "cell_type": "code",
   "execution_count": null,
   "id": "1a98d553-bd74-4cf7-a3c6-95ea567b01b6",
   "metadata": {},
   "outputs": [],
   "source": [
    "#13.  What is the significance of the np.linalg.inv function?"
   ]
  },
  {
   "cell_type": "code",
   "execution_count": 13,
   "id": "80a7a947-3678-4f8a-9c07-85a454b62522",
   "metadata": {},
   "outputs": [
    {
     "name": "stdout",
     "output_type": "stream",
     "text": [
      "Matrix A:\n",
      " [[1 2]\n",
      " [3 4]]\n",
      "Inverse of A:\n",
      " [[-2.   1. ]\n",
      " [ 1.5 -0.5]]\n",
      "A * A_inv (should be identity matrix):\n",
      " [[1.0000000e+00 0.0000000e+00]\n",
      " [8.8817842e-16 1.0000000e+00]]\n"
     ]
    }
   ],
   "source": [
    "# Define a square matrix\n",
    "A = np.array([[1, 2], \n",
    "              [3, 4]])\n",
    "\n",
    "# Compute the inverse of the matrix\n",
    "A_inv = np.linalg.inv(A)\n",
    "\n",
    "print(\"Matrix A:\\n\", A)\n",
    "print(\"Inverse of A:\\n\", A_inv)\n",
    "\n",
    "# Verify the result by multiplying A with its inverse\n",
    "identity_matrix = np.dot(A, A_inv)\n",
    "print(\"A * A_inv (should be identity matrix):\\n\", identity_matrix)"
   ]
  },
  {
   "cell_type": "code",
   "execution_count": null,
   "id": "52486da4-a59b-4b74-9d41-1ab63d74b49b",
   "metadata": {},
   "outputs": [],
   "source": [
    "#14. What does the np.reshape function do, and how is it used?"
   ]
  },
  {
   "cell_type": "code",
   "execution_count": 15,
   "id": "b7968e1a-f882-43eb-8946-3a7c04e3b590",
   "metadata": {},
   "outputs": [
    {
     "name": "stdout",
     "output_type": "stream",
     "text": [
      "Original Array: [ 0  1  2  3  4  5  6  7  8  9 10 11]\n",
      "\n",
      "Reshaped Array (2x6):\n",
      " [[ 0  1  2  3  4  5]\n",
      " [ 6  7  8  9 10 11]]\n",
      "\n",
      "Reshaped Array (3x4):\n",
      " [[ 0  1  2  3]\n",
      " [ 4  5  6  7]\n",
      " [ 8  9 10 11]]\n",
      "\n",
      "Reshaped Array (4x3):\n",
      " [[ 0  1  2]\n",
      " [ 3  4  5]\n",
      " [ 6  7  8]\n",
      " [ 9 10 11]]\n",
      "\n",
      "Reshaped Array with inferred dimension (3, -1):\n",
      " [[ 0  1  2  3]\n",
      " [ 4  5  6  7]\n",
      " [ 8  9 10 11]]\n"
     ]
    }
   ],
   "source": [
    "'''The np.reshape() function in NumPy is used to change the shape of an array without changing its data. It allows you to modify the dimensions of the \n",
    "array (e.g., from a 1D array to a 2D array or from a 2D array to a 3D array), as long as the total number of elements remains the same.\n",
    "'''\n",
    "\n",
    "# Create a 1D array with 12 elements\n",
    "arr = np.arange(12)\n",
    "\n",
    "print(\"Original Array:\", arr)\n",
    "\n",
    "# Reshape the array to 2x6 (2 rows and 6 columns)\n",
    "reshaped_arr_2x6 = np.reshape(arr, (2, 6))\n",
    "print(\"\\nReshaped Array (2x6):\\n\", reshaped_arr_2x6)\n",
    "\n",
    "# Reshape the array to 3x4 (3 rows and 4 columns)\n",
    "reshaped_arr_3x4 = np.reshape(arr, (3, 4))\n",
    "print(\"\\nReshaped Array (3x4):\\n\", reshaped_arr_3x4)\n",
    "\n",
    "# Reshape the array to 4x3 (4 rows and 3 columns)\n",
    "reshaped_arr_4x3 = np.reshape(arr, (4, 3))\n",
    "print(\"\\nReshaped Array (4x3):\\n\", reshaped_arr_4x3)\n",
    "\n",
    "# Using -1 to automatically infer one dimension\n",
    "reshaped_arr_inferred = np.reshape(arr, (3, -1))  # Automatically infers the second dimension\n",
    "print(\"\\nReshaped Array with inferred dimension (3, -1):\\n\", reshaped_arr_inferred)\n",
    "\n"
   ]
  },
  {
   "cell_type": "code",
   "execution_count": null,
   "id": "a784725f-c661-408d-ac82-343aca536338",
   "metadata": {},
   "outputs": [],
   "source": [
    "#15. What is broadcasting in Numpy?"
   ]
  },
  {
   "cell_type": "code",
   "execution_count": 16,
   "id": "a03882a3-1e18-4265-8368-bac2b0112c10",
   "metadata": {},
   "outputs": [
    {
     "name": "stdout",
     "output_type": "stream",
     "text": [
      "[[11 12 13]\n",
      " [14 15 16]]\n"
     ]
    }
   ],
   "source": [
    "'''Broadcasting in NumPy is a feature that allows NumPy to perform arithmetic operations on arrays of different shapes, by automatically expanding the \n",
    "smaller array to match the shape of the larger one. This makes operations like adding, subtracting, or multiplying arrays with different dimensions easy\n",
    "and efficient.\n",
    "\n",
    "How Broadcasting Works:\n",
    "Dimension Alignment: If the arrays have different numbers of dimensions, NumPy will add \"1\" to the smaller array’s shape until both arrays have the same\n",
    "number of dimensions.\n",
    "Shape Compatibility: For broadcasting to work, the dimensions of the two arrays must either be the same or one of them should be 1. This means that if \n",
    "one array has a smaller dimension, it will be \"stretched\" to match the larger one.\n",
    "Stretching: If one of the arrays has a dimension of size 1, NumPy will stretch it to match the other array’s size in that dimension\n",
    "'''\n",
    "#example\n",
    "arr = np.array([[1, 2, 3], [4, 5, 6]])\n",
    "result = arr + 10  # Broadcasting the scalar 10\n",
    "print(result)"
   ]
  },
  {
   "cell_type": "code",
   "execution_count": null,
   "id": "c4d2804e-8bb2-49bf-bfd6-0de5f38330ce",
   "metadata": {},
   "outputs": [],
   "source": []
  }
 ],
 "metadata": {
  "kernelspec": {
   "display_name": "Python 3 (ipykernel)",
   "language": "python",
   "name": "python3"
  },
  "language_info": {
   "codemirror_mode": {
    "name": "ipython",
    "version": 3
   },
   "file_extension": ".py",
   "mimetype": "text/x-python",
   "name": "python",
   "nbconvert_exporter": "python",
   "pygments_lexer": "ipython3",
   "version": "3.13.0"
  }
 },
 "nbformat": 4,
 "nbformat_minor": 5
}
