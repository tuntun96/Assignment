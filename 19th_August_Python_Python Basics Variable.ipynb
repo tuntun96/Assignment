{
 "cells": [
  {
   "cell_type": "code",
   "execution_count": null,
   "id": "7839e663-0f77-4593-8aef-73e4f832f308",
   "metadata": {},
   "outputs": [],
   "source": [
    "TOPIC: Python Basics Variable"
   ]
  },
  {
   "cell_type": "code",
   "execution_count": null,
   "id": "1a9e45df-acb8-4a0e-923b-094775455ace",
   "metadata": {},
   "outputs": [],
   "source": [
    "1. Declare two variables, `x` and `y`, and assign them integer values.\n",
    "Swap the values of these variables without using any temporary\n",
    "variable."
   ]
  },
  {
   "cell_type": "code",
   "execution_count": 50,
   "id": "81dc41e9-c652-4d29-a3fa-963f5cec456e",
   "metadata": {},
   "outputs": [
    {
     "name": "stdout",
     "output_type": "stream",
     "text": [
      "x = 7 y = 6\n"
     ]
    }
   ],
   "source": [
    "# 1. Ans : \n",
    "# Declaring two variable x and y\n",
    "x = 6\n",
    "y = 7\n",
    "# swaping x and y\n",
    "x = x + y\n",
    "y = x - y\n",
    "x = x - y\n",
    "print(\"x =\", x, \"y =\", y)"
   ]
  },
  {
   "cell_type": "code",
   "execution_count": null,
   "id": "e874d4f7-be8f-4dcc-bcd8-22e77674f050",
   "metadata": {},
   "outputs": [],
   "source": [
    "2. Create a program that calculates the area of a rectangle. Take the\n",
    "length and width as inputs from the user and store them in variables.\n",
    "Calculate and display the area."
   ]
  },
  {
   "cell_type": "code",
   "execution_count": 10,
   "id": "a981811d-be9a-41c7-9b22-a56b263cd8c8",
   "metadata": {},
   "outputs": [
    {
     "name": "stdin",
     "output_type": "stream",
     "text": [
      "Enter Number(l): 4\n",
      "Enter Number(b): 5\n"
     ]
    },
    {
     "name": "stdout",
     "output_type": "stream",
     "text": [
      "Area of Rectangle is: 20\n"
     ]
    }
   ],
   "source": [
    "# 2. Ans : \n",
    "# Taking input from user\n",
    "length = int(input(\"Enter Number(l):\"))\n",
    "width = int(input(\"Enter Number(b):\"))\n",
    "\n",
    "# Calculating the area of a rectangle\n",
    "area_rectangle = length*width\n",
    "\n",
    "print(\"Area of Rectangle is:\", area_rectangle)"
   ]
  },
  {
   "cell_type": "code",
   "execution_count": null,
   "id": "c0de737f-ee75-4409-a24f-4ba08ab5962d",
   "metadata": {},
   "outputs": [],
   "source": [
    "3. Write a Python program that converts temperature from Celsius to\n",
    "Fahrenheit. Take the temperature in Celsius as input, store it in a\n",
    "variable, convert it to Fahrenheit, and display the result."
   ]
  },
  {
   "cell_type": "code",
   "execution_count": 16,
   "id": "37b1843e-dbba-41d0-addb-c779eab51503",
   "metadata": {},
   "outputs": [
    {
     "name": "stdin",
     "output_type": "stream",
     "text": [
      "Enter Temp incelsius: 5\n"
     ]
    },
    {
     "name": "stdout",
     "output_type": "stream",
     "text": [
      "Temp. in Fahrenheit is: 41.0\n"
     ]
    }
   ],
   "source": [
    "# 3 ans:\n",
    "# Taking Temp. Input from user in celsius.\n",
    "temp_c = int(input(\"Enter Temp incelsius:\"))\n",
    "\n",
    "#converting the temp from celsius to fahrenheit\n",
    "temp_f = temp_c*9/5 + 32\n",
    "\n",
    "# printing the temp. in fahrenheit\n",
    "print(\"Temp. in Fahrenheit is:\",temp_f)"
   ]
  },
  {
   "cell_type": "code",
   "execution_count": null,
   "id": "aeb645a4-c682-420a-a5bb-e7452a111071",
   "metadata": {},
   "outputs": [],
   "source": [
    "TOPIC: String Based Questions"
   ]
  },
  {
   "cell_type": "code",
   "execution_count": null,
   "id": "071568c3-bbf6-4ad2-88ea-f1d7dcb526ad",
   "metadata": {},
   "outputs": [],
   "source": [
    "1. Write a Python program that takes a string as input and prints the\n",
    "length of the string."
   ]
  },
  {
   "cell_type": "code",
   "execution_count": 36,
   "id": "42c3a687-073d-428f-ae88-811be2bb0bbc",
   "metadata": {},
   "outputs": [
    {
     "name": "stdin",
     "output_type": "stream",
     "text": [
      "Enter character: Tuntun\n"
     ]
    },
    {
     "name": "stdout",
     "output_type": "stream",
     "text": [
      "Length of String: 6\n"
     ]
    }
   ],
   "source": [
    "# 1 ans:\n",
    "#Taking input form user\n",
    "s1 = input(\"Enter character:\")\n",
    "print(\"Length of String:\",len(s1))"
   ]
  },
  {
   "cell_type": "code",
   "execution_count": null,
   "id": "97c0dffa-a786-4283-bf3b-d46127b59f77",
   "metadata": {},
   "outputs": [],
   "source": [
    "2. Create a program that takes a sentence from the user and counts the\n",
    "number of vowels (a, e, i, o, u) in the string."
   ]
  },
  {
   "cell_type": "code",
   "execution_count": 51,
   "id": "ce9b825c-9fe5-4c2e-8958-7bcf62f1b2d7",
   "metadata": {},
   "outputs": [
    {
     "name": "stdin",
     "output_type": "stream",
     "text": [
      "Enter sentence: Tuntun\n"
     ]
    },
    {
     "name": "stdout",
     "output_type": "stream",
     "text": [
      "Number of vowels in the sentence: 2\n"
     ]
    }
   ],
   "source": [
    "# 2. Ans :\n",
    "s2 = input(\"Enter sentence:\")\n",
    "count = 0\n",
    "vowels = 'aeiouAEIOU'\n",
    "count = sum(1 for char in s2 if char in vowels)\n",
    "print('Number of vowels in the sentence:', count)"
   ]
  },
  {
   "cell_type": "code",
   "execution_count": null,
   "id": "142c7b8d-2eb7-4e7d-be00-005fc662a4f1",
   "metadata": {},
   "outputs": [],
   "source": [
    "3. Given a string, reverse the order of characters using string slicing and\n",
    "print the reversed string."
   ]
  },
  {
   "cell_type": "code",
   "execution_count": 52,
   "id": "0f91a00a-3d6a-4723-a423-28e0703e39fa",
   "metadata": {},
   "outputs": [
    {
     "data": {
      "text/plain": [
       "'nutnuT'"
      ]
     },
     "execution_count": 52,
     "metadata": {},
     "output_type": "execute_result"
    }
   ],
   "source": [
    "# 3 Ans:\n",
    "# taken a string 'Tuntun' and store in variable \"s\"\n",
    "s3 = 'Tuntun'\n",
    "\n",
    "# reversing using slicing method\n",
    "s3[::-1]"
   ]
  },
  {
   "cell_type": "code",
   "execution_count": null,
   "id": "ff38e5d7-c3d1-4496-a7e6-34f1c409daa7",
   "metadata": {},
   "outputs": [],
   "source": [
    "4. Write a program that takes a string as input and checks if it is a\n",
    "palindrome (reads the same forwards and backwards)."
   ]
  },
  {
   "cell_type": "code",
   "execution_count": 45,
   "id": "f98c1b82-1d30-4c14-9c90-04649223c6b7",
   "metadata": {},
   "outputs": [
    {
     "name": "stdin",
     "output_type": "stream",
     "text": [
      "Enter a string: tun\n"
     ]
    },
    {
     "name": "stdout",
     "output_type": "stream",
     "text": [
      "it's not a pallindrome\n"
     ]
    }
   ],
   "source": [
    "#4 Ans.\n",
    "# Taking string input from user\n",
    "s4 = input(\"Enter a string:\")\n",
    "\n",
    "#checking the pallindrome\n",
    "if s4 == s4[::-1]:\n",
    "    print(\"It's a Pallindrome\")\n",
    "else:\n",
    "    print(\"it's not a pallindrome\")\n",
    "    "
   ]
  },
  {
   "cell_type": "code",
   "execution_count": null,
   "id": "3d35ccb3-7366-4510-b85f-38df880a9bfd",
   "metadata": {},
   "outputs": [],
   "source": [
    "5. Create a program that takes a string as input and removes all the\n",
    "spaces from it. Print the modified string without spaces."
   ]
  },
  {
   "cell_type": "code",
   "execution_count": 53,
   "id": "a5a55eee-47c5-4b8e-ab78-e296f298fb3b",
   "metadata": {},
   "outputs": [
    {
     "name": "stdin",
     "output_type": "stream",
     "text": [
      "Enter a string: Tu n Tu n\n"
     ]
    },
    {
     "data": {
      "text/plain": [
       "'TunTun'"
      ]
     },
     "execution_count": 53,
     "metadata": {},
     "output_type": "execute_result"
    }
   ],
   "source": [
    "#5. Ans \n",
    "# taking string from user\n",
    "s5 = input(\"Enter a string:\")\n",
    "\n",
    "#removing space from the string\n",
    "s5.replace(\" \", \"\")\n"
   ]
  },
  {
   "cell_type": "code",
   "execution_count": null,
   "id": "002b8e6f-f7c9-4e85-aadf-1629465ed5c4",
   "metadata": {},
   "outputs": [],
   "source": []
  }
 ],
 "metadata": {
  "kernelspec": {
   "display_name": "Python 3 (ipykernel)",
   "language": "python",
   "name": "python3"
  },
  "language_info": {
   "codemirror_mode": {
    "name": "ipython",
    "version": 3
   },
   "file_extension": ".py",
   "mimetype": "text/x-python",
   "name": "python",
   "nbconvert_exporter": "python",
   "pygments_lexer": "ipython3",
   "version": "3.10.9"
  }
 },
 "nbformat": 4,
 "nbformat_minor": 5
}
