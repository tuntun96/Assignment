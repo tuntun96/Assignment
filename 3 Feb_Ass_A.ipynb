{
 "cells": [
  {
   "cell_type": "code",
   "execution_count": null,
   "id": "9f08e43e-3500-48dd-96d9-e41e53cecd10",
   "metadata": {},
   "outputs": [],
   "source": [
    "Q1. Which keyword is used to create a function? Create a function to return a list of odd numbers in the range of 1 to 25."
   ]
  },
  {
   "cell_type": "code",
   "execution_count": 169,
   "id": "5e7259c8-ecaf-4d42-a5a1-18f7e78bec85",
   "metadata": {},
   "outputs": [],
   "source": [
    "# 1. Ans:- def Keyword is used to crate a function.\n",
    "def testodd():\n",
    "    \"\"\" This is function to Extract the ODD number\"\"\"\n",
    "    for i in range(1,25):\n",
    "        if i%2 != 0:\n",
    "            print(i, end=\", \")  "
   ]
  },
  {
   "cell_type": "code",
   "execution_count": 170,
   "id": "0ac84472-cde0-48af-81bf-c16cac6c5e44",
   "metadata": {},
   "outputs": [
    {
     "name": "stdout",
     "output_type": "stream",
     "text": [
      "1, 3, 5, 7, 9, 11, 13, 15, 17, 19, 21, 23, "
     ]
    }
   ],
   "source": [
    "testodd()"
   ]
  },
  {
   "cell_type": "code",
   "execution_count": null,
   "id": "7c5ccab0-c9e2-4d65-baaa-4246ada5c6ba",
   "metadata": {},
   "outputs": [],
   "source": [
    "Q2. Why *args and **kwargs is used in some functions? Create a function each for *args and **kwargs to demonstrate their use."
   ]
  },
  {
   "cell_type": "code",
   "execution_count": 171,
   "id": "4044c592-1810-4500-999d-a3c23d9c1825",
   "metadata": {
    "tags": []
   },
   "outputs": [],
   "source": [
    "# 2. Ans:- *args is used to pass the multiple data at same time and it's return the data as a tuple.\n",
    "#          **kwargs used to pass the data in key value pair and it's return in dictonary data type.\n",
    "\n",
    "def testargs(*args):\n",
    "    return args\n",
    "def testkwargs(**kwargs):\n",
    "    return kwargs"
   ]
  },
  {
   "cell_type": "code",
   "execution_count": 172,
   "id": "d26f86e7-a14a-4423-b7b8-eb333be947d9",
   "metadata": {},
   "outputs": [
    {
     "data": {
      "text/plain": [
       "(1, 2, 3, [3, 4.55], 'Tuntun', True, (5+5j))"
      ]
     },
     "execution_count": 172,
     "metadata": {},
     "output_type": "execute_result"
    }
   ],
   "source": [
    "testargs(1,2,3, [3, 4.55], \"Tuntun\", True, 5+5j)"
   ]
  },
  {
   "cell_type": "code",
   "execution_count": 173,
   "id": "d4bdc4e4-eed7-478b-8e22-6472074af21c",
   "metadata": {},
   "outputs": [
    {
     "data": {
      "text/plain": [
       "{'t': (1, 3, 4), 'u': 'Tuntun'}"
      ]
     },
     "execution_count": 173,
     "metadata": {},
     "output_type": "execute_result"
    }
   ],
   "source": [
    "testkwargs(t = ( 1,3,4,), u = \"Tuntun\")"
   ]
  },
  {
   "cell_type": "code",
   "execution_count": null,
   "id": "0237fa74-d2ff-4e0d-abd4-d6b22f981baa",
   "metadata": {},
   "outputs": [],
   "source": [
    "Q3. What is an iterator in python? Name the method used to initialise the iterator object and the method used for iteration. Use these\n",
    "methods to print the first five elements of the given list [2, 4, 6, 8, 10, 12, 14, 16, 18, 20]."
   ]
  },
  {
   "cell_type": "code",
   "execution_count": 174,
   "id": "74ca9cab-fb0e-4f14-b0f2-82521b377903",
   "metadata": {},
   "outputs": [
    {
     "name": "stdout",
     "output_type": "stream",
     "text": [
      "2\n",
      "4\n",
      "6\n",
      "8\n",
      "10\n"
     ]
    }
   ],
   "source": [
    "# Ans :- It's an object that allows to iterate over the collection of data like list, Tuple.\n",
    "#        to initialise iterator we use iter() method and for iteration we use next().\n",
    "l =  [2, 4, 6, 8, 10, 12, 14, 16, 18, 20]\n",
    "l1 = iter(l)\n",
    "print(next(l1))\n",
    "print(next(l1))\n",
    "print(next(l1))\n",
    "print(next(l1))\n",
    "print(next(l1))"
   ]
  },
  {
   "cell_type": "code",
   "execution_count": null,
   "id": "35bd194a-bcac-4823-a375-f33d32aa714e",
   "metadata": {},
   "outputs": [],
   "source": [
    "Q4. What is a generator function in python? Why yield keyword is used? Give an example of a generator function."
   ]
  },
  {
   "cell_type": "code",
   "execution_count": 176,
   "id": "810e2dcc-8b3e-40ee-9601-826b1a357cef",
   "metadata": {},
   "outputs": [],
   "source": [
    "# 4 Ans:- Generator Function allows to declare a function that behaves like an iterator. it provides a faster and easier way to create \n",
    "# iterator, because it returns data without holding/storing the data.\n",
    "#         yiels keyword is used to create the generator function.\n",
    "def _testeven_(l):\n",
    "    a, b = 1, 2\n",
    "    for i in l:\n",
    "        yield a\n",
    "        a,b = b, a*b\n",
    "    "
   ]
  },
  {
   "cell_type": "code",
   "execution_count": 177,
   "id": "31b06af8-b2d9-4243-934d-7cc04d4b724b",
   "metadata": {},
   "outputs": [],
   "source": [
    "mul = _testeven_(l)"
   ]
  },
  {
   "cell_type": "code",
   "execution_count": 178,
   "id": "bdc04a8c-c99a-4cd0-b91c-67fd4a3f9ff0",
   "metadata": {},
   "outputs": [
    {
     "name": "stdout",
     "output_type": "stream",
     "text": [
      "1\n",
      "2\n",
      "2\n",
      "4\n",
      "8\n"
     ]
    }
   ],
   "source": [
    "for i in range(5):\n",
    "    print(next(mul))"
   ]
  },
  {
   "cell_type": "code",
   "execution_count": 179,
   "id": "4df64767-8e15-4cc0-8d4f-b8af9c555aa5",
   "metadata": {},
   "outputs": [],
   "source": [
    "# Q5. Create a generator function for prime numbers less than 1000. Use the next() method to print the first 20 prime numbers.\n",
    "           \n",
    "def test_prime_(l):\n",
    "    prime = 3\n",
    "    for i in range(l):\n",
    "        for i in range(1, prime):\n",
    "            if prime % i != 0:\n",
    "                    yield prime\n",
    "                    prime = prime + 1\n",
    "                    break\n",
    "            "
   ]
  },
  {
   "cell_type": "code",
   "execution_count": 180,
   "id": "81466cd2-d452-480f-983a-426eb7c3f211",
   "metadata": {},
   "outputs": [
    {
     "name": "stdout",
     "output_type": "stream",
     "text": [
      "3\n",
      "4\n",
      "5\n",
      "6\n",
      "7\n",
      "8\n",
      "9\n",
      "10\n",
      "11\n",
      "12\n",
      "13\n",
      "14\n",
      "15\n",
      "16\n",
      "17\n",
      "18\n",
      "19\n",
      "20\n",
      "21\n",
      "22\n"
     ]
    }
   ],
   "source": [
    "test = test_prime_(20)\n",
    "for i in test_prime_(20):\n",
    "    print(next(test))"
   ]
  },
  {
   "cell_type": "code",
   "execution_count": 181,
   "id": "a1509675-55ae-434e-9585-e87706875a0f",
   "metadata": {},
   "outputs": [],
   "source": [
    "# Q6. Write a python program to print the first 10 Fibonacci numbers using a while loop."
   ]
  },
  {
   "cell_type": "code",
   "execution_count": 183,
   "id": "d5808ae9-5fde-4fef-bf77-d7f53ad4e50b",
   "metadata": {},
   "outputs": [],
   "source": [
    "def test_fib():\n",
    "    a, b = 0, 1\n",
    "    while True:\n",
    "        yield a\n",
    "        a,b = b,a+b"
   ]
  },
  {
   "cell_type": "code",
   "execution_count": 184,
   "id": "b047278b-f8c5-4437-a429-cb5070098c07",
   "metadata": {},
   "outputs": [
    {
     "name": "stdout",
     "output_type": "stream",
     "text": [
      "0\n",
      "1\n",
      "1\n",
      "2\n",
      "3\n",
      "5\n",
      "8\n",
      "13\n",
      "21\n",
      "34\n"
     ]
    }
   ],
   "source": [
    "fib = test_fib()\n",
    "\n",
    "for i in range(10):\n",
    "    print(next(fib))"
   ]
  },
  {
   "cell_type": "code",
   "execution_count": null,
   "id": "19c9a967-5422-4ae1-bd82-fb036426012b",
   "metadata": {},
   "outputs": [],
   "source": [
    "# Q7. Write a List Comprehension to iterate through the given string: ‘pwskills’.\n",
    "# Expected output: ['p', 'w', 's', 'k', 'i', 'l', 'l', 's']"
   ]
  },
  {
   "cell_type": "code",
   "execution_count": 185,
   "id": "423273fc-dd3c-436d-9f42-6bafc1a27070",
   "metadata": {},
   "outputs": [
    {
     "data": {
      "text/plain": [
       "['p', 'w', 's', 'k', 'i', 'l', 'l', 's']"
      ]
     },
     "execution_count": 185,
     "metadata": {},
     "output_type": "execute_result"
    }
   ],
   "source": [
    "l = \"pwskills\"\n",
    "l1 = []\n",
    "for i in l:\n",
    "    l1.append(i)\n",
    "l1    \n",
    "    "
   ]
  },
  {
   "cell_type": "code",
   "execution_count": null,
   "id": "ad6d5b5d-5da9-44ff-97c7-f900a6a0dc2c",
   "metadata": {},
   "outputs": [],
   "source": [
    "Q8. Write a python program to check whether a given number is Palindrome or not using a while loop."
   ]
  },
  {
   "cell_type": "code",
   "execution_count": 186,
   "id": "1bb62e7f-4b60-425e-890a-acdbd24d2e5c",
   "metadata": {},
   "outputs": [
    {
     "name": "stdin",
     "output_type": "stream",
     "text": [
      "Enter Number: 121\n"
     ]
    },
    {
     "name": "stdout",
     "output_type": "stream",
     "text": [
      " It's a Palindrome\n"
     ]
    }
   ],
   "source": [
    "n = (input(\"Enter Number:\"))\n",
    "while n == n[::-1]:\n",
    "    print(\" It's a Palindrome\")\n",
    "    break\n",
    "while n != n[::-1]:\n",
    "    print(\"it's not a Palindrome\")\n",
    "    break"
   ]
  },
  {
   "cell_type": "code",
   "execution_count": null,
   "id": "90edd9a2-cbc5-4935-a105-5dfdf28c382f",
   "metadata": {},
   "outputs": [],
   "source": [
    "# Q9. Write a code to print odd numbers from 1 to 100 using list comprehension."
   ]
  },
  {
   "cell_type": "code",
   "execution_count": 187,
   "id": "ddede06e-9438-4d4b-9429-a8d104e289d0",
   "metadata": {},
   "outputs": [
    {
     "name": "stdout",
     "output_type": "stream",
     "text": [
      "[1, 3, 5, 7, 9, 11, 13, 15, 17, 19, 21, 23, 25, 27, 29, 31, 33, 35, 37, 39, 41, 43, 45, 47, 49, 51, 53, 55, 57, 59, 61, 63, 65, 67, 69, 71, 73, 75, 77, 79, 81, 83, 85, 87, 89, 91, 93, 95, 97, 99] "
     ]
    }
   ],
   "source": [
    "l = []\n",
    "l1 =[]\n",
    "for i in range(1, 100):\n",
    "    l.append(i)\n",
    "    if i % 2 != 0:\n",
    "        l1.append(i)\n",
    "print(l1, end=\" \")  "
   ]
  },
  {
   "cell_type": "code",
   "execution_count": null,
   "id": "c45655e1-0020-47b7-97af-dd019e51361d",
   "metadata": {},
   "outputs": [],
   "source": []
  }
 ],
 "metadata": {
  "kernelspec": {
   "display_name": "Python 3 (ipykernel)",
   "language": "python",
   "name": "python3"
  },
  "language_info": {
   "codemirror_mode": {
    "name": "ipython",
    "version": 3
   },
   "file_extension": ".py",
   "mimetype": "text/x-python",
   "name": "python",
   "nbconvert_exporter": "python",
   "pygments_lexer": "ipython3",
   "version": "3.10.9"
  }
 },
 "nbformat": 4,
 "nbformat_minor": 5
}
