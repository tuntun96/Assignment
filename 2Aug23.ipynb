{
 "cells": [
  {
   "cell_type": "code",
   "execution_count": null,
   "id": "6a39af56-811b-48cc-93ee-81fcb784ef92",
   "metadata": {},
   "outputs": [],
   "source": [
    "#Basic Level:\n",
    "#1. Write a Python program to print the numbers from 1 to 10 using a `for` loop."
   ]
  },
  {
   "cell_type": "code",
   "execution_count": 5,
   "id": "5650a380-1dfa-46e0-a184-f1d4d378e9c4",
   "metadata": {},
   "outputs": [
    {
     "name": "stdout",
     "output_type": "stream",
     "text": [
      "1\n",
      "2\n",
      "3\n",
      "4\n",
      "5\n",
      "6\n",
      "7\n",
      "8\n",
      "9\n",
      "10\n"
     ]
    }
   ],
   "source": [
    "for i in range(1,11): \n",
    "    print(i)"
   ]
  },
  {
   "cell_type": "code",
   "execution_count": null,
   "id": "ab60a6dc-d70d-4f95-bfd2-421a9059a738",
   "metadata": {},
   "outputs": [],
   "source": [
    "#2. Create a program that calculates the sum of all numbers in a list using a `for` loop."
   ]
  },
  {
   "cell_type": "code",
   "execution_count": 12,
   "id": "85d0f42c-334c-4176-a919-8107001a04fd",
   "metadata": {},
   "outputs": [
    {
     "name": "stdout",
     "output_type": "stream",
     "text": [
      "The sum of list :  15\n"
     ]
    }
   ],
   "source": [
    "m_lst = [1,2,3,4,5]\n",
    "sum_lst = 0\n",
    "for i in m_lst:\n",
    "    sum_lst = sum_lst+i\n",
    "    \n",
    "print(\"The sum of list : \",sum_lst)"
   ]
  },
  {
   "cell_type": "code",
   "execution_count": null,
   "id": "a0d9ae52-26d5-4d44-9986-6dc2b89945fb",
   "metadata": {},
   "outputs": [],
   "source": [
    "#3. Write a program to print the characters of a string in reverse order using a `for` loop."
   ]
  },
  {
   "cell_type": "code",
   "execution_count": 33,
   "id": "3caf3b0c-b189-47ec-b675-d42224d93cb0",
   "metadata": {},
   "outputs": [
    {
     "name": "stdout",
     "output_type": "stream",
     "text": [
      "Reversed string : nutnuT\n"
     ]
    }
   ],
   "source": [
    "m_str = \"Tuntun\"\n",
    "reversed_str = \"\"\n",
    "for i in range(1, len(m_str) + 1):\n",
    "    reversed_str += m_str[len(m_str) - i]\n",
    "print(\"Reversed string :\",reversed_str)    \n"
   ]
  },
  {
   "cell_type": "code",
   "execution_count": null,
   "id": "6e08d1e8-cd20-4eca-8ba9-634bf27d9955",
   "metadata": {},
   "outputs": [],
   "source": [
    "#4. Develop a program that finds the factorial of a given number using a `for` loop."
   ]
  },
  {
   "cell_type": "code",
   "execution_count": 40,
   "id": "30e85b05-e2a5-4c2b-b64f-c55250b25871",
   "metadata": {},
   "outputs": [
    {
     "name": "stdin",
     "output_type": "stream",
     "text": [
      "Enter number 5\n"
     ]
    },
    {
     "name": "stdout",
     "output_type": "stream",
     "text": [
      "Factorial of 5 : 120\n"
     ]
    }
   ],
   "source": [
    "n = int(input(\"Enter number\"))\n",
    "fac = 1\n",
    "for i in range(1,n+1):\n",
    "    fac *= i\n",
    "print(f\"Factorial of {n} :\",fac)"
   ]
  },
  {
   "cell_type": "code",
   "execution_count": null,
   "id": "f587dcbe-a190-495d-8aa3-a1b636ba1bb3",
   "metadata": {},
   "outputs": [],
   "source": [
    "#5. Create a program to print the multiplication table of a given number using a `for` loop."
   ]
  },
  {
   "cell_type": "code",
   "execution_count": 44,
   "id": "a061aeb0-0536-4ddc-ad5f-679e644183e5",
   "metadata": {},
   "outputs": [
    {
     "name": "stdin",
     "output_type": "stream",
     "text": [
      "Enter number to generate a table 5\n"
     ]
    },
    {
     "name": "stdout",
     "output_type": "stream",
     "text": [
      "5 x 1 :  5\n",
      "5 x 2 :  10\n",
      "5 x 3 :  15\n",
      "5 x 4 :  20\n",
      "5 x 5 :  25\n",
      "5 x 6 :  30\n",
      "5 x 7 :  35\n",
      "5 x 8 :  40\n",
      "5 x 9 :  45\n",
      "5 x 10 :  50\n"
     ]
    }
   ],
   "source": [
    "n = int(input(\"Enter number to generate a table\"))\n",
    "f =1\n",
    "for i in range(1,11):\n",
    "    print(f\"{n} x {i} : \",n*i)\n",
    "    "
   ]
  },
  {
   "cell_type": "code",
   "execution_count": null,
   "id": "45d29d3e-c4ca-45d9-b14d-a23f46ce5d89",
   "metadata": {},
   "outputs": [],
   "source": [
    "#6. Write a program that counts the number of even and odd numbers in a list using a `for` loop."
   ]
  },
  {
   "cell_type": "code",
   "execution_count": 46,
   "id": "51e4c611-9c19-4d20-969b-f6cc809cb03f",
   "metadata": {},
   "outputs": [
    {
     "name": "stdout",
     "output_type": "stream",
     "text": [
      "Count of even number 4\n",
      "Count of odd number 3\n"
     ]
    }
   ],
   "source": [
    "m_lst = [1,2,3,4,4,5,6]\n",
    "e_count = 0\n",
    "o_count = 0\n",
    "for i in m_lst:\n",
    "    if i%2 == 0:\n",
    "        e_count += 1\n",
    "    else:\n",
    "        o_count += 1\n",
    "print(\"Count of even number\", e_count)        \n",
    "print(\"Count of odd number\", o_count)        "
   ]
  },
  {
   "cell_type": "code",
   "execution_count": null,
   "id": "ca737fa4-f53d-4296-b629-05bd223fcb85",
   "metadata": {},
   "outputs": [],
   "source": [
    "#7. Develop a program that prints the squares of numbers from 1 to 5 using a `for` loop."
   ]
  },
  {
   "cell_type": "code",
   "execution_count": 48,
   "id": "6e9560bf-b099-4e36-b5ea-93b057f7d953",
   "metadata": {},
   "outputs": [
    {
     "name": "stdout",
     "output_type": "stream",
     "text": [
      "Squared list : [1, 4, 9, 16, 25]\n"
     ]
    }
   ],
   "source": [
    "r_lst = []\n",
    "for i in range(1,6):\n",
    "    r_lst.append(i**2)\n",
    "print(\"Squared list :\", r_lst) "
   ]
  },
  {
   "cell_type": "code",
   "execution_count": null,
   "id": "3c2c4abb-16d5-48e7-a6b7-474583891c35",
   "metadata": {},
   "outputs": [],
   "source": [
    "#8. Create a program to find the length of a string without using the `len()` function."
   ]
  },
  {
   "cell_type": "code",
   "execution_count": 49,
   "id": "26df22df-28f2-45c3-8a22-937043124a43",
   "metadata": {},
   "outputs": [
    {
     "name": "stdout",
     "output_type": "stream",
     "text": [
      "Count of string : 18\n"
     ]
    }
   ],
   "source": [
    "m_str = \"This is a new code\"\n",
    "l_count = 0\n",
    "for i in m_str:\n",
    "    l_count += 1\n",
    "print(\"Count of string :\",l_count)    "
   ]
  },
  {
   "cell_type": "code",
   "execution_count": null,
   "id": "ee2e5943-e344-4597-8094-25c2b3875564",
   "metadata": {},
   "outputs": [],
   "source": [
    "#9. Write a program that calculates the average of a list of numbers using a `for` loop."
   ]
  },
  {
   "cell_type": "code",
   "execution_count": 50,
   "id": "8859b2fb-d192-4db6-8e21-b7f915992660",
   "metadata": {},
   "outputs": [
    {
     "name": "stdout",
     "output_type": "stream",
     "text": [
      " The averange of list numbers: 3.5\n"
     ]
    }
   ],
   "source": [
    "lst = [1,2,3,4,5,6]\n",
    "sum_lst = 0\n",
    "for i in lst:\n",
    "    sum_lst += i\n",
    "print(\" The averange of list numbers:\", sum_lst/len(lst))    "
   ]
  },
  {
   "cell_type": "code",
   "execution_count": null,
   "id": "7c753a99-2a9f-429b-a41c-d08ac3ace839",
   "metadata": {},
   "outputs": [],
   "source": [
    "#10. Develop a program that prints the first `n` Fibonacci numbers using a `for` loop."
   ]
  },
  {
   "cell_type": "code",
   "execution_count": 55,
   "id": "81df6644-9d97-45ad-8fe1-c4302e05e639",
   "metadata": {},
   "outputs": [
    {
     "name": "stdin",
     "output_type": "stream",
     "text": [
      "Enter count of numbers to generate 10\n"
     ]
    },
    {
     "name": "stdout",
     "output_type": "stream",
     "text": [
      " The generated fabonicc series : [0, 1, 1, 2, 3, 5, 8, 13, 21, 34]\n"
     ]
    }
   ],
   "source": [
    "n = int(input(\"Enter count of numbers to generate\"))\n",
    "fab =  [0,1]\n",
    "for i in range(2,n):\n",
    "    fab.append(fab[-1] + fab[-2])\n",
    "\n",
    "print(f\" The generated fabonicc series :\", fab)"
   ]
  },
  {
   "cell_type": "code",
   "execution_count": null,
   "id": "da99b5f8-9558-4dc5-bc63-fe246430f294",
   "metadata": {},
   "outputs": [],
   "source": [
    "#11. Write a program to check if a given list contains any duplicates using a `for` loop."
   ]
  },
  {
   "cell_type": "code",
   "execution_count": 21,
   "id": "d8444216-6277-4830-b25d-782c9b7640d8",
   "metadata": {},
   "outputs": [
    {
     "name": "stdout",
     "output_type": "stream",
     "text": [
      "[1, 2, 5, 9]\n"
     ]
    }
   ],
   "source": [
    "lis = [1, 2, 1, 2, 3, 4, 5, 1, 1, 2, 5, 6, 7, 8, 9, 9]\n",
    " \n",
    "uniqueList = []\n",
    "duplicateList = []\n",
    " \n",
    "for i in lis:\n",
    "    if i not in uniqueList:\n",
    "        uniqueList.append(i) # add to unique list if not in unique list\n",
    "\n",
    "\n",
    "    # 2nd check \n",
    "    elif i not in duplicateList:\n",
    "        duplicateList.append(i)\n",
    "        \n",
    " \n",
    "print(duplicateList)"
   ]
  },
  {
   "cell_type": "code",
   "execution_count": null,
   "id": "f7b544f9-2d9e-40a9-a84f-b2ba7615a6c4",
   "metadata": {},
   "outputs": [],
   "source": [
    "#12. Create a program that prints the prime numbers in a given range using a `for` loop."
   ]
  },
  {
   "cell_type": "code",
   "execution_count": 18,
   "id": "c892f7f9-cad6-4f30-84ae-a73cc35564c5",
   "metadata": {},
   "outputs": [
    {
     "name": "stdin",
     "output_type": "stream",
     "text": [
      "Enter prime no. range 100\n"
     ]
    },
    {
     "name": "stdout",
     "output_type": "stream",
     "text": [
      "2 3 5 7 11 13 17 19 23 29 31 37 41 43 47 53 59 61 67 71 73 79 83 89 97 "
     ]
    }
   ],
   "source": [
    "def isprime(n):\n",
    "    if (n == 0 or n == 1): # because 0 & 1 is not a prime no.\n",
    "        return False\n",
    "        \n",
    "    for i in range(2,n): # if n devisible by i then it's not a prime no.\n",
    "        if n%i == 0:\n",
    "            return False\n",
    "            \n",
    "    return True   # otherwise it's a prime no.\n",
    "\n",
    "\n",
    "N = int(input(\"Enter prime no. range\")  )  \n",
    "# chec for every no.\n",
    "for i in range( 1, N+1):\n",
    "    # check for i is a prime no.\n",
    "    if (isprime(i)):\n",
    "        print(i, end = \" \") # print the prime no."
   ]
  },
  {
   "cell_type": "code",
   "execution_count": null,
   "id": "59733c8d-d4ae-49a0-b585-e8e6d68f97bc",
   "metadata": {},
   "outputs": [],
   "source": [
    "#13. Develop a program that counts the number of vowels in a string using a `for` loop."
   ]
  },
  {
   "cell_type": "code",
   "execution_count": 57,
   "id": "1e5bd6cd-6e0a-4530-90fa-b900b2d88e6e",
   "metadata": {},
   "outputs": [
    {
     "name": "stdout",
     "output_type": "stream",
     "text": [
      "The count of vowel : 9\n"
     ]
    }
   ],
   "source": [
    "strr = \"The is new code to check vowel\"\n",
    "strr_l = strr.lower()\n",
    "str_v = \"aeiou\"\n",
    "count_vow = 0\n",
    "for i in strr_l:\n",
    "    if i in str_v:\n",
    "        count_vow += 1\n",
    "print(\"The count of vowel :\", count_vow)  "
   ]
  },
  {
   "cell_type": "code",
   "execution_count": null,
   "id": "96257e57-b420-447e-907e-61fd6f07531e",
   "metadata": {},
   "outputs": [],
   "source": [
    "#14. Write a program to find the maximum element in a 2D list using a nested `for` loop."
   ]
  },
  {
   "cell_type": "code",
   "execution_count": 7,
   "id": "9c161eb4-6f8b-4296-af43-b136de7e1488",
   "metadata": {},
   "outputs": [
    {
     "name": "stdout",
     "output_type": "stream",
     "text": [
      "The maximum number is: 8\n"
     ]
    }
   ],
   "source": [
    "# 2D lsit\n",
    "max_lst = [[1,2,3,4,5], [5,6,7,8]]\n",
    "max_num = 0  # defined the max list\n",
    "\n",
    "# iterating the max_lst\n",
    "for i in max_lst:\n",
    "    \n",
    "    for j in i: # iterating the nested lst\n",
    "        if j > max_num:   # chcking the mumber with max number\n",
    "            max_num = j\n",
    "print(\"The maximum number is:\", max_num)  "
   ]
  },
  {
   "cell_type": "code",
   "execution_count": null,
   "id": "2032400d-387f-4681-bb3e-fc3ef79bb95f",
   "metadata": {},
   "outputs": [],
   "source": [
    "#15. Create a program that removes all occurrences of a specific element from a list using a `for` loop."
   ]
  },
  {
   "cell_type": "code",
   "execution_count": 60,
   "id": "209df73e-668a-46e3-8571-0e9b8588a524",
   "metadata": {},
   "outputs": [
    {
     "name": "stdin",
     "output_type": "stream",
     "text": [
      "Enter a element to remove from the list is\n"
     ]
    },
    {
     "name": "stdout",
     "output_type": "stream",
     "text": [
      "Atfer removed all occurrences is: ['This', 'a', 'new', 'for', 'loop', 'a']\n"
     ]
    }
   ],
   "source": [
    "my_lst = [\"This\", 'is', 'a', 'new', 'for', 'loop', 'is', 'a']\n",
    "specific_word = input(\"Enter a element to remove from the list\")\n",
    "for i in my_lst:\n",
    "    if i == specific_word:\n",
    "        my_lst.remove(i)\n",
    "print(f\"Atfer removed all occurrences {specific_word}:\",my_lst)  "
   ]
  },
  {
   "cell_type": "code",
   "execution_count": null,
   "id": "e0bb1e71-42d1-4209-81c5-fb0d39718cac",
   "metadata": {},
   "outputs": [],
   "source": [
    "#16. Develop a program that generates a multiplication table for numbers from 1 to 5 using a nested `for` loop."
   ]
  },
  {
   "cell_type": "code",
   "execution_count": 29,
   "id": "a54f109a-b555-4820-8f12-4d86391fea10",
   "metadata": {},
   "outputs": [
    {
     "name": "stdout",
     "output_type": "stream",
     "text": [
      "1 X 1 : 1\n",
      "1 X 2 : 2\n",
      "1 X 3 : 3\n",
      "1 X 4 : 4\n",
      "1 X 5 : 5\n",
      "1 X 6 : 6\n",
      "1 X 7 : 7\n",
      "1 X 8 : 8\n",
      "1 X 9 : 9\n",
      "1 X 10 : 10\n",
      "\n",
      "2 X 1 : 2\n",
      "2 X 2 : 4\n",
      "2 X 3 : 6\n",
      "2 X 4 : 8\n",
      "2 X 5 : 10\n",
      "2 X 6 : 12\n",
      "2 X 7 : 14\n",
      "2 X 8 : 16\n",
      "2 X 9 : 18\n",
      "2 X 10 : 20\n",
      "\n",
      "3 X 1 : 3\n",
      "3 X 2 : 6\n",
      "3 X 3 : 9\n",
      "3 X 4 : 12\n",
      "3 X 5 : 15\n",
      "3 X 6 : 18\n",
      "3 X 7 : 21\n",
      "3 X 8 : 24\n",
      "3 X 9 : 27\n",
      "3 X 10 : 30\n",
      "\n",
      "4 X 1 : 4\n",
      "4 X 2 : 8\n",
      "4 X 3 : 12\n",
      "4 X 4 : 16\n",
      "4 X 5 : 20\n",
      "4 X 6 : 24\n",
      "4 X 7 : 28\n",
      "4 X 8 : 32\n",
      "4 X 9 : 36\n",
      "4 X 10 : 40\n",
      "\n",
      "5 X 1 : 5\n",
      "5 X 2 : 10\n",
      "5 X 3 : 15\n",
      "5 X 4 : 20\n",
      "5 X 5 : 25\n",
      "5 X 6 : 30\n",
      "5 X 7 : 35\n",
      "5 X 8 : 40\n",
      "5 X 9 : 45\n",
      "5 X 10 : 50\n",
      "\n"
     ]
    }
   ],
   "source": [
    "#Iterating the table from 1 to 5\n",
    "for i in range(1,6):\n",
    "    for j in range(1,11): # Interating 1 to 11 to get the 1 to 10\n",
    "        print(f'{i} X {j} :', i*j) # generate the table\n",
    "    print()    "
   ]
  },
  {
   "cell_type": "code",
   "execution_count": null,
   "id": "83dfbc57-d5e3-47dc-93aa-cb79454012ea",
   "metadata": {},
   "outputs": [],
   "source": [
    "#17. Write a program that converts a list of Fahrenheit temperatures to Celsius using a `for` loop."
   ]
  },
  {
   "cell_type": "code",
   "execution_count": 35,
   "id": "3597ef4c-4de1-4704-832e-3662e233e9f8",
   "metadata": {},
   "outputs": [
    {
     "name": "stdout",
     "output_type": "stream",
     "text": [
      "[10, 26, 35, 36, 37]\n"
     ]
    }
   ],
   "source": [
    "m_lst = [50,80,95,97,100] # Fahrenheit list\n",
    "celsius_lst = []\n",
    "# Iterate my m_lst\n",
    "for i in m_lst: \n",
    "    celsius_lst.append((i - 32) * 5//9) # convert the fahrenheit to celsius\n",
    "print(celsius_lst)    \n",
    "    "
   ]
  },
  {
   "cell_type": "code",
   "execution_count": null,
   "id": "a0c50cb3-955a-4bb1-ae2e-66eea60fa870",
   "metadata": {},
   "outputs": [],
   "source": [
    "#18. Create a program to print the common elements from two lists using a `for` loop."
   ]
  },
  {
   "cell_type": "code",
   "execution_count": 9,
   "id": "caf9e33f-a6ee-4a56-9267-b9ea9715c0de",
   "metadata": {},
   "outputs": [
    {
     "name": "stdout",
     "output_type": "stream",
     "text": [
      "The common element is: [2, 3, 4, 5, 6]\n"
     ]
    }
   ],
   "source": [
    "lst = [1,2,3,4,5,6,7]\n",
    "lst1 = [2,3,4,5,6,6,6]\n",
    "common_lst = []\n",
    "\n",
    "for i in lst :\n",
    "    if i in lst1:\n",
    "        common_lst.append(i)\n",
    "print(\"The common element is:\", common_lst)       "
   ]
  },
  {
   "cell_type": "code",
   "execution_count": null,
   "id": "ff0a935d-36ec-474a-b126-3175b6ff6345",
   "metadata": {},
   "outputs": [],
   "source": [
    "#19. Develop a program that prints the pattern of right-angled triangles using a `for` loop. Use ‘*’ to draw the\n",
    "#pattern"
   ]
  },
  {
   "cell_type": "code",
   "execution_count": 11,
   "id": "0df63742-4515-441c-8c51-d795ab463a94",
   "metadata": {},
   "outputs": [
    {
     "name": "stdin",
     "output_type": "stream",
     "text": [
      "Enter number to generate the pattern 10\n"
     ]
    },
    {
     "name": "stdout",
     "output_type": "stream",
     "text": [
      "\n",
      "* \n",
      "* * \n",
      "* * * \n",
      "* * * * \n",
      "* * * * * \n",
      "* * * * * * \n",
      "* * * * * * * \n",
      "* * * * * * * * \n",
      "* * * * * * * * * \n",
      "* * * * * * * * * * \n"
     ]
    }
   ],
   "source": [
    "# Take count of no. to generate the pattern\n",
    "n = int(input(\"Enter number to generate the pattern\"))\n",
    "# Interate the number \n",
    "for i in range(n+1):\n",
    "    for j in range(i): # iterate j in range of i\n",
    "        print(\"*\" ,end=(\" \")) # print the pattern\n",
    "        \n",
    "    print()    "
   ]
  },
  {
   "cell_type": "code",
   "execution_count": null,
   "id": "5ec4e7ce-7344-4401-96d9-af0c5012de81",
   "metadata": {},
   "outputs": [],
   "source": [
    "#20. Write a program to find the greatest common divisor (GCD) of two numbers using a `for` loop."
   ]
  },
  {
   "cell_type": "code",
   "execution_count": 28,
   "id": "085b234d-405f-45e8-8c49-e980499e8532",
   "metadata": {},
   "outputs": [
    {
     "name": "stdout",
     "output_type": "stream",
     "text": [
      "GCD of 25 and 50 is 25\n"
     ]
    }
   ],
   "source": [
    "# Python program to find GCD of two numbers\n",
    "\n",
    "\n",
    "# Recursive function to return gcd of a and b\n",
    "def gcd(a, b):\n",
    "\n",
    "    # Everything divides 0\n",
    "    if (a == 0):\n",
    "        return b\n",
    "    if (b == 0):\n",
    "        return a\n",
    "\n",
    "    # Base case\n",
    "    if (a == b):\n",
    "        return a\n",
    "\n",
    "    # a is greater\n",
    "    if (a > b):\n",
    "        return gcd(a-b, b)\n",
    "    return gcd(a, b-a)\n",
    "\n",
    "\n",
    "# Driver code\n",
    "if __name__ == '__main__':\n",
    "    a = 25\n",
    "    b =  50\n",
    "    if(gcd(a, b)):\n",
    "        print('GCD of', a, 'and', b, 'is', gcd(a, b))\n",
    "    else:\n",
    "        print('not found')\n"
   ]
  },
  {
   "cell_type": "code",
   "execution_count": null,
   "id": "727618d0-0b78-437f-bbaa-5ca3be55a8d3",
   "metadata": {},
   "outputs": [],
   "source": [
    " #21. Create a program that calculates the sum of the digits of numbers in a list using a list comprehension."
   ]
  },
  {
   "cell_type": "code",
   "execution_count": 42,
   "id": "09545734-0c5b-47e2-8b58-5f78eb97d2b3",
   "metadata": {},
   "outputs": [
    {
     "data": {
      "text/plain": [
       "[3, 6, 9, 15, 15]"
      ]
     },
     "execution_count": 42,
     "metadata": {},
     "output_type": "execute_result"
    }
   ],
   "source": [
    "lst = [12, 123, 432, 456, 456]\n",
    "\n",
    "sum_lst = list(map(lambda ele: sum(int(sub) for sub in str(ele)), lst))\n",
    "sum_lst"
   ]
  },
  {
   "cell_type": "code",
   "execution_count": null,
   "id": "218c460d-0f38-458c-91fa-63bde329055e",
   "metadata": {},
   "outputs": [],
   "source": [
    " #22. Write a program to find the prime factors of a given number using a `for` loop and list comprehension."
   ]
  },
  {
   "cell_type": "code",
   "execution_count": 49,
   "id": "a37a7777-ab20-4606-9648-287a1eba3945",
   "metadata": {},
   "outputs": [
    {
     "name": "stdout",
     "output_type": "stream",
     "text": [
      "5\n",
      "5\n",
      "13\n"
     ]
    }
   ],
   "source": [
    "\n",
    "import math\n",
    " \n",
    "def primeFactors(n):\n",
    "     \n",
    "    # Print the number of two's that divide n\n",
    "    while n % 2 == 0:\n",
    "        print (2),\n",
    "        n = n / 2\n",
    "         \n",
    "    # n must be odd at this point\n",
    "    # so a skip of 2 ( i = i + 2) can be used\n",
    "    for i in range(3,int(math.sqrt(n))+1,2):\n",
    "         \n",
    "        # while i divides n , print i and divide n\n",
    "        while n % i== 0:\n",
    "            print (i),\n",
    "            n = n / i\n",
    "             \n",
    "    # Condition if n is a prime\n",
    "    # number greater than 2\n",
    "    if n > 2:\n",
    "        print (n)\n",
    "         \n",
    "# Driver Program to test above function\n",
    " \n",
    "n = 325\n",
    "primeFactors(n)\n",
    " "
   ]
  },
  {
   "cell_type": "code",
   "execution_count": null,
   "id": "22673a15-a663-4e7b-b820-c4e6003e67e1",
   "metadata": {},
   "outputs": [],
   "source": [
    "# 23. Develop a program that extracts unique elements from a list and stores them in a new list using a list comprehension."
   ]
  },
  {
   "cell_type": "code",
   "execution_count": 61,
   "id": "4e135cb5-6e91-48a2-9801-d29766c8b410",
   "metadata": {},
   "outputs": [
    {
     "name": "stdout",
     "output_type": "stream",
     "text": [
      "1\n",
      "2\n",
      "3\n",
      "4\n",
      "13\n"
     ]
    }
   ],
   "source": [
    "\n",
    "def unique_lst(l):\n",
    "    unique_lst = []\n",
    "    for i in l:\n",
    "        if i not in unique_lst:\n",
    "            unique_lst.append(i)\n",
    "    return unique_lst        \n",
    "l = [1,2,3,4,13, 1, 2, 4, 3]\n",
    "\n",
    "for i in unique_lst(l):\n",
    "    print(i)"
   ]
  },
  {
   "cell_type": "code",
   "execution_count": null,
   "id": "60bb4646-e5cd-4c89-8c3d-4454825653e9",
   "metadata": {},
   "outputs": [],
   "source": [
    " #24. Create a program that generates a list of all palindromic numbers up to a specified limit using a list comprehension."
   ]
  },
  {
   "cell_type": "code",
   "execution_count": 70,
   "id": "1b3af89b-5b5a-4051-8ba9-b8b14ca36a39",
   "metadata": {},
   "outputs": [
    {
     "name": "stdin",
     "output_type": "stream",
     "text": [
      "Enter the limit 100\n"
     ]
    },
    {
     "name": "stdout",
     "output_type": "stream",
     "text": [
      "[0, 1, 2, 3, 4, 5, 6, 7, 8, 9, 11, 22, 33, 44, 55, 66, 77, 88, 99]\n"
     ]
    }
   ],
   "source": [
    "limit = int(input(\"Enter the limit\"))\n",
    "\n",
    "p_lst = [] # Store the palindrom\n",
    "\n",
    "for i in range(limit +1): # Iterating the lst\n",
    "    j = str(i)\n",
    "\n",
    "    # store it in palindro if the number is palindrom\n",
    "    if j == j[::-1]:  \n",
    "        p_lst.append(int(j))\n",
    "print(p_lst)        "
   ]
  },
  {
   "cell_type": "code",
   "execution_count": null,
   "id": "2b94216f-0cd7-4d57-9810-73267f842911",
   "metadata": {},
   "outputs": [],
   "source": [
    "# 25. Write a program to flatten a nested list using list comprehension."
   ]
  },
  {
   "cell_type": "code",
   "execution_count": 74,
   "id": "dde56469-8036-4c0a-a6ad-aded1f0f8bcd",
   "metadata": {},
   "outputs": [
    {
     "name": "stdout",
     "output_type": "stream",
     "text": [
      "[1, 3, 2, 3, 5, 222, 4, 3, 2, 2]\n"
     ]
    }
   ],
   "source": [
    "lst = [1,3,[2,3,5,], 222, 4,[3,2,2]]\n",
    "new_lst = []\n",
    "for i in lst:\n",
    "    if type(i) == int:\n",
    "        new_lst.append(i)\n",
    "    else:\n",
    "        for j in i:\n",
    "            new_lst.append(j)\n",
    "print(new_lst)            \n",
    "    "
   ]
  },
  {
   "cell_type": "code",
   "execution_count": null,
   "id": "74d9656c-8907-45d4-a232-13a94cca806d",
   "metadata": {},
   "outputs": [],
   "source": [
    "# 26. Develop a program that computes the sum of even and odd numbers in a list separately using list comprehension."
   ]
  },
  {
   "cell_type": "code",
   "execution_count": 76,
   "id": "117a83ae-2f65-4a59-b12b-7a7dd1d94de6",
   "metadata": {},
   "outputs": [
    {
     "name": "stdout",
     "output_type": "stream",
     "text": [
      " The Even Sum is 240 and odd sum 300\n"
     ]
    }
   ],
   "source": [
    "lst = [0, 1, 2, 3, 4, 5, 6, 7, 8, 9, 11, 22, 33, 44, 55, 66, 77, 88, 99]\n",
    "even_sum = 0\n",
    "odd_sum = 0\n",
    "for i in lst:\n",
    "    if i % 2 == 0:\n",
    "        even_sum += i\n",
    "    else:\n",
    "        odd_sum += i\n",
    "print(f\" The Even Sum is {even_sum} and odd sum {odd_sum}\")"
   ]
  },
  {
   "cell_type": "code",
   "execution_count": null,
   "id": "6ed526c2-27e8-48cb-b340-c0eb6c0d87e2",
   "metadata": {},
   "outputs": [],
   "source": [
    "# 27. Create a program that generates a list of squares of odd numbers between 1 and 10 using list comprehension."
   ]
  },
  {
   "cell_type": "code",
   "execution_count": 77,
   "id": "028a2f0b-3cdc-4531-b7ce-82e149d4a3e5",
   "metadata": {},
   "outputs": [
    {
     "name": "stdout",
     "output_type": "stream",
     "text": [
      "[1, 9, 25, 49, 81]\n"
     ]
    }
   ],
   "source": [
    "lst  = []\n",
    "for i in range(1, 11):\n",
    "    if i % 2 != 0:\n",
    "        lst.append(i**2)\n",
    "print(lst)   "
   ]
  },
  {
   "cell_type": "code",
   "execution_count": null,
   "id": "86a29de0-3610-4c81-8753-ce1db5c3ecd1",
   "metadata": {},
   "outputs": [],
   "source": [
    " #28. Write a program that combines two lists into a dictionary using list comprehension."
   ]
  },
  {
   "cell_type": "code",
   "execution_count": 79,
   "id": "9c79d933-5b78-47c0-8544-4738afe4ae87",
   "metadata": {},
   "outputs": [
    {
     "name": "stdout",
     "output_type": "stream",
     "text": [
      "The combined list {1: 'a', 2: 'b', 3: 'c', 4: 'd'}\n"
     ]
    }
   ],
   "source": [
    "key = [1,2,3,4]\n",
    "value = [\"a\", \"b\", 'c', 'd']\n",
    "com_dic = {key[i] : value[i] for i in range(len(key))}\n",
    "\n",
    "print(\"The combined list\", com_dic)\n"
   ]
  },
  {
   "cell_type": "code",
   "execution_count": null,
   "id": "5bce0fb2-4d9d-4882-8c1e-9290c092a57a",
   "metadata": {},
   "outputs": [],
   "source": [
    "# 29. Develop a program that extracts the vowels from a string and stores them in a list using list comprehension."
   ]
  },
  {
   "cell_type": "code",
   "execution_count": 88,
   "id": "70b4004f-78c0-4609-88a0-07ae3f3ddfff",
   "metadata": {},
   "outputs": [
    {
     "name": "stdout",
     "output_type": "stream",
     "text": [
      "['e', 'i', 'e', 'o', 'e', 'o', 'e', 'o', 'e']\n"
     ]
    }
   ],
   "source": [
    "lst = [\"The\", \"is\", \"new\", 'code', 'to', 'check' 'vowel']\n",
    "v = \"aeiouAEIOU\"\n",
    "v_lst= []\n",
    "for i in lst:\n",
    "    for j in i:\n",
    "        if j in v:\n",
    "            v_lst.append(j)\n",
    "        \n",
    "print(v_lst)       \n",
    "    "
   ]
  },
  {
   "cell_type": "code",
   "execution_count": null,
   "id": "a2e45c39-990c-4f54-b730-5b46162927f8",
   "metadata": {},
   "outputs": [],
   "source": [
    "# 30. Create a program that removes all non-numeric characters from a list of strings using list comprehension."
   ]
  },
  {
   "cell_type": "code",
   "execution_count": 95,
   "id": "291a4fd7-b1ef-4b96-80fa-fa0899275c6a",
   "metadata": {},
   "outputs": [
    {
     "name": "stdout",
     "output_type": "stream",
     "text": [
      "['123', '456', '789', '', '01234']\n"
     ]
    }
   ],
   "source": [
    "# Example list of strings\n",
    "strings = [\"abc123\", \"456def\", \"78ghi9\", \"xyz\", \"0abcd1234\"]\n",
    "\n",
    "# Remove all non-numeric characters using list comprehension\n",
    "cleaned_strings = [''.join([char for char in s if char.isdigit()]) for s in strings]\n",
    "\n",
    "# Output the resulting list of cleaned strings\n",
    "print(cleaned_strings)\n",
    "\n"
   ]
  },
  {
   "cell_type": "code",
   "execution_count": null,
   "id": "736eda97-905b-4ee3-9376-8e560b03f8c5",
   "metadata": {},
   "outputs": [],
   "source": [
    "#31. Write a program to generate a list of prime numbers using the Sieve of Eratosthenes algorithm and list comprehension."
   ]
  },
  {
   "cell_type": "code",
   "execution_count": 99,
   "id": "e87b8236-58c3-4cf8-8b51-0e2f7e18af7a",
   "metadata": {},
   "outputs": [
    {
     "name": "stdin",
     "output_type": "stream",
     "text": [
      "Enter the limit:  200\n"
     ]
    },
    {
     "name": "stdout",
     "output_type": "stream",
     "text": [
      "Prime numbers up to 200: [2, 3, 5, 7, 11, 13, 17, 19, 23, 29, 31, 37, 41, 43, 47, 53, 59, 61, 67, 71, 73, 79, 83, 89, 97, 101, 103, 107, 109, 113, 127, 131, 137, 139, 149, 151, 157, 163, 167, 173, 179, 181, 191, 193, 197, 199]\n"
     ]
    }
   ],
   "source": [
    "def sieve_of_eratosthenes(limit):\n",
    "    # Initialize a list of True values, where index represents numbers\n",
    "    primes = [True] * (limit + 1)\n",
    "    primes[0], primes[1] = False, False  # 0 and 1 are not prime numbers\n",
    "\n",
    "    # Perform the sieve algorithm\n",
    "    for i in range(2, int(limit ** 0.5) + 1):\n",
    "        if primes[i]:\n",
    "            # Mark multiples of the current number 'i' as False\n",
    "            for j in range(i * i, limit + 1, i):\n",
    "                primes[j] = False\n",
    "\n",
    "    # Use list comprehension to extract the prime numbers from the 'primes' list\n",
    "    return [num for num, is_prime in enumerate(primes) if is_prime]\n",
    "\n",
    "# Input: Specify the limit\n",
    "limit = int(input(\"Enter the limit: \"))\n",
    "\n",
    "# Generate the list of prime numbers\n",
    "prime_numbers = sieve_of_eratosthenes(limit)\n",
    "\n",
    "# Output: Print the prime numbers\n",
    "print(f\"Prime numbers up to {limit}: {prime_numbers}\")\n"
   ]
  },
  {
   "cell_type": "code",
   "execution_count": null,
   "id": "8da48406-b34f-40f9-b82d-e6e7238cca1a",
   "metadata": {},
   "outputs": [],
   "source": [
    "# 32. Create a program that generates a list of all Pythagorean triplets up to a specified limit using list comprehension"
   ]
  },
  {
   "cell_type": "code",
   "execution_count": 100,
   "id": "a2e785e6-373a-4aae-af7f-1ccef7e6bc8e",
   "metadata": {},
   "outputs": [
    {
     "name": "stdin",
     "output_type": "stream",
     "text": [
      "Enter the limit:  100\n"
     ]
    },
    {
     "name": "stdout",
     "output_type": "stream",
     "text": [
      "Pythagorean triplets up to 100: [(3, 4, 5), (6, 8, 10), (5, 12, 13), (9, 12, 15), (8, 15, 17), (12, 16, 20), (7, 24, 25), (15, 20, 25), (10, 24, 26), (20, 21, 29), (18, 24, 30), (16, 30, 34), (21, 28, 35), (12, 35, 37), (15, 36, 39), (24, 32, 40), (9, 40, 41), (27, 36, 45), (14, 48, 50), (30, 40, 50), (24, 45, 51), (20, 48, 52), (28, 45, 53), (33, 44, 55), (40, 42, 58), (36, 48, 60), (11, 60, 61), (16, 63, 65), (25, 60, 65), (33, 56, 65), (39, 52, 65), (32, 60, 68), (42, 56, 70), (48, 55, 73), (24, 70, 74), (21, 72, 75), (45, 60, 75), (30, 72, 78), (48, 64, 80), (18, 80, 82), (13, 84, 85), (36, 77, 85), (40, 75, 85), (51, 68, 85), (60, 63, 87), (39, 80, 89), (54, 72, 90), (35, 84, 91), (57, 76, 95), (65, 72, 97), (28, 96, 100), (60, 80, 100)]\n"
     ]
    }
   ],
   "source": [
    "def pythagorean_triplets(limit):\n",
    "    # Generate the Pythagorean triplets using list comprehension\n",
    "    return [(a, b, c) for c in range(1, limit + 1)\n",
    "            for a in range(1, c)\n",
    "            for b in range(a, c)\n",
    "            if a**2 + b**2 == c**2]\n",
    "\n",
    "# Input: Take the limit from the user\n",
    "limit = int(input(\"Enter the limit: \"))\n",
    "\n",
    "# Generate Pythagorean triplets\n",
    "triplets = pythagorean_triplets(limit)\n",
    "\n",
    "# Output: Print the list of Pythagorean triplets\n",
    "print(f\"Pythagorean triplets up to {limit}: {triplets}\")\n"
   ]
  },
  {
   "cell_type": "code",
   "execution_count": null,
   "id": "cb829ffb-22df-48b9-a338-8621590ab323",
   "metadata": {},
   "outputs": [],
   "source": [
    "#33. Develop a program that generates a list of all possible combinations of two lists using list comprehension."
   ]
  },
  {
   "cell_type": "code",
   "execution_count": 101,
   "id": "1139c184-8254-473c-8eeb-562b6e459e81",
   "metadata": {},
   "outputs": [
    {
     "name": "stdout",
     "output_type": "stream",
     "text": [
      "All possible combinations: [(1, 'a'), (1, 'b'), (1, 'c'), (2, 'a'), (2, 'b'), (2, 'c'), (3, 'a'), (3, 'b'), (3, 'c')]\n"
     ]
    }
   ],
   "source": [
    "# Example lists\n",
    "list1 = [1, 2, 3]\n",
    "list2 = ['a', 'b', 'c']\n",
    "\n",
    "# Generate all possible combinations using list comprehension\n",
    "combinations = [(x, y) for x in list1 for y in list2]\n",
    "\n",
    "# Output the result\n",
    "print(\"All possible combinations:\", combinations)\n"
   ]
  },
  {
   "cell_type": "code",
   "execution_count": null,
   "id": "f23ae2c2-b0e6-4a09-8227-fe1e4fba709b",
   "metadata": {},
   "outputs": [],
   "source": [
    "# 34. Write a program that calculates the mean, median, and mode of a list of numbers using list comprehension. "
   ]
  },
  {
   "cell_type": "code",
   "execution_count": 102,
   "id": "bc526c8c-69e5-4dcb-91c4-e91bead29719",
   "metadata": {},
   "outputs": [
    {
     "name": "stdout",
     "output_type": "stream",
     "text": [
      "Mean: 3.6666666666666665\n",
      "Median: 4\n",
      "Mode: [5]\n"
     ]
    }
   ],
   "source": [
    "from collections import Counter\n",
    "\n",
    "def calculate_statistics(numbers):\n",
    "    # Calculate the mean using list comprehension\n",
    "    mean = sum(numbers) / len(numbers) if numbers else 0\n",
    "\n",
    "    # Calculate the median\n",
    "    sorted_numbers = sorted(numbers)\n",
    "    n = len(sorted_numbers)\n",
    "    median = (sorted_numbers[n // 2] if n % 2 != 0 else \n",
    "              (sorted_numbers[n // 2 - 1] + sorted_numbers[n // 2]) / 2) if numbers else 0\n",
    "\n",
    "    # Calculate the mode using the Counter class and list comprehension\n",
    "    count = Counter(numbers)\n",
    "    max_count = max(count.values(), default=0)\n",
    "    mode = [key for key, value in count.items() if value == max_count]\n",
    "\n",
    "    return mean, median, mode\n",
    "\n",
    "# Example list of numbers\n",
    "numbers = [1, 2, 2, 3, 4, 5, 5, 5, 6]\n",
    "\n",
    "# Calculate mean, median, and mode\n",
    "mean, median, mode = calculate_statistics(numbers)\n",
    "\n",
    "# Output the results\n",
    "print(f\"Mean: {mean}\")\n",
    "print(f\"Median: {median}\")\n",
    "print(f\"Mode: {mode}\")\n"
   ]
  },
  {
   "cell_type": "code",
   "execution_count": null,
   "id": "5f8c1748-8f96-402f-b1fa-f28c5a05878c",
   "metadata": {},
   "outputs": [],
   "source": [
    "#35. Create a program that generates Pascal's triangle up to a specified number of rows using list comprehension."
   ]
  },
  {
   "cell_type": "code",
   "execution_count": 104,
   "id": "37aed18a-41dc-41c5-9307-397109c3e04d",
   "metadata": {},
   "outputs": [
    {
     "name": "stdin",
     "output_type": "stream",
     "text": [
      "Enter the number of rows for Pascal's Triangle:  10\n"
     ]
    },
    {
     "name": "stdout",
     "output_type": "stream",
     "text": [
      "[1]\n",
      "[1, 1]\n",
      "[1, 2, 1]\n",
      "[1, 3, 3, 1]\n",
      "[1, 4, 6, 4, 1]\n",
      "[1, 5, 10, 10, 5, 1]\n",
      "[1, 6, 15, 20, 15, 6, 1]\n",
      "[1, 7, 21, 35, 35, 21, 7, 1]\n",
      "[1, 8, 28, 56, 70, 56, 28, 8, 1]\n",
      "[1, 9, 36, 84, 126, 126, 84, 36, 9, 1]\n"
     ]
    }
   ],
   "source": [
    "def generate_pascals_triangle(rows):\n",
    "    # Initialize the triangle with the first row as [1]\n",
    "    triangle = [[1]]\n",
    "\n",
    "    # Generate the remaining rows\n",
    "    for i in range(1, rows):\n",
    "        # Create a new row with list comprehension\n",
    "        new_row = [1] + [triangle[i-1][j] + triangle[i-1][j+1] for j in range(len(triangle[i-1]) - 1)] + [1]\n",
    "        triangle.append(new_row)\n",
    "\n",
    "    return triangle\n",
    "\n",
    "# Input: Take the number of rows from the user\n",
    "rows = int(input(\"Enter the number of rows for Pascal's Triangle: \"))\n",
    "\n",
    "# Generate Pascal's Triangle\n",
    "pascals_triangle = generate_pascals_triangle(rows)\n",
    "\n",
    "# Output: Print the generated Pascal's Triangle\n",
    "for row in pascals_triangle:\n",
    "    print(row)"
   ]
  },
  {
   "cell_type": "code",
   "execution_count": null,
   "id": "0e356b70-5343-45ce-9590-eb79995197e7",
   "metadata": {},
   "outputs": [],
   "source": [
    "# 36. Develop a program that calculates the sum of the digits of a factorial of numbers from 1 to 5 using list comprehension."
   ]
  },
  {
   "cell_type": "code",
   "execution_count": 105,
   "id": "fd46bcd0-ed90-4a20-904b-57a499c1d8e9",
   "metadata": {},
   "outputs": [
    {
     "name": "stdout",
     "output_type": "stream",
     "text": [
      "Sum of digits of 1! is: 1\n",
      "Sum of digits of 2! is: 2\n",
      "Sum of digits of 3! is: 6\n",
      "Sum of digits of 4! is: 6\n",
      "Sum of digits of 5! is: 3\n"
     ]
    }
   ],
   "source": [
    "import math\n",
    "\n",
    "# Calculate the sum of digits of the factorial for numbers from 1 to 5 using list comprehension\n",
    "sum_of_digits = [sum(int(digit) for digit in str(math.factorial(i))) for i in range(1, 6)]\n",
    "\n",
    "# Output the result\n",
    "for i, sum_digits in enumerate(sum_of_digits, 1):\n",
    "    print(f\"Sum of digits of {i}! is: {sum_digits}\")\n"
   ]
  },
  {
   "cell_type": "code",
   "execution_count": null,
   "id": "c5398778-ea74-431f-8a0c-88741237de4b",
   "metadata": {},
   "outputs": [],
   "source": [
    " #37. Write a program that finds the longest word in a sentence using list comprehension."
   ]
  },
  {
   "cell_type": "code",
   "execution_count": 107,
   "id": "c6e242f7-907a-4346-9779-a57aa39693fd",
   "metadata": {},
   "outputs": [
    {
     "name": "stdin",
     "output_type": "stream",
     "text": [
      "Enter a sentence:  the, sound, bottel, is\n"
     ]
    },
    {
     "name": "stdout",
     "output_type": "stream",
     "text": [
      "The longest word is: bottel,\n"
     ]
    }
   ],
   "source": [
    "def find_longest_word(sentence):\n",
    "    # Split the sentence into words and find the longest word using list comprehension\n",
    "    words = sentence.split()\n",
    "    longest_word = max(words, key=lambda word: len(word))\n",
    "    return longest_word\n",
    "\n",
    "# Input: Take a sentence from the user\n",
    "sentence = input(\"Enter a sentence: \")\n",
    "\n",
    "# Find and output the longest word\n",
    "longest_word = find_longest_word(sentence)\n",
    "print(f\"The longest word is: {longest_word}\")\n"
   ]
  },
  {
   "cell_type": "code",
   "execution_count": null,
   "id": "c38ecceb-035c-4ce9-80e8-c8b04552ff74",
   "metadata": {},
   "outputs": [],
   "source": [
    "# 38. Create a program that filters a list of strings to include only those with more than three vowels using list comprehension."
   ]
  },
  {
   "cell_type": "code",
   "execution_count": 111,
   "id": "88f704fa-13ce-463a-87c4-d8f78b5bc9ce",
   "metadata": {},
   "outputs": [
    {
     "name": "stdin",
     "output_type": "stream",
     "text": [
      "Enter a list of strings (comma-separated):  apple, education, sky, beautiful, element\n"
     ]
    },
    {
     "name": "stdout",
     "output_type": "stream",
     "text": [
      "Strings with more than three vowels: ['education', 'beautiful']\n"
     ]
    }
   ],
   "source": [
    "def count_vowels(word):\n",
    "    vowels = \"aeiouAEIOU\"  # List of vowels (including uppercase)\n",
    "    return sum(1 for char in word if char in vowels)  # Count vowels in the word\n",
    "\n",
    "def filter_strings_with_vowels(strings):\n",
    "    # Filter the strings that have more than 3 vowels using list comprehension\n",
    "    return [word for word in strings if count_vowels(word) > 3]\n",
    "\n",
    "# Input: Take a list of strings from the user\n",
    "strings = input(\"Enter a list of strings (comma-separated): \").split(',')\n",
    "\n",
    "# Remove leading and trailing spaces from each string\n",
    "strings = [s.strip() for s in strings]\n",
    "\n",
    "# Get the filtered list of strings\n",
    "filtered_strings = filter_strings_with_vowels(strings)\n",
    "\n",
    "# Output the result\n",
    "print(\"Strings with more than three vowels:\", filtered_strings)\n"
   ]
  },
  {
   "cell_type": "code",
   "execution_count": null,
   "id": "f1e8b8ad-a4d1-48cc-9062-936f6502d1a3",
   "metadata": {},
   "outputs": [],
   "source": [
    "#39. Develop a program that calculates the sum of the digits of numbers from 1 to 1000 using list comprehension."
   ]
  },
  {
   "cell_type": "code",
   "execution_count": 98,
   "id": "ca1449ef-0619-4394-bb85-3da6527df133",
   "metadata": {},
   "outputs": [
    {
     "name": "stdout",
     "output_type": "stream",
     "text": [
      "[1, 2, 3, 4, 5, 6, 7, 8, 9, 1, 2, 3, 4, 5, 6, 7, 8, 9, 10, 2, 3, 4, 5, 6, 7, 8, 9, 10, 11, 3, 4, 5, 6, 7, 8, 9, 10, 11, 12, 4, 5, 6, 7, 8, 9, 10, 11, 12, 13, 5, 6, 7, 8, 9, 10, 11, 12, 13, 14, 6, 7, 8, 9, 10, 11, 12, 13, 14, 15, 7, 8, 9, 10, 11, 12, 13, 14, 15, 16, 8, 9, 10, 11, 12, 13, 14, 15, 16, 17, 9, 10, 11, 12, 13, 14, 15, 16, 17, 18, 1, 2, 3, 4, 5, 6, 7, 8, 9, 10, 2, 3, 4, 5, 6, 7, 8, 9, 10, 11, 3, 4, 5, 6, 7, 8, 9, 10, 11, 12, 4, 5, 6, 7, 8, 9, 10, 11, 12, 13, 5, 6, 7, 8, 9, 10, 11, 12, 13, 14, 6, 7, 8, 9, 10, 11, 12, 13, 14, 15, 7, 8, 9, 10, 11, 12, 13, 14, 15, 16, 8, 9, 10, 11, 12, 13, 14, 15, 16, 17, 9, 10, 11, 12, 13, 14, 15, 16, 17, 18, 10, 11, 12, 13, 14, 15, 16, 17, 18, 19, 2, 3, 4, 5, 6, 7, 8, 9, 10, 11, 3, 4, 5, 6, 7, 8, 9, 10, 11, 12, 4, 5, 6, 7, 8, 9, 10, 11, 12, 13, 5, 6, 7, 8, 9, 10, 11, 12, 13, 14, 6, 7, 8, 9, 10, 11, 12, 13, 14, 15, 7, 8, 9, 10, 11, 12, 13, 14, 15, 16, 8, 9, 10, 11, 12, 13, 14, 15, 16, 17, 9, 10, 11, 12, 13, 14, 15, 16, 17, 18, 10, 11, 12, 13, 14, 15, 16, 17, 18, 19, 11, 12, 13, 14, 15, 16, 17, 18, 19, 20, 3, 4, 5, 6, 7, 8, 9, 10, 11, 12, 4, 5, 6, 7, 8, 9, 10, 11, 12, 13, 5, 6, 7, 8, 9, 10, 11, 12, 13, 14, 6, 7, 8, 9, 10, 11, 12, 13, 14, 15, 7, 8, 9, 10, 11, 12, 13, 14, 15, 16, 8, 9, 10, 11, 12, 13, 14, 15, 16, 17, 9, 10, 11, 12, 13, 14, 15, 16, 17, 18, 10, 11, 12, 13, 14, 15, 16, 17, 18, 19, 11, 12, 13, 14, 15, 16, 17, 18, 19, 20, 12, 13, 14, 15, 16, 17, 18, 19, 20, 21, 4, 5, 6, 7, 8, 9, 10, 11, 12, 13, 5, 6, 7, 8, 9, 10, 11, 12, 13, 14, 6, 7, 8, 9, 10, 11, 12, 13, 14, 15, 7, 8, 9, 10, 11, 12, 13, 14, 15, 16, 8, 9, 10, 11, 12, 13, 14, 15, 16, 17, 9, 10, 11, 12, 13, 14, 15, 16, 17, 18, 10, 11, 12, 13, 14, 15, 16, 17, 18, 19, 11, 12, 13, 14, 15, 16, 17, 18, 19, 20, 12, 13, 14, 15, 16, 17, 18, 19, 20, 21, 13, 14, 15, 16, 17, 18, 19, 20, 21, 22, 5, 6, 7, 8, 9, 10, 11, 12, 13, 14, 6, 7, 8, 9, 10, 11, 12, 13, 14, 15, 7, 8, 9, 10, 11, 12, 13, 14, 15, 16, 8, 9, 10, 11, 12, 13, 14, 15, 16, 17, 9, 10, 11, 12, 13, 14, 15, 16, 17, 18, 10, 11, 12, 13, 14, 15, 16, 17, 18, 19, 11, 12, 13, 14, 15, 16, 17, 18, 19, 20, 12, 13, 14, 15, 16, 17, 18, 19, 20, 21, 13, 14, 15, 16, 17, 18, 19, 20, 21, 22, 14, 15, 16, 17, 18, 19, 20, 21, 22, 23, 6, 7, 8, 9, 10, 11, 12, 13, 14, 15, 7, 8, 9, 10, 11, 12, 13, 14, 15, 16, 8, 9, 10, 11, 12, 13, 14, 15, 16, 17, 9, 10, 11, 12, 13, 14, 15, 16, 17, 18, 10, 11, 12, 13, 14, 15, 16, 17, 18, 19, 11, 12, 13, 14, 15, 16, 17, 18, 19, 20, 12, 13, 14, 15, 16, 17, 18, 19, 20, 21, 13, 14, 15, 16, 17, 18, 19, 20, 21, 22, 14, 15, 16, 17, 18, 19, 20, 21, 22, 23, 15, 16, 17, 18, 19, 20, 21, 22, 23, 24, 7, 8, 9, 10, 11, 12, 13, 14, 15, 16, 8, 9, 10, 11, 12, 13, 14, 15, 16, 17, 9, 10, 11, 12, 13, 14, 15, 16, 17, 18, 10, 11, 12, 13, 14, 15, 16, 17, 18, 19, 11, 12, 13, 14, 15, 16, 17, 18, 19, 20, 12, 13, 14, 15, 16, 17, 18, 19, 20, 21, 13, 14, 15, 16, 17, 18, 19, 20, 21, 22, 14, 15, 16, 17, 18, 19, 20, 21, 22, 23, 15, 16, 17, 18, 19, 20, 21, 22, 23, 24, 16, 17, 18, 19, 20, 21, 22, 23, 24, 25, 8, 9, 10, 11, 12, 13, 14, 15, 16, 17, 9, 10, 11, 12, 13, 14, 15, 16, 17, 18, 10, 11, 12, 13, 14, 15, 16, 17, 18, 19, 11, 12, 13, 14, 15, 16, 17, 18, 19, 20, 12, 13, 14, 15, 16, 17, 18, 19, 20, 21, 13, 14, 15, 16, 17, 18, 19, 20, 21, 22, 14, 15, 16, 17, 18, 19, 20, 21, 22, 23, 15, 16, 17, 18, 19, 20, 21, 22, 23, 24, 16, 17, 18, 19, 20, 21, 22, 23, 24, 25, 17, 18, 19, 20, 21, 22, 23, 24, 25, 26, 9, 10, 11, 12, 13, 14, 15, 16, 17, 18, 10, 11, 12, 13, 14, 15, 16, 17, 18, 19, 11, 12, 13, 14, 15, 16, 17, 18, 19, 20, 12, 13, 14, 15, 16, 17, 18, 19, 20, 21, 13, 14, 15, 16, 17, 18, 19, 20, 21, 22, 14, 15, 16, 17, 18, 19, 20, 21, 22, 23, 15, 16, 17, 18, 19, 20, 21, 22, 23, 24, 16, 17, 18, 19, 20, 21, 22, 23, 24, 25, 17, 18, 19, 20, 21, 22, 23, 24, 25, 26, 18, 19, 20, 21, 22, 23, 24, 25, 26, 27] "
     ]
    }
   ],
   "source": [
    "\n",
    "sum_lst = list(map(lambda ele: sum(int(sub) for sub in str(ele)), range(1,1000)))\n",
    "print(sum_lst, end = \" \")"
   ]
  },
  {
   "cell_type": "code",
   "execution_count": null,
   "id": "0bc3d086-7e9d-4d1c-988f-3b86d80a992c",
   "metadata": {},
   "outputs": [],
   "source": [
    " #40. Write a program that generates a list of prime palindromic numbers using list comprehension."
   ]
  },
  {
   "cell_type": "code",
   "execution_count": 112,
   "id": "ea568187-1815-44ba-817a-b0d23328964f",
   "metadata": {},
   "outputs": [
    {
     "name": "stdin",
     "output_type": "stream",
     "text": [
      "Enter the upper limit:  10\n"
     ]
    },
    {
     "name": "stdout",
     "output_type": "stream",
     "text": [
      "Prime palindromic numbers up to 10 : [2, 3, 5, 7]\n"
     ]
    }
   ],
   "source": [
    "def is_prime(num):\n",
    "    \"\"\"Check if a number is prime.\"\"\"\n",
    "    if num < 2:\n",
    "        return False\n",
    "    for i in range(2, int(num**0.5) + 1):\n",
    "        if num % i == 0:\n",
    "            return False\n",
    "    return True\n",
    "\n",
    "def is_palindrome(num):\n",
    "    \"\"\"Check if a number is a palindrome.\"\"\"\n",
    "    return str(num) == str(num)[::-1]\n",
    "\n",
    "def prime_palindromes(limit):\n",
    "    \"\"\"Generate a list of prime palindromic numbers up to the given limit.\"\"\"\n",
    "    return [num for num in range(2, limit) if is_prime(num) and is_palindrome(num)]\n",
    "\n",
    "# Input: Take the limit from the user\n",
    "limit = int(input(\"Enter the upper limit: \"))\n",
    "\n",
    "# Generate the list of prime palindromic numbers\n",
    "prime_palindromic_numbers = prime_palindromes(limit)\n",
    "\n",
    "# Output the result\n",
    "print(\"Prime palindromic numbers up to\", limit, \":\", prime_palindromic_numbers)\n"
   ]
  },
  {
   "cell_type": "code",
   "execution_count": null,
   "id": "daefb53b-772b-4cc8-935f-6accd39d5077",
   "metadata": {},
   "outputs": [],
   "source": []
  },
  {
   "cell_type": "code",
   "execution_count": null,
   "id": "6a8a9843-fb69-4f69-aaa2-a866937be2bc",
   "metadata": {},
   "outputs": [],
   "source": []
  },
  {
   "cell_type": "code",
   "execution_count": null,
   "id": "724c411f-cee3-4f4f-8975-387e104dd759",
   "metadata": {},
   "outputs": [],
   "source": []
  },
  {
   "cell_type": "code",
   "execution_count": null,
   "id": "2019ac93-0286-4ff5-8df6-3957db068b08",
   "metadata": {},
   "outputs": [],
   "source": []
  }
 ],
 "metadata": {
  "kernelspec": {
   "display_name": "Python 3 (ipykernel)",
   "language": "python",
   "name": "python3"
  },
  "language_info": {
   "codemirror_mode": {
    "name": "ipython",
    "version": 3
   },
   "file_extension": ".py",
   "mimetype": "text/x-python",
   "name": "python",
   "nbconvert_exporter": "python",
   "pygments_lexer": "ipython3",
   "version": "3.13.0"
  }
 },
 "nbformat": 4,
 "nbformat_minor": 5
}
